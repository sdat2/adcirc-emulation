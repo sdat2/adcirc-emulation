{
 "cells": [
  {
   "cell_type": "markdown",
   "id": "eade56a4",
   "metadata": {
    "ExecuteTime": {
     "end_time": "2022-12-01T10:49:32.132560Z",
     "start_time": "2022-12-01T10:49:32.022267Z"
    }
   },
   "source": [
    "# Trieste"
   ]
  },
  {
   "cell_type": "code",
   "execution_count": 1,
   "id": "a293bff9",
   "metadata": {
    "ExecuteTime": {
     "end_time": "2023-06-25T13:35:17.772354Z",
     "start_time": "2023-06-25T13:35:17.727226Z"
    }
   },
   "outputs": [],
   "source": [
    "# Convenient jupyter setup\n",
    "%load_ext autoreload\n",
    "%autoreload 2\n",
    "%config IPCompleter.greedy=True"
   ]
  },
  {
   "cell_type": "code",
   "execution_count": 2,
   "id": "c6a88c60",
   "metadata": {
    "ExecuteTime": {
     "end_time": "2023-06-25T13:35:20.818386Z",
     "start_time": "2023-06-25T13:35:18.679502Z"
    }
   },
   "outputs": [],
   "source": [
    "import os\n",
    "from omegaconf import OmegaConf\n",
    "from src.constants import CONFIG_PATH\n",
    "from sithom.plot import plot_defaults\n",
    "plot_defaults()"
   ]
  },
  {
   "cell_type": "code",
   "execution_count": null,
   "id": "dab48183",
   "metadata": {
    "ExecuteTime": {
     "start_time": "2023-06-25T13:35:21.657Z"
    }
   },
   "outputs": [],
   "source": [
    "from trieste.objectives import Branin, mk_observer\n",
    "observer = mk_observer(Branin.objective)\n",
    "initial_query_points = Branin.search_space.sample(5)\n",
    "initial_data = observer(initial_query_points)"
   ]
  },
  {
   "cell_type": "code",
   "execution_count": null,
   "id": "a8f98f66",
   "metadata": {},
   "outputs": [],
   "source": [
    "print(\"Ok\")"
   ]
  },
  {
   "cell_type": "code",
   "execution_count": null,
   "id": "ba8922d6",
   "metadata": {
    "ExecuteTime": {
     "start_time": "2023-06-25T13:35:40.626Z"
    }
   },
   "outputs": [],
   "source": [
    "import trieste\n"
   ]
  },
  {
   "cell_type": "code",
   "execution_count": null,
   "id": "9ef1291f",
   "metadata": {
    "ExecuteTime": {
     "start_time": "2023-06-25T13:37:00.602Z"
    }
   },
   "outputs": [],
   "source": [
    "import tensorflow as tf"
   ]
  },
  {
   "cell_type": "code",
   "execution_count": null,
   "id": "ed7b7a9b",
   "metadata": {},
   "outputs": [],
   "source": []
  }
 ],
 "metadata": {
  "hide_input": false,
  "kernelspec": {
   "display_name": "Python 3 (ipykernel)",
   "language": "python",
   "name": "python3"
  },
  "language_info": {
   "codemirror_mode": {
    "name": "ipython",
    "version": 3
   },
   "file_extension": ".py",
   "mimetype": "text/x-python",
   "name": "python",
   "nbconvert_exporter": "python",
   "pygments_lexer": "ipython3",
   "version": "3.9.16"
  },
  "varInspector": {
   "cols": {
    "lenName": 16,
    "lenType": 16,
    "lenVar": 40
   },
   "kernels_config": {
    "python": {
     "delete_cmd_postfix": "",
     "delete_cmd_prefix": "del ",
     "library": "var_list.py",
     "varRefreshCmd": "print(var_dic_list())"
    },
    "r": {
     "delete_cmd_postfix": ") ",
     "delete_cmd_prefix": "rm(",
     "library": "var_list.r",
     "varRefreshCmd": "cat(var_dic_list()) "
    }
   },
   "types_to_exclude": [
    "module",
    "function",
    "builtin_function_or_method",
    "instance",
    "_Feature"
   ],
   "window_display": false
  }
 },
 "nbformat": 4,
 "nbformat_minor": 5
}
