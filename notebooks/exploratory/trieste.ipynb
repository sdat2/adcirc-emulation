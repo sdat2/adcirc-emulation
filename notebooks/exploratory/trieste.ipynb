{
 "cells": [
  {
   "attachments": {},
   "cell_type": "markdown",
   "id": "eade56a4",
   "metadata": {
    "ExecuteTime": {
     "end_time": "2022-12-01T10:49:32.132560Z",
     "start_time": "2022-12-01T10:49:32.022267Z"
    }
   },
   "source": [
    "# Trieste"
   ]
  },
  {
   "cell_type": "code",
   "execution_count": 1,
   "id": "a293bff9",
   "metadata": {
    "ExecuteTime": {
     "end_time": "2023-06-25T13:35:17.772354Z",
     "start_time": "2023-06-25T13:35:17.727226Z"
    }
   },
   "outputs": [],
   "source": [
    "# Convenient jupyter setup\n",
    "%load_ext autoreload\n",
    "%autoreload 2\n",
    "%config IPCompleter.greedy=True"
   ]
  },
  {
   "cell_type": "code",
   "execution_count": 2,
   "id": "c6a88c60",
   "metadata": {
    "ExecuteTime": {
     "end_time": "2023-06-25T13:35:20.818386Z",
     "start_time": "2023-06-25T13:35:18.679502Z"
    }
   },
   "outputs": [],
   "source": [
    "import os\n",
    "from omegaconf import OmegaConf\n",
    "from src.constants import CONFIG_PATH\n",
    "from sithom.plot import plot_defaults\n",
    "plot_defaults()"
   ]
  },
  {
   "attachments": {},
   "cell_type": "markdown",
   "id": "ccc4e6c6",
   "metadata": {},
   "source": [
    "## Is tensorflow working?"
   ]
  },
  {
   "cell_type": "code",
   "execution_count": 3,
   "id": "8d67e98c",
   "metadata": {},
   "outputs": [
    {
     "name": "stderr",
     "output_type": "stream",
     "text": [
      "2023-06-26 13:53:29.417573: I tensorflow/core/platform/cpu_feature_guard.cc:193] This TensorFlow binary is optimized with oneAPI Deep Neural Network Library (oneDNN) to use the following CPU instructions in performance-critical operations:  SSE4.1 SSE4.2 AVX AVX2 FMA\n",
      "To enable them in other operations, rebuild TensorFlow with the appropriate compiler flags.\n"
     ]
    },
    {
     "name": "stdout",
     "output_type": "stream",
     "text": [
      "TensorFlow version: 2.11.1\n"
     ]
    }
   ],
   "source": [
    "import tensorflow as tf\n",
    "print(\"TensorFlow version:\", tf.__version__)"
   ]
  },
  {
   "cell_type": "code",
   "execution_count": 4,
   "id": "50ccbcc0",
   "metadata": {},
   "outputs": [
    {
     "name": "stdout",
     "output_type": "stream",
     "text": [
      "Downloading data from https://storage.googleapis.com/tensorflow/tf-keras-datasets/mnist.npz\n",
      "11490434/11490434 [==============================] - 1s 0us/step\n"
     ]
    }
   ],
   "source": [
    "mnist = tf.keras.datasets.mnist\n",
    "\n",
    "(x_train, y_train), (x_test, y_test) = mnist.load_data()\n",
    "x_train, x_test = x_train / 255.0, x_test / 255.0"
   ]
  },
  {
   "cell_type": "code",
   "execution_count": 5,
   "id": "3adbaea6",
   "metadata": {},
   "outputs": [
    {
     "name": "stderr",
     "output_type": "stream",
     "text": [
      "2023-06-26 13:54:00.291513: I tensorflow/core/platform/cpu_feature_guard.cc:193] This TensorFlow binary is optimized with oneAPI Deep Neural Network Library (oneDNN) to use the following CPU instructions in performance-critical operations:  SSE4.1 SSE4.2 AVX AVX2 FMA\n",
      "To enable them in other operations, rebuild TensorFlow with the appropriate compiler flags.\n"
     ]
    }
   ],
   "source": [
    "model = tf.keras.models.Sequential([\n",
    "  tf.keras.layers.Flatten(input_shape=(28, 28)),\n",
    "  tf.keras.layers.Dense(128, activation='relu'),\n",
    "  tf.keras.layers.Dropout(0.2),\n",
    "  tf.keras.layers.Dense(10)\n",
    "])"
   ]
  },
  {
   "cell_type": "code",
   "execution_count": 6,
   "id": "4c1357fd",
   "metadata": {},
   "outputs": [
    {
     "data": {
      "text/plain": [
       "array([[-0.73798996,  0.22071701,  0.02221102, -0.45886058,  0.56066203,\n",
       "        -0.13482471, -0.3572015 ,  0.5459094 ,  0.91837835,  0.04039938]],\n",
       "      dtype=float32)"
      ]
     },
     "execution_count": 6,
     "metadata": {},
     "output_type": "execute_result"
    }
   ],
   "source": [
    "predictions = model(x_train[:1]).numpy()\n",
    "predictions"
   ]
  },
  {
   "cell_type": "code",
   "execution_count": 7,
   "id": "9169d9c7",
   "metadata": {},
   "outputs": [
    {
     "data": {
      "text/plain": [
       "array([[0.03991444, 0.1041097 , 0.08536524, 0.05276602, 0.14626062,\n",
       "        0.07295942, 0.05841231, 0.14411873, 0.20916145, 0.08693211]],\n",
       "      dtype=float32)"
      ]
     },
     "execution_count": 7,
     "metadata": {},
     "output_type": "execute_result"
    }
   ],
   "source": [
    "tf.nn.softmax(predictions).numpy()\n"
   ]
  },
  {
   "cell_type": "code",
   "execution_count": 9,
   "id": "a3bf02aa",
   "metadata": {},
   "outputs": [],
   "source": [
    "loss_fn = tf.keras.losses.SparseCategoricalCrossentropy(from_logits=True)\n"
   ]
  },
  {
   "cell_type": "code",
   "execution_count": 10,
   "id": "4ea81b7c",
   "metadata": {},
   "outputs": [
    {
     "data": {
      "text/plain": [
       "2.617852"
      ]
     },
     "execution_count": 10,
     "metadata": {},
     "output_type": "execute_result"
    }
   ],
   "source": [
    "loss_fn(y_train[:1], predictions).numpy()\n"
   ]
  },
  {
   "cell_type": "code",
   "execution_count": 11,
   "id": "7dff36ad",
   "metadata": {},
   "outputs": [],
   "source": [
    "model.compile(optimizer='adam',\n",
    "              loss=loss_fn,\n",
    "              metrics=['accuracy'])"
   ]
  },
  {
   "cell_type": "code",
   "execution_count": 12,
   "id": "1f560478",
   "metadata": {},
   "outputs": [
    {
     "name": "stdout",
     "output_type": "stream",
     "text": [
      "Epoch 1/5\n",
      "1875/1875 [==============================] - 3s 1ms/step - loss: 0.3030 - accuracy: 0.9117\n",
      "Epoch 2/5\n",
      "1875/1875 [==============================] - 2s 1ms/step - loss: 0.1469 - accuracy: 0.9563\n",
      "Epoch 3/5\n",
      "1875/1875 [==============================] - 2s 1ms/step - loss: 0.1105 - accuracy: 0.9666\n",
      "Epoch 4/5\n",
      "1875/1875 [==============================] - 2s 1ms/step - loss: 0.0919 - accuracy: 0.9717\n",
      "Epoch 5/5\n",
      "1875/1875 [==============================] - 2s 1ms/step - loss: 0.0777 - accuracy: 0.9760\n"
     ]
    },
    {
     "data": {
      "text/plain": [
       "<keras.callbacks.History at 0x7fc08e17e3a0>"
      ]
     },
     "execution_count": 12,
     "metadata": {},
     "output_type": "execute_result"
    }
   ],
   "source": [
    "model.fit(x_train, y_train, epochs=5)"
   ]
  },
  {
   "cell_type": "code",
   "execution_count": 13,
   "id": "a85f3581",
   "metadata": {},
   "outputs": [
    {
     "name": "stdout",
     "output_type": "stream",
     "text": [
      "313/313 - 0s - loss: 0.0796 - accuracy: 0.9766 - 288ms/epoch - 920us/step\n"
     ]
    },
    {
     "data": {
      "text/plain": [
       "[0.07959438115358353, 0.9765999913215637]"
      ]
     },
     "execution_count": 13,
     "metadata": {},
     "output_type": "execute_result"
    }
   ],
   "source": [
    "model.evaluate(x_test,  y_test, verbose=2)"
   ]
  },
  {
   "cell_type": "code",
   "execution_count": 14,
   "id": "f85758a7",
   "metadata": {},
   "outputs": [],
   "source": [
    "probability_model = tf.keras.Sequential([\n",
    "  model,\n",
    "  tf.keras.layers.Softmax()\n",
    "])"
   ]
  },
  {
   "cell_type": "code",
   "execution_count": 15,
   "id": "3de28628",
   "metadata": {},
   "outputs": [
    {
     "data": {
      "text/plain": [
       "<tf.Tensor: shape=(5, 10), dtype=float32, numpy=\n",
       "array([[1.2334969e-07, 2.5109698e-10, 3.2966866e-05, 4.8035403e-05,\n",
       "        4.5576446e-12, 9.8782618e-07, 3.1706591e-14, 9.9990535e-01,\n",
       "        1.1319307e-06, 1.1420937e-05],\n",
       "       [4.4968279e-10, 3.6090656e-05, 9.9995553e-01, 5.9935701e-07,\n",
       "        6.1455048e-15, 4.8618044e-06, 7.8038971e-07, 7.1551465e-15,\n",
       "        1.9968757e-06, 6.1463170e-14],\n",
       "       [4.5567287e-08, 9.9900275e-01, 3.4027611e-04, 2.5465529e-06,\n",
       "        4.3112774e-05, 1.5258771e-05, 2.3079005e-05, 4.3566659e-04,\n",
       "        1.3673786e-04, 5.4023110e-07],\n",
       "       [9.9993801e-01, 2.3734875e-10, 9.2425662e-06, 1.9217261e-08,\n",
       "        7.8068565e-09, 4.3139264e-07, 5.1303465e-05, 4.7506896e-07,\n",
       "        1.4495763e-09, 5.2287498e-07],\n",
       "       [2.3489240e-06, 4.8111615e-11, 4.9797050e-06, 1.6807194e-07,\n",
       "        9.9884319e-01, 3.3102603e-07, 1.3200348e-07, 2.4360146e-05,\n",
       "        4.9283381e-07, 1.1239263e-03]], dtype=float32)>"
      ]
     },
     "execution_count": 15,
     "metadata": {},
     "output_type": "execute_result"
    }
   ],
   "source": [
    "probability_model(x_test[:5])"
   ]
  },
  {
   "attachments": {},
   "cell_type": "markdown",
   "id": "44197725",
   "metadata": {},
   "source": [
    "## Now try trieste"
   ]
  },
  {
   "cell_type": "code",
   "execution_count": null,
   "id": "66f9e7c7",
   "metadata": {},
   "outputs": [],
   "source": [
    "import trieste\n",
    "print(\"Trieste version:\" )"
   ]
  },
  {
   "cell_type": "code",
   "execution_count": 18,
   "id": "dab48183",
   "metadata": {
    "ExecuteTime": {
     "start_time": "2023-06-25T13:35:21.657Z"
    }
   },
   "outputs": [],
   "source": [
    "import numpy as np\n",
    "import tensorflow as tf\n",
    "\n",
    "np.random.seed(1793)\n",
    "tf.random.set_seed(1793)"
   ]
  },
  {
   "cell_type": "code",
   "execution_count": 21,
   "id": "962aa731",
   "metadata": {},
   "outputs": [
    {
     "ename": "ValueError",
     "evalue": "Index data must be 1-dimensional",
     "output_type": "error",
     "traceback": [
      "\u001b[0;31m---------------------------------------------------------------------------\u001b[0m",
      "\u001b[0;31mValueError\u001b[0m                                Traceback (most recent call last)",
      "File \u001b[0;32m/mnt/lustre/a2fs-work1/work/n01/n01/sithom/new-orleans/trieste/lib/python3.9/site-packages/pandas/core/indexes/base.py:551\u001b[0m, in \u001b[0;36mIndex.__new__\u001b[0;34m(cls, data, dtype, copy, name, tupleize_cols)\u001b[0m\n\u001b[1;32m    550\u001b[0m \u001b[39mtry\u001b[39;00m:\n\u001b[0;32m--> 551\u001b[0m     arr \u001b[39m=\u001b[39m sanitize_array(data, \u001b[39mNone\u001b[39;49;00m, dtype\u001b[39m=\u001b[39;49mdtype, copy\u001b[39m=\u001b[39;49mcopy)\n\u001b[1;32m    552\u001b[0m \u001b[39mexcept\u001b[39;00m \u001b[39mValueError\u001b[39;00m \u001b[39mas\u001b[39;00m err:\n",
      "File \u001b[0;32m/mnt/lustre/a2fs-work1/work/n01/n01/sithom/new-orleans/trieste/lib/python3.9/site-packages/pandas/core/construction.py:607\u001b[0m, in \u001b[0;36msanitize_array\u001b[0;34m(data, index, dtype, copy, allow_2d)\u001b[0m\n\u001b[1;32m    605\u001b[0m             subarr \u001b[39m=\u001b[39m maybe_infer_to_datetimelike(subarr)\n\u001b[0;32m--> 607\u001b[0m subarr \u001b[39m=\u001b[39m _sanitize_ndim(subarr, data, dtype, index, allow_2d\u001b[39m=\u001b[39;49mallow_2d)\n\u001b[1;32m    609\u001b[0m \u001b[39mif\u001b[39;00m \u001b[39misinstance\u001b[39m(subarr, np\u001b[39m.\u001b[39mndarray):\n\u001b[1;32m    610\u001b[0m     \u001b[39m# at this point we should have dtype be None or subarr.dtype == dtype\u001b[39;00m\n",
      "File \u001b[0;32m/mnt/lustre/a2fs-work1/work/n01/n01/sithom/new-orleans/trieste/lib/python3.9/site-packages/pandas/core/construction.py:666\u001b[0m, in \u001b[0;36m_sanitize_ndim\u001b[0;34m(result, data, dtype, index, allow_2d)\u001b[0m\n\u001b[1;32m    665\u001b[0m         \u001b[39mreturn\u001b[39;00m result\n\u001b[0;32m--> 666\u001b[0m     \u001b[39mraise\u001b[39;00m \u001b[39mValueError\u001b[39;00m(\n\u001b[1;32m    667\u001b[0m         \u001b[39mf\u001b[39m\u001b[39m\"\u001b[39m\u001b[39mData must be 1-dimensional, got ndarray of shape \u001b[39m\u001b[39m{\u001b[39;00mdata\u001b[39m.\u001b[39mshape\u001b[39m}\u001b[39;00m\u001b[39m instead\u001b[39m\u001b[39m\"\u001b[39m\n\u001b[1;32m    668\u001b[0m     )\n\u001b[1;32m    669\u001b[0m \u001b[39mif\u001b[39;00m is_object_dtype(dtype) \u001b[39mand\u001b[39;00m \u001b[39misinstance\u001b[39m(dtype, ExtensionDtype):\n\u001b[1;32m    670\u001b[0m     \u001b[39m# i.e. PandasDtype(\"O\")\u001b[39;00m\n",
      "\u001b[0;31mValueError\u001b[0m: Data must be 1-dimensional, got ndarray of shape (20, 20) instead",
      "\nThe above exception was the direct cause of the following exception:\n",
      "\u001b[0;31mValueError\u001b[0m                                Traceback (most recent call last)",
      "Cell \u001b[0;32mIn[21], line 9\u001b[0m\n\u001b[1;32m      6\u001b[0m search_space \u001b[39m=\u001b[39m ScaledBranin\u001b[39m.\u001b[39msearch_space  \u001b[39m# predefined search space\u001b[39;00m\n\u001b[1;32m      7\u001b[0m search_space \u001b[39m=\u001b[39m Box([\u001b[39m0\u001b[39m, \u001b[39m0\u001b[39m], [\u001b[39m1\u001b[39m, \u001b[39m1\u001b[39m])  \u001b[39m# define the search space directly\u001b[39;00m\n\u001b[0;32m----> 9\u001b[0m fig \u001b[39m=\u001b[39m plot_function_plotly(\n\u001b[1;32m     10\u001b[0m     scaled_branin,\n\u001b[1;32m     11\u001b[0m     search_space\u001b[39m.\u001b[39;49mlower,\n\u001b[1;32m     12\u001b[0m     search_space\u001b[39m.\u001b[39;49mupper,\n\u001b[1;32m     13\u001b[0m     grid_density\u001b[39m=\u001b[39;49m\u001b[39m20\u001b[39;49m,\n\u001b[1;32m     14\u001b[0m )\n\u001b[1;32m     15\u001b[0m fig\u001b[39m.\u001b[39mupdate_layout(height\u001b[39m=\u001b[39m\u001b[39m400\u001b[39m, width\u001b[39m=\u001b[39m\u001b[39m400\u001b[39m)\n\u001b[1;32m     16\u001b[0m fig\u001b[39m.\u001b[39mshow()\n",
      "File \u001b[0;32m/mnt/lustre/a2fs-work1/work/n01/n01/sithom/new-orleans/trieste/lib/python3.9/site-packages/trieste/experimental/plotting/plotting_plotly.py:252\u001b[0m, in \u001b[0;36mplot_function_plotly\u001b[0;34m(obj_func, mins, maxs, grid_density, title, xlabel, ylabel, alpha)\u001b[0m\n\u001b[1;32m    250\u001b[0m \u001b[39mfor\u001b[39;00m k \u001b[39min\u001b[39;00m \u001b[39mrange\u001b[39m(n_output):\n\u001b[1;32m    251\u001b[0m     f \u001b[39m=\u001b[39m F[:, k]\n\u001b[0;32m--> 252\u001b[0m     fig \u001b[39m=\u001b[39m add_surface_plotly(xx, yy, f, fig, alpha\u001b[39m=\u001b[39;49malpha, figrow\u001b[39m=\u001b[39;49m\u001b[39m1\u001b[39;49m, figcol\u001b[39m=\u001b[39;49mk \u001b[39m+\u001b[39;49m \u001b[39m1\u001b[39;49m)\n\u001b[1;32m    253\u001b[0m     fig\u001b[39m.\u001b[39mupdate_xaxes(title_text\u001b[39m=\u001b[39mxlabel, row\u001b[39m=\u001b[39m\u001b[39m1\u001b[39m, col\u001b[39m=\u001b[39mk \u001b[39m+\u001b[39m \u001b[39m1\u001b[39m)\n\u001b[1;32m    254\u001b[0m     fig\u001b[39m.\u001b[39mupdate_yaxes(title_text\u001b[39m=\u001b[39mylabel, row\u001b[39m=\u001b[39m\u001b[39m1\u001b[39m, col\u001b[39m=\u001b[39mk \u001b[39m+\u001b[39m \u001b[39m1\u001b[39m)\n",
      "File \u001b[0;32m/mnt/lustre/a2fs-work1/work/n01/n01/sithom/new-orleans/trieste/lib/python3.9/site-packages/trieste/experimental/plotting/plotting_plotly.py:91\u001b[0m, in \u001b[0;36madd_surface_plotly\u001b[0;34m(xx, yy, f, fig, alpha, figrow, figcol)\u001b[0m\n\u001b[1;32m     69\u001b[0m \u001b[39mdef\u001b[39;00m \u001b[39madd_surface_plotly\u001b[39m(\n\u001b[1;32m     70\u001b[0m     xx: TensorType,\n\u001b[1;32m     71\u001b[0m     yy: TensorType,\n\u001b[0;32m   (...)\u001b[0m\n\u001b[1;32m     76\u001b[0m     figcol: \u001b[39mint\u001b[39m \u001b[39m=\u001b[39m \u001b[39m1\u001b[39m,\n\u001b[1;32m     77\u001b[0m ) \u001b[39m-\u001b[39m\u001b[39m>\u001b[39m go\u001b[39m.\u001b[39mFigure:\n\u001b[1;32m     78\u001b[0m \u001b[39m    \u001b[39m\u001b[39m\"\"\"\u001b[39;00m\n\u001b[1;32m     79\u001b[0m \u001b[39m    Adds a surface to an existing plotly subfigure\u001b[39;00m\n\u001b[1;32m     80\u001b[0m \n\u001b[0;32m   (...)\u001b[0m\n\u001b[1;32m     88\u001b[0m \u001b[39m    :return: updated plotly figure\u001b[39;00m\n\u001b[1;32m     89\u001b[0m \u001b[39m    \"\"\"\u001b[39;00m\n\u001b[0;32m---> 91\u001b[0m     d \u001b[39m=\u001b[39m pd\u001b[39m.\u001b[39;49mDataFrame(f\u001b[39m.\u001b[39;49mreshape([xx\u001b[39m.\u001b[39;49mshape[\u001b[39m0\u001b[39;49m], yy\u001b[39m.\u001b[39;49mshape[\u001b[39m1\u001b[39;49m]]), index\u001b[39m=\u001b[39;49mxx, columns\u001b[39m=\u001b[39;49myy)\n\u001b[1;32m     93\u001b[0m     fig\u001b[39m.\u001b[39madd_trace(\n\u001b[1;32m     94\u001b[0m         go\u001b[39m.\u001b[39mSurface(z\u001b[39m=\u001b[39md, x\u001b[39m=\u001b[39mxx, y\u001b[39m=\u001b[39myy, showscale\u001b[39m=\u001b[39m\u001b[39mFalse\u001b[39;00m, opacity\u001b[39m=\u001b[39malpha, colorscale\u001b[39m=\u001b[39m\u001b[39m\"\u001b[39m\u001b[39mviridis\u001b[39m\u001b[39m\"\u001b[39m),\n\u001b[1;32m     95\u001b[0m         row\u001b[39m=\u001b[39mfigrow,\n\u001b[1;32m     96\u001b[0m         col\u001b[39m=\u001b[39mfigcol,\n\u001b[1;32m     97\u001b[0m     )\n\u001b[1;32m     98\u001b[0m     \u001b[39mreturn\u001b[39;00m fig\n",
      "File \u001b[0;32m/mnt/lustre/a2fs-work1/work/n01/n01/sithom/new-orleans/trieste/lib/python3.9/site-packages/pandas/core/frame.py:758\u001b[0m, in \u001b[0;36mDataFrame.__init__\u001b[0;34m(self, data, index, columns, dtype, copy)\u001b[0m\n\u001b[1;32m    747\u001b[0m         mgr \u001b[39m=\u001b[39m dict_to_mgr(\n\u001b[1;32m    748\u001b[0m             \u001b[39m# error: Item \"ndarray\" of \"Union[ndarray, Series, Index]\" has no\u001b[39;00m\n\u001b[1;32m    749\u001b[0m             \u001b[39m# attribute \"name\"\u001b[39;00m\n\u001b[0;32m   (...)\u001b[0m\n\u001b[1;32m    755\u001b[0m             copy\u001b[39m=\u001b[39m_copy,\n\u001b[1;32m    756\u001b[0m         )\n\u001b[1;32m    757\u001b[0m     \u001b[39melse\u001b[39;00m:\n\u001b[0;32m--> 758\u001b[0m         mgr \u001b[39m=\u001b[39m ndarray_to_mgr(\n\u001b[1;32m    759\u001b[0m             data,\n\u001b[1;32m    760\u001b[0m             index,\n\u001b[1;32m    761\u001b[0m             columns,\n\u001b[1;32m    762\u001b[0m             dtype\u001b[39m=\u001b[39;49mdtype,\n\u001b[1;32m    763\u001b[0m             copy\u001b[39m=\u001b[39;49mcopy,\n\u001b[1;32m    764\u001b[0m             typ\u001b[39m=\u001b[39;49mmanager,\n\u001b[1;32m    765\u001b[0m         )\n\u001b[1;32m    767\u001b[0m \u001b[39m# For data is list-like, or Iterable (will consume into list)\u001b[39;00m\n\u001b[1;32m    768\u001b[0m \u001b[39melif\u001b[39;00m is_list_like(data):\n",
      "File \u001b[0;32m/mnt/lustre/a2fs-work1/work/n01/n01/sithom/new-orleans/trieste/lib/python3.9/site-packages/pandas/core/internals/construction.py:333\u001b[0m, in \u001b[0;36mndarray_to_mgr\u001b[0;34m(values, index, columns, dtype, copy, typ)\u001b[0m\n\u001b[1;32m    324\u001b[0m     values \u001b[39m=\u001b[39m sanitize_array(\n\u001b[1;32m    325\u001b[0m         values,\n\u001b[1;32m    326\u001b[0m         \u001b[39mNone\u001b[39;00m,\n\u001b[0;32m   (...)\u001b[0m\n\u001b[1;32m    329\u001b[0m         allow_2d\u001b[39m=\u001b[39m\u001b[39mTrue\u001b[39;00m,\n\u001b[1;32m    330\u001b[0m     )\n\u001b[1;32m    332\u001b[0m \u001b[39m# _prep_ndarraylike ensures that values.ndim == 2 at this point\u001b[39;00m\n\u001b[0;32m--> 333\u001b[0m index, columns \u001b[39m=\u001b[39m _get_axes(\n\u001b[1;32m    334\u001b[0m     values\u001b[39m.\u001b[39;49mshape[\u001b[39m0\u001b[39;49m], values\u001b[39m.\u001b[39;49mshape[\u001b[39m1\u001b[39;49m], index\u001b[39m=\u001b[39;49mindex, columns\u001b[39m=\u001b[39;49mcolumns\n\u001b[1;32m    335\u001b[0m )\n\u001b[1;32m    337\u001b[0m _check_values_indices_shape_match(values, index, columns)\n\u001b[1;32m    339\u001b[0m \u001b[39mif\u001b[39;00m typ \u001b[39m==\u001b[39m \u001b[39m\"\u001b[39m\u001b[39marray\u001b[39m\u001b[39m\"\u001b[39m:\n",
      "File \u001b[0;32m/mnt/lustre/a2fs-work1/work/n01/n01/sithom/new-orleans/trieste/lib/python3.9/site-packages/pandas/core/internals/construction.py:733\u001b[0m, in \u001b[0;36m_get_axes\u001b[0;34m(N, K, index, columns)\u001b[0m\n\u001b[1;32m    731\u001b[0m     index \u001b[39m=\u001b[39m default_index(N)\n\u001b[1;32m    732\u001b[0m \u001b[39melse\u001b[39;00m:\n\u001b[0;32m--> 733\u001b[0m     index \u001b[39m=\u001b[39m ensure_index(index)\n\u001b[1;32m    735\u001b[0m \u001b[39mif\u001b[39;00m columns \u001b[39mis\u001b[39;00m \u001b[39mNone\u001b[39;00m:\n\u001b[1;32m    736\u001b[0m     columns \u001b[39m=\u001b[39m default_index(K)\n",
      "File \u001b[0;32m/mnt/lustre/a2fs-work1/work/n01/n01/sithom/new-orleans/trieste/lib/python3.9/site-packages/pandas/core/indexes/base.py:7125\u001b[0m, in \u001b[0;36mensure_index\u001b[0;34m(index_like, copy)\u001b[0m\n\u001b[1;32m   7123\u001b[0m         \u001b[39mreturn\u001b[39;00m Index(index_like, copy\u001b[39m=\u001b[39mcopy, tupleize_cols\u001b[39m=\u001b[39m\u001b[39mFalse\u001b[39;00m)\n\u001b[1;32m   7124\u001b[0m \u001b[39melse\u001b[39;00m:\n\u001b[0;32m-> 7125\u001b[0m     \u001b[39mreturn\u001b[39;00m Index(index_like, copy\u001b[39m=\u001b[39;49mcopy)\n",
      "File \u001b[0;32m/mnt/lustre/a2fs-work1/work/n01/n01/sithom/new-orleans/trieste/lib/python3.9/site-packages/pandas/core/indexes/base.py:556\u001b[0m, in \u001b[0;36mIndex.__new__\u001b[0;34m(cls, data, dtype, copy, name, tupleize_cols)\u001b[0m\n\u001b[1;32m    554\u001b[0m         \u001b[39mraise\u001b[39;00m \u001b[39mcls\u001b[39m\u001b[39m.\u001b[39m_raise_scalar_data_error(data) \u001b[39mfrom\u001b[39;00m \u001b[39merr\u001b[39;00m\n\u001b[1;32m    555\u001b[0m     \u001b[39mif\u001b[39;00m \u001b[39m\"\u001b[39m\u001b[39mData must be 1-dimensional\u001b[39m\u001b[39m\"\u001b[39m \u001b[39min\u001b[39;00m \u001b[39mstr\u001b[39m(err):\n\u001b[0;32m--> 556\u001b[0m         \u001b[39mraise\u001b[39;00m \u001b[39mValueError\u001b[39;00m(\u001b[39m\"\u001b[39m\u001b[39mIndex data must be 1-dimensional\u001b[39m\u001b[39m\"\u001b[39m) \u001b[39mfrom\u001b[39;00m \u001b[39merr\u001b[39;00m\n\u001b[1;32m    557\u001b[0m     \u001b[39mraise\u001b[39;00m\n\u001b[1;32m    558\u001b[0m arr \u001b[39m=\u001b[39m ensure_wrapped_if_datetimelike(arr)\n",
      "\u001b[0;31mValueError\u001b[0m: Index data must be 1-dimensional"
     ]
    }
   ],
   "source": [
    "from trieste.objectives import ScaledBranin\n",
    "from trieste.experimental.plotting import plot_function_plotly\n",
    "from trieste.space import Box\n",
    "\n",
    "scaled_branin = ScaledBranin.objective\n",
    "search_space = ScaledBranin.search_space  # predefined search space\n",
    "search_space = Box([0, 0], [1, 1])  # define the search space directly\n",
    "\n",
    "fig = plot_function_plotly(\n",
    "    scaled_branin,\n",
    "    search_space.lower,\n",
    "    search_space.upper,\n",
    "    grid_density=20,\n",
    ")\n",
    "fig.update_layout(height=400, width=400)\n",
    "fig.show()"
   ]
  },
  {
   "cell_type": "code",
   "execution_count": 17,
   "id": "9e7cd261",
   "metadata": {},
   "outputs": [
    {
     "name": "stdout",
     "output_type": "stream",
     "text": [
      "1.1.2\n"
     ]
    }
   ],
   "source": [
    "import trieste\n",
    "print(trieste.__version__)"
   ]
  },
  {
   "cell_type": "code",
   "execution_count": null,
   "id": "a8f98f66",
   "metadata": {},
   "outputs": [],
   "source": [
    "print(\"Ok\")"
   ]
  },
  {
   "cell_type": "code",
   "execution_count": null,
   "id": "ba8922d6",
   "metadata": {
    "ExecuteTime": {
     "start_time": "2023-06-25T13:35:40.626Z"
    }
   },
   "outputs": [],
   "source": [
    "import trieste\n"
   ]
  },
  {
   "cell_type": "code",
   "execution_count": null,
   "id": "9ef1291f",
   "metadata": {
    "ExecuteTime": {
     "start_time": "2023-06-25T13:37:00.602Z"
    }
   },
   "outputs": [],
   "source": [
    "import tensorflow as tf"
   ]
  },
  {
   "cell_type": "code",
   "execution_count": null,
   "id": "ed7b7a9b",
   "metadata": {},
   "outputs": [],
   "source": []
  }
 ],
 "metadata": {
  "hide_input": false,
  "kernelspec": {
   "display_name": "Python 3 (ipykernel)",
   "language": "python",
   "name": "python3"
  },
  "language_info": {
   "codemirror_mode": {
    "name": "ipython",
    "version": 3
   },
   "file_extension": ".py",
   "mimetype": "text/x-python",
   "name": "python",
   "nbconvert_exporter": "python",
   "pygments_lexer": "ipython3",
   "version": "3.9.16"
  },
  "varInspector": {
   "cols": {
    "lenName": 16,
    "lenType": 16,
    "lenVar": 40
   },
   "kernels_config": {
    "python": {
     "delete_cmd_postfix": "",
     "delete_cmd_prefix": "del ",
     "library": "var_list.py",
     "varRefreshCmd": "print(var_dic_list())"
    },
    "r": {
     "delete_cmd_postfix": ") ",
     "delete_cmd_prefix": "rm(",
     "library": "var_list.r",
     "varRefreshCmd": "cat(var_dic_list()) "
    }
   },
   "types_to_exclude": [
    "module",
    "function",
    "builtin_function_or_method",
    "instance",
    "_Feature"
   ],
   "window_display": false
  }
 },
 "nbformat": 4,
 "nbformat_minor": 5
}
