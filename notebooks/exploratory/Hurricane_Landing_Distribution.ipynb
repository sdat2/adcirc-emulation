{
 "cells": [
  {
   "cell_type": "markdown",
   "id": "9c7b876d",
   "metadata": {
    "ExecuteTime": {
     "end_time": "2022-10-11T09:06:14.552226Z",
     "start_time": "2022-10-11T09:06:14.512828Z"
    }
   },
   "source": [
    "# Hurricane Landing Distribution"
   ]
  },
  {
   "cell_type": "code",
   "execution_count": 1,
   "id": "f2d80f63",
   "metadata": {
    "ExecuteTime": {
     "end_time": "2022-10-13T15:41:16.522052Z",
     "start_time": "2022-10-13T15:41:16.504054Z"
    }
   },
   "outputs": [],
   "source": [
    "# Convenient jupyter setup\n",
    "%load_ext autoreload\n",
    "%autoreload 2\n",
    "%config IPCompleter.greedy=True"
   ]
  },
  {
   "cell_type": "code",
   "execution_count": 2,
   "id": "7e42741b",
   "metadata": {
    "ExecuteTime": {
     "end_time": "2022-10-13T15:41:18.507063Z",
     "start_time": "2022-10-13T15:41:16.523492Z"
    }
   },
   "outputs": [
    {
     "name": "stderr",
     "output_type": "stream",
     "text": [
      "/Users/simon/new-orleans/env/lib/python3.8/site-packages/xarray/backends/cfgrib_.py:29: UserWarning: Failed to load cfgrib - most likely there is a problem accessing the ecCodes library. Try `import cfgrib` to get the full error message\n",
      "  warnings.warn(\n"
     ]
    }
   ],
   "source": [
    "import numpy as np\n",
    "import xarray as xr\n",
    "import matplotlib.pyplot as plt\n",
    "from sithom.plot import plot_defaults\n",
    "from sithom.xr import plot_units\n",
    "from src.constants import IBTRACS_NC, LANDING_DS\n",
    "from src.data_loading.ibtracs import gom_tcs\n",
    "\n",
    "plot_defaults()"
   ]
  },
  {
   "cell_type": "code",
   "execution_count": 3,
   "id": "7627f520",
   "metadata": {
    "ExecuteTime": {
     "end_time": "2022-10-13T15:41:21.483704Z",
     "start_time": "2022-10-13T15:41:18.509782Z"
    }
   },
   "outputs": [
    {
     "name": "stderr",
     "output_type": "stream",
     "text": [
      "/Users/simon/new-orleans/env/lib/python3.8/site-packages/xarray/backends/plugins.py:64: RuntimeWarning: Engine 'cfgrib' loading failed:\n",
      "Cannot find the ecCodes library\n",
      "  warnings.warn(f\"Engine {name!r} loading failed:\\n{ex}\", RuntimeWarning)\n"
     ]
    },
    {
     "name": "stdout",
     "output_type": "stream",
     "text": [
      "Starting loop.\n",
      "Finished loop.\n",
      "'_landing_list'  0.48107 s \n",
      "\n",
      "[98000. 96500.    nan    nan 96100.    nan 98700.    nan 96400. 94600.\n",
      " 93400.    nan 97900. 97600.    nan    nan    nan    nan 94200. 98000.\n",
      " 98500. 96700. 97200.    nan 95200.    nan    nan 97200. 95500. 93100.\n",
      "    nan    nan    nan    nan    nan    nan 98200.    nan    nan    nan\n",
      "    nan    nan 95000. 97300.    nan    nan 95900. 94200.    nan 96700.\n",
      "    nan    nan    nan 94000. 94400. 98100. 94900. 96200. 95000.    nan\n",
      " 93200. 95900. 97000. 97000.    nan 93100.    nan 96300. 98900. 98400.\n",
      " 98600. 99000. 93700. 94800. 93600. 99000. 94900. 98300. 98400. 94900.\n",
      " 94600. 95500. 98000. 98700. 96400. 92700. 95000. 91900. 98200.    nan\n",
      " 98400. 96600. 97500. 97500. 99300. 96100. 98000. 95100.    nan    nan\n",
      "    nan 92500. 98700. 95800. 98300.    nan    nan 97300. 97400. 97300.\n",
      " 93900. 97000. 97000.    nan 96500.    nan 97000. 98300. 96200.    nan\n",
      " 96700. 93100. 98000. 99100. 97900. 97500. 96000.    nan    nan 97800.\n",
      "    nan 96300. 96800. 95500. 95500. 97900. 98600. 98700.    nan    nan\n",
      " 97400. 94400.    nan    nan    nan 94100. 94200. 96200. 94600. 99000.\n",
      "    nan    nan    nan 98200. 97500.    nan 96000. 99100. 94600. 94400.\n",
      " 92000. 92800.    nan 93700. 97700. 95000. 99300.    nan    nan    nan\n",
      " 93500. 97900. 98400. 93600. 97400.    nan 98500. 94000.    nan    nan\n",
      " 99300. 98000. 97400. 98600. 96600. 97900. 96700. 96700. 94600. 98300.\n",
      " 95000.    nan]\n",
      "'make_landing_dataset'  2.95439 s \n",
      "\n"
     ]
    }
   ],
   "source": [
    "from src.data_loading.ibtracs import make_landing_dataset\n",
    "\n",
    "\n",
    "ds = make_landing_dataset()"
   ]
  },
  {
   "cell_type": "code",
   "execution_count": 4,
   "id": "463ff6b3",
   "metadata": {
    "ExecuteTime": {
     "end_time": "2022-10-13T15:41:21.557118Z",
     "start_time": "2022-10-13T15:41:21.484903Z"
    }
   },
   "outputs": [
    {
     "data": {
      "text/html": [
       "<div><svg style=\"position: absolute; width: 0; height: 0; overflow: hidden\">\n",
       "<defs>\n",
       "<symbol id=\"icon-database\" viewBox=\"0 0 32 32\">\n",
       "<path d=\"M16 0c-8.837 0-16 2.239-16 5v4c0 2.761 7.163 5 16 5s16-2.239 16-5v-4c0-2.761-7.163-5-16-5z\"></path>\n",
       "<path d=\"M16 17c-8.837 0-16-2.239-16-5v6c0 2.761 7.163 5 16 5s16-2.239 16-5v-6c0 2.761-7.163 5-16 5z\"></path>\n",
       "<path d=\"M16 26c-8.837 0-16-2.239-16-5v6c0 2.761 7.163 5 16 5s16-2.239 16-5v-6c0 2.761-7.163 5-16 5z\"></path>\n",
       "</symbol>\n",
       "<symbol id=\"icon-file-text2\" viewBox=\"0 0 32 32\">\n",
       "<path d=\"M28.681 7.159c-0.694-0.947-1.662-2.053-2.724-3.116s-2.169-2.030-3.116-2.724c-1.612-1.182-2.393-1.319-2.841-1.319h-15.5c-1.378 0-2.5 1.121-2.5 2.5v27c0 1.378 1.122 2.5 2.5 2.5h23c1.378 0 2.5-1.122 2.5-2.5v-19.5c0-0.448-0.137-1.23-1.319-2.841zM24.543 5.457c0.959 0.959 1.712 1.825 2.268 2.543h-4.811v-4.811c0.718 0.556 1.584 1.309 2.543 2.268zM28 29.5c0 0.271-0.229 0.5-0.5 0.5h-23c-0.271 0-0.5-0.229-0.5-0.5v-27c0-0.271 0.229-0.5 0.5-0.5 0 0 15.499-0 15.5 0v7c0 0.552 0.448 1 1 1h7v19.5z\"></path>\n",
       "<path d=\"M23 26h-14c-0.552 0-1-0.448-1-1s0.448-1 1-1h14c0.552 0 1 0.448 1 1s-0.448 1-1 1z\"></path>\n",
       "<path d=\"M23 22h-14c-0.552 0-1-0.448-1-1s0.448-1 1-1h14c0.552 0 1 0.448 1 1s-0.448 1-1 1z\"></path>\n",
       "<path d=\"M23 18h-14c-0.552 0-1-0.448-1-1s0.448-1 1-1h14c0.552 0 1 0.448 1 1s-0.448 1-1 1z\"></path>\n",
       "</symbol>\n",
       "</defs>\n",
       "</svg>\n",
       "<style>/* CSS stylesheet for displaying xarray objects in jupyterlab.\n",
       " *\n",
       " */\n",
       "\n",
       ":root {\n",
       "  --xr-font-color0: var(--jp-content-font-color0, rgba(0, 0, 0, 1));\n",
       "  --xr-font-color2: var(--jp-content-font-color2, rgba(0, 0, 0, 0.54));\n",
       "  --xr-font-color3: var(--jp-content-font-color3, rgba(0, 0, 0, 0.38));\n",
       "  --xr-border-color: var(--jp-border-color2, #e0e0e0);\n",
       "  --xr-disabled-color: var(--jp-layout-color3, #bdbdbd);\n",
       "  --xr-background-color: var(--jp-layout-color0, white);\n",
       "  --xr-background-color-row-even: var(--jp-layout-color1, white);\n",
       "  --xr-background-color-row-odd: var(--jp-layout-color2, #eeeeee);\n",
       "}\n",
       "\n",
       "html[theme=dark],\n",
       "body[data-theme=dark],\n",
       "body.vscode-dark {\n",
       "  --xr-font-color0: rgba(255, 255, 255, 1);\n",
       "  --xr-font-color2: rgba(255, 255, 255, 0.54);\n",
       "  --xr-font-color3: rgba(255, 255, 255, 0.38);\n",
       "  --xr-border-color: #1F1F1F;\n",
       "  --xr-disabled-color: #515151;\n",
       "  --xr-background-color: #111111;\n",
       "  --xr-background-color-row-even: #111111;\n",
       "  --xr-background-color-row-odd: #313131;\n",
       "}\n",
       "\n",
       ".xr-wrap {\n",
       "  display: block !important;\n",
       "  min-width: 300px;\n",
       "  max-width: 700px;\n",
       "}\n",
       "\n",
       ".xr-text-repr-fallback {\n",
       "  /* fallback to plain text repr when CSS is not injected (untrusted notebook) */\n",
       "  display: none;\n",
       "}\n",
       "\n",
       ".xr-header {\n",
       "  padding-top: 6px;\n",
       "  padding-bottom: 6px;\n",
       "  margin-bottom: 4px;\n",
       "  border-bottom: solid 1px var(--xr-border-color);\n",
       "}\n",
       "\n",
       ".xr-header > div,\n",
       ".xr-header > ul {\n",
       "  display: inline;\n",
       "  margin-top: 0;\n",
       "  margin-bottom: 0;\n",
       "}\n",
       "\n",
       ".xr-obj-type,\n",
       ".xr-array-name {\n",
       "  margin-left: 2px;\n",
       "  margin-right: 10px;\n",
       "}\n",
       "\n",
       ".xr-obj-type {\n",
       "  color: var(--xr-font-color2);\n",
       "}\n",
       "\n",
       ".xr-sections {\n",
       "  padding-left: 0 !important;\n",
       "  display: grid;\n",
       "  grid-template-columns: 150px auto auto 1fr 20px 20px;\n",
       "}\n",
       "\n",
       ".xr-section-item {\n",
       "  display: contents;\n",
       "}\n",
       "\n",
       ".xr-section-item input {\n",
       "  display: none;\n",
       "}\n",
       "\n",
       ".xr-section-item input + label {\n",
       "  color: var(--xr-disabled-color);\n",
       "}\n",
       "\n",
       ".xr-section-item input:enabled + label {\n",
       "  cursor: pointer;\n",
       "  color: var(--xr-font-color2);\n",
       "}\n",
       "\n",
       ".xr-section-item input:enabled + label:hover {\n",
       "  color: var(--xr-font-color0);\n",
       "}\n",
       "\n",
       ".xr-section-summary {\n",
       "  grid-column: 1;\n",
       "  color: var(--xr-font-color2);\n",
       "  font-weight: 500;\n",
       "}\n",
       "\n",
       ".xr-section-summary > span {\n",
       "  display: inline-block;\n",
       "  padding-left: 0.5em;\n",
       "}\n",
       "\n",
       ".xr-section-summary-in:disabled + label {\n",
       "  color: var(--xr-font-color2);\n",
       "}\n",
       "\n",
       ".xr-section-summary-in + label:before {\n",
       "  display: inline-block;\n",
       "  content: '►';\n",
       "  font-size: 11px;\n",
       "  width: 15px;\n",
       "  text-align: center;\n",
       "}\n",
       "\n",
       ".xr-section-summary-in:disabled + label:before {\n",
       "  color: var(--xr-disabled-color);\n",
       "}\n",
       "\n",
       ".xr-section-summary-in:checked + label:before {\n",
       "  content: '▼';\n",
       "}\n",
       "\n",
       ".xr-section-summary-in:checked + label > span {\n",
       "  display: none;\n",
       "}\n",
       "\n",
       ".xr-section-summary,\n",
       ".xr-section-inline-details {\n",
       "  padding-top: 4px;\n",
       "  padding-bottom: 4px;\n",
       "}\n",
       "\n",
       ".xr-section-inline-details {\n",
       "  grid-column: 2 / -1;\n",
       "}\n",
       "\n",
       ".xr-section-details {\n",
       "  display: none;\n",
       "  grid-column: 1 / -1;\n",
       "  margin-bottom: 5px;\n",
       "}\n",
       "\n",
       ".xr-section-summary-in:checked ~ .xr-section-details {\n",
       "  display: contents;\n",
       "}\n",
       "\n",
       ".xr-array-wrap {\n",
       "  grid-column: 1 / -1;\n",
       "  display: grid;\n",
       "  grid-template-columns: 20px auto;\n",
       "}\n",
       "\n",
       ".xr-array-wrap > label {\n",
       "  grid-column: 1;\n",
       "  vertical-align: top;\n",
       "}\n",
       "\n",
       ".xr-preview {\n",
       "  color: var(--xr-font-color3);\n",
       "}\n",
       "\n",
       ".xr-array-preview,\n",
       ".xr-array-data {\n",
       "  padding: 0 5px !important;\n",
       "  grid-column: 2;\n",
       "}\n",
       "\n",
       ".xr-array-data,\n",
       ".xr-array-in:checked ~ .xr-array-preview {\n",
       "  display: none;\n",
       "}\n",
       "\n",
       ".xr-array-in:checked ~ .xr-array-data,\n",
       ".xr-array-preview {\n",
       "  display: inline-block;\n",
       "}\n",
       "\n",
       ".xr-dim-list {\n",
       "  display: inline-block !important;\n",
       "  list-style: none;\n",
       "  padding: 0 !important;\n",
       "  margin: 0;\n",
       "}\n",
       "\n",
       ".xr-dim-list li {\n",
       "  display: inline-block;\n",
       "  padding: 0;\n",
       "  margin: 0;\n",
       "}\n",
       "\n",
       ".xr-dim-list:before {\n",
       "  content: '(';\n",
       "}\n",
       "\n",
       ".xr-dim-list:after {\n",
       "  content: ')';\n",
       "}\n",
       "\n",
       ".xr-dim-list li:not(:last-child):after {\n",
       "  content: ',';\n",
       "  padding-right: 5px;\n",
       "}\n",
       "\n",
       ".xr-has-index {\n",
       "  font-weight: bold;\n",
       "}\n",
       "\n",
       ".xr-var-list,\n",
       ".xr-var-item {\n",
       "  display: contents;\n",
       "}\n",
       "\n",
       ".xr-var-item > div,\n",
       ".xr-var-item label,\n",
       ".xr-var-item > .xr-var-name span {\n",
       "  background-color: var(--xr-background-color-row-even);\n",
       "  margin-bottom: 0;\n",
       "}\n",
       "\n",
       ".xr-var-item > .xr-var-name:hover span {\n",
       "  padding-right: 5px;\n",
       "}\n",
       "\n",
       ".xr-var-list > li:nth-child(odd) > div,\n",
       ".xr-var-list > li:nth-child(odd) > label,\n",
       ".xr-var-list > li:nth-child(odd) > .xr-var-name span {\n",
       "  background-color: var(--xr-background-color-row-odd);\n",
       "}\n",
       "\n",
       ".xr-var-name {\n",
       "  grid-column: 1;\n",
       "}\n",
       "\n",
       ".xr-var-dims {\n",
       "  grid-column: 2;\n",
       "}\n",
       "\n",
       ".xr-var-dtype {\n",
       "  grid-column: 3;\n",
       "  text-align: right;\n",
       "  color: var(--xr-font-color2);\n",
       "}\n",
       "\n",
       ".xr-var-preview {\n",
       "  grid-column: 4;\n",
       "}\n",
       "\n",
       ".xr-var-name,\n",
       ".xr-var-dims,\n",
       ".xr-var-dtype,\n",
       ".xr-preview,\n",
       ".xr-attrs dt {\n",
       "  white-space: nowrap;\n",
       "  overflow: hidden;\n",
       "  text-overflow: ellipsis;\n",
       "  padding-right: 10px;\n",
       "}\n",
       "\n",
       ".xr-var-name:hover,\n",
       ".xr-var-dims:hover,\n",
       ".xr-var-dtype:hover,\n",
       ".xr-attrs dt:hover {\n",
       "  overflow: visible;\n",
       "  width: auto;\n",
       "  z-index: 1;\n",
       "}\n",
       "\n",
       ".xr-var-attrs,\n",
       ".xr-var-data {\n",
       "  display: none;\n",
       "  background-color: var(--xr-background-color) !important;\n",
       "  padding-bottom: 5px !important;\n",
       "}\n",
       "\n",
       ".xr-var-attrs-in:checked ~ .xr-var-attrs,\n",
       ".xr-var-data-in:checked ~ .xr-var-data {\n",
       "  display: block;\n",
       "}\n",
       "\n",
       ".xr-var-data > table {\n",
       "  float: right;\n",
       "}\n",
       "\n",
       ".xr-var-name span,\n",
       ".xr-var-data,\n",
       ".xr-attrs {\n",
       "  padding-left: 25px !important;\n",
       "}\n",
       "\n",
       ".xr-attrs,\n",
       ".xr-var-attrs,\n",
       ".xr-var-data {\n",
       "  grid-column: 1 / -1;\n",
       "}\n",
       "\n",
       "dl.xr-attrs {\n",
       "  padding: 0;\n",
       "  margin: 0;\n",
       "  display: grid;\n",
       "  grid-template-columns: 125px auto;\n",
       "}\n",
       "\n",
       ".xr-attrs dt,\n",
       ".xr-attrs dd {\n",
       "  padding: 0;\n",
       "  margin: 0;\n",
       "  float: left;\n",
       "  padding-right: 10px;\n",
       "  width: auto;\n",
       "}\n",
       "\n",
       ".xr-attrs dt {\n",
       "  font-weight: normal;\n",
       "  grid-column: 1;\n",
       "}\n",
       "\n",
       ".xr-attrs dt:hover span {\n",
       "  display: inline-block;\n",
       "  background: var(--xr-background-color);\n",
       "  padding-right: 10px;\n",
       "}\n",
       "\n",
       ".xr-attrs dd {\n",
       "  grid-column: 2;\n",
       "  white-space: pre-wrap;\n",
       "  word-break: break-all;\n",
       "}\n",
       "\n",
       ".xr-icon-database,\n",
       ".xr-icon-file-text2 {\n",
       "  display: inline-block;\n",
       "  vertical-align: middle;\n",
       "  width: 1em;\n",
       "  height: 1.5em !important;\n",
       "  stroke-width: 0;\n",
       "  stroke: currentColor;\n",
       "  fill: currentColor;\n",
       "}\n",
       "</style><pre class='xr-text-repr-fallback'>&lt;xarray.Dataset&gt;\n",
       "Dimensions:      (time: 192, quadrant: 4)\n",
       "Coordinates:\n",
       "    time         (time) datetime64[ns] 1990-08-07T19:00:00.000067072 ... 1903...\n",
       "    lat          (time) float32 20.9 29.6 28.13 29.93 ... 29.8 29.2 29.3 30.1\n",
       "    lon          (time) float32 -97.0 -83.4 -96.57 -85.67 ... -95.0 -94.7 -85.6\n",
       "Dimensions without coordinates: quadrant\n",
       "Data variables: (12/16)\n",
       "    nature       (time) |S2 b&#x27;TS&#x27; b&#x27;TS&#x27; b&#x27;TS&#x27; b&#x27;TS&#x27; ... b&#x27;TS&#x27; b&#x27;TS&#x27; b&#x27;TS&#x27; b&#x27;TS&#x27;\n",
       "    basin        (time) |S2 b&#x27;NA&#x27; b&#x27;NA&#x27; b&#x27;NA&#x27; b&#x27;NA&#x27; ... b&#x27;NA&#x27; b&#x27;NA&#x27; b&#x27;NA&#x27; b&#x27;NA&#x27;\n",
       "    subbasin     (time) |S2 b&#x27;GM&#x27; b&#x27;GM&#x27; b&#x27;GM&#x27; b&#x27;GM&#x27; ... b&#x27;GM&#x27; b&#x27;GM&#x27; b&#x27;GM&#x27; b&#x27;GM&#x27;\n",
       "    name         (time) |S128 b&#x27;DIANA&#x27; b&#x27;NOT_NAMED&#x27; ... b&#x27;IKE&#x27; b&#x27;NOT_NAMED&#x27;\n",
       "    storm_speed  (time) float32 6.173 4.63 2.572 6.173 ... 6.173 6.688 5.659\n",
       "    storm_dir    (time) float32 267.0 0.0 286.0 37.0 ... 10.0 0.0 335.0 337.0\n",
       "    ...           ...\n",
       "    usa_poci     (time) float32 nan nan nan nan nan ... nan nan 1.007e+05 nan\n",
       "    usa_lat      (time) float32 20.9 29.6 28.2 30.1 30.2 ... 29.8 29.2 29.3 30.1\n",
       "    usa_r34      (time, quadrant) float32 nan nan nan nan ... nan nan nan nan\n",
       "    usa_r50      (time, quadrant) float32 nan nan nan nan ... nan nan nan nan\n",
       "    usa_r64      (time, quadrant) float32 nan nan nan nan ... nan nan nan nan\n",
       "    usa_record   (time) |S1 b&#x27;L&#x27; b&#x27;L&#x27; b&#x27;L&#x27; b&#x27;L&#x27; b&#x27;L&#x27; ... b&#x27;L&#x27; b&#x27;L&#x27; b&#x27;L&#x27; b&#x27;L&#x27;\n",
       "Attributes: (12/50)\n",
       "    title:                      IBTrACS - International Best Track Archive fo...\n",
       "    summary:                    The intent of the IBTrACS project is to overc...\n",
       "    source:                     The original data are tropical cyclone positi...\n",
       "    Conventions:                ACDD-1.3\n",
       "    Conventions_note:           Data are nearly CF-1.7 compliant. The sole is...\n",
       "    product_version:            v04r00\n",
       "    ...                         ...\n",
       "    license:                    These data may be redistributed and used with...\n",
       "    featureType:                trajectory\n",
       "    cdm_data_type:              Trajectory\n",
       "    comment:                    The tracks of TCs generally look like a traje...\n",
       "    nco_openmp_thread_number:   1\n",
       "    NCO:                        4.4.3</pre><div class='xr-wrap' style='display:none'><div class='xr-header'><div class='xr-obj-type'>xarray.Dataset</div></div><ul class='xr-sections'><li class='xr-section-item'><input id='section-777aa633-6c09-418f-b92e-b80d1c99dc52' class='xr-section-summary-in' type='checkbox' disabled ><label for='section-777aa633-6c09-418f-b92e-b80d1c99dc52' class='xr-section-summary'  title='Expand/collapse section'>Dimensions:</label><div class='xr-section-inline-details'><ul class='xr-dim-list'><li><span>time</span>: 192</li><li><span>quadrant</span>: 4</li></ul></div><div class='xr-section-details'></div></li><li class='xr-section-item'><input id='section-6bad7ec8-74bd-475e-91f4-3ef04a7999c4' class='xr-section-summary-in' type='checkbox'  checked><label for='section-6bad7ec8-74bd-475e-91f4-3ef04a7999c4' class='xr-section-summary' >Coordinates: <span>(3)</span></label><div class='xr-section-inline-details'></div><div class='xr-section-details'><ul class='xr-var-list'><li class='xr-var-item'><div class='xr-var-name'><span>time</span></div><div class='xr-var-dims'>(time)</div><div class='xr-var-dtype'>datetime64[ns]</div><div class='xr-var-preview xr-preview'>1990-08-07T19:00:00.000067072 .....</div><input id='attrs-b826df07-d37e-432a-ba53-eb5754885a2b' class='xr-var-attrs-in' type='checkbox' ><label for='attrs-b826df07-d37e-432a-ba53-eb5754885a2b' title='Show/Hide attributes'><svg class='icon xr-icon-file-text2'><use xlink:href='#icon-file-text2'></use></svg></label><input id='data-0c8bb65f-b467-446e-813e-587d9a20ed26' class='xr-var-data-in' type='checkbox'><label for='data-0c8bb65f-b467-446e-813e-587d9a20ed26' title='Show/Hide data repr'><svg class='icon xr-icon-database'><use xlink:href='#icon-database'></use></svg></label><div class='xr-var-attrs'><dl class='xr-attrs'><dt><span>long_name :</span></dt><dd>time</dd><dt><span>standard_name :</span></dt><dd>time</dd><dt><span>description :</span></dt><dd>Nominally, time steps are 3 hourly, but can be more often since some agencies include extra position (e.g., times near landfall, maximum intensity, etc.)</dd><dt><span>Note :</span></dt><dd>Variable:time can be missing since the tracks are stored in a fixed 2-D grid where tracks have varying lengths</dd><dt><span>coverage_content_type :</span></dt><dd>physicalMeasurement</dd></dl></div><div class='xr-var-data'><pre>array([&#x27;1990-08-07T19:00:00.000067072&#x27;, &#x27;1935-09-04T22:00:00.000026624&#x27;,\n",
       "       &#x27;1851-06-25T21:00:00.000040224&#x27;, &#x27;1851-08-23T21:00:00.000040224&#x27;,\n",
       "       &#x27;1852-08-26T06:00:00.000040224&#x27;, &#x27;1852-10-09T21:00:00.000040224&#x27;,\n",
       "       &#x27;1936-06-27T16:00:00.000026624&#x27;, &#x27;1854-06-26T12:00:00.000040240&#x27;,\n",
       "       &#x27;1936-07-31T14:00:00.000053760&#x27;, &#x27;2010-07-01T02:00:00.000053248&#x27;,\n",
       "       &#x27;1856-08-10T18:00:00.000040232&#x27;, &#x27;1856-08-31T06:00:00.000040232&#x27;,\n",
       "       &#x27;1906-06-17T08:00:00.000053760&#x27;, &#x27;2010-09-17T16:45:00.000066560&#x27;,\n",
       "       &#x27;1906-09-27T11:00:00.000053760&#x27;, &#x27;1859-10-28T18:00:00.000040232&#x27;,\n",
       "       &#x27;1860-08-11T20:00:00.000053648&#x27;, &#x27;1938-08-15T01:00:00.000026624&#x27;,\n",
       "       &#x27;1960-09-10T16:00:00.000026624&#x27;, &#x27;1960-09-15T21:00:00.000040448&#x27;,\n",
       "       &#x27;1939-08-13T06:00:00.000040448&#x27;, &#x27;2012-08-29T00:00:00.000039936&#x27;,\n",
       "       &#x27;1909-06-29T17:00:00.000053760&#x27;, &#x27;1909-07-21T17:00:00.000053760&#x27;,\n",
       "       &#x27;1909-09-21T00:00:00.000040192&#x27;, &#x27;1865-10-23T14:00:00.000053632&#x27;,\n",
       "       &#x27;1910-09-14T22:00:00.000026880&#x27;, &#x27;1940-08-07T21:00:00.000040448&#x27;,\n",
       "       &#x27;1910-10-18T06:00:00.000040192&#x27;, &#x27;1961-09-11T20:00:00.000053760&#x27;,\n",
       "       &#x27;1867-10-04T15:00:00.000040224&#x27;, &#x27;1867-10-06T15:00:00.000040224&#x27;,\n",
       "       &#x27;1911-08-11T22:00:00.000026880&#x27;, &#x27;1869-08-17T07:00:00.000026816&#x27;,\n",
       "       &#x27;1869-09-05T12:00:00.000040256&#x27;, &#x27;1941-09-23T22:00:00.000026624&#x27;,\n",
       "       &#x27;1941-10-07T09:00:00.000040448&#x27;, &#x27;1870-10-20T14:00:00.000053632&#x27;,\n",
       "       &#x27;1912-09-14T08:00:00.000053760&#x27;, &#x27;1871-09-06T14:00:00.000053632&#x27;,\n",
       "...\n",
       "       &#x27;1929-10-01T04:00:00.000026880&#x27;, &#x27;1896-07-07T17:00:00.000053760&#x27;,\n",
       "       &#x27;1896-09-29T11:00:00.000053760&#x27;, &#x27;2005-07-06T03:00:00.000039936&#x27;,\n",
       "       &#x27;2005-07-10T19:30:00.000039936&#x27;, &#x27;2005-07-20T12:00:00.000039936&#x27;,\n",
       "       &#x27;2005-08-29T11:10:00.000058368&#x27;, &#x27;2005-08-29T14:45:00.000053248&#x27;,\n",
       "       &#x27;1897-09-13T05:00:00.000053760&#x27;, &#x27;2005-09-24T07:40:00.000045056&#x27;,\n",
       "       &#x27;2005-10-04T12:00:00.000039936&#x27;, &#x27;2005-10-24T10:30:00.000039936&#x27;,\n",
       "       &#x27;1987-10-12T21:00:00.000040448&#x27;, &#x27;1898-08-02T23:00:00.000053760&#x27;,\n",
       "       &#x27;1955-09-29T18:00:00.000040448&#x27;, &#x27;1899-08-01T17:00:00.000053760&#x27;,\n",
       "       &#x27;1932-08-14T04:00:00.000026624&#x27;, &#x27;1932-09-01T05:00:00.000053760&#x27;,\n",
       "       &#x27;1988-09-10T02:00:00.000053760&#x27;, &#x27;1900-09-09T02:00:00.000053760&#x27;,\n",
       "       &#x27;2007-08-22T16:30:00.000039936&#x27;, &#x27;1956-07-26T21:00:00.000040448&#x27;,\n",
       "       &#x27;2007-09-13T07:00:00.000066560&#x27;, &#x27;1933-09-05T04:00:00.000026624&#x27;,\n",
       "       &#x27;1901-08-14T21:00:00.000040192&#x27;, &#x27;1901-08-15T17:00:00.000053760&#x27;,\n",
       "       &#x27;2007-09-28T05:00:00.000053248&#x27;, &#x27;1956-09-24T10:00:00.000026624&#x27;,\n",
       "       &#x27;1956-09-25T00:00:00.000040448&#x27;, &#x27;1989-08-01T13:00:00.000067072&#x27;,\n",
       "       &#x27;1934-06-16T19:00:00.000026624&#x27;, &#x27;1934-07-25T17:00:00.000053760&#x27;,\n",
       "       &#x27;2008-07-23T18:20:00.000049152&#x27;, &#x27;2008-07-23T20:00:00.000053248&#x27;,\n",
       "       &#x27;1957-06-27T13:30:00.000040448&#x27;, &#x27;1989-10-16T00:30:00.000053760&#x27;,\n",
       "       &#x27;2008-09-13T07:00:00.000066560&#x27;, &#x27;1903-09-13T23:00:00.000053760&#x27;],\n",
       "      dtype=&#x27;datetime64[ns]&#x27;)</pre></div></li><li class='xr-var-item'><div class='xr-var-name'><span>lat</span></div><div class='xr-var-dims'>(time)</div><div class='xr-var-dtype'>float32</div><div class='xr-var-preview xr-preview'>20.9 29.6 28.13 ... 29.2 29.3 30.1</div><input id='attrs-cfde4ab1-cd3a-4cd8-b5f9-1a8344fef92d' class='xr-var-attrs-in' type='checkbox' ><label for='attrs-cfde4ab1-cd3a-4cd8-b5f9-1a8344fef92d' title='Show/Hide attributes'><svg class='icon xr-icon-file-text2'><use xlink:href='#icon-file-text2'></use></svg></label><input id='data-913ee9bb-fb57-438f-892c-72baef0037a0' class='xr-var-data-in' type='checkbox'><label for='data-913ee9bb-fb57-438f-892c-72baef0037a0' title='Show/Hide data repr'><svg class='icon xr-icon-database'><use xlink:href='#icon-database'></use></svg></label><div class='xr-var-attrs'><dl class='xr-attrs'><dt><span>long_name :</span></dt><dd>latitude</dd><dt><span>standard_name :</span></dt><dd>latitude</dd><dt><span>units :</span></dt><dd>degrees_north</dd><dt><span>description :</span></dt><dd>This is merged position based on the position(s) from the various source datasets.</dd><dt><span>Note :</span></dt><dd>Variable:lat can be missing since the tracks are stored in a fixed 2-D grid where tracks have varying lengths</dd><dt><span>coverage_content_type :</span></dt><dd>coordinate</dd></dl></div><div class='xr-var-data'><pre>array([20.900002, 29.6     , 28.13331 , 29.933325, 30.1     , 29.769217,\n",
       "       27.900002, 26.166666, 30.400002, 24.2     , 29.16667 , 30.133337,\n",
       "       25.2     , 19.3     , 30.200003, 27.700003, 29.300795, 29.799997,\n",
       "       25.9     , 30.4     , 30.400002, 28.9     , 26.1     , 28.9     ,\n",
       "       29.5     , 25.469679, 26.9     , 29.699999, 26.5     , 28.300001,\n",
       "       29.047415, 29.6     , 30.299997, 28.251   , 29.000002, 28.8     ,\n",
       "       29.9     , 24.605902, 30.3     , 29.473791, 27.099998, 29.5     ,\n",
       "       28.3     , 30.3     , 27.099998, 29.935854, 26.471243, 30.299997,\n",
       "       28.80172 , 29.5     , 27.745018, 29.19903 , 30.401651, 29.2     ,\n",
       "       29.      , 30.1     , 24.6     , 27.199999, 30.4     , 29.373075,\n",
       "       27.      , 29.5     , 30.400002, 25.8     , 28.6     , 25.634153,\n",
       "       29.744406, 28.200003, 29.3     , 30.200003, 30.400002, 19.999998,\n",
       "       28.      , 28.2     , 25.9     , 20.6     , 30.400002, 29.1     ,\n",
       "       30.4     , 30.360779, 29.2     , 29.8     , 27.5     , 30.1     ,\n",
       "       30.4     , 24.6     , 27.2     , 30.      , 30.100002, 21.699999,\n",
       "       29.200003, 29.6     , 25.4     , 29.1     , 29.6     , 22.8     ,\n",
       "       28.5     , 26.9     , 29.299032, 29.75176 , 27.744455, 28.011587,\n",
       "       25.3     , 28.1     , 29.100002, 25.1     , 30.262476, 26.8     ,\n",
       "       26.7     , 26.046915, 29.799997, 29.8     , 29.2     , 28.566666,\n",
       "       28.8     , 29.099997, 29.078817, 29.200003, 29.1     , 29.086206,\n",
       "       20.6     , 29.1     , 29.699999, 28.699999, 30.200003, 25.8     ,\n",
       "       29.1     , 28.5     , 18.899998, 28.7     , 28.660265, 29.5     ,\n",
       "       22.300001, 29.2     , 30.299997, 28.3     , 25.300001, 29.6     ,\n",
       "       29.166672, 30.269812, 29.5     , 27.800001, 24.686829, 26.356577,\n",
       "       29.966362, 26.6     , 26.9     , 23.9     , 30.2     , 29.6     ,\n",
       "       30.299997, 26.699999, 26.7     , 28.300001, 30.2     , 30.414072,\n",
       "       29.221611, 29.2     , 30.4     , 24.799997, 29.3     , 30.2     ,\n",
       "       29.727015, 29.699999, 18.6     , 25.9     , 25.100002, 29.48436 ,\n",
       "       19.8557  , 29.7     , 29.      , 30.200003, 29.1     , 29.1     ,\n",
       "       20.5     , 21.699999, 29.6     , 26.1     , 29.3     , 30.4     ,\n",
       "       20.5     , 29.1     , 30.400002, 29.600002, 29.699999, 28.1     ,\n",
       "       26.4     , 26.4     , 29.799997, 29.2     , 29.300001, 30.100002],\n",
       "      dtype=float32)</pre></div></li><li class='xr-var-item'><div class='xr-var-name'><span>lon</span></div><div class='xr-var-dims'>(time)</div><div class='xr-var-dtype'>float32</div><div class='xr-var-preview xr-preview'>-97.0 -83.4 -96.57 ... -94.7 -85.6</div><input id='attrs-cb7aad15-9e16-4bec-8cee-19c2b5f99f93' class='xr-var-attrs-in' type='checkbox' ><label for='attrs-cb7aad15-9e16-4bec-8cee-19c2b5f99f93' title='Show/Hide attributes'><svg class='icon xr-icon-file-text2'><use xlink:href='#icon-file-text2'></use></svg></label><input id='data-a5556a21-7f8e-42aa-9337-ea8e9d06190a' class='xr-var-data-in' type='checkbox'><label for='data-a5556a21-7f8e-42aa-9337-ea8e9d06190a' title='Show/Hide data repr'><svg class='icon xr-icon-database'><use xlink:href='#icon-database'></use></svg></label><div class='xr-var-attrs'><dl class='xr-attrs'><dt><span>long_name :</span></dt><dd>longitude</dd><dt><span>standard_name :</span></dt><dd>longitude</dd><dt><span>units :</span></dt><dd>degrees_east</dd><dt><span>description :</span></dt><dd>This is merged position based on the position(s) from the various source datasets.</dd><dt><span>Note :</span></dt><dd>Variable:lon can be missing since the tracks are stored in a fixed 2-D grid where tracks have varying lengths</dd><dt><span>coverage_content_type :</span></dt><dd>coordinate</dd></dl></div><div class='xr-var-data'><pre>array([-97.00001 , -83.4     , -96.56669 , -85.666626, -88.6     ,\n",
       "       -84.52131 , -97.00001 , -97.06667 , -86.6     , -97.700005,\n",
       "       -91.100006, -85.93333 , -80.7     , -96.200005, -88.6     ,\n",
       "       -82.8     , -89.74842 , -93.40001 , -81.6     , -89.      ,\n",
       "       -86.4     , -89.4     , -97.200005, -95.30001 , -91.30001 ,\n",
       "       -81.25059 , -97.40001 , -94.100006, -82.      , -96.40001 ,\n",
       "       -91.86749 , -83.4     , -87.5     , -96.82873 , -89.93333 ,\n",
       "       -95.600006, -84.6     , -82.79954 , -88.4     , -83.64652 ,\n",
       "       -97.40001 , -94.600006, -96.600006, -87.2     , -97.40001 ,\n",
       "       -84.38917 , -82.03931 , -87.1     , -83.56768 , -94.600006,\n",
       "       -96.674194, -90.974396, -86.59164 , -95.100006, -90.30001 ,\n",
       "       -84.1     , -82.9     , -82.5     , -88.4     , -91.435844,\n",
       "       -97.40001 , -91.50001 , -87.4     , -81.4     , -82.7     ,\n",
       "       -96.94744 , -85.14715 , -96.700005, -89.7     , -88.1     ,\n",
       "       -87.9     , -96.600006, -96.90001 , -97.100006, -81.7     ,\n",
       "       -97.100006, -86.6     , -89.2     , -89.      , -86.7933  ,\n",
       "       -90.100006, -93.200005, -82.6     , -85.7     , -88.9     ,\n",
       "       -82.9     , -97.30001 , -85.5     , -84.2     , -97.50001 ,\n",
       "       -94.90001 , -89.5     , -81.2     , -90.80001 , -92.200005,\n",
       "       -97.80001 , -95.90001 , -97.40001 , -94.26288 , -85.13979 ,\n",
       "       -83.08181 , -96.606544, -81.1     , -82.8     , -90.50001 ,\n",
       "       -80.9     , -86.58332 , -97.30001 , -97.50001 , -97.25193 ,\n",
       "       -93.30001 , -93.100006, -90.600006, -95.666664, -95.600006,\n",
       "       -90.57599 , -83.19626 , -91.00001 , -95.100006, -89.81237 ,\n",
       "       -97.100006, -90.200005, -85.3     , -95.700005, -88.      ,\n",
       "       -81.8     , -82.8     , -82.7     , -95.90001 , -82.7     ,\n",
       "       -95.43621 , -92.200005, -97.80001 , -90.90001 , -87.5     ,\n",
       "       -96.200005, -97.40001 , -92.700005, -90.88973 , -88.778435,\n",
       "       -91.40001 , -97.100006, -81.99169 , -82.072235, -85.43296 ,\n",
       "       -82.2     , -82.1     , -97.700005, -87.9     , -94.200005,\n",
       "       -86.2     , -82.2     , -82.1     , -96.40001 , -85.7     ,\n",
       "       -86.35062 , -83.10879 , -90.100006, -87.1     , -97.600006,\n",
       "       -89.6     , -89.6     , -93.74545 , -93.700005, -94.90001 ,\n",
       "       -81.7     , -80.5     , -84.717705, -96.36921 , -84.7     ,\n",
       "       -95.200005, -88.1     , -89.3     , -95.100006, -97.00001 ,\n",
       "       -97.50001 , -94.30001 , -97.200005, -89.6     , -88.8     ,\n",
       "       -97.00001 , -89.4     , -86.4     , -94.40001 , -91.700005,\n",
       "       -96.80001 , -97.200005, -97.40001 , -93.700005, -95.00001 ,\n",
       "       -94.700005, -85.6     ], dtype=float32)</pre></div></li></ul></div></li><li class='xr-section-item'><input id='section-5b32766d-b331-4774-a0b6-0c95dfcff33d' class='xr-section-summary-in' type='checkbox'  ><label for='section-5b32766d-b331-4774-a0b6-0c95dfcff33d' class='xr-section-summary' >Data variables: <span>(16)</span></label><div class='xr-section-inline-details'></div><div class='xr-section-details'><ul class='xr-var-list'><li class='xr-var-item'><div class='xr-var-name'><span>nature</span></div><div class='xr-var-dims'>(time)</div><div class='xr-var-dtype'>|S2</div><div class='xr-var-preview xr-preview'>b&#x27;TS&#x27; b&#x27;TS&#x27; b&#x27;TS&#x27; ... b&#x27;TS&#x27; b&#x27;TS&#x27;</div><input id='attrs-6fe41f39-53e0-44a8-85cf-9ed27b6294e8' class='xr-var-attrs-in' type='checkbox' ><label for='attrs-6fe41f39-53e0-44a8-85cf-9ed27b6294e8' title='Show/Hide attributes'><svg class='icon xr-icon-file-text2'><use xlink:href='#icon-file-text2'></use></svg></label><input id='data-95e6d396-0e72-4bd2-ae3a-a503fe54ff48' class='xr-var-data-in' type='checkbox'><label for='data-95e6d396-0e72-4bd2-ae3a-a503fe54ff48' title='Show/Hide data repr'><svg class='icon xr-icon-database'><use xlink:href='#icon-database'></use></svg></label><div class='xr-var-attrs'><dl class='xr-attrs'><dt><span>long_name :</span></dt><dd>Nature of the cyclone</dd><dt><span>Note :</span></dt><dd>NR=Not_Reported DS=Disturbance TS=Tropical_System ET=Extratropical_System SS=Subtropical_System MX=MIXED_occurs_when_agencies_reported_inconsistent_types</dd><dt><span>coverage_content_type :</span></dt><dd>thematicClassification</dd></dl></div><div class='xr-var-data'><pre>array([b&#x27;TS&#x27;, b&#x27;TS&#x27;, b&#x27;TS&#x27;, b&#x27;TS&#x27;, b&#x27;TS&#x27;, b&#x27;TS&#x27;, b&#x27;TS&#x27;, b&#x27;TS&#x27;, b&#x27;TS&#x27;,\n",
       "       b&#x27;TS&#x27;, b&#x27;TS&#x27;, b&#x27;TS&#x27;, b&#x27;TS&#x27;, b&#x27;TS&#x27;, b&#x27;TS&#x27;, b&#x27;TS&#x27;, b&#x27;TS&#x27;, b&#x27;TS&#x27;,\n",
       "       b&#x27;TS&#x27;, b&#x27;TS&#x27;, b&#x27;TS&#x27;, b&#x27;TS&#x27;, b&#x27;TS&#x27;, b&#x27;TS&#x27;, b&#x27;TS&#x27;, b&#x27;TS&#x27;, b&#x27;TS&#x27;,\n",
       "       b&#x27;TS&#x27;, b&#x27;TS&#x27;, b&#x27;TS&#x27;, b&#x27;TS&#x27;, b&#x27;TS&#x27;, b&#x27;TS&#x27;, b&#x27;TS&#x27;, b&#x27;TS&#x27;, b&#x27;TS&#x27;,\n",
       "       b&#x27;TS&#x27;, b&#x27;TS&#x27;, b&#x27;TS&#x27;, b&#x27;TS&#x27;, b&#x27;TS&#x27;, b&#x27;TS&#x27;, b&#x27;TS&#x27;, b&#x27;TS&#x27;, b&#x27;TS&#x27;,\n",
       "       b&#x27;TS&#x27;, b&#x27;TS&#x27;, b&#x27;TS&#x27;, b&#x27;TS&#x27;, b&#x27;TS&#x27;, b&#x27;TS&#x27;, b&#x27;TS&#x27;, b&#x27;TS&#x27;, b&#x27;TS&#x27;,\n",
       "       b&#x27;TS&#x27;, b&#x27;TS&#x27;, b&#x27;TS&#x27;, b&#x27;TS&#x27;, b&#x27;TS&#x27;, b&#x27;TS&#x27;, b&#x27;TS&#x27;, b&#x27;TS&#x27;, b&#x27;TS&#x27;,\n",
       "       b&#x27;TS&#x27;, b&#x27;TS&#x27;, b&#x27;TS&#x27;, b&#x27;TS&#x27;, b&#x27;TS&#x27;, b&#x27;TS&#x27;, b&#x27;TS&#x27;, b&#x27;TS&#x27;, b&#x27;TS&#x27;,\n",
       "       b&#x27;TS&#x27;, b&#x27;TS&#x27;, b&#x27;TS&#x27;, b&#x27;TS&#x27;, b&#x27;TS&#x27;, b&#x27;TS&#x27;, b&#x27;TS&#x27;, b&#x27;TS&#x27;, b&#x27;TS&#x27;,\n",
       "       b&#x27;TS&#x27;, b&#x27;TS&#x27;, b&#x27;TS&#x27;, b&#x27;TS&#x27;, b&#x27;TS&#x27;, b&#x27;TS&#x27;, b&#x27;TS&#x27;, b&#x27;TS&#x27;, b&#x27;TS&#x27;,\n",
       "       b&#x27;TS&#x27;, b&#x27;TS&#x27;, b&#x27;TS&#x27;, b&#x27;TS&#x27;, b&#x27;TS&#x27;, b&#x27;TS&#x27;, b&#x27;TS&#x27;, b&#x27;TS&#x27;, b&#x27;TS&#x27;,\n",
       "       b&#x27;TS&#x27;, b&#x27;TS&#x27;, b&#x27;TS&#x27;, b&#x27;TS&#x27;, b&#x27;TS&#x27;, b&#x27;TS&#x27;, b&#x27;TS&#x27;, b&#x27;TS&#x27;, b&#x27;TS&#x27;,\n",
       "       b&#x27;TS&#x27;, b&#x27;TS&#x27;, b&#x27;TS&#x27;, b&#x27;TS&#x27;, b&#x27;TS&#x27;, b&#x27;TS&#x27;, b&#x27;TS&#x27;, b&#x27;TS&#x27;, b&#x27;TS&#x27;,\n",
       "       b&#x27;TS&#x27;, b&#x27;TS&#x27;, b&#x27;TS&#x27;, b&#x27;TS&#x27;, b&#x27;TS&#x27;, b&#x27;TS&#x27;, b&#x27;TS&#x27;, b&#x27;TS&#x27;, b&#x27;TS&#x27;,\n",
       "       b&#x27;TS&#x27;, b&#x27;TS&#x27;, b&#x27;TS&#x27;, b&#x27;TS&#x27;, b&#x27;TS&#x27;, b&#x27;TS&#x27;, b&#x27;TS&#x27;, b&#x27;TS&#x27;, b&#x27;TS&#x27;,\n",
       "       b&#x27;TS&#x27;, b&#x27;TS&#x27;, b&#x27;TS&#x27;, b&#x27;TS&#x27;, b&#x27;TS&#x27;, b&#x27;TS&#x27;, b&#x27;TS&#x27;, b&#x27;TS&#x27;, b&#x27;TS&#x27;,\n",
       "       b&#x27;TS&#x27;, b&#x27;TS&#x27;, b&#x27;TS&#x27;, b&#x27;TS&#x27;, b&#x27;TS&#x27;, b&#x27;TS&#x27;, b&#x27;TS&#x27;, b&#x27;TS&#x27;, b&#x27;TS&#x27;,\n",
       "       b&#x27;TS&#x27;, b&#x27;TS&#x27;, b&#x27;TS&#x27;, b&#x27;TS&#x27;, b&#x27;TS&#x27;, b&#x27;TS&#x27;, b&#x27;TS&#x27;, b&#x27;TS&#x27;, b&#x27;TS&#x27;,\n",
       "       b&#x27;TS&#x27;, b&#x27;TS&#x27;, b&#x27;TS&#x27;, b&#x27;TS&#x27;, b&#x27;TS&#x27;, b&#x27;TS&#x27;, b&#x27;TS&#x27;, b&#x27;TS&#x27;, b&#x27;TS&#x27;,\n",
       "       b&#x27;TS&#x27;, b&#x27;TS&#x27;, b&#x27;TS&#x27;, b&#x27;TS&#x27;, b&#x27;TS&#x27;, b&#x27;TS&#x27;, b&#x27;TS&#x27;, b&#x27;TS&#x27;, b&#x27;TS&#x27;,\n",
       "       b&#x27;TS&#x27;, b&#x27;TS&#x27;, b&#x27;TS&#x27;, b&#x27;TS&#x27;, b&#x27;TS&#x27;, b&#x27;TS&#x27;, b&#x27;TS&#x27;, b&#x27;TS&#x27;, b&#x27;TS&#x27;,\n",
       "       b&#x27;TS&#x27;, b&#x27;TS&#x27;, b&#x27;TS&#x27;], dtype=&#x27;|S2&#x27;)</pre></div></li><li class='xr-var-item'><div class='xr-var-name'><span>basin</span></div><div class='xr-var-dims'>(time)</div><div class='xr-var-dtype'>|S2</div><div class='xr-var-preview xr-preview'>b&#x27;NA&#x27; b&#x27;NA&#x27; b&#x27;NA&#x27; ... b&#x27;NA&#x27; b&#x27;NA&#x27;</div><input id='attrs-a8c48539-9942-4d2f-abfb-4ce3d57645f4' class='xr-var-attrs-in' type='checkbox' ><label for='attrs-a8c48539-9942-4d2f-abfb-4ce3d57645f4' title='Show/Hide attributes'><svg class='icon xr-icon-file-text2'><use xlink:href='#icon-file-text2'></use></svg></label><input id='data-05661183-956c-4546-8233-4fe0e197ddb6' class='xr-var-data-in' type='checkbox'><label for='data-05661183-956c-4546-8233-4fe0e197ddb6' title='Show/Hide data repr'><svg class='icon xr-icon-database'><use xlink:href='#icon-database'></use></svg></label><div class='xr-var-attrs'><dl class='xr-attrs'><dt><span>long_name :</span></dt><dd>Current basin</dd><dt><span>Note :</span></dt><dd>EP=East_Pacific NA=North_Atlantic NI=North_Indian SA=South_Atlantic SI=South_Indian SP=South_Pacific WP=Western_Pacific</dd><dt><span>coverage_content_type :</span></dt><dd>thematicClassification</dd></dl></div><div class='xr-var-data'><pre>array([b&#x27;NA&#x27;, b&#x27;NA&#x27;, b&#x27;NA&#x27;, b&#x27;NA&#x27;, b&#x27;NA&#x27;, b&#x27;NA&#x27;, b&#x27;NA&#x27;, b&#x27;NA&#x27;, b&#x27;NA&#x27;,\n",
       "       b&#x27;NA&#x27;, b&#x27;NA&#x27;, b&#x27;NA&#x27;, b&#x27;NA&#x27;, b&#x27;NA&#x27;, b&#x27;NA&#x27;, b&#x27;NA&#x27;, b&#x27;NA&#x27;, b&#x27;NA&#x27;,\n",
       "       b&#x27;NA&#x27;, b&#x27;NA&#x27;, b&#x27;NA&#x27;, b&#x27;NA&#x27;, b&#x27;NA&#x27;, b&#x27;NA&#x27;, b&#x27;NA&#x27;, b&#x27;NA&#x27;, b&#x27;NA&#x27;,\n",
       "       b&#x27;NA&#x27;, b&#x27;NA&#x27;, b&#x27;NA&#x27;, b&#x27;NA&#x27;, b&#x27;NA&#x27;, b&#x27;NA&#x27;, b&#x27;NA&#x27;, b&#x27;NA&#x27;, b&#x27;NA&#x27;,\n",
       "       b&#x27;NA&#x27;, b&#x27;NA&#x27;, b&#x27;NA&#x27;, b&#x27;NA&#x27;, b&#x27;NA&#x27;, b&#x27;NA&#x27;, b&#x27;NA&#x27;, b&#x27;NA&#x27;, b&#x27;NA&#x27;,\n",
       "       b&#x27;NA&#x27;, b&#x27;NA&#x27;, b&#x27;NA&#x27;, b&#x27;NA&#x27;, b&#x27;NA&#x27;, b&#x27;NA&#x27;, b&#x27;NA&#x27;, b&#x27;NA&#x27;, b&#x27;NA&#x27;,\n",
       "       b&#x27;NA&#x27;, b&#x27;NA&#x27;, b&#x27;NA&#x27;, b&#x27;NA&#x27;, b&#x27;NA&#x27;, b&#x27;NA&#x27;, b&#x27;NA&#x27;, b&#x27;NA&#x27;, b&#x27;NA&#x27;,\n",
       "       b&#x27;NA&#x27;, b&#x27;NA&#x27;, b&#x27;NA&#x27;, b&#x27;NA&#x27;, b&#x27;NA&#x27;, b&#x27;NA&#x27;, b&#x27;NA&#x27;, b&#x27;NA&#x27;, b&#x27;NA&#x27;,\n",
       "       b&#x27;NA&#x27;, b&#x27;NA&#x27;, b&#x27;NA&#x27;, b&#x27;NA&#x27;, b&#x27;NA&#x27;, b&#x27;NA&#x27;, b&#x27;NA&#x27;, b&#x27;NA&#x27;, b&#x27;NA&#x27;,\n",
       "       b&#x27;NA&#x27;, b&#x27;NA&#x27;, b&#x27;NA&#x27;, b&#x27;NA&#x27;, b&#x27;NA&#x27;, b&#x27;NA&#x27;, b&#x27;NA&#x27;, b&#x27;NA&#x27;, b&#x27;NA&#x27;,\n",
       "       b&#x27;NA&#x27;, b&#x27;NA&#x27;, b&#x27;NA&#x27;, b&#x27;NA&#x27;, b&#x27;NA&#x27;, b&#x27;NA&#x27;, b&#x27;NA&#x27;, b&#x27;NA&#x27;, b&#x27;NA&#x27;,\n",
       "       b&#x27;NA&#x27;, b&#x27;NA&#x27;, b&#x27;NA&#x27;, b&#x27;NA&#x27;, b&#x27;NA&#x27;, b&#x27;NA&#x27;, b&#x27;NA&#x27;, b&#x27;NA&#x27;, b&#x27;NA&#x27;,\n",
       "       b&#x27;NA&#x27;, b&#x27;NA&#x27;, b&#x27;NA&#x27;, b&#x27;NA&#x27;, b&#x27;NA&#x27;, b&#x27;NA&#x27;, b&#x27;NA&#x27;, b&#x27;NA&#x27;, b&#x27;NA&#x27;,\n",
       "       b&#x27;NA&#x27;, b&#x27;NA&#x27;, b&#x27;NA&#x27;, b&#x27;NA&#x27;, b&#x27;NA&#x27;, b&#x27;NA&#x27;, b&#x27;NA&#x27;, b&#x27;NA&#x27;, b&#x27;NA&#x27;,\n",
       "       b&#x27;NA&#x27;, b&#x27;NA&#x27;, b&#x27;NA&#x27;, b&#x27;NA&#x27;, b&#x27;NA&#x27;, b&#x27;NA&#x27;, b&#x27;NA&#x27;, b&#x27;NA&#x27;, b&#x27;NA&#x27;,\n",
       "       b&#x27;NA&#x27;, b&#x27;NA&#x27;, b&#x27;NA&#x27;, b&#x27;NA&#x27;, b&#x27;NA&#x27;, b&#x27;NA&#x27;, b&#x27;NA&#x27;, b&#x27;NA&#x27;, b&#x27;NA&#x27;,\n",
       "       b&#x27;NA&#x27;, b&#x27;NA&#x27;, b&#x27;NA&#x27;, b&#x27;NA&#x27;, b&#x27;NA&#x27;, b&#x27;NA&#x27;, b&#x27;NA&#x27;, b&#x27;NA&#x27;, b&#x27;NA&#x27;,\n",
       "       b&#x27;NA&#x27;, b&#x27;NA&#x27;, b&#x27;NA&#x27;, b&#x27;NA&#x27;, b&#x27;NA&#x27;, b&#x27;NA&#x27;, b&#x27;NA&#x27;, b&#x27;NA&#x27;, b&#x27;NA&#x27;,\n",
       "       b&#x27;NA&#x27;, b&#x27;NA&#x27;, b&#x27;NA&#x27;, b&#x27;NA&#x27;, b&#x27;NA&#x27;, b&#x27;NA&#x27;, b&#x27;NA&#x27;, b&#x27;NA&#x27;, b&#x27;NA&#x27;,\n",
       "       b&#x27;NA&#x27;, b&#x27;NA&#x27;, b&#x27;NA&#x27;, b&#x27;NA&#x27;, b&#x27;NA&#x27;, b&#x27;NA&#x27;, b&#x27;NA&#x27;, b&#x27;NA&#x27;, b&#x27;NA&#x27;,\n",
       "       b&#x27;NA&#x27;, b&#x27;NA&#x27;, b&#x27;NA&#x27;, b&#x27;NA&#x27;, b&#x27;NA&#x27;, b&#x27;NA&#x27;, b&#x27;NA&#x27;, b&#x27;NA&#x27;, b&#x27;NA&#x27;,\n",
       "       b&#x27;NA&#x27;, b&#x27;NA&#x27;, b&#x27;NA&#x27;], dtype=&#x27;|S2&#x27;)</pre></div></li><li class='xr-var-item'><div class='xr-var-name'><span>subbasin</span></div><div class='xr-var-dims'>(time)</div><div class='xr-var-dtype'>|S2</div><div class='xr-var-preview xr-preview'>b&#x27;GM&#x27; b&#x27;GM&#x27; b&#x27;GM&#x27; ... b&#x27;GM&#x27; b&#x27;GM&#x27;</div><input id='attrs-dfd02cdc-2a14-4ef7-9ce0-39af7d412fbd' class='xr-var-attrs-in' type='checkbox' ><label for='attrs-dfd02cdc-2a14-4ef7-9ce0-39af7d412fbd' title='Show/Hide attributes'><svg class='icon xr-icon-file-text2'><use xlink:href='#icon-file-text2'></use></svg></label><input id='data-935b2db9-7f1c-46a8-bb8e-f1ae6f398200' class='xr-var-data-in' type='checkbox'><label for='data-935b2db9-7f1c-46a8-bb8e-f1ae6f398200' title='Show/Hide data repr'><svg class='icon xr-icon-database'><use xlink:href='#icon-database'></use></svg></label><div class='xr-var-attrs'><dl class='xr-attrs'><dt><span>long_name :</span></dt><dd>Current sub-basin</dd><dt><span>Note :</span></dt><dd>AS=Arabian_Sea BB=Bay_of_Bengal CP=Central_Pacific CS=Caribbean_Sea GM=Gulf_of_Mexico NA=North_Atlantic EA=Eastern_Australia WA=Western_Australia MM=No_subbasin_for_this_position </dd><dt><span>coverage_content_type :</span></dt><dd>thematicClassification</dd></dl></div><div class='xr-var-data'><pre>array([b&#x27;GM&#x27;, b&#x27;GM&#x27;, b&#x27;GM&#x27;, b&#x27;GM&#x27;, b&#x27;GM&#x27;, b&#x27;GM&#x27;, b&#x27;GM&#x27;, b&#x27;GM&#x27;, b&#x27;GM&#x27;,\n",
       "       b&#x27;GM&#x27;, b&#x27;GM&#x27;, b&#x27;GM&#x27;, b&#x27;GM&#x27;, b&#x27;GM&#x27;, b&#x27;GM&#x27;, b&#x27;GM&#x27;, b&#x27;GM&#x27;, b&#x27;GM&#x27;,\n",
       "       b&#x27;GM&#x27;, b&#x27;GM&#x27;, b&#x27;GM&#x27;, b&#x27;GM&#x27;, b&#x27;GM&#x27;, b&#x27;GM&#x27;, b&#x27;GM&#x27;, b&#x27;GM&#x27;, b&#x27;GM&#x27;,\n",
       "       b&#x27;GM&#x27;, b&#x27;GM&#x27;, b&#x27;GM&#x27;, b&#x27;GM&#x27;, b&#x27;GM&#x27;, b&#x27;GM&#x27;, b&#x27;GM&#x27;, b&#x27;GM&#x27;, b&#x27;GM&#x27;,\n",
       "       b&#x27;GM&#x27;, b&#x27;GM&#x27;, b&#x27;GM&#x27;, b&#x27;GM&#x27;, b&#x27;GM&#x27;, b&#x27;GM&#x27;, b&#x27;GM&#x27;, b&#x27;GM&#x27;, b&#x27;GM&#x27;,\n",
       "       b&#x27;GM&#x27;, b&#x27;GM&#x27;, b&#x27;GM&#x27;, b&#x27;GM&#x27;, b&#x27;GM&#x27;, b&#x27;GM&#x27;, b&#x27;GM&#x27;, b&#x27;GM&#x27;, b&#x27;GM&#x27;,\n",
       "       b&#x27;GM&#x27;, b&#x27;GM&#x27;, b&#x27;GM&#x27;, b&#x27;GM&#x27;, b&#x27;GM&#x27;, b&#x27;GM&#x27;, b&#x27;GM&#x27;, b&#x27;GM&#x27;, b&#x27;GM&#x27;,\n",
       "       b&#x27;GM&#x27;, b&#x27;GM&#x27;, b&#x27;GM&#x27;, b&#x27;GM&#x27;, b&#x27;GM&#x27;, b&#x27;GM&#x27;, b&#x27;GM&#x27;, b&#x27;GM&#x27;, b&#x27;GM&#x27;,\n",
       "       b&#x27;GM&#x27;, b&#x27;GM&#x27;, b&#x27;GM&#x27;, b&#x27;GM&#x27;, b&#x27;GM&#x27;, b&#x27;GM&#x27;, b&#x27;GM&#x27;, b&#x27;GM&#x27;, b&#x27;GM&#x27;,\n",
       "       b&#x27;GM&#x27;, b&#x27;GM&#x27;, b&#x27;GM&#x27;, b&#x27;GM&#x27;, b&#x27;GM&#x27;, b&#x27;GM&#x27;, b&#x27;GM&#x27;, b&#x27;GM&#x27;, b&#x27;GM&#x27;,\n",
       "       b&#x27;GM&#x27;, b&#x27;GM&#x27;, b&#x27;GM&#x27;, b&#x27;GM&#x27;, b&#x27;GM&#x27;, b&#x27;GM&#x27;, b&#x27;GM&#x27;, b&#x27;GM&#x27;, b&#x27;GM&#x27;,\n",
       "       b&#x27;GM&#x27;, b&#x27;GM&#x27;, b&#x27;GM&#x27;, b&#x27;GM&#x27;, b&#x27;GM&#x27;, b&#x27;GM&#x27;, b&#x27;GM&#x27;, b&#x27;GM&#x27;, b&#x27;GM&#x27;,\n",
       "       b&#x27;GM&#x27;, b&#x27;GM&#x27;, b&#x27;GM&#x27;, b&#x27;GM&#x27;, b&#x27;GM&#x27;, b&#x27;GM&#x27;, b&#x27;GM&#x27;, b&#x27;GM&#x27;, b&#x27;GM&#x27;,\n",
       "       b&#x27;GM&#x27;, b&#x27;GM&#x27;, b&#x27;GM&#x27;, b&#x27;GM&#x27;, b&#x27;GM&#x27;, b&#x27;GM&#x27;, b&#x27;GM&#x27;, b&#x27;GM&#x27;, b&#x27;GM&#x27;,\n",
       "       b&#x27;GM&#x27;, b&#x27;GM&#x27;, b&#x27;GM&#x27;, b&#x27;GM&#x27;, b&#x27;GM&#x27;, b&#x27;GM&#x27;, b&#x27;GM&#x27;, b&#x27;GM&#x27;, b&#x27;GM&#x27;,\n",
       "       b&#x27;GM&#x27;, b&#x27;GM&#x27;, b&#x27;GM&#x27;, b&#x27;GM&#x27;, b&#x27;GM&#x27;, b&#x27;GM&#x27;, b&#x27;GM&#x27;, b&#x27;GM&#x27;, b&#x27;GM&#x27;,\n",
       "       b&#x27;GM&#x27;, b&#x27;GM&#x27;, b&#x27;GM&#x27;, b&#x27;GM&#x27;, b&#x27;GM&#x27;, b&#x27;GM&#x27;, b&#x27;GM&#x27;, b&#x27;GM&#x27;, b&#x27;GM&#x27;,\n",
       "       b&#x27;GM&#x27;, b&#x27;GM&#x27;, b&#x27;GM&#x27;, b&#x27;GM&#x27;, b&#x27;GM&#x27;, b&#x27;GM&#x27;, b&#x27;GM&#x27;, b&#x27;GM&#x27;, b&#x27;GM&#x27;,\n",
       "       b&#x27;GM&#x27;, b&#x27;GM&#x27;, b&#x27;GM&#x27;, b&#x27;GM&#x27;, b&#x27;GM&#x27;, b&#x27;GM&#x27;, b&#x27;GM&#x27;, b&#x27;GM&#x27;, b&#x27;GM&#x27;,\n",
       "       b&#x27;GM&#x27;, b&#x27;GM&#x27;, b&#x27;GM&#x27;, b&#x27;GM&#x27;, b&#x27;GM&#x27;, b&#x27;GM&#x27;, b&#x27;GM&#x27;, b&#x27;GM&#x27;, b&#x27;GM&#x27;,\n",
       "       b&#x27;GM&#x27;, b&#x27;GM&#x27;, b&#x27;GM&#x27;, b&#x27;GM&#x27;, b&#x27;GM&#x27;, b&#x27;GM&#x27;, b&#x27;GM&#x27;, b&#x27;GM&#x27;, b&#x27;GM&#x27;,\n",
       "       b&#x27;GM&#x27;, b&#x27;GM&#x27;, b&#x27;GM&#x27;], dtype=&#x27;|S2&#x27;)</pre></div></li><li class='xr-var-item'><div class='xr-var-name'><span>name</span></div><div class='xr-var-dims'>(time)</div><div class='xr-var-dtype'>|S128</div><div class='xr-var-preview xr-preview'>b&#x27;DIANA&#x27; ... b&#x27;NOT_NAMED&#x27;</div><input id='attrs-df38a2e1-5bcf-4db5-9471-7c5391b43ff3' class='xr-var-attrs-in' type='checkbox' ><label for='attrs-df38a2e1-5bcf-4db5-9471-7c5391b43ff3' title='Show/Hide attributes'><svg class='icon xr-icon-file-text2'><use xlink:href='#icon-file-text2'></use></svg></label><input id='data-f0f07394-1510-4a86-9b25-8c416413d92a' class='xr-var-data-in' type='checkbox'><label for='data-f0f07394-1510-4a86-9b25-8c416413d92a' title='Show/Hide data repr'><svg class='icon xr-icon-database'><use xlink:href='#icon-database'></use></svg></label><div class='xr-var-attrs'><dl class='xr-attrs'><dt><span>long_name :</span></dt><dd>Name of system</dd><dt><span>description :</span></dt><dd>May be a combination of names from different agencies</dd><dt><span>coverage_content_type :</span></dt><dd>thematicClassification</dd></dl></div><div class='xr-var-data'><pre>array([b&#x27;DIANA&#x27;, b&#x27;NOT_NAMED&#x27;, b&#x27;NOT_NAMED&#x27;, b&#x27;NOT_NAMED&#x27;, b&#x27;NOT_NAMED&#x27;,\n",
       "       b&#x27;NOT_NAMED&#x27;, b&#x27;NOT_NAMED&#x27;, b&#x27;NOT_NAMED&#x27;, b&#x27;NOT_NAMED&#x27;, b&#x27;ALEX&#x27;,\n",
       "       b&#x27;NOT_NAMED&#x27;, b&#x27;NOT_NAMED&#x27;, b&#x27;NOT_NAMED&#x27;, b&#x27;KARL&#x27;, b&#x27;NOT_NAMED&#x27;,\n",
       "       b&#x27;NOT_NAMED&#x27;, b&#x27;NOT_NAMED&#x27;, b&#x27;NOT_NAMED&#x27;, b&#x27;DONNA&#x27;, b&#x27;ETHEL&#x27;,\n",
       "       b&#x27;NOT_NAMED&#x27;, b&#x27;ISAAC&#x27;, b&#x27;NOT_NAMED&#x27;, b&#x27;NOT_NAMED&#x27;, b&#x27;NOT_NAMED&#x27;,\n",
       "       b&#x27;NOT_NAMED&#x27;, b&#x27;NOT_NAMED&#x27;, b&#x27;NOT_NAMED&#x27;, b&#x27;NOT_NAMED&#x27;, b&#x27;CARLA&#x27;,\n",
       "       b&#x27;NOT_NAMED&#x27;, b&#x27;NOT_NAMED&#x27;, b&#x27;NOT_NAMED&#x27;, b&#x27;NOT_NAMED&#x27;,\n",
       "       b&#x27;NOT_NAMED&#x27;, b&#x27;NOT_NAMED&#x27;, b&#x27;NOT_NAMED&#x27;, b&#x27;NOT_NAMED&#x27;,\n",
       "       b&#x27;NOT_NAMED&#x27;, b&#x27;NOT_NAMED&#x27;, b&#x27;NOT_NAMED&#x27;, b&#x27;NOT_NAMED&#x27;,\n",
       "       b&#x27;NOT_NAMED&#x27;, b&#x27;ERIN&#x27;, b&#x27;NOT_NAMED&#x27;, b&#x27;NOT_NAMED&#x27;, b&#x27;NOT_NAMED&#x27;,\n",
       "       b&#x27;OPAL&#x27;, b&#x27;NOT_NAMED&#x27;, b&#x27;NOT_NAMED&#x27;, b&#x27;NOT_NAMED&#x27;, b&#x27;NOT_NAMED&#x27;,\n",
       "       b&#x27;NOT_NAMED&#x27;, b&#x27;NOT_NAMED&#x27;, b&#x27;NOT_NAMED&#x27;, b&#x27;HERMINE&#x27;, b&#x27;NOT_NAMED&#x27;,\n",
       "       b&#x27;NOT_NAMED&#x27;, b&#x27;NOT_NAMED&#x27;, b&#x27;NOT_NAMED&#x27;, b&#x27;NOT_NAMED&#x27;, b&#x27;HILDA&#x27;,\n",
       "       b&#x27;NOT_NAMED&#x27;, b&#x27;ISBELL&#x27;, b&#x27;NOT_NAMED&#x27;, b&#x27;NOT_NAMED&#x27;, b&#x27;NOT_NAMED&#x27;,\n",
       "       b&#x27;NOT_NAMED&#x27;, b&#x27;DANNY&#x27;, b&#x27;DANNY&#x27;, b&#x27;DANNY&#x27;, b&#x27;FRANKLIN&#x27;, b&#x27;HARVEY&#x27;,\n",
       "       b&#x27;HARVEY&#x27;, b&#x27;IRMA&#x27;, b&#x27;KATIA&#x27;, b&#x27;NOT_NAMED&#x27;, b&#x27;NATE&#x27;, b&#x27;NATE&#x27;,\n",
       "       b&#x27;NOT_NAMED&#x27;, b&#x27;BETSY&#x27;, b&#x27;NOT_NAMED&#x27;, b&#x27;NOT_NAMED&#x27;, b&#x27;EARL&#x27;,\n",
       "       b&#x27;GEORGES&#x27;, b&#x27;NOT_NAMED&#x27;, b&#x27;NOT_NAMED&#x27;, b&#x27;MICHAEL&#x27;, b&#x27;ALMA&#x27;,\n",
       "       b&#x27;NOT_NAMED&#x27;, b&#x27;NOT_NAMED&#x27;, b&#x27;NOT_NAMED&#x27;, b&#x27;NOT_NAMED&#x27;,\n",
       "       b&#x27;NOT_NAMED&#x27;, b&#x27;BARRY&#x27;, b&#x27;INEZ&#x27;, b&#x27;NOT_NAMED&#x27;, b&#x27;BRET&#x27;,\n",
       "       b&#x27;NOT_NAMED&#x27;, b&#x27;NOT_NAMED&#x27;, b&#x27;NOT_NAMED&#x27;, b&#x27;NOT_NAMED&#x27;, b&#x27;IRENE&#x27;,\n",
       "       b&#x27;NOT_NAMED&#x27;, b&#x27;NOT_NAMED&#x27;, b&#x27;NOT_NAMED&#x27;, b&#x27;NOT_NAMED&#x27;, b&#x27;HANNA&#x27;,\n",
       "       b&#x27;HANNA&#x27;, b&#x27;NOT_NAMED&#x27;, b&#x27;LAURA&#x27;, b&#x27;DELTA&#x27;, b&#x27;ZETA&#x27;, b&#x27;NOT_NAMED&#x27;,\n",
       "       b&#x27;NOT_NAMED&#x27;, b&#x27;NOT_NAMED&#x27;, b&#x27;NOT_NAMED&#x27;, b&#x27;NOT_NAMED&#x27;, b&#x27;ALICIA&#x27;,\n",
       "       b&#x27;NOT_NAMED&#x27;, b&#x27;GRACE&#x27;, b&#x27;IDA&#x27;, b&#x27;NOT_NAMED&#x27;, b&#x27;NICHOLAS&#x27;,\n",
       "       b&#x27;BAKER&#x27;, b&#x27;NOT_NAMED&#x27;, b&#x27;EASY&#x27;, b&#x27;EASY&#x27;, b&#x27;ITEM&#x27;, b&#x27;GLADYS&#x27;,\n",
       "       b&#x27;NOT_NAMED&#x27;, b&#x27;LILI&#x27;, b&#x27;CHARLIE&#x27;, b&#x27;NOT_NAMED&#x27;, b&#x27;NOT_NAMED&#x27;,\n",
       "       b&#x27;CLAUDETTE&#x27;, b&#x27;ERIKA&#x27;, b&#x27;DANNY&#x27;, b&#x27;NOT_NAMED&#x27;, b&#x27;NOT_NAMED&#x27;,\n",
       "       b&#x27;JUAN&#x27;, b&#x27;CELIA&#x27;, b&#x27;NOT_NAMED&#x27;, b&#x27;NOT_NAMED&#x27;, b&#x27;NOT_NAMED&#x27;,\n",
       "       b&#x27;CHARLEY&#x27;, b&#x27;CHARLEY&#x27;, b&#x27;ELLA&#x27;, b&#x27;IVAN&#x27;, b&#x27;BONNIE&#x27;, b&#x27;FLORENCE&#x27;,\n",
       "       b&#x27;HAZEL&#x27;, b&#x27;HAZEL&#x27;, b&#x27;NOT_NAMED&#x27;, b&#x27;NOT_NAMED&#x27;, b&#x27;NOT_NAMED&#x27;,\n",
       "       b&#x27;NOT_NAMED&#x27;, b&#x27;CINDY&#x27;, b&#x27;DENNIS&#x27;, b&#x27;EMILY&#x27;, b&#x27;KATRINA&#x27;,\n",
       "       b&#x27;KATRINA&#x27;, b&#x27;NOT_NAMED&#x27;, b&#x27;RITA&#x27;, b&#x27;STAN&#x27;, b&#x27;WILMA&#x27;, b&#x27;FLOYD&#x27;,\n",
       "       b&#x27;NOT_NAMED&#x27;, b&#x27;JANET&#x27;, b&#x27;NOT_NAMED&#x27;, b&#x27;NOT_NAMED&#x27;, b&#x27;NOT_NAMED&#x27;,\n",
       "       b&#x27;FLORENCE&#x27;, b&#x27;NOT_NAMED&#x27;, b&#x27;DEAN&#x27;, b&#x27;ANNA&#x27;, b&#x27;HUMBERTO&#x27;,\n",
       "       b&#x27;NOT_NAMED&#x27;, b&#x27;NOT_NAMED&#x27;, b&#x27;NOT_NAMED&#x27;, b&#x27;LORENZO&#x27;, b&#x27;FLOSSY&#x27;,\n",
       "       b&#x27;FLOSSY&#x27;, b&#x27;CHANTAL&#x27;, b&#x27;NOT_NAMED&#x27;, b&#x27;NOT_NAMED&#x27;, b&#x27;DOLLY&#x27;,\n",
       "       b&#x27;DOLLY&#x27;, b&#x27;AUDREY&#x27;, b&#x27;JERRY&#x27;, b&#x27;IKE&#x27;, b&#x27;NOT_NAMED&#x27;], dtype=&#x27;|S128&#x27;)</pre></div></li><li class='xr-var-item'><div class='xr-var-name'><span>storm_speed</span></div><div class='xr-var-dims'>(time)</div><div class='xr-var-dtype'>float32</div><div class='xr-var-preview xr-preview'>6.173 4.63 2.572 ... 6.688 5.659</div><input id='attrs-f0dac270-2677-45ac-b86d-938c4ce5ddf5' class='xr-var-attrs-in' type='checkbox' ><label for='attrs-f0dac270-2677-45ac-b86d-938c4ce5ddf5' title='Show/Hide attributes'><svg class='icon xr-icon-file-text2'><use xlink:href='#icon-file-text2'></use></svg></label><input id='data-2732dcf5-509f-45dd-bf05-b6e298fa1f5f' class='xr-var-data-in' type='checkbox'><label for='data-2732dcf5-509f-45dd-bf05-b6e298fa1f5f' title='Show/Hide data repr'><svg class='icon xr-icon-database'><use xlink:href='#icon-database'></use></svg></label><div class='xr-var-attrs'><dl class='xr-attrs'><dt><span>long_name :</span></dt><dd>Storm translation speed</dd><dt><span>units :</span></dt><dd>m s**-1</dd><dt><span>valid_min :</span></dt><dd>0</dd><dt><span>valid_max :</span></dt><dd>998</dd><dt><span>coverage_content_type :</span></dt><dd>physicalMeasurement</dd></dl></div><div class='xr-var-data'><pre>array([ 6.1733336,  4.63     ,  2.5722222,  6.1733336,  2.057778 ,\n",
       "        7.716667 ,  5.1444445,  6.1733336,  4.63     ,  5.6588893,\n",
       "        3.6011114,  6.1733336,  4.115556 ,  4.63     ,  6.1733336,\n",
       "       14.404446 ,  3.6011114,  8.745556 ,  6.687778 ,  3.0866668,\n",
       "        4.63     ,  3.0866668,  3.0866668,  5.6588893, 10.288889 ,\n",
       "        7.716667 ,  3.0866668,  2.5722222,  5.1444445,  3.6011114,\n",
       "        3.6011114,  4.115556 ,  3.0866668,  5.1444445,  3.0866668,\n",
       "        3.0866668,  5.6588893,  8.231112 ,  3.6011114,  5.1444445,\n",
       "        3.0866668,  4.115556 ,  6.687778 ,  6.1733336,  6.687778 ,\n",
       "       10.288889 , 11.317779 , 11.317779 , 10.288889 ,  2.5722222,\n",
       "        3.6011114,  5.1444445,  4.63     ,  7.202223 ,  5.6588893,\n",
       "        9.774445 ,  6.687778 ,  8.745556 ,  5.1444445,  6.1733336,\n",
       "        6.687778 ,  5.6588893, 11.832223 ,  9.26     ,  9.774445 ,\n",
       "        4.115556 ,  4.115556 ,  2.5722222,  2.5722222,  1.5433334,\n",
       "        1.028889 ,  6.1733336,  2.5722222,  2.5722222,  6.1733336,\n",
       "        3.6011114,  5.1444445,  7.716667 ,  6.687778 ,  8.745556 ,\n",
       "        9.26     ,  7.716667 ,  8.745556 ,  7.716667 ,  2.057778 ,\n",
       "        3.0866668,  6.687778 ,  9.774445 ,  4.63     ,  4.115556 ,\n",
       "        2.057778 ,  7.716667 ,  8.231112 ,  8.231112 ,  3.6011114,\n",
       "        4.115556 ,  5.1444445,  2.5722222,  6.1733336,  9.774445 ,\n",
       "        5.6588893,  7.202223 ,  4.63     ,  6.1733336,  6.1733336,\n",
       "        7.202223 ,  5.6588893,  4.63     ,  4.63     ,  2.057778 ,\n",
       "        7.202223 ,  9.26     , 12.346667 ,  2.057778 ,  7.716667 ,\n",
       "        3.0866668,  9.26     , 11.317779 ,  5.6588893,  6.687778 ,\n",
       "        6.687778 ,  5.1444445,  3.0866668,  5.1444445, 10.288889 ,\n",
       "        3.6011114,  1.028889 ,  2.057778 ,  1.5433334,  3.0866668,\n",
       "        5.1444445,  8.231112 ,  6.1733336,  3.6011114,  2.5722222,\n",
       "        8.231112 ,  5.1444445,  7.202223 ,  3.6011114,  4.115556 ,\n",
       "        4.115556 ,  7.716667 ,  6.1733336,  6.1733336,  9.26     ,\n",
       "        9.26     ,  9.774445 ,  3.6011114,  7.716667 ,  5.1444445,\n",
       "        4.115556 ,  9.26     ,  8.231112 ,  7.202223 ,  4.63     ,\n",
       "        5.1444445, 13.375556 ,  5.6588893, 10.288889 ,  4.115556 ,\n",
       "        7.202223 ,  7.716667 ,  8.745556 ,  6.1733336,  5.1444445,\n",
       "       13.375556 ,  8.231112 ,  5.6588893,  5.6588893,  3.6011114,\n",
       "        4.63     ,  4.63     ,  5.6588893,  6.687778 ,  7.202223 ,\n",
       "        5.6588893,  4.63     ,  4.115556 ,  2.057778 ,  3.6011114,\n",
       "        3.6011114,  7.716667 ,  5.1444445,  4.63     ,  5.1444445,\n",
       "        5.6588893,  2.5722222,  3.0866668,  8.745556 ,  6.1733336,\n",
       "        6.687778 ,  5.6588893], dtype=float32)</pre></div></li><li class='xr-var-item'><div class='xr-var-name'><span>storm_dir</span></div><div class='xr-var-dims'>(time)</div><div class='xr-var-dtype'>float32</div><div class='xr-var-preview xr-preview'>267.0 0.0 286.0 ... 0.0 335.0 337.0</div><input id='attrs-71329285-1041-4018-8b35-a8252b52b0ed' class='xr-var-attrs-in' type='checkbox' ><label for='attrs-71329285-1041-4018-8b35-a8252b52b0ed' title='Show/Hide attributes'><svg class='icon xr-icon-file-text2'><use xlink:href='#icon-file-text2'></use></svg></label><input id='data-a6fe1d48-365d-4d22-8d4b-112904f50a4e' class='xr-var-data-in' type='checkbox'><label for='data-a6fe1d48-365d-4d22-8d4b-112904f50a4e' title='Show/Hide data repr'><svg class='icon xr-icon-database'><use xlink:href='#icon-database'></use></svg></label><div class='xr-var-attrs'><dl class='xr-attrs'><dt><span>long_name :</span></dt><dd>Storm translation direction</dd><dt><span>units :</span></dt><dd>degrees</dd><dt><span>valid_min :</span></dt><dd>0</dd><dt><span>valid_max :</span></dt><dd>360</dd><dt><span>Note :</span></dt><dd>Unit is degrees east of north</dd><dt><span>coverage_content_type :</span></dt><dd>physicalMeasurement</dd></dl></div><div class='xr-var-data'><pre>array([267.,   0., 286.,  37.,   2.,  32., 309., 280., 341., 257., 315.,\n",
       "        34.,  40., 242., 341.,  63.,  20., 345., 336., 332., 313., 292.,\n",
       "       271., 297., 346.,  30., 273., 295.,   7., 334.,  82.,  83., 302.,\n",
       "       277., 344.,   0.,   0.,  33., 339.,  50., 336., 318., 313., 317.,\n",
       "       301.,  45.,  46.,  21.,  36., 298., 320.,  72.,  69., 331., 351.,\n",
       "        26.,   8.,  17., 330.,  27., 300.,   5.,   7.,  44.,  79., 311.,\n",
       "       298.,  39.,  55.,  36., 102., 261., 326., 328.,   2., 223.,  51.,\n",
       "       359.,  24.,  36., 313., 329.,  23.,  52., 342., 282., 279.,  29.,\n",
       "        28., 248., 311., 295.,  68., 335., 324., 245., 355., 290.,  38.,\n",
       "        43.,  28., 306.,  38.,  43.,  26.,  36.,  20., 244., 249., 256.,\n",
       "       354.,  28.,  25., 327.,   1., 327.,  40.,   0., 334.,  59., 266.,\n",
       "       307.,  60.,  16.,  11.,  86.,  26., 141., 192.,  55.,  15., 345.,\n",
       "       286., 356., 269., 294., 247.,   0.,  38.,  43.,  40., 294., 359.,\n",
       "         4.,  55.,  19.,  17., 273.,   3., 340.,  18.,  65.,  61., 316.,\n",
       "        51.,  34.,  26.,  13., 340., 285.,   2.,   0., 291., 341., 227.,\n",
       "        62.,  68., 317., 273., 325., 294., 319., 357., 303., 269., 280.,\n",
       "        41., 268.,  41.,  34., 270.,  56.,  64., 315.,  10., 273., 270.,\n",
       "       273.,  10.,   0., 335., 337.], dtype=float32)</pre></div></li><li class='xr-var-item'><div class='xr-var-name'><span>usa_pres</span></div><div class='xr-var-dims'>(time)</div><div class='xr-var-dtype'>float32</div><div class='xr-var-preview xr-preview'>9.8e+04 9.65e+04 ... 9.5e+04 nan</div><input id='attrs-6f9cca97-a359-46ad-b7d8-4d991cac0150' class='xr-var-attrs-in' type='checkbox' ><label for='attrs-6f9cca97-a359-46ad-b7d8-4d991cac0150' title='Show/Hide attributes'><svg class='icon xr-icon-file-text2'><use xlink:href='#icon-file-text2'></use></svg></label><input id='data-15b97746-f367-4832-ab2e-c69c243c0d34' class='xr-var-data-in' type='checkbox'><label for='data-15b97746-f367-4832-ab2e-c69c243c0d34' title='Show/Hide data repr'><svg class='icon xr-icon-database'><use xlink:href='#icon-database'></use></svg></label><div class='xr-var-attrs'><dl class='xr-attrs'><dt><span>long_name :</span></dt><dd>Minimum central pressure</dd><dt><span>units :</span></dt><dd>Pa</dd><dt><span>valid_min :</span></dt><dd>700</dd><dt><span>valid_max :</span></dt><dd>1050</dd><dt><span>coverage_content_type :</span></dt><dd>physicalMeasurement</dd></dl></div><div class='xr-var-data'><pre>array([98000., 96500.,    nan,    nan, 96100.,    nan, 98700.,    nan,\n",
       "       96400., 94600., 93400.,    nan, 97900., 97600.,    nan,    nan,\n",
       "          nan,    nan, 94200., 98000., 98500., 96700., 97200.,    nan,\n",
       "       95200.,    nan,    nan, 97200., 95500., 93100.,    nan,    nan,\n",
       "          nan,    nan,    nan,    nan, 98200.,    nan,    nan,    nan,\n",
       "          nan,    nan, 95000., 97300.,    nan,    nan, 95900., 94200.,\n",
       "          nan, 96700.,    nan,    nan,    nan, 94000., 94400., 98100.,\n",
       "       94900., 96200., 95000.,    nan, 93200., 95900., 97000., 97000.,\n",
       "          nan, 93100.,    nan, 96300., 98900., 98400., 98600., 99000.,\n",
       "       93700., 94800., 93600., 99000., 94900., 98300., 98400., 94900.,\n",
       "       94600., 95500., 98000., 98700., 96400., 92700., 95000., 91900.,\n",
       "       98200.,    nan, 98400., 96600., 97500., 97500., 99300., 96100.,\n",
       "       98000., 95100.,    nan,    nan,    nan, 92500., 98700., 95800.,\n",
       "       98300.,    nan,    nan, 97300., 97400., 97300., 93900., 97000.,\n",
       "       97000.,    nan, 96500.,    nan, 97000., 98300., 96200.,    nan,\n",
       "       96700., 93100., 98000., 99100., 97900., 97500., 96000.,    nan,\n",
       "          nan, 97800.,    nan, 96300., 96800., 95500., 95500., 97900.,\n",
       "       98600., 98700.,    nan,    nan, 97400., 94400.,    nan,    nan,\n",
       "          nan, 94100., 94200., 96200., 94600., 99000.,    nan,    nan,\n",
       "          nan, 98200., 97500.,    nan, 96000., 99100., 94600., 94400.,\n",
       "       92000., 92800.,    nan, 93700., 97700., 95000., 99300.,    nan,\n",
       "          nan,    nan, 93500., 97900., 98400., 93600., 97400.,    nan,\n",
       "       98500., 94000.,    nan,    nan, 99300., 98000., 97400., 98600.,\n",
       "       96600., 97900., 96700., 96700., 94600., 98300., 95000.,    nan],\n",
       "      dtype=float32)</pre></div></li><li class='xr-var-item'><div class='xr-var-name'><span>usa_rmw</span></div><div class='xr-var-dims'>(time)</div><div class='xr-var-dtype'>float32</div><div class='xr-var-preview xr-preview'>nan nan nan ... nan 5.556e+04 nan</div><input id='attrs-5077807e-5fe3-4693-979a-11e65c980e22' class='xr-var-attrs-in' type='checkbox' ><label for='attrs-5077807e-5fe3-4693-979a-11e65c980e22' title='Show/Hide attributes'><svg class='icon xr-icon-file-text2'><use xlink:href='#icon-file-text2'></use></svg></label><input id='data-bb56dbc3-0cce-4b52-84b9-98555e204d9b' class='xr-var-data-in' type='checkbox'><label for='data-bb56dbc3-0cce-4b52-84b9-98555e204d9b' title='Show/Hide data repr'><svg class='icon xr-icon-database'><use xlink:href='#icon-database'></use></svg></label><div class='xr-var-attrs'><dl class='xr-attrs'><dt><span>long_name :</span></dt><dd>Radius of maximum winds (not best tracked)</dd><dt><span>standard_name :</span></dt><dd>radius_of_tropical_cyclone_maximum_sustained_wind_speed</dd><dt><span>units :</span></dt><dd>m</dd><dt><span>valid_min :</span></dt><dd>1</dd><dt><span>valid_max :</span></dt><dd>1000</dd><dt><span>coverage_content_type :</span></dt><dd>physicalMeasurement</dd></dl></div><div class='xr-var-data'><pre>array([   nan,    nan,    nan,    nan,    nan,    nan,    nan,    nan,\n",
       "          nan, 18520.,    nan,    nan,    nan,  9260.,    nan,    nan,\n",
       "          nan,    nan,    nan,    nan,    nan, 74080.,    nan,    nan,\n",
       "          nan,    nan,    nan,    nan,    nan,    nan,    nan,    nan,\n",
       "          nan,    nan,    nan,    nan,    nan,    nan,    nan,    nan,\n",
       "          nan,    nan,    nan,    nan,    nan,    nan,    nan,    nan,\n",
       "          nan,    nan,    nan,    nan,    nan,    nan,    nan, 46300.,\n",
       "          nan,    nan,    nan,    nan,    nan,    nan,    nan,    nan,\n",
       "          nan,    nan,    nan,    nan,    nan,    nan,    nan, 46300.,\n",
       "       27780., 18520., 27780., 27780.,    nan, 46300., 46300.,    nan,\n",
       "          nan,    nan,    nan,    nan,    nan,    nan,    nan, 18520.,\n",
       "          nan,    nan,    nan,    nan,    nan,    nan, 74080.,    nan,\n",
       "          nan,    nan,    nan,    nan,    nan,    nan,    nan,    nan,\n",
       "          nan,    nan,    nan, 37040., 37040.,    nan, 27780., 37040.,\n",
       "       46300.,    nan,    nan,    nan,    nan,    nan,    nan,    nan,\n",
       "       27780., 18520.,    nan, 37040.,    nan,    nan,    nan,    nan,\n",
       "          nan,    nan,    nan, 18520.,    nan,    nan,    nan, 27780.,\n",
       "       46300.,    nan,    nan,    nan,    nan,    nan,    nan,    nan,\n",
       "          nan,    nan,    nan,    nan,    nan,    nan,    nan,    nan,\n",
       "          nan,    nan,    nan,    nan,    nan, 37040., 22224., 27780.,\n",
       "       37040., 40744.,    nan, 37040.,  9260., 55560.,    nan,    nan,\n",
       "          nan,    nan,    nan,    nan,    nan,    nan, 61116.,    nan,\n",
       "       25928.,    nan,    nan,    nan, 20372.,    nan,    nan,    nan,\n",
       "          nan,    nan, 37040., 37040.,    nan,    nan, 55560.,    nan],\n",
       "      dtype=float32)</pre></div></li><li class='xr-var-item'><div class='xr-var-name'><span>usa_wind</span></div><div class='xr-var-dims'>(time)</div><div class='xr-var-dtype'>float32</div><div class='xr-var-preview xr-preview'>43.73 43.73 41.16 ... 48.87 41.16</div><input id='attrs-2bf81927-3546-4752-9719-cf2c061562ba' class='xr-var-attrs-in' type='checkbox' ><label for='attrs-2bf81927-3546-4752-9719-cf2c061562ba' title='Show/Hide attributes'><svg class='icon xr-icon-file-text2'><use xlink:href='#icon-file-text2'></use></svg></label><input id='data-973802ee-939d-449a-b2d4-ebb414780181' class='xr-var-data-in' type='checkbox'><label for='data-973802ee-939d-449a-b2d4-ebb414780181' title='Show/Hide data repr'><svg class='icon xr-icon-database'><use xlink:href='#icon-database'></use></svg></label><div class='xr-var-attrs'><dl class='xr-attrs'><dt><span>long_name :</span></dt><dd>Maximum sustained wind speed</dd><dt><span>standard_name :</span></dt><dd>tropical_cyclone_maximum_sustained_wind_speed</dd><dt><span>units :</span></dt><dd>m s**-1</dd><dt><span>valid_min :</span></dt><dd>1</dd><dt><span>valid_max :</span></dt><dd>250</dd><dt><span>coverage_content_type :</span></dt><dd>physicalMeasurement</dd></dl></div><div class='xr-var-data'><pre>array([43.72778 , 43.72778 , 41.155556, 51.444447, 51.444447, 46.300003,\n",
       "       36.011112, 36.011112, 46.300003, 48.872223, 66.877785, 46.300003,\n",
       "       38.583336, 51.444447, 48.872223, 41.155556, 56.58889 , 33.438892,\n",
       "       54.01667 , 36.011112, 33.438892, 36.011112, 43.72778 , 51.444447,\n",
       "       51.444447, 46.300003, 46.300003, 43.72778 , 48.872223, 64.30556 ,\n",
       "       46.300003, 36.011112, 36.011112, 46.300003, 36.011112, 56.58889 ,\n",
       "       41.155556, 41.155556, 33.438892, 36.011112, 43.72778 , 33.438892,\n",
       "       51.444447, 38.583336, 33.438892, 36.011112, 51.444447, 51.444447,\n",
       "       36.011112, 46.300003, 51.444447, 36.011112, 36.011112, 59.161114,\n",
       "       56.58889 , 36.011112, 54.01667 , 46.300003, 54.01667 , 56.58889 ,\n",
       "       59.161114, 46.300003, 48.872223, 46.300003, 36.011112, 66.877785,\n",
       "       36.011112, 51.444447, 33.438892, 36.011112, 33.438892, 36.011112,\n",
       "       59.161114, 54.01667 , 51.444447, 33.438892, 51.444447, 38.583336,\n",
       "       33.438892, 56.58889 , 59.161114, 54.01667 , 38.583336, 36.011112,\n",
       "       46.300003, 66.877785, 51.444447, 72.022224, 38.583336, 48.872223,\n",
       "       36.011112, 48.872223, 41.155556, 43.72778 , 33.438892, 51.444447,\n",
       "       41.155556, 51.444447, 43.72778 , 43.72778 , 36.011112, 66.877785,\n",
       "       36.011112, 51.444447, 36.011112, 46.300003, 38.583336, 41.155556,\n",
       "       41.155556, 38.583336, 66.877785, 43.72778 , 51.444447, 36.011112,\n",
       "       48.872223, 48.872223, 48.872223, 36.011112, 51.444447, 36.011112,\n",
       "       54.01667 , 66.877785, 38.583336, 33.438892, 38.583336, 41.155556,\n",
       "       54.01667 , 46.300003, 46.300003, 43.72778 , 41.155556, 41.155556,\n",
       "       51.444447, 51.444447, 51.444447, 41.155556, 33.438892, 41.155556,\n",
       "       43.72778 , 48.872223, 33.438892, 61.733337, 36.011112, 46.300003,\n",
       "       54.01667 , 66.877785, 64.30556 , 56.58889 , 54.01667 , 38.583336,\n",
       "       41.155556, 38.583336, 38.583336, 41.155556, 36.011112, 43.72778 ,\n",
       "       56.58889 , 33.438892, 54.01667 , 56.58889 , 56.58889 , 54.01667 ,\n",
       "       38.583336, 51.444447, 36.011112, 54.01667 , 33.438892, 36.011112,\n",
       "       48.872223, 43.72778 , 66.877785, 38.583336, 36.011112, 61.733337,\n",
       "       43.72778 , 38.583336, 41.155556, 56.58889 , 38.583336, 38.583336,\n",
       "       33.438892, 38.583336, 41.155556, 36.011112, 43.72778 , 38.583336,\n",
       "       38.583336, 36.011112, 56.58889 , 38.583336, 48.872223, 41.155556],\n",
       "      dtype=float32)</pre></div></li><li class='xr-var-item'><div class='xr-var-name'><span>usa_sshs</span></div><div class='xr-var-dims'>(time)</div><div class='xr-var-dtype'>float32</div><div class='xr-var-preview xr-preview'>2.0 2.0 1.0 3.0 ... 3.0 1.0 2.0 1.0</div><input id='attrs-dfb84a28-b8a4-423e-850f-bb0bbebe47b1' class='xr-var-attrs-in' type='checkbox' ><label for='attrs-dfb84a28-b8a4-423e-850f-bb0bbebe47b1' title='Show/Hide attributes'><svg class='icon xr-icon-file-text2'><use xlink:href='#icon-file-text2'></use></svg></label><input id='data-8e1c72d9-826f-4ec9-8fde-a9a1599ee6a1' class='xr-var-data-in' type='checkbox'><label for='data-8e1c72d9-826f-4ec9-8fde-a9a1599ee6a1' title='Show/Hide data repr'><svg class='icon xr-icon-database'><use xlink:href='#icon-database'></use></svg></label><div class='xr-var-attrs'><dl class='xr-attrs'><dt><span>long_name :</span></dt><dd>Saffir-Simpson Hurricane Wind Scale Category</dd><dt><span>units :</span></dt><dd>1</dd><dt><span>valid_min :</span></dt><dd>-5</dd><dt><span>valid_max :</span></dt><dd>5</dd><dt><span>flag_values :</span></dt><dd>[-5 -4 -3 -2 -1  0  1  2  3  4  5]</dd><dt><span>flag_names :</span></dt><dd>unknown_type_XX post_tropical_ET_EX_PT misc_disturbances_WV_LO_DB_DS_IN_MD subtropical_SS_SD tropical_depression_w_lt_34 tropical_storm_wind_35-63 hurricane_cat_1_wind_64-82 hurricane_cat_2_wind_83-95 hurricane_cat_3_wind_96-112 hurricane_cat_4_wind_113-136 hurricane_cat_5_wind_137+</dd><dt><span>coverage_content_type :</span></dt><dd>thematicClassification</dd></dl></div><div class='xr-var-data'><pre>array([2., 2., 1., 3., 3., 2., 1., 1., 2., 2., 4., 2., 1., 3., 2., 1., 3.,\n",
       "       1., 3., 1., 1., 1., 2., 3., 3., 2., 2., 2., 2., 4., 2., 1., 1., 2.,\n",
       "       1., 3., 1., 1., 1., 1., 2., 1., 3., 1., 1., 1., 3., 3., 1., 2., 3.,\n",
       "       1., 1., 4., 3., 1., 3., 2., 3., 3., 4., 2., 2., 2., 1., 4., 1., 3.,\n",
       "       1., 1., 1., 1., 4., 3., 3., 1., 3., 1., 1., 3., 4., 3., 1., 1., 2.,\n",
       "       4., 3., 5., 1., 2., 1., 2., 1., 2., 1., 3., 1., 3., 2., 2., 1., 4.,\n",
       "       1., 3., 1., 2., 1., 1., 1., 1., 4., 2., 3., 1., 2., 2., 2., 1., 3.,\n",
       "       1., 3., 4., 1., 1., 1., 1., 3., 2., 2., 2., 1., 1., 3., 3., 3., 1.,\n",
       "       1., 1., 2., 2., 1., 4., 1., 2., 3., 4., 4., 3., 3., 1., 1., 1., 1.,\n",
       "       1., 1., 2., 3., 1., 3., 3., 3., 3., 1., 3., 1., 3., 1., 1., 2., 2.,\n",
       "       4., 1., 1., 4., 2., 1., 1., 3., 1., 1., 1., 1., 1., 1., 2., 1., 1.,\n",
       "       1., 3., 1., 2., 1.], dtype=float32)</pre></div></li><li class='xr-var-item'><div class='xr-var-name'><span>usa_poci</span></div><div class='xr-var-dims'>(time)</div><div class='xr-var-dtype'>float32</div><div class='xr-var-preview xr-preview'>nan nan nan ... nan 1.007e+05 nan</div><input id='attrs-09f306b0-1635-43dd-b6bc-adddc7cc3109' class='xr-var-attrs-in' type='checkbox' ><label for='attrs-09f306b0-1635-43dd-b6bc-adddc7cc3109' title='Show/Hide attributes'><svg class='icon xr-icon-file-text2'><use xlink:href='#icon-file-text2'></use></svg></label><input id='data-2a1d6d2e-a91d-460d-8da5-0a7654f699bb' class='xr-var-data-in' type='checkbox'><label for='data-2a1d6d2e-a91d-460d-8da5-0a7654f699bb' title='Show/Hide data repr'><svg class='icon xr-icon-database'><use xlink:href='#icon-database'></use></svg></label><div class='xr-var-attrs'><dl class='xr-attrs'><dt><span>long_name :</span></dt><dd>Pressure of outermost closed isobar (not best tracked)</dd><dt><span>units :</span></dt><dd>Pa</dd><dt><span>valid_min :</span></dt><dd>700</dd><dt><span>valid_max :</span></dt><dd>1050</dd><dt><span>coverage_content_type :</span></dt><dd>physicalMeasurement</dd></dl></div><div class='xr-var-data'><pre>array([    nan,     nan,     nan,     nan,     nan,     nan,     nan,\n",
       "           nan,     nan,  85000.,     nan,     nan,     nan,  85000.,\n",
       "           nan,     nan,     nan,     nan,     nan,     nan,     nan,\n",
       "       100800.,     nan,     nan,     nan,     nan,     nan,     nan,\n",
       "           nan,     nan,     nan,     nan,     nan,     nan,     nan,\n",
       "           nan,     nan,     nan,     nan,     nan,     nan,     nan,\n",
       "           nan,     nan,     nan,     nan,     nan,     nan,     nan,\n",
       "           nan,     nan,     nan,     nan,     nan,     nan, 100900.,\n",
       "           nan,     nan,     nan,     nan,     nan,     nan,     nan,\n",
       "           nan,     nan,     nan,     nan,     nan,     nan,     nan,\n",
       "           nan, 100800., 100900., 101000., 100800., 101000.,     nan,\n",
       "       100600., 100600.,     nan,     nan,     nan,     nan,     nan,\n",
       "           nan,     nan,     nan, 100700.,     nan,     nan,     nan,\n",
       "           nan,     nan,     nan, 100700.,     nan,     nan,     nan,\n",
       "           nan,     nan,     nan,     nan,     nan,     nan,     nan,\n",
       "           nan,     nan, 100800., 100800.,     nan, 100600., 100800.,\n",
       "       100800.,     nan,     nan,     nan,     nan,     nan,     nan,\n",
       "           nan, 101200., 101200.,     nan, 101000.,     nan,     nan,\n",
       "           nan,     nan,     nan,     nan,     nan, 101200.,     nan,\n",
       "           nan,     nan, 101300., 101500.,     nan,     nan,     nan,\n",
       "           nan,     nan,     nan,     nan,     nan,     nan,     nan,\n",
       "           nan,     nan,     nan,     nan,     nan,     nan,     nan,\n",
       "           nan,     nan,     nan, 101200., 101100., 101200., 100600.,\n",
       "       100500.,     nan, 100900., 100700., 100500.,     nan,     nan,\n",
       "           nan,     nan,     nan,     nan,     nan,     nan, 100800.,\n",
       "           nan, 101200.,     nan,     nan,     nan, 101100.,     nan,\n",
       "           nan,     nan,     nan,     nan, 101000., 101000.,     nan,\n",
       "           nan, 100700.,     nan], dtype=float32)</pre></div></li><li class='xr-var-item'><div class='xr-var-name'><span>usa_lat</span></div><div class='xr-var-dims'>(time)</div><div class='xr-var-dtype'>float32</div><div class='xr-var-preview xr-preview'>20.9 29.6 28.2 ... 29.2 29.3 30.1</div><input id='attrs-a3b4072c-7326-4622-9e4d-a3043234db36' class='xr-var-attrs-in' type='checkbox' ><label for='attrs-a3b4072c-7326-4622-9e4d-a3043234db36' title='Show/Hide attributes'><svg class='icon xr-icon-file-text2'><use xlink:href='#icon-file-text2'></use></svg></label><input id='data-c34a177e-689a-4d64-b0f1-01cd30419fc2' class='xr-var-data-in' type='checkbox'><label for='data-c34a177e-689a-4d64-b0f1-01cd30419fc2' title='Show/Hide data repr'><svg class='icon xr-icon-database'><use xlink:href='#icon-database'></use></svg></label><div class='xr-var-attrs'><dl class='xr-attrs'><dt><span>long_name :</span></dt><dd>Latitude (U.S. Agency)</dd><dt><span>units :</span></dt><dd>degrees_north</dd><dt><span>coverage_content_type :</span></dt><dd>coordinate</dd></dl></div><div class='xr-var-data'><pre>array([20.9, 29.6, 28.2, 30.1, 30.2, 29.9, 27.9, 26.2, 30.4, 24.2, 29.2,\n",
       "       30.2, 25.2, 19.3, 30.2, 27.7, 29.2, 29.8, 25.9, 30.4, 30.4, 28.9,\n",
       "       26.1, 28.9, 29.5, 25.4, 26.9, 29.7, 26.5, 28.3, 29.2, 29.6, 30.3,\n",
       "       28.1, 29.2, 28.8, 29.9, 24.7, 30.3, 29.2, 27.1, 29.5, 28.3, 30.3,\n",
       "       27.1, 29.9, 26.5, 30.3, 29.1, 29.5, 27.7, 29.2, 30.4, 29.2, 29. ,\n",
       "       30.1, 24.6, 27.2, 30.4, 29.5, 27. , 29.5, 30.4, 25.8, 28.6, 25.8,\n",
       "       29.7, 28.2, 29.3, 30.2, 30.4, 20. , 28. , 28.2, 25.9, 20.6, 30.4,\n",
       "       29.1, 30.4, 30.4, 29.2, 29.8, 27.5, 30.1, 30.4, 24.6, 27.2, 30. ,\n",
       "       30.1, 21.7, 29.2, 29.6, 25.4, 29.1, 29.6, 22.8, 28.5, 26.9, 29.6,\n",
       "       29.7, 28.8, 28.1, 25.3, 28.1, 29.1, 25.1, 30.4, 26.8, 26.7, 26.1,\n",
       "       29.8, 29.8, 29.2, 28.7, 28.8, 29.1, 29.2, 29.2, 29.1, 29.1, 20.6,\n",
       "       29.1, 29.7, 28.7, 30.2, 25.8, 29.1, 28.5, 18.9, 28.7, 28.8, 29.5,\n",
       "       22.3, 29.2, 30.3, 28.3, 25.3, 29.6, 29.2, 30.3, 29.5, 27.8, 24.7,\n",
       "       26.5, 30.2, 26.6, 26.9, 23.9, 30.2, 29.6, 30.3, 26.7, 26.7, 28.3,\n",
       "       30.2, 30.4, 29.2, 29.2, 30.4, 24.8, 29.3, 30.2, 29.7, 29.7, 18.6,\n",
       "       25.9, 25.1, 29.7, 19.8, 29.7, 29. , 30.2, 29.1, 29.1, 20.5, 21.7,\n",
       "       29.6, 26.1, 29.3, 30.4, 20.5, 29.1, 30.4, 29.6, 29.7, 28.1, 26.4,\n",
       "       26.4, 29.8, 29.2, 29.3, 30.1], dtype=float32)</pre></div></li><li class='xr-var-item'><div class='xr-var-name'><span>usa_r34</span></div><div class='xr-var-dims'>(time, quadrant)</div><div class='xr-var-dtype'>float32</div><div class='xr-var-preview xr-preview'>nan nan nan nan ... nan nan nan nan</div><input id='attrs-73494537-dc18-4272-8e7f-f8a3c26d0a66' class='xr-var-attrs-in' type='checkbox' ><label for='attrs-73494537-dc18-4272-8e7f-f8a3c26d0a66' title='Show/Hide attributes'><svg class='icon xr-icon-file-text2'><use xlink:href='#icon-file-text2'></use></svg></label><input id='data-b721a1f4-ccb0-459b-8f80-3b59f522dda8' class='xr-var-data-in' type='checkbox'><label for='data-b721a1f4-ccb0-459b-8f80-3b59f522dda8' title='Show/Hide data repr'><svg class='icon xr-icon-database'><use xlink:href='#icon-database'></use></svg></label><div class='xr-var-attrs'><dl class='xr-attrs'><dt><span>long_name :</span></dt><dd>Radius of 34 knot winds</dd><dt><span>units :</span></dt><dd>m</dd><dt><span>valid_min :</span></dt><dd>1</dd><dt><span>valid_max :</span></dt><dd>1000</dd><dt><span>coverage_content_type :</span></dt><dd>physicalMeasurement</dd></dl></div><div class='xr-var-data'><pre>array([[    nan,     nan,     nan,     nan],\n",
       "       [    nan,     nan,     nan,     nan],\n",
       "       [    nan,     nan,     nan,     nan],\n",
       "       [    nan,     nan,     nan,     nan],\n",
       "       [    nan,     nan,     nan,     nan],\n",
       "       [    nan,     nan,     nan,     nan],\n",
       "       [    nan,     nan,     nan,     nan],\n",
       "       [    nan,     nan,     nan,     nan],\n",
       "       [    nan,     nan,     nan,     nan],\n",
       "       [333360., 333360., 222240., 222240.],\n",
       "       [    nan,     nan,     nan,     nan],\n",
       "       [    nan,     nan,     nan,     nan],\n",
       "       [    nan,     nan,     nan,     nan],\n",
       "       [148160., 129640., 129640., 148160.],\n",
       "       [    nan,     nan,     nan,     nan],\n",
       "       [    nan,     nan,     nan,     nan],\n",
       "       [    nan,     nan,     nan,     nan],\n",
       "       [    nan,     nan,     nan,     nan],\n",
       "       [    nan,     nan,     nan,     nan],\n",
       "       [    nan,     nan,     nan,     nan],\n",
       "...\n",
       "       [    nan,     nan,     nan,     nan],\n",
       "       [    nan,     nan,     nan,     nan],\n",
       "       [425960., 194460., 111120., 177792.],\n",
       "       [    nan,     nan,     nan,     nan],\n",
       "       [ 85192.,  85192.,  44448.,  46300.],\n",
       "       [    nan,     nan,     nan,     nan],\n",
       "       [    nan,     nan,     nan,     nan],\n",
       "       [    nan,     nan,     nan,     nan],\n",
       "       [ 74080.,  74080., 111120.,  74080.],\n",
       "       [    nan,     nan,     nan,     nan],\n",
       "       [    nan,     nan,     nan,     nan],\n",
       "       [    nan,     nan,     nan,     nan],\n",
       "       [    nan,     nan,     nan,     nan],\n",
       "       [    nan,     nan,     nan,     nan],\n",
       "       [222240., 222240.,  83340.,  83340.],\n",
       "       [222240., 222240.,  83340.,  83340.],\n",
       "       [    nan,     nan,     nan,     nan],\n",
       "       [    nan,     nan,     nan,     nan],\n",
       "       [416700., 370400., 231500., 231500.],\n",
       "       [    nan,     nan,     nan,     nan]], dtype=float32)</pre></div></li><li class='xr-var-item'><div class='xr-var-name'><span>usa_r50</span></div><div class='xr-var-dims'>(time, quadrant)</div><div class='xr-var-dtype'>float32</div><div class='xr-var-preview xr-preview'>nan nan nan nan ... nan nan nan nan</div><input id='attrs-c6b5ff8f-2714-4540-90cd-716b3b064350' class='xr-var-attrs-in' type='checkbox' ><label for='attrs-c6b5ff8f-2714-4540-90cd-716b3b064350' title='Show/Hide attributes'><svg class='icon xr-icon-file-text2'><use xlink:href='#icon-file-text2'></use></svg></label><input id='data-c29fe143-2ebb-4b53-8791-5abb137b2b6d' class='xr-var-data-in' type='checkbox'><label for='data-c29fe143-2ebb-4b53-8791-5abb137b2b6d' title='Show/Hide data repr'><svg class='icon xr-icon-database'><use xlink:href='#icon-database'></use></svg></label><div class='xr-var-attrs'><dl class='xr-attrs'><dt><span>long_name :</span></dt><dd>Radius of 50 knot winds</dd><dt><span>units :</span></dt><dd>m</dd><dt><span>valid_min :</span></dt><dd>1</dd><dt><span>valid_max :</span></dt><dd>1000</dd><dt><span>coverage_content_type :</span></dt><dd>physicalMeasurement</dd></dl></div><div class='xr-var-data'><pre>array([[    nan,     nan,     nan,     nan],\n",
       "       [    nan,     nan,     nan,     nan],\n",
       "       [    nan,     nan,     nan,     nan],\n",
       "       [    nan,     nan,     nan,     nan],\n",
       "       [    nan,     nan,     nan,     nan],\n",
       "       [    nan,     nan,     nan,     nan],\n",
       "       [    nan,     nan,     nan,     nan],\n",
       "       [    nan,     nan,     nan,     nan],\n",
       "       [    nan,     nan,     nan,     nan],\n",
       "       [166680., 166680., 111120.,  92600.],\n",
       "       [    nan,     nan,     nan,     nan],\n",
       "       [    nan,     nan,     nan,     nan],\n",
       "       [    nan,     nan,     nan,     nan],\n",
       "       [ 74080.,  55560.,  55560.,  74080.],\n",
       "       [    nan,     nan,     nan,     nan],\n",
       "       [    nan,     nan,     nan,     nan],\n",
       "       [    nan,     nan,     nan,     nan],\n",
       "       [    nan,     nan,     nan,     nan],\n",
       "       [    nan,     nan,     nan,     nan],\n",
       "       [    nan,     nan,     nan,     nan],\n",
       "...\n",
       "       [    nan,     nan,     nan,     nan],\n",
       "       [    nan,     nan,     nan,     nan],\n",
       "       [168532.,  75932.,     nan,  83340.],\n",
       "       [    nan,     nan,     nan,     nan],\n",
       "       [ 51856.,  51856.,     nan,     nan],\n",
       "       [    nan,     nan,     nan,     nan],\n",
       "       [    nan,     nan,     nan,     nan],\n",
       "       [    nan,     nan,     nan,     nan],\n",
       "       [ 27780.,  55560.,  55560.,  27780.],\n",
       "       [    nan,     nan,     nan,     nan],\n",
       "       [    nan,     nan,     nan,     nan],\n",
       "       [    nan,     nan,     nan,     nan],\n",
       "       [    nan,     nan,     nan,     nan],\n",
       "       [    nan,     nan,     nan,     nan],\n",
       "       [ 74080.,  74080.,  55560.,  55560.],\n",
       "       [ 74080.,  74080.,  55560.,  55560.],\n",
       "       [    nan,     nan,     nan,     nan],\n",
       "       [    nan,     nan,     nan,     nan],\n",
       "       [277800., 296320., 148160., 138900.],\n",
       "       [    nan,     nan,     nan,     nan]], dtype=float32)</pre></div></li><li class='xr-var-item'><div class='xr-var-name'><span>usa_r64</span></div><div class='xr-var-dims'>(time, quadrant)</div><div class='xr-var-dtype'>float32</div><div class='xr-var-preview xr-preview'>nan nan nan nan ... nan nan nan nan</div><input id='attrs-c2528bda-c38f-494f-80b2-22e81baeb4b6' class='xr-var-attrs-in' type='checkbox' ><label for='attrs-c2528bda-c38f-494f-80b2-22e81baeb4b6' title='Show/Hide attributes'><svg class='icon xr-icon-file-text2'><use xlink:href='#icon-file-text2'></use></svg></label><input id='data-31beef0f-7f51-4704-85a9-7e890d3e77c2' class='xr-var-data-in' type='checkbox'><label for='data-31beef0f-7f51-4704-85a9-7e890d3e77c2' title='Show/Hide data repr'><svg class='icon xr-icon-database'><use xlink:href='#icon-database'></use></svg></label><div class='xr-var-attrs'><dl class='xr-attrs'><dt><span>long_name :</span></dt><dd>Radius of 64 knot winds</dd><dt><span>units :</span></dt><dd>m</dd><dt><span>valid_min :</span></dt><dd>1</dd><dt><span>valid_max :</span></dt><dd>1000</dd><dt><span>coverage_content_type :</span></dt><dd>physicalMeasurement</dd></dl></div><div class='xr-var-data'><pre>array([[    nan,     nan,     nan,     nan],\n",
       "       [    nan,     nan,     nan,     nan],\n",
       "       [    nan,     nan,     nan,     nan],\n",
       "       [    nan,     nan,     nan,     nan],\n",
       "       [    nan,     nan,     nan,     nan],\n",
       "       [    nan,     nan,     nan,     nan],\n",
       "       [    nan,     nan,     nan,     nan],\n",
       "       [    nan,     nan,     nan,     nan],\n",
       "       [    nan,     nan,     nan,     nan],\n",
       "       [ 92600.,  55560.,  27780.,  27780.],\n",
       "       [    nan,     nan,     nan,     nan],\n",
       "       [    nan,     nan,     nan,     nan],\n",
       "       [    nan,     nan,     nan,     nan],\n",
       "       [ 37040.,  27780.,  27780.,  37040.],\n",
       "       [    nan,     nan,     nan,     nan],\n",
       "       [    nan,     nan,     nan,     nan],\n",
       "       [    nan,     nan,     nan,     nan],\n",
       "       [    nan,     nan,     nan,     nan],\n",
       "       [    nan,     nan,     nan,     nan],\n",
       "       [    nan,     nan,     nan,     nan],\n",
       "...\n",
       "       [    nan,     nan,     nan,     nan],\n",
       "       [    nan,     nan,     nan,     nan],\n",
       "       [ 68524.,     nan,     nan,  55560.],\n",
       "       [    nan,     nan,     nan,     nan],\n",
       "       [ 27780.,     nan,     nan,     nan],\n",
       "       [    nan,     nan,     nan,     nan],\n",
       "       [    nan,     nan,     nan,     nan],\n",
       "       [    nan,     nan,     nan,     nan],\n",
       "       [ 18520.,  37040.,  37040.,  18520.],\n",
       "       [    nan,     nan,     nan,     nan],\n",
       "       [    nan,     nan,     nan,     nan],\n",
       "       [    nan,     nan,     nan,     nan],\n",
       "       [    nan,     nan,     nan,     nan],\n",
       "       [    nan,     nan,     nan,     nan],\n",
       "       [ 55560.,  37040.,  37040.,  37040.],\n",
       "       [ 55560.,  37040.,  37040.,  37040.],\n",
       "       [    nan,     nan,     nan,     nan],\n",
       "       [    nan,     nan,     nan,     nan],\n",
       "       [203720., 166680., 101860.,  83340.],\n",
       "       [    nan,     nan,     nan,     nan]], dtype=float32)</pre></div></li><li class='xr-var-item'><div class='xr-var-name'><span>usa_record</span></div><div class='xr-var-dims'>(time)</div><div class='xr-var-dtype'>|S1</div><div class='xr-var-preview xr-preview'>b&#x27;L&#x27; b&#x27;L&#x27; b&#x27;L&#x27; ... b&#x27;L&#x27; b&#x27;L&#x27; b&#x27;L&#x27;</div><input id='attrs-0b5e3756-1c8e-499c-aec3-6f4941fc5dee' class='xr-var-attrs-in' type='checkbox' ><label for='attrs-0b5e3756-1c8e-499c-aec3-6f4941fc5dee' title='Show/Hide attributes'><svg class='icon xr-icon-file-text2'><use xlink:href='#icon-file-text2'></use></svg></label><input id='data-7df8327f-66f9-49f0-a72f-4ea3c1b082fc' class='xr-var-data-in' type='checkbox'><label for='data-7df8327f-66f9-49f0-a72f-4ea3c1b082fc' title='Show/Hide data repr'><svg class='icon xr-icon-database'><use xlink:href='#icon-database'></use></svg></label><div class='xr-var-attrs'><dl class='xr-attrs'><dt><span>long_name :</span></dt><dd>Storm record type</dd><dt><span>description :</span></dt><dd>C – Closest approach to a coast, not followed by a landfall, G – Genesis, I – An intensity peak in terms of both pressure and wind, L – Landfall (center of system crossing a coastline), P – Minimum in central pressure, R – Provides additional detail on the intensity of the cyclone when rapid changes are underway, S – Change of status of the system, T – Provides additional detail on the track (position) of the cyclone, W – Maximum sustained wind speed</dd><dt><span>coverage_content_type :</span></dt><dd>thematicClassification</dd></dl></div><div class='xr-var-data'><pre>array([b&#x27;L&#x27;, b&#x27;L&#x27;, b&#x27;L&#x27;, b&#x27;L&#x27;, b&#x27;L&#x27;, b&#x27;L&#x27;, b&#x27;L&#x27;, b&#x27;L&#x27;, b&#x27;L&#x27;, b&#x27;L&#x27;, b&#x27;L&#x27;,\n",
       "       b&#x27;L&#x27;, b&#x27;L&#x27;, b&#x27;L&#x27;, b&#x27;L&#x27;, b&#x27;L&#x27;, b&#x27;L&#x27;, b&#x27;L&#x27;, b&#x27;L&#x27;, b&#x27;L&#x27;, b&#x27;L&#x27;, b&#x27;L&#x27;,\n",
       "       b&#x27;L&#x27;, b&#x27;L&#x27;, b&#x27;L&#x27;, b&#x27;L&#x27;, b&#x27;L&#x27;, b&#x27;L&#x27;, b&#x27;L&#x27;, b&#x27;L&#x27;, b&#x27;L&#x27;, b&#x27;L&#x27;, b&#x27;L&#x27;,\n",
       "       b&#x27;L&#x27;, b&#x27;L&#x27;, b&#x27;L&#x27;, b&#x27;L&#x27;, b&#x27;L&#x27;, b&#x27;L&#x27;, b&#x27;L&#x27;, b&#x27;L&#x27;, b&#x27;L&#x27;, b&#x27;L&#x27;, b&#x27;L&#x27;,\n",
       "       b&#x27;L&#x27;, b&#x27;L&#x27;, b&#x27;L&#x27;, b&#x27;L&#x27;, b&#x27;L&#x27;, b&#x27;L&#x27;, b&#x27;L&#x27;, b&#x27;L&#x27;, b&#x27;L&#x27;, b&#x27;L&#x27;, b&#x27;L&#x27;,\n",
       "       b&#x27;L&#x27;, b&#x27;L&#x27;, b&#x27;L&#x27;, b&#x27;L&#x27;, b&#x27;L&#x27;, b&#x27;L&#x27;, b&#x27;L&#x27;, b&#x27;L&#x27;, b&#x27;L&#x27;, b&#x27;L&#x27;, b&#x27;L&#x27;,\n",
       "       b&#x27;L&#x27;, b&#x27;L&#x27;, b&#x27;L&#x27;, b&#x27;L&#x27;, b&#x27;L&#x27;, b&#x27;L&#x27;, b&#x27;L&#x27;, b&#x27;L&#x27;, b&#x27;L&#x27;, b&#x27;L&#x27;, b&#x27;L&#x27;,\n",
       "       b&#x27;L&#x27;, b&#x27;L&#x27;, b&#x27;L&#x27;, b&#x27;L&#x27;, b&#x27;L&#x27;, b&#x27;L&#x27;, b&#x27;L&#x27;, b&#x27;L&#x27;, b&#x27;L&#x27;, b&#x27;L&#x27;, b&#x27;L&#x27;,\n",
       "       b&#x27;L&#x27;, b&#x27;L&#x27;, b&#x27;L&#x27;, b&#x27;L&#x27;, b&#x27;L&#x27;, b&#x27;L&#x27;, b&#x27;L&#x27;, b&#x27;L&#x27;, b&#x27;L&#x27;, b&#x27;L&#x27;, b&#x27;L&#x27;,\n",
       "       b&#x27;L&#x27;, b&#x27;L&#x27;, b&#x27;L&#x27;, b&#x27;L&#x27;, b&#x27;L&#x27;, b&#x27;L&#x27;, b&#x27;L&#x27;, b&#x27;L&#x27;, b&#x27;L&#x27;, b&#x27;L&#x27;, b&#x27;L&#x27;,\n",
       "       b&#x27;L&#x27;, b&#x27;L&#x27;, b&#x27;L&#x27;, b&#x27;L&#x27;, b&#x27;L&#x27;, b&#x27;L&#x27;, b&#x27;L&#x27;, b&#x27;L&#x27;, b&#x27;L&#x27;, b&#x27;L&#x27;, b&#x27;L&#x27;,\n",
       "       b&#x27;L&#x27;, b&#x27;L&#x27;, b&#x27;L&#x27;, b&#x27;L&#x27;, b&#x27;L&#x27;, b&#x27;L&#x27;, b&#x27;L&#x27;, b&#x27;L&#x27;, b&#x27;L&#x27;, b&#x27;L&#x27;, b&#x27;L&#x27;,\n",
       "       b&#x27;L&#x27;, b&#x27;L&#x27;, b&#x27;L&#x27;, b&#x27;L&#x27;, b&#x27;L&#x27;, b&#x27;L&#x27;, b&#x27;L&#x27;, b&#x27;L&#x27;, b&#x27;L&#x27;, b&#x27;L&#x27;, b&#x27;L&#x27;,\n",
       "       b&#x27;L&#x27;, b&#x27;L&#x27;, b&#x27;L&#x27;, b&#x27;L&#x27;, b&#x27;L&#x27;, b&#x27;L&#x27;, b&#x27;L&#x27;, b&#x27;L&#x27;, b&#x27;L&#x27;, b&#x27;L&#x27;, b&#x27;L&#x27;,\n",
       "       b&#x27;L&#x27;, b&#x27;L&#x27;, b&#x27;L&#x27;, b&#x27;L&#x27;, b&#x27;L&#x27;, b&#x27;L&#x27;, b&#x27;L&#x27;, b&#x27;L&#x27;, b&#x27;L&#x27;, b&#x27;L&#x27;, b&#x27;L&#x27;,\n",
       "       b&#x27;L&#x27;, b&#x27;L&#x27;, b&#x27;L&#x27;, b&#x27;L&#x27;, b&#x27;L&#x27;, b&#x27;L&#x27;, b&#x27;L&#x27;, b&#x27;L&#x27;, b&#x27;L&#x27;, b&#x27;L&#x27;, b&#x27;L&#x27;,\n",
       "       b&#x27;L&#x27;, b&#x27;L&#x27;, b&#x27;L&#x27;, b&#x27;L&#x27;, b&#x27;L&#x27;, b&#x27;L&#x27;, b&#x27;L&#x27;, b&#x27;L&#x27;, b&#x27;L&#x27;, b&#x27;L&#x27;, b&#x27;L&#x27;,\n",
       "       b&#x27;L&#x27;, b&#x27;L&#x27;, b&#x27;L&#x27;, b&#x27;L&#x27;, b&#x27;L&#x27;], dtype=&#x27;|S1&#x27;)</pre></div></li></ul></div></li><li class='xr-section-item'><input id='section-575bbc74-b6a9-437e-ab1a-07175fb57aae' class='xr-section-summary-in' type='checkbox'  ><label for='section-575bbc74-b6a9-437e-ab1a-07175fb57aae' class='xr-section-summary' >Attributes: <span>(50)</span></label><div class='xr-section-inline-details'></div><div class='xr-section-details'><dl class='xr-attrs'><dt><span>title :</span></dt><dd>IBTrACS - International Best Track Archive for Climate Stewardship - version v04r00, Position, intensity and other information for known tropical cyclones</dd><dt><span>summary :</span></dt><dd>The intent of the IBTrACS project is to overcome best track data availability issues that arise from multiple agencies producing data for different storms in different formats. This was achieved by working directly with all the Regional Specialized Meteorological Centers and other international centers and individuals to create a global best track dataset, merging storm information from multiple agencies into one product and archiving the data for public use.</dd><dt><span>source :</span></dt><dd>The original data are tropical cyclone position, intensity and otherinformation provided by various agencies and people. This is a collection of all data on each tropical cyclone recorded.</dd><dt><span>Conventions :</span></dt><dd>ACDD-1.3</dd><dt><span>Conventions_note :</span></dt><dd>Data are nearly CF-1.7 compliant. The sole issue is the storage of missing data in the latitude/longitude/time variables. Otherwise, data are CF compliant.</dd><dt><span>product_version :</span></dt><dd>v04r00</dd><dt><span>project :</span></dt><dd>International Best Track Archive for Climate Stewardship (IBTrACS)</dd><dt><span>processing_level :</span></dt><dd>NOAA Processing Level 2, Data products are derived geophysical variables at the same resolution and locations as the level 1 source data</dd><dt><span>acknowledgement :</span></dt><dd>IBTrACS was produced by a team of scientists from NOAA in collaboration with scientists worldwide.</dd><dt><span>references :</span></dt><dd>https://www.ncdc.noaa.gov/ibtracs/, doi:10.1175/2009BAMS2755.1</dd><dt><span>institution :</span></dt><dd>National Centers for Environmental Information, NESDIS, NOAA, U.S. Department of Commerce</dd><dt><span>publisher_type :</span></dt><dd>institution</dd><dt><span>publisher_name :</span></dt><dd>National Centers for Environmental Information, NESDIS, NOAA, U.S. Department of Commerce</dd><dt><span>publisher_email :</span></dt><dd>ncei.sat.info@noaa.gov</dd><dt><span>publisher_institution :</span></dt><dd>National Centers for Environmental Information, NESDIS, NOAA, U.S. Department of Commerce</dd><dt><span>publisher_url :</span></dt><dd>https://ncei.noaa.gov/</dd><dt><span>creator_type :</span></dt><dd>group</dd><dt><span>creator_name :</span></dt><dd>IBTrACS Science Team (Ken Knapp, Howard Diamond, Jim Kossin, Mike Kruk, Carl Schreck)</dd><dt><span>creator_institution :</span></dt><dd>National Centers for Environmental Information, NESDIS, NOAA, U.S. Department of Commerce</dd><dt><span>creator_email :</span></dt><dd>ibtracs.team@noaa.gov, ken.knapp@noaa.gov</dd><dt><span>creator_url :</span></dt><dd>https://www.ncdc.noaa.gov/ibtracs/</dd><dt><span>contributor_name :</span></dt><dd>&quot;National Hurricane Center, National Weather Service, NOAA, U.S. Department of Commerce&quot;,&quot;Central Pacific Hurricane Center, National Weather Service, NOAA, U.S. Department of Commerce&quot;,&quot;Japan Meteorological Agency, RSMC Tokyo, Japan&quot;,&quot;India Meteorological Department, RSMC New Delhi, India&quot;,&quot;Bureau of Meteorology, Australia&quot;,&quot;MetService, TCWC Wellington, New Zealand&quot;,&quot;Fiji Meteorological Service, RSMC Fiji, Fiji&quot;,&quot;MeteoFrance, La Reunion, RSMC La Reunion&quot;,&quot;Shanghai Typhoon Institute, Chinese Meteorological Administration, China&quot;,&quot;Hong Kong Observatory, Hong Kong&quot;&quot;Joint Typhoon Warning Center, U.S. Department of Defense&quot;,&quot;National Center for Atmospheric Research, University Corporation for Atmospheric Research&quot;,&quot;Charlie Neumann Southern Hemisphere Dataset&quot;,&quot;Mike Chenoweth North Atlantic Dataset&quot;</dd><dt><span>contributor_role :</span></dt><dd>These agencies and people provide track data and best track data used to produce IBTrACS.</dd><dt><span>date_created :</span></dt><dd>2022-05-03 17:22:57</dd><dt><span>date_issued :</span></dt><dd>2022-05-03 17:22:57</dd><dt><span>time_coverage_start :</span></dt><dd>1842-10-25T03:00:00</dd><dt><span>time_coverage_end :</span></dt><dd>2022-05-03 17:22:57</dd><dt><span>geospatial_lat_min :</span></dt><dd>80.0</dd><dt><span>geospatial_lat_max :</span></dt><dd>-80.0</dd><dt><span>geospatial_lat_units :</span></dt><dd>degrees_north</dd><dt><span>geospatial_lat_resolution :</span></dt><dd>0.10</dd><dt><span>geospatial_lon_min :</span></dt><dd>-180.0</dd><dt><span>geospatial_lon_max :</span></dt><dd> 180.0</dd><dt><span>geospatial_lon_units :</span></dt><dd>degrees_east</dd><dt><span>geospatial_lon_resolution :</span></dt><dd>0.10</dd><dt><span>geospatial_vertical_min :</span></dt><dd>not applicable</dd><dt><span>geospatial_vertical_max :</span></dt><dd>not applicable </dd><dt><span>naming_authority :</span></dt><dd>gov.noaa.ncei</dd><dt><span>id :</span></dt><dd>1842298N11080.ibtracs_int.v04r00.nc</dd><dt><span>metadata_link :</span></dt><dd>doi:10.25921/82ty-9e16</dd><dt><span>keywords :</span></dt><dd>EARTH SCIENCE&gt; ATMOSPHERE&gt; WEATHER EVENTS&gt; TROPICAL CYCLONES&gt; MAXIMUM SURFACE WIND, EARTH SCIENCE&gt; ATMOSPHERE&gt; WEATHER EVENTS&gt; TROPICAL CYCLONES&gt; MINIMUM CENTRAL PRESSURE, EARTH SCIENCE&gt; ATMOSPHERE&gt; WEATHER EVENTS&gt; TROPICAL CYCLONES&gt; TROPICAL CYCLONE TRACK, EARTH SCIENCE&gt; ATMOSPHERE&gt; WEATHER EVENTS&gt; TROPICAL CYCLONES&gt; TROPICAL CYCLONE FORCE WIND EXTENT, EARTH SCIENCE&gt; ATMOSPHERE&gt; WEATHER EVENTS&gt; TROPICAL CYCLONES&gt; TROPICAL CYCLONE RADIUS, EARTH SCIENCE&gt; ATMOSPHERE&gt; WEATHER EVENTS&gt; TROPICAL CYCLONES&gt; MAXIMUM 1-MINUTE SUSTAINED WIND, EARTH SCIENCE&gt; ATMOSPHERE&gt; WEATHER EVENTS&gt; SUBTROPICAL CYCLONES &gt; SUBTROPICAL STORM</dd><dt><span>keywords_vocabulary :</span></dt><dd>GCMD Science Keywords Version 8.6</dd><dt><span>standard_name_vocabulary :</span></dt><dd>CF Standard Name Table v52</dd><dt><span>history :</span></dt><dd>Sun May 29 03:54:28 2022: ncks -a -4 -L 5 temp.nc -O netcdf/IBTrACS.ALL.v04r00.nc\n",
       "Sun May 29 03:40:43 2022: ncrcat -6 -H -O netcdf/ibtracs.ALL.v04r00.nc\n",
       "Produced by IBTrACS for individual tracks and merged into basin and temporal collections using netCDF operators (ncrcat)</dd><dt><span>license :</span></dt><dd>These data may be redistributed and used without restriction.</dd><dt><span>featureType :</span></dt><dd>trajectory</dd><dt><span>cdm_data_type :</span></dt><dd>Trajectory</dd><dt><span>comment :</span></dt><dd>The tracks of TCs generally look like a trajectory except that it wasn&#x27;t expedient to use the CF trajectory type. The team stored data in a way that approximates the trajectory profile, where each new track (each new storm) is a new trajectory.</dd><dt><span>nco_openmp_thread_number :</span></dt><dd>1</dd><dt><span>NCO :</span></dt><dd>4.4.3</dd></dl></div></li></ul></div></div>"
      ],
      "text/plain": [
       "<xarray.Dataset>\n",
       "Dimensions:      (time: 192, quadrant: 4)\n",
       "Coordinates:\n",
       "    time         (time) datetime64[ns] 1990-08-07T19:00:00.000067072 ... 1903...\n",
       "    lat          (time) float32 20.9 29.6 28.13 29.93 ... 29.8 29.2 29.3 30.1\n",
       "    lon          (time) float32 -97.0 -83.4 -96.57 -85.67 ... -95.0 -94.7 -85.6\n",
       "Dimensions without coordinates: quadrant\n",
       "Data variables: (12/16)\n",
       "    nature       (time) |S2 b'TS' b'TS' b'TS' b'TS' ... b'TS' b'TS' b'TS' b'TS'\n",
       "    basin        (time) |S2 b'NA' b'NA' b'NA' b'NA' ... b'NA' b'NA' b'NA' b'NA'\n",
       "    subbasin     (time) |S2 b'GM' b'GM' b'GM' b'GM' ... b'GM' b'GM' b'GM' b'GM'\n",
       "    name         (time) |S128 b'DIANA' b'NOT_NAMED' ... b'IKE' b'NOT_NAMED'\n",
       "    storm_speed  (time) float32 6.173 4.63 2.572 6.173 ... 6.173 6.688 5.659\n",
       "    storm_dir    (time) float32 267.0 0.0 286.0 37.0 ... 10.0 0.0 335.0 337.0\n",
       "    ...           ...\n",
       "    usa_poci     (time) float32 nan nan nan nan nan ... nan nan 1.007e+05 nan\n",
       "    usa_lat      (time) float32 20.9 29.6 28.2 30.1 30.2 ... 29.8 29.2 29.3 30.1\n",
       "    usa_r34      (time, quadrant) float32 nan nan nan nan ... nan nan nan nan\n",
       "    usa_r50      (time, quadrant) float32 nan nan nan nan ... nan nan nan nan\n",
       "    usa_r64      (time, quadrant) float32 nan nan nan nan ... nan nan nan nan\n",
       "    usa_record   (time) |S1 b'L' b'L' b'L' b'L' b'L' ... b'L' b'L' b'L' b'L'\n",
       "Attributes: (12/50)\n",
       "    title:                      IBTrACS - International Best Track Archive fo...\n",
       "    summary:                    The intent of the IBTrACS project is to overc...\n",
       "    source:                     The original data are tropical cyclone positi...\n",
       "    Conventions:                ACDD-1.3\n",
       "    Conventions_note:           Data are nearly CF-1.7 compliant. The sole is...\n",
       "    product_version:            v04r00\n",
       "    ...                         ...\n",
       "    license:                    These data may be redistributed and used with...\n",
       "    featureType:                trajectory\n",
       "    cdm_data_type:              Trajectory\n",
       "    comment:                    The tracks of TCs generally look like a traje...\n",
       "    nco_openmp_thread_number:   1\n",
       "    NCO:                        4.4.3"
      ]
     },
     "execution_count": 4,
     "metadata": {},
     "output_type": "execute_result"
    }
   ],
   "source": [
    "ds"
   ]
  },
  {
   "cell_type": "code",
   "execution_count": 9,
   "id": "d90afffe",
   "metadata": {
    "ExecuteTime": {
     "end_time": "2022-10-13T15:41:43.971996Z",
     "start_time": "2022-10-13T15:41:43.676570Z"
    }
   },
   "outputs": [
    {
     "data": {
      "text/plain": [
       "[<matplotlib.lines.Line2D at 0x7fdde1ae75b0>]"
      ]
     },
     "execution_count": 9,
     "metadata": {},
     "output_type": "execute_result"
    },
    {
     "data": {
      "image/png": "[encoded data removed]",
      "text/plain": [
       "<Figure size 432x288 with 1 Axes>"
      ]
     },
     "metadata": {
      "needs_background": "light"
     },
     "output_type": "display_data"
    }
   ],
   "source": [
    "ds.usa_pres.plot(x=\"time\")"
   ]
  },
  {
   "cell_type": "code",
   "execution_count": 6,
   "id": "f4fc84a4",
   "metadata": {
    "ExecuteTime": {
     "end_time": "2022-10-13T15:41:22.091516Z",
     "start_time": "2022-10-13T15:41:21.920244Z"
    }
   },
   "outputs": [
    {
     "data": {
      "text/plain": [
       "Text(0.5, 0, 'Year')"
      ]
     },
     "execution_count": 6,
     "metadata": {},
     "output_type": "execute_result"
    },
    {
     "data": {
      "image/png": "[encoded data removed]",
      "text/plain": [
       "<Figure size 432x288 with 1 Axes>"
      ]
     },
     "metadata": {
      "needs_background": "light"
     },
     "output_type": "display_data"
    }
   ],
   "source": [
    "plt.hist(ds.time.values)\n",
    "plt.ylabel(\"Gulf of Mexico Hurricane Incidence\")\n",
    "plt.xlabel(\"Year\")"
   ]
  },
  {
   "cell_type": "code",
   "execution_count": 7,
   "id": "5fac6beb",
   "metadata": {
    "ExecuteTime": {
     "end_time": "2022-10-13T15:41:22.256542Z",
     "start_time": "2022-10-13T15:41:22.092838Z"
    }
   },
   "outputs": [
    {
     "data": {
      "text/plain": [
       "(array([ 3.,  6., 10., 12., 14., 12., 17., 16., 25., 16.]),\n",
       " array([919. , 926.4, 933.8, 941.2, 948.6, 956. , 963.4, 970.8, 978.2,\n",
       "        985.6, 993. ], dtype=float32),\n",
       " <BarContainer object of 10 artists>)"
      ]
     },
     "execution_count": 7,
     "metadata": {},
     "output_type": "execute_result"
    },
    {
     "data": {
      "image/png": "[encoded data removed]",
      "text/plain": [
       "<Figure size 432x288 with 1 Axes>"
      ]
     },
     "metadata": {
      "needs_background": "light"
     },
     "output_type": "display_data"
    }
   ],
   "source": [
    "from src.conversions import pascal_to_millibar\n",
    "plt.hist(pascal_to_millibar(ds.usa_pres.values))"
   ]
  },
  {
   "cell_type": "code",
   "execution_count": 13,
   "id": "251c770a",
   "metadata": {
    "ExecuteTime": {
     "end_time": "2022-10-13T15:45:46.941307Z",
     "start_time": "2022-10-13T15:45:46.597394Z"
    }
   },
   "outputs": [
    {
     "name": "stdout",
     "output_type": "stream",
     "text": [
      "((0.12927641302779486, 18.107857648801374, 906.1485639982502, 82.62831955551712),)\n"
     ]
    },
    {
     "data": {
      "image/png": "[encoded data removed]",
      "text/plain": [
       "<Figure size 432x288 with 1 Axes>"
      ]
     },
     "metadata": {
      "needs_background": "light"
     },
     "output_type": "display_data"
    },
    {
     "name": "stdout",
     "output_type": "stream",
     "text": [
      "(0.12927641302779486, 18.107857648801374, 906.1485639982502, 82.62831955551712)\n"
     ]
    },
    {
     "data": {
      "text/plain": [
       "array([963.47511973, 980.20862621, 949.00205952, 966.8302103 ,\n",
       "       966.28322274, 979.71959177, 979.08880649, 957.09776149,\n",
       "       962.04432624, 939.82355006, 945.99395533, 957.93664279,\n",
       "       968.24187376, 937.18075862, 991.63345871, 951.1246645 ,\n",
       "       985.080068  , 977.28516701, 976.96520333, 968.825995  ,\n",
       "       982.97645835, 956.92873763, 965.80120918, 979.05021346,\n",
       "       980.43766131, 983.8781946 , 985.60181368, 950.67857641,\n",
       "       946.145163  , 980.35254177, 979.76980323, 944.54127632,\n",
       "       971.1119398 , 953.34191258, 961.20901246, 991.6154344 ,\n",
       "       988.77130123, 959.82412097, 928.62247514, 946.57081696,\n",
       "       977.10926745, 978.59377633, 923.97272193, 964.86293181,\n",
       "       927.76396243, 933.31505283, 934.05501327, 976.69926835,\n",
       "       921.83848081, 938.03662685, 944.59509841, 979.1156438 ,\n",
       "       978.83067759, 973.33042931, 994.57704994, 973.08309464,\n",
       "       943.50470302, 972.16581994, 936.65882221, 981.47993534,\n",
       "       987.94180577, 966.73145553, 929.49638639, 926.43626633,\n",
       "       963.20345977, 915.88787043, 976.63122533, 977.99220975,\n",
       "       985.30526952, 951.11024314, 969.14283291, 968.48392296,\n",
       "       962.72685384, 972.13645827, 956.80837136, 983.0667171 ,\n",
       "       958.02322931, 968.267674  , 962.09535995, 985.3693828 ,\n",
       "       938.59531332, 969.69277651, 996.58086611, 979.88360852,\n",
       "       943.11674535, 953.98127751, 965.33544614, 975.77301158,\n",
       "       983.39031155, 973.92582531, 978.1923087 , 943.69284238,\n",
       "       977.8304138 , 988.34385232, 931.3835497 , 935.30943189,\n",
       "       966.05874842, 972.44205382, 981.35652141, 972.88646447])"
      ]
     },
     "execution_count": 13,
     "metadata": {},
     "output_type": "execute_result"
    }
   ],
   "source": [
    "from scipy import stats\n",
    "import matplotlib.pyplot as plt\n",
    "data = pascal_to_millibar(ds.usa_pres.values)\n",
    "\n",
    "data =  data[np.argsort(data)]\n",
    "\n",
    "data = data[~np.isnan(data)]\n",
    "\n",
    "_ = plt.hist(data, alpha=0.5, density=True) #, #bins=np.linspace(0, 16, 33), alpha=0.5)\n",
    "param = stats.exponweib.fit(data),# 1, 1, scale=2, loc=0)\n",
    "print(param)\n",
    "if isinstance(param[0], tuple):\n",
    "    param = param[0]\n",
    "plt.plot(data, stats.exponweib(*param).pdf(data))# 1, 1, scale=2, loc=0)))\n",
    "\n",
    "plt.xlabel(\"Pressure (mb)\")\n",
    "plt.ylabel(\"Probability Density Function\")\n",
    "plt.show()\n",
    "print(param)\n",
    "stats.exponweib(*param).rvs(size=100)"
   ]
  },
  {
   "cell_type": "code",
   "execution_count": 14,
   "id": "d06ab8be",
   "metadata": {
    "ExecuteTime": {
     "end_time": "2022-10-13T15:46:00.732819Z",
     "start_time": "2022-10-13T15:46:00.496326Z"
    }
   },
   "outputs": [
    {
     "data": {
      "image/png": "[encoded data removed]",
      "text/plain": [
       "<Figure size 432x288 with 1 Axes>"
      ]
     },
     "metadata": {
      "needs_background": "light"
     },
     "output_type": "display_data"
    },
    {
     "name": "stdout",
     "output_type": "stream",
     "text": [
      "(0.2623514337165774, 993.0000628502614, 1.3416982420211745)\n"
     ]
    },
    {
     "data": {
      "text/plain": [
       "array([992.89683341, 992.99929157, 988.65684632, 992.9089459 ,\n",
       "       993.00005797, 989.18990268, 992.93992573, 992.99987571,\n",
       "       992.82757094, 992.78901746, 992.99859995, 992.99987207,\n",
       "       992.99161457, 986.93110561, 604.02597505, 992.97359267,\n",
       "       992.95212915, 992.99962012, 992.9999454 , 981.97419898,\n",
       "       931.54614648, 993.00006277, 208.77770129, 989.91017385,\n",
       "       992.31011981, 990.11424786, 991.20277343, 992.99129587,\n",
       "       990.67250439, 992.95789061, 972.03254715, 992.999077  ,\n",
       "       991.31895958, 993.00006001, 993.00006285, 992.04398832,\n",
       "       992.75500292, 992.55059347, 947.44196851, 629.94715446,\n",
       "       773.7983267 , 992.7190914 , 992.79764924, 927.83859467,\n",
       "       992.82302027, 992.87333436, 992.98177819, 993.00001647,\n",
       "       991.29141922, 991.93186043, 992.9972568 , 992.94642142,\n",
       "       992.98834174, 992.99959706, 981.53019612, 959.98757945,\n",
       "       987.42071354, 992.63458697, 992.91517103, 991.07898336,\n",
       "       992.94298894, 992.36747933, 992.94026275, 992.97683803,\n",
       "       992.74386131, 992.92465265, 992.73489817, 992.8698929 ,\n",
       "       992.99998849, 992.97552965, 993.00002319, 992.99795512,\n",
       "       992.84103969, 989.9739977 , 992.94282697, 991.44868784,\n",
       "       987.53310544, 974.19201324, 991.88619752, 992.99413071,\n",
       "       992.99944202, 969.98845748, 992.99980024, 992.88503665,\n",
       "       988.90283037, 992.98163437, 992.99887037, 992.99580678,\n",
       "       990.92076842, 990.96040356, 992.84403534, 992.99981741,\n",
       "       978.18915724, 992.95767279, 992.94552219, 992.62405264,\n",
       "       859.14060273, 992.98086417, 992.92294933, 992.99544657])"
      ]
     },
     "execution_count": 14,
     "metadata": {},
     "output_type": "execute_result"
    }
   ],
   "source": [
    "from scipy import stats\n",
    "import matplotlib.pyplot as plt\n",
    "data = pascal_to_millibar(ds.usa_pres.values)\n",
    "\n",
    "data =  data[np.argsort(data)]\n",
    "\n",
    "data = data[~np.isnan(data)]\n",
    "\n",
    "_ = plt.hist(data, alpha=0.5, density=True) #, #bins=np.linspace(0, 16, 33), alpha=0.5)\n",
    "param = stats.weibull_max.fit(data) # ,# 1, 1, scale=2, loc=0)\n",
    "\n",
    "if isinstance(param[0], tuple):\n",
    "    param = param[0]\n",
    "plt.plot(data, stats.weibull_max(*param).pdf(data)) # 1, 1, scale=2, loc=0)))\n",
    "\n",
    "plt.xlabel(\"Pressure (mb)\")\n",
    "plt.ylabel(\"Probability Density Function\")\n",
    "plt.show()\n",
    "print(param)\n",
    "stats.weibull_max(*param).rvs(size=100)"
   ]
  },
  {
   "cell_type": "code",
   "execution_count": 16,
   "id": "9acb9ee6",
   "metadata": {
    "ExecuteTime": {
     "end_time": "2022-10-13T15:46:33.345253Z",
     "start_time": "2022-10-13T15:46:33.041766Z"
    }
   },
   "outputs": [
    {
     "data": {
      "image/png": "[encoded data removed]",
      "text/plain": [
       "<Figure size 432x288 with 1 Axes>"
      ]
     },
     "metadata": {
      "needs_background": "light"
     },
     "output_type": "display_data"
    },
    {
     "name": "stdout",
     "output_type": "stream",
     "text": [
      "(2.3012174659759888, 918.9990711901514, 49.81859842590945)\n"
     ]
    }
   ],
   "source": [
    "from scipy import stats\n",
    "import matplotlib.pyplot as plt\n",
    "\n",
    "data = pascal_to_millibar(ds.usa_pres.values)\n",
    "data =  data[np.argsort(data)]\n",
    "data = data[~np.isnan(data)]\n",
    "\n",
    "_ = plt.hist(data, alpha=0.5, density=True) #, #bins=np.linspace(0, 16, 33), alpha=0.5)\n",
    "\n",
    "param = stats.weibull_min.fit(data) # ,# 1, 1, scale=2, loc=0)\n",
    "if isinstance(param[0], tuple):\n",
    "    param = param[0]\n",
    "plt.plot(data, stats.weibull_min(*param).pdf(data)) # 1, 1, scale=2, loc=0)))\n",
    "\n",
    "plt.xlabel(\"Pressure (mb)\")\n",
    "plt.ylabel(\"Probability Density Function\")\n",
    "plt.show()\n",
    "\n",
    "print(param)\n",
    "dist = stats.weibull_min(*param).rvs(size=int(1e6))"
   ]
  },
  {
   "cell_type": "code",
   "execution_count": 22,
   "id": "35c7e3ac",
   "metadata": {
    "ExecuteTime": {
     "end_time": "2022-10-13T15:47:43.262251Z",
     "start_time": "2022-10-13T15:47:43.200254Z"
    }
   },
   "outputs": [
    {
     "data": {
      "text/plain": [
       "0.797249"
      ]
     },
     "execution_count": 22,
     "metadata": {},
     "output_type": "execute_result"
    }
   ],
   "source": [
    "dist[dist < 980].shape[0] / 1e6"
   ]
  },
  {
   "cell_type": "code",
   "execution_count": null,
   "id": "936d9d93",
   "metadata": {
    "ExecuteTime": {
     "end_time": "2022-10-13T15:41:23.269081Z",
     "start_time": "2022-10-13T15:41:23.269069Z"
    }
   },
   "outputs": [],
   "source": [
    "stats.weibull_min(*param).pdf(data)"
   ]
  },
  {
   "cell_type": "code",
   "execution_count": null,
   "id": "08df7a70",
   "metadata": {
    "ExecuteTime": {
     "end_time": "2022-10-13T15:41:23.269933Z",
     "start_time": "2022-10-13T15:41:23.269925Z"
    }
   },
   "outputs": [],
   "source": [
    "param = stats.weibull_min.fit(data)\n",
    "param"
   ]
  },
  {
   "cell_type": "code",
   "execution_count": null,
   "id": "01d84965",
   "metadata": {
    "ExecuteTime": {
     "end_time": "2022-10-13T15:41:23.271089Z",
     "start_time": "2022-10-13T15:41:23.271080Z"
    }
   },
   "outputs": [],
   "source": [
    "stats.weibull_min(*param).pdf(data)"
   ]
  },
  {
   "cell_type": "code",
   "execution_count": null,
   "id": "1ab3ce2e",
   "metadata": {
    "ExecuteTime": {
     "end_time": "2022-10-13T15:41:23.272131Z",
     "start_time": "2022-10-13T15:41:23.272122Z"
    }
   },
   "outputs": [],
   "source": [
    "stats.exponweib(*param).rvs(size=100)"
   ]
  },
  {
   "cell_type": "code",
   "execution_count": null,
   "id": "f10347b4",
   "metadata": {
    "ExecuteTime": {
     "end_time": "2022-10-13T15:41:23.273336Z",
     "start_time": "2022-10-13T15:41:23.273328Z"
    }
   },
   "outputs": [],
   "source": [
    "?stats.exponweib"
   ]
  },
  {
   "cell_type": "code",
   "execution_count": null,
   "id": "f52bb13c",
   "metadata": {
    "ExecuteTime": {
     "end_time": "2022-10-13T15:41:23.274336Z",
     "start_time": "2022-10-13T15:41:23.274328Z"
    }
   },
   "outputs": [],
   "source": [
    "?plt.hist"
   ]
  },
  {
   "cell_type": "code",
   "execution_count": null,
   "id": "b80746db",
   "metadata": {
    "ExecuteTime": {
     "end_time": "2022-10-13T15:41:23.275536Z",
     "start_time": "2022-10-13T15:41:23.275527Z"
    }
   },
   "outputs": [],
   "source": [
    "stats.exponweib.fit?"
   ]
  },
  {
   "cell_type": "code",
   "execution_count": null,
   "id": "baff515b",
   "metadata": {
    "ExecuteTime": {
     "end_time": "2022-10-13T15:41:23.276278Z",
     "start_time": "2022-10-13T15:41:23.276270Z"
    }
   },
   "outputs": [],
   "source": [
    "from src.conversions import pascal_to_millibar\n",
    "plt.hist(pascal_to_millibar(ds.usa_pres.values)-5)"
   ]
  },
  {
   "cell_type": "code",
   "execution_count": null,
   "id": "4e236462",
   "metadata": {
    "ExecuteTime": {
     "end_time": "2022-10-13T15:41:23.277098Z",
     "start_time": "2022-10-13T15:41:23.277089Z"
    }
   },
   "outputs": [],
   "source": [
    "from src.plot.map import map_axes"
   ]
  },
  {
   "cell_type": "code",
   "execution_count": null,
   "id": "8861b8da",
   "metadata": {
    "ExecuteTime": {
     "end_time": "2022-10-13T15:41:23.278437Z",
     "start_time": "2022-10-13T15:41:23.278427Z"
    }
   },
   "outputs": [],
   "source": [
    "map_axes?"
   ]
  },
  {
   "cell_type": "code",
   "execution_count": null,
   "id": "6139a561",
   "metadata": {
    "ExecuteTime": {
     "end_time": "2022-10-13T15:41:23.280222Z",
     "start_time": "2022-10-13T15:41:23.280213Z"
    }
   },
   "outputs": [],
   "source": [
    "map_axes()\n",
    "plot_defaults()\n",
    "plt.scatter(ds.lon.values, ds.lat.values)\n",
    "plt.xlabel(\"Longitude [$^{\\circ}$E]\")\n",
    "plt.ylabel(\"Latitude [$^{\\circ}$N]\")\n",
    "plt.gca()\n"
   ]
  },
  {
   "cell_type": "code",
   "execution_count": null,
   "id": "c5572536",
   "metadata": {
    "ExecuteTime": {
     "end_time": "2022-10-13T15:41:23.281669Z",
     "start_time": "2022-10-13T15:41:23.281659Z"
    }
   },
   "outputs": [],
   "source": [
    "plot_defaults()\n",
    "map_axes()\n",
    "from src.conversions import pascal_to_millibar\n",
    "\n",
    "plt.scatter(\n",
    "    ds.lon.values, ds.lat.values, c=ds.usa_pres.values\n",
    ")  # , vmin=900e2, vmax=1000e2)\n",
    "plt.colorbar(label=\"Central Pressure [Pa]\")\n",
    "plt.xlabel(\"Longitude [$^{\\circ}$E]\")\n",
    "plt.ylabel(\"Latitude [$^{\\circ}$N]\")"
   ]
  },
  {
   "cell_type": "code",
   "execution_count": null,
   "id": "161d21b3",
   "metadata": {
    "ExecuteTime": {
     "end_time": "2022-10-13T15:41:23.283049Z",
     "start_time": "2022-10-13T15:41:23.283040Z"
    }
   },
   "outputs": [],
   "source": [
    "plot_defaults()\n",
    "map_axes()\n",
    "from src.conversions import pascal_to_millibar\n",
    "\n",
    "plt.scatter(ds.lon.values, ds.lat.values, c=ds.usa_wind.values)\n",
    "plt.colorbar(label=\"Maximum Wind Speed [m s$^{-1}$]\")\n",
    "plt.xlabel(\"Longitude [$^{\\circ}$E]\")\n",
    "plt.ylabel(\"Latitude [$^{\\circ}$N]\")"
   ]
  },
  {
   "cell_type": "code",
   "execution_count": null,
   "id": "12d3b816",
   "metadata": {
    "ExecuteTime": {
     "end_time": "2022-10-13T15:41:23.283929Z",
     "start_time": "2022-10-13T15:41:23.283916Z"
    }
   },
   "outputs": [],
   "source": [
    "plot_defaults()\n",
    "map_axes()\n",
    "from src.conversions import pascal_to_millibar\n",
    "\n",
    "plt.scatter(ds.lon.values, ds.lat.values, c=ds.usa_rmw.values)\n",
    "plt.colorbar(label=\"Maximum Wind Speed Radius [m]\")\n",
    "plt.xlabel(\"Longitude [$^{\\circ}$E]\")\n",
    "plt.ylabel(\"Latitude [$^{\\circ}$N]\")"
   ]
  },
  {
   "cell_type": "code",
   "execution_count": null,
   "id": "aea18b68",
   "metadata": {
    "ExecuteTime": {
     "end_time": "2022-10-13T15:41:23.285111Z",
     "start_time": "2022-10-13T15:41:23.285104Z"
    }
   },
   "outputs": [],
   "source": [
    "plot_defaults()\n",
    "plt.scatter(ds.usa_pres.values / 1e2, ds.usa_rmw.values / 1e3, c=ds.usa_wind.values)\n",
    "plt.xlabel(\"Minimum Central Pressure [Pa]\")\n",
    "plt.ylabel(\"Maximum Wind Speed Radius [km]\")\n",
    "plt.colorbar(label=\"Maximum wind speed [m s$^{-1}$]\")"
   ]
  },
  {
   "cell_type": "code",
   "execution_count": null,
   "id": "d05e8a80",
   "metadata": {
    "ExecuteTime": {
     "end_time": "2022-10-13T15:41:23.285878Z",
     "start_time": "2022-10-13T15:41:23.285871Z"
    }
   },
   "outputs": [],
   "source": [
    "plot_defaults()\n",
    "plt.scatter(ds.usa_wind.values, ds.usa_rmw.values / 1e3, c=ds.usa_pres.values / 1e2)\n",
    "plt.colorbar(label=\"Minimum Central Pressure [Pa]\")\n",
    "plt.ylabel(\"Maximum Wind Speed Radius [km]\")\n",
    "plt.xlabel(\"Maximum wind speed [m s$^{-1}$]\")"
   ]
  },
  {
   "cell_type": "code",
   "execution_count": null,
   "id": "fd867707",
   "metadata": {
    "ExecuteTime": {
     "end_time": "2022-10-13T15:41:23.286739Z",
     "start_time": "2022-10-13T15:41:23.286731Z"
    }
   },
   "outputs": [],
   "source": [
    "plot_defaults()\n",
    "plt.scatter(ds.usa_wind.values, ds.usa_rmw.values / 1e3, c=ds.usa_pres.values / 1e2)\n",
    "plt.colorbar(label=\"Minimum Central Pressure [Pa]\")\n",
    "plt.ylabel(\"Maximum Wind Speed Radius [km]\")\n",
    "plt.xlabel(\"Maximum Wind Speed [m s$^{-1}$]\")"
   ]
  },
  {
   "cell_type": "code",
   "execution_count": null,
   "id": "03d869cf",
   "metadata": {
    "ExecuteTime": {
     "end_time": "2022-10-13T15:41:23.287518Z",
     "start_time": "2022-10-13T15:41:23.287510Z"
    }
   },
   "outputs": [],
   "source": [
    "ds"
   ]
  },
  {
   "cell_type": "code",
   "execution_count": null,
   "id": "18471382",
   "metadata": {
    "ExecuteTime": {
     "end_time": "2022-10-13T15:41:23.288552Z",
     "start_time": "2022-10-13T15:41:23.288535Z"
    }
   },
   "outputs": [],
   "source": [
    "ds.usa_pres"
   ]
  },
  {
   "cell_type": "code",
   "execution_count": null,
   "id": "d318c9a0",
   "metadata": {
    "ExecuteTime": {
     "end_time": "2022-10-13T15:41:23.289507Z",
     "start_time": "2022-10-13T15:41:23.289499Z"
    }
   },
   "outputs": [],
   "source": [
    "ds.usa_pres"
   ]
  },
  {
   "cell_type": "code",
   "execution_count": null,
   "id": "24711ee4",
   "metadata": {
    "ExecuteTime": {
     "end_time": "2022-10-13T15:41:23.290303Z",
     "start_time": "2022-10-13T15:41:23.290295Z"
    }
   },
   "outputs": [],
   "source": [
    "from src.data_loading.ibtracs import katrina"
   ]
  },
  {
   "cell_type": "code",
   "execution_count": null,
   "id": "cfbdc148",
   "metadata": {
    "ExecuteTime": {
     "end_time": "2022-10-13T15:41:23.291124Z",
     "start_time": "2022-10-13T15:41:23.291116Z"
    }
   },
   "outputs": [],
   "source": [
    "katrina().storm_speed.rename({\"date_time\": \"time\"}).plot(x=\"time\")"
   ]
  },
  {
   "cell_type": "code",
   "execution_count": null,
   "id": "8287d395",
   "metadata": {
    "ExecuteTime": {
     "end_time": "2022-10-13T15:41:23.292171Z",
     "start_time": "2022-10-13T15:41:23.292162Z"
    }
   },
   "outputs": [],
   "source": [
    "katrina().storm_dir.rename({\"date_time\": \"time\"}).plot(x=\"time\")"
   ]
  },
  {
   "cell_type": "code",
   "execution_count": null,
   "id": "33fe6a7c",
   "metadata": {
    "ExecuteTime": {
     "end_time": "2022-10-13T15:41:23.292926Z",
     "start_time": "2022-10-13T15:41:23.292917Z"
    }
   },
   "outputs": [],
   "source": [
    "katrina()"
   ]
  },
  {
   "cell_type": "code",
   "execution_count": null,
   "id": "d3febcd4",
   "metadata": {
    "ExecuteTime": {
     "end_time": "2022-10-13T15:41:23.294302Z",
     "start_time": "2022-10-13T15:41:23.294293Z"
    }
   },
   "outputs": [],
   "source": [
    "from src.preprocessing.sel import mid_katrina"
   ]
  },
  {
   "cell_type": "code",
   "execution_count": null,
   "id": "352954a0",
   "metadata": {
    "ExecuteTime": {
     "end_time": "2022-10-13T15:41:23.295373Z",
     "start_time": "2022-10-13T15:41:23.295365Z"
    }
   },
   "outputs": [],
   "source": [
    "from src.constants import MID_KATRINA_TIME"
   ]
  },
  {
   "cell_type": "code",
   "execution_count": null,
   "id": "d5d4a5fe",
   "metadata": {
    "ExecuteTime": {
     "end_time": "2022-10-13T15:41:23.296548Z",
     "start_time": "2022-10-13T15:41:23.296540Z"
    }
   },
   "outputs": [],
   "source": [
    "MID_KATRINA_TIME"
   ]
  },
  {
   "cell_type": "code",
   "execution_count": null,
   "id": "9c1f30e4",
   "metadata": {
    "ExecuteTime": {
     "end_time": "2022-10-13T15:41:23.297591Z",
     "start_time": "2022-10-13T15:41:23.297583Z"
    }
   },
   "outputs": [],
   "source": [
    "katrina()  # .storm_speed.rename({\"date_time\": \"time\"}).drop(\"storm\")"
   ]
  },
  {
   "cell_type": "code",
   "execution_count": null,
   "id": "5061e2e0",
   "metadata": {
    "ExecuteTime": {
     "end_time": "2022-10-13T15:41:23.299088Z",
     "start_time": "2022-10-13T15:41:23.299074Z"
    }
   },
   "outputs": [],
   "source": [
    "from src.conversions import si_ify\n",
    "\n",
    "si_ify(katrina())\n",
    "si_ify(katrina())"
   ]
  },
  {
   "cell_type": "code",
   "execution_count": null,
   "id": "93574c50",
   "metadata": {
    "ExecuteTime": {
     "end_time": "2022-10-13T15:41:23.300228Z",
     "start_time": "2022-10-13T15:41:23.300219Z"
    }
   },
   "outputs": [],
   "source": [
    "katrina().usa_poci.rename({\"date_time\": \"time\"}).plot(x=\"time\")"
   ]
  },
  {
   "cell_type": "code",
   "execution_count": null,
   "id": "a9316f48",
   "metadata": {
    "ExecuteTime": {
     "end_time": "2022-10-13T15:41:23.301375Z",
     "start_time": "2022-10-13T15:41:23.301366Z"
    }
   },
   "outputs": [],
   "source": [
    "from src.data_loading.ibtracs import kat_stats\n",
    "\n",
    "\n",
    "kat_stats()"
   ]
  },
  {
   "cell_type": "markdown",
   "id": "b5271473",
   "metadata": {},
   "source": []
  }
 ],
 "metadata": {
  "hide_input": false,
  "kernelspec": {
   "display_name": "Python 3 (ipykernel)",
   "language": "python",
   "name": "python3"
  },
  "language_info": {
   "codemirror_mode": {
    "name": "ipython",
    "version": 3
   },
   "file_extension": ".py",
   "mimetype": "text/x-python",
   "name": "python",
   "nbconvert_exporter": "python",
   "pygments_lexer": "ipython3",
   "version": "3.8.13"
  },
  "varInspector": {
   "cols": {
    "lenName": 16,
    "lenType": 16,
    "lenVar": 40
   },
   "kernels_config": {
    "python": {
     "delete_cmd_postfix": "",
     "delete_cmd_prefix": "del ",
     "library": "var_list.py",
     "varRefreshCmd": "print(var_dic_list())"
    },
    "r": {
     "delete_cmd_postfix": ") ",
     "delete_cmd_prefix": "rm(",
     "library": "var_list.r",
     "varRefreshCmd": "cat(var_dic_list()) "
    }
   },
   "types_to_exclude": [
    "module",
    "function",
    "builtin_function_or_method",
    "instance",
    "_Feature"
   ],
   "window_display": false
  },
  "vscode": {
   "interpreter": {
    "hash": "74472437f9cf316878ea386fa8cd27d7d4c4f4024404bdc6d6f0090234edee66"
   }
  }
 },
 "nbformat": 4,
 "nbformat_minor": 5
}
