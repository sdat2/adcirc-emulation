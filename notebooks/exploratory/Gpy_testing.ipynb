{
 "cells": [
  {
   "cell_type": "markdown",
   "id": "6735e4bc",
   "metadata": {},
   "source": [
    "# Gpy"
   ]
  },
  {
   "cell_type": "code",
   "execution_count": null,
   "id": "d713a873",
   "metadata": {},
   "outputs": [],
   "source": [
    "# Convenient jupyter setup\n",
    "%load_ext autoreload\n",
    "%autoreload 2\n",
    "%config IPCompleter.greedy=True"
   ]
  },
  {
   "cell_type": "code",
   "execution_count": 1,
   "id": "9eb77575",
   "metadata": {
    "ExecuteTime": {
     "end_time": "2022-11-20T15:48:09.164385Z",
     "start_time": "2022-11-20T15:48:08.070363Z"
    }
   },
   "outputs": [],
   "source": [
    "import numpy as np\n",
    "import GPy"
   ]
  },
  {
   "cell_type": "code",
   "execution_count": 4,
   "id": "c0bb4eec",
   "metadata": {
    "ExecuteTime": {
     "end_time": "2022-11-20T15:49:50.584657Z",
     "start_time": "2022-11-20T15:49:50.573729Z"
    }
   },
   "outputs": [],
   "source": [
    "X = np.linspace(0, 100, num=1000).reshape(1000, 1)\n",
    "Y = (2*X + X**2).reshape(1000, 1)"
   ]
  },
  {
   "cell_type": "code",
   "execution_count": 6,
   "id": "f66f2bbc",
   "metadata": {
    "ExecuteTime": {
     "end_time": "2022-11-20T15:52:09.609672Z",
     "start_time": "2022-11-20T15:52:02.139853Z"
    }
   },
   "outputs": [
    {
     "name": "stdout",
     "output_type": "stream",
     "text": [
      "\n",
      "Name : GP regression\n",
      "Objective : 296.2641749209142\n",
      "Number of Parameters : 3\n",
      "Number of Optimization Parameters : 3\n",
      "Updates : True\n",
      "Parameters:\n",
      "  \u001b[1mGP_regression.         \u001b[0;0m  |                   value  |  constraints  |  priors\n",
      "  \u001b[1mrbf.variance           \u001b[0;0m  |      237030.48094303327  |      +ve      |        \n",
      "  \u001b[1mrbf.lengthscale        \u001b[0;0m  |      17.296229232152633  |      +ve      |        \n",
      "  \u001b[1mGaussian_noise.variance\u001b[0;0m  |  5.562684646268137e-309  |      +ve      |        \n"
     ]
    }
   ],
   "source": [
    "# let X, Y be data loaded above\n",
    "# Model creation:\n",
    "m = GPy.models.GPRegression(X, Y)\n",
    "m.optimize()\n",
    "# 1: Saving a model:\n",
    "np.save('X.npy', X)\n",
    "np.save('Y.npy', Y)\n",
    "np.save('model_save.npy', m.param_array)\n",
    "# 2: loading a model\n",
    "# Model creation, without initialization:\n",
    "X = np.load('X.npy')\n",
    "Y = np.load('X.npy')\n",
    "m_load = GPy.models.GPRegression(X, Y, initialize=False)\n",
    "m_load.update_model(False) # do not call the underlying expensive algebra on load\n",
    "m_load.initialize_parameter() # Initialize the parameters (connect the parameters up)\n",
    "m_load[:] = np.load('model_save.npy') # Load the parameters\n",
    "m_load.update_model(True) # Call the algebra only once\n",
    "print(m_load)"
   ]
  },
  {
   "cell_type": "code",
   "execution_count": null,
   "id": "24cf0a50",
   "metadata": {},
   "outputs": [],
   "source": []
  }
 ],
 "metadata": {
  "hide_input": false,
  "kernelspec": {
   "display_name": "Python 3 (ipykernel)",
   "language": "python",
   "name": "python3"
  },
  "language_info": {
   "codemirror_mode": {
    "name": "ipython",
    "version": 3
   },
   "file_extension": ".py",
   "mimetype": "text/x-python",
   "name": "python",
   "nbconvert_exporter": "python",
   "pygments_lexer": "ipython3",
   "version": "3.8.13"
  },
  "varInspector": {
   "cols": {
    "lenName": 16,
    "lenType": 16,
    "lenVar": 40
   },
   "kernels_config": {
    "python": {
     "delete_cmd_postfix": "",
     "delete_cmd_prefix": "del ",
     "library": "var_list.py",
     "varRefreshCmd": "print(var_dic_list())"
    },
    "r": {
     "delete_cmd_postfix": ") ",
     "delete_cmd_prefix": "rm(",
     "library": "var_list.r",
     "varRefreshCmd": "cat(var_dic_list()) "
    }
   },
   "types_to_exclude": [
    "module",
    "function",
    "builtin_function_or_method",
    "instance",
    "_Feature"
   ],
   "window_display": false
  }
 },
 "nbformat": 4,
 "nbformat_minor": 5
}
