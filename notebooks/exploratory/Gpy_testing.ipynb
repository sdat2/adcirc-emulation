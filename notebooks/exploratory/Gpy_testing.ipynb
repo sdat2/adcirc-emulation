{
 "cells": [
  {
   "cell_type": "markdown",
   "id": "c649dc45",
   "metadata": {},
   "source": [
    "# Gpy"
   ]
  },
  {
   "cell_type": "code",
   "execution_count": 10,
   "id": "b2ec97b6",
   "metadata": {
    "ExecuteTime": {
     "end_time": "2022-11-20T18:34:59.962883Z",
     "start_time": "2022-11-20T18:34:59.865988Z"
    }
   },
   "outputs": [],
   "source": [
    "# Convenient jupyter setup\n",
    "%load_ext autoreload\n",
    "%autoreload 2\n",
    "%config IPCompleter.greedy=True"
   ]
  },
  {
   "cell_type": "markdown",
   "id": "d61483e4",
   "metadata": {},
   "source": [
    "### Load Libraries"
   ]
  },
  {
   "cell_type": "code",
   "execution_count": 1,
   "id": "aa087d5d",
   "metadata": {
    "ExecuteTime": {
     "end_time": "2022-11-20T15:48:09.164385Z",
     "start_time": "2022-11-20T15:48:08.070363Z"
    }
   },
   "outputs": [],
   "source": [
    "import numpy as np\n",
    "import GPy"
   ]
  },
  {
   "cell_type": "markdown",
   "id": "9565670f",
   "metadata": {},
   "source": [
    "## Simple Initial Example"
   ]
  },
  {
   "cell_type": "markdown",
   "id": "a343e375",
   "metadata": {},
   "source": [
    "### Create input data"
   ]
  },
  {
   "cell_type": "code",
   "execution_count": 4,
   "id": "805f843b",
   "metadata": {
    "ExecuteTime": {
     "end_time": "2022-11-20T15:49:50.584657Z",
     "start_time": "2022-11-20T15:49:50.573729Z"
    }
   },
   "outputs": [],
   "source": [
    "X = np.linspace(0, 100, num=1000).reshape(1000, 1)\n",
    "Y = (2 * X + X**2).reshape(1000, 1)"
   ]
  },
  {
   "cell_type": "markdown",
   "id": "96395a28",
   "metadata": {},
   "source": [
    "### Initial Training & Save Data and Model"
   ]
  },
  {
   "cell_type": "code",
   "execution_count": 17,
   "id": "68625a0e",
   "metadata": {
    "ExecuteTime": {
     "end_time": "2022-11-20T18:51:20.082735Z",
     "start_time": "2022-11-20T18:51:10.492013Z"
    }
   },
   "outputs": [
    {
     "name": "stdout",
     "output_type": "stream",
     "text": [
      "\n",
      "Name : GP regression\n",
      "Objective : 769.0701810146297\n",
      "Number of Parameters : 3\n",
      "Number of Optimization Parameters : 3\n",
      "Updates : True\n",
      "Parameters:\n",
      "  \u001b[1mGP_regression.         \u001b[0;0m  |                   value  |  constraints  |  priors\n",
      "  \u001b[1mrbf.variance           \u001b[0;0m  |       315690.0242574738  |      +ve      |        \n",
      "  \u001b[1mrbf.lengthscale        \u001b[0;0m  |       20.81011944024366  |      +ve      |        \n",
      "  \u001b[1mGaussian_noise.variance\u001b[0;0m  |  5.562684646268137e-309  |      +ve      |        \n"
     ]
    }
   ],
   "source": [
    "# let X, Y be data loaded above\n",
    "# Model creation:\n",
    "m = GPy.models.GPRegression(X, Y)\n",
    "m.optimize()\n",
    "# 1: Saving a model:\n",
    "np.save(\"X.npy\", X)\n",
    "np.save(\"Y.npy\", Y)\n",
    "np.save(\"model_save.npy\", m.param_array)\n",
    "print(m)"
   ]
  },
  {
   "cell_type": "markdown",
   "id": "b362a4fb",
   "metadata": {},
   "source": [
    "### Load Model & Data"
   ]
  },
  {
   "cell_type": "code",
   "execution_count": 18,
   "id": "a05c1914",
   "metadata": {
    "ExecuteTime": {
     "end_time": "2022-11-20T18:51:20.289148Z",
     "start_time": "2022-11-20T18:51:20.132436Z"
    }
   },
   "outputs": [
    {
     "name": "stdout",
     "output_type": "stream",
     "text": [
      "\n",
      "Name : GP regression\n",
      "Objective : 769.0701810146297\n",
      "Number of Parameters : 3\n",
      "Number of Optimization Parameters : 3\n",
      "Updates : True\n",
      "Parameters:\n",
      "  \u001b[1mGP_regression.         \u001b[0;0m  |                   value  |  constraints  |  priors\n",
      "  \u001b[1mrbf.variance           \u001b[0;0m  |       315690.0242574738  |      +ve      |        \n",
      "  \u001b[1mrbf.lengthscale        \u001b[0;0m  |       20.81011944024366  |      +ve      |        \n",
      "  \u001b[1mGaussian_noise.variance\u001b[0;0m  |  5.562684646268137e-309  |      +ve      |        \n"
     ]
    }
   ],
   "source": [
    "# 2: loading a model\n",
    "# Model creation, without initialization:\n",
    "X = np.load(\"X.npy\")\n",
    "Y = np.load(\"Y.npy\")\n",
    "m_load = GPy.models.GPRegression(X, Y, initialize=False)\n",
    "m_load.update_model(False)  # do not call the underlying expensive algebra on load\n",
    "m_load.initialize_parameter()  # Initialize the parameters (connect the parameters up)\n",
    "m_load[:] = np.load(\"model_save.npy\")  # Load the parameters\n",
    "m_load.update_model(True)  # Call the algebra only once\n",
    "print(m_load)"
   ]
  },
  {
   "cell_type": "markdown",
   "id": "8a036c9b",
   "metadata": {},
   "source": [
    "## More advanced multi-dimensional example"
   ]
  },
  {
   "cell_type": "markdown",
   "id": "ea4f5174",
   "metadata": {},
   "source": [
    "### Create input data"
   ]
  },
  {
   "cell_type": "code",
   "execution_count": 12,
   "id": "8d61ed4f",
   "metadata": {
    "ExecuteTime": {
     "end_time": "2022-11-20T18:39:15.327030Z",
     "start_time": "2022-11-20T18:39:15.282272Z"
    }
   },
   "outputs": [],
   "source": [
    "x1 = np.linspace(0, 100, num=1000)\n",
    "x2 = np.linspace(0, 100, num=1000)\n",
    "X = np.zeros([1000, 2])\n",
    "X[:, 0] = x1\n",
    "X[:, 1] = x2\n",
    "Y = (2 * X[:, 0] + X[:, 1] ** 2).reshape(1000, 1)"
   ]
  },
  {
   "cell_type": "markdown",
   "id": "d198f303",
   "metadata": {},
   "source": [
    "### Initial Training & Save Data and Model"
   ]
  },
  {
   "cell_type": "code",
   "execution_count": 15,
   "id": "cbcd0fa2",
   "metadata": {
    "ExecuteTime": {
     "end_time": "2022-11-20T18:50:56.150017Z",
     "start_time": "2022-11-20T18:50:49.448273Z"
    }
   },
   "outputs": [
    {
     "name": "stdout",
     "output_type": "stream",
     "text": [
      "\n",
      "Name : GP regression\n",
      "Objective : 769.0701810146297\n",
      "Number of Parameters : 3\n",
      "Number of Optimization Parameters : 3\n",
      "Updates : True\n",
      "Parameters:\n",
      "  \u001b[1mGP_regression.         \u001b[0;0m  |                   value  |  constraints  |  priors\n",
      "  \u001b[1mrbf.variance           \u001b[0;0m  |       315690.0242574738  |      +ve      |        \n",
      "  \u001b[1mrbf.lengthscale        \u001b[0;0m  |       20.81011944024366  |      +ve      |        \n",
      "  \u001b[1mGaussian_noise.variance\u001b[0;0m  |  5.562684646268137e-309  |      +ve      |        \n"
     ]
    }
   ],
   "source": [
    "# let X, Y be data loaded above\n",
    "# Model creation:\n",
    "m = GPy.models.GPRegression(X, Y)\n",
    "m.optimize()\n",
    "# 1: Saving a model:\n",
    "np.save(\"X.npy\", X)\n",
    "np.save(\"Y.npy\", Y)\n",
    "np.save(\"model_save.npy\", m.param_array)\n",
    "print(m)"
   ]
  },
  {
   "cell_type": "markdown",
   "id": "46128eda",
   "metadata": {},
   "source": [
    "### Load Model and Data"
   ]
  },
  {
   "cell_type": "code",
   "execution_count": 16,
   "id": "2f54a233",
   "metadata": {
    "ExecuteTime": {
     "end_time": "2022-11-20T18:50:57.703618Z",
     "start_time": "2022-11-20T18:50:57.519836Z"
    }
   },
   "outputs": [
    {
     "name": "stdout",
     "output_type": "stream",
     "text": [
      "\n",
      "Name : GP regression\n",
      "Objective : 769.0701810146297\n",
      "Number of Parameters : 3\n",
      "Number of Optimization Parameters : 3\n",
      "Updates : True\n",
      "Parameters:\n",
      "  \u001b[1mGP_regression.         \u001b[0;0m  |                   value  |  constraints  |  priors\n",
      "  \u001b[1mrbf.variance           \u001b[0;0m  |       315690.0242574738  |      +ve      |        \n",
      "  \u001b[1mrbf.lengthscale        \u001b[0;0m  |       20.81011944024366  |      +ve      |        \n",
      "  \u001b[1mGaussian_noise.variance\u001b[0;0m  |  5.562684646268137e-309  |      +ve      |        \n"
     ]
    }
   ],
   "source": [
    "# 2: loading a model\n",
    "# Model creation, without initialization:\n",
    "X = np.load(\"X.npy\")\n",
    "Y = np.load(\"Y.npy\")\n",
    "m_load = GPy.models.GPRegression(X, Y, initialize=False)\n",
    "m_load.update_model(False)  # do not call the underlying expensive algebra on load\n",
    "m_load.initialize_parameter()  # Initialize the parameters (connect the parameters up)\n",
    "m_load[:] = np.load(\"model_save.npy\")  # Load the parameters\n",
    "m_load.update_model(True)  # Call the algebra only once\n",
    "print(m_load)"
   ]
  },
  {
   "cell_type": "markdown",
   "id": "5947acc7",
   "metadata": {},
   "source": [
    "## Matern32"
   ]
  },
  {
   "cell_type": "code",
   "execution_count": 19,
   "id": "9c9a6a9e",
   "metadata": {
    "ExecuteTime": {
     "end_time": "2022-11-21T11:01:41.199981Z",
     "start_time": "2022-11-21T11:01:41.093348Z"
    }
   },
   "outputs": [],
   "source": [
    "from GPy.kern import Matern32"
   ]
  },
  {
   "cell_type": "code",
   "execution_count": null,
   "id": "ebf4d561",
   "metadata": {},
   "outputs": [],
   "source": [
    "x1 = np.linspace(0, 100, num=1000)\n",
    "x2 = np.linspace(0, 100, num=1000)\n",
    "X = np.zeros([1000, 2])\n",
    "X[:, 0] = x1\n",
    "X[:, 1] = x2\n",
    "Y = (2 * X[:, 0] + X[:, 1] ** 2).reshape(1000, 1)"
   ]
  },
  {
   "cell_type": "code",
   "execution_count": 20,
   "id": "f053ee08",
   "metadata": {
    "ExecuteTime": {
     "end_time": "2022-11-21T11:02:31.260274Z",
     "start_time": "2022-11-21T11:02:16.537988Z"
    }
   },
   "outputs": [
    {
     "name": "stderr",
     "output_type": "stream",
     "text": [
      " /Users/simon/new-orleans/env/lib/python3.8/site-packages/GPy/kern/src/stationary.py:168: RuntimeWarning:overflow encountered in true_divide\n",
      " /Users/simon/new-orleans/env/lib/python3.8/site-packages/GPy/kern/src/stationary.py:484: RuntimeWarning:overflow encountered in multiply\n",
      " /Users/simon/new-orleans/env/lib/python3.8/site-packages/GPy/kern/src/stationary.py:484: RuntimeWarning:invalid value encountered in multiply\n",
      " /Users/simon/new-orleans/env/lib/python3.8/site-packages/GPy/kern/src/stationary.py:487: RuntimeWarning:overflow encountered in multiply\n",
      " /Users/simon/new-orleans/env/lib/python3.8/site-packages/GPy/kern/src/stationary.py:487: RuntimeWarning:invalid value encountered in multiply\n"
     ]
    },
    {
     "name": "stdout",
     "output_type": "stream",
     "text": [
      "\n",
      "Name : GP regression\n",
      "Objective : -2444.3780530101612\n",
      "Number of Parameters : 3\n",
      "Number of Optimization Parameters : 3\n",
      "Updates : True\n",
      "Parameters:\n",
      "  \u001b[1mGP_regression.         \u001b[0;0m  |                   value  |  constraints  |  priors\n",
      "  \u001b[1mMat32.variance         \u001b[0;0m  |       7186584.290623693  |      +ve      |        \n",
      "  \u001b[1mMat32.lengthscale      \u001b[0;0m  |       908.0848100985514  |      +ve      |        \n",
      "  \u001b[1mGaussian_noise.variance\u001b[0;0m  |  5.562684646268137e-309  |      +ve      |        \n"
     ]
    }
   ],
   "source": [
    "# let X, Y be data loaded above\n",
    "# Model creation:\n",
    "m = GPy.models.GPRegression(X, Y, kernel=Matern32(2, 1))\n",
    "m.optimize()\n",
    "# 1: Saving a model:\n",
    "np.save(\"X.npy\", X)\n",
    "np.save(\"Y.npy\", Y)\n",
    "np.save(\"model_save.npy\", m.param_array)\n",
    "print(m)"
   ]
  },
  {
   "cell_type": "code",
   "execution_count": 22,
   "id": "41eff88c",
   "metadata": {
    "ExecuteTime": {
     "end_time": "2022-11-21T11:03:22.478753Z",
     "start_time": "2022-11-21T11:03:22.240653Z"
    }
   },
   "outputs": [
    {
     "name": "stdout",
     "output_type": "stream",
     "text": [
      "\n",
      "Name : GP regression\n",
      "Objective : -2444.3780530101612\n",
      "Number of Parameters : 3\n",
      "Number of Optimization Parameters : 3\n",
      "Updates : True\n",
      "Parameters:\n",
      "  \u001b[1mGP_regression.         \u001b[0;0m  |                   value  |  constraints  |  priors\n",
      "  \u001b[1mMat32.variance         \u001b[0;0m  |       7186584.290623693  |      +ve      |        \n",
      "  \u001b[1mMat32.lengthscale      \u001b[0;0m  |       908.0848100985514  |      +ve      |        \n",
      "  \u001b[1mGaussian_noise.variance\u001b[0;0m  |  5.562684646268137e-309  |      +ve      |        \n"
     ]
    }
   ],
   "source": [
    "# 2: loading a model\n",
    "# Model creation, without initialization:\n",
    "X = np.load(\"X.npy\")\n",
    "Y = np.load(\"Y.npy\")\n",
    "m_load = GPy.models.GPRegression(X, Y, initialize=False, kernel=Matern32(2, 1))\n",
    "m_load.update_model(False)  # do not call the underlying expensive algebra on load\n",
    "m_load.initialize_parameter()  # Initialize the parameters (connect the parameters up)\n",
    "m_load[:] = np.load(\"model_save.npy\")  # Load the parameters\n",
    "m_load.update_model(True)  # Call the algebra only once\n",
    "print(m_load)"
   ]
  },
  {
   "cell_type": "markdown",
   "id": "cf0ea7d3",
   "metadata": {},
   "source": [
    "## Matern52 add Matern32"
   ]
  },
  {
   "cell_type": "code",
   "execution_count": 23,
   "id": "f8d5a820",
   "metadata": {
    "ExecuteTime": {
     "end_time": "2022-11-21T11:04:16.773312Z",
     "start_time": "2022-11-21T11:04:16.735647Z"
    }
   },
   "outputs": [],
   "source": [
    "from GPy.kern import Matern32, Matern52, Add"
   ]
  },
  {
   "cell_type": "code",
   "execution_count": 28,
   "id": "8254daea",
   "metadata": {
    "ExecuteTime": {
     "end_time": "2022-11-21T11:06:18.744041Z",
     "start_time": "2022-11-21T11:06:18.690283Z"
    }
   },
   "outputs": [
    {
     "data": {
      "text/html": [
       "<style type=\"text/css\">\n",
       ".tg  {font-family:\"Courier New\", Courier, monospace !important;padding:2px 3px;word-break:normal;border-collapse:collapse;border-spacing:0;border-color:#DCDCDC;margin:0px auto;width:100%;}\n",
       ".tg td{font-family:\"Courier New\", Courier, monospace !important;font-weight:bold;color:#444;background-color:#F7FDFA;border-style:solid;border-width:1px;overflow:hidden;word-break:normal;border-color:#DCDCDC;}\n",
       ".tg th{font-family:\"Courier New\", Courier, monospace !important;font-weight:normal;color:#fff;background-color:#26ADE4;border-style:solid;border-width:1px;overflow:hidden;word-break:normal;border-color:#DCDCDC;}\n",
       ".tg .tg-left{font-family:\"Courier New\", Courier, monospace !important;font-weight:normal;text-align:left;}\n",
       ".tg .tg-center{font-family:\"Courier New\", Courier, monospace !important;font-weight:normal;text-align:center;}\n",
       ".tg .tg-right{font-family:\"Courier New\", Courier, monospace !important;font-weight:normal;text-align:right;}\n",
       "</style>\n",
       "<table class=\"tg\"><tr><th><b>  sum.             </b></th><th><b>value</b></th><th><b>constraints</b></th><th><b>priors</b></th></tr>\n",
       "<tr><td class=tg-left>  Mat32.variance   </td><td class=tg-right>  1.0</td><td class=tg-center>    +ve    </td><td class=tg-center>      </td></tr>\n",
       "<tr><td class=tg-left>  Mat32.lengthscale</td><td class=tg-right>  1.0</td><td class=tg-center>    +ve    </td><td class=tg-center>      </td></tr>\n",
       "<tr><td class=tg-left>  Mat52.variance   </td><td class=tg-right>  1.0</td><td class=tg-center>    +ve    </td><td class=tg-center>      </td></tr>\n",
       "<tr><td class=tg-left>  Mat52.lengthscale</td><td class=tg-right>  1.0</td><td class=tg-center>    +ve    </td><td class=tg-center>      </td></tr>\n",
       "</table>"
      ],
      "text/plain": [
       "<GPy.kern.src.add.Add at 0x7fb4f24cd6d0>"
      ]
     },
     "execution_count": 28,
     "metadata": {},
     "output_type": "execute_result"
    }
   ],
   "source": [
    "kernel = Add([Matern32(2, 1), Matern52(2, 1)])\n",
    "kernel"
   ]
  },
  {
   "cell_type": "code",
   "execution_count": 29,
   "id": "35370fc2",
   "metadata": {
    "ExecuteTime": {
     "end_time": "2022-11-21T11:16:05.909566Z",
     "start_time": "2022-11-21T11:15:43.468283Z"
    }
   },
   "outputs": [
    {
     "name": "stderr",
     "output_type": "stream",
     "text": [
      " /Users/simon/new-orleans/env/lib/python3.8/site-packages/GPy/kern/src/stationary.py:168: RuntimeWarning:overflow encountered in true_divide\n",
      " /Users/simon/new-orleans/env/lib/python3.8/site-packages/GPy/kern/src/stationary.py:581: RuntimeWarning:overflow encountered in multiply\n",
      " /Users/simon/new-orleans/env/lib/python3.8/site-packages/GPy/kern/src/stationary.py:581: RuntimeWarning:overflow encountered in square\n",
      " /Users/simon/new-orleans/env/lib/python3.8/site-packages/GPy/kern/src/stationary.py:581: RuntimeWarning:invalid value encountered in multiply\n",
      " /Users/simon/new-orleans/env/lib/python3.8/site-packages/GPy/kern/src/stationary.py:584: RuntimeWarning:overflow encountered in multiply\n",
      " /Users/simon/new-orleans/env/lib/python3.8/site-packages/GPy/kern/src/stationary.py:584: RuntimeWarning:invalid value encountered in subtract\n",
      " /Users/simon/new-orleans/env/lib/python3.8/site-packages/GPy/kern/src/stationary.py:584: RuntimeWarning:overflow encountered in square\n",
      " /Users/simon/new-orleans/env/lib/python3.8/site-packages/GPy/kern/src/stationary.py:584: RuntimeWarning:invalid value encountered in multiply\n",
      " /Users/simon/new-orleans/env/lib/python3.8/site-packages/GPy/kern/src/stationary.py:484: RuntimeWarning:overflow encountered in multiply\n",
      " /Users/simon/new-orleans/env/lib/python3.8/site-packages/GPy/kern/src/stationary.py:484: RuntimeWarning:invalid value encountered in multiply\n",
      " /Users/simon/new-orleans/env/lib/python3.8/site-packages/GPy/kern/src/stationary.py:487: RuntimeWarning:overflow encountered in multiply\n",
      " /Users/simon/new-orleans/env/lib/python3.8/site-packages/GPy/kern/src/stationary.py:487: RuntimeWarning:invalid value encountered in multiply\n"
     ]
    },
    {
     "name": "stdout",
     "output_type": "stream",
     "text": [
      "\n",
      "Name : GP regression\n",
      "Objective : -5957.730271003014\n",
      "Number of Parameters : 5\n",
      "Number of Optimization Parameters : 5\n",
      "Updates : True\n",
      "Parameters:\n",
      "  \u001b[1mGP_regression.         \u001b[0;0m  |                   value  |  constraints  |  priors\n",
      "  \u001b[1msum.Mat32.variance     \u001b[0;0m  |       127482.2061592066  |      +ve      |        \n",
      "  \u001b[1msum.Mat32.lengthscale  \u001b[0;0m  |      1025687.4708348563  |      +ve      |        \n",
      "  \u001b[1msum.Mat52.variance     \u001b[0;0m  |       161118.2926926067  |      +ve      |        \n",
      "  \u001b[1msum.Mat52.lengthscale  \u001b[0;0m  |      121.35819563468864  |      +ve      |        \n",
      "  \u001b[1mGaussian_noise.variance\u001b[0;0m  |  5.562684646268137e-309  |      +ve      |        \n"
     ]
    }
   ],
   "source": [
    "# let X, Y be data loaded above\n",
    "# Model creation:\n",
    "m = GPy.models.GPRegression(X, Y, kernel=kernel)\n",
    "m.optimize()\n",
    "# 1: Saving a model:\n",
    "np.save(\"X.npy\", X)\n",
    "np.save(\"Y.npy\", Y)\n",
    "np.save(\"model_save.npy\", m.param_array)\n",
    "print(m)"
   ]
  },
  {
   "cell_type": "code",
   "execution_count": 31,
   "id": "12125df1",
   "metadata": {
    "ExecuteTime": {
     "end_time": "2022-11-21T11:16:18.846509Z",
     "start_time": "2022-11-21T11:16:18.658908Z"
    }
   },
   "outputs": [
    {
     "name": "stdout",
     "output_type": "stream",
     "text": [
      "\n",
      "Name : GP regression\n",
      "Objective : -5957.730271003014\n",
      "Number of Parameters : 5\n",
      "Number of Optimization Parameters : 5\n",
      "Updates : True\n",
      "Parameters:\n",
      "  \u001b[1mGP_regression.         \u001b[0;0m  |                   value  |  constraints  |  priors\n",
      "  \u001b[1msum.Mat32.variance     \u001b[0;0m  |       127482.2061592066  |      +ve      |        \n",
      "  \u001b[1msum.Mat32.lengthscale  \u001b[0;0m  |      1025687.4708348563  |      +ve      |        \n",
      "  \u001b[1msum.Mat52.variance     \u001b[0;0m  |       161118.2926926067  |      +ve      |        \n",
      "  \u001b[1msum.Mat52.lengthscale  \u001b[0;0m  |      121.35819563468864  |      +ve      |        \n",
      "  \u001b[1mGaussian_noise.variance\u001b[0;0m  |  5.562684646268137e-309  |      +ve      |        \n"
     ]
    }
   ],
   "source": [
    "# 2: loading a model\n",
    "# Model creation, without initialization:\n",
    "X = np.load(\"X.npy\")\n",
    "Y = np.load(\"Y.npy\")\n",
    "m_load = GPy.models.GPRegression(X, Y, initialize=False, kernel=kernel)\n",
    "m_load.update_model(False)  # do not call the underlying expensive algebra on load\n",
    "m_load.initialize_parameter()  # Initialize the parameters (connect the parameters up)\n",
    "m_load[:] = np.load(\"model_save.npy\")  # Load the parameters\n",
    "m_load.update_model(True)  # Call the algebra only once\n",
    "print(m_load)"
   ]
  },
  {
   "cell_type": "code",
   "execution_count": null,
   "id": "faee28f5",
   "metadata": {},
   "outputs": [],
   "source": []
  }
 ],
 "metadata": {
  "hide_input": false,
  "kernelspec": {
   "display_name": "Python 3 (ipykernel)",
   "language": "python",
   "name": "python3"
  },
  "language_info": {
   "codemirror_mode": {
    "name": "ipython",
    "version": 3
   },
   "file_extension": ".py",
   "mimetype": "text/x-python",
   "name": "python",
   "nbconvert_exporter": "python",
   "pygments_lexer": "ipython3",
   "version": "3.8.13"
  },
  "varInspector": {
   "cols": {
    "lenName": 16,
    "lenType": 16,
    "lenVar": 40
   },
   "kernels_config": {
    "python": {
     "delete_cmd_postfix": "",
     "delete_cmd_prefix": "del ",
     "library": "var_list.py",
     "varRefreshCmd": "print(var_dic_list())"
    },
    "r": {
     "delete_cmd_postfix": ") ",
     "delete_cmd_prefix": "rm(",
     "library": "var_list.r",
     "varRefreshCmd": "cat(var_dic_list()) "
    }
   },
   "types_to_exclude": [
    "module",
    "function",
    "builtin_function_or_method",
    "instance",
    "_Feature"
   ],
   "window_display": false
  }
 },
 "nbformat": 4,
 "nbformat_minor": 5
}
