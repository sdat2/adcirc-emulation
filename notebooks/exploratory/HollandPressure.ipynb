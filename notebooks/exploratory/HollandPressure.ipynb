{
 "cells": [
  {
   "cell_type": "markdown",
   "id": "9d4aae3f",
   "metadata": {},
   "source": [
    "# Holland Pressure"
   ]
  },
  {
   "cell_type": "code",
   "execution_count": 1,
   "id": "025d7963",
   "metadata": {
    "ExecuteTime": {
     "end_time": "2022-09-27T16:07:25.506288Z",
     "start_time": "2022-09-27T16:07:25.471462Z"
    }
   },
   "outputs": [],
   "source": [
    "# Convenient jupyter setup\n",
    "%load_ext autoreload\n",
    "%autoreload 2\n",
    "%config IPCompleter.greedy=True"
   ]
  },
  {
   "cell_type": "code",
   "execution_count": 27,
   "id": "3eb8644d",
   "metadata": {
    "ExecuteTime": {
     "end_time": "2022-09-29T14:47:05.663916Z",
     "start_time": "2022-09-29T14:47:05.642195Z"
    }
   },
   "outputs": [],
   "source": [
    "import os\n",
    "import matplotlib.pyplot as plt\n",
    "from sithom.plot import plot_defaults\n",
    "from src.constants import KAT_EX_PATH, NO_BBOX\n",
    "\n",
    "plot_defaults()"
   ]
  },
  {
   "cell_type": "code",
   "execution_count": 3,
   "id": "4643398e",
   "metadata": {
    "ExecuteTime": {
     "end_time": "2022-09-27T16:09:16.183864Z",
     "start_time": "2022-09-27T16:09:16.136335Z"
    }
   },
   "outputs": [],
   "source": [
    "def ah77(pc):\n",
    "    return 3.4 * (1010 - pc) ** 0.644"
   ]
  },
  {
   "cell_type": "code",
   "execution_count": 4,
   "id": "9754141d",
   "metadata": {
    "ExecuteTime": {
     "end_time": "2022-09-27T16:10:24.300533Z",
     "start_time": "2022-09-27T16:10:24.256717Z"
    }
   },
   "outputs": [],
   "source": [
    "def dvorak(pc):\n",
    "    return 3.92 * (1015 - pc) ** 0.644"
   ]
  },
  {
   "cell_type": "code",
   "execution_count": 5,
   "id": "1ffc1847",
   "metadata": {
    "ExecuteTime": {
     "end_time": "2022-09-27T16:11:31.776650Z",
     "start_time": "2022-09-27T16:11:31.745947Z"
    }
   },
   "outputs": [],
   "source": [
    "def knaff_and_zehr(pc):\n",
    "    return 2.3 * (1010 - pc) ** 0.76"
   ]
  },
  {
   "cell_type": "code",
   "execution_count": 6,
   "id": "e2682ba9",
   "metadata": {
    "ExecuteTime": {
     "end_time": "2022-09-27T16:16:50.763079Z",
     "start_time": "2022-09-27T16:16:50.724942Z"
    }
   },
   "outputs": [],
   "source": [
    "import numpy as np\n",
    "from scipy.constants import R\n",
    "\n",
    "def bs(vmax, patvmax, pressure_delta, TatVmax):\n",
    "    return vmax**2 * patvmax * np.e / pressure_delta / R / TatVmax"
   ]
  },
  {
   "cell_type": "code",
   "execution_count": 8,
   "id": "2327d088",
   "metadata": {
    "ExecuteTime": {
     "end_time": "2022-09-29T13:46:43.791683Z",
     "start_time": "2022-09-29T13:46:43.779495Z"
    }
   },
   "outputs": [],
   "source": [
    "def bs_h10(vmax, pressuredelta):\n",
    "    rhoatvmax = 1.15 #kg m s-1\n",
    "    return vmax**2 * rhoatvmax / pressuredelta * (np.e)"
   ]
  },
  {
   "cell_type": "code",
   "execution_count": 4,
   "id": "ad45594b",
   "metadata": {
    "ExecuteTime": {
     "end_time": "2022-09-29T12:37:19.248999Z",
     "start_time": "2022-09-29T12:37:19.242493Z"
    }
   },
   "outputs": [],
   "source": [
    "from src.conversions import millibar_to_pascal, pascal_to"
   ]
  },
  {
   "cell_type": "code",
   "execution_count": 10,
   "id": "ca1c5857",
   "metadata": {
    "ExecuteTime": {
     "end_time": "2022-09-29T13:46:55.249788Z",
     "start_time": "2022-09-29T13:46:55.237053Z"
    }
   },
   "outputs": [
    {
     "data": {
      "text/plain": [
       "0.8140687767520578"
      ]
     },
     "execution_count": 10,
     "metadata": {},
     "output_type": "execute_result"
    }
   ],
   "source": [
    "bs_h10(50, millibar_to_pascal(1010-914))"
   ]
  },
  {
   "cell_type": "code",
   "execution_count": 13,
   "id": "fae15d4b",
   "metadata": {
    "ExecuteTime": {
     "end_time": "2022-09-29T13:47:28.207506Z",
     "start_time": "2022-09-29T13:47:28.193511Z"
    }
   },
   "outputs": [
    {
     "data": {
      "text/plain": [
       "0.7737683422593816"
      ]
     },
     "execution_count": 13,
     "metadata": {},
     "output_type": "execute_result"
    }
   ],
   "source": [
    "bs_h10(50, millibar_to_pascal(1015-914))"
   ]
  },
  {
   "cell_type": "code",
   "execution_count": null,
   "id": "12bc8d34",
   "metadata": {},
   "outputs": [],
   "source": [
    "def h80p(radius, pc, deltap, rmax, b):\n",
    "    return pc + deltap*np.exp(-(r/rmax)^ b)\n",
    "\n",
    "def vm(b, rho, deltap):\n",
    "    return  (b / rho / e * deltap) ** 0.5"
   ]
  },
  {
   "cell_type": "code",
   "execution_count": 59,
   "id": "2fc5147b",
   "metadata": {
    "ExecuteTime": {
     "end_time": "2022-09-29T15:05:45.373547Z",
     "start_time": "2022-09-29T15:05:45.355610Z"
    }
   },
   "outputs": [],
   "source": [
    "class Holland80:\n",
    "    def __init__(self, pc, rmax, vmax) -> None:\n",
    "        \"\"\" \"\"\"\n",
    "        self.pc = pc  # Pa\n",
    "        self.rho = 1.15  # kg m-3\n",
    "        self.pn = millibar_to_pascal(1010)  # Pa\n",
    "        self.rmax = rmax  # meters\n",
    "        self.vmax = vmax  # meters per second\n",
    "        self.b_coeff = self.vmax**2 / (self.pn - self.pc) * np.e # dimensionless\n",
    "\n",
    "    def pressure(self, radii: np.ndarray) -> np.ndarray:\n",
    "        return self.pn - (self.pn - self.pc) * np.exp(-((radii / self.rmax) ** self.b_coeff))\n",
    "    \n",
    "    def velocity(self, radii: np.ndarray) -> float:\n",
    "        return np.sqrt(\n",
    "            (self.pn - self.pc) * np.exp(-(radii/self.rmax)**self.b_coeff) * (radii / self.rmax) ** self.b_coeff * self.b_coeff\n",
    "        )\n",
    "\n",
    "kath80 = Holland80(millibar_to_pascal(915), 20e3, 50)"
   ]
  },
  {
   "cell_type": "code",
   "execution_count": 49,
   "id": "471b58ba",
   "metadata": {
    "ExecuteTime": {
     "end_time": "2022-09-29T14:57:25.976473Z",
     "start_time": "2022-09-29T14:57:25.964527Z"
    }
   },
   "outputs": [],
   "source": [
    "kath80 = Holland80(millibar_to_pascal(915), 20e3, 50)"
   ]
  },
  {
   "cell_type": "code",
   "execution_count": 25,
   "id": "5ddd6508",
   "metadata": {
    "ExecuteTime": {
     "end_time": "2022-09-29T14:46:38.347488Z",
     "start_time": "2022-09-29T14:46:38.335582Z"
    }
   },
   "outputs": [],
   "source": [
    "radii = np.linspace(0, 1e6, num=int(1e4))"
   ]
  },
  {
   "cell_type": "code",
   "execution_count": 28,
   "id": "57084309",
   "metadata": {
    "ExecuteTime": {
     "end_time": "2022-09-29T14:47:11.629541Z",
     "start_time": "2022-09-29T14:47:11.618030Z"
    }
   },
   "outputs": [],
   "source": [
    "plot_defaults()"
   ]
  },
  {
   "cell_type": "code",
   "execution_count": 60,
   "id": "4ca64c47",
   "metadata": {
    "ExecuteTime": {
     "end_time": "2022-09-29T15:05:50.425870Z",
     "start_time": "2022-09-29T15:05:50.225640Z"
    }
   },
   "outputs": [
    {
     "data": {
      "text/plain": [
       "<matplotlib.legend.Legend at 0x7f8878a33e80>"
      ]
     },
     "execution_count": 60,
     "metadata": {},
     "output_type": "execute_result"
    },
    {
     "data": {
      "image/png": "[encoded data removed]",
      "text/plain": [
       "<Figure size 432x288 with 1 Axes>"
      ]
     },
     "metadata": {
      "needs_background": "light"
     },
     "output_type": "display_data"
    }
   ],
   "source": [
    "\n",
    "plt.plot(radii, kath80.velocity(radii), label=\"velocity\")\n",
    "plt.xlabel(\"Radius [m]\")\n",
    "plt.ylabel(\"Velocity [m s^{-1}]\")\n",
    "plt.legend()"
   ]
  },
  {
   "cell_type": "code",
   "execution_count": 61,
   "id": "1a453fce",
   "metadata": {
    "ExecuteTime": {
     "end_time": "2022-09-29T15:06:10.778417Z",
     "start_time": "2022-09-29T15:06:10.564526Z"
    }
   },
   "outputs": [
    {
     "data": {
      "text/plain": [
       "<matplotlib.legend.Legend at 0x7f883a7a22b0>"
      ]
     },
     "execution_count": 61,
     "metadata": {},
     "output_type": "execute_result"
    },
    {
     "data": {
      "image/png": "[encoded data removed]",
      "text/plain": [
       "<Figure size 432x288 with 1 Axes>"
      ]
     },
     "metadata": {
      "needs_background": "light"
     },
     "output_type": "display_data"
    }
   ],
   "source": [
    "plt.plot(radii, pa_to_millibar(kath80.pressure(radii)), label=\"velocity\")\n",
    "plt.xlabel(\"Radius [m]\")\n",
    "plt.ylabel(\"Pressure [Pa]\")\n",
    "plt.legend()"
   ]
  },
  {
   "cell_type": "code",
   "execution_count": null,
   "id": "92ae2f4b",
   "metadata": {},
   "outputs": [],
   "source": []
  }
 ],
 "metadata": {
  "hide_input": false,
  "kernelspec": {
   "display_name": "Python 3 (ipykernel)",
   "language": "python",
   "name": "python3"
  },
  "language_info": {
   "codemirror_mode": {
    "name": "ipython",
    "version": 3
   },
   "file_extension": ".py",
   "mimetype": "text/x-python",
   "name": "python",
   "nbconvert_exporter": "python",
   "pygments_lexer": "ipython3",
   "version": "3.8.13"
  },
  "varInspector": {
   "cols": {
    "lenName": 16,
    "lenType": 16,
    "lenVar": 40
   },
   "kernels_config": {
    "python": {
     "delete_cmd_postfix": "",
     "delete_cmd_prefix": "del ",
     "library": "var_list.py",
     "varRefreshCmd": "print(var_dic_list())"
    },
    "r": {
     "delete_cmd_postfix": ") ",
     "delete_cmd_prefix": "rm(",
     "library": "var_list.r",
     "varRefreshCmd": "cat(var_dic_list()) "
    }
   },
   "types_to_exclude": [
    "module",
    "function",
    "builtin_function_or_method",
    "instance",
    "_Feature"
   ],
   "window_display": false
  }
 },
 "nbformat": 4,
 "nbformat_minor": 5
}
