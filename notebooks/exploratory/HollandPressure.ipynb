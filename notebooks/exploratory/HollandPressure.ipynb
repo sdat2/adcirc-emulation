{
 "cells": [
  {
   "cell_type": "markdown",
   "id": "9d4aae3f",
   "metadata": {},
   "source": [
    "# Holland Pressure"
   ]
  },
  {
   "cell_type": "code",
   "execution_count": 1,
   "id": "025d7963",
   "metadata": {
    "ExecuteTime": {
     "end_time": "2022-09-29T15:17:24.325358Z",
     "start_time": "2022-09-29T15:17:24.304078Z"
    }
   },
   "outputs": [],
   "source": [
    "# Convenient jupyter setup\n",
    "%load_ext autoreload\n",
    "%autoreload 2\n",
    "%config IPCompleter.greedy=True"
   ]
  },
  {
   "cell_type": "code",
   "execution_count": 2,
   "id": "3eb8644d",
   "metadata": {
    "ExecuteTime": {
     "end_time": "2022-09-29T15:17:27.017797Z",
     "start_time": "2022-09-29T15:17:25.145306Z"
    }
   },
   "outputs": [
    {
     "name": "stderr",
     "output_type": "stream",
     "text": [
      "/Users/simon/new-orleans/env/lib/python3.8/site-packages/xarray/backends/cfgrib_.py:29: UserWarning: Failed to load cfgrib - most likely there is a problem accessing the ecCodes library. Try `import cfgrib` to get the full error message\n",
      "  warnings.warn(\n"
     ]
    }
   ],
   "source": [
    "import os\n",
    "import matplotlib.pyplot as plt\n",
    "from sithom.plot import plot_defaults\n",
    "from src.constants import KAT_EX_PATH, NO_BBOX\n",
    "from src.conversions import millibar_to_pascal, pascal_to_millibar\n",
    "\n",
    "plot_defaults()"
   ]
  },
  {
   "cell_type": "code",
   "execution_count": 3,
   "id": "4643398e",
   "metadata": {
    "ExecuteTime": {
     "end_time": "2022-09-27T16:09:16.183864Z",
     "start_time": "2022-09-27T16:09:16.136335Z"
    }
   },
   "outputs": [],
   "source": [
    "def ah77(pc):\n",
    "    return 3.4 * (1010 - pc) ** 0.644"
   ]
  },
  {
   "cell_type": "code",
   "execution_count": 4,
   "id": "9754141d",
   "metadata": {
    "ExecuteTime": {
     "end_time": "2022-09-27T16:10:24.300533Z",
     "start_time": "2022-09-27T16:10:24.256717Z"
    }
   },
   "outputs": [],
   "source": [
    "def dvorak(pc):\n",
    "    return 3.92 * (1015 - pc) ** 0.644"
   ]
  },
  {
   "cell_type": "code",
   "execution_count": 5,
   "id": "1ffc1847",
   "metadata": {
    "ExecuteTime": {
     "end_time": "2022-09-27T16:11:31.776650Z",
     "start_time": "2022-09-27T16:11:31.745947Z"
    }
   },
   "outputs": [],
   "source": [
    "def knaff_and_zehr(pc):\n",
    "    return 2.3 * (1010 - pc) ** 0.76"
   ]
  },
  {
   "cell_type": "code",
   "execution_count": 6,
   "id": "e2682ba9",
   "metadata": {
    "ExecuteTime": {
     "end_time": "2022-09-27T16:16:50.763079Z",
     "start_time": "2022-09-27T16:16:50.724942Z"
    }
   },
   "outputs": [],
   "source": [
    "import numpy as np\n",
    "from scipy.constants import R\n",
    "\n",
    "def bs(vmax, patvmax, pressure_delta, TatVmax):\n",
    "    return vmax**2 * patvmax * np.e / pressure_delta / R / TatVmax"
   ]
  },
  {
   "cell_type": "code",
   "execution_count": 8,
   "id": "2327d088",
   "metadata": {
    "ExecuteTime": {
     "end_time": "2022-09-29T13:46:43.791683Z",
     "start_time": "2022-09-29T13:46:43.779495Z"
    }
   },
   "outputs": [],
   "source": [
    "def bs_h10(vmax, pressuredelta):\n",
    "    rhoatvmax = 1.15 #kg m s-1\n",
    "    return vmax**2 * rhoatvmax / pressuredelta * (np.e)"
   ]
  },
  {
   "cell_type": "code",
   "execution_count": 3,
   "id": "362ce276",
   "metadata": {
    "ExecuteTime": {
     "end_time": "2022-09-29T15:17:36.827119Z",
     "start_time": "2022-09-29T15:17:36.783828Z"
    }
   },
   "outputs": [],
   "source": [
    "from src.conversions import millibar_to_pascal, pascal_to_millibar"
   ]
  },
  {
   "cell_type": "code",
   "execution_count": 10,
   "id": "b4ddcfe3",
   "metadata": {
    "ExecuteTime": {
     "end_time": "2022-09-29T13:46:55.249788Z",
     "start_time": "2022-09-29T13:46:55.237053Z"
    }
   },
   "outputs": [
    {
     "data": {
      "text/plain": [
       "0.8140687767520578"
      ]
     },
     "execution_count": 10,
     "metadata": {},
     "output_type": "execute_result"
    }
   ],
   "source": [
    "bs_h10(50, millibar_to_pascal(1010-914))"
   ]
  },
  {
   "cell_type": "code",
   "execution_count": 13,
   "id": "bf444ecb",
   "metadata": {
    "ExecuteTime": {
     "end_time": "2022-09-29T13:47:28.207506Z",
     "start_time": "2022-09-29T13:47:28.193511Z"
    }
   },
   "outputs": [
    {
     "data": {
      "text/plain": [
       "0.7737683422593816"
      ]
     },
     "execution_count": 13,
     "metadata": {},
     "output_type": "execute_result"
    }
   ],
   "source": [
    "bs_h10(50, millibar_to_pascal(1015-914))"
   ]
  },
  {
   "cell_type": "code",
   "execution_count": null,
   "id": "e64dc808",
   "metadata": {},
   "outputs": [],
   "source": [
    "def h80p(radius, pc, deltap, rmax, b):\n",
    "    return pc + deltap*np.exp(-(r/rmax)^ b)\n",
    "\n",
    "def vm(b, rho, deltap):\n",
    "    return  (b / rho / e * deltap) ** 0.5"
   ]
  },
  {
   "cell_type": "code",
   "execution_count": 4,
   "id": "673fa67b",
   "metadata": {
    "ExecuteTime": {
     "end_time": "2022-09-29T15:17:52.995590Z",
     "start_time": "2022-09-29T15:17:52.938134Z"
    }
   },
   "outputs": [],
   "source": [
    "class Holland80:\n",
    "    def __init__(self, pc, rmax, vmax) -> None:\n",
    "        \"\"\" \"\"\"\n",
    "        self.pc = pc  # Pa\n",
    "        self.rho = 1.15  # kg m-3\n",
    "        self.pn = millibar_to_pascal(1010)  # Pa\n",
    "        self.rmax = rmax  # meters\n",
    "        self.vmax = vmax  # meters per second\n",
    "        self.b_coeff = self.vmax**2 / (self.pn - self.pc) * np.e # dimensionless\n",
    "\n",
    "    def pressure(self, radii: np.ndarray) -> np.ndarray:\n",
    "        return self.pn - (self.pn - self.pc) * np.exp(-((radii / self.rmax) ** self.b_coeff))\n",
    "    \n",
    "    def velocity(self, radii: np.ndarray) -> float:\n",
    "        return np.sqrt(\n",
    "            (self.pn - self.pc) * np.exp(-(radii/self.rmax)**self.b_coeff) * (radii / self.rmax) ** self.b_coeff * self.b_coeff\n",
    "        )\n",
    "\n",
    "kath80 = Holland80(millibar_to_pascal(915), 20e3, 50)"
   ]
  },
  {
   "cell_type": "code",
   "execution_count": 49,
   "id": "239c261a",
   "metadata": {
    "ExecuteTime": {
     "end_time": "2022-09-29T14:57:25.976473Z",
     "start_time": "2022-09-29T14:57:25.964527Z"
    }
   },
   "outputs": [],
   "source": [
    "kath80 = Holland80(millibar_to_pascal(915), 20e3, 50)"
   ]
  },
  {
   "cell_type": "code",
   "execution_count": 6,
   "id": "bb47a3fc",
   "metadata": {
    "ExecuteTime": {
     "end_time": "2022-09-29T15:18:02.200821Z",
     "start_time": "2022-09-29T15:18:02.154738Z"
    }
   },
   "outputs": [],
   "source": [
    "radii = np.linspace(0, 1e6, num=int(1e4))"
   ]
  },
  {
   "cell_type": "code",
   "execution_count": 8,
   "id": "0ec519b7",
   "metadata": {
    "ExecuteTime": {
     "end_time": "2022-09-29T15:18:08.420724Z",
     "start_time": "2022-09-29T15:18:08.383448Z"
    }
   },
   "outputs": [],
   "source": [
    "plot_defaults()"
   ]
  },
  {
   "cell_type": "code",
   "execution_count": 9,
   "id": "ae65de4e",
   "metadata": {
    "ExecuteTime": {
     "end_time": "2022-09-29T15:18:09.828687Z",
     "start_time": "2022-09-29T15:18:09.595890Z"
    }
   },
   "outputs": [
    {
     "data": {
      "text/plain": [
       "<matplotlib.legend.Legend at 0x7fb758348880>"
      ]
     },
     "execution_count": 9,
     "metadata": {},
     "output_type": "execute_result"
    },
    {
     "data": {
      "image/png": "[encoded data removed]",
      "text/plain": [
       "<Figure size 826.772x510.973 with 1 Axes>"
      ]
     },
     "metadata": {},
     "output_type": "display_data"
    }
   ],
   "source": [
    "\n",
    "plt.plot(radii, kath80.velocity(radii), label=\"velocity\")\n",
    "plt.xlabel(\"Radius [m]\")\n",
    "plt.ylabel(\"Velocity [m s^{-1}]\")\n",
    "plt.legend()"
   ]
  },
  {
   "cell_type": "code",
   "execution_count": 12,
   "id": "aa64a6e1",
   "metadata": {
    "ExecuteTime": {
     "end_time": "2022-09-29T15:19:02.973051Z",
     "start_time": "2022-09-29T15:19:02.727208Z"
    }
   },
   "outputs": [
    {
     "data": {
      "text/plain": [
       "<matplotlib.legend.Legend at 0x7fb738243340>"
      ]
     },
     "execution_count": 12,
     "metadata": {},
     "output_type": "execute_result"
    },
    {
     "data": {
      "image/png": "[encoded data removed]",
      "text/plain": [
       "<Figure size 826.772x510.973 with 1 Axes>"
      ]
     },
     "metadata": {},
     "output_type": "display_data"
    }
   ],
   "source": [
    "plt.plot(radii, pascal_to_millibar(kath80.pressure(radii)), label=\"Pressure\")\n",
    "plt.xlabel(\"Radius [m]\")\n",
    "plt.ylabel(\"Pressure [mb]\")\n",
    "plt.legend()"
   ]
  },
  {
   "cell_type": "code",
   "execution_count": null,
   "id": "026ef408",
   "metadata": {},
   "outputs": [],
   "source": []
  }
 ],
 "metadata": {
  "hide_input": false,
  "kernelspec": {
   "display_name": "Python 3 (ipykernel)",
   "language": "python",
   "name": "python3"
  },
  "language_info": {
   "codemirror_mode": {
    "name": "ipython",
    "version": 3
   },
   "file_extension": ".py",
   "mimetype": "text/x-python",
   "name": "python",
   "nbconvert_exporter": "python",
   "pygments_lexer": "ipython3",
   "version": "3.8.13"
  },
  "varInspector": {
   "cols": {
    "lenName": 16,
    "lenType": 16,
    "lenVar": 40
   },
   "kernels_config": {
    "python": {
     "delete_cmd_postfix": "",
     "delete_cmd_prefix": "del ",
     "library": "var_list.py",
     "varRefreshCmd": "print(var_dic_list())"
    },
    "r": {
     "delete_cmd_postfix": ") ",
     "delete_cmd_prefix": "rm(",
     "library": "var_list.r",
     "varRefreshCmd": "cat(var_dic_list()) "
    }
   },
   "types_to_exclude": [
    "module",
    "function",
    "builtin_function_or_method",
    "instance",
    "_Feature"
   ],
   "window_display": false
  }
 },
 "nbformat": 4,
 "nbformat_minor": 5
}
