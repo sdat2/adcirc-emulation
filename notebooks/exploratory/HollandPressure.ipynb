{
 "cells": [
  {
   "cell_type": "markdown",
   "id": "52fb2363",
   "metadata": {},
   "source": [
    "# Holland Pressure"
   ]
  },
  {
   "cell_type": "code",
   "execution_count": 1,
   "id": "3b91f20b",
   "metadata": {
    "ExecuteTime": {
     "end_time": "2022-09-27T16:07:25.506288Z",
     "start_time": "2022-09-27T16:07:25.471462Z"
    }
   },
   "outputs": [],
   "source": [
    "# Convenient jupyter setup\n",
    "%load_ext autoreload\n",
    "%autoreload 2\n",
    "%config IPCompleter.greedy=True"
   ]
  },
  {
   "cell_type": "code",
   "execution_count": 2,
   "id": "04d044cb",
   "metadata": {
    "ExecuteTime": {
     "end_time": "2022-09-27T16:07:43.984654Z",
     "start_time": "2022-09-27T16:07:42.555904Z"
    }
   },
   "outputs": [
    {
     "name": "stderr",
     "output_type": "stream",
     "text": [
      "/Users/simon/new-orleans/env/lib/python3.8/site-packages/xarray/backends/cfgrib_.py:29: UserWarning: Failed to load cfgrib - most likely there is a problem accessing the ecCodes library. Try `import cfgrib` to get the full error message\n",
      "  warnings.warn(\n"
     ]
    }
   ],
   "source": [
    "import os\n",
    "import matplotlib.pyplot as plt\n",
    "from sithom.plot import plot_defaults\n",
    "from src.constants import KAT_EX_PATH, NO_BBOX\n",
    "\n",
    "plot_defaults()"
   ]
  },
  {
   "cell_type": "code",
   "execution_count": 3,
   "id": "7450b1dd",
   "metadata": {
    "ExecuteTime": {
     "end_time": "2022-09-27T16:09:16.183864Z",
     "start_time": "2022-09-27T16:09:16.136335Z"
    }
   },
   "outputs": [],
   "source": [
    "def ah77(pc):\n",
    "    return 3.4* (1010 - pc)**0.644"
   ]
  },
  {
   "cell_type": "code",
   "execution_count": 4,
   "id": "3ee4646f",
   "metadata": {
    "ExecuteTime": {
     "end_time": "2022-09-27T16:10:24.300533Z",
     "start_time": "2022-09-27T16:10:24.256717Z"
    }
   },
   "outputs": [],
   "source": [
    "def dvorak(pc):\n",
    "    return 3.92* (1015 - pc)**0.644"
   ]
  },
  {
   "cell_type": "code",
   "execution_count": 5,
   "id": "1fc8da5e",
   "metadata": {
    "ExecuteTime": {
     "end_time": "2022-09-27T16:11:31.776650Z",
     "start_time": "2022-09-27T16:11:31.745947Z"
    }
   },
   "outputs": [],
   "source": [
    "def knaff_and_zehr(pc):\n",
    "    return 2.3*(1010- pc) **0.76"
   ]
  },
  {
   "cell_type": "code",
   "execution_count": 6,
   "id": "72ba4463",
   "metadata": {
    "ExecuteTime": {
     "end_time": "2022-09-27T16:16:50.763079Z",
     "start_time": "2022-09-27T16:16:50.724942Z"
    }
   },
   "outputs": [],
   "source": [
    "import numpy as np\n",
    "from scipy.constants import R\n",
    "\n",
    "def bs(vmax, patvmax, pressure_delta, TatVmax):\n",
    "    return vmax **2 * patvmax * np.e / pressure_delta / R / TatVmax"
   ]
  },
  {
   "cell_type": "code",
   "execution_count": null,
   "id": "8980c49c",
   "metadata": {},
   "outputs": [],
   "source": []
  }
 ],
 "metadata": {
  "hide_input": false,
  "kernelspec": {
   "display_name": "Python 3 (ipykernel)",
   "language": "python",
   "name": "python3"
  },
  "language_info": {
   "codemirror_mode": {
    "name": "ipython",
    "version": 3
   },
   "file_extension": ".py",
   "mimetype": "text/x-python",
   "name": "python",
   "nbconvert_exporter": "python",
   "pygments_lexer": "ipython3",
   "version": "3.8.13"
  },
  "varInspector": {
   "cols": {
    "lenName": 16,
    "lenType": 16,
    "lenVar": 40
   },
   "kernels_config": {
    "python": {
     "delete_cmd_postfix": "",
     "delete_cmd_prefix": "del ",
     "library": "var_list.py",
     "varRefreshCmd": "print(var_dic_list())"
    },
    "r": {
     "delete_cmd_postfix": ") ",
     "delete_cmd_prefix": "rm(",
     "library": "var_list.r",
     "varRefreshCmd": "cat(var_dic_list()) "
    }
   },
   "types_to_exclude": [
    "module",
    "function",
    "builtin_function_or_method",
    "instance",
    "_Feature"
   ],
   "window_display": false
  }
 },
 "nbformat": 4,
 "nbformat_minor": 5
}
