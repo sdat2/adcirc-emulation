{
 "cells": [
  {
   "cell_type": "markdown",
   "id": "8a551d86",
   "metadata": {},
   "source": [
    "# Hurricane Emulator"
   ]
  },
  {
   "cell_type": "code",
   "execution_count": 1,
   "id": "106347ad",
   "metadata": {
    "ExecuteTime": {
     "end_time": "2022-10-11T15:58:54.449459Z",
     "start_time": "2022-10-11T15:58:54.397852Z"
    }
   },
   "outputs": [],
   "source": [
    "# Convenient jupyter setup\n",
    "%load_ext autoreload\n",
    "%autoreload 2\n",
    "%config IPCompleter.greedy=True"
   ]
  },
  {
   "cell_type": "code",
   "execution_count": null,
   "id": "c9ec3748",
   "metadata": {},
   "outputs": [],
   "source": [
    "import os\n",
    "import numpy as np\n",
    "import matplotlib.pyplot as plt\n",
    "from sithom.plot import plot_defaults, label_subplots\n",
    "from sithom.time import timeit\n",
    "from src.conversions import si_ify, knots_to_ms\n",
    "from src.constants import NEW_ORLEANS, DATA_PATH\n",
    "from src.models.generation import ImpactSymmetricTC, Holland08"
   ]
  },
  {
   "cell_type": "code",
   "execution_count": null,
   "id": "0d82657a",
   "metadata": {},
   "outputs": [],
   "source": [
    "print(prefix, rmax)\n",
    "rmax_min = 1e3\n",
    "rmin_min = -1e4\n",
    "\n",
    "lon_diff = 0.6\n",
    "point = Point(NEW_ORLEANS.lon + lon_diff, NEW_ORLEANS.lat)\n",
    "folder = os.path.join(DATA_PATH, \"kat_emulation\")\n",
    "\n",
    "if not os.path.exists(folder):\n",
    "    os.mkdir(folder)\n",
    "    ImpactSymmetricTC(\n",
    "        point=point,\n",
    "        output_direc=os.path.join(folder, prefix + \"{:.3f}\".format(rmax) + \"_kat_rmax\"),\n",
    "        symetric_model=Holland08(rmax=rmax),\n",
    "    ).run_impact()"
   ]
  }
 ],
 "metadata": {
  "hide_input": false,
  "kernelspec": {
   "display_name": "Python 3 (ipykernel)",
   "language": "python",
   "name": "python3"
  },
  "language_info": {
   "codemirror_mode": {
    "name": "ipython",
    "version": 3
   },
   "file_extension": ".py",
   "mimetype": "text/x-python",
   "name": "python",
   "nbconvert_exporter": "python",
   "pygments_lexer": "ipython3",
   "version": "3.8.13"
  },
  "varInspector": {
   "cols": {
    "lenName": 16,
    "lenType": 16,
    "lenVar": 40
   },
   "kernels_config": {
    "python": {
     "delete_cmd_postfix": "",
     "delete_cmd_prefix": "del ",
     "library": "var_list.py",
     "varRefreshCmd": "print(var_dic_list())"
    },
    "r": {
     "delete_cmd_postfix": ") ",
     "delete_cmd_prefix": "rm(",
     "library": "var_list.r",
     "varRefreshCmd": "cat(var_dic_list()) "
    }
   },
   "types_to_exclude": [
    "module",
    "function",
    "builtin_function_or_method",
    "instance",
    "_Feature"
   ],
   "window_display": false
  }
 },
 "nbformat": 4,
 "nbformat_minor": 5
}
