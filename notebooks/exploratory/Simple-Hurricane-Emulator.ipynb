{
 "cells": [
  {
   "cell_type": "markdown",
   "id": "517a1608",
   "metadata": {},
   "source": [
    "# Hurricane Emulator"
   ]
  },
  {
   "cell_type": "code",
   "execution_count": 1,
   "id": "35841927",
   "metadata": {
    "ExecuteTime": {
     "end_time": "2022-10-11T15:58:54.449459Z",
     "start_time": "2022-10-11T15:58:54.397852Z"
    }
   },
   "outputs": [],
   "source": [
    "# Convenient jupyter setup\n",
    "%load_ext autoreload\n",
    "%autoreload 2\n",
    "%config IPCompleter.greedy=True"
   ]
  },
  {
   "cell_type": "code",
   "execution_count": 11,
   "id": "b6fbe190",
   "metadata": {
    "ExecuteTime": {
     "end_time": "2022-10-11T19:46:23.190062Z",
     "start_time": "2022-10-11T19:46:23.071756Z"
    }
   },
   "outputs": [],
   "source": [
    "from typing import Tuple, Callable\n",
    "import os\n",
    "import numpy as np\n",
    "import matplotlib.pyplot as plt\n",
    "from adcircpy.outputs import Maxele\n",
    "from sithom.plot import plot_defaults, label_subplots\n",
    "from sithom.time import timeit\n",
    "from sithom.place import Point\n",
    "from src.conversions import si_ify, knots_to_ms\n",
    "from src.constants import NEW_ORLEANS, DATA_PATH, NO_BBOX\n",
    "from src.models.generation import ImpactSymmetricTC, Holland08"
   ]
  },
  {
   "cell_type": "code",
   "execution_count": 15,
   "id": "bc595edc",
   "metadata": {
    "ExecuteTime": {
     "end_time": "2022-10-11T20:13:35.300988Z",
     "start_time": "2022-10-11T20:07:33.496691Z"
    }
   },
   "outputs": [
    {
     "name": "stdout",
     "output_type": "stream",
     "text": [
      "'prepare_run'  12.23466 s \n",
      "\n",
      "'prepare_run'  42.90725 s \n",
      "\n",
      "'prepare_run'  11.74334 s \n",
      "\n",
      "'create_inputs'  01 min 06 s \n",
      "\n",
      "'run_adcirc'  04 min 54 s \n",
      "\n",
      "'func'  06 min 01 s \n",
      "\n",
      "'function_sweep'  06 min 01 s \n",
      "\n",
      "(array([1000.]), array([0.56463788]))\n"
     ]
    }
   ],
   "source": [
    "@np.vectorize\n",
    "def indices_in_bbox(lon, lat):\n",
    "    return (\n",
    "        lon > NO_BBOX.lon[0]\n",
    "        and lon < NO_BBOX.lon[1]\n",
    "        and lat > NO_BBOX.lat[0]\n",
    "        and lat < NO_BBOX.lat[1]\n",
    "    )\n",
    "\n",
    "\n",
    "@timeit\n",
    "def func(rmax: float, folder: str, point: Point) -> float:\n",
    "    output_direc = os.path.join(folder, \"a\" + \"{:.3f}\".format(rmax) + \"_kat_rmax\")\n",
    "    ImpactSymmetricTC(\n",
    "        point=point,\n",
    "        output_direc=output_direc,\n",
    "        symetric_model=Holland08(rmax=rmax),\n",
    "    ).run_impact()\n",
    "    path = os.path.join(output_direc, \"maxele.63.nc\")\n",
    "    maxele = Maxele(path, crs=\"EPSG:4326\")\n",
    "    index_set = 27\n",
    "    indices = indices_in_bbox(maxele.x, maxele.y)\n",
    "    return maxele.values[indices][index_set]\n",
    "\n",
    "\n",
    "@timeit\n",
    "def function_sweep() -> Tuple[np.ndarray, np.ndarray]:\n",
    "    rmax_min = 1e3\n",
    "    rmax_max = 1e5\n",
    "    rmaxes = np.linspace(rmax_min, rmax_max, num=1)\n",
    "\n",
    "    lon_diff = 0.6\n",
    "    point = Point(NEW_ORLEANS.lon + lon_diff, NEW_ORLEANS.lat)\n",
    "    folder = os.path.join(DATA_PATH, \"kat_emulation3\")\n",
    "\n",
    "    if not os.path.exists(folder):\n",
    "        os.mkdir(folder)\n",
    "\n",
    "    height_list = []\n",
    "\n",
    "    for i in range(len(rmaxes)):\n",
    "        height_list.append(func(rmaxes[i], folder, point))\n",
    "\n",
    "    return rmaxes, np.array(height_list)\n",
    "\n",
    "\n",
    "print(function_sweep())"
   ]
  },
  {
   "cell_type": "code",
   "execution_count": 17,
   "id": "2f474542",
   "metadata": {
    "ExecuteTime": {
     "end_time": "2022-10-11T20:14:04.994532Z",
     "start_time": "2022-10-11T20:14:04.921694Z"
    }
   },
   "outputs": [],
   "source": [
    "from typing import Callable\n",
    "\n",
    "\n",
    "@timeit\n",
    "def func_for_emukit() -> Callable:\n",
    "    lon_diff = 0.6\n",
    "    point = Point(NEW_ORLEANS.lon + lon_diff, NEW_ORLEANS.lat)\n",
    "    folder = os.path.join(DATA_PATH, \"kat_emulation\")\n",
    "\n",
    "    if not os.path.exists(folder):\n",
    "        os.mkdir(folder)\n",
    "        \n",
    "    def _func(rmax):\n",
    "        func(rmax, folder, point)\n",
    "    \n",
    "    return _func"
   ]
  },
  {
   "cell_type": "code",
   "execution_count": 19,
   "id": "7954d3ee",
   "metadata": {
    "ExecuteTime": {
     "end_time": "2022-10-11T20:14:42.819337Z",
     "start_time": "2022-10-11T20:14:42.783853Z"
    }
   },
   "outputs": [
    {
     "name": "stdout",
     "output_type": "stream",
     "text": [
      "'func_for_emukit'  0.00002 s \n",
      "\n"
     ]
    }
   ],
   "source": [
    "f = func_for_emukit() "
   ]
  },
  {
   "cell_type": "code",
   "execution_count": null,
   "id": "8a62e6a9",
   "metadata": {
    "ExecuteTime": {
     "start_time": "2022-10-11T20:14:52.788Z"
    }
   },
   "outputs": [
    {
     "name": "stdout",
     "output_type": "stream",
     "text": [
      "'prepare_run'  11.76001 s \n",
      "\n"
     ]
    }
   ],
   "source": [
    "f(1e4)"
   ]
  },
  {
   "cell_type": "code",
   "execution_count": null,
   "id": "5ce2d496",
   "metadata": {},
   "outputs": [],
   "source": []
  }
 ],
 "metadata": {
  "hide_input": false,
  "kernelspec": {
   "display_name": "Python 3 (ipykernel)",
   "language": "python",
   "name": "python3"
  },
  "language_info": {
   "codemirror_mode": {
    "name": "ipython",
    "version": 3
   },
   "file_extension": ".py",
   "mimetype": "text/x-python",
   "name": "python",
   "nbconvert_exporter": "python",
   "pygments_lexer": "ipython3",
   "version": "3.8.13"
  },
  "varInspector": {
   "cols": {
    "lenName": 16,
    "lenType": 16,
    "lenVar": 40
   },
   "kernels_config": {
    "python": {
     "delete_cmd_postfix": "",
     "delete_cmd_prefix": "del ",
     "library": "var_list.py",
     "varRefreshCmd": "print(var_dic_list())"
    },
    "r": {
     "delete_cmd_postfix": ") ",
     "delete_cmd_prefix": "rm(",
     "library": "var_list.r",
     "varRefreshCmd": "cat(var_dic_list()) "
    }
   },
   "types_to_exclude": [
    "module",
    "function",
    "builtin_function_or_method",
    "instance",
    "_Feature"
   ],
   "window_display": false
  }
 },
 "nbformat": 4,
 "nbformat_minor": 5
}
