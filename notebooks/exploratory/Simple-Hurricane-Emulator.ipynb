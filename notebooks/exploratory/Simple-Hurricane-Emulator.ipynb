{
 "cells": [
  {
   "cell_type": "markdown",
   "id": "ef41c42c",
   "metadata": {},
   "source": [
    "# Hurricane Emulator"
   ]
  },
  {
   "cell_type": "code",
   "execution_count": 1,
   "id": "37efad71",
   "metadata": {
    "ExecuteTime": {
     "end_time": "2022-10-11T15:58:54.449459Z",
     "start_time": "2022-10-11T15:58:54.397852Z"
    }
   },
   "outputs": [],
   "source": [
    "# Convenient jupyter setup\n",
    "%load_ext autoreload\n",
    "%autoreload 2\n",
    "%config IPCompleter.greedy=True"
   ]
  },
  {
   "cell_type": "code",
   "execution_count": 11,
   "id": "cea98a53",
   "metadata": {
    "ExecuteTime": {
     "end_time": "2022-10-11T19:46:23.190062Z",
     "start_time": "2022-10-11T19:46:23.071756Z"
    }
   },
   "outputs": [],
   "source": [
    "from typing import Tuple, Callable\n",
    "import os\n",
    "import numpy as np\n",
    "import matplotlib.pyplot as plt\n",
    "from adcircpy.outputs import Maxele\n",
    "from sithom.plot import plot_defaults, label_subplots\n",
    "from sithom.time import timeit\n",
    "from sithom.place import Point\n",
    "from src.conversions import si_ify, knots_to_ms\n",
    "from src.constants import NEW_ORLEANS, DATA_PATH, NO_BBOX\n",
    "from src.models.generation import ImpactSymmetricTC, Holland08"
   ]
  },
  {
   "cell_type": "code",
   "execution_count": 15,
   "id": "eed8bb51",
   "metadata": {
    "ExecuteTime": {
     "end_time": "2022-10-11T20:13:35.300988Z",
     "start_time": "2022-10-11T20:07:33.496691Z"
    }
   },
   "outputs": [
    {
     "name": "stdout",
     "output_type": "stream",
     "text": [
      "'prepare_run'  12.23466 s \n",
      "\n",
      "'prepare_run'  42.90725 s \n",
      "\n",
      "'prepare_run'  11.74334 s \n",
      "\n",
      "'create_inputs'  01 min 06 s \n",
      "\n",
      "'run_adcirc'  04 min 54 s \n",
      "\n",
      "'func'  06 min 01 s \n",
      "\n",
      "'function_sweep'  06 min 01 s \n",
      "\n",
      "(array([1000.]), array([0.56463788]))\n"
     ]
    }
   ],
   "source": [
    "@np.vectorize\n",
    "def indices_in_bbox(lon, lat):\n",
    "    return (\n",
    "        lon > NO_BBOX.lon[0]\n",
    "        and lon < NO_BBOX.lon[1]\n",
    "        and lat > NO_BBOX.lat[0]\n",
    "        and lat < NO_BBOX.lat[1]\n",
    "    )\n",
    "\n",
    "\n",
    "@timeit\n",
    "def func(rmax: float, folder: str, point: Point) -> float:\n",
    "    output_direc = os.path.join(folder, \"a\" + \"{:.3f}\".format(rmax) + \"_kat_rmax\")\n",
    "    ImpactSymmetricTC(\n",
    "        point=point,\n",
    "        output_direc=output_direc,\n",
    "        symetric_model=Holland08(rmax=rmax),\n",
    "    ).run_impact()\n",
    "    path = os.path.join(output_direc, \"maxele.63.nc\")\n",
    "    maxele = Maxele(path, crs=\"EPSG:4326\")\n",
    "    index_set = 27\n",
    "    indices = indices_in_bbox(maxele.x, maxele.y)\n",
    "    return maxele.values[indices][index_set]\n",
    "\n",
    "\n",
    "@timeit\n",
    "def function_sweep() -> Tuple[np.ndarray, np.ndarray]:\n",
    "    rmax_min = 1e3\n",
    "    rmax_max = 1e5\n",
    "    rmaxes = np.linspace(rmax_min, rmax_max, num=1)\n",
    "\n",
    "    lon_diff = 0.6\n",
    "    point = Point(NEW_ORLEANS.lon + lon_diff, NEW_ORLEANS.lat)\n",
    "    folder = os.path.join(DATA_PATH, \"kat_emulation3\")\n",
    "\n",
    "    if not os.path.exists(folder):\n",
    "        os.mkdir(folder)\n",
    "\n",
    "    height_list = []\n",
    "\n",
    "    for i in range(len(rmaxes)):\n",
    "        height_list.append(func(rmaxes[i], folder, point))\n",
    "\n",
    "    return rmaxes, np.array(height_list)\n",
    "\n",
    "\n",
    "print(function_sweep())"
   ]
  },
  {
   "cell_type": "code",
   "execution_count": 40,
   "id": "9e5273d2",
   "metadata": {
    "ExecuteTime": {
     "end_time": "2022-10-11T21:02:27.999849Z",
     "start_time": "2022-10-11T21:02:27.957608Z"
    }
   },
   "outputs": [],
   "source": [
    "from typing import Callable\n",
    "\n",
    "\n",
    "@timeit\n",
    "def func_for_emukit() -> Callable:\n",
    "    lon_diff = 0.6\n",
    "    point = Point(NEW_ORLEANS.lon + lon_diff, NEW_ORLEANS.lat)\n",
    "    folder = os.path.join(DATA_PATH, \"kat_emulation\")\n",
    "\n",
    "    if not os.path.exists(folder):\n",
    "        os.mkdir(folder)\n",
    "        \n",
    "    def _func(rmax):\n",
    "        return func(float(rmax), folder, point)\n",
    "    \n",
    "    return _func"
   ]
  },
  {
   "cell_type": "code",
   "execution_count": 41,
   "id": "81dc2e80",
   "metadata": {
    "ExecuteTime": {
     "end_time": "2022-10-11T21:02:28.408600Z",
     "start_time": "2022-10-11T21:02:28.364180Z"
    }
   },
   "outputs": [
    {
     "name": "stdout",
     "output_type": "stream",
     "text": [
      "'func_for_emukit'  0.00003 s \n",
      "\n"
     ]
    }
   ],
   "source": [
    "f = func_for_emukit() "
   ]
  },
  {
   "cell_type": "code",
   "execution_count": 24,
   "id": "9bcb203d",
   "metadata": {
    "ExecuteTime": {
     "end_time": "2022-10-11T20:33:41.521152Z",
     "start_time": "2022-10-11T20:27:37.633447Z"
    }
   },
   "outputs": [
    {
     "name": "stdout",
     "output_type": "stream",
     "text": [
      "'prepare_run'  11.91292 s \n",
      "\n",
      "'prepare_run'  44.73838 s \n",
      "\n",
      "'prepare_run'  12.21178 s \n",
      "\n",
      "'create_inputs'  01 min 08 s \n",
      "\n",
      "'run_adcirc'  04 min 54 s \n",
      "\n",
      "'func'  06 min 03 s \n",
      "\n"
     ]
    },
    {
     "data": {
      "text/plain": [
       "9.24378669857237"
      ]
     },
     "execution_count": 24,
     "metadata": {},
     "output_type": "execute_result"
    }
   ],
   "source": [
    "f(1e5)"
   ]
  },
  {
   "cell_type": "code",
   "execution_count": 25,
   "id": "667e8461",
   "metadata": {
    "ExecuteTime": {
     "end_time": "2022-10-11T20:37:01.269879Z",
     "start_time": "2022-10-11T20:37:00.782687Z"
    }
   },
   "outputs": [],
   "source": [
    "import os\n",
    "import numpy as np\n",
    "import pandas as pd\n",
    "import matplotlib.pyplot as plt\n",
    "import imageio as io\n",
    "from frozendict import frozendict\n",
    "import GPy\n",
    "from GPy.models import GPRegression\n",
    "from emukit.experimental_design.experimental_design_loop import ExperimentalDesignLoop\n",
    "from emukit.model_wrappers import SimpleGaussianProcessModel\n",
    "from emukit.core import ParameterSpace, ContinuousParameter\n",
    "from emukit.model_wrappers import GPyModelWrapper\n",
    "from emukit.experimental_design.acquisitions import ModelVariance\n",
    "from sithom.plot import plot_defaults, label_subplots\n",
    "from sithom.misc import in_notebook\n",
    "from xarray.core.utils import FrozenDict\n",
    "from src.constants import DATA_PATH, FIGURE_PATH\n",
    "from src.models.generation import ImpactSymmetricTC, Holland08\n",
    "from emukit.core.initial_designs.latin_design import LatinDesign"
   ]
  },
  {
   "cell_type": "code",
   "execution_count": 38,
   "id": "67ee2f92",
   "metadata": {
    "ExecuteTime": {
     "end_time": "2022-10-11T21:02:02.128145Z",
     "start_time": "2022-10-11T21:01:59.611145Z"
    }
   },
   "outputs": [
    {
     "data": {
      "image/png": "[encoded data removed]",
      "text/plain": [
       "<Figure size 826.772x510.973 with 1 Axes>"
      ]
     },
     "metadata": {},
     "output_type": "display_data"
    }
   ],
   "source": [
    "plot_defaults()\n",
    "\n",
    "def example_plot() -> None:\n",
    "    \"\"\"\n",
    "    Example plot.\n",
    "    \"\"\"\n",
    "\n",
    "    plot_defaults()\n",
    "    x_min = -30.0\n",
    "    x_max = 30.0\n",
    "\n",
    "    # x_data = np.random.uniform(x_min, x_max, (10, 1))\n",
    "    p = ContinuousParameter(\"x\", x_min, x_max)\n",
    "    space = ParameterSpace([p])\n",
    "\n",
    "    design = LatinDesign(space)\n",
    "    num_data_points = 10\n",
    "    x_data = design.get_samples(num_data_points)\n",
    "\n",
    "    y_data = np.sin(x_data) + np.random.randn(10, 1) * 0.05\n",
    "    emukit_model = SimpleGaussianProcessModel(x_data, y_data)\n",
    "\n",
    "    loop = ExperimentalDesignLoop(space, emukit_model)\n",
    "    loop.run_loop(np.sin, 30)\n",
    "    plot_min = -40.0\n",
    "    plot_max = 40.0\n",
    "    real_x = np.arange(plot_min, plot_max, 0.2)\n",
    "    real_y = np.sin(real_x)\n",
    "\n",
    "    loop = ExperimentalDesignLoop(space, emukit_model)\n",
    "    loop.run_loop(np.sin, 30)\n",
    "    plot_min = -40.0\n",
    "    plot_max = 40.0\n",
    "    real_x = np.arange(plot_min, plot_max, 0.2)\n",
    "    real_y = np.sin(real_x)\n",
    "    predicted_y = []\n",
    "    predicted_std = []\n",
    "    for x in real_x:\n",
    "        y, var = emukit_model.predict(np.array([[x]]))\n",
    "        std = np.sqrt(var)\n",
    "        predicted_y.append(y)\n",
    "        predicted_std.append(std)\n",
    "\n",
    "    predicted_y = np.array(predicted_y).flatten()\n",
    "    predicted_std = np.array(predicted_std).flatten()\n",
    "    plt.plot(real_x, predicted_y, label=\"estimated function\", color=\"blue\")\n",
    "    plt.fill_between(\n",
    "        real_x,\n",
    "        predicted_y - predicted_std,\n",
    "        predicted_y + predicted_std,\n",
    "        color=\"blue\",\n",
    "        alpha=0.3,\n",
    "    )\n",
    "    plt.scatter(x_data, y_data, c=\"red\")\n",
    "    plt.plot(real_x, real_y, label=\"true function\", color=\"red\")\n",
    "    plt.legend()\n",
    "\n",
    "    if in_notebook():\n",
    "        plt.show()\n",
    "    else:\n",
    "        plt.clf()\n",
    "\n",
    "example_plot()"
   ]
  },
  {
   "cell_type": "code",
   "execution_count": null,
   "id": "a7d4d730",
   "metadata": {
    "ExecuteTime": {
     "start_time": "2022-10-11T21:02:34.615Z"
    }
   },
   "outputs": [
    {
     "name": "stdout",
     "output_type": "stream",
     "text": [
      "'prepare_run'  9.50218 s \n",
      "\n",
      "'prepare_run'  33.54177 s \n",
      "\n",
      "'prepare_run'  9.29235 s \n",
      "\n",
      "'create_inputs'  52.37884 s \n",
      "\n",
      "'run_adcirc'  03 min 53 s \n",
      "\n",
      "'func'  04 min 45 s \n",
      "\n",
      "'prepare_run'  9.49164 s \n",
      "\n",
      "'prepare_run'  33.55252 s \n",
      "\n",
      "'prepare_run'  9.08641 s \n",
      "\n",
      "'create_inputs'  52.17609 s \n",
      "\n",
      "'run_adcirc'  03 min 51 s \n",
      "\n",
      "'func'  04 min 43 s \n",
      "\n",
      "'prepare_run'  9.61535 s \n",
      "\n",
      "'prepare_run'  35.27385 s \n",
      "\n",
      "'prepare_run'  9.23396 s \n",
      "\n",
      "'create_inputs'  54.16763 s \n",
      "\n",
      "'run_adcirc'  03 min 50 s \n",
      "\n",
      "'func'  04 min 44 s \n",
      "\n",
      "'prepare_run'  9.56592 s \n",
      "\n",
      "'prepare_run'  34.21038 s \n",
      "\n",
      "'prepare_run'  9.39325 s \n",
      "\n",
      "'create_inputs'  53.21307 s \n",
      "\n"
     ]
    }
   ],
   "source": [
    "plot_defaults()\n",
    "\n",
    "\n",
    "@timeit\n",
    "def example_plot() -> None:\n",
    "    \"\"\"\n",
    "    Example plot.\n",
    "    \"\"\"\n",
    "\n",
    "    plot_defaults()\n",
    "    x_min = 10e3\n",
    "    x_max = 10e5\n",
    "\n",
    "    # x_data = np.random.uniform(x_min, x_max, (10, 1))\n",
    "    p = ContinuousParameter(\"x\", x_min, x_max)\n",
    "    space = ParameterSpace([p])\n",
    "\n",
    "    design = LatinDesign(space)\n",
    "    num_data_points = 3\n",
    "    x_data = design.get_samples(num_data_points)\n",
    "    y_data = np.zeros(x_data.shape) \n",
    "    for i in range(len(x_data)):\n",
    "        y_data[i] = f(x_data[i])\n",
    "    \n",
    "    emukit_model = SimpleGaussianProcessModel(x_data, y_data)\n",
    "\n",
    "    loop = ExperimentalDesignLoop(space, emukit_model)\n",
    "    loop.run_loop(f, 1)\n",
    "\n",
    "    predicted_y = []\n",
    "    predicted_std = []\n",
    "\n",
    "    for x in real_x:\n",
    "        y, var = emukit_model.predict(np.array([[x]]))\n",
    "        std = np.sqrt(var)\n",
    "        predicted_y.append(y)\n",
    "        predicted_std.append(std)\n",
    "        \n",
    "        \n",
    "    real_x = np.arange(x_min, x_max, 1)\n",
    "    predicted_y = np.array(predicted_y).flatten()\n",
    "    predicted_std = np.array(predicted_std).flatten()\n",
    "    plt.plot(real_x, predicted_y, label=\"estimated function\", color=\"blue\")\n",
    "    plt.fill_between(\n",
    "        real_x,\n",
    "        predicted_y - predicted_std,\n",
    "        predicted_y + predicted_std,\n",
    "        color=\"blue\",\n",
    "        alpha=0.3,\n",
    "    )\n",
    "    plt.scatter(x_data, y_data, c=\"red\")\n",
    "    plt.plot(real_x, real_y, label=\"true function\", color=\"red\")\n",
    "    plt.legend()\n",
    "    print(x_data, y_data)\n",
    "\n",
    "    if in_notebook():\n",
    "        plt.show()\n",
    "    else:\n",
    "        plt.clf()\n",
    "\n",
    "example_plot()"
   ]
  },
  {
   "cell_type": "code",
   "execution_count": 29,
   "id": "bac97adf",
   "metadata": {
    "ExecuteTime": {
     "end_time": "2022-10-11T20:46:55.384290Z",
     "start_time": "2022-10-11T20:46:55.307939Z"
    }
   },
   "outputs": [],
   "source": [
    "y_data = np.zeros((2, 3))"
   ]
  },
  {
   "cell_type": "code",
   "execution_count": 32,
   "id": "bb6e4bfb",
   "metadata": {
    "ExecuteTime": {
     "end_time": "2022-10-11T20:48:32.217014Z",
     "start_time": "2022-10-11T20:48:32.142580Z"
    }
   },
   "outputs": [
    {
     "data": {
      "text/plain": [
       "(2, 3)"
      ]
     },
     "execution_count": 32,
     "metadata": {},
     "output_type": "execute_result"
    }
   ],
   "source": [
    "y_data.shape"
   ]
  },
  {
   "cell_type": "code",
   "execution_count": null,
   "id": "0f7d937c",
   "metadata": {},
   "outputs": [],
   "source": []
  }
 ],
 "metadata": {
  "hide_input": false,
  "kernelspec": {
   "display_name": "Python 3 (ipykernel)",
   "language": "python",
   "name": "python3"
  },
  "language_info": {
   "codemirror_mode": {
    "name": "ipython",
    "version": 3
   },
   "file_extension": ".py",
   "mimetype": "text/x-python",
   "name": "python",
   "nbconvert_exporter": "python",
   "pygments_lexer": "ipython3",
   "version": "3.8.13"
  },
  "varInspector": {
   "cols": {
    "lenName": 16,
    "lenType": 16,
    "lenVar": 40
   },
   "kernels_config": {
    "python": {
     "delete_cmd_postfix": "",
     "delete_cmd_prefix": "del ",
     "library": "var_list.py",
     "varRefreshCmd": "print(var_dic_list())"
    },
    "r": {
     "delete_cmd_postfix": ") ",
     "delete_cmd_prefix": "rm(",
     "library": "var_list.r",
     "varRefreshCmd": "cat(var_dic_list()) "
    }
   },
   "types_to_exclude": [
    "module",
    "function",
    "builtin_function_or_method",
    "instance",
    "_Feature"
   ],
   "window_display": false
  }
 },
 "nbformat": 4,
 "nbformat_minor": 5
}
