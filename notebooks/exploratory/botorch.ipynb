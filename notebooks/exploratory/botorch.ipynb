{
 "cells": [
  {
   "attachments": {},
   "cell_type": "markdown",
   "id": "ea0b278c",
   "metadata": {},
   "source": [
    "# BoTorch\n",
    "\n",
    "```bibtex\n",
    "@inproceedings{balandat2020botorch,\n",
    "  title = {{BoTorch: A Framework for Efficient Monte-Carlo Bayesian Optimization}},\n",
    "  author = {Balandat, Maximilian and Karrer, Brian and Jiang, Daniel R. and Daulton, Samuel and Letham, Benjamin and Wilson, Andrew Gordon and Bakshy, Eytan},\n",
    "  booktitle = {Advances in Neural Information Processing Systems 33},\n",
    "  year = 2020,\n",
    "  url = {http://arxiv.org/abs/1910.06403}\n",
    "}\n",
    "```"
   ]
  },
  {
   "cell_type": "code",
   "execution_count": null,
   "id": "0f678af7",
   "metadata": {
    "ExecuteTime": {
     "end_time": "2023-02-15T13:51:51.472410Z",
     "start_time": "2023-02-15T13:51:51.423058Z"
    }
   },
   "outputs": [],
   "source": [
    "# Convenient jupyter setup\n",
    "%load_ext autoreload\n",
    "%autoreload 2\n",
    "%config IPCompleter.greedy=True"
   ]
  },
  {
   "cell_type": "code",
   "execution_count": 1,
   "id": "d30415a1",
   "metadata": {
    "ExecuteTime": {
     "end_time": "2023-02-15T13:52:23.870922Z",
     "start_time": "2023-02-15T13:52:23.801154Z"
    }
   },
   "outputs": [
    {
     "name": "stderr",
     "output_type": "stream",
     "text": [
      "/Users/simon/new-orleans/env/lib/python3.8/site-packages/xarray/backends/cfgrib_.py:29: UserWarning: Failed to load cfgrib - most likely there is a problem accessing the ecCodes library. Try `import cfgrib` to get the full error message\n",
      "  warnings.warn(\n"
     ]
    }
   ],
   "source": [
    "from sithom.plot import plot_defaults, label_subplots\n",
    "\n",
    "plot_defaults()"
   ]
  },
  {
   "cell_type": "code",
   "execution_count": 1,
   "id": "9e939654",
   "metadata": {},
   "outputs": [
    {
     "name": "stdout",
     "output_type": "stream",
     "text": [
      "Collecting package metadata (current_repodata.json): done\n",
      "Solving environment: | \n",
      "The environment is inconsistent, please check the package plan carefully\n",
      "The following packages are causing the inconsistency:\n",
      "\n",
      "  - pytorch/osx-64::torchaudio==0.4.0=py38\n",
      "  - pytorch/osx-64::torchvision==0.5.0=py38_cpu\n",
      "done\n",
      "\n",
      "\n",
      "==> WARNING: A newer version of conda exists. <==\n",
      "  current version: 22.9.0\n",
      "  latest version: 23.5.0\n",
      "\n",
      "Please update conda by running\n",
      "\n",
      "    $ conda update -n base -c defaults conda\n",
      "\n",
      "\n",
      "\n",
      "## Package Plan ##\n",
      "\n",
      "  environment location: /Users/simon/new-orleans/env\n",
      "\n",
      "  added / updated specs:\n",
      "    - botorch\n",
      "\n",
      "\n",
      "The following packages will be downloaded:\n",
      "\n",
      "    package                    |            build\n",
      "    ---------------------------|-----------------\n",
      "    botorch-0.8.5              |                0         324 KB  pytorch\n",
      "    ca-certificates-2023.5.7   |       h8857fd0_0         145 KB  conda-forge\n",
      "    certifi-2023.5.7           |     pyhd8ed1ab_0         149 KB  conda-forge\n",
      "    charset-normalizer-3.1.0   |     pyhd8ed1ab_0          44 KB  conda-forge\n",
      "    colorama-0.4.6             |     pyhd8ed1ab_0          25 KB  conda-forge\n",
      "    ffmpeg-4.3                 |       h0a44026_0        10.1 MB  pytorch\n",
      "    filelock-3.12.2            |     pyhd8ed1ab_0          15 KB  conda-forge\n",
      "    gettext-0.21.1             |       h8a4c099_0         4.0 MB  conda-forge\n",
      "    gmp-6.2.1                  |       h2e338ed_0         774 KB  conda-forge\n",
      "    gmpy2-2.1.2                |   py38h919de47_1         166 KB  conda-forge\n",
      "    gnutls-3.6.15              |       hed9c0bf_0         974 KB\n",
      "    gpytorch-1.10              |                0         134 KB  gpytorch\n",
      "    idna-3.4                   |     pyhd8ed1ab_0          55 KB  conda-forge\n",
      "    jinja2-3.1.2               |     pyhd8ed1ab_1          99 KB  conda-forge\n",
      "    joblib-1.2.0               |     pyhd8ed1ab_0         205 KB  conda-forge\n",
      "    lame-3.100                 |    hb7f2c08_1003         530 KB  conda-forge\n",
      "    libblas-3.9.0              |     17_osx64_mkl          14 KB  conda-forge\n",
      "    libcblas-3.9.0             |     17_osx64_mkl          14 KB  conda-forge\n",
      "    libiconv-1.17              |       hac89ed1_0         1.3 MB  conda-forge\n",
      "    libidn2-2.3.4              |       hb7f2c08_0         170 KB  conda-forge\n",
      "    liblapack-3.9.0            |     17_osx64_mkl          14 KB  conda-forge\n",
      "    libtasn1-4.19.0            |       hb7f2c08_0         116 KB  conda-forge\n",
      "    libunistring-0.9.10        |       h0d85af4_0         1.3 MB  conda-forge\n",
      "    linear_operator-0.4.0      |                0          94 KB  gpytorch\n",
      "    markupsafe-2.1.3           |   py38hcafd530_0          22 KB  conda-forge\n",
      "    mpc-1.3.1                  |       h81bd1dd_0         107 KB  conda-forge\n",
      "    mpfr-4.2.0                 |       h4f9bd69_0         368 KB  conda-forge\n",
      "    mpmath-1.3.0               |     pyhd8ed1ab_0         428 KB  conda-forge\n",
      "    multipledispatch-0.6.0     |             py_0          12 KB  conda-forge\n",
      "    nettle-3.7.3               |       h230ac6f_1         380 KB\n",
      "    networkx-3.1               |     pyhd8ed1ab_0         1.4 MB  conda-forge\n",
      "    openh264-2.1.1             |       h8346a28_0         655 KB\n",
      "    openssl-3.1.1              |       h8a1eda9_1         2.2 MB  conda-forge\n",
      "    opt_einsum-3.3.0           |     pyhd8ed1ab_1          53 KB  conda-forge\n",
      "    pyro-api-0.1.2             |     pyhd8ed1ab_0          15 KB  conda-forge\n",
      "    pyro-ppl-1.8.4             |     pyhd8ed1ab_0         438 KB  conda-forge\n",
      "    pysocks-1.7.1              |     pyha2e5f31_6          19 KB  conda-forge\n",
      "    pytorch-2.0.1              |          py3.8_0        79.2 MB  pytorch\n",
      "    requests-2.31.0            |     pyhd8ed1ab_0          55 KB  conda-forge\n",
      "    scikit-learn-1.0.2         |   py38h37f3bb3_0         6.9 MB  conda-forge\n",
      "    sympy-1.12                 | pypyh9d50eac_103         4.1 MB  conda-forge\n",
      "    threadpoolctl-3.1.0        |     pyh8a188c0_0          18 KB  conda-forge\n",
      "    torchaudio-2.0.2           |         py38_cpu         6.6 MB  pytorch\n",
      "    torchvision-0.15.2         |         py38_cpu         6.4 MB  pytorch\n",
      "    tqdm-4.65.0                |     pyhd8ed1ab_1          86 KB  conda-forge\n",
      "    typing_extensions-4.6.3    |     pyha770c72_0          34 KB  conda-forge\n",
      "    urllib3-2.0.3              |     pyhd8ed1ab_0          96 KB  conda-forge\n",
      "    ------------------------------------------------------------\n",
      "                                           Total:       130.2 MB\n",
      "\n",
      "The following NEW packages will be INSTALLED:\n",
      "\n",
      "  blas               pkgs/main/osx-64::blas-1.0-mkl None\n",
      "  botorch            pytorch/noarch::botorch-0.8.5-0 None\n",
      "  charset-normalizer conda-forge/noarch::charset-normalizer-3.1.0-pyhd8ed1ab_0 None\n",
      "  colorama           conda-forge/noarch::colorama-0.4.6-pyhd8ed1ab_0 None\n",
      "  ffmpeg             pytorch/osx-64::ffmpeg-4.3-h0a44026_0 None\n",
      "  filelock           conda-forge/noarch::filelock-3.12.2-pyhd8ed1ab_0 None\n",
      "  gettext            conda-forge/osx-64::gettext-0.21.1-h8a4c099_0 None\n",
      "  gmp                conda-forge/osx-64::gmp-6.2.1-h2e338ed_0 None\n",
      "  gmpy2              conda-forge/osx-64::gmpy2-2.1.2-py38h919de47_1 None\n",
      "  gnutls             pkgs/main/osx-64::gnutls-3.6.15-hed9c0bf_0 None\n",
      "  gpytorch           gpytorch/noarch::gpytorch-1.10-0 None\n",
      "  idna               conda-forge/noarch::idna-3.4-pyhd8ed1ab_0 None\n",
      "  jinja2             conda-forge/noarch::jinja2-3.1.2-pyhd8ed1ab_1 None\n",
      "  joblib             conda-forge/noarch::joblib-1.2.0-pyhd8ed1ab_0 None\n",
      "  lame               conda-forge/osx-64::lame-3.100-hb7f2c08_1003 None\n",
      "  libiconv           conda-forge/osx-64::libiconv-1.17-hac89ed1_0 None\n",
      "  libidn2            conda-forge/osx-64::libidn2-2.3.4-hb7f2c08_0 None\n",
      "  libtasn1           conda-forge/osx-64::libtasn1-4.19.0-hb7f2c08_0 None\n",
      "  libunistring       conda-forge/osx-64::libunistring-0.9.10-h0d85af4_0 None\n",
      "  linear_operator    gpytorch/noarch::linear_operator-0.4.0-0 None\n",
      "  markupsafe         conda-forge/osx-64::markupsafe-2.1.3-py38hcafd530_0 None\n",
      "  mpc                conda-forge/osx-64::mpc-1.3.1-h81bd1dd_0 None\n",
      "  mpfr               conda-forge/osx-64::mpfr-4.2.0-h4f9bd69_0 None\n",
      "  mpmath             conda-forge/noarch::mpmath-1.3.0-pyhd8ed1ab_0 None\n",
      "  multipledispatch   conda-forge/noarch::multipledispatch-0.6.0-py_0 None\n",
      "  nettle             pkgs/main/osx-64::nettle-3.7.3-h230ac6f_1 None\n",
      "  networkx           conda-forge/noarch::networkx-3.1-pyhd8ed1ab_0 None\n",
      "  openh264           pkgs/main/osx-64::openh264-2.1.1-h8346a28_0 None\n",
      "  opt_einsum         conda-forge/noarch::opt_einsum-3.3.0-pyhd8ed1ab_1 None\n",
      "  pyro-api           conda-forge/noarch::pyro-api-0.1.2-pyhd8ed1ab_0 None\n",
      "  pyro-ppl           conda-forge/noarch::pyro-ppl-1.8.4-pyhd8ed1ab_0 None\n",
      "  pysocks            conda-forge/noarch::pysocks-1.7.1-pyha2e5f31_6 None\n",
      "  pytorch            pytorch/osx-64::pytorch-2.0.1-py3.8_0 None\n",
      "  requests           conda-forge/noarch::requests-2.31.0-pyhd8ed1ab_0 None\n",
      "  scikit-learn       conda-forge/osx-64::scikit-learn-1.0.2-py38h37f3bb3_0 None\n",
      "  sympy              conda-forge/noarch::sympy-1.12-pypyh9d50eac_103 None\n",
      "  threadpoolctl      conda-forge/noarch::threadpoolctl-3.1.0-pyh8a188c0_0 None\n",
      "  tqdm               conda-forge/noarch::tqdm-4.65.0-pyhd8ed1ab_1 None\n",
      "  typing_extensions  conda-forge/noarch::typing_extensions-4.6.3-pyha770c72_0 None\n",
      "  urllib3            conda-forge/noarch::urllib3-2.0.3-pyhd8ed1ab_0 None\n",
      "\n",
      "The following packages will be UPDATED:\n",
      "\n",
      "  ca-certificates    pkgs/main::ca-certificates-2022.10.11~ --> conda-forge::ca-certificates-2023.5.7-h8857fd0_0 None\n",
      "  certifi            pkgs/main/osx-64::certifi-2022.9.24-p~ --> conda-forge/noarch::certifi-2023.5.7-pyhd8ed1ab_0 None\n",
      "  libblas                           3.9.0-14_osx64_openblas --> 3.9.0-17_osx64_mkl None\n",
      "  libcblas                          3.9.0-14_osx64_openblas --> 3.9.0-17_osx64_mkl None\n",
      "  liblapack                         3.9.0-14_osx64_openblas --> 3.9.0-17_osx64_mkl None\n",
      "  openssl                                  3.0.5-hfd90126_2 --> 3.1.1-h8a1eda9_1 None\n",
      "  torchaudio                                     0.4.0-py38 --> 2.0.2-py38_cpu None\n",
      "  torchvision                                0.5.0-py38_cpu --> 0.15.2-py38_cpu None\n",
      "\n",
      "\n",
      "\n",
      "Downloading and Extracting Packages\n",
      "networkx-3.1         | 1.4 MB    | ##################################### | 100% \n",
      "mpfr-4.2.0           | 368 KB    | ##################################### | 100% \n",
      "pyro-ppl-1.8.4       | 438 KB    | ##################################### | 100% \n",
      "urllib3-2.0.3        | 96 KB     | ##################################### | 100% \n",
      "joblib-1.2.0         | 205 KB    | ##################################### | 100% \n",
      "linear_operator-0.4. | 94 KB     | ##################################### | 100% \n",
      "libunistring-0.9.10  | 1.3 MB    | ##################################### | 100% \n",
      "mpc-1.3.1            | 107 KB    | ##################################### | 100% \n",
      "filelock-3.12.2      | 15 KB     | ##################################### | 100% \n",
      "colorama-0.4.6       | 25 KB     | ##################################### | 100% \n",
      "opt_einsum-3.3.0     | 53 KB     | ##################################### | 100% \n",
      "typing_extensions-4. | 34 KB     | ##################################### | 100% \n",
      "mpmath-1.3.0         | 428 KB    | ##################################### | 100% \n",
      "libiconv-1.17        | 1.3 MB    | ##################################### | 100% \n",
      "sympy-1.12           | 4.1 MB    | ##################################### | 100% \n",
      "lame-3.100           | 530 KB    | ##################################### | 100% \n",
      "libcblas-3.9.0       | 14 KB     | ##################################### | 100% \n",
      "pytorch-2.0.1        | 79.2 MB   | ##################################### | 100% \n",
      "charset-normalizer-3 | 44 KB     | ##################################### | 100% \n",
      "gettext-0.21.1       | 4.0 MB    | ##################################### | 100% \n",
      "markupsafe-2.1.3     | 22 KB     | ##################################### | 100% \n",
      "threadpoolctl-3.1.0  | 18 KB     | ##################################### | 100% \n",
      "jinja2-3.1.2         | 99 KB     | ##################################### | 100% \n",
      "pyro-api-0.1.2       | 15 KB     | ##################################### | 100% \n",
      "pysocks-1.7.1        | 19 KB     | ##################################### | 100% \n",
      "botorch-0.8.5        | 324 KB    | ##################################### | 100% \n",
      "certifi-2023.5.7     | 149 KB    | ##################################### | 100% \n",
      "liblapack-3.9.0      | 14 KB     | ##################################### | 100% \n",
      "gnutls-3.6.15        | 974 KB    | ##################################### | 100% \n",
      "multipledispatch-0.6 | 12 KB     | ##################################### | 100% \n",
      "nettle-3.7.3         | 380 KB    | ##################################### | 100% \n",
      "gmp-6.2.1            | 774 KB    | ##################################### | 100% \n",
      "ca-certificates-2023 | 145 KB    | ##################################### | 100% \n",
      "scikit-learn-1.0.2   | 6.9 MB    | ##################################### | 100% \n",
      "requests-2.31.0      | 55 KB     | ##################################### | 100% \n",
      "torchvision-0.15.2   | 6.4 MB    | ##################################### | 100% \n",
      "libtasn1-4.19.0      | 116 KB    | ##################################### | 100% \n",
      "gmpy2-2.1.2          | 166 KB    | ##################################### | 100% \n",
      "gpytorch-1.10        | 134 KB    | ##################################### | 100% \n",
      "libidn2-2.3.4        | 170 KB    | ##################################### | 100% \n",
      "ffmpeg-4.3           | 10.1 MB   | ##################################### | 100% \n",
      "idna-3.4             | 55 KB     | ##################################### | 100% \n",
      "openh264-2.1.1       | 655 KB    | ##################################### | 100% \n",
      "libblas-3.9.0        | 14 KB     | ##################################### | 100% \n",
      "tqdm-4.65.0          | 86 KB     | ##################################### | 100% \n",
      "openssl-3.1.1        | 2.2 MB    | ##################################### | 100% \n",
      "torchaudio-2.0.2     | 6.6 MB    | ##################################### | 100% \n",
      "Preparing transaction: done\n",
      "Verifying transaction: \\ WARNING conda.core.path_actions:verify(962): Unable to create environments file. Path not writable.\n",
      "  environment location: /Users/simon/.conda/environments.txt\n",
      "\n",
      "done\n",
      "Executing transaction: \\ WARNING conda.core.envs_manager:register_env(51): Unable to register environment. Path not writable or missing.\n",
      "  environment location: /Users/simon/new-orleans/env\n",
      "  registry file: /Users/simon/.conda/environments.txt\n",
      "done\n",
      "Retrieving notices: ...working... done\n"
     ]
    }
   ],
   "source": [
    "!conda install botorch -c pytorch -c gpytorch -c conda-forge -y"
   ]
  },
  {
   "cell_type": "code",
   "execution_count": 2,
   "id": "103181c9",
   "metadata": {},
   "outputs": [
    {
     "ename": "",
     "evalue": "",
     "output_type": "error",
     "traceback": [
      "\u001b[1;31mCanceled future for execute_request message before replies were done"
     ]
    },
    {
     "ename": "",
     "evalue": "",
     "output_type": "error",
     "traceback": [
      "\u001b[1;31mThe Kernel crashed while executing code in the the current cell or a previous cell. Please review the code in the cell(s) to identify a possible cause of the failure. Click <a href='https://aka.ms/vscodeJupyterKernelCrash'>here</a> for more info. View Jupyter <a href='command:jupyter.viewOutput'>log</a> for further details."
     ]
    }
   ],
   "source": [
    "import botorch"
   ]
  },
  {
   "cell_type": "code",
   "execution_count": 4,
   "id": "62353662",
   "metadata": {
    "ExecuteTime": {
     "end_time": "2023-02-15T13:52:41.564905Z",
     "start_time": "2023-02-15T13:52:41.512737Z"
    }
   },
   "outputs": [],
   "source": [
    "import matplotlib.pyplot as plt"
   ]
  },
  {
   "cell_type": "code",
   "execution_count": null,
   "id": "048fb094",
   "metadata": {},
   "outputs": [],
   "source": [
    "from trieste.objectives import Branin, mk_observer\n",
    "\n",
    "observer = mk_observer(Branin.objective)\n",
    "\n",
    "initial_query_points = Branin.search_space.sample(5)\n",
    "initial_data = observer(initial_query_points)\n"
   ]
  },
  {
   "cell_type": "code",
   "execution_count": null,
   "id": "8cac1d82",
   "metadata": {},
   "outputs": [],
   "source": [
    "from trieste.models import build_gpr, GaussianProcessRegression\n",
    "\n",
    "gpflow_model = build_gpr(initial_data, Branin.search_space)\n",
    "model = GaussianProcessRegression(gpflow_model)"
   ]
  },
  {
   "cell_type": "code",
   "execution_count": null,
   "id": "16962b94",
   "metadata": {},
   "outputs": [],
   "source": [
    "from trieste.acquisition import EfficientGlobalOptimization, ExpectedImprovement\n",
    "\n",
    "acquisition_rule = EfficientGlobalOptimization(ExpectedImprovement())\n"
   ]
  },
  {
   "cell_type": "code",
   "execution_count": null,
   "id": "d09c87ee",
   "metadata": {},
   "outputs": [],
   "source": [
    "from trieste.bayesian_optimizer import BayesianOptimizer\n",
    "\n",
    "bo = BayesianOptimizer(observer, search_space)\n",
    "num_steps = 15\n",
    "result = bo.optimize(num_steps, initial_data, model)\n",
    "query_point, observation, arg_min_idx = result.try_get_optimal_point()"
   ]
  },
  {
   "cell_type": "code",
   "execution_count": null,
   "id": "005c4223",
   "metadata": {},
   "outputs": [],
   "source": []
  }
 ],
 "metadata": {
  "hide_input": false,
  "kernelspec": {
   "display_name": "Python 3 (ipykernel)",
   "language": "python",
   "name": "python3"
  },
  "language_info": {
   "codemirror_mode": {
    "name": "ipython",
    "version": 3
   },
   "file_extension": ".py",
   "mimetype": "text/x-python",
   "name": "python",
   "nbconvert_exporter": "python",
   "pygments_lexer": "ipython3",
   "version": "3.8.13"
  },
  "varInspector": {
   "cols": {
    "lenName": 16,
    "lenType": 16,
    "lenVar": 40
   },
   "kernels_config": {
    "python": {
     "delete_cmd_postfix": "",
     "delete_cmd_prefix": "del ",
     "library": "var_list.py",
     "varRefreshCmd": "print(var_dic_list())"
    },
    "r": {
     "delete_cmd_postfix": ") ",
     "delete_cmd_prefix": "rm(",
     "library": "var_list.r",
     "varRefreshCmd": "cat(var_dic_list()) "
    }
   },
   "types_to_exclude": [
    "module",
    "function",
    "builtin_function_or_method",
    "instance",
    "_Feature"
   ],
   "window_display": false
  }
 },
 "nbformat": 4,
 "nbformat_minor": 5
}
