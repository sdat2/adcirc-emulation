{
 "cells": [
  {
   "cell_type": "markdown",
   "id": "c7bec4e9",
   "metadata": {},
   "source": [
    "# 2 dimensional emulation"
   ]
  },
  {
   "cell_type": "code",
   "execution_count": 1,
   "id": "183b92fa",
   "metadata": {
    "ExecuteTime": {
     "end_time": "2022-10-12T10:48:46.769584Z",
     "start_time": "2022-10-12T10:48:46.726165Z"
    }
   },
   "outputs": [],
   "source": [
    "# Convenient jupyter setup\n",
    "%load_ext autoreload\n",
    "%autoreload 2\n",
    "%config IPCompleter.greedy=True"
   ]
  },
  {
   "cell_type": "code",
   "execution_count": null,
   "id": "0389a935",
   "metadata": {},
   "outputs": [],
   "source": [
    "from typing import Tuple, Callable\n",
    "import os\n",
    "import shutil\n",
    "import numpy as np\n",
    "import pandas as pd\n",
    "import xarray as xr\n",
    "from xarray.core.utils import FrozenDict\n",
    "import matplotlib.pyplot as plt\n",
    "from adcircpy.outputs import Maxele\n",
    "import imageio as io\n",
    "from frozendict import frozendict\n",
    "import GPy\n",
    "from GPy.models import GPRegression\n",
    "from emukit.experimental_design.experimental_design_loop import ExperimentalDesignLoop\n",
    "from emukit.model_wrappers import SimpleGaussianProcessModel\n",
    "from emukit.core import ParameterSpace, ContinuousParameter\n",
    "from emukit.core.initial_designs.latin_design import LatinDesign\n",
    "from emukit.model_wrappers import GPyModelWrapper\n",
    "from emukit.experimental_design.acquisitions import ModelVariance\n",
    "from sithom.plot import plot_defaults, label_subplots\n",
    "from sithom.time import timeit\n",
    "from sithom.place import Point\n",
    "from sithom.misc import in_notebook\n",
    "from src.constants import DATA_PATH, FIGURE_PATH\n",
    "from src.models.generation import ImpactSymmetricTC, Holland08\n",
    "from src.conversions import si_ify, knots_to_ms\n",
    "from src.constants import NEW_ORLEANS, DATA_PATH, NO_BBOX"
   ]
  },
  {
   "cell_type": "code",
   "execution_count": null,
   "id": "6418d3b5",
   "metadata": {},
   "outputs": [],
   "source": [
    "@np.vectorize\n",
    "def indices_in_bbox(lon, lat):\n",
    "    return (\n",
    "        lon > NO_BBOX.lon[0]\n",
    "        and lon < NO_BBOX.lon[1]\n",
    "        and lat > NO_BBOX.lat[0]\n",
    "        and lat < NO_BBOX.lat[1]\n",
    "    )\n",
    "\n",
    "\n",
    "@timeit\n",
    "def func(rmax: float, folder: str, point: Point) -> float:\n",
    "    output_direc = os.path.join(folder, \"a\" + \"{:.3f}\".format(rmax) + \"_kat_rmax\")\n",
    "    if os.path.exists(output_direc):\n",
    "        shutil.rmtree(output_direc)\n",
    "    ImpactSymmetricTC(\n",
    "        point=point,\n",
    "        output_direc=output_direc,\n",
    "        symetric_model=Holland08(rmax=rmax),\n",
    "    ).run_impact()\n",
    "    path = os.path.join(output_direc, \"maxele.63.nc\")\n",
    "    maxele = Maxele(path, crs=\"EPSG:4326\")\n",
    "    index_set = 27\n",
    "    indices = indices_in_bbox(maxele.x, maxele.y)\n",
    "    return maxele.values[indices][index_set]\n",
    "\n",
    "\n",
    "@timeit\n",
    "def func_for_emukit() -> Callable:\n",
    "    lon_diff = 0.6\n",
    "    point = Point(NEW_ORLEANS.lon + lon_diff, NEW_ORLEANS.lat)\n",
    "    folder = os.path.join(DATA_PATH, \"kat_emulation\")\n",
    "\n",
    "    if not os.path.exists(folder):\n",
    "        os.mkdir(folder)\n",
    "\n",
    "    @np.vectorize\n",
    "    def _func(rmax: float):\n",
    "        return func(float(rmax), folder, point)\n",
    "\n",
    "\n",
    "f = func_for_emukit()\n",
    "\n",
    "\n",
    "plot_defaults()\n",
    "\n",
    "\n",
    "@timeit\n",
    "def twod_emulation() -> None:\n",
    "    \"\"\"\n",
    "    Example plot.\n",
    "    \"\"\"\n",
    "\n",
    "    plot_defaults()\n",
    "    x_min = 12 * 1e3  # 12 km\n",
    "    x_max = 50 * 1e3  # 50 km\n",
    "    search_range = x_max - x_min\n",
    "    plot_min, plot_max = x_min - search_range / 10, x_max + search_range / 10\n",
    "\n",
    "    # x_data = np.random.uniform(x_min, x_max, (10, 1))\n",
    "    p = ContinuousParameter(\"x\", x_min, x_max)\n",
    "    space = ParameterSpace([p])\n",
    "\n",
    "    design = LatinDesign(space)\n",
    "    num_data_points = 10\n",
    "    x_data = design.get_samples(num_data_points).astype(\"float32\")\n",
    "    y_data = f(x_data)\n",
    "\n",
    "    emukit_model = SimpleGaussianProcessModel(x_data, y_data)\n",
    "\n",
    "    loop = ExperimentalDesignLoop(space, emukit_model)\n",
    "    loop.run_loop(f, 1)\n",
    "\n",
    "    print(x_data, y_data)\n",
    "\n",
    "    predicted_y = []\n",
    "    predicted_std = []\n",
    "\n",
    "    real_x = np.arange(plot_min, plot_max, 1)\n",
    "\n",
    "    for x in real_x:\n",
    "        y, var = emukit_model.predict(np.array([[x]]))\n",
    "        std = np.sqrt(var)\n",
    "        predicted_y.append(y)\n",
    "        predicted_std.append(std)\n",
    "\n",
    "    predicted_y = np.array(predicted_y).flatten()\n",
    "    predicted_std = np.array(predicted_std).flatten()\n",
    "    plt.plot(real_x, predicted_y, label=\"estimated function\", color=\"blue\")\n",
    "    plt.fill_between(\n",
    "        real_x,\n",
    "        predicted_y - predicted_std,\n",
    "        predicted_y + predicted_std,\n",
    "        color=\"blue\",\n",
    "        alpha=0.3,\n",
    "    )\n",
    "    plt.scatter(x_data, y_data, c=\"red\")\n",
    "    plt.scatter(\n",
    "        expdesign_loop.loop_state.X[len(x_data) :],\n",
    "        expdesign_loop.loop_state.Y[len(x_data) :],\n",
    "        c=\"red\",\n",
    "        label=\"new data points\",\n",
    "    )\n",
    "    # plt.plot(real_x, real_y, label=\"true function\", color=\"red\")\n",
    "    plt.legend()\n",
    "    plt.xlabel(\"Radius of Maximum Winds [m]\")\n",
    "    plt.ylabel(\"Height [m]\")\n",
    "\n",
    "    if in_notebook():\n",
    "        plt.show()\n",
    "    else:\n",
    "        plt.clf()\n",
    "\n",
    "\n",
    "# twod_emulation()"
   ]
  },
  {
   "cell_type": "code",
   "execution_count": 2,
   "id": "2e56f600",
   "metadata": {
    "ExecuteTime": {
     "end_time": "2022-10-12T20:32:17.773238Z",
     "start_time": "2022-10-12T20:32:14.210758Z"
    }
   },
   "outputs": [
    {
     "name": "stderr",
     "output_type": "stream",
     "text": [
      " /Users/simon/new-orleans/env/lib/python3.8/site-packages/xarray/backends/cfgrib_.py:29: UserWarning:Failed to load cfgrib - most likely there is a problem accessing the ecCodes library. Try `import cfgrib` to get the full error message\n",
      " /Users/simon/new-orleans/env/lib/python3.8/site-packages/geopandas/_compat.py:112: UserWarning:The Shapely GEOS version (3.10.2-CAPI-1.16.0) is incompatible with the GEOS version PyGEOS was compiled with (3.10.3-CAPI-1.16.1). Conversions between both will be slow.\n"
     ]
    }
   ],
   "source": [
    "from src.models.emulation import plot_space"
   ]
  },
  {
   "cell_type": "code",
   "execution_count": 6,
   "id": "a4e4105d",
   "metadata": {
    "ExecuteTime": {
     "end_time": "2022-10-12T20:39:30.930576Z",
     "start_time": "2022-10-12T20:39:30.522501Z"
    }
   },
   "outputs": [
    {
     "data": {
      "image/png": "[encoded data removed]",
      "text/plain": [
       "<Figure size 826.772x510.973 with 1 Axes>"
      ]
     },
     "metadata": {},
     "output_type": "display_data"
    }
   ],
   "source": [
    "plot_space()"
   ]
  },
  {
   "cell_type": "code",
   "execution_count": null,
   "id": "d7e8dab4",
   "metadata": {},
   "outputs": [],
   "source": []
  }
 ],
 "metadata": {
  "hide_input": false,
  "kernelspec": {
   "display_name": "Python 3 (ipykernel)",
   "language": "python",
   "name": "python3"
  },
  "language_info": {
   "codemirror_mode": {
    "name": "ipython",
    "version": 3
   },
   "file_extension": ".py",
   "mimetype": "text/x-python",
   "name": "python",
   "nbconvert_exporter": "python",
   "pygments_lexer": "ipython3",
   "version": "3.8.13"
  },
  "varInspector": {
   "cols": {
    "lenName": 16,
    "lenType": 16,
    "lenVar": 40
   },
   "kernels_config": {
    "python": {
     "delete_cmd_postfix": "",
     "delete_cmd_prefix": "del ",
     "library": "var_list.py",
     "varRefreshCmd": "print(var_dic_list())"
    },
    "r": {
     "delete_cmd_postfix": ") ",
     "delete_cmd_prefix": "rm(",
     "library": "var_list.r",
     "varRefreshCmd": "cat(var_dic_list()) "
    }
   },
   "types_to_exclude": [
    "module",
    "function",
    "builtin_function_or_method",
    "instance",
    "_Feature"
   ],
   "window_display": false
  }
 },
 "nbformat": 4,
 "nbformat_minor": 5
}
