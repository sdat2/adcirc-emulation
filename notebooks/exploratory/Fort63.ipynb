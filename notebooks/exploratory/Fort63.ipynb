{
 "cells": [
  {
   "cell_type": "markdown",
   "id": "09db287a",
   "metadata": {},
   "source": [
    "# Fort63"
   ]
  },
  {
   "cell_type": "code",
   "execution_count": 1,
   "id": "7f8f5940",
   "metadata": {
    "ExecuteTime": {
     "end_time": "2022-10-12T17:17:21.504552Z",
     "start_time": "2022-10-12T17:17:21.462521Z"
    }
   },
   "outputs": [],
   "source": [
    "# Convenient jupyter setup\n",
    "%load_ext autoreload\n",
    "%autoreload 2\n",
    "%config IPCompleter.greedy=True"
   ]
  },
  {
   "cell_type": "code",
   "execution_count": 2,
   "id": "b7e9f2f0",
   "metadata": {
    "ExecuteTime": {
     "end_time": "2022-10-12T17:17:27.154111Z",
     "start_time": "2022-10-12T17:17:25.024720Z"
    }
   },
   "outputs": [
    {
     "name": "stderr",
     "output_type": "stream",
     "text": [
      "/Users/simon/new-orleans/env/lib/python3.8/site-packages/xarray/backends/cfgrib_.py:29: UserWarning: Failed to load cfgrib - most likely there is a problem accessing the ecCodes library. Try `import cfgrib` to get the full error message\n",
      "  warnings.warn(\n",
      "/Users/simon/new-orleans/env/lib/python3.8/site-packages/geopandas/_compat.py:112: UserWarning: The Shapely GEOS version (3.10.2-CAPI-1.16.0) is incompatible with the GEOS version PyGEOS was compiled with (3.10.3-CAPI-1.16.1). Conversions between both will be slow.\n",
      "  warnings.warn(\n"
     ]
    }
   ],
   "source": [
    "from adcircpy.outputs import Fort63"
   ]
  },
  {
   "cell_type": "code",
   "execution_count": 3,
   "id": "5edb4e53",
   "metadata": {
    "ExecuteTime": {
     "end_time": "2022-10-12T17:17:39.713734Z",
     "start_time": "2022-10-12T17:17:39.656985Z"
    }
   },
   "outputs": [],
   "source": [
    "import os\n",
    "from src.constants import KAT_EX_PATH"
   ]
  },
  {
   "cell_type": "code",
   "execution_count": 4,
   "id": "50a55368",
   "metadata": {
    "ExecuteTime": {
     "end_time": "2022-10-12T17:18:12.624380Z",
     "start_time": "2022-10-12T17:18:12.559510Z"
    }
   },
   "outputs": [
    {
     "data": {
      "text/plain": [
       "['minpr.63.nc',\n",
       " 'maxwvel.63.nc',\n",
       " 'windDrag.173.nc',\n",
       " 'fort.73.nc',\n",
       " 'fort.63.nc',\n",
       " 'fort.22',\n",
       " 'fort.14',\n",
       " 'maxvel.63.nc',\n",
       " 'fort.15',\n",
       " 'fort.218',\n",
       " 'fort.221',\n",
       " 'fort.217',\n",
       " 'run.sh',\n",
       " 'adcirc_log.txt',\n",
       " 'maxele.63.nc',\n",
       " 'comparison.log',\n",
       " 'fort.33',\n",
       " 'fort.74.nc',\n",
       " 'fort.64.nc',\n",
       " 'fort.16',\n",
       " 'control',\n",
       " 'fort.224',\n",
       " 'fort.223',\n",
       " 'fort.222']"
      ]
     },
     "execution_count": 4,
     "metadata": {},
     "output_type": "execute_result"
    }
   ],
   "source": [
    "os.listdir(KAT_EX_PATH)"
   ]
  },
  {
   "cell_type": "code",
   "execution_count": 8,
   "id": "ccf31655",
   "metadata": {
    "ExecuteTime": {
     "end_time": "2022-10-12T17:20:05.897348Z",
     "start_time": "2022-10-12T17:20:05.871470Z"
    }
   },
   "outputs": [],
   "source": [
    "path = os.path.join(KAT_EX_PATH, \"fort.63.nc\")"
   ]
  },
  {
   "cell_type": "code",
   "execution_count": 45,
   "id": "323efb70",
   "metadata": {
    "ExecuteTime": {
     "end_time": "2022-10-12T18:22:48.465160Z",
     "start_time": "2022-10-12T18:22:48.336184Z"
    }
   },
   "outputs": [
    {
     "ename": "ValueError",
     "evalue": "dimension 'neta' already exists as a scalar variable",
     "output_type": "error",
     "traceback": [
      "\u001b[0;31m---------------------------------------------------------------------------\u001b[0m",
      "\u001b[0;31mValueError\u001b[0m                                Traceback (most recent call last)",
      "Input \u001b[0;32mIn [45]\u001b[0m, in \u001b[0;36m<cell line: 1>\u001b[0;34m()\u001b[0m\n\u001b[0;32m----> 1\u001b[0m \u001b[43mxr\u001b[49m\u001b[38;5;241;43m.\u001b[39;49m\u001b[43mopen_dataset\u001b[49m\u001b[43m(\u001b[49m\u001b[43mpath\u001b[49m\u001b[43m,\u001b[49m\u001b[43m \u001b[49m\u001b[43mdecode_cf\u001b[49m\u001b[38;5;241;43m=\u001b[39;49m\u001b[38;5;28;43;01mFalse\u001b[39;49;00m\u001b[43m)\u001b[49m\n",
      "File \u001b[0;32m~/new-orleans/env/lib/python3.8/site-packages/xarray/backends/api.py:531\u001b[0m, in \u001b[0;36mopen_dataset\u001b[0;34m(filename_or_obj, engine, chunks, cache, decode_cf, mask_and_scale, decode_times, decode_timedelta, use_cftime, concat_characters, decode_coords, drop_variables, inline_array, backend_kwargs, **kwargs)\u001b[0m\n\u001b[1;32m    519\u001b[0m decoders \u001b[38;5;241m=\u001b[39m _resolve_decoders_kwargs(\n\u001b[1;32m    520\u001b[0m     decode_cf,\n\u001b[1;32m    521\u001b[0m     open_backend_dataset_parameters\u001b[38;5;241m=\u001b[39mbackend\u001b[38;5;241m.\u001b[39mopen_dataset_parameters,\n\u001b[0;32m   (...)\u001b[0m\n\u001b[1;32m    527\u001b[0m     decode_coords\u001b[38;5;241m=\u001b[39mdecode_coords,\n\u001b[1;32m    528\u001b[0m )\n\u001b[1;32m    530\u001b[0m overwrite_encoded_chunks \u001b[38;5;241m=\u001b[39m kwargs\u001b[38;5;241m.\u001b[39mpop(\u001b[38;5;124m\"\u001b[39m\u001b[38;5;124moverwrite_encoded_chunks\u001b[39m\u001b[38;5;124m\"\u001b[39m, \u001b[38;5;28;01mNone\u001b[39;00m)\n\u001b[0;32m--> 531\u001b[0m backend_ds \u001b[38;5;241m=\u001b[39m \u001b[43mbackend\u001b[49m\u001b[38;5;241;43m.\u001b[39;49m\u001b[43mopen_dataset\u001b[49m\u001b[43m(\u001b[49m\n\u001b[1;32m    532\u001b[0m \u001b[43m    \u001b[49m\u001b[43mfilename_or_obj\u001b[49m\u001b[43m,\u001b[49m\n\u001b[1;32m    533\u001b[0m \u001b[43m    \u001b[49m\u001b[43mdrop_variables\u001b[49m\u001b[38;5;241;43m=\u001b[39;49m\u001b[43mdrop_variables\u001b[49m\u001b[43m,\u001b[49m\n\u001b[1;32m    534\u001b[0m \u001b[43m    \u001b[49m\u001b[38;5;241;43m*\u001b[39;49m\u001b[38;5;241;43m*\u001b[39;49m\u001b[43mdecoders\u001b[49m\u001b[43m,\u001b[49m\n\u001b[1;32m    535\u001b[0m \u001b[43m    \u001b[49m\u001b[38;5;241;43m*\u001b[39;49m\u001b[38;5;241;43m*\u001b[39;49m\u001b[43mkwargs\u001b[49m\u001b[43m,\u001b[49m\n\u001b[1;32m    536\u001b[0m \u001b[43m\u001b[49m\u001b[43m)\u001b[49m\n\u001b[1;32m    537\u001b[0m ds \u001b[38;5;241m=\u001b[39m _dataset_from_backend_dataset(\n\u001b[1;32m    538\u001b[0m     backend_ds,\n\u001b[1;32m    539\u001b[0m     filename_or_obj,\n\u001b[0;32m   (...)\u001b[0m\n\u001b[1;32m    547\u001b[0m     \u001b[38;5;241m*\u001b[39m\u001b[38;5;241m*\u001b[39mkwargs,\n\u001b[1;32m    548\u001b[0m )\n\u001b[1;32m    549\u001b[0m \u001b[38;5;28;01mreturn\u001b[39;00m ds\n",
      "File \u001b[0;32m~/new-orleans/env/lib/python3.8/site-packages/xarray/backends/netCDF4_.py:569\u001b[0m, in \u001b[0;36mNetCDF4BackendEntrypoint.open_dataset\u001b[0;34m(self, filename_or_obj, mask_and_scale, decode_times, concat_characters, decode_coords, drop_variables, use_cftime, decode_timedelta, group, mode, format, clobber, diskless, persist, lock, autoclose)\u001b[0m\n\u001b[1;32m    567\u001b[0m store_entrypoint \u001b[38;5;241m=\u001b[39m StoreBackendEntrypoint()\n\u001b[1;32m    568\u001b[0m \u001b[38;5;28;01mwith\u001b[39;00m close_on_error(store):\n\u001b[0;32m--> 569\u001b[0m     ds \u001b[38;5;241m=\u001b[39m \u001b[43mstore_entrypoint\u001b[49m\u001b[38;5;241;43m.\u001b[39;49m\u001b[43mopen_dataset\u001b[49m\u001b[43m(\u001b[49m\n\u001b[1;32m    570\u001b[0m \u001b[43m        \u001b[49m\u001b[43mstore\u001b[49m\u001b[43m,\u001b[49m\n\u001b[1;32m    571\u001b[0m \u001b[43m        \u001b[49m\u001b[43mmask_and_scale\u001b[49m\u001b[38;5;241;43m=\u001b[39;49m\u001b[43mmask_and_scale\u001b[49m\u001b[43m,\u001b[49m\n\u001b[1;32m    572\u001b[0m \u001b[43m        \u001b[49m\u001b[43mdecode_times\u001b[49m\u001b[38;5;241;43m=\u001b[39;49m\u001b[43mdecode_times\u001b[49m\u001b[43m,\u001b[49m\n\u001b[1;32m    573\u001b[0m \u001b[43m        \u001b[49m\u001b[43mconcat_characters\u001b[49m\u001b[38;5;241;43m=\u001b[39;49m\u001b[43mconcat_characters\u001b[49m\u001b[43m,\u001b[49m\n\u001b[1;32m    574\u001b[0m \u001b[43m        \u001b[49m\u001b[43mdecode_coords\u001b[49m\u001b[38;5;241;43m=\u001b[39;49m\u001b[43mdecode_coords\u001b[49m\u001b[43m,\u001b[49m\n\u001b[1;32m    575\u001b[0m \u001b[43m        \u001b[49m\u001b[43mdrop_variables\u001b[49m\u001b[38;5;241;43m=\u001b[39;49m\u001b[43mdrop_variables\u001b[49m\u001b[43m,\u001b[49m\n\u001b[1;32m    576\u001b[0m \u001b[43m        \u001b[49m\u001b[43muse_cftime\u001b[49m\u001b[38;5;241;43m=\u001b[39;49m\u001b[43muse_cftime\u001b[49m\u001b[43m,\u001b[49m\n\u001b[1;32m    577\u001b[0m \u001b[43m        \u001b[49m\u001b[43mdecode_timedelta\u001b[49m\u001b[38;5;241;43m=\u001b[39;49m\u001b[43mdecode_timedelta\u001b[49m\u001b[43m,\u001b[49m\n\u001b[1;32m    578\u001b[0m \u001b[43m    \u001b[49m\u001b[43m)\u001b[49m\n\u001b[1;32m    579\u001b[0m \u001b[38;5;28;01mreturn\u001b[39;00m ds\n",
      "File \u001b[0;32m~/new-orleans/env/lib/python3.8/site-packages/xarray/backends/store.py:41\u001b[0m, in \u001b[0;36mStoreBackendEntrypoint.open_dataset\u001b[0;34m(self, store, mask_and_scale, decode_times, concat_characters, decode_coords, drop_variables, use_cftime, decode_timedelta)\u001b[0m\n\u001b[1;32m     27\u001b[0m encoding \u001b[38;5;241m=\u001b[39m store\u001b[38;5;241m.\u001b[39mget_encoding()\n\u001b[1;32m     29\u001b[0m \u001b[38;5;28mvars\u001b[39m, attrs, coord_names \u001b[38;5;241m=\u001b[39m conventions\u001b[38;5;241m.\u001b[39mdecode_cf_variables(\n\u001b[1;32m     30\u001b[0m     \u001b[38;5;28mvars\u001b[39m,\n\u001b[1;32m     31\u001b[0m     attrs,\n\u001b[0;32m   (...)\u001b[0m\n\u001b[1;32m     38\u001b[0m     decode_timedelta\u001b[38;5;241m=\u001b[39mdecode_timedelta,\n\u001b[1;32m     39\u001b[0m )\n\u001b[0;32m---> 41\u001b[0m ds \u001b[38;5;241m=\u001b[39m \u001b[43mDataset\u001b[49m\u001b[43m(\u001b[49m\u001b[38;5;28;43mvars\u001b[39;49m\u001b[43m,\u001b[49m\u001b[43m \u001b[49m\u001b[43mattrs\u001b[49m\u001b[38;5;241;43m=\u001b[39;49m\u001b[43mattrs\u001b[49m\u001b[43m)\u001b[49m\n\u001b[1;32m     42\u001b[0m ds \u001b[38;5;241m=\u001b[39m ds\u001b[38;5;241m.\u001b[39mset_coords(coord_names\u001b[38;5;241m.\u001b[39mintersection(\u001b[38;5;28mvars\u001b[39m))\n\u001b[1;32m     43\u001b[0m ds\u001b[38;5;241m.\u001b[39mset_close(store\u001b[38;5;241m.\u001b[39mclose)\n",
      "File \u001b[0;32m~/new-orleans/env/lib/python3.8/site-packages/xarray/core/dataset.py:599\u001b[0m, in \u001b[0;36mDataset.__init__\u001b[0;34m(self, data_vars, coords, attrs)\u001b[0m\n\u001b[1;32m    596\u001b[0m \u001b[38;5;28;01mif\u001b[39;00m \u001b[38;5;28misinstance\u001b[39m(coords, Dataset):\n\u001b[1;32m    597\u001b[0m     coords \u001b[38;5;241m=\u001b[39m coords\u001b[38;5;241m.\u001b[39mvariables\n\u001b[0;32m--> 599\u001b[0m variables, coord_names, dims, indexes, _ \u001b[38;5;241m=\u001b[39m \u001b[43mmerge_data_and_coords\u001b[49m\u001b[43m(\u001b[49m\n\u001b[1;32m    600\u001b[0m \u001b[43m    \u001b[49m\u001b[43mdata_vars\u001b[49m\u001b[43m,\u001b[49m\u001b[43m \u001b[49m\u001b[43mcoords\u001b[49m\u001b[43m,\u001b[49m\u001b[43m \u001b[49m\u001b[43mcompat\u001b[49m\u001b[38;5;241;43m=\u001b[39;49m\u001b[38;5;124;43m\"\u001b[39;49m\u001b[38;5;124;43mbroadcast_equals\u001b[39;49m\u001b[38;5;124;43m\"\u001b[39;49m\n\u001b[1;32m    601\u001b[0m \u001b[43m\u001b[49m\u001b[43m)\u001b[49m\n\u001b[1;32m    603\u001b[0m \u001b[38;5;28mself\u001b[39m\u001b[38;5;241m.\u001b[39m_attrs \u001b[38;5;241m=\u001b[39m \u001b[38;5;28mdict\u001b[39m(attrs) \u001b[38;5;28;01mif\u001b[39;00m attrs \u001b[38;5;129;01mis\u001b[39;00m \u001b[38;5;129;01mnot\u001b[39;00m \u001b[38;5;28;01mNone\u001b[39;00m \u001b[38;5;28;01melse\u001b[39;00m \u001b[38;5;28;01mNone\u001b[39;00m\n\u001b[1;32m    604\u001b[0m \u001b[38;5;28mself\u001b[39m\u001b[38;5;241m.\u001b[39m_close \u001b[38;5;241m=\u001b[39m \u001b[38;5;28;01mNone\u001b[39;00m\n",
      "File \u001b[0;32m~/new-orleans/env/lib/python3.8/site-packages/xarray/core/merge.py:575\u001b[0m, in \u001b[0;36mmerge_data_and_coords\u001b[0;34m(data_vars, coords, compat, join)\u001b[0m\n\u001b[1;32m    573\u001b[0m objects \u001b[38;5;241m=\u001b[39m [data_vars, coords]\n\u001b[1;32m    574\u001b[0m explicit_coords \u001b[38;5;241m=\u001b[39m coords\u001b[38;5;241m.\u001b[39mkeys()\n\u001b[0;32m--> 575\u001b[0m \u001b[38;5;28;01mreturn\u001b[39;00m \u001b[43mmerge_core\u001b[49m\u001b[43m(\u001b[49m\n\u001b[1;32m    576\u001b[0m \u001b[43m    \u001b[49m\u001b[43mobjects\u001b[49m\u001b[43m,\u001b[49m\n\u001b[1;32m    577\u001b[0m \u001b[43m    \u001b[49m\u001b[43mcompat\u001b[49m\u001b[43m,\u001b[49m\n\u001b[1;32m    578\u001b[0m \u001b[43m    \u001b[49m\u001b[43mjoin\u001b[49m\u001b[43m,\u001b[49m\n\u001b[1;32m    579\u001b[0m \u001b[43m    \u001b[49m\u001b[43mexplicit_coords\u001b[49m\u001b[38;5;241;43m=\u001b[39;49m\u001b[43mexplicit_coords\u001b[49m\u001b[43m,\u001b[49m\n\u001b[1;32m    580\u001b[0m \u001b[43m    \u001b[49m\u001b[43mindexes\u001b[49m\u001b[38;5;241;43m=\u001b[39;49m\u001b[43mIndexes\u001b[49m\u001b[43m(\u001b[49m\u001b[43mindexes\u001b[49m\u001b[43m,\u001b[49m\u001b[43m \u001b[49m\u001b[43mcoords\u001b[49m\u001b[43m)\u001b[49m\u001b[43m,\u001b[49m\n\u001b[1;32m    581\u001b[0m \u001b[43m\u001b[49m\u001b[43m)\u001b[49m\n",
      "File \u001b[0;32m~/new-orleans/env/lib/python3.8/site-packages/xarray/core/merge.py:761\u001b[0m, in \u001b[0;36mmerge_core\u001b[0;34m(objects, compat, join, combine_attrs, priority_arg, explicit_coords, indexes, fill_value)\u001b[0m\n\u001b[1;32m    756\u001b[0m prioritized \u001b[38;5;241m=\u001b[39m _get_priority_vars_and_indexes(aligned, priority_arg, compat\u001b[38;5;241m=\u001b[39mcompat)\n\u001b[1;32m    757\u001b[0m variables, out_indexes \u001b[38;5;241m=\u001b[39m merge_collected(\n\u001b[1;32m    758\u001b[0m     collected, prioritized, compat\u001b[38;5;241m=\u001b[39mcompat, combine_attrs\u001b[38;5;241m=\u001b[39mcombine_attrs\n\u001b[1;32m    759\u001b[0m )\n\u001b[0;32m--> 761\u001b[0m dims \u001b[38;5;241m=\u001b[39m \u001b[43mcalculate_dimensions\u001b[49m\u001b[43m(\u001b[49m\u001b[43mvariables\u001b[49m\u001b[43m)\u001b[49m\n\u001b[1;32m    763\u001b[0m coord_names, noncoord_names \u001b[38;5;241m=\u001b[39m determine_coords(coerced)\n\u001b[1;32m    764\u001b[0m \u001b[38;5;28;01mif\u001b[39;00m explicit_coords \u001b[38;5;129;01mis\u001b[39;00m \u001b[38;5;129;01mnot\u001b[39;00m \u001b[38;5;28;01mNone\u001b[39;00m:\n",
      "File \u001b[0;32m~/new-orleans/env/lib/python3.8/site-packages/xarray/core/variable.py:3066\u001b[0m, in \u001b[0;36mcalculate_dimensions\u001b[0;34m(variables)\u001b[0m\n\u001b[1;32m   3064\u001b[0m \u001b[38;5;28;01mfor\u001b[39;00m dim, size \u001b[38;5;129;01min\u001b[39;00m \u001b[38;5;28mzip\u001b[39m(var\u001b[38;5;241m.\u001b[39mdims, var\u001b[38;5;241m.\u001b[39mshape):\n\u001b[1;32m   3065\u001b[0m     \u001b[38;5;28;01mif\u001b[39;00m dim \u001b[38;5;129;01min\u001b[39;00m scalar_vars:\n\u001b[0;32m-> 3066\u001b[0m         \u001b[38;5;28;01mraise\u001b[39;00m \u001b[38;5;167;01mValueError\u001b[39;00m(\n\u001b[1;32m   3067\u001b[0m             \u001b[38;5;124mf\u001b[39m\u001b[38;5;124m\"\u001b[39m\u001b[38;5;124mdimension \u001b[39m\u001b[38;5;132;01m{\u001b[39;00mdim\u001b[38;5;132;01m!r}\u001b[39;00m\u001b[38;5;124m already exists as a scalar variable\u001b[39m\u001b[38;5;124m\"\u001b[39m\n\u001b[1;32m   3068\u001b[0m         )\n\u001b[1;32m   3069\u001b[0m     \u001b[38;5;28;01mif\u001b[39;00m dim \u001b[38;5;129;01mnot\u001b[39;00m \u001b[38;5;129;01min\u001b[39;00m dims:\n\u001b[1;32m   3070\u001b[0m         dims[dim] \u001b[38;5;241m=\u001b[39m size\n",
      "\u001b[0;31mValueError\u001b[0m: dimension 'neta' already exists as a scalar variable"
     ]
    }
   ],
   "source": [
    "xr.open_dataset(path, decode_cf=False)"
   ]
  },
  {
   "cell_type": "code",
   "execution_count": 10,
   "id": "24b2f27e",
   "metadata": {
    "ExecuteTime": {
     "end_time": "2022-10-12T17:21:07.678505Z",
     "start_time": "2022-10-12T17:21:07.606520Z"
    }
   },
   "outputs": [],
   "source": [
    "fort63 = Fort63(path)"
   ]
  },
  {
   "cell_type": "code",
   "execution_count": 12,
   "id": "0e6e6c30",
   "metadata": {
    "ExecuteTime": {
     "end_time": "2022-10-12T17:21:17.162878Z",
     "start_time": "2022-10-12T17:21:17.118655Z"
    }
   },
   "outputs": [
    {
     "data": {
      "text/plain": [
       "(8303,)"
      ]
     },
     "execution_count": 12,
     "metadata": {},
     "output_type": "execute_result"
    }
   ],
   "source": [
    "fort63.values.shape"
   ]
  },
  {
   "cell_type": "code",
   "execution_count": 14,
   "id": "20adfd78",
   "metadata": {
    "ExecuteTime": {
     "end_time": "2022-10-12T17:27:14.143569Z",
     "start_time": "2022-10-12T17:27:14.105426Z"
    }
   },
   "outputs": [
    {
     "data": {
      "text/plain": [
       "(8303,)"
      ]
     },
     "execution_count": 14,
     "metadata": {},
     "output_type": "execute_result"
    }
   ],
   "source": [
    "fort63.x.shape"
   ]
  },
  {
   "cell_type": "code",
   "execution_count": 15,
   "id": "c66ae436",
   "metadata": {
    "ExecuteTime": {
     "end_time": "2022-10-12T17:27:18.866036Z",
     "start_time": "2022-10-12T17:27:18.826368Z"
    }
   },
   "outputs": [
    {
     "data": {
      "text/plain": [
       "(8303,)"
      ]
     },
     "execution_count": 15,
     "metadata": {},
     "output_type": "execute_result"
    }
   ],
   "source": [
    "fort63.y.shape"
   ]
  },
  {
   "cell_type": "code",
   "execution_count": 21,
   "id": "27775b9e",
   "metadata": {
    "ExecuteTime": {
     "end_time": "2022-10-12T17:29:47.904453Z",
     "start_time": "2022-10-12T17:29:47.842468Z"
    }
   },
   "outputs": [],
   "source": [
    "import matplotlib.pyplot as plt"
   ]
  },
  {
   "cell_type": "code",
   "execution_count": 22,
   "id": "2400e067",
   "metadata": {
    "ExecuteTime": {
     "end_time": "2022-10-12T17:29:48.325628Z",
     "start_time": "2022-10-12T17:29:48.144794Z"
    }
   },
   "outputs": [
    {
     "data": {
      "text/plain": [
       "[<matplotlib.lines.Line2D at 0x7f8a604a1f40>]"
      ]
     },
     "execution_count": 22,
     "metadata": {},
     "output_type": "execute_result"
    },
    {
     "data": {
      "image/png": "[encoded data removed]",
      "text/plain": [
       "<Figure size 432x288 with 1 Axes>"
      ]
     },
     "metadata": {
      "needs_background": "light"
     },
     "output_type": "display_data"
    }
   ],
   "source": [
    "plt.plot(fort63._ptr[\"zeta\"][:, 3333])"
   ]
  },
  {
   "cell_type": "code",
   "execution_count": 35,
   "id": "2e4abfb0",
   "metadata": {
    "ExecuteTime": {
     "end_time": "2022-10-12T18:12:57.991062Z",
     "start_time": "2022-10-12T18:12:57.569596Z"
    }
   },
   "outputs": [
    {
     "data": {
      "text/plain": [
       "[<matplotlib.lines.Line2D at 0x7f8a608909d0>]"
      ]
     },
     "execution_count": 35,
     "metadata": {},
     "output_type": "execute_result"
    },
    {
     "data": {
      "image/png": "[encoded data removed]",
      "text/plain": [
       "<Figure size 432x288 with 1 Axes>"
      ]
     },
     "metadata": {
      "needs_background": "light"
     },
     "output_type": "display_data"
    }
   ],
   "source": [
    "plt.plot(fort63._ptr[\"zeta\"][:, indices][:, 27])"
   ]
  },
  {
   "cell_type": "code",
   "execution_count": 42,
   "id": "d6c93158",
   "metadata": {
    "ExecuteTime": {
     "end_time": "2022-10-12T18:21:34.175214Z",
     "start_time": "2022-10-12T18:21:33.842263Z"
    }
   },
   "outputs": [
    {
     "data": {
      "text/plain": [
       "(84,)"
      ]
     },
     "execution_count": 42,
     "metadata": {},
     "output_type": "execute_result"
    }
   ],
   "source": [
    "fort63._ptr[\"zeta\"][:, indices][::3, 27].shape"
   ]
  },
  {
   "cell_type": "code",
   "execution_count": 43,
   "id": "11f4cc6f",
   "metadata": {
    "ExecuteTime": {
     "end_time": "2022-10-12T18:22:09.393426Z",
     "start_time": "2022-10-12T18:22:09.331924Z"
    }
   },
   "outputs": [
    {
     "data": {
      "text/plain": [
       "<class 'netCDF4._netCDF4.Variable'>\n",
       "float64 time(time)\n",
       "    long_name: model time\n",
       "    standard_name: time\n",
       "    units: seconds since 2020-04-28 00:00:00\n",
       "    base_date: 2020-04-28 00:00:00\n",
       "unlimited dimensions: time\n",
       "current shape = (252,)\n",
       "filling on, default _FillValue of 9.969209968386869e+36 used"
      ]
     },
     "execution_count": 43,
     "metadata": {},
     "output_type": "execute_result"
    }
   ],
   "source": [
    "fort63._ptr[\"time\"]"
   ]
  },
  {
   "cell_type": "code",
   "execution_count": 36,
   "id": "4b3edbfa",
   "metadata": {
    "ExecuteTime": {
     "end_time": "2022-10-12T18:19:28.893510Z",
     "start_time": "2022-10-12T18:19:28.810464Z"
    }
   },
   "outputs": [],
   "source": [
    "from src.constants import DATA_PATH"
   ]
  },
  {
   "cell_type": "code",
   "execution_count": 37,
   "id": "69fa3aad",
   "metadata": {
    "ExecuteTime": {
     "end_time": "2022-10-12T18:19:43.278004Z",
     "start_time": "2022-10-12T18:19:43.235334Z"
    }
   },
   "outputs": [],
   "source": [
    "import xarray as xr"
   ]
  },
  {
   "cell_type": "code",
   "execution_count": 39,
   "id": "6928f7b9",
   "metadata": {
    "ExecuteTime": {
     "end_time": "2022-10-12T18:20:26.990983Z",
     "start_time": "2022-10-12T18:20:26.804504Z"
    }
   },
   "outputs": [
    {
     "name": "stderr",
     "output_type": "stream",
     "text": [
      "/Users/simon/new-orleans/env/lib/python3.8/site-packages/xarray/backends/plugins.py:64: RuntimeWarning: Engine 'cfgrib' loading failed:\n",
      "Cannot find the ecCodes library\n",
      "  warnings.warn(f\"Engine {name!r} loading failed:\\n{ex}\", RuntimeWarning)\n"
     ]
    },
    {
     "data": {
      "text/html": [
       "<div><svg style=\"position: absolute; width: 0; height: 0; overflow: hidden\">\n",
       "<defs>\n",
       "<symbol id=\"icon-database\" viewBox=\"0 0 32 32\">\n",
       "<path d=\"M16 0c-8.837 0-16 2.239-16 5v4c0 2.761 7.163 5 16 5s16-2.239 16-5v-4c0-2.761-7.163-5-16-5z\"></path>\n",
       "<path d=\"M16 17c-8.837 0-16-2.239-16-5v6c0 2.761 7.163 5 16 5s16-2.239 16-5v-6c0 2.761-7.163 5-16 5z\"></path>\n",
       "<path d=\"M16 26c-8.837 0-16-2.239-16-5v6c0 2.761 7.163 5 16 5s16-2.239 16-5v-6c0 2.761-7.163 5-16 5z\"></path>\n",
       "</symbol>\n",
       "<symbol id=\"icon-file-text2\" viewBox=\"0 0 32 32\">\n",
       "<path d=\"M28.681 7.159c-0.694-0.947-1.662-2.053-2.724-3.116s-2.169-2.030-3.116-2.724c-1.612-1.182-2.393-1.319-2.841-1.319h-15.5c-1.378 0-2.5 1.121-2.5 2.5v27c0 1.378 1.122 2.5 2.5 2.5h23c1.378 0 2.5-1.122 2.5-2.5v-19.5c0-0.448-0.137-1.23-1.319-2.841zM24.543 5.457c0.959 0.959 1.712 1.825 2.268 2.543h-4.811v-4.811c0.718 0.556 1.584 1.309 2.543 2.268zM28 29.5c0 0.271-0.229 0.5-0.5 0.5h-23c-0.271 0-0.5-0.229-0.5-0.5v-27c0-0.271 0.229-0.5 0.5-0.5 0 0 15.499-0 15.5 0v7c0 0.552 0.448 1 1 1h7v19.5z\"></path>\n",
       "<path d=\"M23 26h-14c-0.552 0-1-0.448-1-1s0.448-1 1-1h14c0.552 0 1 0.448 1 1s-0.448 1-1 1z\"></path>\n",
       "<path d=\"M23 22h-14c-0.552 0-1-0.448-1-1s0.448-1 1-1h14c0.552 0 1 0.448 1 1s-0.448 1-1 1z\"></path>\n",
       "<path d=\"M23 18h-14c-0.552 0-1-0.448-1-1s0.448-1 1-1h14c0.552 0 1 0.448 1 1s-0.448 1-1 1z\"></path>\n",
       "</symbol>\n",
       "</defs>\n",
       "</svg>\n",
       "<style>/* CSS stylesheet for displaying xarray objects in jupyterlab.\n",
       " *\n",
       " */\n",
       "\n",
       ":root {\n",
       "  --xr-font-color0: var(--jp-content-font-color0, rgba(0, 0, 0, 1));\n",
       "  --xr-font-color2: var(--jp-content-font-color2, rgba(0, 0, 0, 0.54));\n",
       "  --xr-font-color3: var(--jp-content-font-color3, rgba(0, 0, 0, 0.38));\n",
       "  --xr-border-color: var(--jp-border-color2, #e0e0e0);\n",
       "  --xr-disabled-color: var(--jp-layout-color3, #bdbdbd);\n",
       "  --xr-background-color: var(--jp-layout-color0, white);\n",
       "  --xr-background-color-row-even: var(--jp-layout-color1, white);\n",
       "  --xr-background-color-row-odd: var(--jp-layout-color2, #eeeeee);\n",
       "}\n",
       "\n",
       "html[theme=dark],\n",
       "body[data-theme=dark],\n",
       "body.vscode-dark {\n",
       "  --xr-font-color0: rgba(255, 255, 255, 1);\n",
       "  --xr-font-color2: rgba(255, 255, 255, 0.54);\n",
       "  --xr-font-color3: rgba(255, 255, 255, 0.38);\n",
       "  --xr-border-color: #1F1F1F;\n",
       "  --xr-disabled-color: #515151;\n",
       "  --xr-background-color: #111111;\n",
       "  --xr-background-color-row-even: #111111;\n",
       "  --xr-background-color-row-odd: #313131;\n",
       "}\n",
       "\n",
       ".xr-wrap {\n",
       "  display: block !important;\n",
       "  min-width: 300px;\n",
       "  max-width: 700px;\n",
       "}\n",
       "\n",
       ".xr-text-repr-fallback {\n",
       "  /* fallback to plain text repr when CSS is not injected (untrusted notebook) */\n",
       "  display: none;\n",
       "}\n",
       "\n",
       ".xr-header {\n",
       "  padding-top: 6px;\n",
       "  padding-bottom: 6px;\n",
       "  margin-bottom: 4px;\n",
       "  border-bottom: solid 1px var(--xr-border-color);\n",
       "}\n",
       "\n",
       ".xr-header > div,\n",
       ".xr-header > ul {\n",
       "  display: inline;\n",
       "  margin-top: 0;\n",
       "  margin-bottom: 0;\n",
       "}\n",
       "\n",
       ".xr-obj-type,\n",
       ".xr-array-name {\n",
       "  margin-left: 2px;\n",
       "  margin-right: 10px;\n",
       "}\n",
       "\n",
       ".xr-obj-type {\n",
       "  color: var(--xr-font-color2);\n",
       "}\n",
       "\n",
       ".xr-sections {\n",
       "  padding-left: 0 !important;\n",
       "  display: grid;\n",
       "  grid-template-columns: 150px auto auto 1fr 20px 20px;\n",
       "}\n",
       "\n",
       ".xr-section-item {\n",
       "  display: contents;\n",
       "}\n",
       "\n",
       ".xr-section-item input {\n",
       "  display: none;\n",
       "}\n",
       "\n",
       ".xr-section-item input + label {\n",
       "  color: var(--xr-disabled-color);\n",
       "}\n",
       "\n",
       ".xr-section-item input:enabled + label {\n",
       "  cursor: pointer;\n",
       "  color: var(--xr-font-color2);\n",
       "}\n",
       "\n",
       ".xr-section-item input:enabled + label:hover {\n",
       "  color: var(--xr-font-color0);\n",
       "}\n",
       "\n",
       ".xr-section-summary {\n",
       "  grid-column: 1;\n",
       "  color: var(--xr-font-color2);\n",
       "  font-weight: 500;\n",
       "}\n",
       "\n",
       ".xr-section-summary > span {\n",
       "  display: inline-block;\n",
       "  padding-left: 0.5em;\n",
       "}\n",
       "\n",
       ".xr-section-summary-in:disabled + label {\n",
       "  color: var(--xr-font-color2);\n",
       "}\n",
       "\n",
       ".xr-section-summary-in + label:before {\n",
       "  display: inline-block;\n",
       "  content: '►';\n",
       "  font-size: 11px;\n",
       "  width: 15px;\n",
       "  text-align: center;\n",
       "}\n",
       "\n",
       ".xr-section-summary-in:disabled + label:before {\n",
       "  color: var(--xr-disabled-color);\n",
       "}\n",
       "\n",
       ".xr-section-summary-in:checked + label:before {\n",
       "  content: '▼';\n",
       "}\n",
       "\n",
       ".xr-section-summary-in:checked + label > span {\n",
       "  display: none;\n",
       "}\n",
       "\n",
       ".xr-section-summary,\n",
       ".xr-section-inline-details {\n",
       "  padding-top: 4px;\n",
       "  padding-bottom: 4px;\n",
       "}\n",
       "\n",
       ".xr-section-inline-details {\n",
       "  grid-column: 2 / -1;\n",
       "}\n",
       "\n",
       ".xr-section-details {\n",
       "  display: none;\n",
       "  grid-column: 1 / -1;\n",
       "  margin-bottom: 5px;\n",
       "}\n",
       "\n",
       ".xr-section-summary-in:checked ~ .xr-section-details {\n",
       "  display: contents;\n",
       "}\n",
       "\n",
       ".xr-array-wrap {\n",
       "  grid-column: 1 / -1;\n",
       "  display: grid;\n",
       "  grid-template-columns: 20px auto;\n",
       "}\n",
       "\n",
       ".xr-array-wrap > label {\n",
       "  grid-column: 1;\n",
       "  vertical-align: top;\n",
       "}\n",
       "\n",
       ".xr-preview {\n",
       "  color: var(--xr-font-color3);\n",
       "}\n",
       "\n",
       ".xr-array-preview,\n",
       ".xr-array-data {\n",
       "  padding: 0 5px !important;\n",
       "  grid-column: 2;\n",
       "}\n",
       "\n",
       ".xr-array-data,\n",
       ".xr-array-in:checked ~ .xr-array-preview {\n",
       "  display: none;\n",
       "}\n",
       "\n",
       ".xr-array-in:checked ~ .xr-array-data,\n",
       ".xr-array-preview {\n",
       "  display: inline-block;\n",
       "}\n",
       "\n",
       ".xr-dim-list {\n",
       "  display: inline-block !important;\n",
       "  list-style: none;\n",
       "  padding: 0 !important;\n",
       "  margin: 0;\n",
       "}\n",
       "\n",
       ".xr-dim-list li {\n",
       "  display: inline-block;\n",
       "  padding: 0;\n",
       "  margin: 0;\n",
       "}\n",
       "\n",
       ".xr-dim-list:before {\n",
       "  content: '(';\n",
       "}\n",
       "\n",
       ".xr-dim-list:after {\n",
       "  content: ')';\n",
       "}\n",
       "\n",
       ".xr-dim-list li:not(:last-child):after {\n",
       "  content: ',';\n",
       "  padding-right: 5px;\n",
       "}\n",
       "\n",
       ".xr-has-index {\n",
       "  font-weight: bold;\n",
       "}\n",
       "\n",
       ".xr-var-list,\n",
       ".xr-var-item {\n",
       "  display: contents;\n",
       "}\n",
       "\n",
       ".xr-var-item > div,\n",
       ".xr-var-item label,\n",
       ".xr-var-item > .xr-var-name span {\n",
       "  background-color: var(--xr-background-color-row-even);\n",
       "  margin-bottom: 0;\n",
       "}\n",
       "\n",
       ".xr-var-item > .xr-var-name:hover span {\n",
       "  padding-right: 5px;\n",
       "}\n",
       "\n",
       ".xr-var-list > li:nth-child(odd) > div,\n",
       ".xr-var-list > li:nth-child(odd) > label,\n",
       ".xr-var-list > li:nth-child(odd) > .xr-var-name span {\n",
       "  background-color: var(--xr-background-color-row-odd);\n",
       "}\n",
       "\n",
       ".xr-var-name {\n",
       "  grid-column: 1;\n",
       "}\n",
       "\n",
       ".xr-var-dims {\n",
       "  grid-column: 2;\n",
       "}\n",
       "\n",
       ".xr-var-dtype {\n",
       "  grid-column: 3;\n",
       "  text-align: right;\n",
       "  color: var(--xr-font-color2);\n",
       "}\n",
       "\n",
       ".xr-var-preview {\n",
       "  grid-column: 4;\n",
       "}\n",
       "\n",
       ".xr-var-name,\n",
       ".xr-var-dims,\n",
       ".xr-var-dtype,\n",
       ".xr-preview,\n",
       ".xr-attrs dt {\n",
       "  white-space: nowrap;\n",
       "  overflow: hidden;\n",
       "  text-overflow: ellipsis;\n",
       "  padding-right: 10px;\n",
       "}\n",
       "\n",
       ".xr-var-name:hover,\n",
       ".xr-var-dims:hover,\n",
       ".xr-var-dtype:hover,\n",
       ".xr-attrs dt:hover {\n",
       "  overflow: visible;\n",
       "  width: auto;\n",
       "  z-index: 1;\n",
       "}\n",
       "\n",
       ".xr-var-attrs,\n",
       ".xr-var-data {\n",
       "  display: none;\n",
       "  background-color: var(--xr-background-color) !important;\n",
       "  padding-bottom: 5px !important;\n",
       "}\n",
       "\n",
       ".xr-var-attrs-in:checked ~ .xr-var-attrs,\n",
       ".xr-var-data-in:checked ~ .xr-var-data {\n",
       "  display: block;\n",
       "}\n",
       "\n",
       ".xr-var-data > table {\n",
       "  float: right;\n",
       "}\n",
       "\n",
       ".xr-var-name span,\n",
       ".xr-var-data,\n",
       ".xr-attrs {\n",
       "  padding-left: 25px !important;\n",
       "}\n",
       "\n",
       ".xr-attrs,\n",
       ".xr-var-attrs,\n",
       ".xr-var-data {\n",
       "  grid-column: 1 / -1;\n",
       "}\n",
       "\n",
       "dl.xr-attrs {\n",
       "  padding: 0;\n",
       "  margin: 0;\n",
       "  display: grid;\n",
       "  grid-template-columns: 125px auto;\n",
       "}\n",
       "\n",
       ".xr-attrs dt,\n",
       ".xr-attrs dd {\n",
       "  padding: 0;\n",
       "  margin: 0;\n",
       "  float: left;\n",
       "  padding-right: 10px;\n",
       "  width: auto;\n",
       "}\n",
       "\n",
       ".xr-attrs dt {\n",
       "  font-weight: normal;\n",
       "  grid-column: 1;\n",
       "}\n",
       "\n",
       ".xr-attrs dt:hover span {\n",
       "  display: inline-block;\n",
       "  background: var(--xr-background-color);\n",
       "  padding-right: 10px;\n",
       "}\n",
       "\n",
       ".xr-attrs dd {\n",
       "  grid-column: 2;\n",
       "  white-space: pre-wrap;\n",
       "  word-break: break-all;\n",
       "}\n",
       "\n",
       ".xr-icon-database,\n",
       ".xr-icon-file-text2 {\n",
       "  display: inline-block;\n",
       "  vertical-align: middle;\n",
       "  width: 1em;\n",
       "  height: 1.5em !important;\n",
       "  stroke-width: 0;\n",
       "  stroke: currentColor;\n",
       "  fill: currentColor;\n",
       "}\n",
       "</style><pre class='xr-text-repr-fallback'>&lt;xarray.DataArray (time: 56, lat: 46, lon: 60)&gt;\n",
       "[154560 values with dtype=float64]\n",
       "Coordinates:\n",
       "  * lon      (lon) float64 -90.28 -90.23 -90.18 -90.13 ... -87.43 -87.38 -87.33\n",
       "  * lat      (lat) float64 28.6 28.65 28.7 28.75 28.8 ... 30.7 30.75 30.8 30.85\n",
       "  * time     (time) datetime64[ns] 2005-08-25 ... 2005-08-31T21:00:00\n",
       "Attributes:\n",
       "    long_name:    Pressure\n",
       "    description:  Surface pressure\n",
       "    units:        mb</pre><div class='xr-wrap' style='display:none'><div class='xr-header'><div class='xr-obj-type'>xarray.DataArray</div><div class='xr-array-name'></div><ul class='xr-dim-list'><li><span class='xr-has-index'>time</span>: 56</li><li><span class='xr-has-index'>lat</span>: 46</li><li><span class='xr-has-index'>lon</span>: 60</li></ul></div><ul class='xr-sections'><li class='xr-section-item'><div class='xr-array-wrap'><input id='section-f606b779-b4dd-4499-9000-88a68beb3b08' class='xr-array-in' type='checkbox' checked><label for='section-f606b779-b4dd-4499-9000-88a68beb3b08' title='Show/hide data repr'><svg class='icon xr-icon-database'><use xlink:href='#icon-database'></use></svg></label><div class='xr-array-preview xr-preview'><span>...</span></div><div class='xr-array-data'><pre>[154560 values with dtype=float64]</pre></div></div></li><li class='xr-section-item'><input id='section-7e5511f2-13c8-4816-9df2-4a83468d9a2d' class='xr-section-summary-in' type='checkbox'  checked><label for='section-7e5511f2-13c8-4816-9df2-4a83468d9a2d' class='xr-section-summary' >Coordinates: <span>(3)</span></label><div class='xr-section-inline-details'></div><div class='xr-section-details'><ul class='xr-var-list'><li class='xr-var-item'><div class='xr-var-name'><span class='xr-has-index'>lon</span></div><div class='xr-var-dims'>(lon)</div><div class='xr-var-dtype'>float64</div><div class='xr-var-preview xr-preview'>-90.28 -90.23 ... -87.38 -87.33</div><input id='attrs-9c0bacf8-91fd-401b-922c-56c6d7544388' class='xr-var-attrs-in' type='checkbox' ><label for='attrs-9c0bacf8-91fd-401b-922c-56c6d7544388' title='Show/Hide attributes'><svg class='icon xr-icon-file-text2'><use xlink:href='#icon-file-text2'></use></svg></label><input id='data-cf726c69-77f5-4a67-9412-3afd3d81d414' class='xr-var-data-in' type='checkbox'><label for='data-cf726c69-77f5-4a67-9412-3afd3d81d414' title='Show/Hide data repr'><svg class='icon xr-icon-database'><use xlink:href='#icon-database'></use></svg></label><div class='xr-var-attrs'><dl class='xr-attrs'><dt><span>units :</span></dt><dd>degree_East</dd><dt><span>long_name :</span></dt><dd>Longitude</dd></dl></div><div class='xr-var-data'><pre>array([-90.28, -90.23, -90.18, -90.13, -90.08, -90.03, -89.98, -89.93, -89.88,\n",
       "       -89.83, -89.78, -89.73, -89.68, -89.63, -89.58, -89.53, -89.48, -89.43,\n",
       "       -89.38, -89.33, -89.28, -89.23, -89.18, -89.13, -89.08, -89.03, -88.98,\n",
       "       -88.93, -88.88, -88.83, -88.78, -88.73, -88.68, -88.63, -88.58, -88.53,\n",
       "       -88.48, -88.43, -88.38, -88.33, -88.28, -88.23, -88.18, -88.13, -88.08,\n",
       "       -88.03, -87.98, -87.93, -87.88, -87.83, -87.78, -87.73, -87.68, -87.63,\n",
       "       -87.58, -87.53, -87.48, -87.43, -87.38, -87.33])</pre></div></li><li class='xr-var-item'><div class='xr-var-name'><span class='xr-has-index'>lat</span></div><div class='xr-var-dims'>(lat)</div><div class='xr-var-dtype'>float64</div><div class='xr-var-preview xr-preview'>28.6 28.65 28.7 ... 30.8 30.85</div><input id='attrs-af9cc65f-c984-4636-a2bc-802ee64395ea' class='xr-var-attrs-in' type='checkbox' ><label for='attrs-af9cc65f-c984-4636-a2bc-802ee64395ea' title='Show/Hide attributes'><svg class='icon xr-icon-file-text2'><use xlink:href='#icon-file-text2'></use></svg></label><input id='data-9a762a72-6e32-4f6e-abac-1be55626fb32' class='xr-var-data-in' type='checkbox'><label for='data-9a762a72-6e32-4f6e-abac-1be55626fb32' title='Show/Hide data repr'><svg class='icon xr-icon-database'><use xlink:href='#icon-database'></use></svg></label><div class='xr-var-attrs'><dl class='xr-attrs'><dt><span>units :</span></dt><dd>degree_North</dd><dt><span>long_name :</span></dt><dd>Latitude</dd></dl></div><div class='xr-var-data'><pre>array([28.6 , 28.65, 28.7 , 28.75, 28.8 , 28.85, 28.9 , 28.95, 29.  , 29.05,\n",
       "       29.1 , 29.15, 29.2 , 29.25, 29.3 , 29.35, 29.4 , 29.45, 29.5 , 29.55,\n",
       "       29.6 , 29.65, 29.7 , 29.75, 29.8 , 29.85, 29.9 , 29.95, 30.  , 30.05,\n",
       "       30.1 , 30.15, 30.2 , 30.25, 30.3 , 30.35, 30.4 , 30.45, 30.5 , 30.55,\n",
       "       30.6 , 30.65, 30.7 , 30.75, 30.8 , 30.85])</pre></div></li><li class='xr-var-item'><div class='xr-var-name'><span class='xr-has-index'>time</span></div><div class='xr-var-dims'>(time)</div><div class='xr-var-dtype'>datetime64[ns]</div><div class='xr-var-preview xr-preview'>2005-08-25 ... 2005-08-31T21:00:00</div><input id='attrs-85138605-279c-4970-9b5b-7ec69f3859e0' class='xr-var-attrs-in' type='checkbox' disabled><label for='attrs-85138605-279c-4970-9b5b-7ec69f3859e0' title='Show/Hide attributes'><svg class='icon xr-icon-file-text2'><use xlink:href='#icon-file-text2'></use></svg></label><input id='data-56c2a336-6154-4b8a-9595-f59de148c3af' class='xr-var-data-in' type='checkbox'><label for='data-56c2a336-6154-4b8a-9595-f59de148c3af' title='Show/Hide data repr'><svg class='icon xr-icon-database'><use xlink:href='#icon-database'></use></svg></label><div class='xr-var-attrs'><dl class='xr-attrs'></dl></div><div class='xr-var-data'><pre>array([&#x27;2005-08-25T00:00:00.000000000&#x27;, &#x27;2005-08-25T03:00:00.000000000&#x27;,\n",
       "       &#x27;2005-08-25T06:00:00.000000000&#x27;, &#x27;2005-08-25T09:00:00.000000000&#x27;,\n",
       "       &#x27;2005-08-25T12:00:00.000000000&#x27;, &#x27;2005-08-25T15:00:00.000000000&#x27;,\n",
       "       &#x27;2005-08-25T18:00:00.000000000&#x27;, &#x27;2005-08-25T21:00:00.000000000&#x27;,\n",
       "       &#x27;2005-08-26T00:00:00.000000000&#x27;, &#x27;2005-08-26T03:00:00.000000000&#x27;,\n",
       "       &#x27;2005-08-26T06:00:00.000000000&#x27;, &#x27;2005-08-26T09:00:00.000000000&#x27;,\n",
       "       &#x27;2005-08-26T12:00:00.000000000&#x27;, &#x27;2005-08-26T15:00:00.000000000&#x27;,\n",
       "       &#x27;2005-08-26T18:00:00.000000000&#x27;, &#x27;2005-08-26T21:00:00.000000000&#x27;,\n",
       "       &#x27;2005-08-27T00:00:00.000000000&#x27;, &#x27;2005-08-27T03:00:00.000000000&#x27;,\n",
       "       &#x27;2005-08-27T06:00:00.000000000&#x27;, &#x27;2005-08-27T09:00:00.000000000&#x27;,\n",
       "       &#x27;2005-08-27T12:00:00.000000000&#x27;, &#x27;2005-08-27T15:00:00.000000000&#x27;,\n",
       "       &#x27;2005-08-27T18:00:00.000000000&#x27;, &#x27;2005-08-27T21:00:00.000000000&#x27;,\n",
       "       &#x27;2005-08-28T00:00:00.000000000&#x27;, &#x27;2005-08-28T03:00:00.000000000&#x27;,\n",
       "       &#x27;2005-08-28T06:00:00.000000000&#x27;, &#x27;2005-08-28T09:00:00.000000000&#x27;,\n",
       "       &#x27;2005-08-28T12:00:00.000000000&#x27;, &#x27;2005-08-28T15:00:00.000000000&#x27;,\n",
       "       &#x27;2005-08-28T18:00:00.000000000&#x27;, &#x27;2005-08-28T21:00:00.000000000&#x27;,\n",
       "       &#x27;2005-08-29T00:00:00.000000000&#x27;, &#x27;2005-08-29T03:00:00.000000000&#x27;,\n",
       "       &#x27;2005-08-29T06:00:00.000000000&#x27;, &#x27;2005-08-29T09:00:00.000000000&#x27;,\n",
       "       &#x27;2005-08-29T12:00:00.000000000&#x27;, &#x27;2005-08-29T15:00:00.000000000&#x27;,\n",
       "       &#x27;2005-08-29T18:00:00.000000000&#x27;, &#x27;2005-08-29T21:00:00.000000000&#x27;,\n",
       "       &#x27;2005-08-30T00:00:00.000000000&#x27;, &#x27;2005-08-30T03:00:00.000000000&#x27;,\n",
       "       &#x27;2005-08-30T06:00:00.000000000&#x27;, &#x27;2005-08-30T09:00:00.000000000&#x27;,\n",
       "       &#x27;2005-08-30T12:00:00.000000000&#x27;, &#x27;2005-08-30T15:00:00.000000000&#x27;,\n",
       "       &#x27;2005-08-30T18:00:00.000000000&#x27;, &#x27;2005-08-30T21:00:00.000000000&#x27;,\n",
       "       &#x27;2005-08-31T00:00:00.000000000&#x27;, &#x27;2005-08-31T03:00:00.000000000&#x27;,\n",
       "       &#x27;2005-08-31T06:00:00.000000000&#x27;, &#x27;2005-08-31T09:00:00.000000000&#x27;,\n",
       "       &#x27;2005-08-31T12:00:00.000000000&#x27;, &#x27;2005-08-31T15:00:00.000000000&#x27;,\n",
       "       &#x27;2005-08-31T18:00:00.000000000&#x27;, &#x27;2005-08-31T21:00:00.000000000&#x27;],\n",
       "      dtype=&#x27;datetime64[ns]&#x27;)</pre></div></li></ul></div></li><li class='xr-section-item'><input id='section-6cca94d9-5229-4efb-90d7-16ce80acbd4c' class='xr-section-summary-in' type='checkbox'  checked><label for='section-6cca94d9-5229-4efb-90d7-16ce80acbd4c' class='xr-section-summary' >Attributes: <span>(3)</span></label><div class='xr-section-inline-details'></div><div class='xr-section-details'><dl class='xr-attrs'><dt><span>long_name :</span></dt><dd>Pressure</dd><dt><span>description :</span></dt><dd>Surface pressure</dd><dt><span>units :</span></dt><dd>mb</dd></dl></div></li></ul></div></div>"
      ],
      "text/plain": [
       "<xarray.DataArray (time: 56, lat: 46, lon: 60)>\n",
       "[154560 values with dtype=float64]\n",
       "Coordinates:\n",
       "  * lon      (lon) float64 -90.28 -90.23 -90.18 -90.13 ... -87.43 -87.38 -87.33\n",
       "  * lat      (lat) float64 28.6 28.65 28.7 28.75 28.8 ... 30.7 30.75 30.8 30.85\n",
       "  * time     (time) datetime64[ns] 2005-08-25 ... 2005-08-31T21:00:00\n",
       "Attributes:\n",
       "    long_name:    Pressure\n",
       "    description:  Surface pressure\n",
       "    units:        mb"
      ]
     },
     "execution_count": 39,
     "metadata": {},
     "output_type": "execute_result"
    }
   ],
   "source": [
    "xr.open_dataarray(os.path.join(DATA_PATH, \"fort.217.nc\"))[:, :, 0]"
   ]
  },
  {
   "cell_type": "code",
   "execution_count": 27,
   "id": "f766955b",
   "metadata": {
    "ExecuteTime": {
     "end_time": "2022-10-12T18:08:36.671423Z",
     "start_time": "2022-10-12T18:08:36.525360Z"
    }
   },
   "outputs": [
    {
     "data": {
      "text/plain": [
       "<matplotlib.animation.FuncAnimation at 0x7f8a68e9a580>"
      ]
     },
     "execution_count": 27,
     "metadata": {},
     "output_type": "execute_result"
    },
    {
     "data": {
      "image/png": "[encoded data removed]",
      "text/plain": [
       "<Figure size 432x288 with 1 Axes>"
      ]
     },
     "metadata": {
      "needs_background": "light"
     },
     "output_type": "display_data"
    }
   ],
   "source": [
    "fort63.animation(start_frame=0, end_frame=200)"
   ]
  },
  {
   "cell_type": "code",
   "execution_count": 33,
   "id": "56e8e4da",
   "metadata": {
    "ExecuteTime": {
     "end_time": "2022-10-12T18:12:29.814848Z",
     "start_time": "2022-10-12T18:12:29.743367Z"
    }
   },
   "outputs": [],
   "source": [
    "import numpy as np\n",
    "from src.constants import NO_BBOX\n",
    "\n",
    "\n",
    "@np.vectorize\n",
    "def indices_in_bbox(lon, lat):\n",
    "    return (\n",
    "        lon > NO_BBOX.lon[0]\n",
    "        and lon < NO_BBOX.lon[1]\n",
    "        and lat > NO_BBOX.lat[0]\n",
    "        and lat < NO_BBOX.lat[1]\n",
    "    )\n",
    "\n",
    "\n",
    "indices = indices_in_bbox(fort63.x, fort63.y)"
   ]
  },
  {
   "cell_type": "code",
   "execution_count": 34,
   "id": "bc7a3954",
   "metadata": {
    "ExecuteTime": {
     "end_time": "2022-10-12T18:12:33.506313Z",
     "start_time": "2022-10-12T18:12:33.466696Z"
    }
   },
   "outputs": [
    {
     "data": {
      "text/plain": [
       "array([False, False, False, ..., False, False, False])"
      ]
     },
     "execution_count": 34,
     "metadata": {},
     "output_type": "execute_result"
    }
   ],
   "source": [
    "indices"
   ]
  },
  {
   "cell_type": "code",
   "execution_count": null,
   "id": "6c163057",
   "metadata": {},
   "outputs": [],
   "source": []
  }
 ],
 "metadata": {
  "hide_input": false,
  "kernelspec": {
   "display_name": "Python 3 (ipykernel)",
   "language": "python",
   "name": "python3"
  },
  "language_info": {
   "codemirror_mode": {
    "name": "ipython",
    "version": 3
   },
   "file_extension": ".py",
   "mimetype": "text/x-python",
   "name": "python",
   "nbconvert_exporter": "python",
   "pygments_lexer": "ipython3",
   "version": "3.8.13"
  },
  "varInspector": {
   "cols": {
    "lenName": 16,
    "lenType": 16,
    "lenVar": 40
   },
   "kernels_config": {
    "python": {
     "delete_cmd_postfix": "",
     "delete_cmd_prefix": "del ",
     "library": "var_list.py",
     "varRefreshCmd": "print(var_dic_list())"
    },
    "r": {
     "delete_cmd_postfix": ") ",
     "delete_cmd_prefix": "rm(",
     "library": "var_list.r",
     "varRefreshCmd": "cat(var_dic_list()) "
    }
   },
   "types_to_exclude": [
    "module",
    "function",
    "builtin_function_or_method",
    "instance",
    "_Feature"
   ],
   "window_display": false
  }
 },
 "nbformat": 4,
 "nbformat_minor": 5
}
