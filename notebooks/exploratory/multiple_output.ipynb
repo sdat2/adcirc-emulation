{
 "cells": [
  {
   "attachments": {},
   "cell_type": "markdown",
   "id": "f08728a1",
   "metadata": {},
   "source": [
    "# Multiple output"
   ]
  },
  {
   "cell_type": "code",
   "execution_count": 1,
   "id": "57948443",
   "metadata": {
    "ExecuteTime": {
     "end_time": "2022-11-22T18:01:18.984066Z",
     "start_time": "2022-11-22T18:01:18.972070Z"
    }
   },
   "outputs": [
    {
     "name": "stderr",
     "output_type": "stream",
     "text": [
      "/Users/simon/new-orleans/env/lib/python3.8/site-packages/xarray/backends/cfgrib_.py:29: UserWarning: Failed to load cfgrib - most likely there is a problem accessing the ecCodes library. Try `import cfgrib` to get the full error message\n",
      "  warnings.warn(\n",
      "/Users/simon/new-orleans/env/lib/python3.8/site-packages/geopandas/_compat.py:112: UserWarning: The Shapely GEOS version (3.10.2-CAPI-1.16.0) is incompatible with the GEOS version PyGEOS was compiled with (3.10.3-CAPI-1.16.1). Conversions between both will be slow.\n",
      "  warnings.warn(\n"
     ]
    }
   ],
   "source": [
    "import os\n",
    "from src.data_loading.adcirc import read_pressures\n",
    "from src.constants import KAT_EX_PATH\n",
    "from sithom.plot import plot_defaults, label_subplots\n",
    "plot_defaults()"
   ]
  },
  {
   "cell_type": "code",
   "execution_count": 1,
   "id": "9a8ad209",
   "metadata": {},
   "outputs": [
    {
     "name": "stderr",
     "output_type": "stream",
     "text": [
      "/Users/simon/new-orleans/env/lib/python3.8/site-packages/xarray/backends/cfgrib_.py:29: UserWarning: Failed to load cfgrib - most likely there is a problem accessing the ecCodes library. Try `import cfgrib` to get the full error message\n",
      "  warnings.warn(\n"
     ]
    }
   ],
   "source": [
    "from sithom.place import BoundingBox\n",
    "from src.constants import NEW_ORLEANS, NO_BBOX"
   ]
  },
  {
   "cell_type": "code",
   "execution_count": 4,
   "id": "c6852250",
   "metadata": {},
   "outputs": [],
   "source": [
    "import os\n",
    "from adcircpy.outputs import Maxele\n",
    "from src.constants import DATA_PATH, KAT_EX_PATH\n",
    "path = os.path.join(KAT_EX_PATH, \"maxele.63.nc\")\n",
    "maxele = Maxele(path, crs=\"EPSG:4326\")"
   ]
  },
  {
   "cell_type": "code",
   "execution_count": 9,
   "id": "57123542",
   "metadata": {},
   "outputs": [],
   "source": [
    "indices = NO_BBOX.indices_inside(maxele.x, maxele.y)\n",
    "v = maxele.values[indices]\n",
    "x = maxele.x[indices]\n",
    "y = maxele.y[indices]"
   ]
  },
  {
   "cell_type": "code",
   "execution_count": 15,
   "id": "0b22589e",
   "metadata": {},
   "outputs": [
    {
     "data": {
      "text/plain": [
       "<matplotlib.colorbar.Colorbar at 0x7fe5dad78160>"
      ]
     },
     "execution_count": 15,
     "metadata": {},
     "output_type": "execute_result"
    },
    {
     "data": {
      "image/png": "[encoded data removed]",
      "text/plain": [
       "<Figure size 432x288 with 2 Axes>"
      ]
     },
     "metadata": {
      "needs_background": "light"
     },
     "output_type": "display_data"
    }
   ],
   "source": [
    "import matplotlib.pyplot as plt\n",
    "x = x[:100]\n",
    "y = y[:100]\n",
    "v = v[:100]\n",
    "plt.scatter(x, y, c=[i for i in range(len(x))], s=5)\n",
    "plt.colorbar()"
   ]
  },
  {
   "cell_type": "code",
   "execution_count": 16,
   "id": "c309859a",
   "metadata": {},
   "outputs": [
    {
     "data": {
      "text/plain": [
       "<matplotlib.collections.PathCollection at 0x7fe5fcbddd60>"
      ]
     },
     "execution_count": 16,
     "metadata": {},
     "output_type": "execute_result"
    },
    {
     "data": {
      "image/png": "[encoded data removed]",
      "text/plain": [
       "<Figure size 432x288 with 1 Axes>"
      ]
     },
     "metadata": {
      "needs_background": "light"
     },
     "output_type": "display_data"
    }
   ],
   "source": [
    "plt.scatter(x[27], y[27], s=5)\n"
   ]
  },
  {
   "attachments": {},
   "cell_type": "markdown",
   "id": "ba6fca2f",
   "metadata": {},
   "source": [
    "## plot maxele and find different points to sample"
   ]
  },
  {
   "attachments": {},
   "cell_type": "markdown",
   "id": "27ad1883",
   "metadata": {},
   "source": []
  }
 ],
 "metadata": {
  "hide_input": false,
  "kernelspec": {
   "display_name": "Python 3",
   "language": "python",
   "name": "python3"
  },
  "language_info": {
   "codemirror_mode": {
    "name": "ipython",
    "version": 3
   },
   "file_extension": ".py",
   "mimetype": "text/x-python",
   "name": "python",
   "nbconvert_exporter": "python",
   "pygments_lexer": "ipython3",
   "version": "3.8.13"
  },
  "varInspector": {
   "cols": {
    "lenName": 16,
    "lenType": 16,
    "lenVar": 40
   },
   "kernels_config": {
    "python": {
     "delete_cmd_postfix": "",
     "delete_cmd_prefix": "del ",
     "library": "var_list.py",
     "varRefreshCmd": "print(var_dic_list())"
    },
    "r": {
     "delete_cmd_postfix": ") ",
     "delete_cmd_prefix": "rm(",
     "library": "var_list.r",
     "varRefreshCmd": "cat(var_dic_list()) "
    }
   },
   "types_to_exclude": [
    "module",
    "function",
    "builtin_function_or_method",
    "instance",
    "_Feature"
   ],
   "window_display": false
  },
  "vscode": {
   "interpreter": {
    "hash": "cc96bf7d8208413cd08557877d9613ec72d8d2764ab17cd449b5bb9202b6bcff"
   }
  }
 },
 "nbformat": 4,
 "nbformat_minor": 5
}
