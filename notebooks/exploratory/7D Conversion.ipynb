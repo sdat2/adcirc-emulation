{
 "cells": [
  {
   "cell_type": "markdown",
   "id": "90a1c7a4",
   "metadata": {},
   "source": [
    "# We can convert the 6d to 7D to be more similar to Lockwood et al. 2022"
   ]
  },
  {
   "cell_type": "code",
   "execution_count": 1,
   "id": "10ea7d79",
   "metadata": {
    "ExecuteTime": {
     "end_time": "2023-01-20T15:36:41.171927Z",
     "start_time": "2023-01-20T15:36:41.125024Z"
    }
   },
   "outputs": [],
   "source": [
    "# Convenient jupyter setup\n",
    "%load_ext autoreload\n",
    "%autoreload 2\n",
    "%config IPCompleter.greedy=True"
   ]
  },
  {
   "cell_type": "code",
   "execution_count": 1,
   "id": "b8e9bdda",
   "metadata": {},
   "outputs": [
    {
     "data": {
      "text/plain": [
       "['minpr.63.nc',\n",
       " 'fort.224.nc',\n",
       " 'maxwvel.63.nc',\n",
       " 'windDrag.173.nc',\n",
       " 'fort.221.nc',\n",
       " 'fort.73.nc',\n",
       " 'fort.63.nc',\n",
       " 'fort.22',\n",
       " 'fort.14',\n",
       " 'maxvel.63.nc',\n",
       " 'fort.15',\n",
       " 'fort.218',\n",
       " 'fort.221',\n",
       " 'fort.217',\n",
       " 'fort.218.nc',\n",
       " 'adcirc_log.txt',\n",
       " 'maxele.63.nc',\n",
       " 'fort.33',\n",
       " 'fort.74.nc',\n",
       " 'fort.64.nc',\n",
       " 'fort.16',\n",
       " 'fort.222.nc',\n",
       " 'fort.217.nc',\n",
       " 'fort.223.nc',\n",
       " 'fort.224',\n",
       " 'fort.223',\n",
       " 'traj.nc',\n",
       " 'fort.222']"
      ]
     },
     "execution_count": 1,
     "metadata": {},
     "output_type": "execute_result"
    }
   ],
   "source": [
    "import os\n",
    "ex_path = \"/Users/simon/new-orleans/data/kate_h08\"\n",
    "os.listdir(ex_path)"
   ]
  },
  {
   "cell_type": "code",
   "execution_count": 18,
   "id": "f33d16ac",
   "metadata": {},
   "outputs": [],
   "source": [
    "file_names = ['fort.73.nc', 'fort.74.nc', 'fort.63.nc', 'fort.64.nc']\n",
    "variables = [('pressure',), ('windx', 'windy'), ('zeta',), ('u-vel', 'v-vel')]"
   ]
  },
  {
   "cell_type": "code",
   "execution_count": 2,
   "id": "680e36c5",
   "metadata": {},
   "outputs": [],
   "source": [
    "import netCDF4 as nc"
   ]
  },
  {
   "cell_type": "code",
   "execution_count": 14,
   "id": "f4e41afd",
   "metadata": {},
   "outputs": [
    {
     "name": "stdout",
     "output_type": "stream",
     "text": [
      "['time', 'x', 'y', 'element', 'adcirc_mesh', 'neta', 'nvdll', 'max_nvdll', 'ibtypee', 'nbdv', 'nvel', 'nvell', 'max_nvell', 'ibtype', 'nbvv', 'depth', 'pressure']\n",
      "['time', 'x', 'y', 'element', 'adcirc_mesh', 'neta', 'nvdll', 'max_nvdll', 'ibtypee', 'nbdv', 'nvel', 'nvell', 'max_nvell', 'ibtype', 'nbvv', 'depth', 'windx', 'windy']\n",
      "['time', 'x', 'y', 'element', 'adcirc_mesh', 'neta', 'nvdll', 'max_nvdll', 'ibtypee', 'nbdv', 'nvel', 'nvell', 'max_nvell', 'ibtype', 'nbvv', 'depth', 'zeta']\n",
      "['time', 'x', 'y', 'element', 'adcirc_mesh', 'neta', 'nvdll', 'max_nvdll', 'ibtypee', 'nbdv', 'nvel', 'nvell', 'max_nvell', 'ibtype', 'nbvv', 'depth', 'u-vel', 'v-vel']\n"
     ]
    }
   ],
   "source": [
    "for i in range(len(file_names)):\n",
    "    print([x for x in nc.Dataset(os.path.join(ex_path, file_names[i])).variables])"
   ]
  },
  {
   "cell_type": "code",
   "execution_count": 25,
   "id": "33049e12",
   "metadata": {},
   "outputs": [
    {
     "name": "stdout",
     "output_type": "stream",
     "text": [
      "pressure\n",
      "air pressure at sea level\n",
      "windx\n",
      "e/w wind velocity\n",
      "windy\n",
      "n/s wind velocity\n",
      "zeta\n",
      "water surface elevation above geoid\n",
      "u-vel\n",
      "water column vertically averaged east/west velocity\n",
      "v-vel\n",
      "water column vertically averaged north/south velocity\n"
     ]
    }
   ],
   "source": [
    "for i in range(len(file_names)):\n",
    "    for variable in variables[i]:\n",
    "        print(variable)\n",
    "        print(nc.Dataset(os.path.join(ex_path, file_names[i]))[variable].long_name)"
   ]
  },
  {
   "cell_type": "code",
   "execution_count": 21,
   "id": "d2b70a1b",
   "metadata": {},
   "outputs": [],
   "source": [
    "ds = nc.Dataset(os.path.join(ex_path, file_names[0]))"
   ]
  },
  {
   "cell_type": "code",
   "execution_count": 24,
   "id": "3976f02f",
   "metadata": {},
   "outputs": [
    {
     "data": {
      "text/plain": [
       "'air pressure at sea level'"
      ]
     },
     "execution_count": 24,
     "metadata": {},
     "output_type": "execute_result"
    }
   ],
   "source": [
    "ds[\"pressure\"].long_name"
   ]
  },
  {
   "cell_type": "code",
   "execution_count": null,
   "id": "90258fbf",
   "metadata": {},
   "outputs": [],
   "source": []
  }
 ],
 "metadata": {
  "hide_input": false,
  "kernelspec": {
   "display_name": "Python 3",
   "language": "python",
   "name": "python3"
  },
  "language_info": {
   "codemirror_mode": {
    "name": "ipython",
    "version": 3
   },
   "file_extension": ".py",
   "mimetype": "text/x-python",
   "name": "python",
   "nbconvert_exporter": "python",
   "pygments_lexer": "ipython3",
   "version": "3.8.13"
  },
  "varInspector": {
   "cols": {
    "lenName": 16,
    "lenType": 16,
    "lenVar": 40
   },
   "kernels_config": {
    "python": {
     "delete_cmd_postfix": "",
     "delete_cmd_prefix": "del ",
     "library": "var_list.py",
     "varRefreshCmd": "print(var_dic_list())"
    },
    "r": {
     "delete_cmd_postfix": ") ",
     "delete_cmd_prefix": "rm(",
     "library": "var_list.r",
     "varRefreshCmd": "cat(var_dic_list()) "
    }
   },
   "types_to_exclude": [
    "module",
    "function",
    "builtin_function_or_method",
    "instance",
    "_Feature"
   ],
   "window_display": false
  },
  "vscode": {
   "interpreter": {
    "hash": "cc96bf7d8208413cd08557877d9613ec72d8d2764ab17cd449b5bb9202b6bcff"
   }
  }
 },
 "nbformat": 4,
 "nbformat_minor": 5
}
