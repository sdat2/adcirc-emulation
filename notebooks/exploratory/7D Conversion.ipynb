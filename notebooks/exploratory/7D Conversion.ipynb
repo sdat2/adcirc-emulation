{
 "cells": [
  {
   "cell_type": "markdown",
   "id": "90a1c7a4",
   "metadata": {},
   "source": [
    "# We can convert the 6d to 7D to be more similar to Lockwood et al. 2022"
   ]
  },
  {
   "cell_type": "code",
   "execution_count": 1,
   "id": "10ea7d79",
   "metadata": {
    "ExecuteTime": {
     "end_time": "2023-01-20T15:36:41.171927Z",
     "start_time": "2023-01-20T15:36:41.125024Z"
    }
   },
   "outputs": [],
   "source": [
    "# Convenient jupyter setup\n",
    "%load_ext autoreload\n",
    "%autoreload 2\n",
    "%config IPCompleter.greedy=True"
   ]
  },
  {
   "cell_type": "code",
   "execution_count": 1,
   "id": "b8e9bdda",
   "metadata": {},
   "outputs": [
    {
     "data": {
      "text/plain": [
       "['minpr.63.nc',\n",
       " 'fort.224.nc',\n",
       " 'maxwvel.63.nc',\n",
       " 'windDrag.173.nc',\n",
       " 'fort.221.nc',\n",
       " 'fort.73.nc',\n",
       " 'fort.63.nc',\n",
       " 'fort.22',\n",
       " 'fort.14',\n",
       " 'maxvel.63.nc',\n",
       " 'fort.15',\n",
       " 'fort.218',\n",
       " 'fort.221',\n",
       " 'fort.217',\n",
       " 'fort.218.nc',\n",
       " 'adcirc_log.txt',\n",
       " 'maxele.63.nc',\n",
       " 'fort.33',\n",
       " 'fort.74.nc',\n",
       " 'fort.64.nc',\n",
       " 'fort.16',\n",
       " 'fort.222.nc',\n",
       " 'fort.217.nc',\n",
       " 'fort.223.nc',\n",
       " 'fort.224',\n",
       " 'fort.223',\n",
       " 'traj.nc',\n",
       " 'fort.222']"
      ]
     },
     "execution_count": 1,
     "metadata": {},
     "output_type": "execute_result"
    }
   ],
   "source": [
    "import os\n",
    "ex_path = \"/Users/simon/new-orleans/data/kate_h08\"\n",
    "os.listdir(ex_path)"
   ]
  },
  {
   "cell_type": "code",
   "execution_count": 18,
   "id": "f33d16ac",
   "metadata": {},
   "outputs": [],
   "source": [
    "file_names = ['fort.73.nc', 'fort.74.nc', 'fort.63.nc', 'fort.64.nc']\n",
    "variables = [('pressure',), ('windx', 'windy'), ('zeta',), ('u-vel', 'v-vel')]"
   ]
  },
  {
   "cell_type": "code",
   "execution_count": 2,
   "id": "680e36c5",
   "metadata": {},
   "outputs": [],
   "source": [
    "import netCDF4 as nc"
   ]
  },
  {
   "cell_type": "code",
   "execution_count": 14,
   "id": "f4e41afd",
   "metadata": {},
   "outputs": [
    {
     "name": "stdout",
     "output_type": "stream",
     "text": [
      "['time', 'x', 'y', 'element', 'adcirc_mesh', 'neta', 'nvdll', 'max_nvdll', 'ibtypee', 'nbdv', 'nvel', 'nvell', 'max_nvell', 'ibtype', 'nbvv', 'depth', 'pressure']\n",
      "['time', 'x', 'y', 'element', 'adcirc_mesh', 'neta', 'nvdll', 'max_nvdll', 'ibtypee', 'nbdv', 'nvel', 'nvell', 'max_nvell', 'ibtype', 'nbvv', 'depth', 'windx', 'windy']\n",
      "['time', 'x', 'y', 'element', 'adcirc_mesh', 'neta', 'nvdll', 'max_nvdll', 'ibtypee', 'nbdv', 'nvel', 'nvell', 'max_nvell', 'ibtype', 'nbvv', 'depth', 'zeta']\n",
      "['time', 'x', 'y', 'element', 'adcirc_mesh', 'neta', 'nvdll', 'max_nvdll', 'ibtypee', 'nbdv', 'nvel', 'nvell', 'max_nvell', 'ibtype', 'nbvv', 'depth', 'u-vel', 'v-vel']\n"
     ]
    }
   ],
   "source": [
    "for i in range(len(file_names)):\n",
    "    print([x for x in nc.Dataset(os.path.join(ex_path, file_names[i])).variables])"
   ]
  },
  {
   "cell_type": "code",
   "execution_count": 25,
   "id": "33049e12",
   "metadata": {},
   "outputs": [
    {
     "name": "stdout",
     "output_type": "stream",
     "text": [
      "pressure\n",
      "air pressure at sea level\n",
      "windx\n",
      "e/w wind velocity\n",
      "windy\n",
      "n/s wind velocity\n",
      "zeta\n",
      "water surface elevation above geoid\n",
      "u-vel\n",
      "water column vertically averaged east/west velocity\n",
      "v-vel\n",
      "water column vertically averaged north/south velocity\n"
     ]
    }
   ],
   "source": [
    "for i in range(len(file_names)):\n",
    "    for variable in variables[i]:\n",
    "        print(variable)\n",
    "        print(nc.Dataset(os.path.join(ex_path, file_names[i]))[variable].long_name)"
   ]
  },
  {
   "cell_type": "code",
   "execution_count": 21,
   "id": "d2b70a1b",
   "metadata": {},
   "outputs": [],
   "source": [
    "ds = nc.Dataset(os.path.join(ex_path, file_names[0]))"
   ]
  },
  {
   "cell_type": "code",
   "execution_count": 24,
   "id": "3976f02f",
   "metadata": {},
   "outputs": [
    {
     "data": {
      "text/plain": [
       "'air pressure at sea level'"
      ]
     },
     "execution_count": 24,
     "metadata": {},
     "output_type": "execute_result"
    }
   ],
   "source": [
    "ds[\"pressure\"].long_name"
   ]
  },
  {
   "cell_type": "code",
   "execution_count": 26,
   "id": "90258fbf",
   "metadata": {},
   "outputs": [
    {
     "data": {
      "text/plain": [
       "'model time'"
      ]
     },
     "execution_count": 26,
     "metadata": {},
     "output_type": "execute_result"
    }
   ],
   "source": [
    "ds[\"time\"].long_name"
   ]
  },
  {
   "cell_type": "code",
   "execution_count": 27,
   "id": "fb3c46d3",
   "metadata": {},
   "outputs": [
    {
     "data": {
      "text/plain": [
       "'seconds since 2020-04-28 00:00:00'"
      ]
     },
     "execution_count": 27,
     "metadata": {},
     "output_type": "execute_result"
    }
   ],
   "source": [
    "ds[\"time\"].units"
   ]
  },
  {
   "cell_type": "code",
   "execution_count": 31,
   "id": "3267fd65",
   "metadata": {},
   "outputs": [
    {
     "data": {
      "text/plain": [
       "masked_array(data=[   4800.,    9600.,   14400.,   19200.,   24000.,\n",
       "                     28800.,   33600.,   38400.,   43200.,   48000.,\n",
       "                     52800.,   57600.,   62400.,   67200.,   72000.,\n",
       "                     76800.,   81600.,   86400.,   91200.,   96000.,\n",
       "                    100800.,  105600.,  110400.,  115200.,  120000.,\n",
       "                    124800.,  129600.,  134400.,  139200.,  144000.,\n",
       "                    148800.,  153600.,  158400.,  163200.,  168000.,\n",
       "                    172800.,  177600.,  182400.,  187200.,  192000.,\n",
       "                    196800.,  201600.,  206400.,  211200.,  216000.,\n",
       "                    220800.,  225600.,  230400.,  235200.,  240000.,\n",
       "                    244800.,  249600.,  254400.,  259200.,  264000.,\n",
       "                    268800.,  273600.,  278400.,  283200.,  288000.,\n",
       "                    292800.,  297600.,  302400.,  307200.,  312000.,\n",
       "                    316800.,  321600.,  326400.,  331200.,  336000.,\n",
       "                    340800.,  345600.,  350400.,  355200.,  360000.,\n",
       "                    364800.,  369600.,  374400.,  379200.,  384000.,\n",
       "                    388800.,  393600.,  398400.,  403200.,  408000.,\n",
       "                    412800.,  417600.,  422400.,  427200.,  432000.,\n",
       "                    436800.,  441600.,  446400.,  451200.,  456000.,\n",
       "                    460800.,  465600.,  470400.,  475200.,  480000.,\n",
       "                    484800.,  489600.,  494400.,  499200.,  504000.,\n",
       "                    508800.,  513600.,  518400.,  523200.,  528000.,\n",
       "                    532800.,  537600.,  542400.,  547200.,  552000.,\n",
       "                    556800.,  561600.,  566400.,  571200.,  576000.,\n",
       "                    580800.,  585600.,  590400.,  595200.,  600000.,\n",
       "                    604800.,  609600.,  614400.,  619200.,  624000.,\n",
       "                    628800.,  633600.,  638400.,  643200.,  648000.,\n",
       "                    652800.,  657600.,  662400.,  667200.,  672000.,\n",
       "                    676800.,  681600.,  686400.,  691200.,  696000.,\n",
       "                    700800.,  705600.,  710400.,  715200.,  720000.,\n",
       "                    724800.,  729600.,  734400.,  739200.,  744000.,\n",
       "                    748800.,  753600.,  758400.,  763200.,  768000.,\n",
       "                    772800.,  777600.,  782400.,  787200.,  792000.,\n",
       "                    796800.,  801600.,  806400.,  811200.,  816000.,\n",
       "                    820800.,  825600.,  830400.,  835200.,  840000.,\n",
       "                    844800.,  849600.,  854400.,  859200.,  864000.,\n",
       "                    868800.,  873600.,  878400.,  883200.,  888000.,\n",
       "                    892800.,  897600.,  902400.,  907200.,  912000.,\n",
       "                    916800.,  921600.,  926400.,  931200.,  936000.,\n",
       "                    940800.,  945600.,  950400.,  955200.,  960000.,\n",
       "                    964800.,  969600.,  974400.,  979200.,  984000.,\n",
       "                    988800.,  993600.,  998400., 1003200., 1008000.,\n",
       "                   1012800., 1017600., 1022400., 1027200., 1032000.,\n",
       "                   1036800., 1041600., 1046400., 1051200., 1056000.,\n",
       "                   1060800., 1065600., 1070400., 1075200., 1080000.,\n",
       "                   1084800., 1089600., 1094400., 1099200., 1104000.,\n",
       "                   1108800., 1113600., 1118400., 1123200., 1128000.,\n",
       "                   1132800., 1137600., 1142400., 1147200., 1152000.,\n",
       "                   1156800., 1161600., 1166400., 1171200., 1176000.,\n",
       "                   1180800., 1185600., 1190400., 1195200., 1200000.,\n",
       "                   1204800., 1209600.],\n",
       "             mask=False,\n",
       "       fill_value=1e+20)"
      ]
     },
     "execution_count": 31,
     "metadata": {},
     "output_type": "execute_result"
    }
   ],
   "source": [
    "ds[\"time\"][:]"
   ]
  },
  {
   "attachments": {},
   "cell_type": "markdown",
   "id": "b90bf43c",
   "metadata": {},
   "source": [
    "## Add all this weird nc data into a single xarray dataset."
   ]
  },
  {
   "cell_type": "code",
   "execution_count": 32,
   "id": "c7c965e5",
   "metadata": {},
   "outputs": [
    {
     "name": "stderr",
     "output_type": "stream",
     "text": [
      "/Users/simon/new-orleans/env/lib/python3.8/site-packages/xarray/backends/cfgrib_.py:29: UserWarning: Failed to load cfgrib - most likely there is a problem accessing the ecCodes library. Try `import cfgrib` to get the full error message\n",
      "  warnings.warn(\n"
     ]
    }
   ],
   "source": [
    "import xarray as xr"
   ]
  },
  {
   "cell_type": "code",
   "execution_count": 35,
   "id": "a3d858d4",
   "metadata": {},
   "outputs": [],
   "source": [
    "traj_ds = xr.open_dataset(os.path.join(ex_path, \"traj.nc\"))"
   ]
  },
  {
   "cell_type": "code",
   "execution_count": 36,
   "id": "91ffee96",
   "metadata": {},
   "outputs": [
    {
     "data": {
      "text/html": [
       "<div><svg style=\"position: absolute; width: 0; height: 0; overflow: hidden\">\n",
       "<defs>\n",
       "<symbol id=\"icon-database\" viewBox=\"0 0 32 32\">\n",
       "<path d=\"M16 0c-8.837 0-16 2.239-16 5v4c0 2.761 7.163 5 16 5s16-2.239 16-5v-4c0-2.761-7.163-5-16-5z\"></path>\n",
       "<path d=\"M16 17c-8.837 0-16-2.239-16-5v6c0 2.761 7.163 5 16 5s16-2.239 16-5v-6c0 2.761-7.163 5-16 5z\"></path>\n",
       "<path d=\"M16 26c-8.837 0-16-2.239-16-5v6c0 2.761 7.163 5 16 5s16-2.239 16-5v-6c0 2.761-7.163 5-16 5z\"></path>\n",
       "</symbol>\n",
       "<symbol id=\"icon-file-text2\" viewBox=\"0 0 32 32\">\n",
       "<path d=\"M28.681 7.159c-0.694-0.947-1.662-2.053-2.724-3.116s-2.169-2.030-3.116-2.724c-1.612-1.182-2.393-1.319-2.841-1.319h-15.5c-1.378 0-2.5 1.121-2.5 2.5v27c0 1.378 1.122 2.5 2.5 2.5h23c1.378 0 2.5-1.122 2.5-2.5v-19.5c0-0.448-0.137-1.23-1.319-2.841zM24.543 5.457c0.959 0.959 1.712 1.825 2.268 2.543h-4.811v-4.811c0.718 0.556 1.584 1.309 2.543 2.268zM28 29.5c0 0.271-0.229 0.5-0.5 0.5h-23c-0.271 0-0.5-0.229-0.5-0.5v-27c0-0.271 0.229-0.5 0.5-0.5 0 0 15.499-0 15.5 0v7c0 0.552 0.448 1 1 1h7v19.5z\"></path>\n",
       "<path d=\"M23 26h-14c-0.552 0-1-0.448-1-1s0.448-1 1-1h14c0.552 0 1 0.448 1 1s-0.448 1-1 1z\"></path>\n",
       "<path d=\"M23 22h-14c-0.552 0-1-0.448-1-1s0.448-1 1-1h14c0.552 0 1 0.448 1 1s-0.448 1-1 1z\"></path>\n",
       "<path d=\"M23 18h-14c-0.552 0-1-0.448-1-1s0.448-1 1-1h14c0.552 0 1 0.448 1 1s-0.448 1-1 1z\"></path>\n",
       "</symbol>\n",
       "</defs>\n",
       "</svg>\n",
       "<style>/* CSS stylesheet for displaying xarray objects in jupyterlab.\n",
       " *\n",
       " */\n",
       "\n",
       ":root {\n",
       "  --xr-font-color0: var(--jp-content-font-color0, rgba(0, 0, 0, 1));\n",
       "  --xr-font-color2: var(--jp-content-font-color2, rgba(0, 0, 0, 0.54));\n",
       "  --xr-font-color3: var(--jp-content-font-color3, rgba(0, 0, 0, 0.38));\n",
       "  --xr-border-color: var(--jp-border-color2, #e0e0e0);\n",
       "  --xr-disabled-color: var(--jp-layout-color3, #bdbdbd);\n",
       "  --xr-background-color: var(--jp-layout-color0, white);\n",
       "  --xr-background-color-row-even: var(--jp-layout-color1, white);\n",
       "  --xr-background-color-row-odd: var(--jp-layout-color2, #eeeeee);\n",
       "}\n",
       "\n",
       "html[theme=dark],\n",
       "body[data-theme=dark],\n",
       "body.vscode-dark {\n",
       "  --xr-font-color0: rgba(255, 255, 255, 1);\n",
       "  --xr-font-color2: rgba(255, 255, 255, 0.54);\n",
       "  --xr-font-color3: rgba(255, 255, 255, 0.38);\n",
       "  --xr-border-color: #1F1F1F;\n",
       "  --xr-disabled-color: #515151;\n",
       "  --xr-background-color: #111111;\n",
       "  --xr-background-color-row-even: #111111;\n",
       "  --xr-background-color-row-odd: #313131;\n",
       "}\n",
       "\n",
       ".xr-wrap {\n",
       "  display: block !important;\n",
       "  min-width: 300px;\n",
       "  max-width: 700px;\n",
       "}\n",
       "\n",
       ".xr-text-repr-fallback {\n",
       "  /* fallback to plain text repr when CSS is not injected (untrusted notebook) */\n",
       "  display: none;\n",
       "}\n",
       "\n",
       ".xr-header {\n",
       "  padding-top: 6px;\n",
       "  padding-bottom: 6px;\n",
       "  margin-bottom: 4px;\n",
       "  border-bottom: solid 1px var(--xr-border-color);\n",
       "}\n",
       "\n",
       ".xr-header > div,\n",
       ".xr-header > ul {\n",
       "  display: inline;\n",
       "  margin-top: 0;\n",
       "  margin-bottom: 0;\n",
       "}\n",
       "\n",
       ".xr-obj-type,\n",
       ".xr-array-name {\n",
       "  margin-left: 2px;\n",
       "  margin-right: 10px;\n",
       "}\n",
       "\n",
       ".xr-obj-type {\n",
       "  color: var(--xr-font-color2);\n",
       "}\n",
       "\n",
       ".xr-sections {\n",
       "  padding-left: 0 !important;\n",
       "  display: grid;\n",
       "  grid-template-columns: 150px auto auto 1fr 20px 20px;\n",
       "}\n",
       "\n",
       ".xr-section-item {\n",
       "  display: contents;\n",
       "}\n",
       "\n",
       ".xr-section-item input {\n",
       "  display: none;\n",
       "}\n",
       "\n",
       ".xr-section-item input + label {\n",
       "  color: var(--xr-disabled-color);\n",
       "}\n",
       "\n",
       ".xr-section-item input:enabled + label {\n",
       "  cursor: pointer;\n",
       "  color: var(--xr-font-color2);\n",
       "}\n",
       "\n",
       ".xr-section-item input:enabled + label:hover {\n",
       "  color: var(--xr-font-color0);\n",
       "}\n",
       "\n",
       ".xr-section-summary {\n",
       "  grid-column: 1;\n",
       "  color: var(--xr-font-color2);\n",
       "  font-weight: 500;\n",
       "}\n",
       "\n",
       ".xr-section-summary > span {\n",
       "  display: inline-block;\n",
       "  padding-left: 0.5em;\n",
       "}\n",
       "\n",
       ".xr-section-summary-in:disabled + label {\n",
       "  color: var(--xr-font-color2);\n",
       "}\n",
       "\n",
       ".xr-section-summary-in + label:before {\n",
       "  display: inline-block;\n",
       "  content: '►';\n",
       "  font-size: 11px;\n",
       "  width: 15px;\n",
       "  text-align: center;\n",
       "}\n",
       "\n",
       ".xr-section-summary-in:disabled + label:before {\n",
       "  color: var(--xr-disabled-color);\n",
       "}\n",
       "\n",
       ".xr-section-summary-in:checked + label:before {\n",
       "  content: '▼';\n",
       "}\n",
       "\n",
       ".xr-section-summary-in:checked + label > span {\n",
       "  display: none;\n",
       "}\n",
       "\n",
       ".xr-section-summary,\n",
       ".xr-section-inline-details {\n",
       "  padding-top: 4px;\n",
       "  padding-bottom: 4px;\n",
       "}\n",
       "\n",
       ".xr-section-inline-details {\n",
       "  grid-column: 2 / -1;\n",
       "}\n",
       "\n",
       ".xr-section-details {\n",
       "  display: none;\n",
       "  grid-column: 1 / -1;\n",
       "  margin-bottom: 5px;\n",
       "}\n",
       "\n",
       ".xr-section-summary-in:checked ~ .xr-section-details {\n",
       "  display: contents;\n",
       "}\n",
       "\n",
       ".xr-array-wrap {\n",
       "  grid-column: 1 / -1;\n",
       "  display: grid;\n",
       "  grid-template-columns: 20px auto;\n",
       "}\n",
       "\n",
       ".xr-array-wrap > label {\n",
       "  grid-column: 1;\n",
       "  vertical-align: top;\n",
       "}\n",
       "\n",
       ".xr-preview {\n",
       "  color: var(--xr-font-color3);\n",
       "}\n",
       "\n",
       ".xr-array-preview,\n",
       ".xr-array-data {\n",
       "  padding: 0 5px !important;\n",
       "  grid-column: 2;\n",
       "}\n",
       "\n",
       ".xr-array-data,\n",
       ".xr-array-in:checked ~ .xr-array-preview {\n",
       "  display: none;\n",
       "}\n",
       "\n",
       ".xr-array-in:checked ~ .xr-array-data,\n",
       ".xr-array-preview {\n",
       "  display: inline-block;\n",
       "}\n",
       "\n",
       ".xr-dim-list {\n",
       "  display: inline-block !important;\n",
       "  list-style: none;\n",
       "  padding: 0 !important;\n",
       "  margin: 0;\n",
       "}\n",
       "\n",
       ".xr-dim-list li {\n",
       "  display: inline-block;\n",
       "  padding: 0;\n",
       "  margin: 0;\n",
       "}\n",
       "\n",
       ".xr-dim-list:before {\n",
       "  content: '(';\n",
       "}\n",
       "\n",
       ".xr-dim-list:after {\n",
       "  content: ')';\n",
       "}\n",
       "\n",
       ".xr-dim-list li:not(:last-child):after {\n",
       "  content: ',';\n",
       "  padding-right: 5px;\n",
       "}\n",
       "\n",
       ".xr-has-index {\n",
       "  font-weight: bold;\n",
       "}\n",
       "\n",
       ".xr-var-list,\n",
       ".xr-var-item {\n",
       "  display: contents;\n",
       "}\n",
       "\n",
       ".xr-var-item > div,\n",
       ".xr-var-item label,\n",
       ".xr-var-item > .xr-var-name span {\n",
       "  background-color: var(--xr-background-color-row-even);\n",
       "  margin-bottom: 0;\n",
       "}\n",
       "\n",
       ".xr-var-item > .xr-var-name:hover span {\n",
       "  padding-right: 5px;\n",
       "}\n",
       "\n",
       ".xr-var-list > li:nth-child(odd) > div,\n",
       ".xr-var-list > li:nth-child(odd) > label,\n",
       ".xr-var-list > li:nth-child(odd) > .xr-var-name span {\n",
       "  background-color: var(--xr-background-color-row-odd);\n",
       "}\n",
       "\n",
       ".xr-var-name {\n",
       "  grid-column: 1;\n",
       "}\n",
       "\n",
       ".xr-var-dims {\n",
       "  grid-column: 2;\n",
       "}\n",
       "\n",
       ".xr-var-dtype {\n",
       "  grid-column: 3;\n",
       "  text-align: right;\n",
       "  color: var(--xr-font-color2);\n",
       "}\n",
       "\n",
       ".xr-var-preview {\n",
       "  grid-column: 4;\n",
       "}\n",
       "\n",
       ".xr-var-name,\n",
       ".xr-var-dims,\n",
       ".xr-var-dtype,\n",
       ".xr-preview,\n",
       ".xr-attrs dt {\n",
       "  white-space: nowrap;\n",
       "  overflow: hidden;\n",
       "  text-overflow: ellipsis;\n",
       "  padding-right: 10px;\n",
       "}\n",
       "\n",
       ".xr-var-name:hover,\n",
       ".xr-var-dims:hover,\n",
       ".xr-var-dtype:hover,\n",
       ".xr-attrs dt:hover {\n",
       "  overflow: visible;\n",
       "  width: auto;\n",
       "  z-index: 1;\n",
       "}\n",
       "\n",
       ".xr-var-attrs,\n",
       ".xr-var-data {\n",
       "  display: none;\n",
       "  background-color: var(--xr-background-color) !important;\n",
       "  padding-bottom: 5px !important;\n",
       "}\n",
       "\n",
       ".xr-var-attrs-in:checked ~ .xr-var-attrs,\n",
       ".xr-var-data-in:checked ~ .xr-var-data {\n",
       "  display: block;\n",
       "}\n",
       "\n",
       ".xr-var-data > table {\n",
       "  float: right;\n",
       "}\n",
       "\n",
       ".xr-var-name span,\n",
       ".xr-var-data,\n",
       ".xr-attrs {\n",
       "  padding-left: 25px !important;\n",
       "}\n",
       "\n",
       ".xr-attrs,\n",
       ".xr-var-attrs,\n",
       ".xr-var-data {\n",
       "  grid-column: 1 / -1;\n",
       "}\n",
       "\n",
       "dl.xr-attrs {\n",
       "  padding: 0;\n",
       "  margin: 0;\n",
       "  display: grid;\n",
       "  grid-template-columns: 125px auto;\n",
       "}\n",
       "\n",
       ".xr-attrs dt,\n",
       ".xr-attrs dd {\n",
       "  padding: 0;\n",
       "  margin: 0;\n",
       "  float: left;\n",
       "  padding-right: 10px;\n",
       "  width: auto;\n",
       "}\n",
       "\n",
       ".xr-attrs dt {\n",
       "  font-weight: normal;\n",
       "  grid-column: 1;\n",
       "}\n",
       "\n",
       ".xr-attrs dt:hover span {\n",
       "  display: inline-block;\n",
       "  background: var(--xr-background-color);\n",
       "  padding-right: 10px;\n",
       "}\n",
       "\n",
       ".xr-attrs dd {\n",
       "  grid-column: 2;\n",
       "  white-space: pre-wrap;\n",
       "  word-break: break-all;\n",
       "}\n",
       "\n",
       ".xr-icon-database,\n",
       ".xr-icon-file-text2 {\n",
       "  display: inline-block;\n",
       "  vertical-align: middle;\n",
       "  width: 1em;\n",
       "  height: 1.5em !important;\n",
       "  stroke-width: 0;\n",
       "  stroke: currentColor;\n",
       "  fill: currentColor;\n",
       "}\n",
       "</style><pre class='xr-text-repr-fallback'>&lt;xarray.Dataset&gt;\n",
       "Dimensions:  (time: 56)\n",
       "Coordinates:\n",
       "  * time     (time) datetime64[ns] 2005-08-25 ... 2005-08-31T21:00:00\n",
       "Data variables:\n",
       "    lon      (time) float64 -88.97 -88.97 -88.97 -88.97 ... -88.97 -88.97 -88.97\n",
       "    lat      (time) float64 2.945 3.695 4.446 5.196 ... 41.95 42.7 43.45 44.2</pre><div class='xr-wrap' style='display:none'><div class='xr-header'><div class='xr-obj-type'>xarray.Dataset</div></div><ul class='xr-sections'><li class='xr-section-item'><input id='section-dd5d4b61-630f-4daf-95c3-d6bb1afd750b' class='xr-section-summary-in' type='checkbox' disabled ><label for='section-dd5d4b61-630f-4daf-95c3-d6bb1afd750b' class='xr-section-summary'  title='Expand/collapse section'>Dimensions:</label><div class='xr-section-inline-details'><ul class='xr-dim-list'><li><span class='xr-has-index'>time</span>: 56</li></ul></div><div class='xr-section-details'></div></li><li class='xr-section-item'><input id='section-b1e2083a-5a98-48ca-a9d6-ba093c1fd5e0' class='xr-section-summary-in' type='checkbox'  checked><label for='section-b1e2083a-5a98-48ca-a9d6-ba093c1fd5e0' class='xr-section-summary' >Coordinates: <span>(1)</span></label><div class='xr-section-inline-details'></div><div class='xr-section-details'><ul class='xr-var-list'><li class='xr-var-item'><div class='xr-var-name'><span class='xr-has-index'>time</span></div><div class='xr-var-dims'>(time)</div><div class='xr-var-dtype'>datetime64[ns]</div><div class='xr-var-preview xr-preview'>2005-08-25 ... 2005-08-31T21:00:00</div><input id='attrs-e5256b3f-3047-4fa8-a222-2f77b12442ac' class='xr-var-attrs-in' type='checkbox' disabled><label for='attrs-e5256b3f-3047-4fa8-a222-2f77b12442ac' title='Show/Hide attributes'><svg class='icon xr-icon-file-text2'><use xlink:href='#icon-file-text2'></use></svg></label><input id='data-89b10b47-e46b-49fb-9f36-e6b6d130a138' class='xr-var-data-in' type='checkbox'><label for='data-89b10b47-e46b-49fb-9f36-e6b6d130a138' title='Show/Hide data repr'><svg class='icon xr-icon-database'><use xlink:href='#icon-database'></use></svg></label><div class='xr-var-attrs'><dl class='xr-attrs'></dl></div><div class='xr-var-data'><pre>array([&#x27;2005-08-25T00:00:00.000000000&#x27;, &#x27;2005-08-25T03:00:00.000000000&#x27;,\n",
       "       &#x27;2005-08-25T06:00:00.000000000&#x27;, &#x27;2005-08-25T09:00:00.000000000&#x27;,\n",
       "       &#x27;2005-08-25T12:00:00.000000000&#x27;, &#x27;2005-08-25T15:00:00.000000000&#x27;,\n",
       "       &#x27;2005-08-25T18:00:00.000000000&#x27;, &#x27;2005-08-25T21:00:00.000000000&#x27;,\n",
       "       &#x27;2005-08-26T00:00:00.000000000&#x27;, &#x27;2005-08-26T03:00:00.000000000&#x27;,\n",
       "       &#x27;2005-08-26T06:00:00.000000000&#x27;, &#x27;2005-08-26T09:00:00.000000000&#x27;,\n",
       "       &#x27;2005-08-26T12:00:00.000000000&#x27;, &#x27;2005-08-26T15:00:00.000000000&#x27;,\n",
       "       &#x27;2005-08-26T18:00:00.000000000&#x27;, &#x27;2005-08-26T21:00:00.000000000&#x27;,\n",
       "       &#x27;2005-08-27T00:00:00.000000000&#x27;, &#x27;2005-08-27T03:00:00.000000000&#x27;,\n",
       "       &#x27;2005-08-27T06:00:00.000000000&#x27;, &#x27;2005-08-27T09:00:00.000000000&#x27;,\n",
       "       &#x27;2005-08-27T12:00:00.000000000&#x27;, &#x27;2005-08-27T15:00:00.000000000&#x27;,\n",
       "       &#x27;2005-08-27T18:00:00.000000000&#x27;, &#x27;2005-08-27T21:00:00.000000000&#x27;,\n",
       "       &#x27;2005-08-28T00:00:00.000000000&#x27;, &#x27;2005-08-28T03:00:00.000000000&#x27;,\n",
       "       &#x27;2005-08-28T06:00:00.000000000&#x27;, &#x27;2005-08-28T09:00:00.000000000&#x27;,\n",
       "       &#x27;2005-08-28T12:00:00.000000000&#x27;, &#x27;2005-08-28T15:00:00.000000000&#x27;,\n",
       "       &#x27;2005-08-28T18:00:00.000000000&#x27;, &#x27;2005-08-28T21:00:00.000000000&#x27;,\n",
       "       &#x27;2005-08-29T00:00:00.000000000&#x27;, &#x27;2005-08-29T03:00:00.000000000&#x27;,\n",
       "       &#x27;2005-08-29T06:00:00.000000000&#x27;, &#x27;2005-08-29T09:00:00.000000000&#x27;,\n",
       "       &#x27;2005-08-29T12:00:00.000000000&#x27;, &#x27;2005-08-29T15:00:00.000000000&#x27;,\n",
       "       &#x27;2005-08-29T18:00:00.000000000&#x27;, &#x27;2005-08-29T21:00:00.000000000&#x27;,\n",
       "       &#x27;2005-08-30T00:00:00.000000000&#x27;, &#x27;2005-08-30T03:00:00.000000000&#x27;,\n",
       "       &#x27;2005-08-30T06:00:00.000000000&#x27;, &#x27;2005-08-30T09:00:00.000000000&#x27;,\n",
       "       &#x27;2005-08-30T12:00:00.000000000&#x27;, &#x27;2005-08-30T15:00:00.000000000&#x27;,\n",
       "       &#x27;2005-08-30T18:00:00.000000000&#x27;, &#x27;2005-08-30T21:00:00.000000000&#x27;,\n",
       "       &#x27;2005-08-31T00:00:00.000000000&#x27;, &#x27;2005-08-31T03:00:00.000000000&#x27;,\n",
       "       &#x27;2005-08-31T06:00:00.000000000&#x27;, &#x27;2005-08-31T09:00:00.000000000&#x27;,\n",
       "       &#x27;2005-08-31T12:00:00.000000000&#x27;, &#x27;2005-08-31T15:00:00.000000000&#x27;,\n",
       "       &#x27;2005-08-31T18:00:00.000000000&#x27;, &#x27;2005-08-31T21:00:00.000000000&#x27;],\n",
       "      dtype=&#x27;datetime64[ns]&#x27;)</pre></div></li></ul></div></li><li class='xr-section-item'><input id='section-80c6922f-7bd2-45a3-ac9f-785a3e5ec764' class='xr-section-summary-in' type='checkbox'  checked><label for='section-80c6922f-7bd2-45a3-ac9f-785a3e5ec764' class='xr-section-summary' >Data variables: <span>(2)</span></label><div class='xr-section-inline-details'></div><div class='xr-section-details'><ul class='xr-var-list'><li class='xr-var-item'><div class='xr-var-name'><span>lon</span></div><div class='xr-var-dims'>(time)</div><div class='xr-var-dtype'>float64</div><div class='xr-var-preview xr-preview'>...</div><input id='attrs-dea38919-443f-4e46-8040-4dc104f3a5d4' class='xr-var-attrs-in' type='checkbox' ><label for='attrs-dea38919-443f-4e46-8040-4dc104f3a5d4' title='Show/Hide attributes'><svg class='icon xr-icon-file-text2'><use xlink:href='#icon-file-text2'></use></svg></label><input id='data-d37f5b76-2e9b-42ca-a5ed-550aa88f89d1' class='xr-var-data-in' type='checkbox'><label for='data-d37f5b76-2e9b-42ca-a5ed-550aa88f89d1' title='Show/Hide data repr'><svg class='icon xr-icon-database'><use xlink:href='#icon-database'></use></svg></label><div class='xr-var-attrs'><dl class='xr-attrs'><dt><span>units :</span></dt><dd>degrees_east</dd></dl></div><div class='xr-var-data'><pre>array([-88.9715, -88.9715, -88.9715, -88.9715, -88.9715, -88.9715, -88.9715,\n",
       "       -88.9715, -88.9715, -88.9715, -88.9715, -88.9715, -88.9715, -88.9715,\n",
       "       -88.9715, -88.9715, -88.9715, -88.9715, -88.9715, -88.9715, -88.9715,\n",
       "       -88.9715, -88.9715, -88.9715, -88.9715, -88.9715, -88.9715, -88.9715,\n",
       "       -88.9715, -88.9715, -88.9715, -88.9715, -88.9715, -88.9715, -88.9715,\n",
       "       -88.9715, -88.9715, -88.9715, -88.9715, -88.9715, -88.9715, -88.9715,\n",
       "       -88.9715, -88.9715, -88.9715, -88.9715, -88.9715, -88.9715, -88.9715,\n",
       "       -88.9715, -88.9715, -88.9715, -88.9715, -88.9715, -88.9715, -88.9715])</pre></div></li><li class='xr-var-item'><div class='xr-var-name'><span>lat</span></div><div class='xr-var-dims'>(time)</div><div class='xr-var-dtype'>float64</div><div class='xr-var-preview xr-preview'>...</div><input id='attrs-bbe4daa3-6c5e-47fe-a9a3-989bb51ca186' class='xr-var-attrs-in' type='checkbox' ><label for='attrs-bbe4daa3-6c5e-47fe-a9a3-989bb51ca186' title='Show/Hide attributes'><svg class='icon xr-icon-file-text2'><use xlink:href='#icon-file-text2'></use></svg></label><input id='data-750dac40-6194-474b-ba37-983577108a04' class='xr-var-data-in' type='checkbox'><label for='data-750dac40-6194-474b-ba37-983577108a04' title='Show/Hide data repr'><svg class='icon xr-icon-database'><use xlink:href='#icon-database'></use></svg></label><div class='xr-var-attrs'><dl class='xr-attrs'><dt><span>units :</span></dt><dd>degrees_north</dd></dl></div><div class='xr-var-data'><pre>array([ 2.945262,  3.695424,  4.445586,  5.195749,  5.945911,  6.696073,\n",
       "        7.446235,  8.196397,  8.946559,  9.696722, 10.446884, 11.197046,\n",
       "       11.947208, 12.69737 , 13.447532, 14.197695, 14.947857, 15.698019,\n",
       "       16.448181, 17.198343, 17.948505, 18.698668, 19.44883 , 20.198992,\n",
       "       20.949154, 21.699316, 22.449478, 23.199641, 23.949803, 24.699965,\n",
       "       25.450127, 26.200289, 26.950451, 27.700614, 28.450776, 29.200938,\n",
       "       29.9511  , 30.701262, 31.451424, 32.201586, 32.951749, 33.701911,\n",
       "       34.452073, 35.202235, 35.952397, 36.702559, 37.452722, 38.202884,\n",
       "       38.953046, 39.703208, 40.45337 , 41.203532, 41.953695, 42.703857,\n",
       "       43.454019, 44.204181])</pre></div></li></ul></div></li><li class='xr-section-item'><input id='section-74c6dc96-5c54-4f1d-ad97-872180d3b85b' class='xr-section-summary-in' type='checkbox' disabled ><label for='section-74c6dc96-5c54-4f1d-ad97-872180d3b85b' class='xr-section-summary'  title='Expand/collapse section'>Attributes: <span>(0)</span></label><div class='xr-section-inline-details'></div><div class='xr-section-details'><dl class='xr-attrs'></dl></div></li></ul></div></div>"
      ],
      "text/plain": [
       "<xarray.Dataset>\n",
       "Dimensions:  (time: 56)\n",
       "Coordinates:\n",
       "  * time     (time) datetime64[ns] 2005-08-25 ... 2005-08-31T21:00:00\n",
       "Data variables:\n",
       "    lon      (time) float64 ...\n",
       "    lat      (time) float64 ..."
      ]
     },
     "execution_count": 36,
     "metadata": {},
     "output_type": "execute_result"
    }
   ],
   "source": [
    "traj_ds"
   ]
  },
  {
   "cell_type": "code",
   "execution_count": null,
   "id": "aebd5482",
   "metadata": {},
   "outputs": [],
   "source": []
  }
 ],
 "metadata": {
  "hide_input": false,
  "kernelspec": {
   "display_name": "Python 3",
   "language": "python",
   "name": "python3"
  },
  "language_info": {
   "codemirror_mode": {
    "name": "ipython",
    "version": 3
   },
   "file_extension": ".py",
   "mimetype": "text/x-python",
   "name": "python",
   "nbconvert_exporter": "python",
   "pygments_lexer": "ipython3",
   "version": "3.8.13"
  },
  "varInspector": {
   "cols": {
    "lenName": 16,
    "lenType": 16,
    "lenVar": 40
   },
   "kernels_config": {
    "python": {
     "delete_cmd_postfix": "",
     "delete_cmd_prefix": "del ",
     "library": "var_list.py",
     "varRefreshCmd": "print(var_dic_list())"
    },
    "r": {
     "delete_cmd_postfix": ") ",
     "delete_cmd_prefix": "rm(",
     "library": "var_list.r",
     "varRefreshCmd": "cat(var_dic_list()) "
    }
   },
   "types_to_exclude": [
    "module",
    "function",
    "builtin_function_or_method",
    "instance",
    "_Feature"
   ],
   "window_display": false
  },
  "vscode": {
   "interpreter": {
    "hash": "cc96bf7d8208413cd08557877d9613ec72d8d2764ab17cd449b5bb9202b6bcff"
   }
  }
 },
 "nbformat": 4,
 "nbformat_minor": 5
}
