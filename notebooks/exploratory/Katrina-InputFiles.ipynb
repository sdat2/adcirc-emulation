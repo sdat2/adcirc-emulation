{
 "cells": [
  {
   "cell_type": "markdown",
   "id": "24765f8f",
   "metadata": {},
   "source": [
    "# Katrina Input Files"
   ]
  },
  {
   "cell_type": "code",
   "execution_count": 1,
   "id": "36427d7e",
   "metadata": {
    "ExecuteTime": {
     "end_time": "2022-09-26T16:19:53.378451Z",
     "start_time": "2022-09-26T16:19:53.343461Z"
    }
   },
   "outputs": [],
   "source": [
    "# Convenient jupyter setup\n",
    "%load_ext autoreload\n",
    "%autoreload 2\n",
    "%config IPCompleter.greedy=True"
   ]
  },
  {
   "cell_type": "code",
   "execution_count": 2,
   "id": "d0684f47",
   "metadata": {
    "ExecuteTime": {
     "end_time": "2022-09-26T16:20:39.728233Z",
     "start_time": "2022-09-26T16:20:37.811199Z"
    }
   },
   "outputs": [
    {
     "name": "stderr",
     "output_type": "stream",
     "text": [
      "/Users/simon/new-orleans/env/lib/python3.8/site-packages/xarray/backends/cfgrib_.py:29: UserWarning: Failed to load cfgrib - most likely there is a problem accessing the ecCodes library. Try `import cfgrib` to get the full error message\n",
      "  warnings.warn(\n",
      "/Users/simon/new-orleans/env/lib/python3.8/site-packages/geopandas/_compat.py:112: UserWarning: The Shapely GEOS version (3.10.2-CAPI-1.16.0) is incompatible with the GEOS version PyGEOS was compiled with (3.10.3-CAPI-1.16.1). Conversions between both will be slow.\n",
      "  warnings.warn(\n"
     ]
    }
   ],
   "source": [
    "import os\n",
    "import matplotlib.pyplot as plt\n",
    "import adcircpy\n",
    "from adcircpy.outputs import Maxele, MaximumElevationTimes, Fort63, Fort61, Minpr, Maxwvel, Maxvel\n",
    "from sithom.plot import plot_defaults\n",
    "from src.constants import KAT_EX_PATH, NO_BBOX\n",
    "\n",
    "plot_defaults()"
   ]
  },
  {
   "cell_type": "code",
   "execution_count": 11,
   "id": "3b4eed24",
   "metadata": {
    "ExecuteTime": {
     "end_time": "2022-09-26T16:28:25.212782Z",
     "start_time": "2022-09-26T16:28:25.123969Z"
    }
   },
   "outputs": [
    {
     "name": "stdout",
     "output_type": "stream",
     "text": [
      "Pressure [mb] 19377\n",
      "Windspeeds [m s**-1] 38697\n",
      "\n",
      "\n",
      "len_pressure / len_wsp : 0.5007364912008683\n",
      "\n",
      "\n",
      "Pressure [mb] 70057\n",
      "Windspeeds [m s**-1] 140057\n",
      "\n",
      "\n",
      "len_pressure / len_wsp : 0.5002034885796497\n",
      "\n",
      "\n",
      "Pressure [mb] 19377\n",
      "Windspeeds [m s**-1] 38697\n",
      "\n",
      "\n",
      "len_pressure / len_wsp : 0.5007364912008683\n",
      "\n",
      "\n"
     ]
    }
   ],
   "source": [
    "for file_tuple in [\n",
    "    (\"fort.217\", \"fort.218\"),\n",
    "    (\"fort.221\", \"fort.222\"),\n",
    "    (\"fort.223\", \"fort.224\"),\n",
    "]:\n",
    "    with open(os.path.join(KAT_EX_PATH, file_tuple[0])) as file:\n",
    "        len_pressure = len([x for x in file])\n",
    "        print(\"Pressure [mb]\", len_pressure)\n",
    "\n",
    "    with open(os.path.join(KAT_EX_PATH, file_tuple[1])) as file:\n",
    "        len_wsp = len([x for x in file])\n",
    "        print(\"Windspeeds [m s**-1]\", len_wsp)\n",
    "    \n",
    "    print(\"\\n\")\n",
    "        \n",
    "    print(\"len_pressure / len_wsp :\", len_pressure / len_wsp)\n",
    "\n",
    "    print(\"\\n\")"
   ]
  },
  {
   "cell_type": "code",
   "execution_count": 114,
   "id": "2d48860f",
   "metadata": {
    "ExecuteTime": {
     "end_time": "2022-09-26T19:27:07.777718Z",
     "start_time": "2022-09-26T19:27:07.155542Z"
    }
   },
   "outputs": [
    {
     "name": "stdout",
     "output_type": "stream",
     "text": [
      "len pressure 19377\n",
      "Oceanweather WIN/PRE Format                            2005082500     2005083121\n",
      "\n",
      "iLat=  46iLong=  60DX=0.0500DY=0.0500SWLat=28.60000SWLon=-90.2800DT=200508250000\n",
      "\n",
      " 1012.9691 1012.9689 1012.9665 1012.9678 1012.9648 1012.9629 1012.9574 1012.9541\n",
      "\n",
      "[1012.9691, 1012.9689, 1012.9665, 1012.9678, 1012.9648, 1012.9629, 1012.9574, 1012.9541]\n",
      "iLat=  46iLong=  60DX=0.0500DY=0.0500SWLat=28.60000SWLon=-90.2800DT=200508250300\n",
      "\n",
      "iLat=  46iLong=  60DX=0.0500DY=0.0500SWLat=28.60000SWLon=-90.2800DT=200508250600\n",
      "\n",
      "iLat=  46iLong=  60DX=0.0500DY=0.0500SWLat=28.60000SWLon=-90.2800DT=200508250900\n",
      "\n",
      "iLat=  46iLong=  60DX=0.0500DY=0.0500SWLat=28.60000SWLon=-90.2800DT=200508251200\n",
      "\n",
      "iLat=  46iLong=  60DX=0.0500DY=0.0500SWLat=28.60000SWLon=-90.2800DT=200508251500\n",
      "\n",
      "iLat=  46iLong=  60DX=0.0500DY=0.0500SWLat=28.60000SWLon=-90.2800DT=200508251800\n",
      "\n",
      "iLat=  46iLong=  60DX=0.0500DY=0.0500SWLat=28.60000SWLon=-90.2800DT=200508252100\n",
      "\n",
      "iLat=  46iLong=  60DX=0.0500DY=0.0500SWLat=28.60000SWLon=-90.2800DT=200508260000\n",
      "\n",
      "iLat=  46iLong=  60DX=0.0500DY=0.0500SWLat=28.60000SWLon=-90.2800DT=200508260300\n",
      "\n",
      "iLat=  46iLong=  60DX=0.0500DY=0.0500SWLat=28.60000SWLon=-90.2800DT=200508260600\n",
      "\n",
      "iLat=  46iLong=  60DX=0.0500DY=0.0500SWLat=28.60000SWLon=-90.2800DT=200508260900\n",
      "\n",
      "iLat=  46iLong=  60DX=0.0500DY=0.0500SWLat=28.60000SWLon=-90.2800DT=200508261200\n",
      "\n",
      "iLat=  46iLong=  60DX=0.0500DY=0.0500SWLat=28.60000SWLon=-90.2800DT=200508261500\n",
      "\n",
      "iLat=  46iLong=  60DX=0.0500DY=0.0500SWLat=28.60000SWLon=-90.2800DT=200508261800\n",
      "\n",
      "iLat=  46iLong=  60DX=0.0500DY=0.0500SWLat=28.60000SWLon=-90.2800DT=200508262100\n",
      "\n",
      "iLat=  46iLong=  60DX=0.0500DY=0.0500SWLat=28.60000SWLon=-90.2800DT=200508270000\n",
      "\n",
      "iLat=  46iLong=  60DX=0.0500DY=0.0500SWLat=28.60000SWLon=-90.2800DT=200508270300\n",
      "\n",
      "iLat=  46iLong=  60DX=0.0500DY=0.0500SWLat=28.60000SWLon=-90.2800DT=200508270600\n",
      "\n",
      "iLat=  46iLong=  60DX=0.0500DY=0.0500SWLat=28.60000SWLon=-90.2800DT=200508270900\n",
      "\n",
      "iLat=  46iLong=  60DX=0.0500DY=0.0500SWLat=28.60000SWLon=-90.2800DT=200508271200\n",
      "\n",
      "iLat=  46iLong=  60DX=0.0500DY=0.0500SWLat=28.60000SWLon=-90.2800DT=200508271500\n",
      "\n",
      "iLat=  46iLong=  60DX=0.0500DY=0.0500SWLat=28.60000SWLon=-90.2800DT=200508271800\n",
      "\n",
      "iLat=  46iLong=  60DX=0.0500DY=0.0500SWLat=28.60000SWLon=-90.2800DT=200508272100\n",
      "\n",
      "iLat=  46iLong=  60DX=0.0500DY=0.0500SWLat=28.60000SWLon=-90.2800DT=200508280000\n",
      "\n",
      "iLat=  46iLong=  60DX=0.0500DY=0.0500SWLat=28.60000SWLon=-90.2800DT=200508280300\n",
      "\n",
      "iLat=  46iLong=  60DX=0.0500DY=0.0500SWLat=28.60000SWLon=-90.2800DT=200508280600\n",
      "\n",
      "iLat=  46iLong=  60DX=0.0500DY=0.0500SWLat=28.60000SWLon=-90.2800DT=200508280900\n",
      "\n",
      "iLat=  46iLong=  60DX=0.0500DY=0.0500SWLat=28.60000SWLon=-90.2800DT=200508281200\n",
      "\n",
      "iLat=  46iLong=  60DX=0.0500DY=0.0500SWLat=28.60000SWLon=-90.2800DT=200508281500\n",
      "\n",
      "iLat=  46iLong=  60DX=0.0500DY=0.0500SWLat=28.60000SWLon=-90.2800DT=200508281800\n",
      "\n",
      "iLat=  46iLong=  60DX=0.0500DY=0.0500SWLat=28.60000SWLon=-90.2800DT=200508282100\n",
      "\n",
      "iLat=  46iLong=  60DX=0.0500DY=0.0500SWLat=28.60000SWLon=-90.2800DT=200508290000\n",
      "\n",
      "iLat=  46iLong=  60DX=0.0500DY=0.0500SWLat=28.60000SWLon=-90.2800DT=200508290300\n",
      "\n",
      "iLat=  46iLong=  60DX=0.0500DY=0.0500SWLat=28.60000SWLon=-90.2800DT=200508290600\n",
      "\n",
      "iLat=  46iLong=  60DX=0.0500DY=0.0500SWLat=28.60000SWLon=-90.2800DT=200508290900\n",
      "\n",
      "iLat=  46iLong=  60DX=0.0500DY=0.0500SWLat=28.60000SWLon=-90.2800DT=200508291200\n",
      "\n",
      "iLat=  46iLong=  60DX=0.0500DY=0.0500SWLat=28.60000SWLon=-90.2800DT=200508291500\n",
      "\n",
      "iLat=  46iLong=  60DX=0.0500DY=0.0500SWLat=28.60000SWLon=-90.2800DT=200508291800\n",
      "\n",
      "iLat=  46iLong=  60DX=0.0500DY=0.0500SWLat=28.60000SWLon=-90.2800DT=200508292100\n",
      "\n",
      "iLat=  46iLong=  60DX=0.0500DY=0.0500SWLat=28.60000SWLon=-90.2800DT=200508300000\n",
      "\n",
      "iLat=  46iLong=  60DX=0.0500DY=0.0500SWLat=28.60000SWLon=-90.2800DT=200508300300\n",
      "\n",
      "iLat=  46iLong=  60DX=0.0500DY=0.0500SWLat=28.60000SWLon=-90.2800DT=200508300600\n",
      "\n",
      "iLat=  46iLong=  60DX=0.0500DY=0.0500SWLat=28.60000SWLon=-90.2800DT=200508300900\n",
      "\n",
      "iLat=  46iLong=  60DX=0.0500DY=0.0500SWLat=28.60000SWLon=-90.2800DT=200508301200\n",
      "\n",
      "iLat=  46iLong=  60DX=0.0500DY=0.0500SWLat=28.60000SWLon=-90.2800DT=200508301500\n",
      "\n",
      "iLat=  46iLong=  60DX=0.0500DY=0.0500SWLat=28.60000SWLon=-90.2800DT=200508301800\n",
      "\n",
      "iLat=  46iLong=  60DX=0.0500DY=0.0500SWLat=28.60000SWLon=-90.2800DT=200508302100\n",
      "\n",
      "iLat=  46iLong=  60DX=0.0500DY=0.0500SWLat=28.60000SWLon=-90.2800DT=200508310000\n",
      "\n",
      "iLat=  46iLong=  60DX=0.0500DY=0.0500SWLat=28.60000SWLon=-90.2800DT=200508310300\n",
      "\n",
      "iLat=  46iLong=  60DX=0.0500DY=0.0500SWLat=28.60000SWLon=-90.2800DT=200508310600\n",
      "\n",
      "iLat=  46iLong=  60DX=0.0500DY=0.0500SWLat=28.60000SWLon=-90.2800DT=200508310900\n",
      "\n",
      "iLat=  46iLong=  60DX=0.0500DY=0.0500SWLat=28.60000SWLon=-90.2800DT=200508311200\n",
      "\n",
      "iLat=  46iLong=  60DX=0.0500DY=0.0500SWLat=28.60000SWLon=-90.2800DT=200508311500\n",
      "\n",
      "iLat=  46iLong=  60DX=0.0500DY=0.0500SWLat=28.60000SWLon=-90.2800DT=200508311800\n",
      "\n",
      "iLat=  46iLong=  60DX=0.0500DY=0.0500SWLat=28.60000SWLon=-90.2800DT=200508312100\n",
      "\n",
      "[200508250000.0, 200508250300.0, 200508250600.0, 200508250900.0, 200508251200.0, 200508251500.0, 200508251800.0, 200508252100.0, 200508260000.0, 200508260300.0, 200508260600.0, 200508260900.0, 200508261200.0, 200508261500.0, 200508261800.0, 200508262100.0, 200508270000.0, 200508270300.0, 200508270600.0, 200508270900.0, 200508271200.0, 200508271500.0, 200508271800.0, 200508272100.0, 200508280000.0, 200508280300.0, 200508280600.0, 200508280900.0, 200508281200.0, 200508281500.0, 200508281800.0, 200508282100.0, 200508290000.0, 200508290300.0, 200508290600.0, 200508290900.0, 200508291200.0, 200508291500.0, 200508291800.0, 200508292100.0, 200508300000.0, 200508300300.0, 200508300600.0, 200508300900.0, 200508301200.0, 200508301500.0, 200508301800.0, 200508302100.0, 200508310000.0, 200508310300.0, 200508310600.0, 200508310900.0, 200508311200.0, 200508311500.0, 200508311800.0, 200508312100.0]\n",
      "56\n",
      "len pressure 70057\n",
      "Oceanweather WIN/PRE Format                            2005082500     2005083121\n",
      "\n",
      "iLat= 100iLong= 100DX=0.2500DY=0.2500SWLat=17.00000SWLon=-99.0000DT=200508250000\n",
      "\n",
      " 1013.0000 1013.0000 1013.0000 1013.0000 1013.0000 1013.0000 1013.0000 1013.0000\n",
      "\n",
      "[1013.0, 1013.0, 1013.0, 1013.0, 1013.0, 1013.0, 1013.0, 1013.0]\n",
      "iLat= 100iLong= 100DX=0.2500DY=0.2500SWLat=17.00000SWLon=-99.0000DT=200508250300\n",
      "\n",
      "iLat= 100iLong= 100DX=0.2500DY=0.2500SWLat=17.00000SWLon=-99.0000DT=200508250600\n",
      "\n",
      "iLat= 100iLong= 100DX=0.2500DY=0.2500SWLat=17.00000SWLon=-99.0000DT=200508250900\n",
      "\n",
      "iLat= 100iLong= 100DX=0.2500DY=0.2500SWLat=17.00000SWLon=-99.0000DT=200508251200\n",
      "\n",
      "iLat= 100iLong= 100DX=0.2500DY=0.2500SWLat=17.00000SWLon=-99.0000DT=200508251500\n",
      "\n",
      "iLat= 100iLong= 100DX=0.2500DY=0.2500SWLat=17.00000SWLon=-99.0000DT=200508251800\n",
      "\n",
      "iLat= 100iLong= 100DX=0.2500DY=0.2500SWLat=17.00000SWLon=-99.0000DT=200508252100\n",
      "\n",
      "iLat= 100iLong= 100DX=0.2500DY=0.2500SWLat=17.00000SWLon=-99.0000DT=200508260000\n",
      "\n",
      "iLat= 100iLong= 100DX=0.2500DY=0.2500SWLat=17.00000SWLon=-99.0000DT=200508260300\n",
      "\n",
      "iLat= 100iLong= 100DX=0.2500DY=0.2500SWLat=17.00000SWLon=-99.0000DT=200508260600\n",
      "\n",
      "iLat= 100iLong= 100DX=0.2500DY=0.2500SWLat=17.00000SWLon=-99.0000DT=200508260900\n",
      "\n",
      "iLat= 100iLong= 100DX=0.2500DY=0.2500SWLat=17.00000SWLon=-99.0000DT=200508261200\n",
      "\n",
      "iLat= 100iLong= 100DX=0.2500DY=0.2500SWLat=17.00000SWLon=-99.0000DT=200508261500\n",
      "\n",
      "iLat= 100iLong= 100DX=0.2500DY=0.2500SWLat=17.00000SWLon=-99.0000DT=200508261800\n",
      "\n",
      "iLat= 100iLong= 100DX=0.2500DY=0.2500SWLat=17.00000SWLon=-99.0000DT=200508262100\n",
      "\n",
      "iLat= 100iLong= 100DX=0.2500DY=0.2500SWLat=17.00000SWLon=-99.0000DT=200508270000\n",
      "\n",
      "iLat= 100iLong= 100DX=0.2500DY=0.2500SWLat=17.00000SWLon=-99.0000DT=200508270300\n",
      "\n",
      "iLat= 100iLong= 100DX=0.2500DY=0.2500SWLat=17.00000SWLon=-99.0000DT=200508270600\n",
      "\n",
      "iLat= 100iLong= 100DX=0.2500DY=0.2500SWLat=17.00000SWLon=-99.0000DT=200508270900\n",
      "\n",
      "iLat= 100iLong= 100DX=0.2500DY=0.2500SWLat=17.00000SWLon=-99.0000DT=200508271200\n",
      "\n",
      "iLat= 100iLong= 100DX=0.2500DY=0.2500SWLat=17.00000SWLon=-99.0000DT=200508271500\n",
      "\n",
      "iLat= 100iLong= 100DX=0.2500DY=0.2500SWLat=17.00000SWLon=-99.0000DT=200508271800\n",
      "\n",
      "iLat= 100iLong= 100DX=0.2500DY=0.2500SWLat=17.00000SWLon=-99.0000DT=200508272100\n",
      "\n",
      "iLat= 100iLong= 100DX=0.2500DY=0.2500SWLat=17.00000SWLon=-99.0000DT=200508280000\n",
      "\n",
      "iLat= 100iLong= 100DX=0.2500DY=0.2500SWLat=17.00000SWLon=-99.0000DT=200508280300\n",
      "\n",
      "iLat= 100iLong= 100DX=0.2500DY=0.2500SWLat=17.00000SWLon=-99.0000DT=200508280600\n",
      "\n",
      "iLat= 100iLong= 100DX=0.2500DY=0.2500SWLat=17.00000SWLon=-99.0000DT=200508280900\n",
      "\n",
      "iLat= 100iLong= 100DX=0.2500DY=0.2500SWLat=17.00000SWLon=-99.0000DT=200508281200\n",
      "\n",
      "iLat= 100iLong= 100DX=0.2500DY=0.2500SWLat=17.00000SWLon=-99.0000DT=200508281500\n",
      "\n",
      "iLat= 100iLong= 100DX=0.2500DY=0.2500SWLat=17.00000SWLon=-99.0000DT=200508281800\n",
      "\n",
      "iLat= 100iLong= 100DX=0.2500DY=0.2500SWLat=17.00000SWLon=-99.0000DT=200508282100\n",
      "\n",
      "iLat= 100iLong= 100DX=0.2500DY=0.2500SWLat=17.00000SWLon=-99.0000DT=200508290000\n",
      "\n",
      "iLat= 100iLong= 100DX=0.2500DY=0.2500SWLat=17.00000SWLon=-99.0000DT=200508290300\n",
      "\n",
      "iLat= 100iLong= 100DX=0.2500DY=0.2500SWLat=17.00000SWLon=-99.0000DT=200508290600\n",
      "\n",
      "iLat= 100iLong= 100DX=0.2500DY=0.2500SWLat=17.00000SWLon=-99.0000DT=200508290900\n",
      "\n"
     ]
    },
    {
     "name": "stdout",
     "output_type": "stream",
     "text": [
      "iLat= 100iLong= 100DX=0.2500DY=0.2500SWLat=17.00000SWLon=-99.0000DT=200508291200\n",
      "\n",
      "iLat= 100iLong= 100DX=0.2500DY=0.2500SWLat=17.00000SWLon=-99.0000DT=200508291500\n",
      "\n",
      "iLat= 100iLong= 100DX=0.2500DY=0.2500SWLat=17.00000SWLon=-99.0000DT=200508291800\n",
      "\n",
      "iLat= 100iLong= 100DX=0.2500DY=0.2500SWLat=17.00000SWLon=-99.0000DT=200508292100\n",
      "\n",
      "iLat= 100iLong= 100DX=0.2500DY=0.2500SWLat=17.00000SWLon=-99.0000DT=200508300000\n",
      "\n",
      "iLat= 100iLong= 100DX=0.2500DY=0.2500SWLat=17.00000SWLon=-99.0000DT=200508300300\n",
      "\n",
      "iLat= 100iLong= 100DX=0.2500DY=0.2500SWLat=17.00000SWLon=-99.0000DT=200508300600\n",
      "\n",
      "iLat= 100iLong= 100DX=0.2500DY=0.2500SWLat=17.00000SWLon=-99.0000DT=200508300900\n",
      "\n",
      "iLat= 100iLong= 100DX=0.2500DY=0.2500SWLat=17.00000SWLon=-99.0000DT=200508301200\n",
      "\n",
      "iLat= 100iLong= 100DX=0.2500DY=0.2500SWLat=17.00000SWLon=-99.0000DT=200508301500\n",
      "\n",
      "iLat= 100iLong= 100DX=0.2500DY=0.2500SWLat=17.00000SWLon=-99.0000DT=200508301800\n",
      "\n",
      "iLat= 100iLong= 100DX=0.2500DY=0.2500SWLat=17.00000SWLon=-99.0000DT=200508302100\n",
      "\n",
      "iLat= 100iLong= 100DX=0.2500DY=0.2500SWLat=17.00000SWLon=-99.0000DT=200508310000\n",
      "\n",
      "iLat= 100iLong= 100DX=0.2500DY=0.2500SWLat=17.00000SWLon=-99.0000DT=200508310300\n",
      "\n",
      "iLat= 100iLong= 100DX=0.2500DY=0.2500SWLat=17.00000SWLon=-99.0000DT=200508310600\n",
      "\n",
      "iLat= 100iLong= 100DX=0.2500DY=0.2500SWLat=17.00000SWLon=-99.0000DT=200508310900\n",
      "\n",
      "iLat= 100iLong= 100DX=0.2500DY=0.2500SWLat=17.00000SWLon=-99.0000DT=200508311200\n",
      "\n",
      "iLat= 100iLong= 100DX=0.2500DY=0.2500SWLat=17.00000SWLon=-99.0000DT=200508311500\n",
      "\n",
      "iLat= 100iLong= 100DX=0.2500DY=0.2500SWLat=17.00000SWLon=-99.0000DT=200508311800\n",
      "\n",
      "iLat= 100iLong= 100DX=0.2500DY=0.2500SWLat=17.00000SWLon=-99.0000DT=200508312100\n",
      "\n",
      "[200508250000.0, 200508250300.0, 200508250600.0, 200508250900.0, 200508251200.0, 200508251500.0, 200508251800.0, 200508252100.0, 200508260000.0, 200508260300.0, 200508260600.0, 200508260900.0, 200508261200.0, 200508261500.0, 200508261800.0, 200508262100.0, 200508270000.0, 200508270300.0, 200508270600.0, 200508270900.0, 200508271200.0, 200508271500.0, 200508271800.0, 200508272100.0, 200508280000.0, 200508280300.0, 200508280600.0, 200508280900.0, 200508281200.0, 200508281500.0, 200508281800.0, 200508282100.0, 200508290000.0, 200508290300.0, 200508290600.0, 200508290900.0, 200508291200.0, 200508291500.0, 200508291800.0, 200508292100.0, 200508300000.0, 200508300300.0, 200508300600.0, 200508300900.0, 200508301200.0, 200508301500.0, 200508301800.0, 200508302100.0, 200508310000.0, 200508310300.0, 200508310600.0, 200508310900.0, 200508311200.0, 200508311500.0, 200508311800.0, 200508312100.0]\n",
      "56\n",
      "len pressure 19377\n",
      "Oceanweather WIN/PRE Format                            2005082500     2005083121\n",
      "\n",
      "iLat=  46iLong=  60DX=0.1500DY=0.1500SWLat=25.75000SWLon=-92.2000DT=200508250000\n",
      "\n",
      " 1013.9501 1013.9381 1013.9126 1013.8789 1013.8384 1013.7887 1013.7498 1013.7150\n",
      "\n",
      "[1013.9501, 1013.9381, 1013.9126, 1013.8789, 1013.8384, 1013.7887, 1013.7498, 1013.715]\n",
      "iLat=  46iLong=  60DX=0.1500DY=0.1500SWLat=25.75000SWLon=-92.2000DT=200508250300\n",
      "\n",
      "iLat=  46iLong=  60DX=0.1500DY=0.1500SWLat=25.75000SWLon=-92.2000DT=200508250600\n",
      "\n",
      "iLat=  46iLong=  60DX=0.1500DY=0.1500SWLat=25.75000SWLon=-92.2000DT=200508250900\n",
      "\n",
      "iLat=  46iLong=  60DX=0.1500DY=0.1500SWLat=25.75000SWLon=-92.2000DT=200508251200\n",
      "\n",
      "iLat=  46iLong=  60DX=0.1500DY=0.1500SWLat=25.75000SWLon=-92.2000DT=200508251500\n",
      "\n",
      "iLat=  46iLong=  60DX=0.1500DY=0.1500SWLat=25.75000SWLon=-92.2000DT=200508251800\n",
      "\n",
      "iLat=  46iLong=  60DX=0.1500DY=0.1500SWLat=25.75000SWLon=-92.2000DT=200508252100\n",
      "\n",
      "iLat=  46iLong=  60DX=0.1500DY=0.1500SWLat=25.75000SWLon=-92.2000DT=200508260000\n",
      "\n",
      "iLat=  46iLong=  60DX=0.1500DY=0.1500SWLat=25.75000SWLon=-92.2000DT=200508260300\n",
      "\n",
      "iLat=  46iLong=  60DX=0.1500DY=0.1500SWLat=25.75000SWLon=-92.2000DT=200508260600\n",
      "\n",
      "iLat=  46iLong=  60DX=0.1500DY=0.1500SWLat=25.75000SWLon=-92.2000DT=200508260900\n",
      "\n",
      "iLat=  46iLong=  60DX=0.1500DY=0.1500SWLat=25.75000SWLon=-92.2000DT=200508261200\n",
      "\n",
      "iLat=  46iLong=  60DX=0.1500DY=0.1500SWLat=25.75000SWLon=-92.2000DT=200508261500\n",
      "\n",
      "iLat=  46iLong=  60DX=0.1500DY=0.1500SWLat=25.75000SWLon=-92.2000DT=200508261800\n",
      "\n",
      "iLat=  46iLong=  60DX=0.1500DY=0.1500SWLat=25.75000SWLon=-92.2000DT=200508262100\n",
      "\n",
      "iLat=  46iLong=  60DX=0.1500DY=0.1500SWLat=25.75000SWLon=-92.2000DT=200508270000\n",
      "\n",
      "iLat=  46iLong=  60DX=0.1500DY=0.1500SWLat=25.75000SWLon=-92.2000DT=200508270300\n",
      "\n",
      "iLat=  46iLong=  60DX=0.1500DY=0.1500SWLat=25.75000SWLon=-92.2000DT=200508270600\n",
      "\n",
      "iLat=  46iLong=  60DX=0.1500DY=0.1500SWLat=25.75000SWLon=-92.2000DT=200508270900\n",
      "\n",
      "iLat=  46iLong=  60DX=0.1500DY=0.1500SWLat=25.75000SWLon=-92.2000DT=200508271200\n",
      "\n",
      "iLat=  46iLong=  60DX=0.1500DY=0.1500SWLat=25.75000SWLon=-92.2000DT=200508271500\n",
      "\n",
      "iLat=  46iLong=  60DX=0.1500DY=0.1500SWLat=25.75000SWLon=-92.2000DT=200508271800\n",
      "\n",
      "iLat=  46iLong=  60DX=0.1500DY=0.1500SWLat=25.75000SWLon=-92.2000DT=200508272100\n",
      "\n",
      "iLat=  46iLong=  60DX=0.1500DY=0.1500SWLat=25.75000SWLon=-92.2000DT=200508280000\n",
      "\n",
      "iLat=  46iLong=  60DX=0.1500DY=0.1500SWLat=25.75000SWLon=-92.2000DT=200508280300\n",
      "\n",
      "iLat=  46iLong=  60DX=0.1500DY=0.1500SWLat=25.75000SWLon=-92.2000DT=200508280600\n",
      "\n",
      "iLat=  46iLong=  60DX=0.1500DY=0.1500SWLat=25.75000SWLon=-92.2000DT=200508280900\n",
      "\n",
      "iLat=  46iLong=  60DX=0.1500DY=0.1500SWLat=25.75000SWLon=-92.2000DT=200508281200\n",
      "\n",
      "iLat=  46iLong=  60DX=0.1500DY=0.1500SWLat=25.75000SWLon=-92.2000DT=200508281500\n",
      "\n",
      "iLat=  46iLong=  60DX=0.1500DY=0.1500SWLat=25.75000SWLon=-92.2000DT=200508281800\n",
      "\n",
      "iLat=  46iLong=  60DX=0.1500DY=0.1500SWLat=25.75000SWLon=-92.2000DT=200508282100\n",
      "\n",
      "iLat=  46iLong=  60DX=0.1500DY=0.1500SWLat=25.75000SWLon=-92.2000DT=200508290000\n",
      "\n",
      "iLat=  46iLong=  60DX=0.1500DY=0.1500SWLat=25.75000SWLon=-92.2000DT=200508290300\n",
      "\n",
      "iLat=  46iLong=  60DX=0.1500DY=0.1500SWLat=25.75000SWLon=-92.2000DT=200508290600\n",
      "\n",
      "iLat=  46iLong=  60DX=0.1500DY=0.1500SWLat=25.75000SWLon=-92.2000DT=200508290900\n",
      "\n",
      "iLat=  46iLong=  60DX=0.1500DY=0.1500SWLat=25.75000SWLon=-92.2000DT=200508291200\n",
      "\n",
      "iLat=  46iLong=  60DX=0.1500DY=0.1500SWLat=25.75000SWLon=-92.2000DT=200508291500\n",
      "\n",
      "iLat=  46iLong=  60DX=0.1500DY=0.1500SWLat=25.75000SWLon=-92.2000DT=200508291800\n",
      "\n",
      "iLat=  46iLong=  60DX=0.1500DY=0.1500SWLat=25.75000SWLon=-92.2000DT=200508292100\n",
      "\n",
      "iLat=  46iLong=  60DX=0.1500DY=0.1500SWLat=25.75000SWLon=-92.2000DT=200508300000\n",
      "\n",
      "iLat=  46iLong=  60DX=0.1500DY=0.1500SWLat=25.75000SWLon=-92.2000DT=200508300300\n",
      "\n",
      "iLat=  46iLong=  60DX=0.1500DY=0.1500SWLat=25.75000SWLon=-92.2000DT=200508300600\n",
      "\n",
      "iLat=  46iLong=  60DX=0.1500DY=0.1500SWLat=25.75000SWLon=-92.2000DT=200508300900\n",
      "\n",
      "iLat=  46iLong=  60DX=0.1500DY=0.1500SWLat=25.75000SWLon=-92.2000DT=200508301200\n",
      "\n",
      "iLat=  46iLong=  60DX=0.1500DY=0.1500SWLat=25.75000SWLon=-92.2000DT=200508301500\n",
      "\n",
      "iLat=  46iLong=  60DX=0.1500DY=0.1500SWLat=25.75000SWLon=-92.2000DT=200508301800\n",
      "\n",
      "iLat=  46iLong=  60DX=0.1500DY=0.1500SWLat=25.75000SWLon=-92.2000DT=200508302100\n",
      "\n",
      "iLat=  46iLong=  60DX=0.1500DY=0.1500SWLat=25.75000SWLon=-92.2000DT=200508310000\n",
      "\n",
      "iLat=  46iLong=  60DX=0.1500DY=0.1500SWLat=25.75000SWLon=-92.2000DT=200508310300\n",
      "\n",
      "iLat=  46iLong=  60DX=0.1500DY=0.1500SWLat=25.75000SWLon=-92.2000DT=200508310600\n",
      "\n",
      "iLat=  46iLong=  60DX=0.1500DY=0.1500SWLat=25.75000SWLon=-92.2000DT=200508310900\n",
      "\n",
      "iLat=  46iLong=  60DX=0.1500DY=0.1500SWLat=25.75000SWLon=-92.2000DT=200508311200\n",
      "\n",
      "iLat=  46iLong=  60DX=0.1500DY=0.1500SWLat=25.75000SWLon=-92.2000DT=200508311500\n",
      "\n",
      "iLat=  46iLong=  60DX=0.1500DY=0.1500SWLat=25.75000SWLon=-92.2000DT=200508311800\n",
      "\n",
      "iLat=  46iLong=  60DX=0.1500DY=0.1500SWLat=25.75000SWLon=-92.2000DT=200508312100\n",
      "\n",
      "[200508250000.0, 200508250300.0, 200508250600.0, 200508250900.0, 200508251200.0, 200508251500.0, 200508251800.0, 200508252100.0, 200508260000.0, 200508260300.0, 200508260600.0, 200508260900.0, 200508261200.0, 200508261500.0, 200508261800.0, 200508262100.0, 200508270000.0, 200508270300.0, 200508270600.0, 200508270900.0, 200508271200.0, 200508271500.0, 200508271800.0, 200508272100.0, 200508280000.0, 200508280300.0, 200508280600.0, 200508280900.0, 200508281200.0, 200508281500.0, 200508281800.0, 200508282100.0, 200508290000.0, 200508290300.0, 200508290600.0, 200508290900.0, 200508291200.0, 200508291500.0, 200508291800.0, 200508292100.0, 200508300000.0, 200508300300.0, 200508300600.0, 200508300900.0, 200508301200.0, 200508301500.0, 200508301800.0, 200508302100.0, 200508310000.0, 200508310300.0, 200508310600.0, 200508310900.0, 200508311200.0, 200508311500.0, 200508311800.0, 200508312100.0]\n",
      "56\n"
     ]
    }
   ],
   "source": [
    "from typing import List\n",
    "import numpy as np\n",
    "import xarray as xr\n",
    "\n",
    "\n",
    "def read_data_line(line: str) -> List[float]:\n",
    "    # 4 decimal point figures\n",
    "    return [float(x) for x in line.strip(\"\\n\").split(\" \") if x != \"\"]\n",
    "\n",
    "\n",
    "def read_coord_line(line, names) -> dict:\n",
    "    \"\"\"\n",
    "    Process line.\n",
    "\n",
    "    Example::\n",
    "        >>> names = [\"iLat\", \"iLong\", \"DX\", \"DY\", \"SWLat\", \"SWLon\", \"DT\"]\n",
    "        >>> line = \"iLat=  46iLong=  60DX=0.0500DY=0.0500SWLat=28.60000SWLon=-90.2800DT=200508250000\"\n",
    "        >>> read_coord_line(line, names)\n",
    "        {'iLat': 46.0,\n",
    "         'iLong': 60.0,\n",
    "         'DX': 0.05,\n",
    "         'DY': 0.05,\n",
    "         'SWLat': 28.6,\n",
    "         'SWLon': -90.28,\n",
    "         'DT': 200508250000.0}\n",
    "    \"\"\"\n",
    "    result_dict = {}\n",
    "\n",
    "    for i, name in enumerate(names):\n",
    "        line = line.strip(name + \"=\")\n",
    "        if i < len(names) - 1:\n",
    "            int_l = line.split(names[i + 1] + \"=\")\n",
    "            result_dict[name] = float(int_l[0])\n",
    "            line = int_l[1]\n",
    "        else:\n",
    "            result_dict[name] = float(int_l[1])\n",
    "\n",
    "    return result_dict\n",
    "\n",
    "\n",
    "def read_pressures(pressure_path: str) -> np.ndarray:\n",
    "    with open(pressure_path) as file:\n",
    "\n",
    "        pressure_list = [x for x in file]\n",
    "        pressure_lol = []\n",
    "\n",
    "        len_pressure = len(pressure_list)\n",
    "        print(\"len pressure\", len_pressure)\n",
    "\n",
    "        print(pressure_list[0])\n",
    "        print(pressure_list[1])\n",
    "        print(pressure_list[2])\n",
    "        print(read_line(pressure_list[2]))\n",
    "\n",
    "        names = [\"iLat\", \"iLong\", \"DX\", \"DY\", \"SWLat\", \"SWLon\", \"DT\"]\n",
    "        coords = read_coord_line(pressure_list[1], names)\n",
    "\n",
    "        pressure_lol.append([])\n",
    "\n",
    "        for i in range(2, len_pressure):\n",
    "            if pressure_list[i].startswith(\" \"):\n",
    "                pressure_lol[-1].append(read_line(pressure_list[i]))\n",
    "            else:\n",
    "                print(pressure_list[i])\n",
    "                pressure_lol.append([])\n",
    "\n",
    "        date_list = [\n",
    "            read_coord_line(x, names)[\"DT\"] for x in pressure_list if x.startswith(\"i\")\n",
    "        ]\n",
    "        lats = np.array(\n",
    "            [coords[\"SWLat\"] + coords[\"DY\"] * i for i in range(int(coords[\"iLat\"]))]\n",
    "        )\n",
    "        lons = np.array(\n",
    "            [coords[\"SWLon\"] + coords[\"DX\"] * i for i in range(int(coords[\"iLong\"]))]\n",
    "        )\n",
    "        print(date_list)\n",
    "        print(len(date_list))\n",
    "\n",
    "        # 56 diff list - one for each timestep.\n",
    "        return xr.DataArray(\n",
    "                data=np.array(pressure_lol).reshape(len(date_list), len(lats), len(lons)),\n",
    "                dims=[\"time\", \"lat\", \"lon\"],\n",
    "                coords=dict(\n",
    "                    lon=([\"lon\"], lons),\n",
    "                    lat=([\"lat\"], lats),\n",
    "                    time=date_list,\n",
    "                ),\n",
    "                attrs=dict(\n",
    "                    description=\"Pressure\",\n",
    "                    units=\"mb\",\n",
    "                ),)\n",
    "\n",
    "\n",
    "da_217 = read_pressures(os.path.join(KAT_EX_PATH, \"fort.217\"))\n",
    "da_221 = read_pressures(os.path.join(KAT_EX_PATH, \"fort.221\"))\n",
    "da_223 = read_pressures(os.path.join(KAT_EX_PATH, \"fort.223\"))\n"
   ]
  },
  {
   "cell_type": "code",
   "execution_count": 117,
   "id": "12748bf6",
   "metadata": {
    "ExecuteTime": {
     "end_time": "2022-09-26T19:29:35.586211Z",
     "start_time": "2022-09-26T19:29:35.260583Z"
    }
   },
   "outputs": [
    {
     "data": {
      "text/plain": [
       "<matplotlib.collections.QuadMesh at 0x7f8e9a608df0>"
      ]
     },
     "execution_count": 117,
     "metadata": {},
     "output_type": "execute_result"
    },
    {
     "data": {
      "image/png": "[encoded data removed]",
      "text/plain": [
       "<Figure size 432x288 with 2 Axes>"
      ]
     },
     "metadata": {
      "needs_background": "light"
     },
     "output_type": "display_data"
    }
   ],
   "source": [
    "da_217.isel(time=0).plot()\n"
   ]
  },
  {
   "cell_type": "code",
   "execution_count": 116,
   "id": "ec43b849",
   "metadata": {
    "ExecuteTime": {
     "end_time": "2022-09-26T19:27:54.791990Z",
     "start_time": "2022-09-26T19:27:54.472115Z"
    }
   },
   "outputs": [
    {
     "data": {
      "text/plain": [
       "<matplotlib.collections.QuadMesh at 0x7f8eb94d8430>"
      ]
     },
     "execution_count": 116,
     "metadata": {},
     "output_type": "execute_result"
    },
    {
     "data": {
      "image/png": "[encoded data removed]",
      "text/plain": [
       "<Figure size 432x288 with 2 Axes>"
      ]
     },
     "metadata": {
      "needs_background": "light"
     },
     "output_type": "display_data"
    }
   ],
   "source": [
    "da_223.isel(time=0).plot()\n"
   ]
  },
  {
   "cell_type": "code",
   "execution_count": 115,
   "id": "9e6b9841",
   "metadata": {
    "ExecuteTime": {
     "end_time": "2022-09-26T19:27:25.921053Z",
     "start_time": "2022-09-26T19:27:25.615546Z"
    }
   },
   "outputs": [
    {
     "data": {
      "text/plain": [
       "<matplotlib.collections.QuadMesh at 0x7f8e9b410700>"
      ]
     },
     "execution_count": 115,
     "metadata": {},
     "output_type": "execute_result"
    },
    {
     "data": {
      "image/png": "[encoded data removed]",
      "text/plain": [
       "<Figure size 432x288 with 2 Axes>"
      ]
     },
     "metadata": {
      "needs_background": "light"
     },
     "output_type": "display_data"
    }
   ],
   "source": [
    "da_221.isel(time=0).plot()\n"
   ]
  },
  {
   "cell_type": "code",
   "execution_count": 109,
   "id": "83ecc4e8",
   "metadata": {
    "ExecuteTime": {
     "end_time": "2022-09-26T19:24:31.936014Z",
     "start_time": "2022-09-26T19:24:31.645080Z"
    }
   },
   "outputs": [
    {
     "data": {
      "text/plain": [
       "<matplotlib.collections.QuadMesh at 0x7f8e9acc8b20>"
      ]
     },
     "execution_count": 109,
     "metadata": {},
     "output_type": "execute_result"
    },
    {
     "data": {
      "image/png": "[encoded data removed]",
      "text/plain": [
       "<Figure size 432x288 with 2 Axes>"
      ]
     },
     "metadata": {
      "needs_background": "light"
     },
     "output_type": "display_data"
    }
   ],
   "source": [
    "da_217.isel(time=5).plot()"
   ]
  },
  {
   "cell_type": "code",
   "execution_count": null,
   "id": "950a446b",
   "metadata": {},
   "outputs": [],
   "source": [
    "da = xr.DataArray(\n",
    "    data=temperature,\n",
    "    dims=[\"time\", \"lon\", \"lat\"],\n",
    "    coords=dict(\n",
    "        lon=([\"lon\"], lon),\n",
    "        lat=([\"lat\"], lat),\n",
    "        time=time,\n",
    "    ),\n",
    "    attrs=dict(\n",
    "        description=\"Pressure\",\n",
    "        units=\"degC\",\n",
    "    ),\n",
    ")"
   ]
  },
  {
   "cell_type": "code",
   "execution_count": 57,
   "id": "de73bd04",
   "metadata": {
    "ExecuteTime": {
     "end_time": "2022-09-26T17:08:30.630545Z",
     "start_time": "2022-09-26T17:08:30.589809Z"
    }
   },
   "outputs": [
    {
     "name": "stdout",
     "output_type": "stream",
     "text": [
      "(56, 345, 8)\n"
     ]
    },
    {
     "data": {
      "text/plain": [
       "array([1015.4116, 1015.3963, 1015.3859, ..., 1014.8865, 1014.8607,\n",
       "       1014.8319])"
      ]
     },
     "execution_count": 57,
     "metadata": {},
     "output_type": "execute_result"
    }
   ],
   "source": [
    "print(npa.shape)\n",
    "npa[1, :, :].ravel()"
   ]
  },
  {
   "cell_type": "code",
   "execution_count": 36,
   "id": "578a5d83",
   "metadata": {
    "ExecuteTime": {
     "end_time": "2022-09-26T17:00:32.217170Z",
     "start_time": "2022-09-26T17:00:32.166451Z"
    }
   },
   "outputs": [
    {
     "data": {
      "text/plain": [
       "6685065"
      ]
     },
     "execution_count": 36,
     "metadata": {},
     "output_type": "execute_result"
    }
   ],
   "source": [
    "19377 * 345"
   ]
  },
  {
   "cell_type": "code",
   "execution_count": 41,
   "id": "8f938f4a",
   "metadata": {
    "ExecuteTime": {
     "end_time": "2022-09-26T17:01:22.530250Z",
     "start_time": "2022-09-26T17:01:22.469440Z"
    }
   },
   "outputs": [
    {
     "data": {
      "text/plain": [
       "array([[0.],\n",
       "       [0.],\n",
       "       [0.],\n",
       "       [0.],\n",
       "       [0.],\n",
       "       [0.],\n",
       "       [0.],\n",
       "       [0.],\n",
       "       [0.],\n",
       "       [0.],\n",
       "       [0.],\n",
       "       [0.],\n",
       "       [0.],\n",
       "       [0.],\n",
       "       [0.],\n",
       "       [0.],\n",
       "       [0.],\n",
       "       [0.],\n",
       "       [0.],\n",
       "       [0.],\n",
       "       [0.],\n",
       "       [0.],\n",
       "       [0.],\n",
       "       [0.],\n",
       "       [0.],\n",
       "       [0.],\n",
       "       [0.],\n",
       "       [0.],\n",
       "       [0.],\n",
       "       [0.],\n",
       "       [0.],\n",
       "       [0.],\n",
       "       [0.],\n",
       "       [0.],\n",
       "       [0.],\n",
       "       [0.],\n",
       "       [0.],\n",
       "       [0.],\n",
       "       [0.],\n",
       "       [0.],\n",
       "       [0.],\n",
       "       [0.],\n",
       "       [0.],\n",
       "       [0.],\n",
       "       [0.],\n",
       "       [0.],\n",
       "       [0.],\n",
       "       [0.],\n",
       "       [0.],\n",
       "       [0.],\n",
       "       [0.],\n",
       "       [0.],\n",
       "       [0.],\n",
       "       [0.],\n",
       "       [0.],\n",
       "       [0.],\n",
       "       [0.],\n",
       "       [0.],\n",
       "       [0.],\n",
       "       [0.],\n",
       "       [0.],\n",
       "       [0.],\n",
       "       [0.],\n",
       "       [0.],\n",
       "       [0.],\n",
       "       [0.],\n",
       "       [0.],\n",
       "       [0.],\n",
       "       [0.],\n",
       "       [0.],\n",
       "       [0.],\n",
       "       [0.],\n",
       "       [0.],\n",
       "       [0.],\n",
       "       [0.],\n",
       "       [0.],\n",
       "       [0.],\n",
       "       [0.],\n",
       "       [0.],\n",
       "       [0.],\n",
       "       [0.],\n",
       "       [0.],\n",
       "       [0.],\n",
       "       [0.],\n",
       "       [0.],\n",
       "       [0.],\n",
       "       [0.],\n",
       "       [0.],\n",
       "       [0.],\n",
       "       [0.],\n",
       "       [0.],\n",
       "       [0.],\n",
       "       [0.],\n",
       "       [0.],\n",
       "       [0.],\n",
       "       [0.],\n",
       "       [0.],\n",
       "       [0.],\n",
       "       [0.],\n",
       "       [0.],\n",
       "       [0.],\n",
       "       [0.],\n",
       "       [0.],\n",
       "       [0.],\n",
       "       [0.],\n",
       "       [0.],\n",
       "       [0.],\n",
       "       [0.],\n",
       "       [0.],\n",
       "       [0.],\n",
       "       [0.],\n",
       "       [0.],\n",
       "       [0.],\n",
       "       [0.],\n",
       "       [0.],\n",
       "       [0.],\n",
       "       [0.],\n",
       "       [0.],\n",
       "       [0.],\n",
       "       [0.],\n",
       "       [0.],\n",
       "       [0.],\n",
       "       [0.],\n",
       "       [0.],\n",
       "       [0.],\n",
       "       [0.],\n",
       "       [0.],\n",
       "       [0.],\n",
       "       [0.],\n",
       "       [0.],\n",
       "       [0.],\n",
       "       [0.],\n",
       "       [0.],\n",
       "       [0.],\n",
       "       [0.],\n",
       "       [0.],\n",
       "       [0.],\n",
       "       [0.],\n",
       "       [0.],\n",
       "       [0.],\n",
       "       [0.],\n",
       "       [0.],\n",
       "       [0.],\n",
       "       [0.],\n",
       "       [0.],\n",
       "       [0.],\n",
       "       [0.],\n",
       "       [0.],\n",
       "       [0.],\n",
       "       [0.],\n",
       "       [0.],\n",
       "       [0.],\n",
       "       [0.],\n",
       "       [0.],\n",
       "       [0.],\n",
       "       [0.],\n",
       "       [0.],\n",
       "       [0.],\n",
       "       [0.],\n",
       "       [0.],\n",
       "       [0.],\n",
       "       [0.],\n",
       "       [0.],\n",
       "       [0.],\n",
       "       [0.],\n",
       "       [0.],\n",
       "       [0.],\n",
       "       [0.],\n",
       "       [0.],\n",
       "       [0.],\n",
       "       [0.],\n",
       "       [0.],\n",
       "       [0.],\n",
       "       [0.],\n",
       "       [0.],\n",
       "       [0.],\n",
       "       [0.],\n",
       "       [0.],\n",
       "       [0.],\n",
       "       [0.],\n",
       "       [0.],\n",
       "       [0.],\n",
       "       [0.],\n",
       "       [0.],\n",
       "       [0.],\n",
       "       [0.],\n",
       "       [0.],\n",
       "       [0.],\n",
       "       [0.],\n",
       "       [0.],\n",
       "       [0.],\n",
       "       [0.],\n",
       "       [0.],\n",
       "       [0.],\n",
       "       [0.],\n",
       "       [0.],\n",
       "       [0.],\n",
       "       [0.],\n",
       "       [0.],\n",
       "       [0.],\n",
       "       [0.],\n",
       "       [0.],\n",
       "       [0.],\n",
       "       [0.],\n",
       "       [0.],\n",
       "       [0.],\n",
       "       [0.],\n",
       "       [0.],\n",
       "       [0.],\n",
       "       [0.],\n",
       "       [0.],\n",
       "       [0.],\n",
       "       [0.],\n",
       "       [0.],\n",
       "       [0.],\n",
       "       [0.],\n",
       "       [0.],\n",
       "       [0.],\n",
       "       [0.],\n",
       "       [0.],\n",
       "       [0.],\n",
       "       [0.],\n",
       "       [0.],\n",
       "       [0.],\n",
       "       [0.],\n",
       "       [0.],\n",
       "       [0.],\n",
       "       [0.],\n",
       "       [0.],\n",
       "       [0.],\n",
       "       [0.],\n",
       "       [0.],\n",
       "       [0.],\n",
       "       [0.],\n",
       "       [0.],\n",
       "       [0.],\n",
       "       [0.],\n",
       "       [0.],\n",
       "       [0.],\n",
       "       [0.],\n",
       "       [0.],\n",
       "       [0.],\n",
       "       [0.],\n",
       "       [0.],\n",
       "       [0.],\n",
       "       [0.],\n",
       "       [0.],\n",
       "       [0.],\n",
       "       [0.],\n",
       "       [0.],\n",
       "       [0.],\n",
       "       [0.],\n",
       "       [0.],\n",
       "       [0.],\n",
       "       [0.],\n",
       "       [0.],\n",
       "       [0.],\n",
       "       [0.],\n",
       "       [0.],\n",
       "       [0.],\n",
       "       [0.],\n",
       "       [0.],\n",
       "       [0.],\n",
       "       [0.],\n",
       "       [0.],\n",
       "       [0.],\n",
       "       [0.],\n",
       "       [0.],\n",
       "       [0.],\n",
       "       [0.],\n",
       "       [0.],\n",
       "       [0.],\n",
       "       [0.],\n",
       "       [0.],\n",
       "       [0.],\n",
       "       [0.],\n",
       "       [0.],\n",
       "       [0.],\n",
       "       [0.],\n",
       "       [0.],\n",
       "       [0.],\n",
       "       [0.],\n",
       "       [0.],\n",
       "       [0.],\n",
       "       [0.],\n",
       "       [0.],\n",
       "       [0.],\n",
       "       [0.],\n",
       "       [0.],\n",
       "       [0.],\n",
       "       [0.],\n",
       "       [0.],\n",
       "       [0.],\n",
       "       [0.],\n",
       "       [0.],\n",
       "       [0.],\n",
       "       [0.],\n",
       "       [0.],\n",
       "       [0.],\n",
       "       [0.],\n",
       "       [0.],\n",
       "       [0.],\n",
       "       [0.],\n",
       "       [0.],\n",
       "       [0.],\n",
       "       [0.],\n",
       "       [0.],\n",
       "       [0.],\n",
       "       [0.],\n",
       "       [0.],\n",
       "       [0.],\n",
       "       [0.],\n",
       "       [0.],\n",
       "       [0.],\n",
       "       [0.],\n",
       "       [0.],\n",
       "       [0.],\n",
       "       [0.],\n",
       "       [0.],\n",
       "       [0.],\n",
       "       [0.],\n",
       "       [0.],\n",
       "       [0.],\n",
       "       [0.],\n",
       "       [0.],\n",
       "       [0.],\n",
       "       [0.],\n",
       "       [0.],\n",
       "       [0.],\n",
       "       [0.],\n",
       "       [0.],\n",
       "       [0.],\n",
       "       [0.],\n",
       "       [0.],\n",
       "       [0.],\n",
       "       [0.],\n",
       "       [0.],\n",
       "       [0.],\n",
       "       [0.],\n",
       "       [0.],\n",
       "       [0.],\n",
       "       [0.],\n",
       "       [0.],\n",
       "       [0.],\n",
       "       [0.]])"
      ]
     },
     "execution_count": 41,
     "metadata": {},
     "output_type": "execute_result"
    }
   ],
   "source": [
    "npa[4, : , :]"
   ]
  },
  {
   "cell_type": "code",
   "execution_count": 59,
   "id": "2129a43d",
   "metadata": {
    "ExecuteTime": {
     "end_time": "2022-09-26T17:09:02.315125Z",
     "start_time": "2022-09-26T17:09:02.269532Z"
    }
   },
   "outputs": [
    {
     "data": {
      "text/plain": [
       "(2760,)"
      ]
     },
     "execution_count": 59,
     "metadata": {},
     "output_type": "execute_result"
    }
   ],
   "source": [
    "npa[1, :, :].ravel().shape"
   ]
  },
  {
   "cell_type": "code",
   "execution_count": 66,
   "id": "198b4512",
   "metadata": {
    "ExecuteTime": {
     "end_time": "2022-09-26T17:12:38.904214Z",
     "start_time": "2022-09-26T17:12:38.880953Z"
    }
   },
   "outputs": [
    {
     "name": "stdout",
     "output_type": "stream",
     "text": [
      "[28.6  28.65 28.7  28.75 28.8  28.85 28.9  28.95 29.   29.05 29.1  29.15\n",
      " 29.2  29.25 29.3  29.35 29.4  29.45 29.5  29.55 29.6  29.65 29.7  29.75\n",
      " 29.8  29.85 29.9  29.95 30.   30.05 30.1  30.15 30.2  30.25 30.3  30.35\n",
      " 30.4  30.45 30.5  30.55 30.6  30.65 30.7  30.75 30.8  30.85]\n",
      "[-90.28 -90.23 -90.18 -90.13 -90.08 -90.03 -89.98 -89.93 -89.88 -89.83\n",
      " -89.78 -89.73 -89.68 -89.63 -89.58 -89.53 -89.48 -89.43 -89.38 -89.33\n",
      " -89.28 -89.23 -89.18 -89.13 -89.08 -89.03 -88.98 -88.93 -88.88 -88.83\n",
      " -88.78 -88.73 -88.68 -88.63 -88.58 -88.53 -88.48 -88.43 -88.38 -88.33\n",
      " -88.28 -88.23 -88.18 -88.13 -88.08 -88.03 -87.98 -87.93 -87.88 -87.83\n",
      " -87.78 -87.73 -87.68 -87.63 -87.58 -87.53 -87.48 -87.43 -87.38 -87.33]\n"
     ]
    }
   ],
   "source": [
    "iLat=  46 \n",
    "iLong=  60\n",
    "DX=0.0500\n",
    "DY=0.0500\n",
    "SWLat=28.60000\n",
    "SWLon=-90.2800\n",
    "DT=\"200508270300\"\n",
    "lat = np.array([SWLat + DY*i for i in range(iLat)])\n",
    "lon = np.array([SWLon + DX*i for i in range(iLong)])\n",
    "print(lat)\n",
    "print(lon)"
   ]
  },
  {
   "cell_type": "code",
   "execution_count": 67,
   "id": "9faf7ebe",
   "metadata": {
    "ExecuteTime": {
     "end_time": "2022-09-26T17:12:56.387315Z",
     "start_time": "2022-09-26T17:12:56.345443Z"
    }
   },
   "outputs": [
    {
     "name": "stdout",
     "output_type": "stream",
     "text": [
      "2760\n"
     ]
    }
   ],
   "source": [
    "print(len(lat)*len(lon))"
   ]
  },
  {
   "cell_type": "code",
   "execution_count": 72,
   "id": "4b9d4e74",
   "metadata": {
    "ExecuteTime": {
     "end_time": "2022-09-26T17:14:23.896613Z",
     "start_time": "2022-09-26T17:14:23.754100Z"
    }
   },
   "outputs": [
    {
     "data": {
      "text/plain": [
       "<matplotlib.image.AxesImage at 0x7f8eb92da340>"
      ]
     },
     "execution_count": 72,
     "metadata": {},
     "output_type": "execute_result"
    },
    {
     "data": {
      "image/png": "[encoded data removed]",
      "text/plain": [
       "<Figure size 432x288 with 1 Axes>"
      ]
     },
     "metadata": {
      "needs_background": "light"
     },
     "output_type": "display_data"
    }
   ],
   "source": [
    "plt.imshow(npa[1].reshape(len(lat), len(lon)))"
   ]
  },
  {
   "cell_type": "code",
   "execution_count": 73,
   "id": "259db8c9",
   "metadata": {
    "ExecuteTime": {
     "end_time": "2022-09-26T17:15:25.240444Z",
     "start_time": "2022-09-26T17:15:25.103239Z"
    }
   },
   "outputs": [
    {
     "data": {
      "text/plain": [
       "<matplotlib.image.AxesImage at 0x7f8e8e2704c0>"
      ]
     },
     "execution_count": 73,
     "metadata": {},
     "output_type": "execute_result"
    },
    {
     "data": {
      "image/png": "[encoded data removed]",
      "text/plain": [
       "<Figure size 432x288 with 1 Axes>"
      ]
     },
     "metadata": {
      "needs_background": "light"
     },
     "output_type": "display_data"
    }
   ],
   "source": [
    "plt.imshow(npa.reshape(56, len(lat), len(lon))[1, :, :])"
   ]
  },
  {
   "cell_type": "code",
   "execution_count": null,
   "id": "fb2ee02c",
   "metadata": {},
   "outputs": [],
   "source": [
    "xr.DataArray()"
   ]
  },
  {
   "cell_type": "code",
   "execution_count": 74,
   "id": "d6c62338",
   "metadata": {
    "ExecuteTime": {
     "end_time": "2022-09-26T18:31:04.060567Z",
     "start_time": "2022-09-26T18:31:03.974809Z"
    }
   },
   "outputs": [
    {
     "data": {
      "text/plain": [
       "['iLat',\n",
       " '  46iLong',\n",
       " '  60DX',\n",
       " '0.0500DY',\n",
       " '0.0500SWLat',\n",
       " '28.60000SWLon',\n",
       " '-90.2800DT',\n",
       " '200508250000']"
      ]
     },
     "execution_count": 74,
     "metadata": {},
     "output_type": "execute_result"
    }
   ],
   "source": [
    "\"iLat=  46iLong=  60DX=0.0500DY=0.0500SWLat=28.60000SWLon=-90.2800DT=200508250000\".split(\"=\")"
   ]
  },
  {
   "cell_type": "code",
   "execution_count": 78,
   "id": "4ae4782c",
   "metadata": {
    "ExecuteTime": {
     "end_time": "2022-09-26T18:33:27.798298Z",
     "start_time": "2022-09-26T18:33:27.753742Z"
    }
   },
   "outputs": [
    {
     "data": {
      "text/plain": [
       "['  46', '  60DX=0.0500DY=0.0500SWLat=28.60000SWLon=-90.2800DT=200508250000']"
      ]
     },
     "execution_count": 78,
     "metadata": {},
     "output_type": "execute_result"
    }
   ],
   "source": [
    "\"iLat=  46iLong=  60DX=0.0500DY=0.0500SWLat=28.60000SWLon=-90.2800DT=200508250000\".strip(\"iLat=\").split(\"iLong=\")"
   ]
  },
  {
   "cell_type": "code",
   "execution_count": 93,
   "id": "a61553e8",
   "metadata": {
    "ExecuteTime": {
     "end_time": "2022-09-26T18:48:26.429348Z",
     "start_time": "2022-09-26T18:48:26.383630Z"
    }
   },
   "outputs": [],
   "source": [
    "def process_line(line, names) -> dict:\n",
    "    \"\"\"\n",
    "    Process line.\n",
    "    \n",
    "    Example::\n",
    "        >>> names = [\"iLat\", \"iLong\", \"DX\", \"DY\", \"SWLat\", \"SWLon\", \"DT\"]\n",
    "        >>> line = \"iLat=  46iLong=  60DX=0.0500DY=0.0500SWLat=28.60000SWLon=-90.2800DT=200508250000\"\n",
    "        >>> process_line(line, names)\n",
    "        {'iLat': 46.0,\n",
    "         'iLong': 60.0,\n",
    "         'DX': 0.05,\n",
    "         'DY': 0.05,\n",
    "         'SWLat': 28.6,\n",
    "         'SWLon': -90.28,\n",
    "         'DT': 200508250000.0}\n",
    "    \"\"\"\n",
    "\n",
    "    line = \"iLat=  46iLong=  60DX=0.0500DY=0.0500SWLat=28.60000SWLon=-90.2800DT=200508250000\"\n",
    "    result_dict = {}\n",
    "\n",
    "    for i, name in enumerate(names):\n",
    "        line = line.strip(name+ \"=\")\n",
    "        if i < len(names) - 1:\n",
    "            int_l = line.split(names[i+1] + \"=\")\n",
    "            result_dict[name] = float(int_l[0]) \n",
    "            line = int_l[1]\n",
    "        else:\n",
    "            result_dict[name] = float(int_l[1])\n",
    "            \n",
    "    return result_dict"
   ]
  },
  {
   "cell_type": "code",
   "execution_count": 94,
   "id": "6047a272",
   "metadata": {
    "ExecuteTime": {
     "end_time": "2022-09-26T18:48:30.011027Z",
     "start_time": "2022-09-26T18:48:29.968913Z"
    }
   },
   "outputs": [
    {
     "data": {
      "text/plain": [
       "{'iLat': 46.0,\n",
       " 'iLong': 60.0,\n",
       " 'DX': 0.05,\n",
       " 'DY': 0.05,\n",
       " 'SWLat': 28.6,\n",
       " 'SWLon': -90.28,\n",
       " 'DT': 200508250000.0}"
      ]
     },
     "execution_count": 94,
     "metadata": {},
     "output_type": "execute_result"
    }
   ],
   "source": [
    "result_dict"
   ]
  },
  {
   "cell_type": "code",
   "execution_count": null,
   "id": "5317ce62",
   "metadata": {},
   "outputs": [],
   "source": []
  }
 ],
 "metadata": {
  "hide_input": false,
  "kernelspec": {
   "display_name": "Python 3 (ipykernel)",
   "language": "python",
   "name": "python3"
  },
  "language_info": {
   "codemirror_mode": {
    "name": "ipython",
    "version": 3
   },
   "file_extension": ".py",
   "mimetype": "text/x-python",
   "name": "python",
   "nbconvert_exporter": "python",
   "pygments_lexer": "ipython3",
   "version": "3.8.13"
  },
  "varInspector": {
   "cols": {
    "lenName": 16,
    "lenType": 16,
    "lenVar": 40
   },
   "kernels_config": {
    "python": {
     "delete_cmd_postfix": "",
     "delete_cmd_prefix": "del ",
     "library": "var_list.py",
     "varRefreshCmd": "print(var_dic_list())"
    },
    "r": {
     "delete_cmd_postfix": ") ",
     "delete_cmd_prefix": "rm(",
     "library": "var_list.r",
     "varRefreshCmd": "cat(var_dic_list()) "
    }
   },
   "types_to_exclude": [
    "module",
    "function",
    "builtin_function_or_method",
    "instance",
    "_Feature"
   ],
   "window_display": false
  }
 },
 "nbformat": 4,
 "nbformat_minor": 5
}
