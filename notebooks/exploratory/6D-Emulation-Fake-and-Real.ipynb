{
 "cells": [
  {
   "cell_type": "markdown",
   "id": "7c14fd2e",
   "metadata": {},
   "source": [
    "# 6D Emulation"
   ]
  },
  {
   "cell_type": "markdown",
   "id": "63718fe2",
   "metadata": {},
   "source": [
    "###  Load Libaries"
   ]
  },
  {
   "cell_type": "code",
   "execution_count": 1,
   "id": "bdf0cbcd",
   "metadata": {
    "ExecuteTime": {
     "end_time": "2022-11-22T15:05:35.957997Z",
     "start_time": "2022-11-22T15:05:35.918757Z"
    }
   },
   "outputs": [],
   "source": [
    "# Convenient jupyter setup\n",
    "%load_ext autoreload\n",
    "%autoreload 2\n",
    "%config IPCompleter.greedy=True"
   ]
  },
  {
   "cell_type": "code",
   "execution_count": 4,
   "id": "c3ed237e",
   "metadata": {
    "ExecuteTime": {
     "end_time": "2022-11-22T15:17:49.925480Z",
     "start_time": "2022-11-22T15:17:49.854489Z"
    }
   },
   "outputs": [],
   "source": [
    "import os\n",
    "import shutil\n",
    "import numpy as np\n",
    "import pandas as pd\n",
    "import xarray as xr\n",
    "from frozendict import frozendict\n",
    "import GPy\n",
    "from GPy import kern\n",
    "from GPy.kern import Linear, RBF, Matern32, Matern52\n",
    "from GPy.models import GPRegression\n",
    "from emukit.bayesian_optimization.acquisitions import ExpectedImprovement\n",
    "from emukit.bayesian_optimization.loops import BayesianOptimizationLoop\n",
    "from emukit.experimental_design.experimental_design_loop import ExperimentalDesignLoop\n",
    "from emukit.model_wrappers import SimpleGaussianProcessModel, GPyModelWrapper\n",
    "from emukit.core.initial_designs.latin_design import LatinDesign\n",
    "from emukit.experimental_design.acquisitions import ModelVariance\n",
    "from emukit.bayesian_optimization.acquisitions import (\n",
    "    MaxValueEntropySearch,\n",
    "    ProbabilityOfImprovement,\n",
    "    ExpectedImprovement,\n",
    ")\n",
    "from emukit.core import ParameterSpace, ContinuousParameter\n",
    "import matplotlib.pyplot as plt\n",
    "from mpl_toolkits.axes_grid1 import make_axes_locatable\n",
    "import imageio as io\n",
    "from adcircpy.outputs import Maxele\n",
    "from sithom.plot import plot_defaults, label_subplots\n",
    "from sithom.time import timeit\n",
    "from sithom.place import Point\n",
    "from sithom.misc import in_notebook\n",
    "from src.models.generation import ImpactSymmetricTC, Holland08\n",
    "from src.constants import DATA_PATH, FIGURE_PATH, NEW_ORLEANS, NO_BBOX"
   ]
  },
  {
   "cell_type": "code",
   "execution_count": 10,
   "id": "9c0a8b06",
   "metadata": {
    "ExecuteTime": {
     "end_time": "2022-11-22T15:30:32.312135Z",
     "start_time": "2022-11-22T15:30:32.207593Z"
    }
   },
   "outputs": [],
   "source": [
    "@np.vectorize\n",
    "def indices_in_bbox(lon, lat):\n",
    "    return (\n",
    "        lon > NO_BBOX.lon[0]\n",
    "        and lon < NO_BBOX.lon[1]\n",
    "        and lat > NO_BBOX.lat[0]\n",
    "        and lat < NO_BBOX.lat[1]\n",
    "    )\n",
    "\n",
    "@np.vectorize\n",
    "def real_func(param, output_direc: str) -> float:\n",
    "    point = Point(NEW_ORLEANS.lon + position, NEW_ORLEANS.lat)\n",
    "    if os.path.exists(output_direc):\n",
    "        shutil.rmtree(output_direc)\n",
    "    ImpactSymmetricTC(\n",
    "        point=point,\n",
    "        output_direc=output_direc,\n",
    "        symetric_model=Holland08(),\n",
    "        angle=angle,\n",
    "    ).run_impact()\n",
    "    path = os.path.join(output_direc, \"maxele.63.nc\")\n",
    "    maxele = Maxele(path, crs=\"EPSG:4326\")\n",
    "    index_set = 27\n",
    "    indices = indices_in_bbox(maxele.x, maxele.y)\n",
    "    return maxele.values[indices][index_set]\n",
    "\n",
    "@np.vectorize\n",
    "def fake_func(param, output_direc: str) -> float:\n",
    "    return 0.0\n",
    "\n",
    "class Emulation():\n",
    "    def __init__(\n",
    "        self,\n",
    "        seed=0,\n",
    "        init_num=40,\n",
    "        active_num=30,\n",
    "        indices=100, # plotting function\n",
    "        acqusition_class=ExpectedImprovement,\n",
    "        loop_class=BayesianOptimizationLoop,\n",
    "        kernel_class=RBF,\n",
    "        x1_range=[-90, 90],\n",
    "        x2_range=[-2, 3.2],\n",
    "        path=\"emu_angle_position\",\n",
    "    ) -> None:\n",
    "        self.seed = seed\n",
    "        np.random.seed(seed)\n",
    "        self.indices = indices\n",
    "        x1_range, x2_range = self.to_gp_scale(np.array(x1_range), np.array(x2_range))\n",
    "        x1_range = x1_range.tolist()\n",
    "        x2_range = x2_range.tolist()\n",
    "        self.ap = ContinuousParameter(\"a_param\", *x1_range)\n",
    "        self.bp = ContinuousParameter(\"b_param\", *x2_range)\n",
    "        self.space = ParameterSpace([self.ap, self.bp])\n",
    "        self.design = LatinDesign(self.space)\n",
    "        self.init_num = init_num\n",
    "        self.active_num = active_num\n",
    "        self.figure_path = os.path.join(FIGURE_PATH, path)\n",
    "        self.data_path = os.path.join(DATA_PATH, path)\n",
    "        self.call_number = 0\n",
    "\n",
    "        for path in [self.figure_path, self.data_path]:\n",
    "            if not os.path.exists(path):\n",
    "                os.mkdir(path)\n",
    "\n",
    "        # run initial data.\n",
    "        self.init_x_data = self.design.get_samples(self.init_num).astype(\"float32\")\n",
    "        self.init_y_data = self.func(self.init_x_data)\n",
    "\n",
    "        # Fit initial GPyRegression\n",
    "        self.model_gpy = GPRegression(\n",
    "            self.init_x_data,\n",
    "            self.init_y_data.reshape(len(self.init_y_data), 1),\n",
    "            kernel_class(2, 1),\n",
    "        )\n",
    "        self.model_gpy.optimize()\n",
    "\n",
    "        # active_learning - make acquisition file & loop.\n",
    "        self.model_emukit = GPyModelWrapper(self.model_gpy)\n",
    "        if acqusition_class is MaxValueEntropySearch:\n",
    "            self.acquisition_function = acqusition_class(\n",
    "                model=self.model_emukit, space=self.space\n",
    "            )\n",
    "        else:\n",
    "            self.acquisition_function = acqusition_class(model=self.model_emukit)\n",
    "\n",
    "        self.loop = loop_class(\n",
    "            model=self.model_emukit,\n",
    "            space=self.space,\n",
    "            acquisition=self.acquisition_function,\n",
    "            batch_size=1,\n",
    "        )\n",
    "\n",
    "        # get ready for active learning.\n",
    "        self.active_x_data = np.array([[np.nan, np.nan]])\n",
    "        self.active_y_data = np.array([[np.nan]])\n",
    "\n",
    "        # make initial plot\n",
    "        self.plot()\n",
    "        plt.savefig(os.path.join(self.figure_path, f\"0.png\"))\n",
    "        if in_notebook():\n",
    "            plt.show()\n",
    "        else:\n",
    "            plt.clf()\n",
    "\n",
    "        for i in range(1, active_num + 1):\n",
    "            print(i)\n",
    "            self.run_loop(1)\n",
    "            self.plot()\n",
    "            plt.savefig(os.path.join(self.figure_path, f\"{i}.png\"))\n",
    "            if in_notebook():\n",
    "                plt.show()\n",
    "            else:\n",
    "                plt.clf()\n",
    "\n",
    "        with io.get_writer(f\"{self.figure_path}.gif\", mode=\"I\", duration=0.5) as writer:\n",
    "            for file_name in [\n",
    "                os.path.join(self.figure_path, f\"{i}.png\")\n",
    "                for i in range(self.active_num + 1)\n",
    "            ]:\n",
    "                image = io.imread(file_name)\n",
    "                writer.append_data(image)\n",
    "        writer.close()\n",
    "        self.save_data()\n",
    "\n",
    "    def save_data(self):\n",
    "        init_x, init_y = self.init_data()\n",
    "        active_x, active_y = self.active_data()\n",
    "        ds = xr.Dataset(\n",
    "            data_vars=dict(\n",
    "                init_x=([\"inum\", \"var\"], init_x),\n",
    "                init_y=([\"inum\"], init_y[:, 0]),\n",
    "                active_x=([\"anum\", \"var\"], active_x),\n",
    "                active_y=(\"anum\", active_y[:, 0]),\n",
    "            ),\n",
    "            coords=dict(\n",
    "                var=([\"var\"], [\"x1\", \"x2\"]),\n",
    "            ),\n",
    "            attrs=dict(description=\"Training Data\"),\n",
    "        )\n",
    "        file_name = os.path.join(self.data_path, \"data.nc\")\n",
    "        if not os.path.exists(file_name):\n",
    "            ds.to_netcdf(file_name)\n",
    "        else:\n",
    "            print(\"File Already Exists!\")\n",
    "\n",
    "    def run_loop(self, new_iterations):\n",
    "        self.loop.run_loop(self.func, new_iterations)\n",
    "        self.active_x_data = self.loop.loop_state.X[len(self.init_x_data) :]\n",
    "        self.active_y_data = self.loop.loop_state.Y[len(self.init_x_data) :]\n",
    "\n",
    "    def init_data(self):\n",
    "        return (\n",
    "            self.merge(*self.to_real_scale(*self.split(self.init_x_data))),\n",
    "            -self.init_y_data,\n",
    "        )\n",
    "\n",
    "    def active_data(self):\n",
    "        return (\n",
    "            self.merge(*self.to_real_scale(*self.split(self.active_x_data))),\n",
    "            -self.active_y_data,\n",
    "        )\n",
    "\n",
    "    def __repr__(self) -> str:\n",
    "        return f\"seed = {self.seed}, init_num = {self.init_num}, active_num = {self.active_num}\"\n",
    "\n",
    "    def to_gp_scale(self, x1, x2):\n",
    "        return (x1 + 60) / 10, (x2 - 0.6) / 0.5\n",
    "\n",
    "    def to_real_scale(self, x1, x2):\n",
    "        return x1 * 10 - 60, x2 / 2 + 0.6\n",
    "\n",
    "    def merge(self, x1, x2):\n",
    "        return np.concatenate(\n",
    "            [x1.reshape(*x1.shape, 1), x2.reshape(*x2.shape, 1)], axis=-1\n",
    "        )\n",
    "\n",
    "    def split(self, data):\n",
    "        shape = data.shape\n",
    "        if len(shape) == 2:\n",
    "            return data[:, 0], data[:, 1]\n",
    "        elif len(shape) == 3:\n",
    "            return data[:, :, 0], data[:, :, 1]\n",
    "        else:\n",
    "            assert False\n",
    "\n",
    "    def ob_func(self, angle: np.ndarray, position: np.ndarray) -> float:\n",
    "        # print(angle, position)\n",
    "        num = len(angle)\n",
    "        output_direc = [\n",
    "            os.path.join(self.data_path, str(self.call_number + i)) for i in range(num)\n",
    "        ]\n",
    "        self.call_number += num\n",
    "        return -smash_func(angle, position, output_direc)\n",
    "\n",
    "    def func(self, data) -> float:\n",
    "        output = self.ob_func(*self.to_real_scale(*self.split(data)))\n",
    "        return output.reshape(len(output), 1)\n",
    "\n",
    "    def learnt_function(self, x1, x2):\n",
    "        mean, var = self.model_emukit.predict(self.merge(*self.to_gp_scale(x1, x2)))\n",
    "        return -mean, np.std(var)\n",
    "\n",
    "    def plot(self) -> None:\n",
    "        a_indices = np.linspace(self.ap.min, self.ap.max, num=self.indices)\n",
    "        b_indices = np.linspace(self.bp.min, self.bp.max, num=self.indices)\n",
    "        a_indices, b_indices = self.to_real_scale(a_indices, b_indices)\n",
    "        a_mesh, b_mesh = np.meshgrid(a_indices, b_indices)\n",
    "        length = len(a_indices) * len(b_indices)\n",
    "        a_array = a_mesh.ravel()\n",
    "        b_array = b_mesh.ravel()\n",
    "        comb_array = np.zeros([length, 2])\n",
    "        comb_array[:, 0] = a_array[:]\n",
    "        comb_array[:, 1] = b_array[:]\n",
    "        comb_array_gp = self.merge(*self.to_gp_scale(*self.split(comb_array)))\n",
    "\n",
    "        # Evaluate Gaussian Process\n",
    "        mean, var = self.model_emukit.predict(comb_array_gp)\n",
    "        mean_mesh = -mean[:, 0].reshape(self.indices, self.indices)\n",
    "        std_mesh = np.sqrt(var[:, 0]).reshape(self.indices, self.indices)\n",
    "        # Evaluate Acquisition Function\n",
    "        aq_mesh = self.acquisition_function.evaluate(comb_array_gp).reshape(\n",
    "            self.indices, self.indices\n",
    "        )\n",
    "\n",
    "        # Set up plot\n",
    "        plot_defaults()\n",
    "        fig, axs = plt.subplots(\n",
    "            2, 2, sharex=True, sharey=True\n",
    "        )\n",
    "        label_subplots(axs, override=\"outside\")\n",
    "\n",
    "        ax = axs[0, 1]\n",
    "        ax.set_title(\"Acq. Func.\")\n",
    "        im = ax.contourf(a_mesh, b_mesh, aq_mesh)\n",
    "        divider = make_axes_locatable(ax)\n",
    "        cax = divider.append_axes(\"right\", size=\"5%\", pad=0.05)\n",
    "        fig.colorbar(im, cax=cax, orientation=\"vertical\")\n",
    "\n",
    "        ax = axs[0, 0]\n",
    "        init_x, init_y = self.init_data()\n",
    "        active_x, active_y = self.active_data()\n",
    "        im = ax.scatter(\n",
    "            init_x[:, 0],\n",
    "            init_x[:, 1],\n",
    "            c=init_y,\n",
    "            marker=\"x\",\n",
    "            label=\"original data points\",\n",
    "        )\n",
    "        ax.scatter(\n",
    "            active_x[:, 0],\n",
    "            active_x[:, 1],\n",
    "            c=active_y,\n",
    "            marker=\"+\",\n",
    "            label=\"new data points\",\n",
    "        )\n",
    "        divider = make_axes_locatable(ax)\n",
    "        ax.set_title(\"Samples\")\n",
    "        cax = divider.append_axes(\"right\", size=\"5%\", pad=0.05)\n",
    "        fig.colorbar(im, cax=cax, orientation=\"vertical\")\n",
    "        ax.set_ylabel(\"Position [$^{\\circ}$E]\")\n",
    "\n",
    "        ax = axs[1, 0]\n",
    "        ax.set_title(\"Prediction Mean\")\n",
    "        im = ax.contourf(a_mesh, b_mesh, mean_mesh)  # , vmin=0, vmax=5.6)\n",
    "        divider = make_axes_locatable(ax)\n",
    "        cax = divider.append_axes(\"right\", size=\"5%\", pad=0.05)\n",
    "        fig.colorbar(im, cax=cax, orientation=\"vertical\")\n",
    "        ax.set_ylabel(\"Position [$^{\\circ}$E]\")\n",
    "        ax.set_xlabel(\"Bearing [$^{\\circ}$]\")\n",
    "        ax = axs[1, 1]\n",
    "        ax.set_title(\"Pred. Std. Dev. \")\n",
    "        im = ax.contourf(a_mesh, b_mesh, std_mesh)\n",
    "        divider = make_axes_locatable(ax)\n",
    "        cax = divider.append_axes(\"right\", size=\"5%\", pad=0.05)\n",
    "        fig.colorbar(im, cax=cax, orientation=\"vertical\")\n",
    "        ax.set_xlabel(\"Bearing [$^{\\circ}$]\")\n",
    "\n",
    "\n",
    "def poi():\n",
    "    Emulation(\n",
    "        acqusition_class=ProbabilityOfImprovement, path=\"emulation_angle_pos_poi\"\n",
    "    )\n",
    "\n",
    "\n",
    "def poi_long():\n",
    "    Emulation(\n",
    "        acqusition_class=ProbabilityOfImprovement,\n",
    "        path=\"emulation_angle_pos_poi_long\",\n",
    "        init_num=100,\n",
    "        active_num=50,\n",
    "    )\n",
    "\n",
    "\n",
    "def mves():\n",
    "    Emulation(\n",
    "        acqusition_class=MaxValueEntropySearch, path=\"emulation_angle_pos_mves\"\n",
    "    )\n",
    "\n",
    "\n",
    "def inp_diff():\n",
    "    Emulation(\n",
    "        path=\"emulation_angle_pos_big\",\n",
    "        seed=20,\n",
    "        init_num=100,\n",
    "        active_num=30,\n",
    "    )\n",
    "\n",
    "\n"
   ]
  },
  {
   "cell_type": "code",
   "execution_count": 34,
   "id": "70cc5c35",
   "metadata": {
    "ExecuteTime": {
     "end_time": "2022-11-22T18:49:34.752415Z",
     "start_time": "2022-11-22T18:49:34.709566Z"
    }
   },
   "outputs": [],
   "source": [
    "def param(updates):\n",
    "    defaults = {\n",
    "        # Trajectory\n",
    "        \"angle\": 0.0, # degrees from North\n",
    "        \"speed\": 7.71, # m s**-1\n",
    "        \"point_east\": 0.6, # degrees East of New Orleans\n",
    "        # Radial Profile of Tropical Cyclone - Holland Hurricane Parameters\n",
    "        \"rmax\": 40744.0, # meters\n",
    "        \"pc\": 92800.0, # Pa\n",
    "        \"vmax\": 54.01667, # m s**-1\n",
    "        \"xn\": 1.1249, # dimensionless\n",
    "    }\n",
    "    # no surprises\n",
    "    assert np.all([x in defaults.keys() for x in updates.keys()])\n",
    "\n",
    "    output = defaults.copy()\n",
    "\n",
    "    for key in updates:\n",
    "        output[key] = updates[key]\n",
    "\n",
    "    return output\n",
    "\n",
    "\n",
    "def holliday(updates):\n",
    "    assert \"pc\" in updates.keys()\n",
    "    updates[\"vmax\"] = vmax_from_pressure_holliday(92800)\n",
    "    return updates"
   ]
  },
  {
   "cell_type": "code",
   "execution_count": 37,
   "id": "c57ec673",
   "metadata": {
    "ExecuteTime": {
     "end_time": "2022-11-22T18:50:11.795295Z",
     "start_time": "2022-11-22T18:50:11.751986Z"
    }
   },
   "outputs": [
    {
     "data": {
      "text/plain": [
       "{'angle': 0.0,\n",
       " 'speed': 7.71,\n",
       " 'point_east': 0.6,\n",
       " 'rmax': 40744.0,\n",
       " 'pc': 92900.0,\n",
       " 'vmax': 54.01667,\n",
       " 'xn': 1.1249}"
      ]
     },
     "execution_count": 37,
     "metadata": {},
     "output_type": "execute_result"
    }
   ],
   "source": [
    "param(holliday({\"angle\":0.0, \"pc\": 92900.0}))"
   ]
  },
  {
   "cell_type": "code",
   "execution_count": 32,
   "id": "e3f52d59",
   "metadata": {
    "ExecuteTime": {
     "end_time": "2022-11-22T18:47:51.281186Z",
     "start_time": "2022-11-22T18:47:51.050869Z"
    }
   },
   "outputs": [],
   "source": [
    "from src.models.generation import vmax_from_pressure_holliday"
   ]
  },
  {
   "cell_type": "code",
   "execution_count": 33,
   "id": "a718b8fc",
   "metadata": {
    "ExecuteTime": {
     "end_time": "2022-11-22T18:48:10.552201Z",
     "start_time": "2022-11-22T18:48:10.507040Z"
    }
   },
   "outputs": [
    {
     "data": {
      "text/plain": [
       "54.01667"
      ]
     },
     "execution_count": 33,
     "metadata": {},
     "output_type": "execute_result"
    }
   ],
   "source": [
    "vmax_from_pressure_holliday(92800)"
   ]
  },
  {
   "cell_type": "code",
   "execution_count": 39,
   "id": "b33301f1",
   "metadata": {
    "ExecuteTime": {
     "end_time": "2022-11-23T11:04:05.776601Z",
     "start_time": "2022-11-23T11:04:05.705516Z"
    }
   },
   "outputs": [],
   "source": [
    "angles = ContinuousParameter(\"angle\", -90, 90)\n",
    "speeds = ContinuousParameter(\"speed\", 2, 14)\n",
    "point_east = ContinuousParameter(\"point_east\", -0.6, 1.2)\n",
    "rmax = ContinuousParameter(\"rmax\", 2, 14)\n",
    "pc = ContinuousParameter(\"pc\", 900, 980)\n",
    "# vmax = ContinuousParameter(\"vmax\", 20, )\n",
    "xn = ContinuousParameter(\"xn\", 0.8, 1.4)\n",
    "\n",
    "space = ParameterSpace([angles, speeds, point_east, rmax, pc, xn])"
   ]
  },
  {
   "cell_type": "code",
   "execution_count": 50,
   "id": "5f50aa9e",
   "metadata": {
    "ExecuteTime": {
     "end_time": "2022-11-23T11:07:02.456753Z",
     "start_time": "2022-11-23T11:07:02.389926Z"
    }
   },
   "outputs": [],
   "source": [
    "design = LatinDesign(space)"
   ]
  },
  {
   "cell_type": "code",
   "execution_count": 55,
   "id": "65268441",
   "metadata": {
    "ExecuteTime": {
     "end_time": "2022-11-24T11:56:23.107151Z",
     "start_time": "2022-11-24T11:56:23.031885Z"
    }
   },
   "outputs": [],
   "source": [
    "init_x_data = design.get_samples(300).astype(\"float32\")"
   ]
  },
  {
   "cell_type": "code",
   "execution_count": 56,
   "id": "b2785d98",
   "metadata": {
    "ExecuteTime": {
     "end_time": "2022-11-24T11:56:26.053429Z",
     "start_time": "2022-11-24T11:56:25.983957Z"
    }
   },
   "outputs": [
    {
     "data": {
      "text/plain": [
       "(300, 6)"
      ]
     },
     "execution_count": 56,
     "metadata": {},
     "output_type": "execute_result"
    }
   ],
   "source": [
    "init_x_data.shape"
   ]
  },
  {
   "cell_type": "code",
   "execution_count": 47,
   "id": "bd196cee",
   "metadata": {
    "ExecuteTime": {
     "end_time": "2022-11-23T11:05:50.350870Z",
     "start_time": "2022-11-23T11:05:50.279181Z"
    }
   },
   "outputs": [],
   "source": [
    "?LatinDesign"
   ]
  },
  {
   "cell_type": "code",
   "execution_count": 48,
   "id": "ecd5f382",
   "metadata": {
    "ExecuteTime": {
     "end_time": "2022-11-23T11:06:04.142751Z",
     "start_time": "2022-11-23T11:06:04.071820Z"
    }
   },
   "outputs": [],
   "source": [
    "?design"
   ]
  },
  {
   "cell_type": "code",
   "execution_count": 174,
   "id": "a1877024",
   "metadata": {
    "ExecuteTime": {
     "end_time": "2022-11-24T14:49:11.854421Z",
     "start_time": "2022-11-24T14:49:11.764401Z"
    }
   },
   "outputs": [],
   "source": [
    "def get_param(updates):\n",
    "    defaults = {\n",
    "        # Trajectory\n",
    "        \"angle\": 0.0,  # degrees from North\n",
    "        \"speed\": 7.71,  # m s**-1\n",
    "        \"point_east\": 0.6,  # degrees East of New Orleans\n",
    "        # Radial Profile of Tropical Cyclone - Holland Hurricane Parameters\n",
    "        \"rmax\": 40744.0,  # meters\n",
    "        \"pc\": 92800.0,  # Pa\n",
    "        \"vmax\": 54.01667,  # m s**-1\n",
    "        \"xn\": 1.1249,  # dimensionless\n",
    "    }\n",
    "    # no surprises\n",
    "    assert np.all([x in defaults.keys() for x in updates.keys()])\n",
    "\n",
    "    output = defaults.copy()\n",
    "\n",
    "    for key in updates:\n",
    "        output[key] = updates[key]\n",
    "\n",
    "    return output\n",
    "\n",
    "\n",
    "def holliday_vmax(updates):\n",
    "    assert \"pc\" in updates.keys()\n",
    "    updates[\"vmax\"] = vmax_from_pressure_holliday(92800)\n",
    "    return updates\n",
    "\n",
    "\n",
    "@np.vectorize\n",
    "def indices_in_bbox(lon, lat):\n",
    "    return (\n",
    "        lon > NO_BBOX.lon[0]\n",
    "        and lon < NO_BBOX.lon[1]\n",
    "        and lat > NO_BBOX.lat[0]\n",
    "        and lat < NO_BBOX.lat[1]\n",
    "    )\n",
    "\n",
    "\n",
    "def real_func(param, output_direc: str) -> float:\n",
    "    point = Point(NEW_ORLEANS.lon + param[\"position_east\"], NEW_ORLEANS.lat)\n",
    "    if os.path.exists(output_direc):\n",
    "        shutil.rmtree(output_direc)\n",
    "    ImpactSymmetricTC(\n",
    "        point=point,\n",
    "        output_direc=output_direc,\n",
    "        symetric_model=Holland08(\n",
    "            param[\"pc\"], param[\"rmax\"], param[\"vmax\"], param[\"xn\"]\n",
    "        ),\n",
    "        angle=param[\"angle\"],\n",
    "        trans_speed=param[\"speed\"],\n",
    "    ).run_impact()\n",
    "    path = os.path.join(output_direc, \"maxele.63.nc\")\n",
    "    maxele = Maxele(path, crs=\"EPSG:4326\")\n",
    "    index_set = 27\n",
    "    indices = indices_in_bbox(maxele.x, maxele.y)\n",
    "    return maxele.values[indices][index_set]\n",
    "\n",
    "\n",
    "def fake_func(param, output_direc: str) -> float:\n",
    "    default_param = get_param({})\n",
    "    assert np.all([key in default_param.keys() for key in param])\n",
    "    print(\"called fake func\")\n",
    "    if os.path.exists(output_direc):\n",
    "        shutil.rmtree(output_direc)\n",
    "    return 0.0\n",
    "\n",
    "\n",
    "class TestFeature:\n",
    "    \"\"\"\n",
    "\n",
    "    Data conversion example::\n",
    "        >>> import numpy as np\n",
    "        >>> tf = TestFeature()\n",
    "        >>> x_data = tf.samples(300)\n",
    "        >>> np.all(np.isclose(tf.to_real(tf.to_gp(x_data)), x_data, rtol=1e-6))\n",
    "        True\n",
    "        >>> np.all(tf.from_param(tf.to_param(x_data[0])) == x_data[0])\n",
    "        True\n",
    "    \"\"\"\n",
    "\n",
    "    def __init__(self, dryrun=False) -> None:\n",
    "        self.dryrun = dryrun\n",
    "        angles = ContinuousParameter(\"angle\", -90, 90)\n",
    "        speeds = ContinuousParameter(\"speed\", 2, 14)\n",
    "        point_east = ContinuousParameter(\"point_east\", -0.6, 1.2)\n",
    "        rmax = ContinuousParameter(\"rmax\", 2, 14)\n",
    "        pc = ContinuousParameter(\"pc\", 900, 980)\n",
    "        # vmax = ContinuousParameter(\"vmax\", 20, )\n",
    "        xn = ContinuousParameter(\"xn\", 0.8, 1.4)\n",
    "        self.space = ParameterSpace([angles, speeds, point_east, rmax, pc, xn])\n",
    "        self.names = self.space.parameter_names\n",
    "        self.ideal_space = ParameterSpace(\n",
    "            [ContinuousParameter(name, 0, 1) for name in self.names]\n",
    "        )\n",
    "        self.design = LatinDesign(self.space)\n",
    "        bounds = self.space.get_bounds()\n",
    "        self.lower_bounds = np.asarray(bounds)[:, 0].reshape(1, len(bounds))\n",
    "        self.upper_bounds = np.asarray(bounds)[:, 1].reshape(1, len(bounds))\n",
    "        self.diffs = self.upper_bounds - self.lower_bounds\n",
    "        self.call_number = 0\n",
    "\n",
    "    def samples(self, num_samples: int) -> np.ndarray:\n",
    "        return design.get_samples(num_samples).astype(\"float32\")\n",
    "\n",
    "    def to_real(self, x_data: np.ndarray) -> np.ndarray:\n",
    "        \"\"\"\n",
    "        x_data: assume last dimension is the variables.\n",
    "        \"\"\"\n",
    "        ones = np.ones((x_data.shape[0], 1))\n",
    "        return np.dot(ones, self.lower_bounds) + x_data * np.dot(ones, self.diffs)\n",
    "\n",
    "    def to_gp(self, x_data: np.ndarray) -> np.ndarray:\n",
    "        \"\"\"\n",
    "        x_data: assume last dimension is the variables.\n",
    "        \"\"\"\n",
    "        ones = np.ones((x_data.shape[0], 1))\n",
    "        return (x_data - np.dot(ones, self.lower_bounds)) * np.dot(ones, 1 / self.diffs)\n",
    "\n",
    "    def to_param(self, x_data_point: np.ndarray) -> dict:\n",
    "        assert len(x_data_point) == len(self.names)\n",
    "        assert len(np.shape(x_data_point)) == 1\n",
    "        return holliday_vmax(\n",
    "            {self.names[i]: x_data_point[i] for i in range(len(self.names))}\n",
    "        )\n",
    "\n",
    "    def from_param(self, param_dict: dict) -> np.ndarray:\n",
    "        assert np.all([name in param_dict for name in self.names])\n",
    "        output_np = np.zeros(len(self.names))\n",
    "        for i, name in enumerate(self.names):\n",
    "            output_np[i] = param_dict[name]\n",
    "        return output_np\n",
    "\n",
    "    def func(self, x_data: np.ndarray) -> np.ndarray:\n",
    "        real_data = self.to_real(x_data)\n",
    "        shape = np.shape(real_data)\n",
    "        output_list = []\n",
    "        \n",
    "        for i in range(shape[0]):\n",
    "            param = self.to_param(real_data[i])\n",
    "            print(\"Calling\", param)\n",
    "            output_direc =  str(self.call_number)\n",
    "            print(output_direc)\n",
    "            if self.dryrun:\n",
    "                output_list.append(fake_func(param, output_direc))\n",
    "            else:\n",
    "                output_list.append(real_func(param, output_direc))\n",
    "            self.call_number += 1\n",
    "            \n",
    "        return np.array(output_list).reshape(len(output_list),1)"
   ]
  },
  {
   "cell_type": "code",
   "execution_count": 175,
   "id": "6ee3dac0",
   "metadata": {
    "ExecuteTime": {
     "end_time": "2022-11-24T14:49:13.283332Z",
     "start_time": "2022-11-24T14:49:13.229536Z"
    }
   },
   "outputs": [],
   "source": [
    "tf = TestFeature(dryrun=True)"
   ]
  },
  {
   "cell_type": "code",
   "execution_count": 176,
   "id": "f41a1f16",
   "metadata": {
    "ExecuteTime": {
     "end_time": "2022-11-24T14:49:14.711291Z",
     "start_time": "2022-11-24T14:49:14.652666Z"
    }
   },
   "outputs": [
    {
     "name": "stdout",
     "output_type": "stream",
     "text": [
      "Calling {'angle': -45.0, 'speed': 3.799999952316284, 'point_east': -0.3300000131130219, 'rmax': 5.0, 'pc': 912.0, 'xn': 1.25, 'vmax': 54.01667}\n",
      "0\n",
      "called fake func\n",
      "Calling {'angle': -9.0, 'speed': 6.199999809265137, 'point_east': 0.7500000000000001, 'rmax': 11.0, 'pc': 952.0, 'xn': 1.0099999904632568, 'vmax': 54.01667}\n",
      "1\n",
      "called fake func\n",
      "Calling {'angle': -81.0, 'speed': 12.199999809265137, 'point_east': 0.5699999928474425, 'rmax': 8.600000381469727, 'pc': 936.0, 'xn': 1.3700000047683716, 'vmax': 54.01667}\n",
      "2\n",
      "called fake func\n",
      "Calling {'angle': 9.000000000000014, 'speed': 13.399999618530273, 'point_east': -0.5099999904632568, 'rmax': 9.800000190734863, 'pc': 968.0, 'xn': 1.1299999952316284, 'vmax': 54.01667}\n",
      "3\n",
      "called fake func\n",
      "Calling {'angle': 81.0, 'speed': 11.0, 'point_east': 0.029999999329447746, 'rmax': 13.399999618530273, 'pc': 960.0, 'xn': 1.309999942779541, 'vmax': 54.01667}\n",
      "4\n",
      "called fake func\n",
      "Calling {'angle': 63.0, 'speed': 8.600000381469727, 'point_east': 1.1100000143051147, 'rmax': 7.400000095367432, 'pc': 904.0, 'xn': 0.8899999856948853, 'vmax': 54.01667}\n",
      "5\n",
      "called fake func\n",
      "Calling {'angle': -26.999999999999993, 'speed': 5.0, 'point_east': 0.38999998569488514, 'rmax': 6.199999809265137, 'pc': 976.0, 'xn': 1.190000057220459, 'vmax': 54.01667}\n",
      "6\n",
      "called fake func\n",
      "Calling {'angle': -63.0, 'speed': 9.800000190734863, 'point_east': 0.9300000071525575, 'rmax': 2.5999999046325684, 'pc': 944.0, 'xn': 0.8299999833106995, 'vmax': 54.01667}\n",
      "7\n",
      "called fake func\n",
      "Calling {'angle': 27.0, 'speed': 7.400000095367432, 'point_east': 0.20999999344348907, 'rmax': 3.799999952316284, 'pc': 920.0, 'xn': 0.949999988079071, 'vmax': 54.01667}\n",
      "8\n",
      "called fake func\n",
      "Calling {'angle': 45.0, 'speed': 2.5999999046325684, 'point_east': -0.15000000596046448, 'rmax': 12.199999809265137, 'pc': 928.0, 'xn': 1.0700000524520874, 'vmax': 54.01667}\n",
      "9\n",
      "called fake func\n"
     ]
    },
    {
     "data": {
      "text/plain": [
       "array([[0.],\n",
       "       [0.],\n",
       "       [0.],\n",
       "       [0.],\n",
       "       [0.],\n",
       "       [0.],\n",
       "       [0.],\n",
       "       [0.],\n",
       "       [0.],\n",
       "       [0.]])"
      ]
     },
     "execution_count": 176,
     "metadata": {},
     "output_type": "execute_result"
    }
   ],
   "source": [
    "tf.func(tf.to_gp(tf.samples(10)))"
   ]
  },
  {
   "cell_type": "code",
   "execution_count": 118,
   "id": "b4caca4c",
   "metadata": {
    "ExecuteTime": {
     "end_time": "2022-11-24T13:11:29.323081Z",
     "start_time": "2022-11-24T13:11:29.280307Z"
    }
   },
   "outputs": [
    {
     "data": {
      "text/plain": [
       "<emukit.core.parameter_space.ParameterSpace at 0x7fe0286c3bb0>"
      ]
     },
     "execution_count": 118,
     "metadata": {},
     "output_type": "execute_result"
    }
   ],
   "source": [
    "tf.space"
   ]
  },
  {
   "cell_type": "code",
   "execution_count": 124,
   "id": "6b27bab6",
   "metadata": {
    "ExecuteTime": {
     "end_time": "2022-11-24T13:25:11.275014Z",
     "start_time": "2022-11-24T13:25:11.205333Z"
    }
   },
   "outputs": [
    {
     "data": {
      "text/plain": [
       "True"
      ]
     },
     "execution_count": 124,
     "metadata": {},
     "output_type": "execute_result"
    }
   ],
   "source": [
    "np.all(tf.from_param(tf.to_param(init_x_data[0])) == init_x_data[0])"
   ]
  },
  {
   "cell_type": "code",
   "execution_count": 93,
   "id": "3b874b03",
   "metadata": {
    "ExecuteTime": {
     "end_time": "2022-11-24T12:49:33.827588Z",
     "start_time": "2022-11-24T12:49:33.761573Z"
    }
   },
   "outputs": [
    {
     "data": {
      "text/plain": [
       "(300, 6)"
      ]
     },
     "execution_count": 93,
     "metadata": {},
     "output_type": "execute_result"
    }
   ],
   "source": [
    "tf.to_real(tf.to_gp(init_x_data)).shape"
   ]
  },
  {
   "cell_type": "code",
   "execution_count": 94,
   "id": "86fd329a",
   "metadata": {
    "ExecuteTime": {
     "end_time": "2022-11-24T12:49:37.467675Z",
     "start_time": "2022-11-24T12:49:37.402962Z"
    }
   },
   "outputs": [
    {
     "data": {
      "text/plain": [
       "(300, 6)"
      ]
     },
     "execution_count": 94,
     "metadata": {},
     "output_type": "execute_result"
    }
   ],
   "source": [
    "init_x_data.shape"
   ]
  },
  {
   "cell_type": "code",
   "execution_count": 108,
   "id": "350a8647",
   "metadata": {
    "ExecuteTime": {
     "end_time": "2022-11-24T13:06:34.160863Z",
     "start_time": "2022-11-24T13:06:34.087628Z"
    }
   },
   "outputs": [
    {
     "data": {
      "text/plain": [
       "['angle', 'speed', 'point_east', 'rmax', 'pc', 'xn']"
      ]
     },
     "execution_count": 108,
     "metadata": {},
     "output_type": "execute_result"
    }
   ],
   "source": [
    "tf.space.parameter_names"
   ]
  },
  {
   "cell_type": "code",
   "execution_count": 114,
   "id": "cec71e60",
   "metadata": {
    "ExecuteTime": {
     "end_time": "2022-11-24T13:11:00.700908Z",
     "start_time": "2022-11-24T13:11:00.635747Z"
    }
   },
   "outputs": [
    {
     "data": {
      "text/plain": [
       "array([ 83.7  ,   9.5  ,   1.161,  10.46 , 909.2  ,   0.949],\n",
       "      dtype=float32)"
      ]
     },
     "execution_count": 114,
     "metadata": {},
     "output_type": "execute_result"
    }
   ],
   "source": [
    "init_x_data[0]"
   ]
  },
  {
   "cell_type": "code",
   "execution_count": 142,
   "id": "a990d658",
   "metadata": {
    "ExecuteTime": {
     "end_time": "2022-11-24T13:36:20.180584Z",
     "start_time": "2022-11-24T13:36:20.105934Z"
    }
   },
   "outputs": [],
   "source": [
    "?Holland08"
   ]
  },
  {
   "cell_type": "code",
   "execution_count": 143,
   "id": "ccb56402",
   "metadata": {
    "ExecuteTime": {
     "end_time": "2022-11-24T13:38:47.317512Z",
     "start_time": "2022-11-24T13:38:47.247979Z"
    }
   },
   "outputs": [],
   "source": [
    "?ImpactSymmetricTC"
   ]
  },
  {
   "cell_type": "code",
   "execution_count": null,
   "id": "40494821",
   "metadata": {},
   "outputs": [],
   "source": [
    "trans_speed=param[\"speed\"]"
   ]
  }
 ],
 "metadata": {
  "hide_input": false,
  "kernelspec": {
   "display_name": "Python 3 (ipykernel)",
   "language": "python",
   "name": "python3"
  },
  "language_info": {
   "codemirror_mode": {
    "name": "ipython",
    "version": 3
   },
   "file_extension": ".py",
   "mimetype": "text/x-python",
   "name": "python",
   "nbconvert_exporter": "python",
   "pygments_lexer": "ipython3",
   "version": "3.8.13"
  },
  "varInspector": {
   "cols": {
    "lenName": 16,
    "lenType": 16,
    "lenVar": 40
   },
   "kernels_config": {
    "python": {
     "delete_cmd_postfix": "",
     "delete_cmd_prefix": "del ",
     "library": "var_list.py",
     "varRefreshCmd": "print(var_dic_list())"
    },
    "r": {
     "delete_cmd_postfix": ") ",
     "delete_cmd_prefix": "rm(",
     "library": "var_list.r",
     "varRefreshCmd": "cat(var_dic_list()) "
    }
   },
   "types_to_exclude": [
    "module",
    "function",
    "builtin_function_or_method",
    "instance",
    "_Feature"
   ],
   "window_display": false
  }
 },
 "nbformat": 4,
 "nbformat_minor": 5
}
