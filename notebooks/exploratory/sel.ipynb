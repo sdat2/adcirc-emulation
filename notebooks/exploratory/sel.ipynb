{
 "cells": [
  {
   "cell_type": "markdown",
   "id": "9166abde",
   "metadata": {},
   "source": [
    "# sel test"
   ]
  },
  {
   "cell_type": "code",
   "execution_count": 1,
   "id": "88c9a789",
   "metadata": {
    "ExecuteTime": {
     "end_time": "2022-12-03T14:22:15.608561Z",
     "start_time": "2022-12-03T14:22:15.578189Z"
    }
   },
   "outputs": [],
   "source": [
    "# Convenient jupyter setup\n",
    "%load_ext autoreload\n",
    "%autoreload 2\n",
    "%config IPCompleter.greedy=True"
   ]
  },
  {
   "cell_type": "code",
   "execution_count": 8,
   "id": "c67b0bf3",
   "metadata": {
    "ExecuteTime": {
     "end_time": "2022-12-03T14:45:42.501654Z",
     "start_time": "2022-12-03T14:45:42.471155Z"
    }
   },
   "outputs": [],
   "source": [
    "import os"
   ]
  },
  {
   "cell_type": "code",
   "execution_count": 40,
   "id": "38239175",
   "metadata": {
    "ExecuteTime": {
     "end_time": "2022-12-03T15:18:41.133588Z",
     "start_time": "2022-12-03T15:18:41.103354Z"
    }
   },
   "outputs": [],
   "source": [
    "from src.constants import KAT_EX_PATH, NO_BBOX, NEW_ORLEANS"
   ]
  },
  {
   "cell_type": "code",
   "execution_count": 2,
   "id": "4a9165e7",
   "metadata": {
    "ExecuteTime": {
     "end_time": "2022-12-03T14:32:31.793017Z",
     "start_time": "2022-12-03T14:32:31.740000Z"
    }
   },
   "outputs": [],
   "source": [
    "from src.preprocessing.sel import trim_tri"
   ]
  },
  {
   "cell_type": "code",
   "execution_count": 3,
   "id": "4fba5769",
   "metadata": {
    "ExecuteTime": {
     "end_time": "2022-12-03T14:32:38.653044Z",
     "start_time": "2022-12-03T14:32:38.584603Z"
    }
   },
   "outputs": [],
   "source": [
    "?trim_tri"
   ]
  },
  {
   "cell_type": "code",
   "execution_count": 4,
   "id": "e694029b",
   "metadata": {
    "ExecuteTime": {
     "end_time": "2022-12-03T14:34:08.272332Z",
     "start_time": "2022-12-03T14:34:08.235439Z"
    }
   },
   "outputs": [],
   "source": [
    "from adcircpy.outputs import Fort63"
   ]
  },
  {
   "cell_type": "code",
   "execution_count": 9,
   "id": "b1f40909",
   "metadata": {
    "ExecuteTime": {
     "end_time": "2022-12-03T14:45:44.719720Z",
     "start_time": "2022-12-03T14:45:44.672016Z"
    }
   },
   "outputs": [],
   "source": [
    "f63 = Fort63(os.path.join(KAT_EX_PATH, \"fort.63.nc\"))"
   ]
  },
  {
   "cell_type": "code",
   "execution_count": 10,
   "id": "1f65b19d",
   "metadata": {
    "ExecuteTime": {
     "end_time": "2022-12-03T14:47:17.393614Z",
     "start_time": "2022-12-03T14:47:17.309893Z"
    }
   },
   "outputs": [
    {
     "data": {
      "text/plain": [
       "array([39.31352665, 39.30541742, 45.69340656, ..., 15.86675545,\n",
       "       15.84477831, 15.75183811])"
      ]
     },
     "execution_count": 10,
     "metadata": {},
     "output_type": "execute_result"
    }
   ],
   "source": [
    "f63.y"
   ]
  },
  {
   "cell_type": "code",
   "execution_count": 11,
   "id": "5498c7ec",
   "metadata": {
    "ExecuteTime": {
     "end_time": "2022-12-03T14:47:40.265523Z",
     "start_time": "2022-12-03T14:47:40.234102Z"
    }
   },
   "outputs": [
    {
     "data": {
      "text/plain": [
       "<function src.preprocessing.sel.trim_tri(x: numpy.ndarray, y: numpy.ndarray, tri: numpy.ndarray, bbox: sithom.place.BoundingBox, z: Union[numpy.ndarray, NoneType] = None) -> Union[Tuple[numpy.ndarray, numpy.ndarray, numpy.ndarray, numpy.ndarray], Tuple[numpy.ndarray, numpy.ndarray, numpy.ndarray]]>"
      ]
     },
     "execution_count": 11,
     "metadata": {},
     "output_type": "execute_result"
    }
   ],
   "source": [
    "trim_tri"
   ]
  },
  {
   "cell_type": "code",
   "execution_count": 19,
   "id": "d2eff593",
   "metadata": {
    "ExecuteTime": {
     "end_time": "2022-12-03T14:50:06.412213Z",
     "start_time": "2022-12-03T14:50:06.299563Z"
    }
   },
   "outputs": [
    {
     "data": {
      "text/plain": [
       "(252, 8303)"
      ]
     },
     "execution_count": 19,
     "metadata": {},
     "output_type": "execute_result"
    }
   ],
   "source": [
    "f63._ptr[\"zeta\"][:].shape"
   ]
  },
  {
   "cell_type": "code",
   "execution_count": 44,
   "id": "5759d07f",
   "metadata": {
    "ExecuteTime": {
     "end_time": "2022-12-03T15:19:23.790058Z",
     "start_time": "2022-12-03T15:19:23.393543Z"
    }
   },
   "outputs": [],
   "source": [
    "x, y, tri, z = trim_tri(f63.x, f63.y, f63.triangles, NEW_ORLEANS.bbox(3), f63._ptr[\"zeta\"][:])"
   ]
  },
  {
   "cell_type": "code",
   "execution_count": 46,
   "id": "1dc8fe51",
   "metadata": {
    "ExecuteTime": {
     "end_time": "2022-12-03T15:20:01.475155Z",
     "start_time": "2022-12-03T15:20:01.443853Z"
    }
   },
   "outputs": [],
   "source": [
    "import xarray as xr"
   ]
  },
  {
   "cell_type": "code",
   "execution_count": null,
   "id": "10ab3d77",
   "metadata": {},
   "outputs": [],
   "source": [
    "xr.Dataset()"
   ]
  },
  {
   "cell_type": "code",
   "execution_count": 21,
   "id": "63c52b98",
   "metadata": {
    "ExecuteTime": {
     "end_time": "2022-12-03T14:51:29.770510Z",
     "start_time": "2022-12-03T14:51:29.729654Z"
    }
   },
   "outputs": [
    {
     "data": {
      "text/plain": [
       "array([[5188, 5433, 5189],\n",
       "       [7844, 7776, 7843],\n",
       "       [4550, 4805, 4806],\n",
       "       ...,\n",
       "       [ 996, 1078, 1077],\n",
       "       [ 995, 1077, 1076],\n",
       "       [1078, 1167, 1077]], dtype=int32)"
      ]
     },
     "execution_count": 21,
     "metadata": {},
     "output_type": "execute_result"
    }
   ],
   "source": [
    "f63.triangles"
   ]
  },
  {
   "cell_type": "code",
   "execution_count": 48,
   "id": "9221b44e",
   "metadata": {
    "ExecuteTime": {
     "end_time": "2022-12-03T15:22:07.379011Z",
     "start_time": "2022-12-03T15:22:07.348213Z"
    }
   },
   "outputs": [],
   "source": [
    "import matplotlib.pyplot as plt\n",
    "from sithom.plot import plot_defaults"
   ]
  },
  {
   "cell_type": "code",
   "execution_count": 78,
   "id": "f9991ada",
   "metadata": {
    "ExecuteTime": {
     "end_time": "2022-12-03T15:47:49.886729Z",
     "start_time": "2022-12-03T15:46:22.627991Z"
    }
   },
   "outputs": [
    {
     "data": {
      "text/plain": [
       "<Figure size 826.772x510.973 with 0 Axes>"
      ]
     },
     "metadata": {},
     "output_type": "display_data"
    }
   ],
   "source": [
    "from src.constants import FIGURE_PATH\n",
    "plot_defaults()\n",
    "vmin=-3.75\n",
    "vmax=3.75\n",
    "levels = np.linspace(vmin, vmax, num=400)\n",
    "figs_path = os.path.join(FIGURE_PATH, \"katrina_hit\")\n",
    "# os.mkdir(figs_path)\n",
    "\n",
    "\n",
    "def make_part(num=125):\n",
    "    plt.tricontourf(x, y, tri, z.data[num], vmin=vmin, vmax=vmax, levels=levels, cmap=\"cmo.balance\")\n",
    "    plt.colorbar(label=\"Height [m]\")\n",
    "    plt.xlabel(\"Longitude [$^{\\circ}$E]\")\n",
    "    plt.ylabel(\"Latitude [$^{\\circ}$N]\")\n",
    "    plt.savefig(os.path.join(figs_path, str(num) + \".png\"))\n",
    "    plt.clf()\n",
    "\n",
    "#make_part(200)\n",
    "#plt.show()\n",
    "#make_part(206)\n",
    "#plt.show()\n",
    "for i in range(z.shape[0]):\n",
    "    make_part(i)"
   ]
  },
  {
   "cell_type": "code",
   "execution_count": 79,
   "id": "70e05dcb",
   "metadata": {
    "ExecuteTime": {
     "end_time": "2022-12-03T16:12:36.704801Z",
     "start_time": "2022-12-03T16:12:24.762589Z"
    }
   },
   "outputs": [
    {
     "name": "stderr",
     "output_type": "stream",
     "text": [
      "/var/folders/q5/n7rv_91d6b58cbb5xkzlsc4c0000gn/T/ipykernel_79592/1050790239.py:3: DeprecationWarning: Starting with ImageIO v3 the behavior of this function will switch to that of iio.v3.imread. To keep the current behavior (and make this warning disappear) use `import imageio.v2 as imageio` or call `imageio.v2.imread` directly.\n",
      "  ims = [imageio.imread(f) for f in fig_paths]\n"
     ]
    }
   ],
   "source": [
    "fig_paths = [os.path.join(figs_path, str(num) + \".png\") for num in range(z.shape[0])]\n",
    "import imageio\n",
    "ims = [imageio.imread(f) for f in fig_paths]\n",
    "imageio.mimwrite(os.path.join(FIGURE_PATH,\"katrina_hit.gif\"), ims)"
   ]
  },
  {
   "cell_type": "code",
   "execution_count": 43,
   "id": "9893c2a1",
   "metadata": {
    "ExecuteTime": {
     "end_time": "2022-12-03T15:19:14.924398Z",
     "start_time": "2022-12-03T15:19:14.891714Z"
    }
   },
   "outputs": [
    {
     "data": {
      "text/plain": [
       "[('Latitude bounds', [26.9511, 32.9511], 'degrees_north'), ('Longitude bounds', [-93.0715, -87.0715], 'degrees_east'), 'Bounding Box around point: New Orleans Point']"
      ]
     },
     "execution_count": 43,
     "metadata": {},
     "output_type": "execute_result"
    }
   ],
   "source": [
    "NEW_ORLEANS.bbox(3)"
   ]
  },
  {
   "cell_type": "code",
   "execution_count": 54,
   "id": "ea38c07f",
   "metadata": {
    "ExecuteTime": {
     "end_time": "2022-12-03T15:24:43.483345Z",
     "start_time": "2022-12-03T15:24:43.451590Z"
    }
   },
   "outputs": [
    {
     "data": {
      "text/plain": [
       "(-0.9199999999999999, 3.6469334306501096)"
      ]
     },
     "execution_count": 54,
     "metadata": {},
     "output_type": "execute_result"
    }
   ],
   "source": [
    "z.min(), z.max()"
   ]
  },
  {
   "cell_type": "code",
   "execution_count": 61,
   "id": "8e03b55a",
   "metadata": {
    "ExecuteTime": {
     "end_time": "2022-12-03T15:30:02.768625Z",
     "start_time": "2022-12-03T15:30:02.738246Z"
    }
   },
   "outputs": [],
   "source": [
    "vmin=-3.75\n",
    "vmax=3.75\n",
    "levels = np.linspace(vmin, vmax, num=400)\n",
    "import numpy as np"
   ]
  },
  {
   "cell_type": "code",
   "execution_count": 60,
   "id": "8dbef69c",
   "metadata": {
    "ExecuteTime": {
     "end_time": "2022-12-03T15:29:53.963012Z",
     "start_time": "2022-12-03T15:29:53.932206Z"
    }
   },
   "outputs": [],
   "source": []
  },
  {
   "cell_type": "code",
   "execution_count": 77,
   "id": "e769a60e",
   "metadata": {
    "ExecuteTime": {
     "end_time": "2022-12-03T15:46:06.105459Z",
     "start_time": "2022-12-03T15:46:06.072804Z"
    }
   },
   "outputs": [
    {
     "data": {
      "text/plain": [
       "array([[-2.48405040e-05, -1.52187881e-05, -4.26740139e-06, ...,\n",
       "         1.64582711e-04,  1.05632111e-04,  5.77992435e-05],\n",
       "       [-1.28604553e-05, -1.01544597e-04, -1.19852083e-04, ...,\n",
       "         3.84890470e-04,  2.19018973e-04,  1.59168814e-04],\n",
       "       [ 8.20444799e-05, -1.44906312e-04, -2.97147353e-04, ...,\n",
       "        -1.09441751e-03, -1.29712642e-03, -1.30199395e-03],\n",
       "       ...,\n",
       "       [ 3.32145416e-01,  3.32902838e-01,  3.32894626e-01, ...,\n",
       "        -1.71627514e-01, -1.60826919e-01, -1.59862537e-01],\n",
       "       [ 3.31974155e-01,  3.26307517e-01,  3.27281998e-01, ...,\n",
       "        -1.97586021e-01, -1.89927248e-01, -1.91961792e-01],\n",
       "       [ 3.27634117e-01,  3.15172088e-01,  3.21221119e-01, ...,\n",
       "        -2.02236854e-01, -1.98990330e-01, -2.04719499e-01]])"
      ]
     },
     "execution_count": 77,
     "metadata": {},
     "output_type": "execute_result"
    }
   ],
   "source": [
    "z.data"
   ]
  },
  {
   "cell_type": "code",
   "execution_count": null,
   "id": "a574cf40",
   "metadata": {},
   "outputs": [],
   "source": []
  }
 ],
 "metadata": {
  "hide_input": false,
  "kernelspec": {
   "display_name": "Python 3 (ipykernel)",
   "language": "python",
   "name": "python3"
  },
  "language_info": {
   "codemirror_mode": {
    "name": "ipython",
    "version": 3
   },
   "file_extension": ".py",
   "mimetype": "text/x-python",
   "name": "python",
   "nbconvert_exporter": "python",
   "pygments_lexer": "ipython3",
   "version": "3.8.13"
  },
  "varInspector": {
   "cols": {
    "lenName": 16,
    "lenType": 16,
    "lenVar": 40
   },
   "kernels_config": {
    "python": {
     "delete_cmd_postfix": "",
     "delete_cmd_prefix": "del ",
     "library": "var_list.py",
     "varRefreshCmd": "print(var_dic_list())"
    },
    "r": {
     "delete_cmd_postfix": ") ",
     "delete_cmd_prefix": "rm(",
     "library": "var_list.r",
     "varRefreshCmd": "cat(var_dic_list()) "
    }
   },
   "types_to_exclude": [
    "module",
    "function",
    "builtin_function_or_method",
    "instance",
    "_Feature"
   ],
   "window_display": false
  }
 },
 "nbformat": 4,
 "nbformat_minor": 5
}
