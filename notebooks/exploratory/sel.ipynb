{
 "cells": [
  {
   "cell_type": "markdown",
   "id": "2dc6b10e",
   "metadata": {},
   "source": [
    "# sel test"
   ]
  },
  {
   "cell_type": "code",
   "execution_count": 1,
   "id": "29c494b1",
   "metadata": {
    "ExecuteTime": {
     "end_time": "2022-12-03T14:22:15.608561Z",
     "start_time": "2022-12-03T14:22:15.578189Z"
    }
   },
   "outputs": [],
   "source": [
    "# Convenient jupyter setup\n",
    "%load_ext autoreload\n",
    "%autoreload 2\n",
    "%config IPCompleter.greedy=True"
   ]
  },
  {
   "cell_type": "code",
   "execution_count": 8,
   "id": "8214fca4",
   "metadata": {
    "ExecuteTime": {
     "end_time": "2022-12-03T14:45:42.501654Z",
     "start_time": "2022-12-03T14:45:42.471155Z"
    }
   },
   "outputs": [],
   "source": [
    "import os"
   ]
  },
  {
   "cell_type": "code",
   "execution_count": 23,
   "id": "74a36ca6",
   "metadata": {
    "ExecuteTime": {
     "end_time": "2022-12-03T14:52:14.274808Z",
     "start_time": "2022-12-03T14:52:14.239163Z"
    }
   },
   "outputs": [],
   "source": [
    "from src.constants import KAT_EX_PATH, NO_BBOX"
   ]
  },
  {
   "cell_type": "code",
   "execution_count": 2,
   "id": "19991366",
   "metadata": {
    "ExecuteTime": {
     "end_time": "2022-12-03T14:32:31.793017Z",
     "start_time": "2022-12-03T14:32:31.740000Z"
    }
   },
   "outputs": [],
   "source": [
    "from src.preprocessing.sel import trim_tri"
   ]
  },
  {
   "cell_type": "code",
   "execution_count": 3,
   "id": "3c3459fa",
   "metadata": {
    "ExecuteTime": {
     "end_time": "2022-12-03T14:32:38.653044Z",
     "start_time": "2022-12-03T14:32:38.584603Z"
    }
   },
   "outputs": [],
   "source": [
    "?trim_tri"
   ]
  },
  {
   "cell_type": "code",
   "execution_count": 4,
   "id": "da9ab363",
   "metadata": {
    "ExecuteTime": {
     "end_time": "2022-12-03T14:34:08.272332Z",
     "start_time": "2022-12-03T14:34:08.235439Z"
    }
   },
   "outputs": [],
   "source": [
    "from adcircpy.outputs import Fort63"
   ]
  },
  {
   "cell_type": "code",
   "execution_count": 9,
   "id": "81082f5b",
   "metadata": {
    "ExecuteTime": {
     "end_time": "2022-12-03T14:45:44.719720Z",
     "start_time": "2022-12-03T14:45:44.672016Z"
    }
   },
   "outputs": [],
   "source": [
    "f63 = Fort63(os.path.join(KAT_EX_PATH, \"fort.63.nc\"))"
   ]
  },
  {
   "cell_type": "code",
   "execution_count": 10,
   "id": "1b5b7bbf",
   "metadata": {
    "ExecuteTime": {
     "end_time": "2022-12-03T14:47:17.393614Z",
     "start_time": "2022-12-03T14:47:17.309893Z"
    }
   },
   "outputs": [
    {
     "data": {
      "text/plain": [
       "array([39.31352665, 39.30541742, 45.69340656, ..., 15.86675545,\n",
       "       15.84477831, 15.75183811])"
      ]
     },
     "execution_count": 10,
     "metadata": {},
     "output_type": "execute_result"
    }
   ],
   "source": [
    "f63.y"
   ]
  },
  {
   "cell_type": "code",
   "execution_count": 11,
   "id": "25a74747",
   "metadata": {
    "ExecuteTime": {
     "end_time": "2022-12-03T14:47:40.265523Z",
     "start_time": "2022-12-03T14:47:40.234102Z"
    }
   },
   "outputs": [
    {
     "data": {
      "text/plain": [
       "<function src.preprocessing.sel.trim_tri(x: numpy.ndarray, y: numpy.ndarray, tri: numpy.ndarray, bbox: sithom.place.BoundingBox, z: Union[numpy.ndarray, NoneType] = None) -> Union[Tuple[numpy.ndarray, numpy.ndarray, numpy.ndarray, numpy.ndarray], Tuple[numpy.ndarray, numpy.ndarray, numpy.ndarray]]>"
      ]
     },
     "execution_count": 11,
     "metadata": {},
     "output_type": "execute_result"
    }
   ],
   "source": [
    "trim_tri"
   ]
  },
  {
   "cell_type": "code",
   "execution_count": 19,
   "id": "d19c5093",
   "metadata": {
    "ExecuteTime": {
     "end_time": "2022-12-03T14:50:06.412213Z",
     "start_time": "2022-12-03T14:50:06.299563Z"
    }
   },
   "outputs": [
    {
     "data": {
      "text/plain": [
       "(252, 8303)"
      ]
     },
     "execution_count": 19,
     "metadata": {},
     "output_type": "execute_result"
    }
   ],
   "source": [
    "f63._ptr[\"zeta\"][:].shape"
   ]
  },
  {
   "cell_type": "code",
   "execution_count": 34,
   "id": "e7aa1335",
   "metadata": {
    "ExecuteTime": {
     "end_time": "2022-12-03T15:02:13.060225Z",
     "start_time": "2022-12-03T15:02:12.680180Z"
    }
   },
   "outputs": [],
   "source": [
    "x, y, tri, z = trim_tri(f63.x, f63.y, f63.triangles, NO_BBOX, f63._ptr[\"zeta\"][:])"
   ]
  },
  {
   "cell_type": "code",
   "execution_count": 21,
   "id": "de1b8cb6",
   "metadata": {
    "ExecuteTime": {
     "end_time": "2022-12-03T14:51:29.770510Z",
     "start_time": "2022-12-03T14:51:29.729654Z"
    }
   },
   "outputs": [
    {
     "data": {
      "text/plain": [
       "array([[5188, 5433, 5189],\n",
       "       [7844, 7776, 7843],\n",
       "       [4550, 4805, 4806],\n",
       "       ...,\n",
       "       [ 996, 1078, 1077],\n",
       "       [ 995, 1077, 1076],\n",
       "       [1078, 1167, 1077]], dtype=int32)"
      ]
     },
     "execution_count": 21,
     "metadata": {},
     "output_type": "execute_result"
    }
   ],
   "source": [
    "f63.triangles"
   ]
  },
  {
   "cell_type": "code",
   "execution_count": 27,
   "id": "b8a5f27b",
   "metadata": {
    "ExecuteTime": {
     "end_time": "2022-12-03T14:59:19.404235Z",
     "start_time": "2022-12-03T14:59:19.373749Z"
    }
   },
   "outputs": [],
   "source": [
    "import matplotlib.pyplot as plt"
   ]
  },
  {
   "cell_type": "code",
   "execution_count": 35,
   "id": "75e5a043",
   "metadata": {
    "ExecuteTime": {
     "end_time": "2022-12-03T15:02:14.837933Z",
     "start_time": "2022-12-03T15:02:14.688540Z"
    }
   },
   "outputs": [
    {
     "data": {
      "text/plain": [
       "<matplotlib.colorbar.Colorbar at 0x7ff362b7b5b0>"
      ]
     },
     "execution_count": 35,
     "metadata": {},
     "output_type": "execute_result"
    },
    {
     "data": {
      "image/png": "[encoded data removed]",
      "text/plain": [
       "<Figure size 432x288 with 2 Axes>"
      ]
     },
     "metadata": {
      "needs_background": "light"
     },
     "output_type": "display_data"
    }
   ],
   "source": [
    "plt.tricontourf(x, y, tri, z[0])\n",
    "plt.colorbar(label=\"Height [m]\")\n",
    "plt.xlabel(\"X\")"
   ]
  },
  {
   "cell_type": "code",
   "execution_count": null,
   "id": "cf5bc54d",
   "metadata": {},
   "outputs": [],
   "source": []
  }
 ],
 "metadata": {
  "hide_input": false,
  "kernelspec": {
   "display_name": "Python 3 (ipykernel)",
   "language": "python",
   "name": "python3"
  },
  "language_info": {
   "codemirror_mode": {
    "name": "ipython",
    "version": 3
   },
   "file_extension": ".py",
   "mimetype": "text/x-python",
   "name": "python",
   "nbconvert_exporter": "python",
   "pygments_lexer": "ipython3",
   "version": "3.8.13"
  },
  "varInspector": {
   "cols": {
    "lenName": 16,
    "lenType": 16,
    "lenVar": 40
   },
   "kernels_config": {
    "python": {
     "delete_cmd_postfix": "",
     "delete_cmd_prefix": "del ",
     "library": "var_list.py",
     "varRefreshCmd": "print(var_dic_list())"
    },
    "r": {
     "delete_cmd_postfix": ") ",
     "delete_cmd_prefix": "rm(",
     "library": "var_list.r",
     "varRefreshCmd": "cat(var_dic_list()) "
    }
   },
   "types_to_exclude": [
    "module",
    "function",
    "builtin_function_or_method",
    "instance",
    "_Feature"
   ],
   "window_display": false
  }
 },
 "nbformat": 4,
 "nbformat_minor": 5
}
