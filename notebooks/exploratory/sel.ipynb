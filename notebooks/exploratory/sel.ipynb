{
 "cells": [
  {
   "cell_type": "markdown",
   "id": "ff9a1723",
   "metadata": {},
   "source": [
    "# sel test"
   ]
  },
  {
   "cell_type": "code",
   "execution_count": 1,
   "id": "5fd36f7d",
   "metadata": {
    "ExecuteTime": {
     "end_time": "2022-12-03T14:22:15.608561Z",
     "start_time": "2022-12-03T14:22:15.578189Z"
    }
   },
   "outputs": [],
   "source": [
    "# Convenient jupyter setup\n",
    "%load_ext autoreload\n",
    "%autoreload 2\n",
    "%config IPCompleter.greedy=True"
   ]
  },
  {
   "cell_type": "code",
   "execution_count": 8,
   "id": "bf5bfbc3",
   "metadata": {
    "ExecuteTime": {
     "end_time": "2022-12-03T14:45:42.501654Z",
     "start_time": "2022-12-03T14:45:42.471155Z"
    }
   },
   "outputs": [],
   "source": [
    "import os"
   ]
  },
  {
   "cell_type": "code",
   "execution_count": 40,
   "id": "11856073",
   "metadata": {
    "ExecuteTime": {
     "end_time": "2022-12-03T15:18:41.133588Z",
     "start_time": "2022-12-03T15:18:41.103354Z"
    }
   },
   "outputs": [],
   "source": [
    "from src.constants import KAT_EX_PATH, NO_BBOX, NEW_ORLEANS"
   ]
  },
  {
   "cell_type": "code",
   "execution_count": 2,
   "id": "d16c78f7",
   "metadata": {
    "ExecuteTime": {
     "end_time": "2022-12-03T14:32:31.793017Z",
     "start_time": "2022-12-03T14:32:31.740000Z"
    }
   },
   "outputs": [],
   "source": [
    "from src.preprocessing.sel import trim_tri"
   ]
  },
  {
   "cell_type": "code",
   "execution_count": 3,
   "id": "f694f35d",
   "metadata": {
    "ExecuteTime": {
     "end_time": "2022-12-03T14:32:38.653044Z",
     "start_time": "2022-12-03T14:32:38.584603Z"
    }
   },
   "outputs": [],
   "source": [
    "?trim_tri"
   ]
  },
  {
   "cell_type": "code",
   "execution_count": 4,
   "id": "8314422d",
   "metadata": {
    "ExecuteTime": {
     "end_time": "2022-12-03T14:34:08.272332Z",
     "start_time": "2022-12-03T14:34:08.235439Z"
    }
   },
   "outputs": [],
   "source": [
    "from adcircpy.outputs import Fort63"
   ]
  },
  {
   "cell_type": "code",
   "execution_count": 9,
   "id": "6439e8ee",
   "metadata": {
    "ExecuteTime": {
     "end_time": "2022-12-03T14:45:44.719720Z",
     "start_time": "2022-12-03T14:45:44.672016Z"
    }
   },
   "outputs": [],
   "source": [
    "f63 = Fort63(os.path.join(KAT_EX_PATH, \"fort.63.nc\"))"
   ]
  },
  {
   "cell_type": "code",
   "execution_count": 10,
   "id": "978b556f",
   "metadata": {
    "ExecuteTime": {
     "end_time": "2022-12-03T14:47:17.393614Z",
     "start_time": "2022-12-03T14:47:17.309893Z"
    }
   },
   "outputs": [
    {
     "data": {
      "text/plain": [
       "array([39.31352665, 39.30541742, 45.69340656, ..., 15.86675545,\n",
       "       15.84477831, 15.75183811])"
      ]
     },
     "execution_count": 10,
     "metadata": {},
     "output_type": "execute_result"
    }
   ],
   "source": [
    "f63.y"
   ]
  },
  {
   "cell_type": "code",
   "execution_count": 11,
   "id": "e39348e6",
   "metadata": {
    "ExecuteTime": {
     "end_time": "2022-12-03T14:47:40.265523Z",
     "start_time": "2022-12-03T14:47:40.234102Z"
    }
   },
   "outputs": [
    {
     "data": {
      "text/plain": [
       "<function src.preprocessing.sel.trim_tri(x: numpy.ndarray, y: numpy.ndarray, tri: numpy.ndarray, bbox: sithom.place.BoundingBox, z: Union[numpy.ndarray, NoneType] = None) -> Union[Tuple[numpy.ndarray, numpy.ndarray, numpy.ndarray, numpy.ndarray], Tuple[numpy.ndarray, numpy.ndarray, numpy.ndarray]]>"
      ]
     },
     "execution_count": 11,
     "metadata": {},
     "output_type": "execute_result"
    }
   ],
   "source": [
    "trim_tri"
   ]
  },
  {
   "cell_type": "code",
   "execution_count": 19,
   "id": "7af91277",
   "metadata": {
    "ExecuteTime": {
     "end_time": "2022-12-03T14:50:06.412213Z",
     "start_time": "2022-12-03T14:50:06.299563Z"
    }
   },
   "outputs": [
    {
     "data": {
      "text/plain": [
       "(252, 8303)"
      ]
     },
     "execution_count": 19,
     "metadata": {},
     "output_type": "execute_result"
    }
   ],
   "source": [
    "f63._ptr[\"zeta\"][:].shape"
   ]
  },
  {
   "cell_type": "code",
   "execution_count": 44,
   "id": "1807abf1",
   "metadata": {
    "ExecuteTime": {
     "end_time": "2022-12-03T15:19:23.790058Z",
     "start_time": "2022-12-03T15:19:23.393543Z"
    }
   },
   "outputs": [],
   "source": [
    "x, y, tri, z = trim_tri(f63.x, f63.y, f63.triangles, NEW_ORLEANS.bbox(3), f63._ptr[\"zeta\"][:])"
   ]
  },
  {
   "cell_type": "code",
   "execution_count": 46,
   "id": "5519922f",
   "metadata": {
    "ExecuteTime": {
     "end_time": "2022-12-03T15:20:01.475155Z",
     "start_time": "2022-12-03T15:20:01.443853Z"
    }
   },
   "outputs": [],
   "source": [
    "import xarray as xr"
   ]
  },
  {
   "cell_type": "code",
   "execution_count": null,
   "id": "bb333009",
   "metadata": {},
   "outputs": [],
   "source": [
    "xr.Dataset()"
   ]
  },
  {
   "cell_type": "code",
   "execution_count": 21,
   "id": "fab284ba",
   "metadata": {
    "ExecuteTime": {
     "end_time": "2022-12-03T14:51:29.770510Z",
     "start_time": "2022-12-03T14:51:29.729654Z"
    }
   },
   "outputs": [
    {
     "data": {
      "text/plain": [
       "array([[5188, 5433, 5189],\n",
       "       [7844, 7776, 7843],\n",
       "       [4550, 4805, 4806],\n",
       "       ...,\n",
       "       [ 996, 1078, 1077],\n",
       "       [ 995, 1077, 1076],\n",
       "       [1078, 1167, 1077]], dtype=int32)"
      ]
     },
     "execution_count": 21,
     "metadata": {},
     "output_type": "execute_result"
    }
   ],
   "source": [
    "f63.triangles"
   ]
  },
  {
   "cell_type": "code",
   "execution_count": 48,
   "id": "5bc8cd25",
   "metadata": {
    "ExecuteTime": {
     "end_time": "2022-12-03T15:22:07.379011Z",
     "start_time": "2022-12-03T15:22:07.348213Z"
    }
   },
   "outputs": [],
   "source": [
    "import matplotlib.pyplot as plt\n",
    "from sithom.plot import plot_defaults"
   ]
  },
  {
   "cell_type": "code",
   "execution_count": 78,
   "id": "b38d7995",
   "metadata": {
    "ExecuteTime": {
     "end_time": "2022-12-03T15:47:49.886729Z",
     "start_time": "2022-12-03T15:46:22.627991Z"
    }
   },
   "outputs": [
    {
     "data": {
      "text/plain": [
       "<Figure size 826.772x510.973 with 0 Axes>"
      ]
     },
     "metadata": {},
     "output_type": "display_data"
    }
   ],
   "source": [
    "from src.constants import FIGURE_PATH\n",
    "plot_defaults()\n",
    "vmin=-3.75\n",
    "vmax=3.75\n",
    "levels = np.linspace(vmin, vmax, num=400)\n",
    "figs_path = os.path.join(FIGURE_PATH, \"katrina_hit\")\n",
    "# os.mkdir(figs_path)\n",
    "\n",
    "\n",
    "def make_part(num=125):\n",
    "    plt.tricontourf(x, y, tri, z.data[num], vmin=vmin, vmax=vmax, levels=levels, cmap=\"cmo.balance\")\n",
    "    plt.colorbar(label=\"Height [m]\")\n",
    "    plt.xlabel(\"Longitude [$^{\\circ}$E]\")\n",
    "    plt.ylabel(\"Latitude [$^{\\circ}$N]\")\n",
    "    plt.savefig(os.path.join(figs_path, str(num) + \".png\"))\n",
    "    plt.clf()\n",
    "\n",
    "#make_part(200)\n",
    "#plt.show()\n",
    "#make_part(206)\n",
    "#plt.show()\n",
    "for i in range(z.shape[0]):\n",
    "    make_part(i)"
   ]
  },
  {
   "cell_type": "code",
   "execution_count": 79,
   "id": "400969bb",
   "metadata": {
    "ExecuteTime": {
     "end_time": "2022-12-03T16:12:36.704801Z",
     "start_time": "2022-12-03T16:12:24.762589Z"
    }
   },
   "outputs": [
    {
     "name": "stderr",
     "output_type": "stream",
     "text": [
      "/var/folders/q5/n7rv_91d6b58cbb5xkzlsc4c0000gn/T/ipykernel_79592/1050790239.py:3: DeprecationWarning: Starting with ImageIO v3 the behavior of this function will switch to that of iio.v3.imread. To keep the current behavior (and make this warning disappear) use `import imageio.v2 as imageio` or call `imageio.v2.imread` directly.\n",
      "  ims = [imageio.imread(f) for f in fig_paths]\n"
     ]
    }
   ],
   "source": [
    "fig_paths = [os.path.join(figs_path, str(num) + \".png\") for num in range(z.shape[0])]\n",
    "import imageio\n",
    "ims = [imageio.imread(f) for f in fig_paths]\n",
    "imageio.mimwrite(os.path.join(FIGURE_PATH,\"katrina_hit.gif\"), ims)"
   ]
  },
  {
   "cell_type": "code",
   "execution_count": 84,
   "id": "8d237e50",
   "metadata": {
    "ExecuteTime": {
     "end_time": "2022-12-03T16:48:46.579866Z",
     "start_time": "2022-12-03T16:48:46.479939Z"
    }
   },
   "outputs": [
    {
     "data": {
      "text/html": [
       "<div><svg style=\"position: absolute; width: 0; height: 0; overflow: hidden\">\n",
       "<defs>\n",
       "<symbol id=\"icon-database\" viewBox=\"0 0 32 32\">\n",
       "<path d=\"M16 0c-8.837 0-16 2.239-16 5v4c0 2.761 7.163 5 16 5s16-2.239 16-5v-4c0-2.761-7.163-5-16-5z\"></path>\n",
       "<path d=\"M16 17c-8.837 0-16-2.239-16-5v6c0 2.761 7.163 5 16 5s16-2.239 16-5v-6c0 2.761-7.163 5-16 5z\"></path>\n",
       "<path d=\"M16 26c-8.837 0-16-2.239-16-5v6c0 2.761 7.163 5 16 5s16-2.239 16-5v-6c0 2.761-7.163 5-16 5z\"></path>\n",
       "</symbol>\n",
       "<symbol id=\"icon-file-text2\" viewBox=\"0 0 32 32\">\n",
       "<path d=\"M28.681 7.159c-0.694-0.947-1.662-2.053-2.724-3.116s-2.169-2.030-3.116-2.724c-1.612-1.182-2.393-1.319-2.841-1.319h-15.5c-1.378 0-2.5 1.121-2.5 2.5v27c0 1.378 1.122 2.5 2.5 2.5h23c1.378 0 2.5-1.122 2.5-2.5v-19.5c0-0.448-0.137-1.23-1.319-2.841zM24.543 5.457c0.959 0.959 1.712 1.825 2.268 2.543h-4.811v-4.811c0.718 0.556 1.584 1.309 2.543 2.268zM28 29.5c0 0.271-0.229 0.5-0.5 0.5h-23c-0.271 0-0.5-0.229-0.5-0.5v-27c0-0.271 0.229-0.5 0.5-0.5 0 0 15.499-0 15.5 0v7c0 0.552 0.448 1 1 1h7v19.5z\"></path>\n",
       "<path d=\"M23 26h-14c-0.552 0-1-0.448-1-1s0.448-1 1-1h14c0.552 0 1 0.448 1 1s-0.448 1-1 1z\"></path>\n",
       "<path d=\"M23 22h-14c-0.552 0-1-0.448-1-1s0.448-1 1-1h14c0.552 0 1 0.448 1 1s-0.448 1-1 1z\"></path>\n",
       "<path d=\"M23 18h-14c-0.552 0-1-0.448-1-1s0.448-1 1-1h14c0.552 0 1 0.448 1 1s-0.448 1-1 1z\"></path>\n",
       "</symbol>\n",
       "</defs>\n",
       "</svg>\n",
       "<style>/* CSS stylesheet for displaying xarray objects in jupyterlab.\n",
       " *\n",
       " */\n",
       "\n",
       ":root {\n",
       "  --xr-font-color0: var(--jp-content-font-color0, rgba(0, 0, 0, 1));\n",
       "  --xr-font-color2: var(--jp-content-font-color2, rgba(0, 0, 0, 0.54));\n",
       "  --xr-font-color3: var(--jp-content-font-color3, rgba(0, 0, 0, 0.38));\n",
       "  --xr-border-color: var(--jp-border-color2, #e0e0e0);\n",
       "  --xr-disabled-color: var(--jp-layout-color3, #bdbdbd);\n",
       "  --xr-background-color: var(--jp-layout-color0, white);\n",
       "  --xr-background-color-row-even: var(--jp-layout-color1, white);\n",
       "  --xr-background-color-row-odd: var(--jp-layout-color2, #eeeeee);\n",
       "}\n",
       "\n",
       "html[theme=dark],\n",
       "body[data-theme=dark],\n",
       "body.vscode-dark {\n",
       "  --xr-font-color0: rgba(255, 255, 255, 1);\n",
       "  --xr-font-color2: rgba(255, 255, 255, 0.54);\n",
       "  --xr-font-color3: rgba(255, 255, 255, 0.38);\n",
       "  --xr-border-color: #1F1F1F;\n",
       "  --xr-disabled-color: #515151;\n",
       "  --xr-background-color: #111111;\n",
       "  --xr-background-color-row-even: #111111;\n",
       "  --xr-background-color-row-odd: #313131;\n",
       "}\n",
       "\n",
       ".xr-wrap {\n",
       "  display: block !important;\n",
       "  min-width: 300px;\n",
       "  max-width: 700px;\n",
       "}\n",
       "\n",
       ".xr-text-repr-fallback {\n",
       "  /* fallback to plain text repr when CSS is not injected (untrusted notebook) */\n",
       "  display: none;\n",
       "}\n",
       "\n",
       ".xr-header {\n",
       "  padding-top: 6px;\n",
       "  padding-bottom: 6px;\n",
       "  margin-bottom: 4px;\n",
       "  border-bottom: solid 1px var(--xr-border-color);\n",
       "}\n",
       "\n",
       ".xr-header > div,\n",
       ".xr-header > ul {\n",
       "  display: inline;\n",
       "  margin-top: 0;\n",
       "  margin-bottom: 0;\n",
       "}\n",
       "\n",
       ".xr-obj-type,\n",
       ".xr-array-name {\n",
       "  margin-left: 2px;\n",
       "  margin-right: 10px;\n",
       "}\n",
       "\n",
       ".xr-obj-type {\n",
       "  color: var(--xr-font-color2);\n",
       "}\n",
       "\n",
       ".xr-sections {\n",
       "  padding-left: 0 !important;\n",
       "  display: grid;\n",
       "  grid-template-columns: 150px auto auto 1fr 20px 20px;\n",
       "}\n",
       "\n",
       ".xr-section-item {\n",
       "  display: contents;\n",
       "}\n",
       "\n",
       ".xr-section-item input {\n",
       "  display: none;\n",
       "}\n",
       "\n",
       ".xr-section-item input + label {\n",
       "  color: var(--xr-disabled-color);\n",
       "}\n",
       "\n",
       ".xr-section-item input:enabled + label {\n",
       "  cursor: pointer;\n",
       "  color: var(--xr-font-color2);\n",
       "}\n",
       "\n",
       ".xr-section-item input:enabled + label:hover {\n",
       "  color: var(--xr-font-color0);\n",
       "}\n",
       "\n",
       ".xr-section-summary {\n",
       "  grid-column: 1;\n",
       "  color: var(--xr-font-color2);\n",
       "  font-weight: 500;\n",
       "}\n",
       "\n",
       ".xr-section-summary > span {\n",
       "  display: inline-block;\n",
       "  padding-left: 0.5em;\n",
       "}\n",
       "\n",
       ".xr-section-summary-in:disabled + label {\n",
       "  color: var(--xr-font-color2);\n",
       "}\n",
       "\n",
       ".xr-section-summary-in + label:before {\n",
       "  display: inline-block;\n",
       "  content: '►';\n",
       "  font-size: 11px;\n",
       "  width: 15px;\n",
       "  text-align: center;\n",
       "}\n",
       "\n",
       ".xr-section-summary-in:disabled + label:before {\n",
       "  color: var(--xr-disabled-color);\n",
       "}\n",
       "\n",
       ".xr-section-summary-in:checked + label:before {\n",
       "  content: '▼';\n",
       "}\n",
       "\n",
       ".xr-section-summary-in:checked + label > span {\n",
       "  display: none;\n",
       "}\n",
       "\n",
       ".xr-section-summary,\n",
       ".xr-section-inline-details {\n",
       "  padding-top: 4px;\n",
       "  padding-bottom: 4px;\n",
       "}\n",
       "\n",
       ".xr-section-inline-details {\n",
       "  grid-column: 2 / -1;\n",
       "}\n",
       "\n",
       ".xr-section-details {\n",
       "  display: none;\n",
       "  grid-column: 1 / -1;\n",
       "  margin-bottom: 5px;\n",
       "}\n",
       "\n",
       ".xr-section-summary-in:checked ~ .xr-section-details {\n",
       "  display: contents;\n",
       "}\n",
       "\n",
       ".xr-array-wrap {\n",
       "  grid-column: 1 / -1;\n",
       "  display: grid;\n",
       "  grid-template-columns: 20px auto;\n",
       "}\n",
       "\n",
       ".xr-array-wrap > label {\n",
       "  grid-column: 1;\n",
       "  vertical-align: top;\n",
       "}\n",
       "\n",
       ".xr-preview {\n",
       "  color: var(--xr-font-color3);\n",
       "}\n",
       "\n",
       ".xr-array-preview,\n",
       ".xr-array-data {\n",
       "  padding: 0 5px !important;\n",
       "  grid-column: 2;\n",
       "}\n",
       "\n",
       ".xr-array-data,\n",
       ".xr-array-in:checked ~ .xr-array-preview {\n",
       "  display: none;\n",
       "}\n",
       "\n",
       ".xr-array-in:checked ~ .xr-array-data,\n",
       ".xr-array-preview {\n",
       "  display: inline-block;\n",
       "}\n",
       "\n",
       ".xr-dim-list {\n",
       "  display: inline-block !important;\n",
       "  list-style: none;\n",
       "  padding: 0 !important;\n",
       "  margin: 0;\n",
       "}\n",
       "\n",
       ".xr-dim-list li {\n",
       "  display: inline-block;\n",
       "  padding: 0;\n",
       "  margin: 0;\n",
       "}\n",
       "\n",
       ".xr-dim-list:before {\n",
       "  content: '(';\n",
       "}\n",
       "\n",
       ".xr-dim-list:after {\n",
       "  content: ')';\n",
       "}\n",
       "\n",
       ".xr-dim-list li:not(:last-child):after {\n",
       "  content: ',';\n",
       "  padding-right: 5px;\n",
       "}\n",
       "\n",
       ".xr-has-index {\n",
       "  font-weight: bold;\n",
       "}\n",
       "\n",
       ".xr-var-list,\n",
       ".xr-var-item {\n",
       "  display: contents;\n",
       "}\n",
       "\n",
       ".xr-var-item > div,\n",
       ".xr-var-item label,\n",
       ".xr-var-item > .xr-var-name span {\n",
       "  background-color: var(--xr-background-color-row-even);\n",
       "  margin-bottom: 0;\n",
       "}\n",
       "\n",
       ".xr-var-item > .xr-var-name:hover span {\n",
       "  padding-right: 5px;\n",
       "}\n",
       "\n",
       ".xr-var-list > li:nth-child(odd) > div,\n",
       ".xr-var-list > li:nth-child(odd) > label,\n",
       ".xr-var-list > li:nth-child(odd) > .xr-var-name span {\n",
       "  background-color: var(--xr-background-color-row-odd);\n",
       "}\n",
       "\n",
       ".xr-var-name {\n",
       "  grid-column: 1;\n",
       "}\n",
       "\n",
       ".xr-var-dims {\n",
       "  grid-column: 2;\n",
       "}\n",
       "\n",
       ".xr-var-dtype {\n",
       "  grid-column: 3;\n",
       "  text-align: right;\n",
       "  color: var(--xr-font-color2);\n",
       "}\n",
       "\n",
       ".xr-var-preview {\n",
       "  grid-column: 4;\n",
       "}\n",
       "\n",
       ".xr-var-name,\n",
       ".xr-var-dims,\n",
       ".xr-var-dtype,\n",
       ".xr-preview,\n",
       ".xr-attrs dt {\n",
       "  white-space: nowrap;\n",
       "  overflow: hidden;\n",
       "  text-overflow: ellipsis;\n",
       "  padding-right: 10px;\n",
       "}\n",
       "\n",
       ".xr-var-name:hover,\n",
       ".xr-var-dims:hover,\n",
       ".xr-var-dtype:hover,\n",
       ".xr-attrs dt:hover {\n",
       "  overflow: visible;\n",
       "  width: auto;\n",
       "  z-index: 1;\n",
       "}\n",
       "\n",
       ".xr-var-attrs,\n",
       ".xr-var-data {\n",
       "  display: none;\n",
       "  background-color: var(--xr-background-color) !important;\n",
       "  padding-bottom: 5px !important;\n",
       "}\n",
       "\n",
       ".xr-var-attrs-in:checked ~ .xr-var-attrs,\n",
       ".xr-var-data-in:checked ~ .xr-var-data {\n",
       "  display: block;\n",
       "}\n",
       "\n",
       ".xr-var-data > table {\n",
       "  float: right;\n",
       "}\n",
       "\n",
       ".xr-var-name span,\n",
       ".xr-var-data,\n",
       ".xr-attrs {\n",
       "  padding-left: 25px !important;\n",
       "}\n",
       "\n",
       ".xr-attrs,\n",
       ".xr-var-attrs,\n",
       ".xr-var-data {\n",
       "  grid-column: 1 / -1;\n",
       "}\n",
       "\n",
       "dl.xr-attrs {\n",
       "  padding: 0;\n",
       "  margin: 0;\n",
       "  display: grid;\n",
       "  grid-template-columns: 125px auto;\n",
       "}\n",
       "\n",
       ".xr-attrs dt,\n",
       ".xr-attrs dd {\n",
       "  padding: 0;\n",
       "  margin: 0;\n",
       "  float: left;\n",
       "  padding-right: 10px;\n",
       "  width: auto;\n",
       "}\n",
       "\n",
       ".xr-attrs dt {\n",
       "  font-weight: normal;\n",
       "  grid-column: 1;\n",
       "}\n",
       "\n",
       ".xr-attrs dt:hover span {\n",
       "  display: inline-block;\n",
       "  background: var(--xr-background-color);\n",
       "  padding-right: 10px;\n",
       "}\n",
       "\n",
       ".xr-attrs dd {\n",
       "  grid-column: 2;\n",
       "  white-space: pre-wrap;\n",
       "  word-break: break-all;\n",
       "}\n",
       "\n",
       ".xr-icon-database,\n",
       ".xr-icon-file-text2 {\n",
       "  display: inline-block;\n",
       "  vertical-align: middle;\n",
       "  width: 1em;\n",
       "  height: 1.5em !important;\n",
       "  stroke-width: 0;\n",
       "  stroke: currentColor;\n",
       "  fill: currentColor;\n",
       "}\n",
       "</style><pre class='xr-text-repr-fallback'>&lt;xarray.Dataset&gt;\n",
       "Dimensions:  (time: 252, point: 339, triangle: 558, vertex: 3)\n",
       "Coordinates:\n",
       "    lon      (point) float64 -90.2 -90.32 -90.35 -90.26 ... -87.1 -87.61 -88.01\n",
       "    lat      (point) float64 30.03 30.12 30.25 30.35 ... 27.11 27.52 27.37 27.08\n",
       "  * time     (time) datetime64[ns] 2005-08-19T05:00:00 ... 2005-09-02T03:40:00\n",
       "Dimensions without coordinates: point, triangle, vertex\n",
       "Data variables:\n",
       "    zeta     (time, point) float64 -2.484e-05 -1.522e-05 ... -0.199 -0.2047\n",
       "    mesh     (triangle, vertex) int64 42 66 41 245 256 ... 302 284 286 304 302</pre><div class='xr-wrap' style='display:none'><div class='xr-header'><div class='xr-obj-type'>xarray.Dataset</div></div><ul class='xr-sections'><li class='xr-section-item'><input id='section-8c391622-7749-4dc4-8300-74c2b61a19b0' class='xr-section-summary-in' type='checkbox' disabled ><label for='section-8c391622-7749-4dc4-8300-74c2b61a19b0' class='xr-section-summary'  title='Expand/collapse section'>Dimensions:</label><div class='xr-section-inline-details'><ul class='xr-dim-list'><li><span class='xr-has-index'>time</span>: 252</li><li><span>point</span>: 339</li><li><span>triangle</span>: 558</li><li><span>vertex</span>: 3</li></ul></div><div class='xr-section-details'></div></li><li class='xr-section-item'><input id='section-827a71a5-cf47-47ee-aea6-edc3bcdcdb4c' class='xr-section-summary-in' type='checkbox'  checked><label for='section-827a71a5-cf47-47ee-aea6-edc3bcdcdb4c' class='xr-section-summary' >Coordinates: <span>(3)</span></label><div class='xr-section-inline-details'></div><div class='xr-section-details'><ul class='xr-var-list'><li class='xr-var-item'><div class='xr-var-name'><span>lon</span></div><div class='xr-var-dims'>(point)</div><div class='xr-var-dtype'>float64</div><div class='xr-var-preview xr-preview'>-90.2 -90.32 ... -87.61 -88.01</div><input id='attrs-5be62fbc-3034-40ee-a121-9c4a6a6737ad' class='xr-var-attrs-in' type='checkbox' disabled><label for='attrs-5be62fbc-3034-40ee-a121-9c4a6a6737ad' title='Show/Hide attributes'><svg class='icon xr-icon-file-text2'><use xlink:href='#icon-file-text2'></use></svg></label><input id='data-b64c7041-e5cf-4641-9b62-a4c8eda03698' class='xr-var-data-in' type='checkbox'><label for='data-b64c7041-e5cf-4641-9b62-a4c8eda03698' title='Show/Hide data repr'><svg class='icon xr-icon-database'><use xlink:href='#icon-database'></use></svg></label><div class='xr-var-attrs'><dl class='xr-attrs'></dl></div><div class='xr-var-data'><pre>array([-90.20283754, -90.31945582, -90.35294315, -90.2576789 ,\n",
       "       -90.1591746 , -90.05936008, -90.1727839 , -90.09792222,\n",
       "       -90.04143568, -89.94659193, -89.98087694, -89.92982662,\n",
       "       -89.83496738, -89.8278973 , -89.69849685, -89.69151317,\n",
       "       -89.74099709, -88.03180753, -89.59205599, -89.59325816,\n",
       "       -89.59691646, -89.69856026, -89.65743453, -89.59214493,\n",
       "       -87.91491564, -88.01569737, -88.11475712, -89.40122279,\n",
       "       -89.48561826, -89.49494826, -89.03982504, -89.20902426,\n",
       "       -89.56106133, -89.50007221, -89.49056443, -89.49320834,\n",
       "       -91.7604927 , -87.91269889, -88.02073869, -88.09926633,\n",
       "       -89.31090611, -89.39213223, -89.36297667, -88.63932572,\n",
       "       -88.78877339, -88.91861287, -89.02588785, -89.14070708,\n",
       "       -89.43313688, -89.42759165, -89.37881588, -89.36665396,\n",
       "       -89.83288585, -89.97745054, -91.55920129, -91.71146267,\n",
       "       -91.85599511, -90.42339796, -87.93360782, -87.82258109,\n",
       "       -88.26750887, -88.02567382, -88.13748794, -88.38671971,\n",
       "       -88.51084032, -88.59837677, -89.23673207, -89.25254928,\n",
       "       -89.29447021, -88.71806518, -88.86979817, -88.97735972,\n",
       "       -89.08433247, -89.28602555, -87.96534486, -89.25977859,\n",
       "       -89.23509829, -89.20004934, -89.85138386, -89.96468347,\n",
       "...\n",
       "       -88.38228514, -87.86443905, -87.56601161, -88.65049761,\n",
       "       -88.37129936, -88.88027441, -88.70123032, -89.42904306,\n",
       "       -89.2013544 , -88.95709976, -89.80328497, -89.59506335,\n",
       "       -90.03508559, -91.84361708, -91.12165458, -90.86748676,\n",
       "       -91.39143282, -91.64530049, -92.17695537, -92.64265293,\n",
       "       -90.59475839, -90.30828036, -87.28869537, -88.04462386,\n",
       "       -87.64085389, -88.4646217 , -88.12976687, -88.6565955 ,\n",
       "       -88.81789828, -89.36262579, -89.09980344, -89.80520921,\n",
       "       -89.55943955, -90.09513333, -90.8026346 , -91.87988459,\n",
       "       -91.14143999, -91.53924446, -92.25324755, -92.75582749,\n",
       "       -90.49832735, -87.3367809 , -87.74457254, -88.27834056,\n",
       "       -87.87514319, -88.49670348, -88.9687915 , -88.728396  ,\n",
       "       -89.29105093, -89.74324846, -90.18064902, -90.91116049,\n",
       "       -91.82094261, -91.35646625, -92.24322233, -92.83025425,\n",
       "       -90.59567526, -87.44026654, -87.6107    , -88.04721263,\n",
       "       -90.27689149, -88.45177789, -88.90680884, -89.39663894,\n",
       "       -89.87461823, -91.07241947, -91.65359048, -92.14547158,\n",
       "       -90.63460372, -87.106331  , -87.58454662, -88.03327668,\n",
       "       -90.09891122, -88.49826972, -89.0127369 , -89.55137027,\n",
       "       -87.10362764, -87.60613178, -88.01172141])</pre></div></li><li class='xr-var-item'><div class='xr-var-name'><span>lat</span></div><div class='xr-var-dims'>(point)</div><div class='xr-var-dtype'>float64</div><div class='xr-var-preview xr-preview'>30.03 30.12 30.25 ... 27.37 27.08</div><input id='attrs-a935df52-5bf7-43f9-b791-459edc209e02' class='xr-var-attrs-in' type='checkbox' disabled><label for='attrs-a935df52-5bf7-43f9-b791-459edc209e02' title='Show/Hide attributes'><svg class='icon xr-icon-file-text2'><use xlink:href='#icon-file-text2'></use></svg></label><input id='data-9f7f8743-33c5-4ee6-b90d-aee8f46bb4da' class='xr-var-data-in' type='checkbox'><label for='data-9f7f8743-33c5-4ee6-b90d-aee8f46bb4da' title='Show/Hide data repr'><svg class='icon xr-icon-database'><use xlink:href='#icon-database'></use></svg></label><div class='xr-var-attrs'><dl class='xr-attrs'></dl></div><div class='xr-var-data'><pre>array([30.03371352, 30.11581568, 30.24695219, 30.34843009, 30.11361524,\n",
       "       30.03579556, 30.2303818 , 30.36076771, 30.15236963, 30.07972801,\n",
       "       30.27472203, 30.17997515, 30.22581807, 30.10162709, 30.17324525,\n",
       "       30.06053086, 29.97072947, 30.66837954, 30.20331567, 30.09812514,\n",
       "       29.95892735, 29.56411182, 29.73951622, 29.47926862, 30.60912433,\n",
       "       30.53429555, 30.58860615, 30.26023884, 30.16629368, 30.026438  ,\n",
       "       30.37663185, 30.32512738, 29.6082038 , 29.72892877, 29.51588324,\n",
       "       29.39265778, 29.73991444, 30.43925056, 30.41130196, 30.48911073,\n",
       "       30.17117998, 30.06805012, 29.96917127, 30.36839274, 30.38588617,\n",
       "       30.39021813, 30.27631512, 30.16770523, 29.76091506, 29.62151416,\n",
       "       29.47777184, 29.33825924, 29.43314412, 29.43523449, 29.62011342,\n",
       "       29.62610183, 29.64673044, 29.3227293 , 30.34499495, 30.39208085,\n",
       "       30.38258414, 30.31868319, 30.34147678, 30.38711538, 30.34013216,\n",
       "       30.26384909, 30.03966462, 29.91508716, 29.80969184, 30.25469115,\n",
       "       30.25783778, 30.14037038, 30.05357389, 29.70505891, 30.25137615,\n",
       "       29.56890513, 29.42941152, 29.29294004, 29.35187194, 29.32612395,\n",
       "       29.24175312, 29.3250502 , 29.44661538, 29.51373232, 29.5323461 ,\n",
       "       29.35873531, 29.31062721, 29.23418959, 29.51877341, 29.52313502,\n",
       "       29.53144949, 29.57816644, 29.53619125, 29.56616747, 29.26209393,\n",
       "       29.17622394, 30.25727698, 30.18074859, 30.24173229, 30.29811393,\n",
       "...\n",
       "       28.71611701, 28.69639321, 28.74664786, 28.7531952 , 28.60323787,\n",
       "       28.62145265, 28.89503173, 28.84682338, 28.76433726, 28.7598114 ,\n",
       "       28.70693363, 28.88448339, 28.81558924, 28.84028711, 28.77452297,\n",
       "       28.6427819 , 28.59579238, 28.59602626, 29.65899801, 29.48401356,\n",
       "       29.28841902, 29.45014708, 29.50216156, 28.98709695, 29.02993315,\n",
       "       28.71537359, 28.78323553, 28.58375828, 28.5219572 , 28.50545597,\n",
       "       28.55175536, 28.42696035, 28.4292838 , 28.6497342 , 28.61083984,\n",
       "       28.49149646, 28.51920136, 28.49713334, 28.56214645, 28.49781708,\n",
       "       28.40523904, 28.37628151, 29.3176409 , 29.16215806, 29.20946471,\n",
       "       28.77190667, 28.80526543, 28.53606706, 28.2737648 , 28.34083877,\n",
       "       28.28917998, 28.28150982, 28.20066201, 28.14891107, 28.24241158,\n",
       "       28.35267668, 28.28336915, 28.25712083, 28.17257812, 27.97374303,\n",
       "       28.08243654, 28.95681718, 28.86786349, 28.48984193, 28.50988926,\n",
       "       28.21289092, 28.07054834, 28.02844653, 28.02251478, 27.93148632,\n",
       "       27.79246842, 27.94951671, 27.97734713, 27.91299729, 27.67173833,\n",
       "       27.37011771, 27.66222741, 28.56358632, 28.22974616, 28.10303223,\n",
       "       27.44146349, 27.84619297, 27.73883562, 27.58605243, 27.48828571,\n",
       "       27.51365832, 27.49697157, 27.0396724 , 27.19382097, 28.1428805 ,\n",
       "       27.82934251, 27.60332183, 27.07051496, 27.3906307 , 27.22746356,\n",
       "       27.1077286 , 27.52368763, 27.3733867 , 27.0773459 ])</pre></div></li><li class='xr-var-item'><div class='xr-var-name'><span class='xr-has-index'>time</span></div><div class='xr-var-dims'>(time)</div><div class='xr-var-dtype'>datetime64[ns]</div><div class='xr-var-preview xr-preview'>2005-08-19T05:00:00 ... 2005-09-...</div><input id='attrs-17ede3cf-08bc-48b5-93e6-ad04f500af76' class='xr-var-attrs-in' type='checkbox' disabled><label for='attrs-17ede3cf-08bc-48b5-93e6-ad04f500af76' title='Show/Hide attributes'><svg class='icon xr-icon-file-text2'><use xlink:href='#icon-file-text2'></use></svg></label><input id='data-408f875c-a9b8-4573-92ed-f93bcdeb8992' class='xr-var-data-in' type='checkbox'><label for='data-408f875c-a9b8-4573-92ed-f93bcdeb8992' title='Show/Hide data repr'><svg class='icon xr-icon-database'><use xlink:href='#icon-database'></use></svg></label><div class='xr-var-attrs'><dl class='xr-attrs'></dl></div><div class='xr-var-data'><pre>array([&#x27;2005-08-19T05:00:00.000000000&#x27;, &#x27;2005-08-19T06:20:00.000000000&#x27;,\n",
       "       &#x27;2005-08-19T07:40:00.000000000&#x27;, ..., &#x27;2005-09-02T01:00:00.000000000&#x27;,\n",
       "       &#x27;2005-09-02T02:20:00.000000000&#x27;, &#x27;2005-09-02T03:40:00.000000000&#x27;],\n",
       "      dtype=&#x27;datetime64[ns]&#x27;)</pre></div></li></ul></div></li><li class='xr-section-item'><input id='section-c7fe2459-1597-4d07-845b-b882b0520179' class='xr-section-summary-in' type='checkbox'  checked><label for='section-c7fe2459-1597-4d07-845b-b882b0520179' class='xr-section-summary' >Data variables: <span>(2)</span></label><div class='xr-section-inline-details'></div><div class='xr-section-details'><ul class='xr-var-list'><li class='xr-var-item'><div class='xr-var-name'><span>zeta</span></div><div class='xr-var-dims'>(time, point)</div><div class='xr-var-dtype'>float64</div><div class='xr-var-preview xr-preview'>-2.484e-05 -1.522e-05 ... -0.2047</div><input id='attrs-d51d88b6-5cde-42ae-906b-eb4fd74bb3db' class='xr-var-attrs-in' type='checkbox' disabled><label for='attrs-d51d88b6-5cde-42ae-906b-eb4fd74bb3db' title='Show/Hide attributes'><svg class='icon xr-icon-file-text2'><use xlink:href='#icon-file-text2'></use></svg></label><input id='data-2b7b164c-784f-4369-878c-a77f3e7849b2' class='xr-var-data-in' type='checkbox'><label for='data-2b7b164c-784f-4369-878c-a77f3e7849b2' title='Show/Hide data repr'><svg class='icon xr-icon-database'><use xlink:href='#icon-database'></use></svg></label><div class='xr-var-attrs'><dl class='xr-attrs'></dl></div><div class='xr-var-data'><pre>array([[-2.48405040e-05, -1.52187881e-05, -4.26740139e-06, ...,\n",
       "         1.64582711e-04,  1.05632111e-04,  5.77992435e-05],\n",
       "       [-1.28604553e-05, -1.01544597e-04, -1.19852083e-04, ...,\n",
       "         3.84890470e-04,  2.19018973e-04,  1.59168814e-04],\n",
       "       [ 8.20444799e-05, -1.44906312e-04, -2.97147353e-04, ...,\n",
       "        -1.09441751e-03, -1.29712642e-03, -1.30199395e-03],\n",
       "       ...,\n",
       "       [ 3.32145416e-01,  3.32902838e-01,  3.32894626e-01, ...,\n",
       "        -1.71627514e-01, -1.60826919e-01, -1.59862537e-01],\n",
       "       [ 3.31974155e-01,  3.26307517e-01,  3.27281998e-01, ...,\n",
       "        -1.97586021e-01, -1.89927248e-01, -1.91961792e-01],\n",
       "       [ 3.27634117e-01,  3.15172088e-01,  3.21221119e-01, ...,\n",
       "        -2.02236854e-01, -1.98990330e-01, -2.04719499e-01]])</pre></div></li><li class='xr-var-item'><div class='xr-var-name'><span>mesh</span></div><div class='xr-var-dims'>(triangle, vertex)</div><div class='xr-var-dtype'>int64</div><div class='xr-var-preview xr-preview'>42 66 41 245 ... 284 286 304 302</div><input id='attrs-3cc2079f-4f60-4dbf-9cc4-dcaaaf79b7db' class='xr-var-attrs-in' type='checkbox' disabled><label for='attrs-3cc2079f-4f60-4dbf-9cc4-dcaaaf79b7db' title='Show/Hide attributes'><svg class='icon xr-icon-file-text2'><use xlink:href='#icon-file-text2'></use></svg></label><input id='data-a9d2bd3f-9449-4252-ad7d-fc935b48803a' class='xr-var-data-in' type='checkbox'><label for='data-a9d2bd3f-9449-4252-ad7d-fc935b48803a' title='Show/Hide data repr'><svg class='icon xr-icon-database'><use xlink:href='#icon-database'></use></svg></label><div class='xr-var-attrs'><dl class='xr-attrs'></dl></div><div class='xr-var-data'><pre>array([[ 42,  66,  41],\n",
       "       [245, 256, 272],\n",
       "       [293, 272, 281],\n",
       "       ...,\n",
       "       [266, 287, 285],\n",
       "       [283, 302, 284],\n",
       "       [286, 304, 302]])</pre></div></li></ul></div></li><li class='xr-section-item'><input id='section-31d11f6a-fc80-45d9-843e-6bf2392e71b0' class='xr-section-summary-in' type='checkbox' disabled ><label for='section-31d11f6a-fc80-45d9-843e-6bf2392e71b0' class='xr-section-summary'  title='Expand/collapse section'>Attributes: <span>(0)</span></label><div class='xr-section-inline-details'></div><div class='xr-section-details'><dl class='xr-attrs'></dl></div></li></ul></div></div>"
      ],
      "text/plain": [
       "<xarray.Dataset>\n",
       "Dimensions:  (time: 252, point: 339, triangle: 558, vertex: 3)\n",
       "Coordinates:\n",
       "    lon      (point) float64 -90.2 -90.32 -90.35 -90.26 ... -87.1 -87.61 -88.01\n",
       "    lat      (point) float64 30.03 30.12 30.25 30.35 ... 27.11 27.52 27.37 27.08\n",
       "  * time     (time) datetime64[ns] 2005-08-19T05:00:00 ... 2005-09-02T03:40:00\n",
       "Dimensions without coordinates: point, triangle, vertex\n",
       "Data variables:\n",
       "    zeta     (time, point) float64 -2.484e-05 -1.522e-05 ... -0.199 -0.2047\n",
       "    mesh     (triangle, vertex) int64 42 66 41 245 256 ... 302 284 286 304 302"
      ]
     },
     "execution_count": 84,
     "metadata": {},
     "output_type": "execute_result"
    }
   ],
   "source": [
    "import datetime\n",
    "start = datetime.datetime(year=2005, month=8, day=19, hour=5)\n",
    "time_step = datetime.timedelta(hours=1, minutes=20)\n",
    "times = [start + i * time_step for i in range(z.shape[0])]\n",
    "ds = xr.Dataset(data_vars={\"zeta\": ([\"time\", \"point\"], z.data),\n",
    "                      \"mesh\": ([\"triangle\", \"vertex\"], tri)},\n",
    "           coords={\"lon\": ([\"point\"], x),\n",
    "                   \"lat\": ([\"point\"], y),\n",
    "                   \"time\": ([\"time\"], times)})\n",
    "ds"
   ]
  },
  {
   "cell_type": "code",
   "execution_count": 43,
   "id": "864f72bc",
   "metadata": {
    "ExecuteTime": {
     "end_time": "2022-12-03T15:19:14.924398Z",
     "start_time": "2022-12-03T15:19:14.891714Z"
    }
   },
   "outputs": [
    {
     "data": {
      "text/plain": [
       "[('Latitude bounds', [26.9511, 32.9511], 'degrees_north'), ('Longitude bounds', [-93.0715, -87.0715], 'degrees_east'), 'Bounding Box around point: New Orleans Point']"
      ]
     },
     "execution_count": 43,
     "metadata": {},
     "output_type": "execute_result"
    }
   ],
   "source": [
    "NEW_ORLEANS.bbox(3)"
   ]
  },
  {
   "cell_type": "code",
   "execution_count": 54,
   "id": "f9c2c128",
   "metadata": {
    "ExecuteTime": {
     "end_time": "2022-12-03T15:24:43.483345Z",
     "start_time": "2022-12-03T15:24:43.451590Z"
    }
   },
   "outputs": [
    {
     "data": {
      "text/plain": [
       "(-0.9199999999999999, 3.6469334306501096)"
      ]
     },
     "execution_count": 54,
     "metadata": {},
     "output_type": "execute_result"
    }
   ],
   "source": [
    "z.min(), z.max()"
   ]
  },
  {
   "cell_type": "code",
   "execution_count": 61,
   "id": "bf67e5bf",
   "metadata": {
    "ExecuteTime": {
     "end_time": "2022-12-03T15:30:02.768625Z",
     "start_time": "2022-12-03T15:30:02.738246Z"
    }
   },
   "outputs": [],
   "source": [
    "vmin=-3.75\n",
    "vmax=3.75\n",
    "levels = np.linspace(vmin, vmax, num=400)\n",
    "import numpy as np"
   ]
  },
  {
   "cell_type": "code",
   "execution_count": 60,
   "id": "5fdcfed7",
   "metadata": {
    "ExecuteTime": {
     "end_time": "2022-12-03T15:29:53.963012Z",
     "start_time": "2022-12-03T15:29:53.932206Z"
    }
   },
   "outputs": [],
   "source": []
  },
  {
   "cell_type": "code",
   "execution_count": 77,
   "id": "149d3284",
   "metadata": {
    "ExecuteTime": {
     "end_time": "2022-12-03T15:46:06.105459Z",
     "start_time": "2022-12-03T15:46:06.072804Z"
    }
   },
   "outputs": [
    {
     "data": {
      "text/plain": [
       "array([[-2.48405040e-05, -1.52187881e-05, -4.26740139e-06, ...,\n",
       "         1.64582711e-04,  1.05632111e-04,  5.77992435e-05],\n",
       "       [-1.28604553e-05, -1.01544597e-04, -1.19852083e-04, ...,\n",
       "         3.84890470e-04,  2.19018973e-04,  1.59168814e-04],\n",
       "       [ 8.20444799e-05, -1.44906312e-04, -2.97147353e-04, ...,\n",
       "        -1.09441751e-03, -1.29712642e-03, -1.30199395e-03],\n",
       "       ...,\n",
       "       [ 3.32145416e-01,  3.32902838e-01,  3.32894626e-01, ...,\n",
       "        -1.71627514e-01, -1.60826919e-01, -1.59862537e-01],\n",
       "       [ 3.31974155e-01,  3.26307517e-01,  3.27281998e-01, ...,\n",
       "        -1.97586021e-01, -1.89927248e-01, -1.91961792e-01],\n",
       "       [ 3.27634117e-01,  3.15172088e-01,  3.21221119e-01, ...,\n",
       "        -2.02236854e-01, -1.98990330e-01, -2.04719499e-01]])"
      ]
     },
     "execution_count": 77,
     "metadata": {},
     "output_type": "execute_result"
    }
   ],
   "source": [
    "z.data"
   ]
  },
  {
   "cell_type": "code",
   "execution_count": null,
   "id": "5f820b6f",
   "metadata": {},
   "outputs": [],
   "source": []
  }
 ],
 "metadata": {
  "hide_input": false,
  "kernelspec": {
   "display_name": "Python 3 (ipykernel)",
   "language": "python",
   "name": "python3"
  },
  "language_info": {
   "codemirror_mode": {
    "name": "ipython",
    "version": 3
   },
   "file_extension": ".py",
   "mimetype": "text/x-python",
   "name": "python",
   "nbconvert_exporter": "python",
   "pygments_lexer": "ipython3",
   "version": "3.8.13"
  },
  "varInspector": {
   "cols": {
    "lenName": 16,
    "lenType": 16,
    "lenVar": 40
   },
   "kernels_config": {
    "python": {
     "delete_cmd_postfix": "",
     "delete_cmd_prefix": "del ",
     "library": "var_list.py",
     "varRefreshCmd": "print(var_dic_list())"
    },
    "r": {
     "delete_cmd_postfix": ") ",
     "delete_cmd_prefix": "rm(",
     "library": "var_list.r",
     "varRefreshCmd": "cat(var_dic_list()) "
    }
   },
   "types_to_exclude": [
    "module",
    "function",
    "builtin_function_or_method",
    "instance",
    "_Feature"
   ],
   "window_display": false
  }
 },
 "nbformat": 4,
 "nbformat_minor": 5
}
