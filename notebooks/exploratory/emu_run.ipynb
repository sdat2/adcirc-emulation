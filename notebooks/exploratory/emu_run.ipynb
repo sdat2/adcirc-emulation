{
 "cells": [
  {
   "attachments": {},
   "cell_type": "markdown",
   "id": "eaa2f551",
   "metadata": {},
   "source": [
    "# Emulation running from notebook"
   ]
  },
  {
   "cell_type": "code",
   "execution_count": 1,
   "id": "18f907d5",
   "metadata": {
    "ExecuteTime": {
     "end_time": "2022-09-26T12:18:21.133906Z",
     "start_time": "2022-09-26T12:18:21.117914Z"
    }
   },
   "outputs": [],
   "source": [
    "# Convenient jupyter setup\n",
    "%load_ext autoreload\n",
    "%autoreload 2\n",
    "%config IPCompleter.greedy=True"
   ]
  },
  {
   "cell_type": "markdown",
   "id": "56a89780",
   "metadata": {},
   "source": [
    "## Katrina ADCIRC set-up"
   ]
  },
  {
   "cell_type": "code",
   "execution_count": 2,
   "id": "f6c728c9",
   "metadata": {
    "ExecuteTime": {
     "end_time": "2022-09-26T12:18:22.557391Z",
     "start_time": "2022-09-26T12:18:21.135274Z"
    }
   },
   "outputs": [
    {
     "name": "stderr",
     "output_type": "stream",
     "text": [
      "/Users/simon/new-orleans/env/lib/python3.8/site-packages/xarray/backends/cfgrib_.py:29: UserWarning: Failed to load cfgrib - most likely there is a problem accessing the ecCodes library. Try `import cfgrib` to get the full error message\n",
      "  warnings.warn(\n"
     ]
    }
   ],
   "source": [
    "import matplotlib.pyplot as plt\n",
    "from sithom.plot import plot_defaults\n",
    "\n",
    "plot_defaults()"
   ]
  },
  {
   "cell_type": "code",
   "execution_count": 3,
   "id": "fcfa7e04",
   "metadata": {},
   "outputs": [],
   "source": [
    "# six degrees of freedom search\n",
    "from src.models.emu6d import SixDOFSearch"
   ]
  },
  {
   "cell_type": "code",
   "execution_count": 4,
   "id": "1e1dd2dd",
   "metadata": {},
   "outputs": [],
   "source": [
    "# Two degrees of freedom search [bearing and position]\n",
    "from src.models.emulation import EmulationSmash"
   ]
  },
  {
   "cell_type": "code",
   "execution_count": null,
   "id": "a6592c5c",
   "metadata": {},
   "outputs": [],
   "source": []
  }
 ],
 "metadata": {
  "hide_input": false,
  "kernelspec": {
   "display_name": "Python 3 (ipykernel)",
   "language": "python",
   "name": "python3"
  },
  "language_info": {
   "codemirror_mode": {
    "name": "ipython",
    "version": 3
   },
   "file_extension": ".py",
   "mimetype": "text/x-python",
   "name": "python",
   "nbconvert_exporter": "python",
   "pygments_lexer": "ipython3",
   "version": "3.8.13"
  },
  "varInspector": {
   "cols": {
    "lenName": 16,
    "lenType": 16,
    "lenVar": 40
   },
   "kernels_config": {
    "python": {
     "delete_cmd_postfix": "",
     "delete_cmd_prefix": "del ",
     "library": "var_list.py",
     "varRefreshCmd": "print(var_dic_list())"
    },
    "r": {
     "delete_cmd_postfix": ") ",
     "delete_cmd_prefix": "rm(",
     "library": "var_list.r",
     "varRefreshCmd": "cat(var_dic_list()) "
    }
   },
   "types_to_exclude": [
    "module",
    "function",
    "builtin_function_or_method",
    "instance",
    "_Feature"
   ],
   "window_display": false
  },
  "vscode": {
   "interpreter": {
    "hash": "74472437f9cf316878ea386fa8cd27d7d4c4f4024404bdc6d6f0090234edee66"
   }
  }
 },
 "nbformat": 4,
 "nbformat_minor": 5
}
