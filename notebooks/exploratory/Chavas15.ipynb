{
 "cells": [
  {
   "cell_type": "markdown",
   "id": "ea0b278c",
   "metadata": {},
   "source": [
    "# Chavas 2015 profile paper\n",
    "\n",
    "```bibtex\n",
    "@article{chavas2015model,\n",
    "  title={A model for the complete radial structure of the tropical cyclone wind field. Part I: Comparison with observed structure},\n",
    "  author={Chavas, Daniel R and Lin, Ning and Emanuel, Kerry},\n",
    "  journal={Journal of the Atmospheric Sciences},\n",
    "  volume={72},\n",
    "  number={9},\n",
    "  pages={3647--3662},\n",
    "  year={2015}\n",
    "}\n",
    "```"
   ]
  },
  {
   "cell_type": "code",
   "execution_count": 1,
   "id": "0f678af7",
   "metadata": {
    "ExecuteTime": {
     "end_time": "2023-02-15T13:51:51.472410Z",
     "start_time": "2023-02-15T13:51:51.423058Z"
    }
   },
   "outputs": [],
   "source": [
    "# Convenient jupyter setup\n",
    "%load_ext autoreload\n",
    "%autoreload 2\n",
    "%config IPCompleter.greedy=True"
   ]
  },
  {
   "cell_type": "code",
   "execution_count": 3,
   "id": "d30415a1",
   "metadata": {
    "ExecuteTime": {
     "end_time": "2023-02-15T13:52:23.870922Z",
     "start_time": "2023-02-15T13:52:23.801154Z"
    }
   },
   "outputs": [],
   "source": [
    "from sithom.plot import plot_defaults, label_subplots\n",
    "\n",
    "plot_defaults()"
   ]
  },
  {
   "cell_type": "code",
   "execution_count": 4,
   "id": "62353662",
   "metadata": {
    "ExecuteTime": {
     "end_time": "2023-02-15T13:52:41.564905Z",
     "start_time": "2023-02-15T13:52:41.512737Z"
    }
   },
   "outputs": [],
   "source": [
    "import matplotlib.pyplot as plt"
   ]
  },
  {
   "cell_type": "code",
   "execution_count": 5,
   "id": "93469b2b",
   "metadata": {
    "ExecuteTime": {
     "end_time": "2023-02-15T13:56:39.871132Z",
     "start_time": "2023-02-15T13:56:39.769940Z"
    }
   },
   "outputs": [],
   "source": [
    "def angular_momentum(radius, azimuthal_wind, coriolis_param):\n",
    "    return radius * azimuthal_wind + 0.5 * coriolis_param * radius**2"
   ]
  },
  {
   "cell_type": "code",
   "execution_count": 9,
   "id": "04d2d898",
   "metadata": {
    "ExecuteTime": {
     "end_time": "2023-02-15T14:00:43.712794Z",
     "start_time": "2023-02-15T14:00:43.647099Z"
    }
   },
   "outputs": [],
   "source": [
    "def outer_am_gradient_e04(radius, outer_radius, azimuthal_wind, chi):\n",
    "    return chi * (radius * azimuthal_wind) ** 2 / (outer_radius**2 - radius**2)"
   ]
  },
  {
   "cell_type": "code",
   "execution_count": 8,
   "id": "75f01b14",
   "metadata": {
    "ExecuteTime": {
     "end_time": "2023-02-15T14:00:42.355367Z",
     "start_time": "2023-02-15T14:00:42.307777Z"
    }
   },
   "outputs": [],
   "source": [
    "def chi_f(drag_param, w_cool):\n",
    "    return 2 * drag_param / w_cool"
   ]
  },
  {
   "cell_type": "code",
   "execution_count": null,
   "id": "1047cf85",
   "metadata": {},
   "outputs": [],
   "source": [
    "def "
   ]
  },
  {
   "cell_type": "code",
   "execution_count": 10,
   "id": "b3299d6c",
   "metadata": {
    "ExecuteTime": {
     "end_time": "2023-02-15T19:58:04.779941Z",
     "start_time": "2023-02-15T19:58:04.676017Z"
    }
   },
   "outputs": [],
   "source": [
    "def drag_param_f(azimuthal_velocity):\n",
    "    if azimuthal_velocity < 6:\n",
    "        return 6.16e-4\n",
    "    elif azimuthal_velocity < 35.4:\n",
    "        return 5.91e-5 * azimuthal_velocity + 2.614e-4\n",
    "    else:\n",
    "        return 2.4e-3"
   ]
  },
  {
   "cell_type": "code",
   "execution_count": null,
   "id": "048fb094",
   "metadata": {},
   "outputs": [],
   "source": []
  }
 ],
 "metadata": {
  "hide_input": false,
  "kernelspec": {
   "display_name": "Python 3 (ipykernel)",
   "language": "python",
   "name": "python3"
  },
  "language_info": {
   "codemirror_mode": {
    "name": "ipython",
    "version": 3
   },
   "file_extension": ".py",
   "mimetype": "text/x-python",
   "name": "python",
   "nbconvert_exporter": "python",
   "pygments_lexer": "ipython3",
   "version": "3.8.13"
  },
  "varInspector": {
   "cols": {
    "lenName": 16,
    "lenType": 16,
    "lenVar": 40
   },
   "kernels_config": {
    "python": {
     "delete_cmd_postfix": "",
     "delete_cmd_prefix": "del ",
     "library": "var_list.py",
     "varRefreshCmd": "print(var_dic_list())"
    },
    "r": {
     "delete_cmd_postfix": ") ",
     "delete_cmd_prefix": "rm(",
     "library": "var_list.r",
     "varRefreshCmd": "cat(var_dic_list()) "
    }
   },
   "types_to_exclude": [
    "module",
    "function",
    "builtin_function_or_method",
    "instance",
    "_Feature"
   ],
   "window_display": false
  }
 },
 "nbformat": 4,
 "nbformat_minor": 5
}
