{
 "cells": [
  {
   "cell_type": "markdown",
   "id": "5217d6e3",
   "metadata": {},
   "source": [
    "# Hurricane Distribution"
   ]
  },
  {
   "cell_type": "code",
   "execution_count": 1,
   "id": "4c079994",
   "metadata": {
    "ExecuteTime": {
     "end_time": "2022-09-29T21:13:40.820224Z",
     "start_time": "2022-09-29T21:13:40.799005Z"
    }
   },
   "outputs": [],
   "source": [
    "# Convenient jupyter setup\n",
    "%load_ext autoreload\n",
    "%autoreload 2\n",
    "%config IPCompleter.greedy=True"
   ]
  },
  {
   "cell_type": "code",
   "execution_count": 2,
   "id": "e46360f9",
   "metadata": {
    "ExecuteTime": {
     "end_time": "2022-09-29T21:13:42.492714Z",
     "start_time": "2022-09-29T21:13:40.821421Z"
    }
   },
   "outputs": [
    {
     "name": "stderr",
     "output_type": "stream",
     "text": [
      "/Users/simon/new-orleans/env/lib/python3.8/site-packages/xarray/backends/cfgrib_.py:29: UserWarning: Failed to load cfgrib - most likely there is a problem accessing the ecCodes library. Try `import cfgrib` to get the full error message\n",
      "  warnings.warn(\n"
     ]
    }
   ],
   "source": [
    "import numpy as np\n",
    "import xarray as xr\n",
    "from sithom.plot import plot_defaults\n",
    "from sithom.xr import plot_units\n",
    "from src.constants import IBTRACS_NC\n",
    "\n",
    "plot_defaults()"
   ]
  },
  {
   "cell_type": "code",
   "execution_count": 3,
   "id": "f176525a",
   "metadata": {
    "ExecuteTime": {
     "end_time": "2022-09-29T21:13:42.514751Z",
     "start_time": "2022-09-29T21:13:42.494975Z"
    }
   },
   "outputs": [],
   "source": [
    "from src.data_loading.ibtracs import gom_tcs"
   ]
  },
  {
   "cell_type": "code",
   "execution_count": 4,
   "id": "d64ae834",
   "metadata": {
    "ExecuteTime": {
     "end_time": "2022-09-29T21:13:47.648785Z",
     "start_time": "2022-09-29T21:13:42.517137Z"
    }
   },
   "outputs": [
    {
     "name": "stderr",
     "output_type": "stream",
     "text": [
      "/Users/simon/new-orleans/env/lib/python3.8/site-packages/xarray/backends/plugins.py:64: RuntimeWarning: Engine 'cfgrib' loading failed:\n",
      "Cannot find the ecCodes library\n",
      "  warnings.warn(f\"Engine {name!r} loading failed:\\n{ex}\", RuntimeWarning)\n"
     ]
    }
   ],
   "source": [
    "gtcs = gom_tcs()"
   ]
  },
  {
   "cell_type": "code",
   "execution_count": 5,
   "id": "e7a04543",
   "metadata": {
    "ExecuteTime": {
     "end_time": "2022-09-29T21:13:47.679291Z",
     "start_time": "2022-09-29T21:13:47.650751Z"
    }
   },
   "outputs": [],
   "source": [
    "var_list = [\"storm_speed\", \"storm_dir\", \"usa_pres\", \"usa_rmw\", \"usa_wind\", \"usa_sshs\"]"
   ]
  },
  {
   "cell_type": "code",
   "execution_count": 6,
   "id": "9971df31",
   "metadata": {
    "ExecuteTime": {
     "end_time": "2022-09-29T21:13:47.737686Z",
     "start_time": "2022-09-29T21:13:47.680510Z"
    }
   },
   "outputs": [],
   "source": [
    "from sithom.plot import label_subplots, set_dim\n",
    "\n",
    "?set_dim"
   ]
  },
  {
   "cell_type": "code",
   "execution_count": 7,
   "id": "cca3d993",
   "metadata": {
    "ExecuteTime": {
     "end_time": "2022-09-29T21:13:47.760594Z",
     "start_time": "2022-09-29T21:13:47.740100Z"
    }
   },
   "outputs": [
    {
     "name": "stdout",
     "output_type": "stream",
     "text": [
      "Object `plt.subplots` not found.\n"
     ]
    }
   ],
   "source": [
    "?plt.subplots"
   ]
  },
  {
   "cell_type": "code",
   "execution_count": 8,
   "id": "dd203d56",
   "metadata": {
    "ExecuteTime": {
     "end_time": "2022-09-29T21:13:48.073695Z",
     "start_time": "2022-09-29T21:13:47.765768Z"
    }
   },
   "outputs": [
    {
     "ename": "NameError",
     "evalue": "name 'individual_dist' is not defined",
     "output_type": "error",
     "traceback": [
      "\u001b[0;31m---------------------------------------------------------------------------\u001b[0m",
      "\u001b[0;31mNameError\u001b[0m                                 Traceback (most recent call last)",
      "Input \u001b[0;32mIn [8]\u001b[0m, in \u001b[0;36m<cell line: 1>\u001b[0;34m()\u001b[0m\n\u001b[0;32m----> 1\u001b[0m \u001b[43mindividual_dist\u001b[49m(gtcs, \u001b[38;5;124m\"\u001b[39m\u001b[38;5;124musa_sshs\u001b[39m\u001b[38;5;124m\"\u001b[39m)\n",
      "\u001b[0;31mNameError\u001b[0m: name 'individual_dist' is not defined"
     ]
    }
   ],
   "source": [
    "individual_dist(gtcs, \"usa_sshs\")"
   ]
  },
  {
   "cell_type": "code",
   "execution_count": null,
   "id": "f46a2c8f",
   "metadata": {
    "ExecuteTime": {
     "end_time": "2022-09-29T21:13:48.090405Z",
     "start_time": "2022-09-29T21:13:48.090397Z"
    }
   },
   "outputs": [],
   "source": [
    "individual_dist(gtcs, \"storm_dir\")"
   ]
  },
  {
   "cell_type": "code",
   "execution_count": null,
   "id": "ba89d898",
   "metadata": {
    "ExecuteTime": {
     "end_time": "2022-09-29T21:13:48.091325Z",
     "start_time": "2022-09-29T21:13:48.091317Z"
    }
   },
   "outputs": [],
   "source": [
    "for var in var_list:\n",
    "    individual_dist(gtcs, var)"
   ]
  },
  {
   "cell_type": "code",
   "execution_count": null,
   "id": "853f2326",
   "metadata": {
    "ExecuteTime": {
     "end_time": "2022-09-29T21:13:48.092332Z",
     "start_time": "2022-09-29T21:13:48.092325Z"
    }
   },
   "outputs": [],
   "source": [
    "?plt.hist"
   ]
  },
  {
   "cell_type": "code",
   "execution_count": null,
   "id": "6c6a12e4",
   "metadata": {
    "ExecuteTime": {
     "end_time": "2022-09-29T21:13:48.093217Z",
     "start_time": "2022-09-29T21:13:48.093207Z"
    }
   },
   "outputs": [],
   "source": [
    "gtcs"
   ]
  },
  {
   "cell_type": "code",
   "execution_count": null,
   "id": "e6ef3c76",
   "metadata": {
    "ExecuteTime": {
     "end_time": "2022-09-29T21:13:48.094369Z",
     "start_time": "2022-09-29T21:13:48.094361Z"
    }
   },
   "outputs": [],
   "source": [
    "dist = landing_distribution(gtcs, var=\"usa_pres\")"
   ]
  },
  {
   "cell_type": "code",
   "execution_count": null,
   "id": "2d12dea6",
   "metadata": {
    "ExecuteTime": {
     "end_time": "2022-09-29T21:13:48.095558Z",
     "start_time": "2022-09-29T21:13:48.095549Z"
    }
   },
   "outputs": [],
   "source": [
    "dist"
   ]
  },
  {
   "cell_type": "code",
   "execution_count": null,
   "id": "ca438ddd",
   "metadata": {
    "ExecuteTime": {
     "end_time": "2022-09-29T21:13:48.096904Z",
     "start_time": "2022-09-29T21:13:48.096891Z"
    }
   },
   "outputs": [],
   "source": [
    "import matplotlib.pyplot as plt\n",
    "\n",
    "plt.hist(dist)\n",
    "plt.ylabel(\"Number of landings\")\n",
    "plt.xlabel(\"Pressure [mb]\")"
   ]
  },
  {
   "cell_type": "code",
   "execution_count": null,
   "id": "05f0fa7e",
   "metadata": {
    "ExecuteTime": {
     "end_time": "2022-09-29T21:13:48.098040Z",
     "start_time": "2022-09-29T21:13:48.098032Z"
    }
   },
   "outputs": [],
   "source": [
    "from src.data_loading.ibtracs import (\n",
    "    katrina,\n",
    "    landing_distribution,\n",
    "    holland_b_landing_distribution,\n",
    ")\n",
    "from src.preprocessing.sel import mid_katrina"
   ]
  },
  {
   "cell_type": "code",
   "execution_count": null,
   "id": "e04a5281",
   "metadata": {
    "ExecuteTime": {
     "end_time": "2022-09-29T21:13:48.098779Z",
     "start_time": "2022-09-29T21:13:48.098771Z"
    }
   },
   "outputs": [],
   "source": [
    "landing_distribution(katrina())"
   ]
  },
  {
   "cell_type": "code",
   "execution_count": null,
   "id": "2fba1942",
   "metadata": {
    "ExecuteTime": {
     "end_time": "2022-09-29T21:13:48.099560Z",
     "start_time": "2022-09-29T21:13:48.099552Z"
    }
   },
   "outputs": [],
   "source": [
    "holland_b_landing_distribution(katrina()).tolist()"
   ]
  },
  {
   "cell_type": "code",
   "execution_count": null,
   "id": "18282b86",
   "metadata": {
    "ExecuteTime": {
     "end_time": "2022-09-29T21:13:48.100465Z",
     "start_time": "2022-09-29T21:13:48.100456Z"
    }
   },
   "outputs": [],
   "source": [
    "kat_ds = katrina()"
   ]
  },
  {
   "cell_type": "code",
   "execution_count": null,
   "id": "6a9218ac",
   "metadata": {
    "ExecuteTime": {
     "end_time": "2022-09-29T21:13:48.101582Z",
     "start_time": "2022-09-29T21:13:48.101574Z"
    }
   },
   "outputs": [],
   "source": [
    "kat_ds"
   ]
  },
  {
   "cell_type": "code",
   "execution_count": null,
   "id": "e99be457",
   "metadata": {
    "ExecuteTime": {
     "end_time": "2022-09-29T21:13:48.102566Z",
     "start_time": "2022-09-29T21:13:48.102558Z"
    }
   },
   "outputs": [],
   "source": [
    "kat_ds.storm"
   ]
  },
  {
   "cell_type": "code",
   "execution_count": null,
   "id": "d385b953",
   "metadata": {
    "ExecuteTime": {
     "end_time": "2022-09-29T21:13:48.103362Z",
     "start_time": "2022-09-29T21:13:48.103355Z"
    }
   },
   "outputs": [],
   "source": [
    "dist = holland_b_landing_distribution(gtcs)\n",
    "plt.hist(dist)\n",
    "plt.ylabel(\"Number of landings\")\n",
    "plt.xlabel(\"Holland B parameter\")"
   ]
  },
  {
   "cell_type": "code",
   "execution_count": null,
   "id": "7af916b5",
   "metadata": {
    "ExecuteTime": {
     "end_time": "2022-09-29T21:13:48.104671Z",
     "start_time": "2022-09-29T21:13:48.104663Z"
    }
   },
   "outputs": [],
   "source": [
    "plt.hist(np.array(dist)[np.array(dist) < 800])\n",
    "plt.ylabel(\"Number of landings\")\n",
    "plt.xlabel(\"Holland B parameter\")"
   ]
  },
  {
   "cell_type": "code",
   "execution_count": null,
   "id": "c656fadb",
   "metadata": {
    "ExecuteTime": {
     "end_time": "2022-09-29T21:13:48.105837Z",
     "start_time": "2022-09-29T21:13:48.105829Z"
    }
   },
   "outputs": [],
   "source": [
    "holland_b_landing_distribution(kat_ds)"
   ]
  },
  {
   "cell_type": "code",
   "execution_count": null,
   "id": "61dbb78a",
   "metadata": {
    "ExecuteTime": {
     "end_time": "2022-09-29T21:13:48.107116Z",
     "start_time": "2022-09-29T21:13:48.107107Z"
    }
   },
   "outputs": [],
   "source": [
    "kat_landings_ds = kat_ds.isel(\n",
    "    date_time=kat_ds[\"date_time\"][(kat_ds[\"usa_record\"].values == b\"L\").ravel()]\n",
    ")"
   ]
  },
  {
   "cell_type": "code",
   "execution_count": null,
   "id": "8f326f19",
   "metadata": {
    "ExecuteTime": {
     "end_time": "2022-09-29T21:13:48.107857Z",
     "start_time": "2022-09-29T21:13:48.107850Z"
    }
   },
   "outputs": [],
   "source": [
    "kat_landings_ds"
   ]
  },
  {
   "cell_type": "code",
   "execution_count": null,
   "id": "6a82e82b",
   "metadata": {
    "ExecuteTime": {
     "end_time": "2022-09-29T21:13:48.108804Z",
     "start_time": "2022-09-29T21:13:48.108795Z"
    }
   },
   "outputs": [],
   "source": [
    "mid_katrina(katrina())"
   ]
  },
  {
   "cell_type": "code",
   "execution_count": null,
   "id": "e2ee6d5e",
   "metadata": {
    "ExecuteTime": {
     "end_time": "2022-09-29T21:13:48.109608Z",
     "start_time": "2022-09-29T21:13:48.109600Z"
    }
   },
   "outputs": [],
   "source": [
    "gtcs"
   ]
  },
  {
   "cell_type": "code",
   "execution_count": null,
   "id": "a8170f85",
   "metadata": {
    "ExecuteTime": {
     "end_time": "2022-09-29T21:13:48.111981Z",
     "start_time": "2022-09-29T21:13:48.111974Z"
    }
   },
   "outputs": [],
   "source": [
    "gtcs"
   ]
  },
  {
   "cell_type": "code",
   "execution_count": null,
   "id": "c2fbaf18",
   "metadata": {
    "ExecuteTime": {
     "end_time": "2022-09-29T21:13:48.112788Z",
     "start_time": "2022-09-29T21:13:48.112780Z"
    }
   },
   "outputs": [],
   "source": [
    "import matplotlib.pyplot as plt"
   ]
  },
  {
   "cell_type": "code",
   "execution_count": null,
   "id": "3ff2aea1",
   "metadata": {
    "ExecuteTime": {
     "end_time": "2022-09-29T21:13:48.113624Z",
     "start_time": "2022-09-29T21:13:48.113617Z"
    }
   },
   "outputs": [],
   "source": [
    "plt.hist(gtcs.usa_wind.values.ravel())\n",
    "plt.xlabel(\"Maximum wind speed at point in time [knts]\")\n",
    "plt.ylabel(\"Occurance\")"
   ]
  },
  {
   "cell_type": "code",
   "execution_count": null,
   "id": "a2e579df",
   "metadata": {
    "ExecuteTime": {
     "end_time": "2022-09-29T21:13:48.114655Z",
     "start_time": "2022-09-29T21:13:48.114643Z"
    }
   },
   "outputs": [],
   "source": [
    "gtcs.usa_wind.values.shape"
   ]
  },
  {
   "cell_type": "code",
   "execution_count": null,
   "id": "a836c130",
   "metadata": {
    "ExecuteTime": {
     "end_time": "2022-09-29T21:13:48.115731Z",
     "start_time": "2022-09-29T21:13:48.115723Z"
    }
   },
   "outputs": [],
   "source": [
    "import numpy as np\n",
    "\n",
    "plt.hist(np.nanmax(gtcs.usa_wind.values, axis=1))\n",
    "plt.xlabel(\"Maximum wind speed over each track [m s$^{-1}$]\")\n",
    "plt.ylabel(\"Occurance\")"
   ]
  },
  {
   "cell_type": "code",
   "execution_count": null,
   "id": "5245a518",
   "metadata": {
    "ExecuteTime": {
     "end_time": "2022-09-29T21:13:48.116673Z",
     "start_time": "2022-09-29T21:13:48.116666Z"
    }
   },
   "outputs": [],
   "source": [
    "import numpy as np\n",
    "\n",
    "plt.hist(np.nanmax(gtcs.usa_wind.values, axis=1))\n",
    "plt.xlabel(\"Maximum wind speed over each track [knts]\")\n",
    "plt.ylabel(\"Occurance\")"
   ]
  },
  {
   "cell_type": "code",
   "execution_count": null,
   "id": "8ef0bae7",
   "metadata": {
    "ExecuteTime": {
     "end_time": "2022-09-29T21:13:48.117533Z",
     "start_time": "2022-09-29T21:13:48.117525Z"
    }
   },
   "outputs": [],
   "source": [
    "import numpy as np\n",
    "\n",
    "plt.hist(np.nanmin(gtcs.usa_pres.values, axis=1))\n",
    "plt.xlabel(\"Minimum central pressure over each track [mb]\")\n",
    "plt.ylabel(\"Occurance\")"
   ]
  },
  {
   "cell_type": "code",
   "execution_count": null,
   "id": "77d4ebdc",
   "metadata": {
    "ExecuteTime": {
     "end_time": "2022-09-29T21:13:48.118706Z",
     "start_time": "2022-09-29T21:13:48.118699Z"
    }
   },
   "outputs": [],
   "source": [
    "plt.hist(np.nanmax(gtcs.usa_sshs.values, axis=1))\n",
    "plt.xlabel(\"Maximum SSHS classification over each track [mb]\")\n",
    "plt.ylabel(\"Occurance\")"
   ]
  },
  {
   "cell_type": "code",
   "execution_count": null,
   "id": "52cc31f5",
   "metadata": {
    "ExecuteTime": {
     "end_time": "2022-09-29T21:13:48.119637Z",
     "start_time": "2022-09-29T21:13:48.119630Z"
    }
   },
   "outputs": [],
   "source": [
    "plt.scatter(\n",
    "    np.nanmin(gtcs.usa_pres.values, axis=1),\n",
    "    np.nanmax(gtcs.usa_wind.values, axis=1),\n",
    "    c=np.nanmax(gtcs.usa_sshs.values, axis=1),\n",
    ")\n",
    "plt.colorbar(label=\"Maximum SSHS classification over track\")\n",
    "plt.ylabel(\"Maximum Wind Speed over track [kts]\")\n",
    "plt.xlabel(\"Minimum Central Pressure over track [mb]\")"
   ]
  },
  {
   "cell_type": "code",
   "execution_count": null,
   "id": "6d6b54b9",
   "metadata": {
    "ExecuteTime": {
     "end_time": "2022-09-29T21:13:48.120517Z",
     "start_time": "2022-09-29T21:13:48.120509Z"
    }
   },
   "outputs": [],
   "source": [
    "np.nanmax(gtcs.usa_sshs.values, axis=1).shape"
   ]
  },
  {
   "cell_type": "code",
   "execution_count": null,
   "id": "1c369201",
   "metadata": {
    "ExecuteTime": {
     "end_time": "2022-09-29T21:13:48.121451Z",
     "start_time": "2022-09-29T21:13:48.121442Z"
    }
   },
   "outputs": [],
   "source": [
    "output = plt.hist(gtcs.storm_dir.values.ravel())"
   ]
  },
  {
   "cell_type": "code",
   "execution_count": null,
   "id": "7e00da93",
   "metadata": {
    "ExecuteTime": {
     "end_time": "2022-09-29T21:13:48.122364Z",
     "start_time": "2022-09-29T21:13:48.122356Z"
    }
   },
   "outputs": [],
   "source": [
    "output = plt.hist(gtcs.storm_dir.values.ravel())\n",
    "plt.clf()\n",
    "points = output[0]\n",
    "rads = output[1] / 2 / np.pi"
   ]
  },
  {
   "cell_type": "code",
   "execution_count": null,
   "id": "fec45c0b",
   "metadata": {
    "ExecuteTime": {
     "end_time": "2022-09-29T21:13:48.123447Z",
     "start_time": "2022-09-29T21:13:48.123439Z"
    }
   },
   "outputs": [],
   "source": [
    "import numpy as np\n",
    "import matplotlib.pyplot as plt\n",
    "\n",
    "output = plt.hist(gtcs.storm_dir.values.ravel())\n",
    "points = output[0]\n",
    "rads = output[1] / 360 * 2 * np.pi\n",
    "plt.clf()\n",
    "ax = plt.subplot(projection=\"polar\")\n",
    "ax.bar(\n",
    "    rads[1:],\n",
    "    points,\n",
    "    width=2 * np.pi / len(points),\n",
    "    bottom=0.0,\n",
    "    alpha=0.5,\n",
    "    edgecolor=\"black\",\n",
    ")\n",
    "ax.set_theta_zero_location(\"N\")\n",
    "ax.set_theta_direction(-1)\n",
    "plt.show()"
   ]
  },
  {
   "cell_type": "code",
   "execution_count": null,
   "id": "c270bba3",
   "metadata": {
    "ExecuteTime": {
     "end_time": "2022-09-29T21:13:48.124465Z",
     "start_time": "2022-09-29T21:13:48.124454Z"
    }
   },
   "outputs": [],
   "source": [
    "rads.shape"
   ]
  },
  {
   "cell_type": "code",
   "execution_count": null,
   "id": "2b2d003c",
   "metadata": {
    "ExecuteTime": {
     "end_time": "2022-09-29T21:13:48.125452Z",
     "start_time": "2022-09-29T21:13:48.125445Z"
    }
   },
   "outputs": [],
   "source": [
    "points.shape"
   ]
  },
  {
   "cell_type": "code",
   "execution_count": null,
   "id": "9658225c",
   "metadata": {
    "ExecuteTime": {
     "end_time": "2022-09-29T21:13:48.126619Z",
     "start_time": "2022-09-29T21:13:48.126611Z"
    }
   },
   "outputs": [],
   "source": [
    "points"
   ]
  },
  {
   "cell_type": "code",
   "execution_count": null,
   "id": "4c10d99b",
   "metadata": {
    "ExecuteTime": {
     "end_time": "2022-09-29T21:13:48.127529Z",
     "start_time": "2022-09-29T21:13:48.127520Z"
    }
   },
   "outputs": [],
   "source": [
    "gtcs"
   ]
  },
  {
   "cell_type": "code",
   "execution_count": null,
   "id": "cd322ac1",
   "metadata": {
    "ExecuteTime": {
     "end_time": "2022-09-29T21:13:48.128606Z",
     "start_time": "2022-09-29T21:13:48.128598Z"
    }
   },
   "outputs": [],
   "source": [
    "plt.scatter(\n",
    "    np.nanmin(gtcs.cma_pres.values, axis=1),\n",
    "    np.nanmax(gtcs.cma_wind.values, axis=1),\n",
    "    c=np.nanmax(gtcs.cma_cat.values, axis=1),\n",
    ")\n",
    "plt.colorbar(label=\"Dvorak Intensity\")\n",
    "plt.ylabel(\"Maximum Wind Speed over track [kts]\")\n",
    "plt.xlabel(\"Minimum Central Pressure over track [mb]\")"
   ]
  },
  {
   "cell_type": "code",
   "execution_count": null,
   "id": "ab6364ee",
   "metadata": {
    "ExecuteTime": {
     "end_time": "2022-09-29T21:13:48.129724Z",
     "start_time": "2022-09-29T21:13:48.129717Z"
    }
   },
   "outputs": [],
   "source": [
    "from src.data_loading.ibtracs import no_tcs"
   ]
  },
  {
   "cell_type": "code",
   "execution_count": null,
   "id": "bbaf8b8a",
   "metadata": {
    "ExecuteTime": {
     "end_time": "2022-09-29T21:13:48.130763Z",
     "start_time": "2022-09-29T21:13:48.130755Z"
    }
   },
   "outputs": [],
   "source": [
    "ntcs = no_tcs()"
   ]
  },
  {
   "cell_type": "code",
   "execution_count": null,
   "id": "4ae50cd2",
   "metadata": {
    "ExecuteTime": {
     "end_time": "2022-09-29T21:13:48.131939Z",
     "start_time": "2022-09-29T21:13:48.131930Z"
    }
   },
   "outputs": [],
   "source": [
    "ntcs"
   ]
  },
  {
   "cell_type": "code",
   "execution_count": null,
   "id": "3f7b1eda",
   "metadata": {
    "ExecuteTime": {
     "end_time": "2022-09-29T21:13:48.133061Z",
     "start_time": "2022-09-29T21:13:48.133053Z"
    }
   },
   "outputs": [],
   "source": [
    "from src.plot.ibtracs import plot_multiple_storms\n",
    "import matplotlib.pyplot as plt\n",
    "from src.constants import NO_BBOX"
   ]
  },
  {
   "cell_type": "code",
   "execution_count": null,
   "id": "359be30e",
   "metadata": {
    "ExecuteTime": {
     "end_time": "2022-09-29T21:13:48.134341Z",
     "start_time": "2022-09-29T21:13:48.134326Z"
    }
   },
   "outputs": [],
   "source": [
    "plot_multiple_storms(ntcs, scatter_size=9, bbox=NO_BBOX)"
   ]
  },
  {
   "cell_type": "code",
   "execution_count": null,
   "id": "22e5afd7",
   "metadata": {
    "ExecuteTime": {
     "end_time": "2022-09-29T21:13:48.135334Z",
     "start_time": "2022-09-29T21:13:48.135326Z"
    }
   },
   "outputs": [],
   "source": [
    "plot_multiple_storms(ntcs, scatter_size=9, bbox=NO_BBOX)"
   ]
  },
  {
   "cell_type": "code",
   "execution_count": null,
   "id": "e765fc1b",
   "metadata": {
    "ExecuteTime": {
     "end_time": "2022-09-29T21:13:48.136369Z",
     "start_time": "2022-09-29T21:13:48.136361Z"
    }
   },
   "outputs": [],
   "source": [
    "np.unique(ntcs.name.values)"
   ]
  },
  {
   "cell_type": "code",
   "execution_count": null,
   "id": "9b7ba1ff",
   "metadata": {
    "ExecuteTime": {
     "end_time": "2022-09-29T21:13:48.137617Z",
     "start_time": "2022-09-29T21:13:48.137606Z"
    }
   },
   "outputs": [],
   "source": [
    "from src.data_loading.ibtracs import katrina\n",
    "\n",
    "katrina()"
   ]
  },
  {
   "cell_type": "code",
   "execution_count": null,
   "id": "a2519fcb",
   "metadata": {
    "ExecuteTime": {
     "end_time": "2022-09-29T21:13:48.138588Z",
     "start_time": "2022-09-29T21:13:48.138580Z"
    }
   },
   "outputs": [],
   "source": [
    "ntcs[\"name\"].shape"
   ]
  },
  {
   "cell_type": "code",
   "execution_count": null,
   "id": "3dee0c7d",
   "metadata": {
    "ExecuteTime": {
     "end_time": "2022-09-29T21:13:48.139690Z",
     "start_time": "2022-09-29T21:13:48.139682Z"
    }
   },
   "outputs": [],
   "source": [
    "len(ntcs[\"name\"].values.shape)"
   ]
  },
  {
   "cell_type": "code",
   "execution_count": null,
   "id": "fc746922",
   "metadata": {
    "ExecuteTime": {
     "end_time": "2022-09-29T21:13:48.140668Z",
     "start_time": "2022-09-29T21:13:48.140655Z"
    }
   },
   "outputs": [],
   "source": [
    "[\n",
    "    \"storm_dir\",\n",
    "    \"storm_speed\",\n",
    "    \"nature\",\n",
    "    \"usa_seahgt\",\n",
    "    \"usa_searad\",\n",
    "    \"usa_r34\",\n",
    "    \"usa_r50\",\n",
    "    \"usa_r64\",\n",
    "    \"dist2d\",\n",
    "    \"landfall\",\n",
    "]"
   ]
  },
  {
   "cell_type": "code",
   "execution_count": null,
   "id": "c1f648ca",
   "metadata": {
    "ExecuteTime": {
     "end_time": "2022-09-29T21:13:48.141819Z",
     "start_time": "2022-09-29T21:13:48.141810Z"
    }
   },
   "outputs": [],
   "source": [
    "for var in ntcs:\n",
    "    if \"usa\" in var:\n",
    "        print(var)"
   ]
  },
  {
   "cell_type": "code",
   "execution_count": null,
   "id": "4f34fe73",
   "metadata": {},
   "outputs": [],
   "source": []
  }
 ],
 "metadata": {
  "hide_input": false,
  "kernelspec": {
   "display_name": "Python 3 (ipykernel)",
   "language": "python",
   "name": "python3"
  },
  "language_info": {
   "codemirror_mode": {
    "name": "ipython",
    "version": 3
   },
   "file_extension": ".py",
   "mimetype": "text/x-python",
   "name": "python",
   "nbconvert_exporter": "python",
   "pygments_lexer": "ipython3",
   "version": "3.8.13"
  },
  "varInspector": {
   "cols": {
    "lenName": 16,
    "lenType": 16,
    "lenVar": 40
   },
   "kernels_config": {
    "python": {
     "delete_cmd_postfix": "",
     "delete_cmd_prefix": "del ",
     "library": "var_list.py",
     "varRefreshCmd": "print(var_dic_list())"
    },
    "r": {
     "delete_cmd_postfix": ") ",
     "delete_cmd_prefix": "rm(",
     "library": "var_list.r",
     "varRefreshCmd": "cat(var_dic_list()) "
    }
   },
   "types_to_exclude": [
    "module",
    "function",
    "builtin_function_or_method",
    "instance",
    "_Feature"
   ],
   "window_display": false
  }
 },
 "nbformat": 4,
 "nbformat_minor": 5
}
