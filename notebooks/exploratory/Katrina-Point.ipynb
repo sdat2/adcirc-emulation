{
 "cells": [
  {
   "cell_type": "markdown",
   "id": "529c35cd",
   "metadata": {},
   "source": [
    "# Katrina Point"
   ]
  },
  {
   "cell_type": "code",
   "execution_count": 2,
   "id": "edb923f0",
   "metadata": {
    "ExecuteTime": {
     "end_time": "2022-09-27T14:54:50.940126Z",
     "start_time": "2022-09-27T14:54:50.874549Z"
    }
   },
   "outputs": [],
   "source": [
    "# Convenient jupyter setup\n",
    "%load_ext autoreload\n",
    "%autoreload 2\n",
    "%config IPCompleter.greedy=True"
   ]
  },
  {
   "cell_type": "code",
   "execution_count": 3,
   "id": "a4618a7b",
   "metadata": {
    "ExecuteTime": {
     "end_time": "2022-09-27T14:54:52.266180Z",
     "start_time": "2022-09-27T14:54:52.218807Z"
    }
   },
   "outputs": [],
   "source": [
    "import os\n",
    "import matplotlib.pyplot as plt\n",
    "import adcircpy\n",
    "from adcircpy.outputs import (\n",
    "    Maxele,\n",
    "    MaximumElevationTimes,\n",
    "    Fort63,\n",
    "    Fort61,\n",
    "    Minpr,\n",
    "    Maxwvel,\n",
    "    Maxvel,\n",
    ")\n",
    "from sithom.plot import plot_defaults\n",
    "from src.constants import KAT_EX_PATH, NO_BBOX\n",
    "\n",
    "plot_defaults()"
   ]
  },
  {
   "cell_type": "code",
   "execution_count": 7,
   "id": "09346a65",
   "metadata": {
    "ExecuteTime": {
     "end_time": "2022-09-27T14:57:10.595808Z",
     "start_time": "2022-09-27T14:57:10.309512Z"
    }
   },
   "outputs": [
    {
     "data": {
      "text/plain": [
       "Text(0, 0.5, 'Latitude [$^{\\\\circ}$N]')"
      ]
     },
     "execution_count": 7,
     "metadata": {},
     "output_type": "execute_result"
    },
    {
     "data": {
      "image/png": "[encoded data removed]",
      "text/plain": [
       "<Figure size 826.772x510.973 with 2 Axes>"
      ]
     },
     "metadata": {},
     "output_type": "display_data"
    }
   ],
   "source": [
    "plot_defaults()\n",
    "maxvel = Maxele(os.path.join(KAT_EX_PATH, \"maxele.63.nc\"), crs=\"EPSG:4326\")\n",
    "maxvel.tricontourf(cbar=True, levels=14)\n",
    "NO_BBOX.ax_lim(plt.gca())\n",
    "plt.xlabel(\"Longitude [$^{\\circ}$E]\")\n",
    "plt.ylabel(\"Latitude [$^{\\circ}$N]\")"
   ]
  },
  {
   "cell_type": "code",
   "execution_count": 16,
   "id": "f9afad77",
   "metadata": {
    "ExecuteTime": {
     "end_time": "2022-09-27T14:59:15.264802Z",
     "start_time": "2022-09-27T14:59:15.212468Z"
    }
   },
   "outputs": [
    {
     "name": "stdout",
     "output_type": "stream",
     "text": [
      "(8303,)\n",
      "(14761, 3)\n",
      "(8303,)\n",
      "(8303,)\n"
     ]
    }
   ],
   "source": [
    "print(maxvel.values.shape)\n",
    "print(maxvel.triangles.shape)\n",
    "print(maxvel.x.shape)\n",
    "print(maxvel.y.shape)"
   ]
  },
  {
   "cell_type": "code",
   "execution_count": 19,
   "id": "d93a5424",
   "metadata": {
    "ExecuteTime": {
     "end_time": "2022-09-27T15:02:00.626251Z",
     "start_time": "2022-09-27T15:02:00.572265Z"
    }
   },
   "outputs": [
    {
     "data": {
      "text/plain": [
       "array([-76.36891803, -76.21164881, -64.46373989, ..., -88.82707497,\n",
       "       -88.53849449, -88.6294424 ])"
      ]
     },
     "execution_count": 19,
     "metadata": {},
     "output_type": "execute_result"
    }
   ],
   "source": [
    "maxvel.x"
   ]
  },
  {
   "cell_type": "code",
   "execution_count": 20,
   "id": "86eb84e2",
   "metadata": {
    "ExecuteTime": {
     "end_time": "2022-09-27T15:02:11.648039Z",
     "start_time": "2022-09-27T15:02:11.604878Z"
    }
   },
   "outputs": [
    {
     "data": {
      "text/plain": [
       "[('Latitude', 29.9511, 'degrees_north'), ('Longitude', -90.0715, 'degrees_east'), 'New Orleans Point']"
      ]
     },
     "execution_count": 20,
     "metadata": {},
     "output_type": "execute_result"
    }
   ],
   "source": [
    "from src.constants import NEW_ORLEANS\n",
    "\n",
    "NEW_ORLEANS"
   ]
  },
  {
   "cell_type": "code",
   "execution_count": 17,
   "id": "33386490",
   "metadata": {
    "ExecuteTime": {
     "end_time": "2022-09-27T15:00:20.775154Z",
     "start_time": "2022-09-27T15:00:20.733324Z"
    }
   },
   "outputs": [],
   "source": [
    "from src.constants import NEW_ORLEANS"
   ]
  },
  {
   "cell_type": "code",
   "execution_count": 22,
   "id": "d0773153",
   "metadata": {
    "ExecuteTime": {
     "end_time": "2022-09-27T15:03:33.757826Z",
     "start_time": "2022-09-27T15:03:33.700786Z"
    }
   },
   "outputs": [
    {
     "data": {
      "text/plain": [
       "0.08556117691242639"
      ]
     },
     "execution_count": 22,
     "metadata": {},
     "output_type": "execute_result"
    }
   ],
   "source": [
    "import numpy as np\n",
    "\n",
    "x = maxvel.x - NEW_ORLEANS.lon\n",
    "y = maxvel.y - NEW_ORLEANS.lat\n",
    "min(np.sqrt(x**2 + y**2))"
   ]
  },
  {
   "cell_type": "code",
   "execution_count": 13,
   "id": "edfa62b6",
   "metadata": {
    "ExecuteTime": {
     "end_time": "2022-09-27T14:58:34.652446Z",
     "start_time": "2022-09-27T14:58:34.608310Z"
    }
   },
   "outputs": [
    {
     "data": {
      "text/plain": [
       "['_SurfaceOutput__crs',\n",
       " '_SurfaceOutput__path',\n",
       " '__abstractmethods__',\n",
       " '__class__',\n",
       " '__delattr__',\n",
       " '__dict__',\n",
       " '__dir__',\n",
       " '__doc__',\n",
       " '__eq__',\n",
       " '__format__',\n",
       " '__ge__',\n",
       " '__getattribute__',\n",
       " '__gt__',\n",
       " '__hash__',\n",
       " '__init__',\n",
       " '__init_subclass__',\n",
       " '__le__',\n",
       " '__lt__',\n",
       " '__module__',\n",
       " '__ne__',\n",
       " '__new__',\n",
       " '__reduce__',\n",
       " '__reduce_ex__',\n",
       " '__repr__',\n",
       " '__setattr__',\n",
       " '__sizeof__',\n",
       " '__str__',\n",
       " '__subclasshook__',\n",
       " '__weakref__',\n",
       " '_abc_impl',\n",
       " '_cmap',\n",
       " '_crs',\n",
       " '_filetype',\n",
       " '_is_ascii',\n",
       " '_is_netcdf',\n",
       " '_levels',\n",
       " '_path',\n",
       " '_physical_variable',\n",
       " '_physical_variables',\n",
       " '_ptr',\n",
       " '_values',\n",
       " 'crs',\n",
       " 'export',\n",
       " 'triangles',\n",
       " 'triangulation',\n",
       " 'tricontourf',\n",
       " 'triplot',\n",
       " 'values',\n",
       " 'x',\n",
       " 'y']"
      ]
     },
     "execution_count": 13,
     "metadata": {},
     "output_type": "execute_result"
    }
   ],
   "source": [
    "dir(maxvel)"
   ]
  },
  {
   "cell_type": "code",
   "execution_count": 29,
   "id": "ec7cdfe3",
   "metadata": {
    "ExecuteTime": {
     "end_time": "2022-09-27T15:31:04.477561Z",
     "start_time": "2022-09-27T15:31:04.454564Z"
    }
   },
   "outputs": [
    {
     "name": "stdout",
     "output_type": "stream",
     "text": [
      "3235\n",
      "-90.0593600774 30.0357955564\n",
      "1.3428620301673873\n"
     ]
    }
   ],
   "source": [
    "import numpy as np\n",
    "\n",
    "next_index = np.abs(\n",
    "    np.square(maxvel.x - NEW_ORLEANS.lon) + np.square(maxvel.y - NEW_ORLEANS.lat)\n",
    ").argmin()\n",
    "print(next_index)\n",
    "print(maxvel.x[next_index], maxvel.y[next_index])\n",
    "print(maxvel.values[next_index])"
   ]
  },
  {
   "cell_type": "code",
   "execution_count": 25,
   "id": "a8c6ef6b",
   "metadata": {
    "ExecuteTime": {
     "end_time": "2022-09-27T15:29:45.757590Z",
     "start_time": "2022-09-27T15:29:45.723319Z"
    }
   },
   "outputs": [
    {
     "data": {
      "text/plain": [
       "3235"
      ]
     },
     "execution_count": 25,
     "metadata": {},
     "output_type": "execute_result"
    }
   ],
   "source": [
    "next_index"
   ]
  }
 ],
 "metadata": {
  "hide_input": false,
  "kernelspec": {
   "display_name": "Python 3.8.13 64-bit ('env')",
   "language": "python",
   "name": "python3"
  },
  "language_info": {
   "codemirror_mode": {
    "name": "ipython",
    "version": 3
   },
   "file_extension": ".py",
   "mimetype": "text/x-python",
   "name": "python",
   "nbconvert_exporter": "python",
   "pygments_lexer": "ipython3",
   "version": "3.8.13"
  },
  "varInspector": {
   "cols": {
    "lenName": 16,
    "lenType": 16,
    "lenVar": 40
   },
   "kernels_config": {
    "python": {
     "delete_cmd_postfix": "",
     "delete_cmd_prefix": "del ",
     "library": "var_list.py",
     "varRefreshCmd": "print(var_dic_list())"
    },
    "r": {
     "delete_cmd_postfix": ") ",
     "delete_cmd_prefix": "rm(",
     "library": "var_list.r",
     "varRefreshCmd": "cat(var_dic_list()) "
    }
   },
   "types_to_exclude": [
    "module",
    "function",
    "builtin_function_or_method",
    "instance",
    "_Feature"
   ],
   "window_display": false
  },
  "vscode": {
   "interpreter": {
    "hash": "74472437f9cf316878ea386fa8cd27d7d4c4f4024404bdc6d6f0090234edee66"
   }
  }
 },
 "nbformat": 4,
 "nbformat_minor": 5
}
