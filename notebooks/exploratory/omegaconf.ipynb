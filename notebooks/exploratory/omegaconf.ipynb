{
 "cells": [
  {
   "cell_type": "markdown",
   "id": "9752c79e",
   "metadata": {
    "ExecuteTime": {
     "end_time": "2022-12-01T10:49:32.132560Z",
     "start_time": "2022-12-01T10:49:32.022267Z"
    }
   },
   "source": [
    "# Katrina"
   ]
  },
  {
   "cell_type": "code",
   "execution_count": 14,
   "id": "c86c4813",
   "metadata": {
    "ExecuteTime": {
     "end_time": "2022-12-01T11:43:14.719801Z",
     "start_time": "2022-12-01T11:43:14.656434Z"
    }
   },
   "outputs": [],
   "source": [
    "# Convenient jupyter setup\n",
    "%load_ext autoreload\n",
    "%autoreload 2\n",
    "%config IPCompleter.greedy=True"
   ]
  },
  {
   "cell_type": "code",
   "execution_count": 15,
   "id": "3deaacb4",
   "metadata": {
    "ExecuteTime": {
     "end_time": "2022-12-01T11:43:15.940910Z",
     "start_time": "2022-12-01T11:43:15.907412Z"
    }
   },
   "outputs": [],
   "source": [
    "from omegaconf import OmegaConf"
   ]
  },
  {
   "cell_type": "code",
   "execution_count": 16,
   "id": "d43f96d3",
   "metadata": {
    "ExecuteTime": {
     "end_time": "2022-12-01T11:43:16.250425Z",
     "start_time": "2022-12-01T11:43:16.215683Z"
    }
   },
   "outputs": [],
   "source": [
    "conf = OmegaConf.load('../../src/config/sixd.yaml')"
   ]
  },
  {
   "cell_type": "code",
   "execution_count": 22,
   "id": "a8614472",
   "metadata": {
    "ExecuteTime": {
     "end_time": "2022-12-01T11:43:45.268178Z",
     "start_time": "2022-12-01T11:43:45.248567Z"
    }
   },
   "outputs": [
    {
     "data": {
      "text/plain": [
       "{'angle': {'min': -90.0, 'max': 90.0, 'units': 'degree'}, 'points_east': {'min': -0.6, 'max': 1.2, 'units': 'degrees east'}, 'rmax': {'min': 2000, 'max': 60000, 'units': 'meters'}, 'pc': {'min': 90000, 'max': 98000, 'units': 'Pascal'}, 'xn': {'min': 0.8, 'max': 1.4, 'units': 'Dimensionless'}}"
      ]
     },
     "execution_count": 22,
     "metadata": {},
     "output_type": "execute_result"
    }
   ],
   "source": [
    "conf"
   ]
  },
  {
   "cell_type": "code",
   "execution_count": 17,
   "id": "4c1ec866",
   "metadata": {
    "ExecuteTime": {
     "end_time": "2022-12-01T11:43:16.649403Z",
     "start_time": "2022-12-01T11:43:16.615875Z"
    }
   },
   "outputs": [
    {
     "data": {
      "text/plain": [
       "{'min': 0.8, 'max': 1.4, 'units': 'Dimensionless'}"
      ]
     },
     "execution_count": 17,
     "metadata": {},
     "output_type": "execute_result"
    }
   ],
   "source": [
    "conf.xn"
   ]
  },
  {
   "cell_type": "code",
   "execution_count": 18,
   "id": "3fb32d31",
   "metadata": {
    "ExecuteTime": {
     "end_time": "2022-12-01T11:43:17.075133Z",
     "start_time": "2022-12-01T11:43:17.042877Z"
    }
   },
   "outputs": [
    {
     "data": {
      "text/plain": [
       "{'min': 90000, 'max': 98000, 'units': 'Pascal'}"
      ]
     },
     "execution_count": 18,
     "metadata": {},
     "output_type": "execute_result"
    }
   ],
   "source": [
    "conf.pc"
   ]
  },
  {
   "cell_type": "code",
   "execution_count": 19,
   "id": "864c08ff",
   "metadata": {
    "ExecuteTime": {
     "end_time": "2022-12-01T11:43:17.537871Z",
     "start_time": "2022-12-01T11:43:17.511011Z"
    }
   },
   "outputs": [
    {
     "data": {
      "text/plain": [
       "-90.0"
      ]
     },
     "execution_count": 19,
     "metadata": {},
     "output_type": "execute_result"
    }
   ],
   "source": [
    "conf.angle.min"
   ]
  },
  {
   "cell_type": "code",
   "execution_count": 20,
   "id": "174f8ebf",
   "metadata": {
    "ExecuteTime": {
     "end_time": "2022-12-01T11:43:18.046017Z",
     "start_time": "2022-12-01T11:43:18.013529Z"
    }
   },
   "outputs": [],
   "source": [
    "kat = OmegaConf.load('../../src/config/katrina.yaml')"
   ]
  },
  {
   "cell_type": "code",
   "execution_count": 21,
   "id": "ef7ed789",
   "metadata": {
    "ExecuteTime": {
     "end_time": "2022-12-01T11:43:18.858436Z",
     "start_time": "2022-12-01T11:43:18.830122Z"
    }
   },
   "outputs": [
    {
     "data": {
      "text/plain": [
       "{'angle': {'nominal': 0.0, 'units': 'degrees'}, 'speed': {'nominal': 7.71, 'units': 'm s**-1'}, 'point_east': {'nominal': 0.6, 'units': 'degrees_East'}, 'rmax': {'nominal': 40744.0, 'units': 'meters'}, 'pc': {'nominal': 92800.0, 'units': 'Pa'}, 'vmax': {'nominal': 54.01667, 'units': 'm s**-1'}, 'xn': {'nominal': 1.1249, 'units': 'dimensionless'}}"
      ]
     },
     "execution_count": 21,
     "metadata": {},
     "output_type": "execute_result"
    }
   ],
   "source": [
    "kat"
   ]
  },
  {
   "cell_type": "code",
   "execution_count": null,
   "id": "13e789c1",
   "metadata": {},
   "outputs": [],
   "source": []
  }
 ],
 "metadata": {
  "hide_input": false,
  "kernelspec": {
   "display_name": "Python 3 (ipykernel)",
   "language": "python",
   "name": "python3"
  },
  "language_info": {
   "codemirror_mode": {
    "name": "ipython",
    "version": 3
   },
   "file_extension": ".py",
   "mimetype": "text/x-python",
   "name": "python",
   "nbconvert_exporter": "python",
   "pygments_lexer": "ipython3",
   "version": "3.8.13"
  },
  "varInspector": {
   "cols": {
    "lenName": 16,
    "lenType": 16,
    "lenVar": 40
   },
   "kernels_config": {
    "python": {
     "delete_cmd_postfix": "",
     "delete_cmd_prefix": "del ",
     "library": "var_list.py",
     "varRefreshCmd": "print(var_dic_list())"
    },
    "r": {
     "delete_cmd_postfix": ") ",
     "delete_cmd_prefix": "rm(",
     "library": "var_list.r",
     "varRefreshCmd": "cat(var_dic_list()) "
    }
   },
   "types_to_exclude": [
    "module",
    "function",
    "builtin_function_or_method",
    "instance",
    "_Feature"
   ],
   "window_display": false
  }
 },
 "nbformat": 4,
 "nbformat_minor": 5
}
