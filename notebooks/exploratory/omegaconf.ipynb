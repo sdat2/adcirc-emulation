{
 "cells": [
  {
   "cell_type": "markdown",
   "id": "eade56a4",
   "metadata": {
    "ExecuteTime": {
     "end_time": "2022-12-01T10:49:32.132560Z",
     "start_time": "2022-12-01T10:49:32.022267Z"
    }
   },
   "source": [
    "# Katrina"
   ]
  },
  {
   "cell_type": "code",
   "execution_count": 14,
   "id": "a293bff9",
   "metadata": {
    "ExecuteTime": {
     "end_time": "2022-12-01T11:43:14.719801Z",
     "start_time": "2022-12-01T11:43:14.656434Z"
    }
   },
   "outputs": [],
   "source": [
    "# Convenient jupyter setup\n",
    "%load_ext autoreload\n",
    "%autoreload 2\n",
    "%config IPCompleter.greedy=True"
   ]
  },
  {
   "cell_type": "code",
   "execution_count": 24,
   "id": "c6a88c60",
   "metadata": {
    "ExecuteTime": {
     "end_time": "2022-12-01T12:05:56.842229Z",
     "start_time": "2022-12-01T12:05:56.795374Z"
    }
   },
   "outputs": [],
   "source": [
    "import os\n",
    "from omegaconf import OmegaConf\n",
    "from src.constants import CONFIG_PATH"
   ]
  },
  {
   "cell_type": "code",
   "execution_count": 54,
   "id": "dab48183",
   "metadata": {
    "ExecuteTime": {
     "end_time": "2022-12-01T14:15:34.638929Z",
     "start_time": "2022-12-01T14:15:34.601365Z"
    }
   },
   "outputs": [],
   "source": [
    "conf = OmegaConf.load(os.path.join(CONFIG_PATH,\"sixd.yaml\"))# ' )'../../src/config/sixd.yaml')"
   ]
  },
  {
   "cell_type": "code",
   "execution_count": 26,
   "id": "b61a07f0",
   "metadata": {
    "ExecuteTime": {
     "end_time": "2022-12-01T12:06:27.272175Z",
     "start_time": "2022-12-01T12:06:27.227457Z"
    }
   },
   "outputs": [
    {
     "data": {
      "text/plain": [
       "{'angle': {'min': -90.0, 'max': 90.0, 'units': 'degree'}, 'points_east': {'min': -0.6, 'max': 1.2, 'units': 'degrees east'}, 'rmax': {'min': 2000, 'max': 60000, 'units': 'meters'}, 'pc': {'min': 90000, 'max': 98000, 'units': 'Pascal'}, 'xn': {'min': 0.8, 'max': 1.4, 'units': 'Dimensionless'}}"
      ]
     },
     "execution_count": 26,
     "metadata": {},
     "output_type": "execute_result"
    }
   ],
   "source": [
    "conf"
   ]
  },
  {
   "cell_type": "code",
   "execution_count": 17,
   "id": "6bbcac61",
   "metadata": {
    "ExecuteTime": {
     "end_time": "2022-12-01T11:43:16.649403Z",
     "start_time": "2022-12-01T11:43:16.615875Z"
    }
   },
   "outputs": [
    {
     "data": {
      "text/plain": [
       "{'min': 0.8, 'max': 1.4, 'units': 'Dimensionless'}"
      ]
     },
     "execution_count": 17,
     "metadata": {},
     "output_type": "execute_result"
    }
   ],
   "source": [
    "conf.xn"
   ]
  },
  {
   "cell_type": "code",
   "execution_count": 18,
   "id": "21d80f51",
   "metadata": {
    "ExecuteTime": {
     "end_time": "2022-12-01T11:43:17.075133Z",
     "start_time": "2022-12-01T11:43:17.042877Z"
    }
   },
   "outputs": [
    {
     "data": {
      "text/plain": [
       "{'min': 90000, 'max': 98000, 'units': 'Pascal'}"
      ]
     },
     "execution_count": 18,
     "metadata": {},
     "output_type": "execute_result"
    }
   ],
   "source": [
    "conf.pc"
   ]
  },
  {
   "cell_type": "code",
   "execution_count": 19,
   "id": "e8764686",
   "metadata": {
    "ExecuteTime": {
     "end_time": "2022-12-01T11:43:17.537871Z",
     "start_time": "2022-12-01T11:43:17.511011Z"
    }
   },
   "outputs": [
    {
     "data": {
      "text/plain": [
       "-90.0"
      ]
     },
     "execution_count": 19,
     "metadata": {},
     "output_type": "execute_result"
    }
   ],
   "source": [
    "conf.angle.min"
   ]
  },
  {
   "cell_type": "code",
   "execution_count": 27,
   "id": "2d13298f",
   "metadata": {
    "ExecuteTime": {
     "end_time": "2022-12-01T12:06:52.863688Z",
     "start_time": "2022-12-01T12:06:52.805840Z"
    }
   },
   "outputs": [],
   "source": [
    "kat = OmegaConf.load(os.path.join(CONFIG_PATH, \"katrina.yaml\"))"
   ]
  },
  {
   "cell_type": "code",
   "execution_count": 28,
   "id": "9f188f57",
   "metadata": {
    "ExecuteTime": {
     "end_time": "2022-12-01T12:06:53.686987Z",
     "start_time": "2022-12-01T12:06:53.640044Z"
    }
   },
   "outputs": [
    {
     "data": {
      "text/plain": [
       "{'angle': {'nominal': 0.0, 'units': 'degrees'}, 'speed': {'nominal': 7.71, 'units': 'm s**-1'}, 'point_east': {'nominal': 0.6, 'units': 'degrees_East'}, 'rmax': {'nominal': 40744.0, 'units': 'meters'}, 'pc': {'nominal': 92800.0, 'units': 'Pa'}, 'vmax': {'nominal': 54.01667, 'units': 'm s**-1'}, 'xn': {'nominal': 1.1249, 'units': 'dimensionless'}}"
      ]
     },
     "execution_count": 28,
     "metadata": {},
     "output_type": "execute_result"
    }
   ],
   "source": [
    "kat"
   ]
  },
  {
   "cell_type": "code",
   "execution_count": 29,
   "id": "8f41b336",
   "metadata": {
    "ExecuteTime": {
     "end_time": "2022-12-01T12:06:55.558622Z",
     "start_time": "2022-12-01T12:06:55.511372Z"
    }
   },
   "outputs": [
    {
     "data": {
      "text/plain": [
       "'/Users/simon/new-orleans/src/config'"
      ]
     },
     "execution_count": 29,
     "metadata": {},
     "output_type": "execute_result"
    }
   ],
   "source": [
    "CONFIG_PATH"
   ]
  },
  {
   "cell_type": "code",
   "execution_count": 30,
   "id": "f748087d",
   "metadata": {
    "ExecuteTime": {
     "end_time": "2022-12-01T13:21:24.535943Z",
     "start_time": "2022-12-01T13:21:24.378085Z"
    }
   },
   "outputs": [],
   "source": [
    "from src.constants import UREG"
   ]
  },
  {
   "cell_type": "code",
   "execution_count": 34,
   "id": "4cae9527",
   "metadata": {
    "ExecuteTime": {
     "end_time": "2022-12-01T13:22:31.362744Z",
     "start_time": "2022-12-01T13:22:31.321194Z"
    }
   },
   "outputs": [
    {
     "data": {
      "text/html": [
       "2 meter"
      ],
      "text/latex": [
       "$2\\ \\mathrm{meter}$"
      ],
      "text/plain": [
       "2 <Unit('meter')>"
      ]
     },
     "execution_count": 34,
     "metadata": {},
     "output_type": "execute_result"
    }
   ],
   "source": [
    "2 * UREG(\"meter\")"
   ]
  },
  {
   "cell_type": "code",
   "execution_count": 41,
   "id": "b648c82e",
   "metadata": {
    "ExecuteTime": {
     "end_time": "2022-12-01T13:44:38.857306Z",
     "start_time": "2022-12-01T13:44:38.808931Z"
    }
   },
   "outputs": [
    {
     "name": "stdout",
     "output_type": "stream",
     "text": [
      "<class 'pint.errors.UndefinedUnitError'> 'degrees_East' is not defined in the unit registry\n",
      "2 dimensionless\n"
     ]
    }
   ],
   "source": [
    "import pint\n",
    "\n",
    "try:\n",
    "    u = 2 * UREG(\"degrees_East\")\n",
    "except pint.errors.UndefinedUnitError as e:\n",
    "    print(type(e), e)\n",
    "    u =  2 * UREG(\"dimensionless\")\n",
    "\n",
    "print(u)"
   ]
  },
  {
   "cell_type": "code",
   "execution_count": 47,
   "id": "0a5e1f10",
   "metadata": {
    "ExecuteTime": {
     "end_time": "2022-12-01T13:51:29.392207Z",
     "start_time": "2022-12-01T13:51:29.335536Z"
    }
   },
   "outputs": [],
   "source": [
    "import pint\n",
    "\n",
    "def include_unit(entry):\n",
    "    try:\n",
    "        u = entry.nominal * UREG(entry.units)\n",
    "    except pint.errors.UndefinedUnitError as e:\n",
    "        print(type(e), e)\n",
    "        u =  entry.nominal * UREG(\"dimensionless\")\n",
    "    return u\n",
    "\n",
    "def include_units(inputs: any) -> dict:\n",
    "    outputs = {}\n",
    "    for i in inputs:\n",
    "        outputs[i] = include_unit(inputs[i])\n",
    "    \n",
    "    return outputs"
   ]
  },
  {
   "cell_type": "code",
   "execution_count": 48,
   "id": "3f675a58",
   "metadata": {
    "ExecuteTime": {
     "end_time": "2022-12-01T13:51:30.225505Z",
     "start_time": "2022-12-01T13:51:30.179549Z"
    }
   },
   "outputs": [
    {
     "name": "stdout",
     "output_type": "stream",
     "text": [
      "angle\n",
      "speed\n",
      "point_east\n",
      "rmax\n",
      "pc\n",
      "vmax\n",
      "xn\n"
     ]
    }
   ],
   "source": [
    "for i in kat:\n",
    "    print(i)"
   ]
  },
  {
   "cell_type": "code",
   "execution_count": 49,
   "id": "0e00aaf9",
   "metadata": {
    "ExecuteTime": {
     "end_time": "2022-12-01T13:51:30.738538Z",
     "start_time": "2022-12-01T13:51:30.684302Z"
    }
   },
   "outputs": [
    {
     "name": "stdout",
     "output_type": "stream",
     "text": [
      "<class 'pint.errors.UndefinedUnitError'> 'degrees_East' is not defined in the unit registry\n"
     ]
    },
    {
     "data": {
      "text/plain": [
       "{'angle': 0.0 <Unit('degree')>,\n",
       " 'speed': 7.71 <Unit('meter / second')>,\n",
       " 'point_east': 0.6 <Unit('dimensionless')>,\n",
       " 'rmax': 40744.0 <Unit('meter')>,\n",
       " 'pc': 92800.0 <Unit('pascal')>,\n",
       " 'vmax': 54.01667 <Unit('meter / second')>,\n",
       " 'xn': 1.1249 <Unit('dimensionless')>}"
      ]
     },
     "execution_count": 49,
     "metadata": {},
     "output_type": "execute_result"
    }
   ],
   "source": [
    "include_units(kat)"
   ]
  },
  {
   "cell_type": "code",
   "execution_count": 50,
   "id": "761ff886",
   "metadata": {
    "ExecuteTime": {
     "end_time": "2022-12-01T14:10:37.481398Z",
     "start_time": "2022-12-01T14:10:37.363777Z"
    }
   },
   "outputs": [
    {
     "data": {
      "text/plain": [
       "{'angle': {'min': -90.0, 'max': 90.0, 'units': 'degree'}, 'points_east': {'min': -0.6, 'max': 1.2, 'units': 'degrees east'}, 'rmax': {'min': 2000, 'max': 60000, 'units': 'meters'}, 'pc': {'min': 90000, 'max': 98000, 'units': 'Pascal'}, 'xn': {'min': 0.8, 'max': 1.4, 'units': 'Dimensionless'}}"
      ]
     },
     "execution_count": 50,
     "metadata": {},
     "output_type": "execute_result"
    }
   ],
   "source": [
    "conf"
   ]
  },
  {
   "cell_type": "code",
   "execution_count": 51,
   "id": "09cd6d12",
   "metadata": {
    "ExecuteTime": {
     "end_time": "2022-12-01T14:12:40.023293Z",
     "start_time": "2022-12-01T14:12:39.973413Z"
    }
   },
   "outputs": [],
   "source": [
    "def include_unitr(entry):\n",
    "    try:\n",
    "        u = (entry.min* UREG(entry.units), entry.max*UREG(entry.units))\n",
    "    except pint.errors.UndefinedUnitError as e:\n",
    "        print(type(e), e)\n",
    "        u =  (entry.min* UREG(\"dimensionless\"), entry.max*UREG(\"dimensionless\")) \n",
    "    return u\n",
    "\n",
    "def include_unitsr(inputs: any) -> dict:\n",
    "    outputs = {}\n",
    "    for i in inputs:\n",
    "        outputs[i] = include_unitr(inputs[i])\n",
    "    \n",
    "    return outputs"
   ]
  },
  {
   "cell_type": "code",
   "execution_count": 55,
   "id": "1ec4f1f6",
   "metadata": {
    "ExecuteTime": {
     "end_time": "2022-12-01T14:15:38.542033Z",
     "start_time": "2022-12-01T14:15:38.490808Z"
    }
   },
   "outputs": [
    {
     "name": "stdout",
     "output_type": "stream",
     "text": [
      "<class 'pint.errors.UndefinedUnitError'> 'east' is not defined in the unit registry\n",
      "<class 'pint.errors.UndefinedUnitError'> 'Pascal' is not defined in the unit registry\n",
      "<class 'pint.errors.UndefinedUnitError'> 'Dimensionless' is not defined in the unit registry\n"
     ]
    },
    {
     "data": {
      "text/plain": [
       "{'angle': (-90.0 <Unit('degree')>, 90.0 <Unit('degree')>),\n",
       " 'speed': (2.0 <Unit('meter / second')>, 20.0 <Unit('meter / second')>),\n",
       " 'points_east': (-0.6 <Unit('dimensionless')>, 1.2 <Unit('dimensionless')>),\n",
       " 'rmax': (2000 <Unit('meter')>, 60000 <Unit('meter')>),\n",
       " 'pc': (90000 <Unit('dimensionless')>, 98000 <Unit('dimensionless')>),\n",
       " 'xn': (0.8 <Unit('dimensionless')>, 1.4 <Unit('dimensionless')>)}"
      ]
     },
     "execution_count": 55,
     "metadata": {},
     "output_type": "execute_result"
    }
   ],
   "source": [
    "include_unitsr(conf)"
   ]
  },
  {
   "cell_type": "code",
   "execution_count": 53,
   "id": "dd46d352",
   "metadata": {
    "ExecuteTime": {
     "end_time": "2022-12-01T14:13:11.610043Z",
     "start_time": "2022-12-01T14:13:11.574877Z"
    }
   },
   "outputs": [
    {
     "data": {
      "text/plain": [
       "{'angle': {'min': -90.0, 'max': 90.0, 'units': 'degree'}, 'points_east': {'min': -0.6, 'max': 1.2, 'units': 'degrees east'}, 'rmax': {'min': 2000, 'max': 60000, 'units': 'meters'}, 'pc': {'min': 90000, 'max': 98000, 'units': 'Pascal'}, 'xn': {'min': 0.8, 'max': 1.4, 'units': 'Dimensionless'}}"
      ]
     },
     "execution_count": 53,
     "metadata": {},
     "output_type": "execute_result"
    }
   ],
   "source": [
    "conf"
   ]
  },
  {
   "cell_type": "code",
   "execution_count": 60,
   "id": "77015b21",
   "metadata": {
    "ExecuteTime": {
     "end_time": "2022-12-01T14:43:52.633644Z",
     "start_time": "2022-12-01T14:43:52.590141Z"
    }
   },
   "outputs": [],
   "source": [
    "@UREG.wraps(UREG.second, UREG.meter)\n",
    "def ok(length):\n",
    "    period = 2\n",
    "    return period"
   ]
  },
  {
   "cell_type": "code",
   "execution_count": 61,
   "id": "dd32fcb3",
   "metadata": {
    "ExecuteTime": {
     "end_time": "2022-12-01T14:43:53.881278Z",
     "start_time": "2022-12-01T14:43:53.825862Z"
    }
   },
   "outputs": [
    {
     "data": {
      "text/html": [
       "2 second"
      ],
      "text/latex": [
       "$2\\ \\mathrm{second}$"
      ],
      "text/plain": [
       "2 <Unit('second')>"
      ]
     },
     "execution_count": 61,
     "metadata": {},
     "output_type": "execute_result"
    }
   ],
   "source": [
    "ok(2 * UREG.meter)"
   ]
  },
  {
   "cell_type": "code",
   "execution_count": 62,
   "id": "f8e578bb",
   "metadata": {
    "ExecuteTime": {
     "end_time": "2022-12-01T20:26:33.550022Z",
     "start_time": "2022-12-01T20:26:33.503199Z"
    }
   },
   "outputs": [
    {
     "data": {
      "text/plain": [
       "['angle', 'speed', 'points_east', 'rmax', 'pc', 'xn']"
      ]
     },
     "execution_count": 62,
     "metadata": {},
     "output_type": "execute_result"
    }
   ],
   "source": [
    "[i for i in conf]"
   ]
  },
  {
   "cell_type": "code",
   "execution_count": 63,
   "id": "369d53ab",
   "metadata": {
    "ExecuteTime": {
     "end_time": "2022-12-03T13:57:57.019371Z",
     "start_time": "2022-12-03T13:57:56.956581Z"
    }
   },
   "outputs": [
    {
     "data": {
      "text/plain": [
       "'emulation_angle_pos_matern32_variance'"
      ]
     },
     "execution_count": 63,
     "metadata": {},
     "output_type": "execute_result"
    }
   ],
   "source": [
    "'emulation_angle_pos_matern32_variance'"
   ]
  },
  {
   "cell_type": "code",
   "execution_count": null,
   "id": "6f938e0b",
   "metadata": {},
   "outputs": [],
   "source": []
  }
 ],
 "metadata": {
  "hide_input": false,
  "kernelspec": {
   "display_name": "Python 3 (ipykernel)",
   "language": "python",
   "name": "python3"
  },
  "language_info": {
   "codemirror_mode": {
    "name": "ipython",
    "version": 3
   },
   "file_extension": ".py",
   "mimetype": "text/x-python",
   "name": "python",
   "nbconvert_exporter": "python",
   "pygments_lexer": "ipython3",
   "version": "3.8.13"
  },
  "varInspector": {
   "cols": {
    "lenName": 16,
    "lenType": 16,
    "lenVar": 40
   },
   "kernels_config": {
    "python": {
     "delete_cmd_postfix": "",
     "delete_cmd_prefix": "del ",
     "library": "var_list.py",
     "varRefreshCmd": "print(var_dic_list())"
    },
    "r": {
     "delete_cmd_postfix": ") ",
     "delete_cmd_prefix": "rm(",
     "library": "var_list.r",
     "varRefreshCmd": "cat(var_dic_list()) "
    }
   },
   "types_to_exclude": [
    "module",
    "function",
    "builtin_function_or_method",
    "instance",
    "_Feature"
   ],
   "window_display": false
  }
 },
 "nbformat": 4,
 "nbformat_minor": 5
}
