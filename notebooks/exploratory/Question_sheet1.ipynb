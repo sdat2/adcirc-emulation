{
 "cells": [
  {
   "cell_type": "markdown",
   "id": "3c2b81de",
   "metadata": {},
   "source": [
    "# Venus Atmosphere"
   ]
  },
  {
   "cell_type": "code",
   "execution_count": null,
   "id": "5b655b90",
   "metadata": {},
   "outputs": [],
   "source": [
    "# Convenient jupyter setup\n",
    "%load_ext autoreload\n",
    "%autoreload 2\n",
    "%config IPCompleter.greedy=True"
   ]
  },
  {
   "cell_type": "code",
   "execution_count": 1,
   "id": "ce17ddaa",
   "metadata": {
    "ExecuteTime": {
     "end_time": "2022-10-13T13:16:34.543593Z",
     "start_time": "2022-10-13T13:16:34.534525Z"
    }
   },
   "outputs": [],
   "source": [
    "import numpy as np"
   ]
  },
  {
   "cell_type": "code",
   "execution_count": 4,
   "id": "63ecb445",
   "metadata": {
    "ExecuteTime": {
     "end_time": "2022-10-13T13:18:37.273941Z",
     "start_time": "2022-10-13T13:18:37.259282Z"
    }
   },
   "outputs": [
    {
     "data": {
      "text/plain": [
       "2.9926770438860245e-07"
      ]
     },
     "execution_count": 4,
     "metadata": {},
     "output_type": "execute_result"
    }
   ],
   "source": [
    "2 * np.pi / (243 * 60 * 60 * 24)"
   ]
  },
  {
   "cell_type": "code",
   "execution_count": 5,
   "id": "2134a290",
   "metadata": {
    "ExecuteTime": {
     "end_time": "2022-10-13T13:18:37.595140Z",
     "start_time": "2022-10-13T13:18:37.586584Z"
    }
   },
   "outputs": [
    {
     "data": {
      "text/plain": [
       "7.27220521664304e-05"
      ]
     },
     "execution_count": 5,
     "metadata": {},
     "output_type": "execute_result"
    }
   ],
   "source": [
    "2 * np.pi / (1 * 60 * 60 * 24)"
   ]
  },
  {
   "cell_type": "code",
   "execution_count": 9,
   "id": "35828cee",
   "metadata": {
    "ExecuteTime": {
     "end_time": "2022-10-13T13:30:51.023302Z",
     "start_time": "2022-10-13T13:30:51.011320Z"
    }
   },
   "outputs": [
    {
     "data": {
      "text/plain": [
       "236.27901401227095"
      ]
     },
     "execution_count": 9,
     "metadata": {},
     "output_type": "execute_result"
    }
   ],
   "source": [
    "Ro = 100 / 2 / 2.9926770438860245e-07 * np.sqrt(2) / 1e6\n",
    "Ro"
   ]
  },
  {
   "cell_type": "code",
   "execution_count": 13,
   "id": "6e828490",
   "metadata": {
    "ExecuteTime": {
     "end_time": "2022-10-13T13:31:35.218717Z",
     "start_time": "2022-10-13T13:31:35.202832Z"
    }
   },
   "outputs": [
    {
     "data": {
      "text/plain": [
       "2.362790140122709e-10"
      ]
     },
     "execution_count": 13,
     "metadata": {},
     "output_type": "execute_result"
    }
   ],
   "source": [
    "E = 10e-3 / 2 / 2.9926770438860245e-07 * np.sqrt(2) / (10e6) ** 2\n",
    "E"
   ]
  },
  {
   "cell_type": "code",
   "execution_count": null,
   "id": "085bcf02",
   "metadata": {},
   "outputs": [],
   "source": []
  }
 ],
 "metadata": {
  "hide_input": false,
  "kernelspec": {
   "display_name": "Python 3 (ipykernel)",
   "language": "python",
   "name": "python3"
  },
  "language_info": {
   "codemirror_mode": {
    "name": "ipython",
    "version": 3
   },
   "file_extension": ".py",
   "mimetype": "text/x-python",
   "name": "python",
   "nbconvert_exporter": "python",
   "pygments_lexer": "ipython3",
   "version": "3.8.13"
  },
  "varInspector": {
   "cols": {
    "lenName": 16,
    "lenType": 16,
    "lenVar": 40
   },
   "kernels_config": {
    "python": {
     "delete_cmd_postfix": "",
     "delete_cmd_prefix": "del ",
     "library": "var_list.py",
     "varRefreshCmd": "print(var_dic_list())"
    },
    "r": {
     "delete_cmd_postfix": ") ",
     "delete_cmd_prefix": "rm(",
     "library": "var_list.r",
     "varRefreshCmd": "cat(var_dic_list()) "
    }
   },
   "types_to_exclude": [
    "module",
    "function",
    "builtin_function_or_method",
    "instance",
    "_Feature"
   ],
   "window_display": false
  }
 },
 "nbformat": 4,
 "nbformat_minor": 5
}
