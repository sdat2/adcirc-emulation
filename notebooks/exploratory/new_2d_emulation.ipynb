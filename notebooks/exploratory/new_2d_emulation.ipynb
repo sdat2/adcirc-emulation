{
 "cells": [
  {
   "cell_type": "markdown",
   "id": "d643fdf6",
   "metadata": {
    "ExecuteTime": {
     "end_time": "2023-01-20T12:37:30.456385Z",
     "start_time": "2023-01-20T12:37:30.445710Z"
    }
   },
   "source": [
    "# 2D emulation plots -- improvements"
   ]
  },
  {
   "cell_type": "code",
   "execution_count": 2,
   "id": "d9450d4e",
   "metadata": {
    "ExecuteTime": {
     "end_time": "2023-01-20T15:36:44.551416Z",
     "start_time": "2023-01-20T15:36:44.506193Z"
    }
   },
   "outputs": [],
   "source": [
    "# Convenient jupyter setup\n",
    "%load_ext autoreload\n",
    "%autoreload 2\n",
    "%config IPCompleter.greedy=True"
   ]
  },
  {
   "cell_type": "code",
   "execution_count": 2,
   "id": "ee251e7a",
   "metadata": {},
   "outputs": [
    {
     "name": "stderr",
     "output_type": "stream",
     "text": [
      "/Users/simon/new-orleans/env/lib/python3.8/site-packages/xarray/backends/cfgrib_.py:29: UserWarning: Failed to load cfgrib - most likely there is a problem accessing the ecCodes library. Try `import cfgrib` to get the full error message\n",
      "  warnings.warn(\n",
      " /Users/simon/new-orleans/env/lib/python3.8/site-packages/geopandas/_compat.py:112: UserWarning:The Shapely GEOS version (3.10.2-CAPI-1.16.0) is incompatible with the GEOS version PyGEOS was compiled with (3.10.3-CAPI-1.16.1). Conversions between both will be slow.\n"
     ]
    }
   ],
   "source": [
    "from src.models.emu6d import SixDOFSearch"
   ]
  },
  {
   "cell_type": "code",
   "execution_count": 3,
   "id": "b446fc22",
   "metadata": {},
   "outputs": [
    {
     "name": "stderr",
     "output_type": "stream",
     "text": [
      "Sweep, dryrun=False:   0%|          | 0/250 [00:00<?, ?it/s]\u001b[34m\u001b[1mwandb\u001b[0m: Currently logged in as: \u001b[33msdat2\u001b[0m. Use \u001b[1m`wandb login --relogin`\u001b[0m to force relogin\n"
     ]
    },
    {
     "data": {
      "text/html": [
       "Tracking run with wandb version 0.13.9"
      ],
      "text/plain": [
       "<IPython.core.display.HTML object>"
      ]
     },
     "metadata": {},
     "output_type": "display_data"
    },
    {
     "data": {
      "text/html": [
       "Run data is saved locally in <code>/Users/simon/new-orleans/notebooks/exploratory/wandb/run-20230202_212840-v0bj0bo3</code>"
      ],
      "text/plain": [
       "<IPython.core.display.HTML object>"
      ]
     },
     "metadata": {},
     "output_type": "display_data"
    },
    {
     "data": {
      "text/html": [
       "Syncing run <strong><a href=\"https://wandb.ai/sdat2/6D_individual/runs/v0bj0bo3\" target=\"_blank\">cheerful-noodles-2</a></strong> to <a href=\"https://wandb.ai/sdat2/6D_individual\" target=\"_blank\">Weights & Biases</a> (<a href=\"https://wandb.me/run\" target=\"_blank\">docs</a>)<br/>"
      ],
      "text/plain": [
       "<IPython.core.display.HTML object>"
      ]
     },
     "metadata": {},
     "output_type": "display_data"
    },
    {
     "data": {
      "text/html": [
       " View project at <a href=\"https://wandb.ai/sdat2/6D_individual\" target=\"_blank\">https://wandb.ai/sdat2/6D_individual</a>"
      ],
      "text/plain": [
       "<IPython.core.display.HTML object>"
      ]
     },
     "metadata": {},
     "output_type": "display_data"
    },
    {
     "data": {
      "text/html": [
       " View run at <a href=\"https://wandb.ai/sdat2/6D_individual/runs/v0bj0bo3\" target=\"_blank\">https://wandb.ai/sdat2/6D_individual/runs/v0bj0bo3</a>"
      ],
      "text/plain": [
       "<IPython.core.display.HTML object>"
      ]
     },
     "metadata": {},
     "output_type": "display_data"
    },
    {
     "name": "stdout",
     "output_type": "stream",
     "text": [
      "<class 'list'>\n",
      "<xarray.Dataset>\n",
      "Dimensions:  (lat: 46, lon: 60, time: 1)\n",
      "Coordinates:\n",
      "  * lat      (lat) float64 28.6 28.65 28.7 28.75 28.8 ... 30.7 30.75 30.8 30.85\n",
      "  * lon      (lon) float64 -90.28 -90.23 -90.18 -90.13 ... -87.43 -87.38 -87.33\n",
      "  * time     (time) datetime64[ns] 2005-08-25\n",
      "Data variables:\n",
      "    U10      (time, lat, lon) float64 -0.0002917 -0.0002901 ... -0.0002321\n",
      "    V10      (time, lat, lon) float64 0.0006243 0.0006222 ... 0.0004675\n",
      "'prepare_run'  33.85771 s \n",
      "\n",
      "<class 'list'>\n",
      "<xarray.Dataset>\n",
      "Dimensions:  (lat: 100, lon: 100, time: 1)\n",
      "Coordinates:\n",
      "  * lat      (lat) float64 17.0 17.25 17.5 17.75 18.0 ... 41.0 41.25 41.5 41.75\n",
      "  * lon      (lon) float64 -99.0 -98.75 -98.5 -98.25 ... -74.75 -74.5 -74.25\n",
      "  * time     (time) datetime64[ns] 2005-08-25\n",
      "Data variables:\n",
      "    U10      (time, lat, lon) float64 -0.0001144 -0.000109 ... -0.0001049\n",
      "    V10      (time, lat, lon) float64 0.002245 0.002169 ... 0.0001764 0.000175\n",
      "'prepare_run'  02 min 00 s \n",
      "\n",
      "<class 'list'>\n",
      "<xarray.Dataset>\n",
      "Dimensions:  (lat: 46, lon: 60, time: 1)\n",
      "Coordinates:\n",
      "  * lat      (lat) float64 25.75 25.9 26.05 26.2 26.35 ... 32.05 32.2 32.35 32.5\n",
      "  * lon      (lon) float64 -92.2 -92.05 -91.9 -91.75 ... -83.65 -83.5 -83.35\n",
      "  * time     (time) datetime64[ns] 2005-08-25\n",
      "Data variables:\n",
      "    U10      (time, lat, lon) float64 -0.0003192 -0.0003135 ... -0.0001709\n",
      "    V10      (time, lat, lon) float64 0.0008214 0.0008114 ... 0.0003538 0.000351\n",
      "'prepare_run'  33.72176 s \n",
      "\n",
      "'create_inputs'  03 min 08 s \n",
      "\n"
     ]
    },
    {
     "name": "stderr",
     "output_type": "stream",
     "text": [
      "Sweep, dryrun=False:   0%|          | 1/250 [08:18<34:27:41, 498.24s/it]"
     ]
    },
    {
     "name": "stdout",
     "output_type": "stream",
     "text": [
      "'run_adcirc'  04 min 59 s \n",
      "\n",
      "height =   0.913799947524752 m\n"
     ]
    },
    {
     "data": {
      "text/html": [
       "Finishing last run (ID:v0bj0bo3) before initializing another..."
      ],
      "text/plain": [
       "<IPython.core.display.HTML object>"
      ]
     },
     "metadata": {},
     "output_type": "display_data"
    },
    {
     "data": {
      "text/html": [
       "Waiting for W&B process to finish... <strong style=\"color:green\">(success).</strong>"
      ],
      "text/plain": [
       "<IPython.core.display.HTML object>"
      ]
     },
     "metadata": {},
     "output_type": "display_data"
    },
    {
     "data": {
      "application/vnd.jupyter.widget-view+json": {
       "model_id": "d1c2e8c2d3ba4e6a83db180bd25d4720",
       "version_major": 2,
       "version_minor": 0
      },
      "text/plain": [
       "VBox(children=(Label(value='0.124 MB of 0.124 MB uploaded (0.000 MB deduped)\\r'), FloatProgress(value=1.0, max…"
      ]
     },
     "metadata": {},
     "output_type": "display_data"
    },
    {
     "data": {
      "text/html": [
       "<style>\n",
       "    table.wandb td:nth-child(1) { padding: 0 10px; text-align: left ; width: auto;} td:nth-child(2) {text-align: left ; width: 100%}\n",
       "    .wandb-row { display: flex; flex-direction: row; flex-wrap: wrap; justify-content: flex-start; width: 100% }\n",
       "    .wandb-col { display: flex; flex-direction: column; flex-basis: 100%; flex: 1; padding: 10px; }\n",
       "    </style>\n",
       "<div class=\"wandb-row\"><div class=\"wandb-col\"><h3>Run history:</h3><br/><table class=\"wandb\"><tr><td>angle</td><td>▁</td></tr><tr><td>height</td><td>▁</td></tr><tr><td>pc</td><td>▁</td></tr><tr><td>point_east</td><td>▁</td></tr><tr><td>rmax</td><td>▁</td></tr><tr><td>speed</td><td>▁</td></tr><tr><td>vmax</td><td>▁</td></tr><tr><td>xn</td><td>▁</td></tr></table><br/></div><div class=\"wandb-col\"><h3>Run summary:</h3><br/><table class=\"wandb\"><tr><td>angle</td><td>63.72</td></tr><tr><td>height</td><td>0.9138</td></tr><tr><td>pc</td><td>97440.00006</td></tr><tr><td>point_east</td><td>1.0812</td></tr><tr><td>rmax</td><td>22995.99934</td></tr><tr><td>speed</td><td>8.948</td></tr><tr><td>vmax</td><td>54.01667</td></tr><tr><td>xn</td><td>1.1372</td></tr></table><br/></div></div>"
      ],
      "text/plain": [
       "<IPython.core.display.HTML object>"
      ]
     },
     "metadata": {},
     "output_type": "display_data"
    },
    {
     "data": {
      "text/html": [
       " View run <strong style=\"color:#cdcd00\">cheerful-noodles-2</strong> at: <a href=\"https://wandb.ai/sdat2/6D_individual/runs/v0bj0bo3\" target=\"_blank\">https://wandb.ai/sdat2/6D_individual/runs/v0bj0bo3</a><br/>Synced 7 W&B file(s), 0 media file(s), 0 artifact file(s) and 1 other file(s)"
      ],
      "text/plain": [
       "<IPython.core.display.HTML object>"
      ]
     },
     "metadata": {},
     "output_type": "display_data"
    },
    {
     "data": {
      "text/html": [
       "Find logs at: <code>./wandb/run-20230202_212840-v0bj0bo3/logs</code>"
      ],
      "text/plain": [
       "<IPython.core.display.HTML object>"
      ]
     },
     "metadata": {},
     "output_type": "display_data"
    },
    {
     "data": {
      "text/html": [
       "Successfully finished last run (ID:v0bj0bo3). Initializing new run:<br/>"
      ],
      "text/plain": [
       "<IPython.core.display.HTML object>"
      ]
     },
     "metadata": {},
     "output_type": "display_data"
    },
    {
     "data": {
      "application/vnd.jupyter.widget-view+json": {
       "model_id": "1c6b6cdfc98e4623b78d522f99af80b4",
       "version_major": 2,
       "version_minor": 0
      },
      "text/plain": [
       "VBox(children=(Label(value='Waiting for wandb.init()...\\r'), FloatProgress(value=0.01673887778333286, max=1.0)…"
      ]
     },
     "metadata": {},
     "output_type": "display_data"
    },
    {
     "data": {
      "text/html": [
       "Tracking run with wandb version 0.13.9"
      ],
      "text/plain": [
       "<IPython.core.display.HTML object>"
      ]
     },
     "metadata": {},
     "output_type": "display_data"
    },
    {
     "data": {
      "text/html": [
       "Run data is saved locally in <code>/Users/simon/new-orleans/notebooks/exploratory/wandb/run-20230202_213657-ka5c5hdp</code>"
      ],
      "text/plain": [
       "<IPython.core.display.HTML object>"
      ]
     },
     "metadata": {},
     "output_type": "display_data"
    },
    {
     "data": {
      "text/html": [
       "Syncing run <strong><a href=\"https://wandb.ai/sdat2/6D_individual/runs/ka5c5hdp\" target=\"_blank\">alight-goat-3</a></strong> to <a href=\"https://wandb.ai/sdat2/6D_individual\" target=\"_blank\">Weights & Biases</a> (<a href=\"https://wandb.me/run\" target=\"_blank\">docs</a>)<br/>"
      ],
      "text/plain": [
       "<IPython.core.display.HTML object>"
      ]
     },
     "metadata": {},
     "output_type": "display_data"
    },
    {
     "data": {
      "text/html": [
       " View project at <a href=\"https://wandb.ai/sdat2/6D_individual\" target=\"_blank\">https://wandb.ai/sdat2/6D_individual</a>"
      ],
      "text/plain": [
       "<IPython.core.display.HTML object>"
      ]
     },
     "metadata": {},
     "output_type": "display_data"
    },
    {
     "data": {
      "text/html": [
       " View run at <a href=\"https://wandb.ai/sdat2/6D_individual/runs/ka5c5hdp\" target=\"_blank\">https://wandb.ai/sdat2/6D_individual/runs/ka5c5hdp</a>"
      ],
      "text/plain": [
       "<IPython.core.display.HTML object>"
      ]
     },
     "metadata": {},
     "output_type": "display_data"
    },
    {
     "name": "stdout",
     "output_type": "stream",
     "text": [
      "<class 'list'>\n",
      "<xarray.Dataset>\n",
      "Dimensions:  (lat: 46, lon: 60, time: 1)\n",
      "Coordinates:\n",
      "  * lat      (lat) float64 28.6 28.65 28.7 28.75 28.8 ... 30.7 30.75 30.8 30.85\n",
      "  * lon      (lon) float64 -90.28 -90.23 -90.18 -90.13 ... -87.43 -87.38 -87.33\n",
      "  * time     (time) datetime64[ns] 2005-08-25\n",
      "Data variables:\n",
      "    U10      (time, lat, lon) float64 -0.05697 -0.05666 ... -0.04824 -0.04802\n",
      "    V10      (time, lat, lon) float64 0.1234 0.1231 0.1227 ... 0.09568 0.09547\n",
      "'prepare_run'  34.46535 s \n",
      "\n",
      "<class 'list'>\n",
      "<xarray.Dataset>\n",
      "Dimensions:  (lat: 100, lon: 100, time: 1)\n",
      "Coordinates:\n",
      "  * lat      (lat) float64 17.0 17.25 17.5 17.75 18.0 ... 41.0 41.25 41.5 41.75\n",
      "  * lon      (lon) float64 -99.0 -98.75 -98.5 -98.25 ... -74.75 -74.5 -74.25\n",
      "  * time     (time) datetime64[ns] 2005-08-25\n",
      "Data variables:\n",
      "    U10      (time, lat, lon) float64 0.1101 0.1039 ... -0.02712 -0.02679\n",
      "    V10      (time, lat, lon) float64 0.3506 0.3395 0.3289 ... 0.04285 0.04264\n",
      "'prepare_run'  02 min 00 s \n",
      "\n",
      "<class 'list'>\n",
      "<xarray.Dataset>\n",
      "Dimensions:  (lat: 46, lon: 60, time: 1)\n",
      "Coordinates:\n",
      "  * lat      (lat) float64 25.75 25.9 26.05 26.2 26.35 ... 32.05 32.2 32.35 32.5\n",
      "  * lon      (lon) float64 -92.2 -92.05 -91.9 -91.75 ... -83.65 -83.5 -83.35\n",
      "  * time     (time) datetime64[ns] 2005-08-25\n",
      "Data variables:\n",
      "    U10      (time, lat, lon) float64 -0.05511 -0.05402 ... -0.03744 -0.03701\n",
      "    V10      (time, lat, lon) float64 0.1606 0.1589 0.1572 ... 0.07608 0.07565\n",
      "'prepare_run'  33.88113 s \n",
      "\n",
      "'create_inputs'  03 min 08 s \n",
      "\n"
     ]
    },
    {
     "name": "stderr",
     "output_type": "stream",
     "text": [
      "Sweep, dryrun=False:   1%|          | 2/250 [16:39<34:26:56, 500.07s/it]"
     ]
    },
    {
     "name": "stdout",
     "output_type": "stream",
     "text": [
      "'run_adcirc'  04 min 56 s \n",
      "\n",
      "height =   1.5530767323537717 m\n"
     ]
    },
    {
     "data": {
      "text/html": [
       "Finishing last run (ID:ka5c5hdp) before initializing another..."
      ],
      "text/plain": [
       "<IPython.core.display.HTML object>"
      ]
     },
     "metadata": {},
     "output_type": "display_data"
    },
    {
     "data": {
      "text/html": [
       "Waiting for W&B process to finish... <strong style=\"color:green\">(success).</strong>"
      ],
      "text/plain": [
       "<IPython.core.display.HTML object>"
      ]
     },
     "metadata": {},
     "output_type": "display_data"
    },
    {
     "data": {
      "application/vnd.jupyter.widget-view+json": {
       "model_id": "597ca1a828b64cd68f48183b1b1a0ac0",
       "version_major": 2,
       "version_minor": 0
      },
      "text/plain": [
       "VBox(children=(Label(value='0.124 MB of 0.124 MB uploaded (0.000 MB deduped)\\r'), FloatProgress(value=1.0, max…"
      ]
     },
     "metadata": {},
     "output_type": "display_data"
    },
    {
     "data": {
      "text/html": [
       "<style>\n",
       "    table.wandb td:nth-child(1) { padding: 0 10px; text-align: left ; width: auto;} td:nth-child(2) {text-align: left ; width: 100%}\n",
       "    .wandb-row { display: flex; flex-direction: row; flex-wrap: wrap; justify-content: flex-start; width: 100% }\n",
       "    .wandb-col { display: flex; flex-direction: column; flex-basis: 100%; flex: 1; padding: 10px; }\n",
       "    </style>\n",
       "<div class=\"wandb-row\"><div class=\"wandb-col\"><h3>Run history:</h3><br/><table class=\"wandb\"><tr><td>angle</td><td>▁</td></tr><tr><td>height</td><td>▁</td></tr><tr><td>pc</td><td>▁</td></tr><tr><td>point_east</td><td>▁</td></tr><tr><td>rmax</td><td>▁</td></tr><tr><td>speed</td><td>▁</td></tr><tr><td>vmax</td><td>▁</td></tr><tr><td>xn</td><td>▁</td></tr></table><br/></div><div class=\"wandb-col\"><h3>Run summary:</h3><br/><table class=\"wandb\"><tr><td>angle</td><td>62.28</td></tr><tr><td>height</td><td>1.55308</td></tr><tr><td>pc</td><td>93888.00001</td></tr><tr><td>point_east</td><td>0.1164</td></tr><tr><td>rmax</td><td>16732.00047</td></tr><tr><td>speed</td><td>6.068</td></tr><tr><td>vmax</td><td>54.01667</td></tr><tr><td>xn</td><td>1.3628</td></tr></table><br/></div></div>"
      ],
      "text/plain": [
       "<IPython.core.display.HTML object>"
      ]
     },
     "metadata": {},
     "output_type": "display_data"
    },
    {
     "data": {
      "text/html": [
       " View run <strong style=\"color:#cdcd00\">alight-goat-3</strong> at: <a href=\"https://wandb.ai/sdat2/6D_individual/runs/ka5c5hdp\" target=\"_blank\">https://wandb.ai/sdat2/6D_individual/runs/ka5c5hdp</a><br/>Synced 7 W&B file(s), 0 media file(s), 0 artifact file(s) and 0 other file(s)"
      ],
      "text/plain": [
       "<IPython.core.display.HTML object>"
      ]
     },
     "metadata": {},
     "output_type": "display_data"
    },
    {
     "data": {
      "text/html": [
       "Find logs at: <code>./wandb/run-20230202_213657-ka5c5hdp/logs</code>"
      ],
      "text/plain": [
       "<IPython.core.display.HTML object>"
      ]
     },
     "metadata": {},
     "output_type": "display_data"
    },
    {
     "data": {
      "text/html": [
       "Successfully finished last run (ID:ka5c5hdp). Initializing new run:<br/>"
      ],
      "text/plain": [
       "<IPython.core.display.HTML object>"
      ]
     },
     "metadata": {},
     "output_type": "display_data"
    },
    {
     "data": {
      "application/vnd.jupyter.widget-view+json": {
       "model_id": "79ea989b850e41c4b9cbe3b26f856a99",
       "version_major": 2,
       "version_minor": 0
      },
      "text/plain": [
       "VBox(children=(Label(value='Waiting for wandb.init()...\\r'), FloatProgress(value=0.01675143333333343, max=1.0)…"
      ]
     },
     "metadata": {},
     "output_type": "display_data"
    },
    {
     "data": {
      "text/html": [
       "Tracking run with wandb version 0.13.9"
      ],
      "text/plain": [
       "<IPython.core.display.HTML object>"
      ]
     },
     "metadata": {},
     "output_type": "display_data"
    },
    {
     "data": {
      "text/html": [
       "Run data is saved locally in <code>/Users/simon/new-orleans/notebooks/exploratory/wandb/run-20230202_214518-v7xhegve</code>"
      ],
      "text/plain": [
       "<IPython.core.display.HTML object>"
      ]
     },
     "metadata": {},
     "output_type": "display_data"
    },
    {
     "data": {
      "text/html": [
       "Syncing run <strong><a href=\"https://wandb.ai/sdat2/6D_individual/runs/v7xhegve\" target=\"_blank\">bright-cake-4</a></strong> to <a href=\"https://wandb.ai/sdat2/6D_individual\" target=\"_blank\">Weights & Biases</a> (<a href=\"https://wandb.me/run\" target=\"_blank\">docs</a>)<br/>"
      ],
      "text/plain": [
       "<IPython.core.display.HTML object>"
      ]
     },
     "metadata": {},
     "output_type": "display_data"
    },
    {
     "data": {
      "text/html": [
       " View project at <a href=\"https://wandb.ai/sdat2/6D_individual\" target=\"_blank\">https://wandb.ai/sdat2/6D_individual</a>"
      ],
      "text/plain": [
       "<IPython.core.display.HTML object>"
      ]
     },
     "metadata": {},
     "output_type": "display_data"
    },
    {
     "data": {
      "text/html": [
       " View run at <a href=\"https://wandb.ai/sdat2/6D_individual/runs/v7xhegve\" target=\"_blank\">https://wandb.ai/sdat2/6D_individual/runs/v7xhegve</a>"
      ],
      "text/plain": [
       "<IPython.core.display.HTML object>"
      ]
     },
     "metadata": {},
     "output_type": "display_data"
    },
    {
     "name": "stdout",
     "output_type": "stream",
     "text": [
      "<class 'list'>\n",
      "<xarray.Dataset>\n",
      "Dimensions:  (lat: 46, lon: 60, time: 1)\n",
      "Coordinates:\n",
      "  * lat      (lat) float64 28.6 28.65 28.7 28.75 28.8 ... 30.7 30.75 30.8 30.85\n",
      "  * lon      (lon) float64 -90.28 -90.23 -90.18 -90.13 ... -87.43 -87.38 -87.33\n",
      "  * time     (time) datetime64[ns] 2005-08-25\n",
      "Data variables:\n",
      "    U10      (time, lat, lon) float64 -1.186 -1.185 -1.183 ... -0.6224 -0.6195\n",
      "    V10      (time, lat, lon) float64 0.0586 0.06809 0.07755 ... 0.2361 0.2386\n",
      "'prepare_run'  34.31560 s \n",
      "\n",
      "<class 'list'>\n",
      "<xarray.Dataset>\n",
      "Dimensions:  (lat: 100, lon: 100, time: 1)\n",
      "Coordinates:\n",
      "  * lat      (lat) float64 17.0 17.25 17.5 17.75 18.0 ... 41.0 41.25 41.5 41.75\n",
      "  * lon      (lon) float64 -99.0 -98.75 -98.5 -98.25 ... -74.75 -74.5 -74.25\n",
      "  * time     (time) datetime64[ns] 2005-08-25\n",
      "Data variables:\n",
      "    U10      (time, lat, lon) float64 0.3208 0.3386 0.3575 ... -0.107 -0.1055\n",
      "    V10      (time, lat, lon) float64 -0.5003 -0.5124 ... 0.08895 0.08903\n",
      "'prepare_run'  02 min 01 s \n",
      "\n",
      "<class 'list'>\n",
      "<xarray.Dataset>\n",
      "Dimensions:  (lat: 46, lon: 60, time: 1)\n",
      "Coordinates:\n",
      "  * lat      (lat) float64 25.75 25.9 26.05 26.2 26.35 ... 32.05 32.2 32.35 32.5\n",
      "  * lon      (lon) float64 -92.2 -92.05 -91.9 -91.75 ... -83.65 -83.5 -83.35\n",
      "  * time     (time) datetime64[ns] 2005-08-25\n",
      "Data variables:\n",
      "    U10      (time, lat, lon) float64 -2.457 -2.557 -2.652 ... -0.3438 -0.3381\n",
      "    V10      (time, lat, lon) float64 -1.182 -1.116 -1.039 ... 0.2411 0.2422\n",
      "'prepare_run'  34.10699 s \n",
      "\n",
      "'create_inputs'  03 min 09 s \n",
      "\n"
     ]
    },
    {
     "name": "stderr",
     "output_type": "stream",
     "text": [
      "Sweep, dryrun=False:   1%|          | 3/250 [25:03<34:26:33, 502.00s/it]"
     ]
    },
    {
     "name": "stdout",
     "output_type": "stream",
     "text": [
      "'run_adcirc'  04 min 59 s \n",
      "\n",
      "height =   5.360618754007001 m\n"
     ]
    },
    {
     "data": {
      "text/html": [
       "Finishing last run (ID:v7xhegve) before initializing another..."
      ],
      "text/plain": [
       "<IPython.core.display.HTML object>"
      ]
     },
     "metadata": {},
     "output_type": "display_data"
    },
    {
     "data": {
      "text/html": [
       "Waiting for W&B process to finish... <strong style=\"color:green\">(success).</strong>"
      ],
      "text/plain": [
       "<IPython.core.display.HTML object>"
      ]
     },
     "metadata": {},
     "output_type": "display_data"
    },
    {
     "data": {
      "application/vnd.jupyter.widget-view+json": {
       "model_id": "da84be34499b4ba7af703ec801954f5d",
       "version_major": 2,
       "version_minor": 0
      },
      "text/plain": [
       "VBox(children=(Label(value='0.124 MB of 0.124 MB uploaded (0.000 MB deduped)\\r'), FloatProgress(value=1.0, max…"
      ]
     },
     "metadata": {},
     "output_type": "display_data"
    },
    {
     "data": {
      "text/html": [
       "<style>\n",
       "    table.wandb td:nth-child(1) { padding: 0 10px; text-align: left ; width: auto;} td:nth-child(2) {text-align: left ; width: 100%}\n",
       "    .wandb-row { display: flex; flex-direction: row; flex-wrap: wrap; justify-content: flex-start; width: 100% }\n",
       "    .wandb-col { display: flex; flex-direction: column; flex-basis: 100%; flex: 1; padding: 10px; }\n",
       "    </style>\n",
       "<div class=\"wandb-row\"><div class=\"wandb-col\"><h3>Run history:</h3><br/><table class=\"wandb\"><tr><td>angle</td><td>▁</td></tr><tr><td>height</td><td>▁</td></tr><tr><td>pc</td><td>▁</td></tr><tr><td>point_east</td><td>▁</td></tr><tr><td>rmax</td><td>▁</td></tr><tr><td>speed</td><td>▁</td></tr><tr><td>vmax</td><td>▁</td></tr><tr><td>xn</td><td>▁</td></tr></table><br/></div><div class=\"wandb-col\"><h3>Run summary:</h3><br/><table class=\"wandb\"><tr><td>angle</td><td>8.28</td></tr><tr><td>height</td><td>5.36062</td></tr><tr><td>pc</td><td>94495.99981</td></tr><tr><td>point_east</td><td>0.5844</td></tr><tr><td>rmax</td><td>29492.0004</td></tr><tr><td>speed</td><td>2.18</td></tr><tr><td>vmax</td><td>54.01667</td></tr><tr><td>xn</td><td>1.3316</td></tr></table><br/></div></div>"
      ],
      "text/plain": [
       "<IPython.core.display.HTML object>"
      ]
     },
     "metadata": {},
     "output_type": "display_data"
    },
    {
     "data": {
      "text/html": [
       " View run <strong style=\"color:#cdcd00\">bright-cake-4</strong> at: <a href=\"https://wandb.ai/sdat2/6D_individual/runs/v7xhegve\" target=\"_blank\">https://wandb.ai/sdat2/6D_individual/runs/v7xhegve</a><br/>Synced 7 W&B file(s), 0 media file(s), 0 artifact file(s) and 1 other file(s)"
      ],
      "text/plain": [
       "<IPython.core.display.HTML object>"
      ]
     },
     "metadata": {},
     "output_type": "display_data"
    },
    {
     "data": {
      "text/html": [
       "Find logs at: <code>./wandb/run-20230202_214518-v7xhegve/logs</code>"
      ],
      "text/plain": [
       "<IPython.core.display.HTML object>"
      ]
     },
     "metadata": {},
     "output_type": "display_data"
    },
    {
     "data": {
      "text/html": [
       "Successfully finished last run (ID:v7xhegve). Initializing new run:<br/>"
      ],
      "text/plain": [
       "<IPython.core.display.HTML object>"
      ]
     },
     "metadata": {},
     "output_type": "display_data"
    },
    {
     "data": {
      "application/vnd.jupyter.widget-view+json": {
       "model_id": "f0542a8691cb46479723fccbbc558af5",
       "version_major": 2,
       "version_minor": 0
      },
      "text/plain": [
       "VBox(children=(Label(value='Waiting for wandb.init()...\\r'), FloatProgress(value=0.016677953466667835, max=1.0…"
      ]
     },
     "metadata": {},
     "output_type": "display_data"
    },
    {
     "data": {
      "text/html": [
       "Tracking run with wandb version 0.13.9"
      ],
      "text/plain": [
       "<IPython.core.display.HTML object>"
      ]
     },
     "metadata": {},
     "output_type": "display_data"
    },
    {
     "data": {
      "text/html": [
       "Run data is saved locally in <code>/Users/simon/new-orleans/notebooks/exploratory/wandb/run-20230202_215342-lug9mvil</code>"
      ],
      "text/plain": [
       "<IPython.core.display.HTML object>"
      ]
     },
     "metadata": {},
     "output_type": "display_data"
    },
    {
     "data": {
      "text/html": [
       "Syncing run <strong><a href=\"https://wandb.ai/sdat2/6D_individual/runs/lug9mvil\" target=\"_blank\">vibrant-lantern-5</a></strong> to <a href=\"https://wandb.ai/sdat2/6D_individual\" target=\"_blank\">Weights & Biases</a> (<a href=\"https://wandb.me/run\" target=\"_blank\">docs</a>)<br/>"
      ],
      "text/plain": [
       "<IPython.core.display.HTML object>"
      ]
     },
     "metadata": {},
     "output_type": "display_data"
    },
    {
     "data": {
      "text/html": [
       " View project at <a href=\"https://wandb.ai/sdat2/6D_individual\" target=\"_blank\">https://wandb.ai/sdat2/6D_individual</a>"
      ],
      "text/plain": [
       "<IPython.core.display.HTML object>"
      ]
     },
     "metadata": {},
     "output_type": "display_data"
    },
    {
     "data": {
      "text/html": [
       " View run at <a href=\"https://wandb.ai/sdat2/6D_individual/runs/lug9mvil\" target=\"_blank\">https://wandb.ai/sdat2/6D_individual/runs/lug9mvil</a>"
      ],
      "text/plain": [
       "<IPython.core.display.HTML object>"
      ]
     },
     "metadata": {},
     "output_type": "display_data"
    },
    {
     "name": "stdout",
     "output_type": "stream",
     "text": [
      "<class 'list'>\n",
      "<xarray.Dataset>\n",
      "Dimensions:  (lat: 46, lon: 60, time: 1)\n",
      "Coordinates:\n",
      "  * lat      (lat) float64 28.6 28.65 28.7 28.75 28.8 ... 30.7 30.75 30.8 30.85\n",
      "  * lon      (lon) float64 -90.28 -90.23 -90.18 -90.13 ... -87.43 -87.38 -87.33\n",
      "  * time     (time) datetime64[ns] 2005-08-25\n",
      "Data variables:\n",
      "    U10      (time, lat, lon) float64 -4.531 -4.525 -4.52 ... -4.224 -4.219\n",
      "    V10      (time, lat, lon) float64 3.27 3.273 3.277 ... 3.209 3.212 3.214\n",
      "'prepare_run'  34.53712 s \n",
      "\n",
      "<class 'list'>\n",
      "<xarray.Dataset>\n",
      "Dimensions:  (lat: 100, lon: 100, time: 1)\n",
      "Coordinates:\n",
      "  * lat      (lat) float64 17.0 17.25 17.5 17.75 18.0 ... 41.0 41.25 41.5 41.75\n",
      "  * lon      (lon) float64 -99.0 -98.75 -98.5 -98.25 ... -74.75 -74.5 -74.25\n",
      "  * time     (time) datetime64[ns] 2005-08-25\n",
      "Data variables:\n",
      "    U10      (time, lat, lon) float64 -6.068 -6.01 -5.951 ... -3.318 -3.304\n",
      "    V10      (time, lat, lon) float64 4.27 4.307 4.342 ... 2.863 2.869 2.876\n",
      "'prepare_run'  01 min 59 s \n",
      "\n",
      "<class 'list'>\n",
      "<xarray.Dataset>\n",
      "Dimensions:  (lat: 46, lon: 60, time: 1)\n",
      "Coordinates:\n",
      "  * lat      (lat) float64 25.75 25.9 26.05 26.2 26.35 ... 32.05 32.2 32.35 32.5\n",
      "  * lon      (lon) float64 -92.2 -92.05 -91.9 -91.75 ... -83.65 -83.5 -83.35\n",
      "  * time     (time) datetime64[ns] 2005-08-25\n",
      "Data variables:\n",
      "    U10      (time, lat, lon) float64 -4.779 -4.76 -4.74 ... -3.876 -3.863\n",
      "    V10      (time, lat, lon) float64 3.472 3.484 3.495 ... 3.234 3.24 3.246\n",
      "'prepare_run'  34.16494 s \n",
      "\n",
      "'create_inputs'  03 min 08 s \n",
      "\n"
     ]
    },
    {
     "name": "stderr",
     "output_type": "stream",
     "text": [
      "Sweep, dryrun=False:   2%|▏         | 4/250 [33:27<34:20:17, 502.51s/it]"
     ]
    },
    {
     "name": "stdout",
     "output_type": "stream",
     "text": [
      "'run_adcirc'  04 min 59 s \n",
      "\n",
      "height =   3.807752481436513 m\n"
     ]
    },
    {
     "data": {
      "text/html": [
       "Finishing last run (ID:lug9mvil) before initializing another..."
      ],
      "text/plain": [
       "<IPython.core.display.HTML object>"
      ]
     },
     "metadata": {},
     "output_type": "display_data"
    },
    {
     "data": {
      "text/html": [
       "Waiting for W&B process to finish... <strong style=\"color:green\">(success).</strong>"
      ],
      "text/plain": [
       "<IPython.core.display.HTML object>"
      ]
     },
     "metadata": {},
     "output_type": "display_data"
    },
    {
     "data": {
      "application/vnd.jupyter.widget-view+json": {
       "model_id": "a8ec5e39a9f64fdc9fe216e585eefd06",
       "version_major": 2,
       "version_minor": 0
      },
      "text/plain": [
       "VBox(children=(Label(value='0.001 MB of 0.001 MB uploaded (0.000 MB deduped)\\r'), FloatProgress(value=1.0, max…"
      ]
     },
     "metadata": {},
     "output_type": "display_data"
    },
    {
     "data": {
      "text/html": [
       "<style>\n",
       "    table.wandb td:nth-child(1) { padding: 0 10px; text-align: left ; width: auto;} td:nth-child(2) {text-align: left ; width: 100%}\n",
       "    .wandb-row { display: flex; flex-direction: row; flex-wrap: wrap; justify-content: flex-start; width: 100% }\n",
       "    .wandb-col { display: flex; flex-direction: column; flex-basis: 100%; flex: 1; padding: 10px; }\n",
       "    </style>\n",
       "<div class=\"wandb-row\"><div class=\"wandb-col\"><h3>Run history:</h3><br/><table class=\"wandb\"><tr><td>angle</td><td>▁</td></tr><tr><td>height</td><td>▁</td></tr><tr><td>pc</td><td>▁</td></tr><tr><td>point_east</td><td>▁</td></tr><tr><td>rmax</td><td>▁</td></tr><tr><td>speed</td><td>▁</td></tr><tr><td>vmax</td><td>▁</td></tr><tr><td>xn</td><td>▁</td></tr></table><br/></div><div class=\"wandb-col\"><h3>Run summary:</h3><br/><table class=\"wandb\"><tr><td>angle</td><td>34.2</td></tr><tr><td>height</td><td>3.80775</td></tr><tr><td>pc</td><td>90048.0</td></tr><tr><td>point_east</td><td>-0.5892</td></tr><tr><td>rmax</td><td>28331.99978</td></tr><tr><td>speed</td><td>11.108</td></tr><tr><td>vmax</td><td>54.01667</td></tr><tr><td>xn</td><td>0.8588</td></tr></table><br/></div></div>"
      ],
      "text/plain": [
       "<IPython.core.display.HTML object>"
      ]
     },
     "metadata": {},
     "output_type": "display_data"
    },
    {
     "data": {
      "text/html": [
       " View run <strong style=\"color:#cdcd00\">vibrant-lantern-5</strong> at: <a href=\"https://wandb.ai/sdat2/6D_individual/runs/lug9mvil\" target=\"_blank\">https://wandb.ai/sdat2/6D_individual/runs/lug9mvil</a><br/>Synced 6 W&B file(s), 0 media file(s), 0 artifact file(s) and 0 other file(s)"
      ],
      "text/plain": [
       "<IPython.core.display.HTML object>"
      ]
     },
     "metadata": {},
     "output_type": "display_data"
    },
    {
     "data": {
      "text/html": [
       "Find logs at: <code>./wandb/run-20230202_215342-lug9mvil/logs</code>"
      ],
      "text/plain": [
       "<IPython.core.display.HTML object>"
      ]
     },
     "metadata": {},
     "output_type": "display_data"
    },
    {
     "data": {
      "text/html": [
       "Successfully finished last run (ID:lug9mvil). Initializing new run:<br/>"
      ],
      "text/plain": [
       "<IPython.core.display.HTML object>"
      ]
     },
     "metadata": {},
     "output_type": "display_data"
    },
    {
     "data": {
      "application/vnd.jupyter.widget-view+json": {
       "model_id": "31828542b1034288ba15b38063b79864",
       "version_major": 2,
       "version_minor": 0
      },
      "text/plain": [
       "VBox(children=(Label(value='Waiting for wandb.init()...\\r'), FloatProgress(value=0.016700036116666674, max=1.0…"
      ]
     },
     "metadata": {},
     "output_type": "display_data"
    },
    {
     "data": {
      "text/html": [
       "Tracking run with wandb version 0.13.9"
      ],
      "text/plain": [
       "<IPython.core.display.HTML object>"
      ]
     },
     "metadata": {},
     "output_type": "display_data"
    },
    {
     "data": {
      "text/html": [
       "Run data is saved locally in <code>/Users/simon/new-orleans/notebooks/exploratory/wandb/run-20230202_220206-1h6an5to</code>"
      ],
      "text/plain": [
       "<IPython.core.display.HTML object>"
      ]
     },
     "metadata": {},
     "output_type": "display_data"
    },
    {
     "data": {
      "text/html": [
       "Syncing run <strong><a href=\"https://wandb.ai/sdat2/6D_individual/runs/1h6an5to\" target=\"_blank\">sparkling-wish-6</a></strong> to <a href=\"https://wandb.ai/sdat2/6D_individual\" target=\"_blank\">Weights & Biases</a> (<a href=\"https://wandb.me/run\" target=\"_blank\">docs</a>)<br/>"
      ],
      "text/plain": [
       "<IPython.core.display.HTML object>"
      ]
     },
     "metadata": {},
     "output_type": "display_data"
    },
    {
     "data": {
      "text/html": [
       " View project at <a href=\"https://wandb.ai/sdat2/6D_individual\" target=\"_blank\">https://wandb.ai/sdat2/6D_individual</a>"
      ],
      "text/plain": [
       "<IPython.core.display.HTML object>"
      ]
     },
     "metadata": {},
     "output_type": "display_data"
    },
    {
     "data": {
      "text/html": [
       " View run at <a href=\"https://wandb.ai/sdat2/6D_individual/runs/1h6an5to\" target=\"_blank\">https://wandb.ai/sdat2/6D_individual/runs/1h6an5to</a>"
      ],
      "text/plain": [
       "<IPython.core.display.HTML object>"
      ]
     },
     "metadata": {},
     "output_type": "display_data"
    },
    {
     "name": "stdout",
     "output_type": "stream",
     "text": [
      "<class 'list'>\n",
      "<xarray.Dataset>\n",
      "Dimensions:  (lat: 46, lon: 60, time: 1)\n",
      "Coordinates:\n",
      "  * lat      (lat) float64 28.6 28.65 28.7 28.75 28.8 ... 30.7 30.75 30.8 30.85\n",
      "  * lon      (lon) float64 -90.28 -90.23 -90.18 -90.13 ... -87.43 -87.38 -87.33\n",
      "  * time     (time) datetime64[ns] 2005-08-25\n",
      "Data variables:\n",
      "    U10      (time, lat, lon) float64 -0.252 -0.2514 -0.2508 ... -0.3125 -0.3117\n",
      "    V10      (time, lat, lon) float64 1.875 1.873 1.871 ... 1.741 1.739 1.737\n",
      "'prepare_run'  33.96654 s \n",
      "\n",
      "<class 'list'>\n",
      "<xarray.Dataset>\n",
      "Dimensions:  (lat: 100, lon: 100, time: 1)\n",
      "Coordinates:\n",
      "  * lat      (lat) float64 17.0 17.25 17.5 17.75 18.0 ... 41.0 41.25 41.5 41.75\n",
      "  * lon      (lon) float64 -99.0 -98.75 -98.5 -98.25 ... -74.75 -74.5 -74.25\n",
      "  * time     (time) datetime64[ns] 2005-08-25\n",
      "Data variables:\n",
      "    U10      (time, lat, lon) float64 0.4911 0.4835 0.476 ... -0.4403 -0.4369\n",
      "    V10      (time, lat, lon) float64 2.237 2.221 2.205 ... 1.304 1.3 1.296\n",
      "'prepare_run'  02 min 00 s \n",
      "\n",
      "<class 'list'>\n",
      "<xarray.Dataset>\n",
      "Dimensions:  (lat: 46, lon: 60, time: 1)\n",
      "Coordinates:\n",
      "  * lat      (lat) float64 25.75 25.9 26.05 26.2 26.35 ... 32.05 32.2 32.35 32.5\n",
      "  * lon      (lon) float64 -92.2 -92.05 -91.9 -91.75 ... -83.65 -83.5 -83.35\n",
      "  * time     (time) datetime64[ns] 2005-08-25\n",
      "Data variables:\n",
      "    U10      (time, lat, lon) float64 -0.1244 -0.1234 ... -0.3201 -0.3181\n",
      "    V10      (time, lat, lon) float64 1.977 1.969 1.961 ... 1.598 1.594 1.589\n",
      "'prepare_run'  33.35798 s \n",
      "\n",
      "'create_inputs'  03 min 08 s \n",
      "\n"
     ]
    },
    {
     "name": "stderr",
     "output_type": "stream",
     "text": [
      "Sweep, dryrun=False:   2%|▏         | 5/250 [41:45<34:05:37, 500.97s/it]"
     ]
    },
    {
     "name": "stdout",
     "output_type": "stream",
     "text": [
      "'run_adcirc'  04 min 54 s \n",
      "\n",
      "height =   2.993828484869702 m\n"
     ]
    },
    {
     "data": {
      "text/html": [
       "Finishing last run (ID:1h6an5to) before initializing another..."
      ],
      "text/plain": [
       "<IPython.core.display.HTML object>"
      ]
     },
     "metadata": {},
     "output_type": "display_data"
    },
    {
     "data": {
      "text/html": [
       "Waiting for W&B process to finish... <strong style=\"color:green\">(success).</strong>"
      ],
      "text/plain": [
       "<IPython.core.display.HTML object>"
      ]
     },
     "metadata": {},
     "output_type": "display_data"
    },
    {
     "data": {
      "text/html": [
       "<style>\n",
       "    table.wandb td:nth-child(1) { padding: 0 10px; text-align: left ; width: auto;} td:nth-child(2) {text-align: left ; width: 100%}\n",
       "    .wandb-row { display: flex; flex-direction: row; flex-wrap: wrap; justify-content: flex-start; width: 100% }\n",
       "    .wandb-col { display: flex; flex-direction: column; flex-basis: 100%; flex: 1; padding: 10px; }\n",
       "    </style>\n",
       "<div class=\"wandb-row\"><div class=\"wandb-col\"><h3>Run history:</h3><br/><table class=\"wandb\"><tr><td>angle</td><td>▁</td></tr><tr><td>height</td><td>▁</td></tr><tr><td>pc</td><td>▁</td></tr><tr><td>point_east</td><td>▁</td></tr><tr><td>rmax</td><td>▁</td></tr><tr><td>speed</td><td>▁</td></tr><tr><td>vmax</td><td>▁</td></tr><tr><td>xn</td><td>▁</td></tr></table><br/></div><div class=\"wandb-col\"><h3>Run summary:</h3><br/><table class=\"wandb\"><tr><td>angle</td><td>80.28</td></tr><tr><td>height</td><td>2.99383</td></tr><tr><td>pc</td><td>90303.99999</td></tr><tr><td>point_east</td><td>-0.546</td></tr><tr><td>rmax</td><td>36219.99848</td></tr><tr><td>speed</td><td>10.964</td></tr><tr><td>vmax</td><td>54.01667</td></tr><tr><td>xn</td><td>1.346</td></tr></table><br/></div></div>"
      ],
      "text/plain": [
       "<IPython.core.display.HTML object>"
      ]
     },
     "metadata": {},
     "output_type": "display_data"
    },
    {
     "data": {
      "text/html": [
       " View run <strong style=\"color:#cdcd00\">sparkling-wish-6</strong> at: <a href=\"https://wandb.ai/sdat2/6D_individual/runs/1h6an5to\" target=\"_blank\">https://wandb.ai/sdat2/6D_individual/runs/1h6an5to</a><br/>Synced 7 W&B file(s), 0 media file(s), 0 artifact file(s) and 1 other file(s)"
      ],
      "text/plain": [
       "<IPython.core.display.HTML object>"
      ]
     },
     "metadata": {},
     "output_type": "display_data"
    },
    {
     "data": {
      "text/html": [
       "Find logs at: <code>./wandb/run-20230202_220206-1h6an5to/logs</code>"
      ],
      "text/plain": [
       "<IPython.core.display.HTML object>"
      ]
     },
     "metadata": {},
     "output_type": "display_data"
    },
    {
     "data": {
      "text/html": [
       "Successfully finished last run (ID:1h6an5to). Initializing new run:<br/>"
      ],
      "text/plain": [
       "<IPython.core.display.HTML object>"
      ]
     },
     "metadata": {},
     "output_type": "display_data"
    },
    {
     "data": {
      "application/vnd.jupyter.widget-view+json": {
       "model_id": "664c7c07dfb84d70a70f104cf9c7ce7c",
       "version_major": 2,
       "version_minor": 0
      },
      "text/plain": [
       "VBox(children=(Label(value='Waiting for wandb.init()...\\r'), FloatProgress(value=0.01668585693333474, max=1.0)…"
      ]
     },
     "metadata": {},
     "output_type": "display_data"
    },
    {
     "data": {
      "text/html": [
       "Tracking run with wandb version 0.13.9"
      ],
      "text/plain": [
       "<IPython.core.display.HTML object>"
      ]
     },
     "metadata": {},
     "output_type": "display_data"
    },
    {
     "data": {
      "text/html": [
       "Run data is saved locally in <code>/Users/simon/new-orleans/notebooks/exploratory/wandb/run-20230202_221024-wvc1r9g9</code>"
      ],
      "text/plain": [
       "<IPython.core.display.HTML object>"
      ]
     },
     "metadata": {},
     "output_type": "display_data"
    },
    {
     "data": {
      "text/html": [
       "Syncing run <strong><a href=\"https://wandb.ai/sdat2/6D_individual/runs/wvc1r9g9\" target=\"_blank\">festive-snake-7</a></strong> to <a href=\"https://wandb.ai/sdat2/6D_individual\" target=\"_blank\">Weights & Biases</a> (<a href=\"https://wandb.me/run\" target=\"_blank\">docs</a>)<br/>"
      ],
      "text/plain": [
       "<IPython.core.display.HTML object>"
      ]
     },
     "metadata": {},
     "output_type": "display_data"
    },
    {
     "data": {
      "text/html": [
       " View project at <a href=\"https://wandb.ai/sdat2/6D_individual\" target=\"_blank\">https://wandb.ai/sdat2/6D_individual</a>"
      ],
      "text/plain": [
       "<IPython.core.display.HTML object>"
      ]
     },
     "metadata": {},
     "output_type": "display_data"
    },
    {
     "data": {
      "text/html": [
       " View run at <a href=\"https://wandb.ai/sdat2/6D_individual/runs/wvc1r9g9\" target=\"_blank\">https://wandb.ai/sdat2/6D_individual/runs/wvc1r9g9</a>"
      ],
      "text/plain": [
       "<IPython.core.display.HTML object>"
      ]
     },
     "metadata": {},
     "output_type": "display_data"
    },
    {
     "name": "stdout",
     "output_type": "stream",
     "text": [
      "<class 'list'>\n",
      "<xarray.Dataset>\n",
      "Dimensions:  (lat: 46, lon: 60, time: 1)\n",
      "Coordinates:\n",
      "  * lat      (lat) float64 28.6 28.65 28.7 28.75 28.8 ... 30.7 30.75 30.8 30.85\n",
      "  * lon      (lon) float64 -90.28 -90.23 -90.18 -90.13 ... -87.43 -87.38 -87.33\n",
      "  * time     (time) datetime64[ns] 2005-08-25\n",
      "Data variables:\n",
      "    U10      (time, lat, lon) float64 -0.2047 -0.2047 ... -0.1889 -0.1889\n",
      "    V10      (time, lat, lon) float64 0.007612 0.007881 ... 0.02025 0.02048\n",
      "'prepare_run'  33.80364 s \n",
      "\n",
      "<class 'list'>\n",
      "<xarray.Dataset>\n",
      "Dimensions:  (lat: 100, lon: 100, time: 1)\n",
      "Coordinates:\n",
      "  * lat      (lat) float64 17.0 17.25 17.5 17.75 18.0 ... 41.0 41.25 41.5 41.75\n",
      "  * lon      (lon) float64 -99.0 -98.75 -98.5 -98.25 ... -74.75 -74.5 -74.25\n",
      "  * time     (time) datetime64[ns] 2005-08-25\n",
      "Data variables:\n",
      "    U10      (time, lat, lon) float64 -0.2939 -0.2955 -0.297 ... -0.1283 -0.128\n",
      "    V10      (time, lat, lon) float64 -0.08139 -0.07902 ... 0.04314 0.04364\n",
      "'prepare_run'  01 min 59 s \n",
      "\n",
      "<class 'list'>\n",
      "<xarray.Dataset>\n",
      "Dimensions:  (lat: 46, lon: 60, time: 1)\n",
      "Coordinates:\n",
      "  * lat      (lat) float64 25.75 25.9 26.05 26.2 26.35 ... 32.05 32.2 32.35 32.5\n",
      "  * lon      (lon) float64 -92.2 -92.05 -91.9 -91.75 ... -83.65 -83.5 -83.35\n",
      "  * time     (time) datetime64[ns] 2005-08-25\n",
      "Data variables:\n",
      "    U10      (time, lat, lon) float64 -0.2253 -0.2253 ... -0.1751 -0.1748\n",
      "    V10      (time, lat, lon) float64 -0.003252 -0.00229 ... 0.03424 0.03482\n",
      "'prepare_run'  33.41662 s \n",
      "\n",
      "'create_inputs'  03 min 07 s \n",
      "\n"
     ]
    },
    {
     "name": "stderr",
     "output_type": "stream",
     "text": [
      "Sweep, dryrun=False:   2%|▏         | 6/250 [50:04<33:54:57, 500.40s/it]"
     ]
    },
    {
     "name": "stdout",
     "output_type": "stream",
     "text": [
      "'run_adcirc'  04 min 56 s \n",
      "\n",
      "height =   2.024261181858536 m\n"
     ]
    },
    {
     "data": {
      "text/html": [
       "Finishing last run (ID:wvc1r9g9) before initializing another..."
      ],
      "text/plain": [
       "<IPython.core.display.HTML object>"
      ]
     },
     "metadata": {},
     "output_type": "display_data"
    },
    {
     "data": {
      "text/html": [
       "Waiting for W&B process to finish... <strong style=\"color:green\">(success).</strong>"
      ],
      "text/plain": [
       "<IPython.core.display.HTML object>"
      ]
     },
     "metadata": {},
     "output_type": "display_data"
    },
    {
     "data": {
      "application/vnd.jupyter.widget-view+json": {
       "model_id": "13c6b9671cbf4017b71ae15fe3e5207e",
       "version_major": 2,
       "version_minor": 0
      },
      "text/plain": [
       "VBox(children=(Label(value='0.017 MB of 0.017 MB uploaded (0.000 MB deduped)\\r'), FloatProgress(value=1.0, max…"
      ]
     },
     "metadata": {},
     "output_type": "display_data"
    },
    {
     "data": {
      "text/html": [
       "<style>\n",
       "    table.wandb td:nth-child(1) { padding: 0 10px; text-align: left ; width: auto;} td:nth-child(2) {text-align: left ; width: 100%}\n",
       "    .wandb-row { display: flex; flex-direction: row; flex-wrap: wrap; justify-content: flex-start; width: 100% }\n",
       "    .wandb-col { display: flex; flex-direction: column; flex-basis: 100%; flex: 1; padding: 10px; }\n",
       "    </style>\n",
       "<div class=\"wandb-row\"><div class=\"wandb-col\"><h3>Run history:</h3><br/><table class=\"wandb\"><tr><td>angle</td><td>▁</td></tr><tr><td>height</td><td>▁</td></tr><tr><td>pc</td><td>▁</td></tr><tr><td>point_east</td><td>▁</td></tr><tr><td>rmax</td><td>▁</td></tr><tr><td>speed</td><td>▁</td></tr><tr><td>vmax</td><td>▁</td></tr><tr><td>xn</td><td>▁</td></tr></table><br/></div><div class=\"wandb-col\"><h3>Run summary:</h3><br/><table class=\"wandb\"><tr><td>angle</td><td>3.24</td></tr><tr><td>height</td><td>2.02426</td></tr><tr><td>pc</td><td>95392.0002</td></tr><tr><td>point_east</td><td>0.606</td></tr><tr><td>rmax</td><td>20908.00029</td></tr><tr><td>speed</td><td>11.252</td></tr><tr><td>vmax</td><td>54.01667</td></tr><tr><td>xn</td><td>0.8564</td></tr></table><br/></div></div>"
      ],
      "text/plain": [
       "<IPython.core.display.HTML object>"
      ]
     },
     "metadata": {},
     "output_type": "display_data"
    },
    {
     "data": {
      "text/html": [
       " View run <strong style=\"color:#cdcd00\">festive-snake-7</strong> at: <a href=\"https://wandb.ai/sdat2/6D_individual/runs/wvc1r9g9\" target=\"_blank\">https://wandb.ai/sdat2/6D_individual/runs/wvc1r9g9</a><br/>Synced 7 W&B file(s), 0 media file(s), 0 artifact file(s) and 0 other file(s)"
      ],
      "text/plain": [
       "<IPython.core.display.HTML object>"
      ]
     },
     "metadata": {},
     "output_type": "display_data"
    },
    {
     "data": {
      "text/html": [
       "Find logs at: <code>./wandb/run-20230202_221024-wvc1r9g9/logs</code>"
      ],
      "text/plain": [
       "<IPython.core.display.HTML object>"
      ]
     },
     "metadata": {},
     "output_type": "display_data"
    },
    {
     "data": {
      "text/html": [
       "Successfully finished last run (ID:wvc1r9g9). Initializing new run:<br/>"
      ],
      "text/plain": [
       "<IPython.core.display.HTML object>"
      ]
     },
     "metadata": {},
     "output_type": "display_data"
    },
    {
     "data": {
      "application/vnd.jupyter.widget-view+json": {
       "model_id": "8d5564a3a3da42e1b8d06271b37dae31",
       "version_major": 2,
       "version_minor": 0
      },
      "text/plain": [
       "VBox(children=(Label(value='Waiting for wandb.init()...\\r'), FloatProgress(value=0.016725840966667724, max=1.0…"
      ]
     },
     "metadata": {},
     "output_type": "display_data"
    },
    {
     "data": {
      "text/html": [
       "Tracking run with wandb version 0.13.9"
      ],
      "text/plain": [
       "<IPython.core.display.HTML object>"
      ]
     },
     "metadata": {},
     "output_type": "display_data"
    },
    {
     "data": {
      "text/html": [
       "Run data is saved locally in <code>/Users/simon/new-orleans/notebooks/exploratory/wandb/run-20230202_221843-v9tj4954</code>"
      ],
      "text/plain": [
       "<IPython.core.display.HTML object>"
      ]
     },
     "metadata": {},
     "output_type": "display_data"
    },
    {
     "data": {
      "text/html": [
       "Syncing run <strong><a href=\"https://wandb.ai/sdat2/6D_individual/runs/v9tj4954\" target=\"_blank\">dazzling-pig-8</a></strong> to <a href=\"https://wandb.ai/sdat2/6D_individual\" target=\"_blank\">Weights & Biases</a> (<a href=\"https://wandb.me/run\" target=\"_blank\">docs</a>)<br/>"
      ],
      "text/plain": [
       "<IPython.core.display.HTML object>"
      ]
     },
     "metadata": {},
     "output_type": "display_data"
    },
    {
     "data": {
      "text/html": [
       " View project at <a href=\"https://wandb.ai/sdat2/6D_individual\" target=\"_blank\">https://wandb.ai/sdat2/6D_individual</a>"
      ],
      "text/plain": [
       "<IPython.core.display.HTML object>"
      ]
     },
     "metadata": {},
     "output_type": "display_data"
    },
    {
     "data": {
      "text/html": [
       " View run at <a href=\"https://wandb.ai/sdat2/6D_individual/runs/v9tj4954\" target=\"_blank\">https://wandb.ai/sdat2/6D_individual/runs/v9tj4954</a>"
      ],
      "text/plain": [
       "<IPython.core.display.HTML object>"
      ]
     },
     "metadata": {},
     "output_type": "display_data"
    },
    {
     "name": "stdout",
     "output_type": "stream",
     "text": [
      "<class 'list'>\n",
      "<xarray.Dataset>\n",
      "Dimensions:  (lat: 46, lon: 60, time: 1)\n",
      "Coordinates:\n",
      "  * lat      (lat) float64 28.6 28.65 28.7 28.75 28.8 ... 30.7 30.75 30.8 30.85\n",
      "  * lon      (lon) float64 -90.28 -90.23 -90.18 -90.13 ... -87.43 -87.38 -87.33\n",
      "  * time     (time) datetime64[ns] 2005-08-25\n",
      "Data variables:\n",
      "    U10      (time, lat, lon) float64 -0.001758 -0.00176 ... -0.001239 -0.001238\n",
      "    V10      (time, lat, lon) float64 -0.0002015 -0.0001961 ... 7.852e-05\n",
      "'prepare_run'  34.07513 s \n",
      "\n",
      "<class 'list'>\n",
      "<xarray.Dataset>\n",
      "Dimensions:  (lat: 100, lon: 100, time: 1)\n",
      "Coordinates:\n",
      "  * lat      (lat) float64 17.0 17.25 17.5 17.75 18.0 ... 41.0 41.25 41.5 41.75\n",
      "  * lon      (lon) float64 -99.0 -98.75 -98.5 -98.25 ... -74.75 -74.5 -74.25\n",
      "  * time     (time) datetime64[ns] 2005-08-25\n",
      "Data variables:\n",
      "    U10      (time, lat, lon) float64 -0.001778 -0.00192 ... -0.0002429\n",
      "    V10      (time, lat, lon) float64 -0.004491 -0.004735 ... 0.0001195\n",
      "'prepare_run'  02 min 00 s \n",
      "\n",
      "<class 'list'>\n",
      "<xarray.Dataset>\n",
      "Dimensions:  (lat: 46, lon: 60, time: 1)\n",
      "Coordinates:\n",
      "  * lat      (lat) float64 25.75 25.9 26.05 26.2 26.35 ... 32.05 32.2 32.35 32.5\n",
      "  * lon      (lon) float64 -92.2 -92.05 -91.9 -91.75 ... -83.65 -83.5 -83.35\n",
      "  * time     (time) datetime64[ns] 2005-08-25\n",
      "Data variables:\n",
      "    U10      (time, lat, lon) float64 -0.002704 -0.002733 ... -0.0008795\n",
      "    V10      (time, lat, lon) float64 -0.0007805 -0.0007569 ... 0.0002291\n",
      "'prepare_run'  33.53184 s \n",
      "\n",
      "'create_inputs'  03 min 08 s \n",
      "\n"
     ]
    },
    {
     "name": "stderr",
     "output_type": "stream",
     "text": [
      "Sweep, dryrun=False:   3%|▎         | 7/250 [58:24<33:45:16, 500.07s/it]"
     ]
    },
    {
     "name": "stdout",
     "output_type": "stream",
     "text": [
      "'run_adcirc'  04 min 56 s \n",
      "\n",
      "height =   0.5516619780757411 m\n"
     ]
    },
    {
     "data": {
      "text/html": [
       "Finishing last run (ID:v9tj4954) before initializing another..."
      ],
      "text/plain": [
       "<IPython.core.display.HTML object>"
      ]
     },
     "metadata": {},
     "output_type": "display_data"
    },
    {
     "data": {
      "text/html": [
       "Waiting for W&B process to finish... <strong style=\"color:green\">(success).</strong>"
      ],
      "text/plain": [
       "<IPython.core.display.HTML object>"
      ]
     },
     "metadata": {},
     "output_type": "display_data"
    },
    {
     "data": {
      "text/html": [
       "<style>\n",
       "    table.wandb td:nth-child(1) { padding: 0 10px; text-align: left ; width: auto;} td:nth-child(2) {text-align: left ; width: 100%}\n",
       "    .wandb-row { display: flex; flex-direction: row; flex-wrap: wrap; justify-content: flex-start; width: 100% }\n",
       "    .wandb-col { display: flex; flex-direction: column; flex-basis: 100%; flex: 1; padding: 10px; }\n",
       "    </style>\n",
       "<div class=\"wandb-row\"><div class=\"wandb-col\"><h3>Run history:</h3><br/><table class=\"wandb\"><tr><td>angle</td><td>▁</td></tr><tr><td>height</td><td>▁</td></tr><tr><td>pc</td><td>▁</td></tr><tr><td>point_east</td><td>▁</td></tr><tr><td>rmax</td><td>▁</td></tr><tr><td>speed</td><td>▁</td></tr><tr><td>vmax</td><td>▁</td></tr><tr><td>xn</td><td>▁</td></tr></table><br/></div><div class=\"wandb-col\"><h3>Run summary:</h3><br/><table class=\"wandb\"><tr><td>angle</td><td>-6.12</td></tr><tr><td>height</td><td>0.55166</td></tr><tr><td>pc</td><td>97791.99982</td></tr><tr><td>point_east</td><td>-0.2364</td></tr><tr><td>rmax</td><td>27171.99916</td></tr><tr><td>speed</td><td>4.916</td></tr><tr><td>vmax</td><td>54.01667</td></tr><tr><td>xn</td><td>1.1084</td></tr></table><br/></div></div>"
      ],
      "text/plain": [
       "<IPython.core.display.HTML object>"
      ]
     },
     "metadata": {},
     "output_type": "display_data"
    },
    {
     "data": {
      "text/html": [
       " View run <strong style=\"color:#cdcd00\">dazzling-pig-8</strong> at: <a href=\"https://wandb.ai/sdat2/6D_individual/runs/v9tj4954\" target=\"_blank\">https://wandb.ai/sdat2/6D_individual/runs/v9tj4954</a><br/>Synced 7 W&B file(s), 0 media file(s), 0 artifact file(s) and 1 other file(s)"
      ],
      "text/plain": [
       "<IPython.core.display.HTML object>"
      ]
     },
     "metadata": {},
     "output_type": "display_data"
    },
    {
     "data": {
      "text/html": [
       "Find logs at: <code>./wandb/run-20230202_221843-v9tj4954/logs</code>"
      ],
      "text/plain": [
       "<IPython.core.display.HTML object>"
      ]
     },
     "metadata": {},
     "output_type": "display_data"
    },
    {
     "data": {
      "text/html": [
       "Successfully finished last run (ID:v9tj4954). Initializing new run:<br/>"
      ],
      "text/plain": [
       "<IPython.core.display.HTML object>"
      ]
     },
     "metadata": {},
     "output_type": "display_data"
    },
    {
     "data": {
      "application/vnd.jupyter.widget-view+json": {
       "model_id": "130d961ac27f480f94e1d12c52398f49",
       "version_major": 2,
       "version_minor": 0
      },
      "text/plain": [
       "VBox(children=(Label(value='Waiting for wandb.init()...\\r'), FloatProgress(value=0.01675199791667031, max=1.0)…"
      ]
     },
     "metadata": {},
     "output_type": "display_data"
    },
    {
     "data": {
      "text/html": [
       "Tracking run with wandb version 0.13.9"
      ],
      "text/plain": [
       "<IPython.core.display.HTML object>"
      ]
     },
     "metadata": {},
     "output_type": "display_data"
    },
    {
     "data": {
      "text/html": [
       "Run data is saved locally in <code>/Users/simon/new-orleans/notebooks/exploratory/wandb/run-20230202_222703-q26jpst1</code>"
      ],
      "text/plain": [
       "<IPython.core.display.HTML object>"
      ]
     },
     "metadata": {},
     "output_type": "display_data"
    },
    {
     "data": {
      "text/html": [
       "Syncing run <strong><a href=\"https://wandb.ai/sdat2/6D_individual/runs/q26jpst1\" target=\"_blank\">red-dragon-9</a></strong> to <a href=\"https://wandb.ai/sdat2/6D_individual\" target=\"_blank\">Weights & Biases</a> (<a href=\"https://wandb.me/run\" target=\"_blank\">docs</a>)<br/>"
      ],
      "text/plain": [
       "<IPython.core.display.HTML object>"
      ]
     },
     "metadata": {},
     "output_type": "display_data"
    },
    {
     "data": {
      "text/html": [
       " View project at <a href=\"https://wandb.ai/sdat2/6D_individual\" target=\"_blank\">https://wandb.ai/sdat2/6D_individual</a>"
      ],
      "text/plain": [
       "<IPython.core.display.HTML object>"
      ]
     },
     "metadata": {},
     "output_type": "display_data"
    },
    {
     "data": {
      "text/html": [
       " View run at <a href=\"https://wandb.ai/sdat2/6D_individual/runs/q26jpst1\" target=\"_blank\">https://wandb.ai/sdat2/6D_individual/runs/q26jpst1</a>"
      ],
      "text/plain": [
       "<IPython.core.display.HTML object>"
      ]
     },
     "metadata": {},
     "output_type": "display_data"
    },
    {
     "name": "stdout",
     "output_type": "stream",
     "text": [
      "<class 'list'>\n",
      "<xarray.Dataset>\n",
      "Dimensions:  (lat: 46, lon: 60, time: 1)\n",
      "Coordinates:\n",
      "  * lat      (lat) float64 28.6 28.65 28.7 28.75 28.8 ... 30.7 30.75 30.8 30.85\n",
      "  * lon      (lon) float64 -90.28 -90.23 -90.18 -90.13 ... -87.43 -87.38 -87.33\n",
      "  * time     (time) datetime64[ns] 2005-08-25\n",
      "Data variables:\n",
      "    U10      (time, lat, lon) float64 -6.876 -6.898 -6.921 ... -7.844 -7.861\n",
      "    V10      (time, lat, lon) float64 -5.798 -5.788 -5.778 ... -4.007 -3.988\n",
      "'prepare_run'  34.05857 s \n",
      "\n",
      "<class 'list'>\n",
      "<xarray.Dataset>\n",
      "Dimensions:  (lat: 100, lon: 100, time: 1)\n",
      "Coordinates:\n",
      "  * lat      (lat) float64 17.0 17.25 17.5 17.75 18.0 ... 41.0 41.25 41.5 41.75\n",
      "  * lon      (lon) float64 -99.0 -98.75 -98.5 -98.25 ... -74.75 -74.5 -74.25\n",
      "  * time     (time) datetime64[ns] 2005-08-25\n",
      "Data variables:\n",
      "    U10      (time, lat, lon) float64 -0.248 -0.2536 -0.2593 ... -6.248 -6.228\n",
      "    V10      (time, lat, lon) float64 -8.061 -8.132 -8.204 ... 1.3 1.358 1.415\n",
      "'prepare_run'  01 min 59 s \n",
      "\n",
      "<class 'list'>\n",
      "<xarray.Dataset>\n",
      "Dimensions:  (lat: 46, lon: 60, time: 1)\n",
      "Coordinates:\n",
      "  * lat      (lat) float64 25.75 25.9 26.05 26.2 26.35 ... 32.05 32.2 32.35 32.5\n",
      "  * lon      (lon) float64 -92.2 -92.05 -91.9 -91.75 ... -83.65 -83.5 -83.35\n",
      "  * time     (time) datetime64[ns] 2005-08-25\n",
      "Data variables:\n",
      "    U10      (time, lat, lon) float64 -5.643 -5.715 -5.787 ... -8.444 -8.469\n",
      "    V10      (time, lat, lon) float64 -7.372 -7.374 -7.374 ... -1.834 -1.76\n",
      "'prepare_run'  33.32192 s \n",
      "\n",
      "'create_inputs'  03 min 07 s \n",
      "\n"
     ]
    },
    {
     "name": "stderr",
     "output_type": "stream",
     "text": [
      "Sweep, dryrun=False:   3%|▎         | 8/250 [1:05:56<32:35:40, 484.88s/it]"
     ]
    },
    {
     "name": "stdout",
     "output_type": "stream",
     "text": [
      "'run_adcirc'  04 min 08 s \n",
      "\n",
      "height =   7.388702863944456 m\n"
     ]
    },
    {
     "data": {
      "text/html": [
       "Finishing last run (ID:q26jpst1) before initializing another..."
      ],
      "text/plain": [
       "<IPython.core.display.HTML object>"
      ]
     },
     "metadata": {},
     "output_type": "display_data"
    },
    {
     "data": {
      "text/html": [
       "Waiting for W&B process to finish... <strong style=\"color:green\">(success).</strong>"
      ],
      "text/plain": [
       "<IPython.core.display.HTML object>"
      ]
     },
     "metadata": {},
     "output_type": "display_data"
    },
    {
     "data": {
      "application/vnd.jupyter.widget-view+json": {
       "model_id": "c15f9ec1110049e796b1c6c42b56043a",
       "version_major": 2,
       "version_minor": 0
      },
      "text/plain": [
       "VBox(children=(Label(value='0.033 MB of 0.033 MB uploaded (0.000 MB deduped)\\r'), FloatProgress(value=1.0, max…"
      ]
     },
     "metadata": {},
     "output_type": "display_data"
    },
    {
     "data": {
      "text/html": [
       "<style>\n",
       "    table.wandb td:nth-child(1) { padding: 0 10px; text-align: left ; width: auto;} td:nth-child(2) {text-align: left ; width: 100%}\n",
       "    .wandb-row { display: flex; flex-direction: row; flex-wrap: wrap; justify-content: flex-start; width: 100% }\n",
       "    .wandb-col { display: flex; flex-direction: column; flex-basis: 100%; flex: 1; padding: 10px; }\n",
       "    </style>\n",
       "<div class=\"wandb-row\"><div class=\"wandb-col\"><h3>Run history:</h3><br/><table class=\"wandb\"><tr><td>angle</td><td>▁</td></tr><tr><td>height</td><td>▁</td></tr><tr><td>pc</td><td>▁</td></tr><tr><td>point_east</td><td>▁</td></tr><tr><td>rmax</td><td>▁</td></tr><tr><td>speed</td><td>▁</td></tr><tr><td>vmax</td><td>▁</td></tr><tr><td>xn</td><td>▁</td></tr></table><br/></div><div class=\"wandb-col\"><h3>Run summary:</h3><br/><table class=\"wandb\"><tr><td>angle</td><td>-37.08</td></tr><tr><td>height</td><td>7.3887</td></tr><tr><td>pc</td><td>90688.00002</td></tr><tr><td>point_east</td><td>-0.1644</td></tr><tr><td>rmax</td><td>38075.99878</td></tr><tr><td>speed</td><td>4.844</td></tr><tr><td>vmax</td><td>54.01667</td></tr><tr><td>xn</td><td>0.9044</td></tr></table><br/></div></div>"
      ],
      "text/plain": [
       "<IPython.core.display.HTML object>"
      ]
     },
     "metadata": {},
     "output_type": "display_data"
    },
    {
     "data": {
      "text/html": [
       " View run <strong style=\"color:#cdcd00\">red-dragon-9</strong> at: <a href=\"https://wandb.ai/sdat2/6D_individual/runs/q26jpst1\" target=\"_blank\">https://wandb.ai/sdat2/6D_individual/runs/q26jpst1</a><br/>Synced 7 W&B file(s), 0 media file(s), 0 artifact file(s) and 0 other file(s)"
      ],
      "text/plain": [
       "<IPython.core.display.HTML object>"
      ]
     },
     "metadata": {},
     "output_type": "display_data"
    },
    {
     "data": {
      "text/html": [
       "Find logs at: <code>./wandb/run-20230202_222703-q26jpst1/logs</code>"
      ],
      "text/plain": [
       "<IPython.core.display.HTML object>"
      ]
     },
     "metadata": {},
     "output_type": "display_data"
    },
    {
     "data": {
      "text/html": [
       "Successfully finished last run (ID:q26jpst1). Initializing new run:<br/>"
      ],
      "text/plain": [
       "<IPython.core.display.HTML object>"
      ]
     },
     "metadata": {},
     "output_type": "display_data"
    },
    {
     "data": {
      "application/vnd.jupyter.widget-view+json": {
       "model_id": "6292be75b29c4f91a2dacae015b88473",
       "version_major": 2,
       "version_minor": 0
      },
      "text/plain": [
       "VBox(children=(Label(value='Waiting for wandb.init()...\\r'), FloatProgress(value=0.01667754929999319, max=1.0)…"
      ]
     },
     "metadata": {},
     "output_type": "display_data"
    },
    {
     "data": {
      "text/html": [
       "Tracking run with wandb version 0.13.9"
      ],
      "text/plain": [
       "<IPython.core.display.HTML object>"
      ]
     },
     "metadata": {},
     "output_type": "display_data"
    },
    {
     "data": {
      "text/html": [
       "Run data is saved locally in <code>/Users/simon/new-orleans/notebooks/exploratory/wandb/run-20230202_223435-ycvay82t</code>"
      ],
      "text/plain": [
       "<IPython.core.display.HTML object>"
      ]
     },
     "metadata": {},
     "output_type": "display_data"
    },
    {
     "data": {
      "text/html": [
       "Syncing run <strong><a href=\"https://wandb.ai/sdat2/6D_individual/runs/ycvay82t\" target=\"_blank\">dancing-firecracker-11</a></strong> to <a href=\"https://wandb.ai/sdat2/6D_individual\" target=\"_blank\">Weights & Biases</a> (<a href=\"https://wandb.me/run\" target=\"_blank\">docs</a>)<br/>"
      ],
      "text/plain": [
       "<IPython.core.display.HTML object>"
      ]
     },
     "metadata": {},
     "output_type": "display_data"
    },
    {
     "data": {
      "text/html": [
       " View project at <a href=\"https://wandb.ai/sdat2/6D_individual\" target=\"_blank\">https://wandb.ai/sdat2/6D_individual</a>"
      ],
      "text/plain": [
       "<IPython.core.display.HTML object>"
      ]
     },
     "metadata": {},
     "output_type": "display_data"
    },
    {
     "data": {
      "text/html": [
       " View run at <a href=\"https://wandb.ai/sdat2/6D_individual/runs/ycvay82t\" target=\"_blank\">https://wandb.ai/sdat2/6D_individual/runs/ycvay82t</a>"
      ],
      "text/plain": [
       "<IPython.core.display.HTML object>"
      ]
     },
     "metadata": {},
     "output_type": "display_data"
    },
    {
     "name": "stdout",
     "output_type": "stream",
     "text": [
      "<class 'list'>\n",
      "<xarray.Dataset>\n",
      "Dimensions:  (lat: 46, lon: 60, time: 1)\n",
      "Coordinates:\n",
      "  * lat      (lat) float64 28.6 28.65 28.7 28.75 28.8 ... 30.7 30.75 30.8 30.85\n",
      "  * lon      (lon) float64 -90.28 -90.23 -90.18 -90.13 ... -87.43 -87.38 -87.33\n",
      "  * time     (time) datetime64[ns] 2005-08-25\n",
      "Data variables:\n",
      "    U10      (time, lat, lon) float64 -0.7544 -0.7535 -0.7526 ... -0.552 -0.5509\n",
      "    V10      (time, lat, lon) float64 0.1087 0.1114 0.1139 ... 0.1683 0.1697\n",
      "'prepare_run'  26.38781 s \n",
      "\n",
      "<class 'list'>\n",
      "<xarray.Dataset>\n",
      "Dimensions:  (lat: 100, lon: 100, time: 1)\n",
      "Coordinates:\n",
      "  * lat      (lat) float64 17.0 17.25 17.5 17.75 18.0 ... 41.0 41.25 41.5 41.75\n",
      "  * lon      (lon) float64 -99.0 -98.75 -98.5 -98.25 ... -74.75 -74.5 -74.25\n",
      "  * time     (time) datetime64[ns] 2005-08-25\n",
      "Data variables:\n",
      "    U10      (time, lat, lon) float64 -0.6977 -0.7604 ... -0.1841 -0.1823\n",
      "    V10      (time, lat, lon) float64 -2.164 -2.271 -2.386 ... 0.1215 0.122\n",
      "'prepare_run'  01 min 33 s \n",
      "\n",
      "<class 'list'>\n",
      "<xarray.Dataset>\n",
      "Dimensions:  (lat: 46, lon: 60, time: 1)\n",
      "Coordinates:\n",
      "  * lat      (lat) float64 25.75 25.9 26.05 26.2 26.35 ... 32.05 32.2 32.35 32.5\n",
      "  * lon      (lon) float64 -92.2 -92.05 -91.9 -91.75 ... -83.65 -83.5 -83.35\n",
      "  * time     (time) datetime64[ns] 2005-08-25\n",
      "Data variables:\n",
      "    U10      (time, lat, lon) float64 -1.105 -1.105 -1.104 ... -0.4081 -0.4049\n",
      "    V10      (time, lat, lon) float64 0.006542 0.02171 0.03686 ... 0.2024 0.2043\n",
      "'prepare_run'  26.31004 s \n",
      "\n",
      "'create_inputs'  02 min 26 s \n",
      "\n"
     ]
    },
    {
     "name": "stderr",
     "output_type": "stream",
     "text": [
      "Sweep, dryrun=False:   4%|▎         | 9/250 [1:12:31<30:34:19, 456.68s/it]"
     ]
    },
    {
     "name": "stdout",
     "output_type": "stream",
     "text": [
      "'run_adcirc'  03 min 54 s \n",
      "\n",
      "height =   5.069084995342638 m\n"
     ]
    },
    {
     "data": {
      "text/html": [
       "Finishing last run (ID:ycvay82t) before initializing another..."
      ],
      "text/plain": [
       "<IPython.core.display.HTML object>"
      ]
     },
     "metadata": {},
     "output_type": "display_data"
    },
    {
     "data": {
      "text/html": [
       "Waiting for W&B process to finish... <strong style=\"color:green\">(success).</strong>"
      ],
      "text/plain": [
       "<IPython.core.display.HTML object>"
      ]
     },
     "metadata": {},
     "output_type": "display_data"
    },
    {
     "data": {
      "application/vnd.jupyter.widget-view+json": {
       "model_id": "7db866fbd14f44be9d6c83dbb83f51a2",
       "version_major": 2,
       "version_minor": 0
      },
      "text/plain": [
       "VBox(children=(Label(value='0.041 MB of 0.068 MB uploaded (0.000 MB deduped)\\r'), FloatProgress(value=0.591623…"
      ]
     },
     "metadata": {},
     "output_type": "display_data"
    },
    {
     "data": {
      "text/html": [
       "<style>\n",
       "    table.wandb td:nth-child(1) { padding: 0 10px; text-align: left ; width: auto;} td:nth-child(2) {text-align: left ; width: 100%}\n",
       "    .wandb-row { display: flex; flex-direction: row; flex-wrap: wrap; justify-content: flex-start; width: 100% }\n",
       "    .wandb-col { display: flex; flex-direction: column; flex-basis: 100%; flex: 1; padding: 10px; }\n",
       "    </style>\n",
       "<div class=\"wandb-row\"><div class=\"wandb-col\"><h3>Run history:</h3><br/><table class=\"wandb\"><tr><td>angle</td><td>▁</td></tr><tr><td>height</td><td>▁</td></tr><tr><td>pc</td><td>▁</td></tr><tr><td>point_east</td><td>▁</td></tr><tr><td>rmax</td><td>▁</td></tr><tr><td>speed</td><td>▁</td></tr><tr><td>vmax</td><td>▁</td></tr><tr><td>xn</td><td>▁</td></tr></table><br/></div><div class=\"wandb-col\"><h3>Run summary:</h3><br/><table class=\"wandb\"><tr><td>angle</td><td>11.88</td></tr><tr><td>height</td><td>5.06908</td></tr><tr><td>pc</td><td>96671.99993</td></tr><tr><td>point_east</td><td>0.9876</td></tr><tr><td>rmax</td><td>57099.99931</td></tr><tr><td>speed</td><td>4.412</td></tr><tr><td>vmax</td><td>54.01667</td></tr><tr><td>xn</td><td>0.8444</td></tr></table><br/></div></div>"
      ],
      "text/plain": [
       "<IPython.core.display.HTML object>"
      ]
     },
     "metadata": {},
     "output_type": "display_data"
    },
    {
     "data": {
      "text/html": [
       " View run <strong style=\"color:#cdcd00\">dancing-firecracker-11</strong> at: <a href=\"https://wandb.ai/sdat2/6D_individual/runs/ycvay82t\" target=\"_blank\">https://wandb.ai/sdat2/6D_individual/runs/ycvay82t</a><br/>Synced 7 W&B file(s), 0 media file(s), 0 artifact file(s) and 1 other file(s)"
      ],
      "text/plain": [
       "<IPython.core.display.HTML object>"
      ]
     },
     "metadata": {},
     "output_type": "display_data"
    },
    {
     "data": {
      "text/html": [
       "Find logs at: <code>./wandb/run-20230202_223435-ycvay82t/logs</code>"
      ],
      "text/plain": [
       "<IPython.core.display.HTML object>"
      ]
     },
     "metadata": {},
     "output_type": "display_data"
    },
    {
     "data": {
      "text/html": [
       "Successfully finished last run (ID:ycvay82t). Initializing new run:<br/>"
      ],
      "text/plain": [
       "<IPython.core.display.HTML object>"
      ]
     },
     "metadata": {},
     "output_type": "display_data"
    },
    {
     "data": {
      "application/vnd.jupyter.widget-view+json": {
       "model_id": "e821915433b748a9a5fdb7cae8ed0315",
       "version_major": 2,
       "version_minor": 0
      },
      "text/plain": [
       "VBox(children=(Label(value='Waiting for wandb.init()...\\r'), FloatProgress(value=0.01669136596666855, max=1.0)…"
      ]
     },
     "metadata": {},
     "output_type": "display_data"
    },
    {
     "data": {
      "text/html": [
       "Tracking run with wandb version 0.13.9"
      ],
      "text/plain": [
       "<IPython.core.display.HTML object>"
      ]
     },
     "metadata": {},
     "output_type": "display_data"
    },
    {
     "data": {
      "text/html": [
       "Run data is saved locally in <code>/Users/simon/new-orleans/notebooks/exploratory/wandb/run-20230202_224110-h5fsvjb6</code>"
      ],
      "text/plain": [
       "<IPython.core.display.HTML object>"
      ]
     },
     "metadata": {},
     "output_type": "display_data"
    },
    {
     "data": {
      "text/html": [
       "Syncing run <strong><a href=\"https://wandb.ai/sdat2/6D_individual/runs/h5fsvjb6\" target=\"_blank\">incandescent-noodles-12</a></strong> to <a href=\"https://wandb.ai/sdat2/6D_individual\" target=\"_blank\">Weights & Biases</a> (<a href=\"https://wandb.me/run\" target=\"_blank\">docs</a>)<br/>"
      ],
      "text/plain": [
       "<IPython.core.display.HTML object>"
      ]
     },
     "metadata": {},
     "output_type": "display_data"
    },
    {
     "data": {
      "text/html": [
       " View project at <a href=\"https://wandb.ai/sdat2/6D_individual\" target=\"_blank\">https://wandb.ai/sdat2/6D_individual</a>"
      ],
      "text/plain": [
       "<IPython.core.display.HTML object>"
      ]
     },
     "metadata": {},
     "output_type": "display_data"
    },
    {
     "data": {
      "text/html": [
       " View run at <a href=\"https://wandb.ai/sdat2/6D_individual/runs/h5fsvjb6\" target=\"_blank\">https://wandb.ai/sdat2/6D_individual/runs/h5fsvjb6</a>"
      ],
      "text/plain": [
       "<IPython.core.display.HTML object>"
      ]
     },
     "metadata": {},
     "output_type": "display_data"
    },
    {
     "name": "stdout",
     "output_type": "stream",
     "text": [
      "<class 'list'>\n",
      "<xarray.Dataset>\n",
      "Dimensions:  (lat: 46, lon: 60, time: 1)\n",
      "Coordinates:\n",
      "  * lat      (lat) float64 28.6 28.65 28.7 28.75 28.8 ... 30.7 30.75 30.8 30.85\n",
      "  * lon      (lon) float64 -90.28 -90.23 -90.18 -90.13 ... -87.43 -87.38 -87.33\n",
      "  * time     (time) datetime64[ns] 2005-08-25\n",
      "Data variables:\n",
      "    U10      (time, lat, lon) float64 0.08188 0.08117 ... -0.2732 -0.2714\n",
      "    V10      (time, lat, lon) float64 2.725 2.713 2.701 ... 2.146 2.139 2.131\n",
      "'prepare_run'  26.37392 s \n",
      "\n",
      "<class 'list'>\n",
      "<xarray.Dataset>\n",
      "Dimensions:  (lat: 100, lon: 100, time: 1)\n",
      "Coordinates:\n",
      "  * lat      (lat) float64 17.0 17.25 17.5 17.75 18.0 ... 41.0 41.25 41.5 41.75\n",
      "  * lon      (lon) float64 -99.0 -98.75 -98.5 -98.25 ... -74.75 -74.5 -74.25\n",
      "  * time     (time) datetime64[ns] 2005-08-25\n",
      "Data variables:\n",
      "    U10      (time, lat, lon) float64 2.204 2.181 2.157 ... -0.4268 -0.4205\n",
      "    V10      (time, lat, lon) float64 0.588 0.6275 0.6657 ... 0.9238 0.9184\n",
      "'prepare_run'  01 min 33 s \n",
      "\n",
      "<class 'list'>\n",
      "<xarray.Dataset>\n",
      "Dimensions:  (lat: 46, lon: 60, time: 1)\n",
      "Coordinates:\n",
      "  * lat      (lat) float64 25.75 25.9 26.05 26.2 26.35 ... 32.05 32.2 32.35 32.5\n",
      "  * lon      (lon) float64 -92.2 -92.05 -91.9 -91.75 ... -83.65 -83.5 -83.35\n",
      "  * time     (time) datetime64[ns] 2005-08-25\n",
      "Data variables:\n",
      "    U10      (time, lat, lon) float64 0.9303 0.9049 0.8804 ... -0.3103 -0.3054\n",
      "    V10      (time, lat, lon) float64 2.897 2.86 2.824 ... 1.651 1.637 1.624\n",
      "'prepare_run'  26.37093 s \n",
      "\n",
      "'create_inputs'  02 min 26 s \n",
      "\n"
     ]
    },
    {
     "name": "stderr",
     "output_type": "stream",
     "text": [
      "Sweep, dryrun=False:   4%|▍         | 10/250 [1:19:04<29:08:18, 437.08s/it]"
     ]
    },
    {
     "name": "stdout",
     "output_type": "stream",
     "text": [
      "'run_adcirc'  03 min 54 s \n",
      "\n",
      "height =   4.799028606014324 m\n"
     ]
    },
    {
     "data": {
      "text/html": [
       "Finishing last run (ID:h5fsvjb6) before initializing another..."
      ],
      "text/plain": [
       "<IPython.core.display.HTML object>"
      ]
     },
     "metadata": {},
     "output_type": "display_data"
    },
    {
     "data": {
      "text/html": [
       "Waiting for W&B process to finish... <strong style=\"color:green\">(success).</strong>"
      ],
      "text/plain": [
       "<IPython.core.display.HTML object>"
      ]
     },
     "metadata": {},
     "output_type": "display_data"
    },
    {
     "data": {
      "application/vnd.jupyter.widget-view+json": {
       "model_id": "283f9fcc01ce4f62bd6d8b5e6aa29553",
       "version_major": 2,
       "version_minor": 0
      },
      "text/plain": [
       "VBox(children=(Label(value='0.048 MB of 0.070 MB uploaded (0.000 MB deduped)\\r'), FloatProgress(value=0.694826…"
      ]
     },
     "metadata": {},
     "output_type": "display_data"
    },
    {
     "data": {
      "text/html": [
       "<style>\n",
       "    table.wandb td:nth-child(1) { padding: 0 10px; text-align: left ; width: auto;} td:nth-child(2) {text-align: left ; width: 100%}\n",
       "    .wandb-row { display: flex; flex-direction: row; flex-wrap: wrap; justify-content: flex-start; width: 100% }\n",
       "    .wandb-col { display: flex; flex-direction: column; flex-basis: 100%; flex: 1; padding: 10px; }\n",
       "    </style>\n",
       "<div class=\"wandb-row\"><div class=\"wandb-col\"><h3>Run history:</h3><br/><table class=\"wandb\"><tr><td>angle</td><td>▁</td></tr><tr><td>height</td><td>▁</td></tr><tr><td>pc</td><td>▁</td></tr><tr><td>point_east</td><td>▁</td></tr><tr><td>rmax</td><td>▁</td></tr><tr><td>speed</td><td>▁</td></tr><tr><td>vmax</td><td>▁</td></tr><tr><td>xn</td><td>▁</td></tr></table><br/></div><div class=\"wandb-col\"><h3>Run summary:</h3><br/><table class=\"wandb\"><tr><td>angle</td><td>85.32</td></tr><tr><td>height</td><td>4.79903</td></tr><tr><td>pc</td><td>93184.00002</td></tr><tr><td>point_east</td><td>0.0156</td></tr><tr><td>rmax</td><td>29955.99961</td></tr><tr><td>speed</td><td>3.476</td></tr><tr><td>vmax</td><td>54.01667</td></tr><tr><td>xn</td><td>1.0916</td></tr></table><br/></div></div>"
      ],
      "text/plain": [
       "<IPython.core.display.HTML object>"
      ]
     },
     "metadata": {},
     "output_type": "display_data"
    },
    {
     "data": {
      "text/html": [
       " View run <strong style=\"color:#cdcd00\">incandescent-noodles-12</strong> at: <a href=\"https://wandb.ai/sdat2/6D_individual/runs/h5fsvjb6\" target=\"_blank\">https://wandb.ai/sdat2/6D_individual/runs/h5fsvjb6</a><br/>Synced 7 W&B file(s), 0 media file(s), 0 artifact file(s) and 0 other file(s)"
      ],
      "text/plain": [
       "<IPython.core.display.HTML object>"
      ]
     },
     "metadata": {},
     "output_type": "display_data"
    },
    {
     "data": {
      "text/html": [
       "Find logs at: <code>./wandb/run-20230202_224110-h5fsvjb6/logs</code>"
      ],
      "text/plain": [
       "<IPython.core.display.HTML object>"
      ]
     },
     "metadata": {},
     "output_type": "display_data"
    },
    {
     "data": {
      "text/html": [
       "Successfully finished last run (ID:h5fsvjb6). Initializing new run:<br/>"
      ],
      "text/plain": [
       "<IPython.core.display.HTML object>"
      ]
     },
     "metadata": {},
     "output_type": "display_data"
    },
    {
     "data": {
      "application/vnd.jupyter.widget-view+json": {
       "model_id": "954914660a1d4fa3adaf987a82b02ab1",
       "version_major": 2,
       "version_minor": 0
      },
      "text/plain": [
       "VBox(children=(Label(value='Waiting for wandb.init()...\\r'), FloatProgress(value=0.016834243749993524, max=1.0…"
      ]
     },
     "metadata": {},
     "output_type": "display_data"
    },
    {
     "data": {
      "text/html": [
       "Tracking run with wandb version 0.13.9"
      ],
      "text/plain": [
       "<IPython.core.display.HTML object>"
      ]
     },
     "metadata": {},
     "output_type": "display_data"
    },
    {
     "data": {
      "text/html": [
       "Run data is saved locally in <code>/Users/simon/new-orleans/notebooks/exploratory/wandb/run-20230202_224743-kl3e146m</code>"
      ],
      "text/plain": [
       "<IPython.core.display.HTML object>"
      ]
     },
     "metadata": {},
     "output_type": "display_data"
    },
    {
     "data": {
      "text/html": [
       "Syncing run <strong><a href=\"https://wandb.ai/sdat2/6D_individual/runs/kl3e146m\" target=\"_blank\">beaming-dog-13</a></strong> to <a href=\"https://wandb.ai/sdat2/6D_individual\" target=\"_blank\">Weights & Biases</a> (<a href=\"https://wandb.me/run\" target=\"_blank\">docs</a>)<br/>"
      ],
      "text/plain": [
       "<IPython.core.display.HTML object>"
      ]
     },
     "metadata": {},
     "output_type": "display_data"
    },
    {
     "data": {
      "text/html": [
       " View project at <a href=\"https://wandb.ai/sdat2/6D_individual\" target=\"_blank\">https://wandb.ai/sdat2/6D_individual</a>"
      ],
      "text/plain": [
       "<IPython.core.display.HTML object>"
      ]
     },
     "metadata": {},
     "output_type": "display_data"
    },
    {
     "data": {
      "text/html": [
       " View run at <a href=\"https://wandb.ai/sdat2/6D_individual/runs/kl3e146m\" target=\"_blank\">https://wandb.ai/sdat2/6D_individual/runs/kl3e146m</a>"
      ],
      "text/plain": [
       "<IPython.core.display.HTML object>"
      ]
     },
     "metadata": {},
     "output_type": "display_data"
    },
    {
     "name": "stdout",
     "output_type": "stream",
     "text": [
      "<class 'list'>\n",
      "<xarray.Dataset>\n",
      "Dimensions:  (lat: 46, lon: 60, time: 1)\n",
      "Coordinates:\n",
      "  * lat      (lat) float64 28.6 28.65 28.7 28.75 28.8 ... 30.7 30.75 30.8 30.85\n",
      "  * lon      (lon) float64 -90.28 -90.23 -90.18 -90.13 ... -87.43 -87.38 -87.33\n",
      "  * time     (time) datetime64[ns] 2005-08-25\n",
      "Data variables:\n",
      "    U10      (time, lat, lon) float64 -0.0002538 -0.0002571 ... -0.0004631\n",
      "    V10      (time, lat, lon) float64 -0.0004996 -0.0005041 ... -0.0005201\n",
      "'prepare_run'  26.32446 s \n",
      "\n",
      "<class 'list'>\n",
      "<xarray.Dataset>\n",
      "Dimensions:  (lat: 100, lon: 100, time: 1)\n",
      "Coordinates:\n",
      "  * lat      (lat) float64 17.0 17.25 17.5 17.75 18.0 ... 41.0 41.25 41.5 41.75\n",
      "  * lon      (lon) float64 -99.0 -98.75 -98.5 -98.25 ... -74.75 -74.5 -74.25\n",
      "  * time     (time) datetime64[ns] 2005-08-25\n",
      "Data variables:\n",
      "    U10      (time, lat, lon) float64 2.888e-05 3.028e-05 ... -0.0001451\n",
      "    V10      (time, lat, lon) float64 -0.0001211 -0.0001255 ... 2.422e-05\n",
      "'prepare_run'  01 min 33 s \n",
      "\n",
      "<class 'list'>\n",
      "<xarray.Dataset>\n",
      "Dimensions:  (lat: 46, lon: 60, time: 1)\n",
      "Coordinates:\n",
      "  * lat      (lat) float64 25.75 25.9 26.05 26.2 26.35 ... 32.05 32.2 32.35 32.5\n",
      "  * lon      (lon) float64 -92.2 -92.05 -91.9 -91.75 ... -83.65 -83.5 -83.35\n",
      "  * time     (time) datetime64[ns] 2005-08-25\n",
      "Data variables:\n",
      "    U10      (time, lat, lon) float64 -0.000114 -0.0001188 ... -0.0007513\n",
      "    V10      (time, lat, lon) float64 -0.0004614 -0.0004758 ... -0.0004214\n",
      "'prepare_run'  26.55696 s \n",
      "\n",
      "'create_inputs'  02 min 26 s \n",
      "\n"
     ]
    },
    {
     "name": "stderr",
     "output_type": "stream",
     "text": [
      "Sweep, dryrun=False:   4%|▍         | 11/250 [1:25:37<28:07:11, 423.56s/it]"
     ]
    },
    {
     "name": "stdout",
     "output_type": "stream",
     "text": [
      "'run_adcirc'  03 min 53 s \n",
      "\n",
      "height =   4.13832492442142 m\n"
     ]
    },
    {
     "data": {
      "text/html": [
       "Finishing last run (ID:kl3e146m) before initializing another..."
      ],
      "text/plain": [
       "<IPython.core.display.HTML object>"
      ]
     },
     "metadata": {},
     "output_type": "display_data"
    },
    {
     "data": {
      "text/html": [
       "Waiting for W&B process to finish... <strong style=\"color:green\">(success).</strong>"
      ],
      "text/plain": [
       "<IPython.core.display.HTML object>"
      ]
     },
     "metadata": {},
     "output_type": "display_data"
    },
    {
     "data": {
      "application/vnd.jupyter.widget-view+json": {
       "model_id": "fa8ae5cdfa48419bb1d64b6cc2a81c4b",
       "version_major": 2,
       "version_minor": 0
      },
      "text/plain": [
       "VBox(children=(Label(value='0.056 MB of 0.056 MB uploaded (0.000 MB deduped)\\r'), FloatProgress(value=1.0, max…"
      ]
     },
     "metadata": {},
     "output_type": "display_data"
    },
    {
     "data": {
      "text/html": [
       "<style>\n",
       "    table.wandb td:nth-child(1) { padding: 0 10px; text-align: left ; width: auto;} td:nth-child(2) {text-align: left ; width: 100%}\n",
       "    .wandb-row { display: flex; flex-direction: row; flex-wrap: wrap; justify-content: flex-start; width: 100% }\n",
       "    .wandb-col { display: flex; flex-direction: column; flex-basis: 100%; flex: 1; padding: 10px; }\n",
       "    </style>\n",
       "<div class=\"wandb-row\"><div class=\"wandb-col\"><h3>Run history:</h3><br/><table class=\"wandb\"><tr><td>angle</td><td>▁</td></tr><tr><td>height</td><td>▁</td></tr><tr><td>pc</td><td>▁</td></tr><tr><td>point_east</td><td>▁</td></tr><tr><td>rmax</td><td>▁</td></tr><tr><td>speed</td><td>▁</td></tr><tr><td>vmax</td><td>▁</td></tr><tr><td>xn</td><td>▁</td></tr></table><br/></div><div class=\"wandb-col\"><h3>Run summary:</h3><br/><table class=\"wandb\"><tr><td>angle</td><td>-56.52</td></tr><tr><td>height</td><td>4.13832</td></tr><tr><td>pc</td><td>97696.0001</td></tr><tr><td>point_east</td><td>0.7068</td></tr><tr><td>rmax</td><td>29723.99914</td></tr><tr><td>speed</td><td>4.052</td></tr><tr><td>vmax</td><td>54.01667</td></tr><tr><td>xn</td><td>1.3724</td></tr></table><br/></div></div>"
      ],
      "text/plain": [
       "<IPython.core.display.HTML object>"
      ]
     },
     "metadata": {},
     "output_type": "display_data"
    },
    {
     "data": {
      "text/html": [
       " View run <strong style=\"color:#cdcd00\">beaming-dog-13</strong> at: <a href=\"https://wandb.ai/sdat2/6D_individual/runs/kl3e146m\" target=\"_blank\">https://wandb.ai/sdat2/6D_individual/runs/kl3e146m</a><br/>Synced 7 W&B file(s), 0 media file(s), 0 artifact file(s) and 1 other file(s)"
      ],
      "text/plain": [
       "<IPython.core.display.HTML object>"
      ]
     },
     "metadata": {},
     "output_type": "display_data"
    },
    {
     "data": {
      "text/html": [
       "Find logs at: <code>./wandb/run-20230202_224743-kl3e146m/logs</code>"
      ],
      "text/plain": [
       "<IPython.core.display.HTML object>"
      ]
     },
     "metadata": {},
     "output_type": "display_data"
    },
    {
     "data": {
      "text/html": [
       "Successfully finished last run (ID:kl3e146m). Initializing new run:<br/>"
      ],
      "text/plain": [
       "<IPython.core.display.HTML object>"
      ]
     },
     "metadata": {},
     "output_type": "display_data"
    },
    {
     "data": {
      "application/vnd.jupyter.widget-view+json": {
       "model_id": "51141286dc814235b35bd2ddae54554b",
       "version_major": 2,
       "version_minor": 0
      },
      "text/plain": [
       "VBox(children=(Label(value='Waiting for wandb.init()...\\r'), FloatProgress(value=0.01670851666666143, max=1.0)…"
      ]
     },
     "metadata": {},
     "output_type": "display_data"
    },
    {
     "data": {
      "text/html": [
       "Tracking run with wandb version 0.13.9"
      ],
      "text/plain": [
       "<IPython.core.display.HTML object>"
      ]
     },
     "metadata": {},
     "output_type": "display_data"
    },
    {
     "data": {
      "text/html": [
       "Run data is saved locally in <code>/Users/simon/new-orleans/notebooks/exploratory/wandb/run-20230202_225416-akf1plzq</code>"
      ],
      "text/plain": [
       "<IPython.core.display.HTML object>"
      ]
     },
     "metadata": {},
     "output_type": "display_data"
    },
    {
     "data": {
      "text/html": [
       "Syncing run <strong><a href=\"https://wandb.ai/sdat2/6D_individual/runs/akf1plzq\" target=\"_blank\">festive-lamp-14</a></strong> to <a href=\"https://wandb.ai/sdat2/6D_individual\" target=\"_blank\">Weights & Biases</a> (<a href=\"https://wandb.me/run\" target=\"_blank\">docs</a>)<br/>"
      ],
      "text/plain": [
       "<IPython.core.display.HTML object>"
      ]
     },
     "metadata": {},
     "output_type": "display_data"
    },
    {
     "data": {
      "text/html": [
       " View project at <a href=\"https://wandb.ai/sdat2/6D_individual\" target=\"_blank\">https://wandb.ai/sdat2/6D_individual</a>"
      ],
      "text/plain": [
       "<IPython.core.display.HTML object>"
      ]
     },
     "metadata": {},
     "output_type": "display_data"
    },
    {
     "data": {
      "text/html": [
       " View run at <a href=\"https://wandb.ai/sdat2/6D_individual/runs/akf1plzq\" target=\"_blank\">https://wandb.ai/sdat2/6D_individual/runs/akf1plzq</a>"
      ],
      "text/plain": [
       "<IPython.core.display.HTML object>"
      ]
     },
     "metadata": {},
     "output_type": "display_data"
    },
    {
     "name": "stdout",
     "output_type": "stream",
     "text": [
      "<class 'list'>\n",
      "<xarray.Dataset>\n",
      "Dimensions:  (lat: 46, lon: 60, time: 1)\n",
      "Coordinates:\n",
      "  * lat      (lat) float64 28.6 28.65 28.7 28.75 28.8 ... 30.7 30.75 30.8 30.85\n",
      "  * lon      (lon) float64 -90.28 -90.23 -90.18 -90.13 ... -87.43 -87.38 -87.33\n",
      "  * time     (time) datetime64[ns] 2005-08-25\n",
      "Data variables:\n",
      "    U10      (time, lat, lon) float64 -0.09395 -0.09421 ... -0.1051 -0.1054\n",
      "    V10      (time, lat, lon) float64 -0.09567 -0.09573 ... -0.08532 -0.08532\n",
      "'prepare_run'  26.87658 s \n",
      "\n",
      "<class 'list'>\n",
      "<xarray.Dataset>\n",
      "Dimensions:  (lat: 100, lon: 100, time: 1)\n",
      "Coordinates:\n",
      "  * lat      (lat) float64 17.0 17.25 17.5 17.75 18.0 ... 41.0 41.25 41.5 41.75\n",
      "  * lon      (lon) float64 -99.0 -98.75 -98.5 -98.25 ... -74.75 -74.5 -74.25\n",
      "  * time     (time) datetime64[ns] 2005-08-25\n",
      "Data variables:\n",
      "    U10      (time, lat, lon) float64 -0.04131 -0.04207 ... -0.1039 -0.1042\n",
      "    V10      (time, lat, lon) float64 -0.1172 -0.1184 ... -0.0217 -0.02105\n",
      "'prepare_run'  01 min 34 s \n",
      "\n",
      "<class 'list'>\n",
      "<xarray.Dataset>\n",
      "Dimensions:  (lat: 46, lon: 60, time: 1)\n",
      "Coordinates:\n",
      "  * lat      (lat) float64 25.75 25.9 26.05 26.2 26.35 ... 32.05 32.2 32.35 32.5\n",
      "  * lon      (lon) float64 -92.2 -92.05 -91.9 -91.75 ... -83.65 -83.5 -83.35\n",
      "  * time     (time) datetime64[ns] 2005-08-25\n",
      "Data variables:\n",
      "    U10      (time, lat, lon) float64 -0.08533 -0.08613 ... -0.1195 -0.1203\n",
      "    V10      (time, lat, lon) float64 -0.1074 -0.1078 ... -0.07375 -0.07353\n",
      "'prepare_run'  26.25833 s \n",
      "\n",
      "'create_inputs'  02 min 27 s \n",
      "\n"
     ]
    },
    {
     "name": "stderr",
     "output_type": "stream",
     "text": [
      "Sweep, dryrun=False:   5%|▍         | 12/250 [1:32:10<27:23:44, 414.39s/it]"
     ]
    },
    {
     "name": "stdout",
     "output_type": "stream",
     "text": [
      "'run_adcirc'  03 min 52 s \n",
      "\n",
      "height =   3.286622677632315 m\n"
     ]
    },
    {
     "data": {
      "text/html": [
       "Finishing last run (ID:akf1plzq) before initializing another..."
      ],
      "text/plain": [
       "<IPython.core.display.HTML object>"
      ]
     },
     "metadata": {},
     "output_type": "display_data"
    },
    {
     "data": {
      "text/html": [
       "Waiting for W&B process to finish... <strong style=\"color:green\">(success).</strong>"
      ],
      "text/plain": [
       "<IPython.core.display.HTML object>"
      ]
     },
     "metadata": {},
     "output_type": "display_data"
    },
    {
     "data": {
      "application/vnd.jupyter.widget-view+json": {
       "model_id": "cbb8e9b915244bf4bc824c542684f523",
       "version_major": 2,
       "version_minor": 0
      },
      "text/plain": [
       "VBox(children=(Label(value='0.064 MB of 0.064 MB uploaded (0.000 MB deduped)\\r'), FloatProgress(value=1.0, max…"
      ]
     },
     "metadata": {},
     "output_type": "display_data"
    },
    {
     "data": {
      "text/html": [
       "<style>\n",
       "    table.wandb td:nth-child(1) { padding: 0 10px; text-align: left ; width: auto;} td:nth-child(2) {text-align: left ; width: 100%}\n",
       "    .wandb-row { display: flex; flex-direction: row; flex-wrap: wrap; justify-content: flex-start; width: 100% }\n",
       "    .wandb-col { display: flex; flex-direction: column; flex-basis: 100%; flex: 1; padding: 10px; }\n",
       "    </style>\n",
       "<div class=\"wandb-row\"><div class=\"wandb-col\"><h3>Run history:</h3><br/><table class=\"wandb\"><tr><td>angle</td><td>▁</td></tr><tr><td>height</td><td>▁</td></tr><tr><td>pc</td><td>▁</td></tr><tr><td>point_east</td><td>▁</td></tr><tr><td>rmax</td><td>▁</td></tr><tr><td>speed</td><td>▁</td></tr><tr><td>vmax</td><td>▁</td></tr><tr><td>xn</td><td>▁</td></tr></table><br/></div><div class=\"wandb-col\"><h3>Run summary:</h3><br/><table class=\"wandb\"><tr><td>angle</td><td>-44.28</td></tr><tr><td>height</td><td>3.28662</td></tr><tr><td>pc</td><td>96960.00004</td></tr><tr><td>point_east</td><td>-0.5388</td></tr><tr><td>rmax</td><td>55243.999</td></tr><tr><td>speed</td><td>9.668</td></tr><tr><td>vmax</td><td>54.01667</td></tr><tr><td>xn</td><td>0.8372</td></tr></table><br/></div></div>"
      ],
      "text/plain": [
       "<IPython.core.display.HTML object>"
      ]
     },
     "metadata": {},
     "output_type": "display_data"
    },
    {
     "data": {
      "text/html": [
       " View run <strong style=\"color:#cdcd00\">festive-lamp-14</strong> at: <a href=\"https://wandb.ai/sdat2/6D_individual/runs/akf1plzq\" target=\"_blank\">https://wandb.ai/sdat2/6D_individual/runs/akf1plzq</a><br/>Synced 7 W&B file(s), 0 media file(s), 0 artifact file(s) and 0 other file(s)"
      ],
      "text/plain": [
       "<IPython.core.display.HTML object>"
      ]
     },
     "metadata": {},
     "output_type": "display_data"
    },
    {
     "data": {
      "text/html": [
       "Find logs at: <code>./wandb/run-20230202_225416-akf1plzq/logs</code>"
      ],
      "text/plain": [
       "<IPython.core.display.HTML object>"
      ]
     },
     "metadata": {},
     "output_type": "display_data"
    },
    {
     "data": {
      "text/html": [
       "Successfully finished last run (ID:akf1plzq). Initializing new run:<br/>"
      ],
      "text/plain": [
       "<IPython.core.display.HTML object>"
      ]
     },
     "metadata": {},
     "output_type": "display_data"
    },
    {
     "data": {
      "application/vnd.jupyter.widget-view+json": {
       "model_id": "742e9c1f251a471d96958a7849c7e399",
       "version_major": 2,
       "version_minor": 0
      },
      "text/plain": [
       "VBox(children=(Label(value='Waiting for wandb.init()...\\r'), FloatProgress(value=0.016686567349991795, max=1.0…"
      ]
     },
     "metadata": {},
     "output_type": "display_data"
    },
    {
     "data": {
      "text/html": [
       "Tracking run with wandb version 0.13.9"
      ],
      "text/plain": [
       "<IPython.core.display.HTML object>"
      ]
     },
     "metadata": {},
     "output_type": "display_data"
    },
    {
     "data": {
      "text/html": [
       "Run data is saved locally in <code>/Users/simon/new-orleans/notebooks/exploratory/wandb/run-20230202_230049-7cgbo600</code>"
      ],
      "text/plain": [
       "<IPython.core.display.HTML object>"
      ]
     },
     "metadata": {},
     "output_type": "display_data"
    },
    {
     "data": {
      "text/html": [
       "Syncing run <strong><a href=\"https://wandb.ai/sdat2/6D_individual/runs/7cgbo600\" target=\"_blank\">luminous-moon-15</a></strong> to <a href=\"https://wandb.ai/sdat2/6D_individual\" target=\"_blank\">Weights & Biases</a> (<a href=\"https://wandb.me/run\" target=\"_blank\">docs</a>)<br/>"
      ],
      "text/plain": [
       "<IPython.core.display.HTML object>"
      ]
     },
     "metadata": {},
     "output_type": "display_data"
    },
    {
     "data": {
      "text/html": [
       " View project at <a href=\"https://wandb.ai/sdat2/6D_individual\" target=\"_blank\">https://wandb.ai/sdat2/6D_individual</a>"
      ],
      "text/plain": [
       "<IPython.core.display.HTML object>"
      ]
     },
     "metadata": {},
     "output_type": "display_data"
    },
    {
     "data": {
      "text/html": [
       " View run at <a href=\"https://wandb.ai/sdat2/6D_individual/runs/7cgbo600\" target=\"_blank\">https://wandb.ai/sdat2/6D_individual/runs/7cgbo600</a>"
      ],
      "text/plain": [
       "<IPython.core.display.HTML object>"
      ]
     },
     "metadata": {},
     "output_type": "display_data"
    },
    {
     "name": "stdout",
     "output_type": "stream",
     "text": [
      "<class 'list'>\n",
      "<xarray.Dataset>\n",
      "Dimensions:  (lat: 46, lon: 60, time: 1)\n",
      "Coordinates:\n",
      "  * lat      (lat) float64 28.6 28.65 28.7 28.75 28.8 ... 30.7 30.75 30.8 30.85\n",
      "  * lon      (lon) float64 -90.28 -90.23 -90.18 -90.13 ... -87.43 -87.38 -87.33\n",
      "  * time     (time) datetime64[ns] 2005-08-25\n",
      "Data variables:\n",
      "    U10      (time, lat, lon) float64 -1.244 -1.243 -1.243 ... -1.171 -1.171\n",
      "    V10      (time, lat, lon) float64 0.7028 0.7035 0.7042 ... 0.6984 0.699\n",
      "'prepare_run'  26.24194 s \n",
      "\n",
      "<class 'list'>\n",
      "<xarray.Dataset>\n",
      "Dimensions:  (lat: 100, lon: 100, time: 1)\n",
      "Coordinates:\n",
      "  * lat      (lat) float64 17.0 17.25 17.5 17.75 18.0 ... 41.0 41.25 41.5 41.75\n",
      "  * lon      (lon) float64 -99.0 -98.75 -98.5 -98.25 ... -74.75 -74.5 -74.25\n",
      "  * time     (time) datetime64[ns] 2005-08-25\n",
      "Data variables:\n",
      "    U10      (time, lat, lon) float64 -1.617 -1.609 -1.602 ... -0.9282 -0.9252\n",
      "    V10      (time, lat, lon) float64 0.8209 0.8276 0.8341 ... 0.6478 0.6494\n",
      "'prepare_run'  01 min 33 s \n",
      "\n",
      "<class 'list'>\n",
      "<xarray.Dataset>\n",
      "Dimensions:  (lat: 46, lon: 60, time: 1)\n",
      "Coordinates:\n",
      "  * lat      (lat) float64 25.75 25.9 26.05 26.2 26.35 ... 32.05 32.2 32.35 32.5\n",
      "  * lon      (lon) float64 -92.2 -92.05 -91.9 -91.75 ... -83.65 -83.5 -83.35\n",
      "  * time     (time) datetime64[ns] 2005-08-25\n",
      "Data variables:\n",
      "    U10      (time, lat, lon) float64 -1.313 -1.309 -1.306 ... -1.094 -1.091\n",
      "    V10      (time, lat, lon) float64 0.7326 0.735 0.7374 ... 0.7114 0.7128\n",
      "'prepare_run'  27.40937 s \n",
      "\n",
      "'create_inputs'  02 min 27 s \n",
      "\n"
     ]
    },
    {
     "name": "stderr",
     "output_type": "stream",
     "text": [
      "Sweep, dryrun=False:   5%|▌         | 13/250 [1:38:44<26:52:51, 408.32s/it]"
     ]
    },
    {
     "name": "stdout",
     "output_type": "stream",
     "text": [
      "'run_adcirc'  03 min 53 s \n",
      "\n",
      "height =   3.1987424554762973 m\n"
     ]
    },
    {
     "data": {
      "text/html": [
       "Finishing last run (ID:7cgbo600) before initializing another..."
      ],
      "text/plain": [
       "<IPython.core.display.HTML object>"
      ]
     },
     "metadata": {},
     "output_type": "display_data"
    },
    {
     "data": {
      "text/html": [
       "Waiting for W&B process to finish... <strong style=\"color:green\">(success).</strong>"
      ],
      "text/plain": [
       "<IPython.core.display.HTML object>"
      ]
     },
     "metadata": {},
     "output_type": "display_data"
    },
    {
     "data": {
      "application/vnd.jupyter.widget-view+json": {
       "model_id": "84b0350a12484a4b9a9725a10ecd37bb",
       "version_major": 2,
       "version_minor": 0
      },
      "text/plain": [
       "VBox(children=(Label(value='0.072 MB of 0.072 MB uploaded (0.000 MB deduped)\\r'), FloatProgress(value=1.0, max…"
      ]
     },
     "metadata": {},
     "output_type": "display_data"
    },
    {
     "data": {
      "text/html": [
       "<style>\n",
       "    table.wandb td:nth-child(1) { padding: 0 10px; text-align: left ; width: auto;} td:nth-child(2) {text-align: left ; width: 100%}\n",
       "    .wandb-row { display: flex; flex-direction: row; flex-wrap: wrap; justify-content: flex-start; width: 100% }\n",
       "    .wandb-col { display: flex; flex-direction: column; flex-basis: 100%; flex: 1; padding: 10px; }\n",
       "    </style>\n",
       "<div class=\"wandb-row\"><div class=\"wandb-col\"><h3>Run history:</h3><br/><table class=\"wandb\"><tr><td>angle</td><td>▁</td></tr><tr><td>height</td><td>▁</td></tr><tr><td>pc</td><td>▁</td></tr><tr><td>point_east</td><td>▁</td></tr><tr><td>rmax</td><td>▁</td></tr><tr><td>speed</td><td>▁</td></tr><tr><td>vmax</td><td>▁</td></tr><tr><td>xn</td><td>▁</td></tr></table><br/></div><div class=\"wandb-col\"><h3>Run summary:</h3><br/><table class=\"wandb\"><tr><td>angle</td><td>29.16</td></tr><tr><td>height</td><td>3.19874</td></tr><tr><td>pc</td><td>92480.00002</td></tr><tr><td>point_east</td><td>0.21</td></tr><tr><td>rmax</td><td>28564.00025</td></tr><tr><td>speed</td><td>16.652</td></tr><tr><td>vmax</td><td>54.01667</td></tr><tr><td>xn</td><td>0.902</td></tr></table><br/></div></div>"
      ],
      "text/plain": [
       "<IPython.core.display.HTML object>"
      ]
     },
     "metadata": {},
     "output_type": "display_data"
    },
    {
     "data": {
      "text/html": [
       " View run <strong style=\"color:#cdcd00\">luminous-moon-15</strong> at: <a href=\"https://wandb.ai/sdat2/6D_individual/runs/7cgbo600\" target=\"_blank\">https://wandb.ai/sdat2/6D_individual/runs/7cgbo600</a><br/>Synced 7 W&B file(s), 0 media file(s), 0 artifact file(s) and 1 other file(s)"
      ],
      "text/plain": [
       "<IPython.core.display.HTML object>"
      ]
     },
     "metadata": {},
     "output_type": "display_data"
    },
    {
     "data": {
      "text/html": [
       "Find logs at: <code>./wandb/run-20230202_230049-7cgbo600/logs</code>"
      ],
      "text/plain": [
       "<IPython.core.display.HTML object>"
      ]
     },
     "metadata": {},
     "output_type": "display_data"
    },
    {
     "data": {
      "text/html": [
       "Successfully finished last run (ID:7cgbo600). Initializing new run:<br/>"
      ],
      "text/plain": [
       "<IPython.core.display.HTML object>"
      ]
     },
     "metadata": {},
     "output_type": "display_data"
    },
    {
     "data": {
      "application/vnd.jupyter.widget-view+json": {
       "model_id": "153f738f20a4483a8aed6c0b42843733",
       "version_major": 2,
       "version_minor": 0
      },
      "text/plain": [
       "VBox(children=(Label(value='Waiting for wandb.init()...\\r'), FloatProgress(value=0.016752043049988667, max=1.0…"
      ]
     },
     "metadata": {},
     "output_type": "display_data"
    },
    {
     "data": {
      "text/html": [
       "Tracking run with wandb version 0.13.9"
      ],
      "text/plain": [
       "<IPython.core.display.HTML object>"
      ]
     },
     "metadata": {},
     "output_type": "display_data"
    },
    {
     "data": {
      "text/html": [
       "Run data is saved locally in <code>/Users/simon/new-orleans/notebooks/exploratory/wandb/run-20230202_230724-j0x2zev1</code>"
      ],
      "text/plain": [
       "<IPython.core.display.HTML object>"
      ]
     },
     "metadata": {},
     "output_type": "display_data"
    },
    {
     "data": {
      "text/html": [
       "Syncing run <strong><a href=\"https://wandb.ai/sdat2/6D_individual/runs/j0x2zev1\" target=\"_blank\">fortuitous-chrysanthemum-16</a></strong> to <a href=\"https://wandb.ai/sdat2/6D_individual\" target=\"_blank\">Weights & Biases</a> (<a href=\"https://wandb.me/run\" target=\"_blank\">docs</a>)<br/>"
      ],
      "text/plain": [
       "<IPython.core.display.HTML object>"
      ]
     },
     "metadata": {},
     "output_type": "display_data"
    },
    {
     "data": {
      "text/html": [
       " View project at <a href=\"https://wandb.ai/sdat2/6D_individual\" target=\"_blank\">https://wandb.ai/sdat2/6D_individual</a>"
      ],
      "text/plain": [
       "<IPython.core.display.HTML object>"
      ]
     },
     "metadata": {},
     "output_type": "display_data"
    },
    {
     "data": {
      "text/html": [
       " View run at <a href=\"https://wandb.ai/sdat2/6D_individual/runs/j0x2zev1\" target=\"_blank\">https://wandb.ai/sdat2/6D_individual/runs/j0x2zev1</a>"
      ],
      "text/plain": [
       "<IPython.core.display.HTML object>"
      ]
     },
     "metadata": {},
     "output_type": "display_data"
    },
    {
     "name": "stdout",
     "output_type": "stream",
     "text": [
      "<class 'list'>\n",
      "<xarray.Dataset>\n",
      "Dimensions:  (lat: 46, lon: 60, time: 1)\n",
      "Coordinates:\n",
      "  * lat      (lat) float64 28.6 28.65 28.7 28.75 28.8 ... 30.7 30.75 30.8 30.85\n",
      "  * lon      (lon) float64 -90.28 -90.23 -90.18 -90.13 ... -87.43 -87.38 -87.33\n",
      "  * time     (time) datetime64[ns] 2005-08-25\n",
      "Data variables:\n",
      "    U10      (time, lat, lon) float64 -0.7597 -0.7607 ... -0.8148 -0.8158\n",
      "    V10      (time, lat, lon) float64 -0.658 -0.6577 -0.6574 ... -0.5879 -0.5874\n",
      "'prepare_run'  26.11780 s \n",
      "\n",
      "<class 'list'>\n",
      "<xarray.Dataset>\n",
      "Dimensions:  (lat: 100, lon: 100, time: 1)\n",
      "Coordinates:\n",
      "  * lat      (lat) float64 17.0 17.25 17.5 17.75 18.0 ... 41.0 41.25 41.5 41.75\n",
      "  * lon      (lon) float64 -99.0 -98.75 -98.5 -98.25 ... -74.75 -74.5 -74.25\n",
      "  * time     (time) datetime64[ns] 2005-08-25\n",
      "Data variables:\n",
      "    U10      (time, lat, lon) float64 -0.4859 -0.4905 ... -0.8904 -0.8923\n",
      "    V10      (time, lat, lon) float64 -0.8847 -0.887 -0.8892 ... -0.2264 -0.2219\n",
      "'prepare_run'  01 min 33 s \n",
      "\n",
      "<class 'list'>\n",
      "<xarray.Dataset>\n",
      "Dimensions:  (lat: 46, lon: 60, time: 1)\n",
      "Coordinates:\n",
      "  * lat      (lat) float64 25.75 25.9 26.05 26.2 26.35 ... 32.05 32.2 32.35 32.5\n",
      "  * lon      (lon) float64 -92.2 -92.05 -91.9 -91.75 ... -83.65 -83.5 -83.35\n",
      "  * time     (time) datetime64[ns] 2005-08-25\n",
      "Data variables:\n",
      "    U10      (time, lat, lon) float64 -0.7132 -0.7165 -0.7199 ... -0.8802 -0.883\n",
      "    V10      (time, lat, lon) float64 -0.7279 -0.7275 ... -0.5081 -0.5059\n",
      "'prepare_run'  26.37075 s \n",
      "\n",
      "'create_inputs'  02 min 25 s \n",
      "\n"
     ]
    },
    {
     "name": "stderr",
     "output_type": "stream",
     "text": [
      "Sweep, dryrun=False:   6%|▌         | 14/250 [1:45:17<26:27:37, 403.63s/it]"
     ]
    },
    {
     "name": "stdout",
     "output_type": "stream",
     "text": [
      "'run_adcirc'  03 min 54 s \n",
      "\n",
      "height =   1.6199448680781179 m\n"
     ]
    },
    {
     "data": {
      "text/html": [
       "Finishing last run (ID:j0x2zev1) before initializing another..."
      ],
      "text/plain": [
       "<IPython.core.display.HTML object>"
      ]
     },
     "metadata": {},
     "output_type": "display_data"
    },
    {
     "data": {
      "text/html": [
       "Waiting for W&B process to finish... <strong style=\"color:green\">(success).</strong>"
      ],
      "text/plain": [
       "<IPython.core.display.HTML object>"
      ]
     },
     "metadata": {},
     "output_type": "display_data"
    },
    {
     "data": {
      "application/vnd.jupyter.widget-view+json": {
       "model_id": "3d4d697b549d4499bfb16c3d6a968cb4",
       "version_major": 2,
       "version_minor": 0
      },
      "text/plain": [
       "VBox(children=(Label(value='0.080 MB of 0.080 MB uploaded (0.000 MB deduped)\\r'), FloatProgress(value=1.0, max…"
      ]
     },
     "metadata": {},
     "output_type": "display_data"
    },
    {
     "data": {
      "text/html": [
       "<style>\n",
       "    table.wandb td:nth-child(1) { padding: 0 10px; text-align: left ; width: auto;} td:nth-child(2) {text-align: left ; width: 100%}\n",
       "    .wandb-row { display: flex; flex-direction: row; flex-wrap: wrap; justify-content: flex-start; width: 100% }\n",
       "    .wandb-col { display: flex; flex-direction: column; flex-basis: 100%; flex: 1; padding: 10px; }\n",
       "    </style>\n",
       "<div class=\"wandb-row\"><div class=\"wandb-col\"><h3>Run history:</h3><br/><table class=\"wandb\"><tr><td>angle</td><td>▁</td></tr><tr><td>height</td><td>▁</td></tr><tr><td>pc</td><td>▁</td></tr><tr><td>point_east</td><td>▁</td></tr><tr><td>rmax</td><td>▁</td></tr><tr><td>speed</td><td>▁</td></tr><tr><td>vmax</td><td>▁</td></tr><tr><td>xn</td><td>▁</td></tr></table><br/></div><div class=\"wandb-col\"><h3>Run summary:</h3><br/><table class=\"wandb\"><tr><td>angle</td><td>-38.52</td></tr><tr><td>height</td><td>1.61994</td></tr><tr><td>pc</td><td>91840.00003</td></tr><tr><td>point_east</td><td>0.9084</td></tr><tr><td>rmax</td><td>9076.00008</td></tr><tr><td>speed</td><td>11.9</td></tr><tr><td>vmax</td><td>54.01667</td></tr><tr><td>xn</td><td>0.9092</td></tr></table><br/></div></div>"
      ],
      "text/plain": [
       "<IPython.core.display.HTML object>"
      ]
     },
     "metadata": {},
     "output_type": "display_data"
    },
    {
     "data": {
      "text/html": [
       " View run <strong style=\"color:#cdcd00\">fortuitous-chrysanthemum-16</strong> at: <a href=\"https://wandb.ai/sdat2/6D_individual/runs/j0x2zev1\" target=\"_blank\">https://wandb.ai/sdat2/6D_individual/runs/j0x2zev1</a><br/>Synced 7 W&B file(s), 0 media file(s), 0 artifact file(s) and 0 other file(s)"
      ],
      "text/plain": [
       "<IPython.core.display.HTML object>"
      ]
     },
     "metadata": {},
     "output_type": "display_data"
    },
    {
     "data": {
      "text/html": [
       "Find logs at: <code>./wandb/run-20230202_230724-j0x2zev1/logs</code>"
      ],
      "text/plain": [
       "<IPython.core.display.HTML object>"
      ]
     },
     "metadata": {},
     "output_type": "display_data"
    },
    {
     "data": {
      "text/html": [
       "Successfully finished last run (ID:j0x2zev1). Initializing new run:<br/>"
      ],
      "text/plain": [
       "<IPython.core.display.HTML object>"
      ]
     },
     "metadata": {},
     "output_type": "display_data"
    },
    {
     "data": {
      "application/vnd.jupyter.widget-view+json": {
       "model_id": "477f6f1add9d47daa0416230bde53a7e",
       "version_major": 2,
       "version_minor": 0
      },
      "text/plain": [
       "VBox(children=(Label(value='Waiting for wandb.init()...\\r'), FloatProgress(value=0.0167518097333262, max=1.0))…"
      ]
     },
     "metadata": {},
     "output_type": "display_data"
    },
    {
     "data": {
      "text/html": [
       "Tracking run with wandb version 0.13.9"
      ],
      "text/plain": [
       "<IPython.core.display.HTML object>"
      ]
     },
     "metadata": {},
     "output_type": "display_data"
    },
    {
     "data": {
      "text/html": [
       "Run data is saved locally in <code>/Users/simon/new-orleans/notebooks/exploratory/wandb/run-20230202_231356-ot3j2nkc</code>"
      ],
      "text/plain": [
       "<IPython.core.display.HTML object>"
      ]
     },
     "metadata": {},
     "output_type": "display_data"
    },
    {
     "data": {
      "text/html": [
       "Syncing run <strong><a href=\"https://wandb.ai/sdat2/6D_individual/runs/ot3j2nkc\" target=\"_blank\">enchanting-chrysanthemum-17</a></strong> to <a href=\"https://wandb.ai/sdat2/6D_individual\" target=\"_blank\">Weights & Biases</a> (<a href=\"https://wandb.me/run\" target=\"_blank\">docs</a>)<br/>"
      ],
      "text/plain": [
       "<IPython.core.display.HTML object>"
      ]
     },
     "metadata": {},
     "output_type": "display_data"
    },
    {
     "data": {
      "text/html": [
       " View project at <a href=\"https://wandb.ai/sdat2/6D_individual\" target=\"_blank\">https://wandb.ai/sdat2/6D_individual</a>"
      ],
      "text/plain": [
       "<IPython.core.display.HTML object>"
      ]
     },
     "metadata": {},
     "output_type": "display_data"
    },
    {
     "data": {
      "text/html": [
       " View run at <a href=\"https://wandb.ai/sdat2/6D_individual/runs/ot3j2nkc\" target=\"_blank\">https://wandb.ai/sdat2/6D_individual/runs/ot3j2nkc</a>"
      ],
      "text/plain": [
       "<IPython.core.display.HTML object>"
      ]
     },
     "metadata": {},
     "output_type": "display_data"
    },
    {
     "name": "stdout",
     "output_type": "stream",
     "text": [
      "<class 'list'>\n",
      "<xarray.Dataset>\n",
      "Dimensions:  (lat: 46, lon: 60, time: 1)\n",
      "Coordinates:\n",
      "  * lat      (lat) float64 28.6 28.65 28.7 28.75 28.8 ... 30.7 30.75 30.8 30.85\n",
      "  * lon      (lon) float64 -90.28 -90.23 -90.18 -90.13 ... -87.43 -87.38 -87.33\n",
      "  * time     (time) datetime64[ns] 2005-08-25\n",
      "Data variables:\n",
      "    U10      (time, lat, lon) float64 -0.8247 -0.8232 ... -0.7781 -0.7768\n",
      "    V10      (time, lat, lon) float64 1.277 1.277 1.276 ... 1.188 1.188 1.187\n",
      "'prepare_run'  26.60136 s \n",
      "\n",
      "<class 'list'>\n",
      "<xarray.Dataset>\n",
      "Dimensions:  (lat: 100, lon: 100, time: 1)\n",
      "Coordinates:\n",
      "  * lat      (lat) float64 17.0 17.25 17.5 17.75 18.0 ... 41.0 41.25 41.5 41.75\n",
      "  * lon      (lon) float64 -99.0 -98.75 -98.5 -98.25 ... -74.75 -74.5 -74.25\n",
      "  * time     (time) datetime64[ns] 2005-08-25\n",
      "Data variables:\n",
      "    U10      (time, lat, lon) float64 -0.8302 -0.8187 -0.8074 ... -0.6366 -0.633\n",
      "    V10      (time, lat, lon) float64 1.895 1.885 1.875 ... 0.9089 0.9079 0.9068\n",
      "'prepare_run'  01 min 33 s \n",
      "\n",
      "<class 'list'>\n",
      "<xarray.Dataset>\n",
      "Dimensions:  (lat: 46, lon: 60, time: 1)\n",
      "Coordinates:\n",
      "  * lat      (lat) float64 25.75 25.9 26.05 26.2 26.35 ... 32.05 32.2 32.35 32.5\n",
      "  * lon      (lon) float64 -92.2 -92.05 -91.9 -91.75 ... -83.65 -83.5 -83.35\n",
      "  * time     (time) datetime64[ns] 2005-08-25\n",
      "Data variables:\n",
      "    U10      (time, lat, lon) float64 -0.8334 -0.8285 ... -0.7084 -0.7052\n",
      "    V10      (time, lat, lon) float64 1.388 1.386 1.383 ... 1.117 1.116 1.115\n",
      "'prepare_run'  26.43616 s \n",
      "\n",
      "'create_inputs'  02 min 26 s \n",
      "\n"
     ]
    },
    {
     "name": "stderr",
     "output_type": "stream",
     "text": [
      "Sweep, dryrun=False:   6%|▌         | 15/250 [1:51:49<26:07:24, 400.19s/it]"
     ]
    },
    {
     "name": "stdout",
     "output_type": "stream",
     "text": [
      "'run_adcirc'  03 min 51 s \n",
      "\n",
      "height =   3.7777872237747334 m\n"
     ]
    },
    {
     "data": {
      "text/html": [
       "Finishing last run (ID:ot3j2nkc) before initializing another..."
      ],
      "text/plain": [
       "<IPython.core.display.HTML object>"
      ]
     },
     "metadata": {},
     "output_type": "display_data"
    },
    {
     "data": {
      "text/html": [
       "Waiting for W&B process to finish... <strong style=\"color:green\">(success).</strong>"
      ],
      "text/plain": [
       "<IPython.core.display.HTML object>"
      ]
     },
     "metadata": {},
     "output_type": "display_data"
    },
    {
     "data": {
      "text/html": [
       "<style>\n",
       "    table.wandb td:nth-child(1) { padding: 0 10px; text-align: left ; width: auto;} td:nth-child(2) {text-align: left ; width: 100%}\n",
       "    .wandb-row { display: flex; flex-direction: row; flex-wrap: wrap; justify-content: flex-start; width: 100% }\n",
       "    .wandb-col { display: flex; flex-direction: column; flex-basis: 100%; flex: 1; padding: 10px; }\n",
       "    </style>\n",
       "<div class=\"wandb-row\"><div class=\"wandb-col\"><h3>Run history:</h3><br/><table class=\"wandb\"><tr><td>angle</td><td>▁</td></tr><tr><td>height</td><td>▁</td></tr><tr><td>pc</td><td>▁</td></tr><tr><td>point_east</td><td>▁</td></tr><tr><td>rmax</td><td>▁</td></tr><tr><td>speed</td><td>▁</td></tr><tr><td>vmax</td><td>▁</td></tr><tr><td>xn</td><td>▁</td></tr></table><br/></div><div class=\"wandb-col\"><h3>Run summary:</h3><br/><table class=\"wandb\"><tr><td>angle</td><td>55.8</td></tr><tr><td>height</td><td>3.77779</td></tr><tr><td>pc</td><td>91072.00003</td></tr><tr><td>point_east</td><td>-0.0924</td></tr><tr><td>rmax</td><td>32739.99834</td></tr><tr><td>speed</td><td>12.98</td></tr><tr><td>vmax</td><td>54.01667</td></tr><tr><td>xn</td><td>1.19</td></tr></table><br/></div></div>"
      ],
      "text/plain": [
       "<IPython.core.display.HTML object>"
      ]
     },
     "metadata": {},
     "output_type": "display_data"
    },
    {
     "data": {
      "text/html": [
       " View run <strong style=\"color:#cdcd00\">enchanting-chrysanthemum-17</strong> at: <a href=\"https://wandb.ai/sdat2/6D_individual/runs/ot3j2nkc\" target=\"_blank\">https://wandb.ai/sdat2/6D_individual/runs/ot3j2nkc</a><br/>Synced 7 W&B file(s), 0 media file(s), 0 artifact file(s) and 1 other file(s)"
      ],
      "text/plain": [
       "<IPython.core.display.HTML object>"
      ]
     },
     "metadata": {},
     "output_type": "display_data"
    },
    {
     "data": {
      "text/html": [
       "Find logs at: <code>./wandb/run-20230202_231356-ot3j2nkc/logs</code>"
      ],
      "text/plain": [
       "<IPython.core.display.HTML object>"
      ]
     },
     "metadata": {},
     "output_type": "display_data"
    },
    {
     "data": {
      "text/html": [
       "Successfully finished last run (ID:ot3j2nkc). Initializing new run:<br/>"
      ],
      "text/plain": [
       "<IPython.core.display.HTML object>"
      ]
     },
     "metadata": {},
     "output_type": "display_data"
    },
    {
     "data": {
      "application/vnd.jupyter.widget-view+json": {
       "model_id": "7d1ddb47bc964dbc9d2f351bb835031d",
       "version_major": 2,
       "version_minor": 0
      },
      "text/plain": [
       "VBox(children=(Label(value='Waiting for wandb.init()...\\r'), FloatProgress(value=0.016711543750003936, max=1.0…"
      ]
     },
     "metadata": {},
     "output_type": "display_data"
    },
    {
     "data": {
      "text/html": [
       "Tracking run with wandb version 0.13.9"
      ],
      "text/plain": [
       "<IPython.core.display.HTML object>"
      ]
     },
     "metadata": {},
     "output_type": "display_data"
    },
    {
     "data": {
      "text/html": [
       "Run data is saved locally in <code>/Users/simon/new-orleans/notebooks/exploratory/wandb/run-20230202_232029-mtgi7t07</code>"
      ],
      "text/plain": [
       "<IPython.core.display.HTML object>"
      ]
     },
     "metadata": {},
     "output_type": "display_data"
    },
    {
     "data": {
      "text/html": [
       "Syncing run <strong><a href=\"https://wandb.ai/sdat2/6D_individual/runs/mtgi7t07\" target=\"_blank\">vivid-rat-18</a></strong> to <a href=\"https://wandb.ai/sdat2/6D_individual\" target=\"_blank\">Weights & Biases</a> (<a href=\"https://wandb.me/run\" target=\"_blank\">docs</a>)<br/>"
      ],
      "text/plain": [
       "<IPython.core.display.HTML object>"
      ]
     },
     "metadata": {},
     "output_type": "display_data"
    },
    {
     "data": {
      "text/html": [
       " View project at <a href=\"https://wandb.ai/sdat2/6D_individual\" target=\"_blank\">https://wandb.ai/sdat2/6D_individual</a>"
      ],
      "text/plain": [
       "<IPython.core.display.HTML object>"
      ]
     },
     "metadata": {},
     "output_type": "display_data"
    },
    {
     "data": {
      "text/html": [
       " View run at <a href=\"https://wandb.ai/sdat2/6D_individual/runs/mtgi7t07\" target=\"_blank\">https://wandb.ai/sdat2/6D_individual/runs/mtgi7t07</a>"
      ],
      "text/plain": [
       "<IPython.core.display.HTML object>"
      ]
     },
     "metadata": {},
     "output_type": "display_data"
    },
    {
     "name": "stdout",
     "output_type": "stream",
     "text": [
      "<class 'list'>\n",
      "<xarray.Dataset>\n",
      "Dimensions:  (lat: 46, lon: 60, time: 1)\n",
      "Coordinates:\n",
      "  * lat      (lat) float64 28.6 28.65 28.7 28.75 28.8 ... 30.7 30.75 30.8 30.85\n",
      "  * lon      (lon) float64 -90.28 -90.23 -90.18 -90.13 ... -87.43 -87.38 -87.33\n",
      "  * time     (time) datetime64[ns] 2005-08-25\n",
      "Data variables:\n",
      "    U10      (time, lat, lon) float64 -4.658 -4.702 -4.747 ... -8.708 -8.768\n",
      "    V10      (time, lat, lon) float64 -9.484 -9.512 -9.54 ... -6.945 -6.921\n",
      "'prepare_run'  26.29622 s \n",
      "\n",
      "<class 'list'>\n",
      "<xarray.Dataset>\n",
      "Dimensions:  (lat: 100, lon: 100, time: 1)\n",
      "Coordinates:\n",
      "  * lat      (lat) float64 17.0 17.25 17.5 17.75 18.0 ... 41.0 41.25 41.5 41.75\n",
      "  * lon      (lon) float64 -99.0 -98.75 -98.5 -98.25 ... -74.75 -74.5 -74.25\n",
      "  * time     (time) datetime64[ns] 2005-08-25\n",
      "Data variables:\n",
      "    U10      (time, lat, lon) float64 2.301 2.355 2.411 ... -4.65 -4.606 -4.563\n",
      "    V10      (time, lat, lon) float64 -4.844 -4.882 -4.92 ... 2.144 2.192 2.238\n",
      "'prepare_run'  01 min 32 s \n",
      "\n",
      "<class 'list'>\n",
      "<xarray.Dataset>\n",
      "Dimensions:  (lat: 46, lon: 60, time: 1)\n",
      "Coordinates:\n",
      "  * lat      (lat) float64 25.75 25.9 26.05 26.2 26.35 ... 32.05 32.2 32.35 32.5\n",
      "  * lon      (lon) float64 -92.2 -92.05 -91.9 -91.75 ... -83.65 -83.5 -83.35\n",
      "  * time     (time) datetime64[ns] 2005-08-25\n",
      "Data variables:\n",
      "    U10      (time, lat, lon) float64 -0.9364 -0.9637 -0.9923 ... -10.64 -10.68\n",
      "    V10      (time, lat, lon) float64 -9.592 -9.718 -9.847 ... -1.298 -1.095\n",
      "'prepare_run'  26.74676 s \n",
      "\n",
      "'create_inputs'  02 min 26 s \n",
      "\n"
     ]
    },
    {
     "name": "stderr",
     "output_type": "stream",
     "text": [
      "Sweep, dryrun=False:   6%|▋         | 16/250 [1:58:21<25:50:32, 397.57s/it]"
     ]
    },
    {
     "name": "stdout",
     "output_type": "stream",
     "text": [
      "'run_adcirc'  03 min 51 s \n",
      "\n",
      "height =   8.821836691406101 m\n"
     ]
    },
    {
     "data": {
      "text/html": [
       "Finishing last run (ID:mtgi7t07) before initializing another..."
      ],
      "text/plain": [
       "<IPython.core.display.HTML object>"
      ]
     },
     "metadata": {},
     "output_type": "display_data"
    },
    {
     "data": {
      "text/html": [
       "Waiting for W&B process to finish... <strong style=\"color:green\">(success).</strong>"
      ],
      "text/plain": [
       "<IPython.core.display.HTML object>"
      ]
     },
     "metadata": {},
     "output_type": "display_data"
    },
    {
     "data": {
      "application/vnd.jupyter.widget-view+json": {
       "model_id": "42e532e44ad04a50ae74020363badac6",
       "version_major": 2,
       "version_minor": 0
      },
      "text/plain": [
       "VBox(children=(Label(value='0.095 MB of 0.095 MB uploaded (0.000 MB deduped)\\r'), FloatProgress(value=1.0, max…"
      ]
     },
     "metadata": {},
     "output_type": "display_data"
    },
    {
     "data": {
      "text/html": [
       "<style>\n",
       "    table.wandb td:nth-child(1) { padding: 0 10px; text-align: left ; width: auto;} td:nth-child(2) {text-align: left ; width: 100%}\n",
       "    .wandb-row { display: flex; flex-direction: row; flex-wrap: wrap; justify-content: flex-start; width: 100% }\n",
       "    .wandb-col { display: flex; flex-direction: column; flex-basis: 100%; flex: 1; padding: 10px; }\n",
       "    </style>\n",
       "<div class=\"wandb-row\"><div class=\"wandb-col\"><h3>Run history:</h3><br/><table class=\"wandb\"><tr><td>angle</td><td>▁</td></tr><tr><td>height</td><td>▁</td></tr><tr><td>pc</td><td>▁</td></tr><tr><td>point_east</td><td>▁</td></tr><tr><td>rmax</td><td>▁</td></tr><tr><td>speed</td><td>▁</td></tr><tr><td>vmax</td><td>▁</td></tr><tr><td>xn</td><td>▁</td></tr></table><br/></div><div class=\"wandb-col\"><h3>Run summary:</h3><br/><table class=\"wandb\"><tr><td>angle</td><td>-55.8</td></tr><tr><td>height</td><td>8.82184</td></tr><tr><td>pc</td><td>92960.00004</td></tr><tr><td>point_east</td><td>-0.0564</td></tr><tr><td>rmax</td><td>56404.00136</td></tr><tr><td>speed</td><td>2.612</td></tr><tr><td>vmax</td><td>54.01667</td></tr><tr><td>xn</td><td>0.9212</td></tr></table><br/></div></div>"
      ],
      "text/plain": [
       "<IPython.core.display.HTML object>"
      ]
     },
     "metadata": {},
     "output_type": "display_data"
    },
    {
     "data": {
      "text/html": [
       " View run <strong style=\"color:#cdcd00\">vivid-rat-18</strong> at: <a href=\"https://wandb.ai/sdat2/6D_individual/runs/mtgi7t07\" target=\"_blank\">https://wandb.ai/sdat2/6D_individual/runs/mtgi7t07</a><br/>Synced 7 W&B file(s), 0 media file(s), 0 artifact file(s) and 0 other file(s)"
      ],
      "text/plain": [
       "<IPython.core.display.HTML object>"
      ]
     },
     "metadata": {},
     "output_type": "display_data"
    },
    {
     "data": {
      "text/html": [
       "Find logs at: <code>./wandb/run-20230202_232029-mtgi7t07/logs</code>"
      ],
      "text/plain": [
       "<IPython.core.display.HTML object>"
      ]
     },
     "metadata": {},
     "output_type": "display_data"
    },
    {
     "data": {
      "text/html": [
       "Successfully finished last run (ID:mtgi7t07). Initializing new run:<br/>"
      ],
      "text/plain": [
       "<IPython.core.display.HTML object>"
      ]
     },
     "metadata": {},
     "output_type": "display_data"
    },
    {
     "data": {
      "application/vnd.jupyter.widget-view+json": {
       "model_id": "70c6307fd5244010bcb74d9de98cd0a2",
       "version_major": 2,
       "version_minor": 0
      },
      "text/plain": [
       "VBox(children=(Label(value='Waiting for wandb.init()...\\r'), FloatProgress(value=0.01667906736667343, max=1.0)…"
      ]
     },
     "metadata": {},
     "output_type": "display_data"
    },
    {
     "data": {
      "text/html": [
       "Tracking run with wandb version 0.13.9"
      ],
      "text/plain": [
       "<IPython.core.display.HTML object>"
      ]
     },
     "metadata": {},
     "output_type": "display_data"
    },
    {
     "data": {
      "text/html": [
       "Run data is saved locally in <code>/Users/simon/new-orleans/notebooks/exploratory/wandb/run-20230202_232700-syy9rjso</code>"
      ],
      "text/plain": [
       "<IPython.core.display.HTML object>"
      ]
     },
     "metadata": {},
     "output_type": "display_data"
    },
    {
     "data": {
      "text/html": [
       "Syncing run <strong><a href=\"https://wandb.ai/sdat2/6D_individual/runs/syy9rjso\" target=\"_blank\">glittering-lantern-19</a></strong> to <a href=\"https://wandb.ai/sdat2/6D_individual\" target=\"_blank\">Weights & Biases</a> (<a href=\"https://wandb.me/run\" target=\"_blank\">docs</a>)<br/>"
      ],
      "text/plain": [
       "<IPython.core.display.HTML object>"
      ]
     },
     "metadata": {},
     "output_type": "display_data"
    },
    {
     "data": {
      "text/html": [
       " View project at <a href=\"https://wandb.ai/sdat2/6D_individual\" target=\"_blank\">https://wandb.ai/sdat2/6D_individual</a>"
      ],
      "text/plain": [
       "<IPython.core.display.HTML object>"
      ]
     },
     "metadata": {},
     "output_type": "display_data"
    },
    {
     "data": {
      "text/html": [
       " View run at <a href=\"https://wandb.ai/sdat2/6D_individual/runs/syy9rjso\" target=\"_blank\">https://wandb.ai/sdat2/6D_individual/runs/syy9rjso</a>"
      ],
      "text/plain": [
       "<IPython.core.display.HTML object>"
      ]
     },
     "metadata": {},
     "output_type": "display_data"
    },
    {
     "name": "stdout",
     "output_type": "stream",
     "text": [
      "<class 'list'>\n",
      "<xarray.Dataset>\n",
      "Dimensions:  (lat: 46, lon: 60, time: 1)\n",
      "Coordinates:\n",
      "  * lat      (lat) float64 28.6 28.65 28.7 28.75 28.8 ... 30.7 30.75 30.8 30.85\n",
      "  * lon      (lon) float64 -90.28 -90.23 -90.18 -90.13 ... -87.43 -87.38 -87.33\n",
      "  * time     (time) datetime64[ns] 2005-08-25\n",
      "Data variables:\n",
      "    U10      (time, lat, lon) float64 -2.686 -2.686 -2.687 ... -2.559 -2.559\n",
      "    V10      (time, lat, lon) float64 -0.2223 -0.2186 ... -0.006197 -0.002866\n",
      "'prepare_run'  26.28548 s \n",
      "\n",
      "<class 'list'>\n",
      "<xarray.Dataset>\n",
      "Dimensions:  (lat: 100, lon: 100, time: 1)\n",
      "Coordinates:\n",
      "  * lat      (lat) float64 17.0 17.25 17.5 17.75 18.0 ... 41.0 41.25 41.5 41.75\n",
      "  * lon      (lon) float64 -99.0 -98.75 -98.5 -98.25 ... -74.75 -74.5 -74.25\n",
      "  * time     (time) datetime64[ns] 2005-08-25\n",
      "Data variables:\n",
      "    U10      (time, lat, lon) float64 -3.157 -3.18 -3.203 ... -1.928 -1.923\n",
      "    V10      (time, lat, lon) float64 -1.505 -1.484 -1.462 ... 0.4998 0.5085\n",
      "'prepare_run'  01 min 33 s \n",
      "\n",
      "<class 'list'>\n",
      "<xarray.Dataset>\n",
      "Dimensions:  (lat: 46, lon: 60, time: 1)\n",
      "Coordinates:\n",
      "  * lat      (lat) float64 25.75 25.9 26.05 26.2 26.35 ... 32.05 32.2 32.35 32.5\n",
      "  * lon      (lon) float64 -92.2 -92.05 -91.9 -91.75 ... -83.65 -83.5 -83.35\n",
      "  * time     (time) datetime64[ns] 2005-08-25\n",
      "Data variables:\n",
      "    U10      (time, lat, lon) float64 -2.853 -2.856 -2.86 ... -2.444 -2.443\n",
      "    V10      (time, lat, lon) float64 -0.4207 -0.4083 -0.3959 ... 0.231 0.24\n",
      "'prepare_run'  26.80648 s \n",
      "\n",
      "'create_inputs'  02 min 27 s \n",
      "\n"
     ]
    },
    {
     "name": "stderr",
     "output_type": "stream",
     "text": [
      "Sweep, dryrun=False:   7%|▋         | 17/250 [2:04:50<25:34:02, 395.03s/it]"
     ]
    },
    {
     "name": "stdout",
     "output_type": "stream",
     "text": [
      "'run_adcirc'  03 min 49 s \n",
      "\n",
      "height =   5.45293023935911 m\n"
     ]
    },
    {
     "data": {
      "text/html": [
       "Finishing last run (ID:syy9rjso) before initializing another..."
      ],
      "text/plain": [
       "<IPython.core.display.HTML object>"
      ]
     },
     "metadata": {},
     "output_type": "display_data"
    },
    {
     "data": {
      "text/html": [
       "Waiting for W&B process to finish... <strong style=\"color:green\">(success).</strong>"
      ],
      "text/plain": [
       "<IPython.core.display.HTML object>"
      ]
     },
     "metadata": {},
     "output_type": "display_data"
    },
    {
     "data": {
      "application/vnd.jupyter.widget-view+json": {
       "model_id": "b3e33bf4fb054521b3a085f37d6762c4",
       "version_major": 2,
       "version_minor": 0
      },
      "text/plain": [
       "VBox(children=(Label(value='0.103 MB of 0.131 MB uploaded (0.000 MB deduped)\\r'), FloatProgress(value=0.786199…"
      ]
     },
     "metadata": {},
     "output_type": "display_data"
    },
    {
     "data": {
      "text/html": [
       "<style>\n",
       "    table.wandb td:nth-child(1) { padding: 0 10px; text-align: left ; width: auto;} td:nth-child(2) {text-align: left ; width: 100%}\n",
       "    .wandb-row { display: flex; flex-direction: row; flex-wrap: wrap; justify-content: flex-start; width: 100% }\n",
       "    .wandb-col { display: flex; flex-direction: column; flex-basis: 100%; flex: 1; padding: 10px; }\n",
       "    </style>\n",
       "<div class=\"wandb-row\"><div class=\"wandb-col\"><h3>Run history:</h3><br/><table class=\"wandb\"><tr><td>angle</td><td>▁</td></tr><tr><td>height</td><td>▁</td></tr><tr><td>pc</td><td>▁</td></tr><tr><td>point_east</td><td>▁</td></tr><tr><td>rmax</td><td>▁</td></tr><tr><td>speed</td><td>▁</td></tr><tr><td>vmax</td><td>▁</td></tr><tr><td>xn</td><td>▁</td></tr></table><br/></div><div class=\"wandb-col\"><h3>Run summary:</h3><br/><table class=\"wandb\"><tr><td>angle</td><td>-4.68</td></tr><tr><td>height</td><td>5.45293</td></tr><tr><td>pc</td><td>92352.0</td></tr><tr><td>point_east</td><td>-0.2868</td></tr><tr><td>rmax</td><td>53156.00169</td></tr><tr><td>speed</td><td>10.748</td></tr><tr><td>vmax</td><td>54.01667</td></tr><tr><td>xn</td><td>1.0028</td></tr></table><br/></div></div>"
      ],
      "text/plain": [
       "<IPython.core.display.HTML object>"
      ]
     },
     "metadata": {},
     "output_type": "display_data"
    },
    {
     "data": {
      "text/html": [
       " View run <strong style=\"color:#cdcd00\">glittering-lantern-19</strong> at: <a href=\"https://wandb.ai/sdat2/6D_individual/runs/syy9rjso\" target=\"_blank\">https://wandb.ai/sdat2/6D_individual/runs/syy9rjso</a><br/>Synced 7 W&B file(s), 0 media file(s), 0 artifact file(s) and 1 other file(s)"
      ],
      "text/plain": [
       "<IPython.core.display.HTML object>"
      ]
     },
     "metadata": {},
     "output_type": "display_data"
    },
    {
     "data": {
      "text/html": [
       "Find logs at: <code>./wandb/run-20230202_232700-syy9rjso/logs</code>"
      ],
      "text/plain": [
       "<IPython.core.display.HTML object>"
      ]
     },
     "metadata": {},
     "output_type": "display_data"
    },
    {
     "data": {
      "text/html": [
       "Successfully finished last run (ID:syy9rjso). Initializing new run:<br/>"
      ],
      "text/plain": [
       "<IPython.core.display.HTML object>"
      ]
     },
     "metadata": {},
     "output_type": "display_data"
    },
    {
     "data": {
      "application/vnd.jupyter.widget-view+json": {
       "model_id": "826125127ba74023a354a005013e3727",
       "version_major": 2,
       "version_minor": 0
      },
      "text/plain": [
       "VBox(children=(Label(value='Waiting for wandb.init()...\\r'), FloatProgress(value=0.016834891666667316, max=1.0…"
      ]
     },
     "metadata": {},
     "output_type": "display_data"
    },
    {
     "data": {
      "text/html": [
       "Tracking run with wandb version 0.13.9"
      ],
      "text/plain": [
       "<IPython.core.display.HTML object>"
      ]
     },
     "metadata": {},
     "output_type": "display_data"
    },
    {
     "data": {
      "text/html": [
       "Run data is saved locally in <code>/Users/simon/new-orleans/notebooks/exploratory/wandb/run-20230202_233329-lvhjhszx</code>"
      ],
      "text/plain": [
       "<IPython.core.display.HTML object>"
      ]
     },
     "metadata": {},
     "output_type": "display_data"
    },
    {
     "data": {
      "text/html": [
       "Syncing run <strong><a href=\"https://wandb.ai/sdat2/6D_individual/runs/lvhjhszx\" target=\"_blank\">glittering-chrysanthemum-20</a></strong> to <a href=\"https://wandb.ai/sdat2/6D_individual\" target=\"_blank\">Weights & Biases</a> (<a href=\"https://wandb.me/run\" target=\"_blank\">docs</a>)<br/>"
      ],
      "text/plain": [
       "<IPython.core.display.HTML object>"
      ]
     },
     "metadata": {},
     "output_type": "display_data"
    },
    {
     "data": {
      "text/html": [
       " View project at <a href=\"https://wandb.ai/sdat2/6D_individual\" target=\"_blank\">https://wandb.ai/sdat2/6D_individual</a>"
      ],
      "text/plain": [
       "<IPython.core.display.HTML object>"
      ]
     },
     "metadata": {},
     "output_type": "display_data"
    },
    {
     "data": {
      "text/html": [
       " View run at <a href=\"https://wandb.ai/sdat2/6D_individual/runs/lvhjhszx\" target=\"_blank\">https://wandb.ai/sdat2/6D_individual/runs/lvhjhszx</a>"
      ],
      "text/plain": [
       "<IPython.core.display.HTML object>"
      ]
     },
     "metadata": {},
     "output_type": "display_data"
    },
    {
     "name": "stdout",
     "output_type": "stream",
     "text": [
      "<class 'list'>\n",
      "<xarray.Dataset>\n",
      "Dimensions:  (lat: 46, lon: 60, time: 1)\n",
      "Coordinates:\n",
      "  * lat      (lat) float64 28.6 28.65 28.7 28.75 28.8 ... 30.7 30.75 30.8 30.85\n",
      "  * lon      (lon) float64 -90.28 -90.23 -90.18 -90.13 ... -87.43 -87.38 -87.33\n",
      "  * time     (time) datetime64[ns] 2005-08-25\n",
      "Data variables:\n",
      "    U10      (time, lat, lon) float64 -1.798e-05 -1.749e-05 ... -1.053e-05\n",
      "    V10      (time, lat, lon) float64 0.0001161 0.0001137 ... 3.256e-05\n",
      "'prepare_run'  26.11483 s \n",
      "\n",
      "<class 'list'>\n",
      "<xarray.Dataset>\n",
      "Dimensions:  (lat: 100, lon: 100, time: 1)\n",
      "Coordinates:\n",
      "  * lat      (lat) float64 17.0 17.25 17.5 17.75 18.0 ... 41.0 41.25 41.5 41.75\n",
      "  * lon      (lon) float64 -99.0 -98.75 -98.5 -98.25 ... -74.75 -74.5 -74.25\n",
      "  * time     (time) datetime64[ns] 2005-08-25\n",
      "Data variables:\n",
      "    U10      (time, lat, lon) float64 2.841e-05 2.864e-05 ... -8.617e-07\n",
      "    V10      (time, lat, lon) float64 -2.798e-06 -2.132e-06 ... 1.425e-06\n",
      "'prepare_run'  01 min 33 s \n",
      "\n",
      "<class 'list'>\n",
      "<xarray.Dataset>\n",
      "Dimensions:  (lat: 46, lon: 60, time: 1)\n",
      "Coordinates:\n",
      "  * lat      (lat) float64 25.75 25.9 26.05 26.2 26.35 ... 32.05 32.2 32.35 32.5\n",
      "  * lon      (lon) float64 -92.2 -92.05 -91.9 -91.75 ... -83.65 -83.5 -83.35\n",
      "  * time     (time) datetime64[ns] 2005-08-25\n",
      "Data variables:\n",
      "    U10      (time, lat, lon) float64 7.347e-05 6.628e-05 ... -3.795e-06\n",
      "    V10      (time, lat, lon) float64 0.0002557 0.0002366 ... 1.122e-05 1.09e-05\n",
      "'prepare_run'  26.10589 s \n",
      "\n",
      "'create_inputs'  02 min 26 s \n",
      "\n"
     ]
    },
    {
     "name": "stderr",
     "output_type": "stream",
     "text": [
      "Sweep, dryrun=False:   7%|▋         | 18/250 [2:11:25<25:26:54, 394.89s/it]"
     ]
    },
    {
     "name": "stdout",
     "output_type": "stream",
     "text": [
      "'run_adcirc'  03 min 52 s \n",
      "\n",
      "height =   0.8806878412393634 m\n"
     ]
    },
    {
     "data": {
      "text/html": [
       "Finishing last run (ID:lvhjhszx) before initializing another..."
      ],
      "text/plain": [
       "<IPython.core.display.HTML object>"
      ]
     },
     "metadata": {},
     "output_type": "display_data"
    },
    {
     "data": {
      "text/html": [
       "Waiting for W&B process to finish... <strong style=\"color:green\">(success).</strong>"
      ],
      "text/plain": [
       "<IPython.core.display.HTML object>"
      ]
     },
     "metadata": {},
     "output_type": "display_data"
    },
    {
     "data": {
      "application/vnd.jupyter.widget-view+json": {
       "model_id": "460fde8125174d29aad8f9d5934bc697",
       "version_major": 2,
       "version_minor": 0
      },
      "text/plain": [
       "VBox(children=(Label(value='0.111 MB of 0.118 MB uploaded (0.000 MB deduped)\\r'), FloatProgress(value=0.941180…"
      ]
     },
     "metadata": {},
     "output_type": "display_data"
    },
    {
     "data": {
      "text/html": [
       "<style>\n",
       "    table.wandb td:nth-child(1) { padding: 0 10px; text-align: left ; width: auto;} td:nth-child(2) {text-align: left ; width: 100%}\n",
       "    .wandb-row { display: flex; flex-direction: row; flex-wrap: wrap; justify-content: flex-start; width: 100% }\n",
       "    .wandb-col { display: flex; flex-direction: column; flex-basis: 100%; flex: 1; padding: 10px; }\n",
       "    </style>\n",
       "<div class=\"wandb-row\"><div class=\"wandb-col\"><h3>Run history:</h3><br/><table class=\"wandb\"><tr><td>angle</td><td>▁</td></tr><tr><td>height</td><td>▁</td></tr><tr><td>pc</td><td>▁</td></tr><tr><td>point_east</td><td>▁</td></tr><tr><td>rmax</td><td>▁</td></tr><tr><td>speed</td><td>▁</td></tr><tr><td>vmax</td><td>▁</td></tr><tr><td>xn</td><td>▁</td></tr></table><br/></div><div class=\"wandb-col\"><h3>Run summary:</h3><br/><table class=\"wandb\"><tr><td>angle</td><td>72.36</td></tr><tr><td>height</td><td>0.88069</td></tr><tr><td>pc</td><td>97855.99995</td></tr><tr><td>point_east</td><td>0.0948</td></tr><tr><td>rmax</td><td>11164.00042</td></tr><tr><td>speed</td><td>2.396</td></tr><tr><td>vmax</td><td>54.01667</td></tr><tr><td>xn</td><td>1.3484</td></tr></table><br/></div></div>"
      ],
      "text/plain": [
       "<IPython.core.display.HTML object>"
      ]
     },
     "metadata": {},
     "output_type": "display_data"
    },
    {
     "data": {
      "text/html": [
       " View run <strong style=\"color:#cdcd00\">glittering-chrysanthemum-20</strong> at: <a href=\"https://wandb.ai/sdat2/6D_individual/runs/lvhjhszx\" target=\"_blank\">https://wandb.ai/sdat2/6D_individual/runs/lvhjhszx</a><br/>Synced 7 W&B file(s), 0 media file(s), 0 artifact file(s) and 0 other file(s)"
      ],
      "text/plain": [
       "<IPython.core.display.HTML object>"
      ]
     },
     "metadata": {},
     "output_type": "display_data"
    },
    {
     "data": {
      "text/html": [
       "Find logs at: <code>./wandb/run-20230202_233329-lvhjhszx/logs</code>"
      ],
      "text/plain": [
       "<IPython.core.display.HTML object>"
      ]
     },
     "metadata": {},
     "output_type": "display_data"
    },
    {
     "data": {
      "text/html": [
       "Successfully finished last run (ID:lvhjhszx). Initializing new run:<br/>"
      ],
      "text/plain": [
       "<IPython.core.display.HTML object>"
      ]
     },
     "metadata": {},
     "output_type": "display_data"
    },
    {
     "data": {
      "application/vnd.jupyter.widget-view+json": {
       "model_id": "993e553aaa624fe7aef76259a8b1de6e",
       "version_major": 2,
       "version_minor": 0
      },
      "text/plain": [
       "VBox(children=(Label(value='Waiting for wandb.init()...\\r'), FloatProgress(value=0.016716245833337477, max=1.0…"
      ]
     },
     "metadata": {},
     "output_type": "display_data"
    },
    {
     "data": {
      "text/html": [
       "Tracking run with wandb version 0.13.9"
      ],
      "text/plain": [
       "<IPython.core.display.HTML object>"
      ]
     },
     "metadata": {},
     "output_type": "display_data"
    },
    {
     "data": {
      "text/html": [
       "Run data is saved locally in <code>/Users/simon/new-orleans/notebooks/exploratory/wandb/run-20230202_234004-8otwe8jv</code>"
      ],
      "text/plain": [
       "<IPython.core.display.HTML object>"
      ]
     },
     "metadata": {},
     "output_type": "display_data"
    },
    {
     "data": {
      "text/html": [
       "Syncing run <strong><a href=\"https://wandb.ai/sdat2/6D_individual/runs/8otwe8jv\" target=\"_blank\">abundant-mandu-21</a></strong> to <a href=\"https://wandb.ai/sdat2/6D_individual\" target=\"_blank\">Weights & Biases</a> (<a href=\"https://wandb.me/run\" target=\"_blank\">docs</a>)<br/>"
      ],
      "text/plain": [
       "<IPython.core.display.HTML object>"
      ]
     },
     "metadata": {},
     "output_type": "display_data"
    },
    {
     "data": {
      "text/html": [
       " View project at <a href=\"https://wandb.ai/sdat2/6D_individual\" target=\"_blank\">https://wandb.ai/sdat2/6D_individual</a>"
      ],
      "text/plain": [
       "<IPython.core.display.HTML object>"
      ]
     },
     "metadata": {},
     "output_type": "display_data"
    },
    {
     "data": {
      "text/html": [
       " View run at <a href=\"https://wandb.ai/sdat2/6D_individual/runs/8otwe8jv\" target=\"_blank\">https://wandb.ai/sdat2/6D_individual/runs/8otwe8jv</a>"
      ],
      "text/plain": [
       "<IPython.core.display.HTML object>"
      ]
     },
     "metadata": {},
     "output_type": "display_data"
    },
    {
     "name": "stdout",
     "output_type": "stream",
     "text": [
      "<class 'list'>\n",
      "<xarray.Dataset>\n",
      "Dimensions:  (lat: 46, lon: 60, time: 1)\n",
      "Coordinates:\n",
      "  * lat      (lat) float64 28.6 28.65 28.7 28.75 28.8 ... 30.7 30.75 30.8 30.85\n",
      "  * lon      (lon) float64 -90.28 -90.23 -90.18 -90.13 ... -87.43 -87.38 -87.33\n",
      "  * time     (time) datetime64[ns] 2005-08-25\n",
      "Data variables:\n",
      "    U10      (time, lat, lon) float64 -0.1951 -0.1949 ... -0.1757 -0.1755\n",
      "    V10      (time, lat, lon) float64 0.09614 0.09627 0.0964 ... 0.09388 0.09398\n",
      "'prepare_run'  26.62422 s \n",
      "\n",
      "<class 'list'>\n",
      "<xarray.Dataset>\n",
      "Dimensions:  (lat: 100, lon: 100, time: 1)\n",
      "Coordinates:\n",
      "  * lat      (lat) float64 17.0 17.25 17.5 17.75 18.0 ... 41.0 41.25 41.5 41.75\n",
      "  * lon      (lon) float64 -99.0 -98.75 -98.5 -98.25 ... -74.75 -74.5 -74.25\n",
      "  * time     (time) datetime64[ns] 2005-08-25\n",
      "Data variables:\n",
      "    U10      (time, lat, lon) float64 -0.3241 -0.322 -0.3198 ... -0.1177 -0.1171\n",
      "    V10      (time, lat, lon) float64 0.1266 0.1285 0.1304 ... 0.0782 0.07839\n",
      "'prepare_run'  01 min 34 s \n",
      "\n",
      "<class 'list'>\n",
      "<xarray.Dataset>\n",
      "Dimensions:  (lat: 46, lon: 60, time: 1)\n",
      "Coordinates:\n",
      "  * lat      (lat) float64 25.75 25.9 26.05 26.2 26.35 ... 32.05 32.2 32.35 32.5\n",
      "  * lon      (lon) float64 -92.2 -92.05 -91.9 -91.75 ... -83.65 -83.5 -83.35\n",
      "  * time     (time) datetime64[ns] 2005-08-25\n",
      "Data variables:\n",
      "    U10      (time, lat, lon) float64 -0.2162 -0.2155 ... -0.1574 -0.1569\n",
      "    V10      (time, lat, lon) float64 0.1036 0.1041 0.1046 ... 0.09462 0.09484\n",
      "'prepare_run'  26.44032 s \n",
      "\n",
      "'create_inputs'  02 min 27 s \n",
      "\n"
     ]
    },
    {
     "name": "stderr",
     "output_type": "stream",
     "text": [
      "Sweep, dryrun=False:   8%|▊         | 19/250 [2:17:58<25:18:01, 394.29s/it]"
     ]
    },
    {
     "name": "stdout",
     "output_type": "stream",
     "text": [
      "'run_adcirc'  03 min 52 s \n",
      "\n",
      "height =   1.9413580399636001 m\n"
     ]
    },
    {
     "data": {
      "text/html": [
       "Finishing last run (ID:8otwe8jv) before initializing another..."
      ],
      "text/plain": [
       "<IPython.core.display.HTML object>"
      ]
     },
     "metadata": {},
     "output_type": "display_data"
    },
    {
     "data": {
      "text/html": [
       "Waiting for W&B process to finish... <strong style=\"color:green\">(success).</strong>"
      ],
      "text/plain": [
       "<IPython.core.display.HTML object>"
      ]
     },
     "metadata": {},
     "output_type": "display_data"
    },
    {
     "data": {
      "application/vnd.jupyter.widget-view+json": {
       "model_id": "72cfc32a721049bb91643fa0ba6e271a",
       "version_major": 2,
       "version_minor": 0
      },
      "text/plain": [
       "VBox(children=(Label(value='0.118 MB of 0.118 MB uploaded (0.000 MB deduped)\\r'), FloatProgress(value=1.0, max…"
      ]
     },
     "metadata": {},
     "output_type": "display_data"
    },
    {
     "data": {
      "text/html": [
       "<style>\n",
       "    table.wandb td:nth-child(1) { padding: 0 10px; text-align: left ; width: auto;} td:nth-child(2) {text-align: left ; width: 100%}\n",
       "    .wandb-row { display: flex; flex-direction: row; flex-wrap: wrap; justify-content: flex-start; width: 100% }\n",
       "    .wandb-col { display: flex; flex-direction: column; flex-basis: 100%; flex: 1; padding: 10px; }\n",
       "    </style>\n",
       "<div class=\"wandb-row\"><div class=\"wandb-col\"><h3>Run history:</h3><br/><table class=\"wandb\"><tr><td>angle</td><td>▁</td></tr><tr><td>height</td><td>▁</td></tr><tr><td>pc</td><td>▁</td></tr><tr><td>point_east</td><td>▁</td></tr><tr><td>rmax</td><td>▁</td></tr><tr><td>speed</td><td>▁</td></tr><tr><td>vmax</td><td>▁</td></tr><tr><td>xn</td><td>▁</td></tr></table><br/></div><div class=\"wandb-col\"><h3>Run summary:</h3><br/><table class=\"wandb\"><tr><td>angle</td><td>26.28</td></tr><tr><td>height</td><td>1.94136</td></tr><tr><td>pc</td><td>92799.99995</td></tr><tr><td>point_east</td><td>0.498</td></tr><tr><td>rmax</td><td>25547.99932</td></tr><tr><td>speed</td><td>13.484</td></tr><tr><td>vmax</td><td>54.01667</td></tr><tr><td>xn</td><td>1.3388</td></tr></table><br/></div></div>"
      ],
      "text/plain": [
       "<IPython.core.display.HTML object>"
      ]
     },
     "metadata": {},
     "output_type": "display_data"
    },
    {
     "data": {
      "text/html": [
       " View run <strong style=\"color:#cdcd00\">abundant-mandu-21</strong> at: <a href=\"https://wandb.ai/sdat2/6D_individual/runs/8otwe8jv\" target=\"_blank\">https://wandb.ai/sdat2/6D_individual/runs/8otwe8jv</a><br/>Synced 7 W&B file(s), 0 media file(s), 0 artifact file(s) and 1 other file(s)"
      ],
      "text/plain": [
       "<IPython.core.display.HTML object>"
      ]
     },
     "metadata": {},
     "output_type": "display_data"
    },
    {
     "data": {
      "text/html": [
       "Find logs at: <code>./wandb/run-20230202_234004-8otwe8jv/logs</code>"
      ],
      "text/plain": [
       "<IPython.core.display.HTML object>"
      ]
     },
     "metadata": {},
     "output_type": "display_data"
    },
    {
     "data": {
      "text/html": [
       "Successfully finished last run (ID:8otwe8jv). Initializing new run:<br/>"
      ],
      "text/plain": [
       "<IPython.core.display.HTML object>"
      ]
     },
     "metadata": {},
     "output_type": "display_data"
    },
    {
     "data": {
      "application/vnd.jupyter.widget-view+json": {
       "model_id": "197e13a8f6b44f509f47eeb19080fede",
       "version_major": 2,
       "version_minor": 0
      },
      "text/plain": [
       "VBox(children=(Label(value='Waiting for wandb.init()...\\r'), FloatProgress(value=0.01680071805000504, max=1.0)…"
      ]
     },
     "metadata": {},
     "output_type": "display_data"
    },
    {
     "data": {
      "text/html": [
       "Tracking run with wandb version 0.13.9"
      ],
      "text/plain": [
       "<IPython.core.display.HTML object>"
      ]
     },
     "metadata": {},
     "output_type": "display_data"
    },
    {
     "data": {
      "text/html": [
       "Run data is saved locally in <code>/Users/simon/new-orleans/notebooks/exploratory/wandb/run-20230202_234637-qoxluyqy</code>"
      ],
      "text/plain": [
       "<IPython.core.display.HTML object>"
      ]
     },
     "metadata": {},
     "output_type": "display_data"
    },
    {
     "data": {
      "text/html": [
       "Syncing run <strong><a href=\"https://wandb.ai/sdat2/6D_individual/runs/qoxluyqy\" target=\"_blank\">dazzling-monkey-22</a></strong> to <a href=\"https://wandb.ai/sdat2/6D_individual\" target=\"_blank\">Weights & Biases</a> (<a href=\"https://wandb.me/run\" target=\"_blank\">docs</a>)<br/>"
      ],
      "text/plain": [
       "<IPython.core.display.HTML object>"
      ]
     },
     "metadata": {},
     "output_type": "display_data"
    },
    {
     "data": {
      "text/html": [
       " View project at <a href=\"https://wandb.ai/sdat2/6D_individual\" target=\"_blank\">https://wandb.ai/sdat2/6D_individual</a>"
      ],
      "text/plain": [
       "<IPython.core.display.HTML object>"
      ]
     },
     "metadata": {},
     "output_type": "display_data"
    },
    {
     "data": {
      "text/html": [
       " View run at <a href=\"https://wandb.ai/sdat2/6D_individual/runs/qoxluyqy\" target=\"_blank\">https://wandb.ai/sdat2/6D_individual/runs/qoxluyqy</a>"
      ],
      "text/plain": [
       "<IPython.core.display.HTML object>"
      ]
     },
     "metadata": {},
     "output_type": "display_data"
    },
    {
     "name": "stdout",
     "output_type": "stream",
     "text": [
      "<class 'list'>\n",
      "<xarray.Dataset>\n",
      "Dimensions:  (lat: 46, lon: 60, time: 1)\n",
      "Coordinates:\n",
      "  * lat      (lat) float64 28.6 28.65 28.7 28.75 28.8 ... 30.7 30.75 30.8 30.85\n",
      "  * lon      (lon) float64 -90.28 -90.23 -90.18 -90.13 ... -87.43 -87.38 -87.33\n",
      "  * time     (time) datetime64[ns] 2005-08-25\n",
      "Data variables:\n",
      "    U10      (time, lat, lon) float64 -0.09262 -0.09254 ... -0.08415 -0.08408\n",
      "    V10      (time, lat, lon) float64 0.03948 0.03954 0.0396 ... 0.03895 0.039\n",
      "'prepare_run'  26.29971 s \n",
      "\n",
      "<class 'list'>\n",
      "<xarray.Dataset>\n",
      "Dimensions:  (lat: 100, lon: 100, time: 1)\n",
      "Coordinates:\n",
      "  * lat      (lat) float64 17.0 17.25 17.5 17.75 18.0 ... 41.0 41.25 41.5 41.75\n",
      "  * lon      (lon) float64 -99.0 -98.75 -98.5 -98.25 ... -74.75 -74.5 -74.25\n",
      "  * time     (time) datetime64[ns] 2005-08-25\n",
      "Data variables:\n",
      "    U10      (time, lat, lon) float64 -0.1467 -0.146 ... -0.0572 -0.05697\n",
      "    V10      (time, lat, lon) float64 0.04843 0.04914 ... 0.03348 0.03357\n",
      "'prepare_run'  01 min 33 s \n",
      "\n",
      "<class 'list'>\n",
      "<xarray.Dataset>\n",
      "Dimensions:  (lat: 46, lon: 60, time: 1)\n",
      "Coordinates:\n",
      "  * lat      (lat) float64 25.75 25.9 26.05 26.2 26.35 ... 32.05 32.2 32.35 32.5\n",
      "  * lon      (lon) float64 -92.2 -92.05 -91.9 -91.75 ... -83.65 -83.5 -83.35\n",
      "  * time     (time) datetime64[ns] 2005-08-25\n",
      "Data variables:\n",
      "    U10      (time, lat, lon) float64 -0.1021 -0.1018 ... -0.07628 -0.07607\n",
      "    V10      (time, lat, lon) float64 0.04203 0.04223 ... 0.03965 0.03975\n",
      "'prepare_run'  26.27795 s \n",
      "\n",
      "'create_inputs'  02 min 26 s \n",
      "\n"
     ]
    },
    {
     "name": "stderr",
     "output_type": "stream",
     "text": [
      "Sweep, dryrun=False:   8%|▊         | 20/250 [2:24:29<25:08:00, 393.39s/it]"
     ]
    },
    {
     "name": "stdout",
     "output_type": "stream",
     "text": [
      "'run_adcirc'  03 min 51 s \n",
      "\n",
      "height =   2.7452925898558718 m\n"
     ]
    },
    {
     "data": {
      "text/html": [
       "Finishing last run (ID:qoxluyqy) before initializing another..."
      ],
      "text/plain": [
       "<IPython.core.display.HTML object>"
      ]
     },
     "metadata": {},
     "output_type": "display_data"
    },
    {
     "data": {
      "text/html": [
       "Waiting for W&B process to finish... <strong style=\"color:green\">(success).</strong>"
      ],
      "text/plain": [
       "<IPython.core.display.HTML object>"
      ]
     },
     "metadata": {},
     "output_type": "display_data"
    },
    {
     "data": {
      "application/vnd.jupyter.widget-view+json": {
       "model_id": "4a3e275ca6134c7283b3386c44659973",
       "version_major": 2,
       "version_minor": 0
      },
      "text/plain": [
       "VBox(children=(Label(value='0.126 MB of 0.126 MB uploaded (0.000 MB deduped)\\r'), FloatProgress(value=1.0, max…"
      ]
     },
     "metadata": {},
     "output_type": "display_data"
    },
    {
     "data": {
      "text/html": [
       "<style>\n",
       "    table.wandb td:nth-child(1) { padding: 0 10px; text-align: left ; width: auto;} td:nth-child(2) {text-align: left ; width: 100%}\n",
       "    .wandb-row { display: flex; flex-direction: row; flex-wrap: wrap; justify-content: flex-start; width: 100% }\n",
       "    .wandb-col { display: flex; flex-direction: column; flex-basis: 100%; flex: 1; padding: 10px; }\n",
       "    </style>\n",
       "<div class=\"wandb-row\"><div class=\"wandb-col\"><h3>Run history:</h3><br/><table class=\"wandb\"><tr><td>angle</td><td>▁</td></tr><tr><td>height</td><td>▁</td></tr><tr><td>pc</td><td>▁</td></tr><tr><td>point_east</td><td>▁</td></tr><tr><td>rmax</td><td>▁</td></tr><tr><td>speed</td><td>▁</td></tr><tr><td>vmax</td><td>▁</td></tr><tr><td>xn</td><td>▁</td></tr></table><br/></div><div class=\"wandb-col\"><h3>Run summary:</h3><br/><table class=\"wandb\"><tr><td>angle</td><td>22.68</td></tr><tr><td>height</td><td>2.74529</td></tr><tr><td>pc</td><td>96607.9998</td></tr><tr><td>point_east</td><td>-0.0708</td></tr><tr><td>rmax</td><td>51763.99887</td></tr><tr><td>speed</td><td>16.148</td></tr><tr><td>vmax</td><td>54.01667</td></tr><tr><td>xn</td><td>0.8252</td></tr></table><br/></div></div>"
      ],
      "text/plain": [
       "<IPython.core.display.HTML object>"
      ]
     },
     "metadata": {},
     "output_type": "display_data"
    },
    {
     "data": {
      "text/html": [
       " View run <strong style=\"color:#cdcd00\">dazzling-monkey-22</strong> at: <a href=\"https://wandb.ai/sdat2/6D_individual/runs/qoxluyqy\" target=\"_blank\">https://wandb.ai/sdat2/6D_individual/runs/qoxluyqy</a><br/>Synced 7 W&B file(s), 0 media file(s), 0 artifact file(s) and 0 other file(s)"
      ],
      "text/plain": [
       "<IPython.core.display.HTML object>"
      ]
     },
     "metadata": {},
     "output_type": "display_data"
    },
    {
     "data": {
      "text/html": [
       "Find logs at: <code>./wandb/run-20230202_234637-qoxluyqy/logs</code>"
      ],
      "text/plain": [
       "<IPython.core.display.HTML object>"
      ]
     },
     "metadata": {},
     "output_type": "display_data"
    },
    {
     "data": {
      "text/html": [
       "Successfully finished last run (ID:qoxluyqy). Initializing new run:<br/>"
      ],
      "text/plain": [
       "<IPython.core.display.HTML object>"
      ]
     },
     "metadata": {},
     "output_type": "display_data"
    },
    {
     "data": {
      "application/vnd.jupyter.widget-view+json": {
       "model_id": "83c8729565874161a17186ffcddf4a88",
       "version_major": 2,
       "version_minor": 0
      },
      "text/plain": [
       "VBox(children=(Label(value='Waiting for wandb.init()...\\r'), FloatProgress(value=0.01683461598334664, max=1.0)…"
      ]
     },
     "metadata": {},
     "output_type": "display_data"
    },
    {
     "data": {
      "text/html": [
       "Tracking run with wandb version 0.13.9"
      ],
      "text/plain": [
       "<IPython.core.display.HTML object>"
      ]
     },
     "metadata": {},
     "output_type": "display_data"
    },
    {
     "data": {
      "text/html": [
       "Run data is saved locally in <code>/Users/simon/new-orleans/notebooks/exploratory/wandb/run-20230202_235308-qywio7bg</code>"
      ],
      "text/plain": [
       "<IPython.core.display.HTML object>"
      ]
     },
     "metadata": {},
     "output_type": "display_data"
    },
    {
     "data": {
      "text/html": [
       "Syncing run <strong><a href=\"https://wandb.ai/sdat2/6D_individual/runs/qywio7bg\" target=\"_blank\">legendary-wonton-23</a></strong> to <a href=\"https://wandb.ai/sdat2/6D_individual\" target=\"_blank\">Weights & Biases</a> (<a href=\"https://wandb.me/run\" target=\"_blank\">docs</a>)<br/>"
      ],
      "text/plain": [
       "<IPython.core.display.HTML object>"
      ]
     },
     "metadata": {},
     "output_type": "display_data"
    },
    {
     "data": {
      "text/html": [
       " View project at <a href=\"https://wandb.ai/sdat2/6D_individual\" target=\"_blank\">https://wandb.ai/sdat2/6D_individual</a>"
      ],
      "text/plain": [
       "<IPython.core.display.HTML object>"
      ]
     },
     "metadata": {},
     "output_type": "display_data"
    },
    {
     "data": {
      "text/html": [
       " View run at <a href=\"https://wandb.ai/sdat2/6D_individual/runs/qywio7bg\" target=\"_blank\">https://wandb.ai/sdat2/6D_individual/runs/qywio7bg</a>"
      ],
      "text/plain": [
       "<IPython.core.display.HTML object>"
      ]
     },
     "metadata": {},
     "output_type": "display_data"
    },
    {
     "name": "stdout",
     "output_type": "stream",
     "text": [
      "<class 'list'>\n",
      "<xarray.Dataset>\n",
      "Dimensions:  (lat: 46, lon: 60, time: 1)\n",
      "Coordinates:\n",
      "  * lat      (lat) float64 28.6 28.65 28.7 28.75 28.8 ... 30.7 30.75 30.8 30.85\n",
      "  * lon      (lon) float64 -90.28 -90.23 -90.18 -90.13 ... -87.43 -87.38 -87.33\n",
      "  * time     (time) datetime64[ns] 2005-08-25\n",
      "Data variables:\n",
      "    U10      (time, lat, lon) float64 -0.07353 -0.07381 ... -0.0793 -0.07952\n",
      "    V10      (time, lat, lon) float64 -0.05759 -0.05758 ... -0.0414 -0.04129\n",
      "'prepare_run'  26.41625 s \n",
      "\n",
      "<class 'list'>\n",
      "<xarray.Dataset>\n",
      "Dimensions:  (lat: 100, lon: 100, time: 1)\n",
      "Coordinates:\n",
      "  * lat      (lat) float64 17.0 17.25 17.5 17.75 18.0 ... 41.0 41.25 41.5 41.75\n",
      "  * lon      (lon) float64 -99.0 -98.75 -98.5 -98.25 ... -74.75 -74.5 -74.25\n",
      "  * time     (time) datetime64[ns] 2005-08-25\n",
      "Data variables:\n",
      "    U10      (time, lat, lon) float64 -0.01572 -0.01621 ... -0.04728 -0.04716\n",
      "    V10      (time, lat, lon) float64 -0.08229 -0.08385 ... 0.005854 0.00625\n",
      "'prepare_run'  01 min 33 s \n",
      "\n",
      "<class 'list'>\n",
      "<xarray.Dataset>\n",
      "Dimensions:  (lat: 46, lon: 60, time: 1)\n",
      "Coordinates:\n",
      "  * lat      (lat) float64 25.75 25.9 26.05 26.2 26.35 ... 32.05 32.2 32.35 32.5\n",
      "  * lon      (lon) float64 -92.2 -92.05 -91.9 -91.75 ... -83.65 -83.5 -83.35\n",
      "  * time     (time) datetime64[ns] 2005-08-25\n",
      "Data variables:\n",
      "    U10      (time, lat, lon) float64 -0.0676 -0.06863 ... -0.08393 -0.08433\n",
      "    V10      (time, lat, lon) float64 -0.07497 -0.0753 ... -0.02341 -0.02287\n",
      "'prepare_run'  26.54041 s \n",
      "\n",
      "'create_inputs'  02 min 26 s \n",
      "\n"
     ]
    },
    {
     "name": "stderr",
     "output_type": "stream",
     "text": [
      "Sweep, dryrun=False:   8%|▊         | 21/250 [2:31:01<24:59:46, 392.95s/it]"
     ]
    },
    {
     "name": "stdout",
     "output_type": "stream",
     "text": [
      "'run_adcirc'  03 min 52 s \n",
      "\n",
      "height =   3.5513845089214477 m\n"
     ]
    },
    {
     "data": {
      "text/html": [
       "Finishing last run (ID:qywio7bg) before initializing another..."
      ],
      "text/plain": [
       "<IPython.core.display.HTML object>"
      ]
     },
     "metadata": {},
     "output_type": "display_data"
    },
    {
     "data": {
      "text/html": [
       "Waiting for W&B process to finish... <strong style=\"color:green\">(success).</strong>"
      ],
      "text/plain": [
       "<IPython.core.display.HTML object>"
      ]
     },
     "metadata": {},
     "output_type": "display_data"
    },
    {
     "data": {
      "application/vnd.jupyter.widget-view+json": {
       "model_id": "cc82321764d24e778d273e8918f61177",
       "version_major": 2,
       "version_minor": 0
      },
      "text/plain": [
       "VBox(children=(Label(value='0.134 MB of 0.155 MB uploaded (0.000 MB deduped)\\r'), FloatProgress(value=0.863038…"
      ]
     },
     "metadata": {},
     "output_type": "display_data"
    },
    {
     "data": {
      "text/html": [
       "<style>\n",
       "    table.wandb td:nth-child(1) { padding: 0 10px; text-align: left ; width: auto;} td:nth-child(2) {text-align: left ; width: 100%}\n",
       "    .wandb-row { display: flex; flex-direction: row; flex-wrap: wrap; justify-content: flex-start; width: 100% }\n",
       "    .wandb-col { display: flex; flex-direction: column; flex-basis: 100%; flex: 1; padding: 10px; }\n",
       "    </style>\n",
       "<div class=\"wandb-row\"><div class=\"wandb-col\"><h3>Run history:</h3><br/><table class=\"wandb\"><tr><td>angle</td><td>▁</td></tr><tr><td>height</td><td>▁</td></tr><tr><td>pc</td><td>▁</td></tr><tr><td>point_east</td><td>▁</td></tr><tr><td>rmax</td><td>▁</td></tr><tr><td>speed</td><td>▁</td></tr><tr><td>vmax</td><td>▁</td></tr><tr><td>xn</td><td>▁</td></tr></table><br/></div><div class=\"wandb-col\"><h3>Run summary:</h3><br/><table class=\"wandb\"><tr><td>angle</td><td>-34.2</td></tr><tr><td>height</td><td>3.55138</td></tr><tr><td>pc</td><td>94719.99979</td></tr><tr><td>point_east</td><td>0.4908</td></tr><tr><td>rmax</td><td>21603.99997</td></tr><tr><td>speed</td><td>5.852</td></tr><tr><td>vmax</td><td>54.01667</td></tr><tr><td>xn</td><td>1.322</td></tr></table><br/></div></div>"
      ],
      "text/plain": [
       "<IPython.core.display.HTML object>"
      ]
     },
     "metadata": {},
     "output_type": "display_data"
    },
    {
     "data": {
      "text/html": [
       " View run <strong style=\"color:#cdcd00\">legendary-wonton-23</strong> at: <a href=\"https://wandb.ai/sdat2/6D_individual/runs/qywio7bg\" target=\"_blank\">https://wandb.ai/sdat2/6D_individual/runs/qywio7bg</a><br/>Synced 7 W&B file(s), 0 media file(s), 0 artifact file(s) and 1 other file(s)"
      ],
      "text/plain": [
       "<IPython.core.display.HTML object>"
      ]
     },
     "metadata": {},
     "output_type": "display_data"
    },
    {
     "data": {
      "text/html": [
       "Find logs at: <code>./wandb/run-20230202_235308-qywio7bg/logs</code>"
      ],
      "text/plain": [
       "<IPython.core.display.HTML object>"
      ]
     },
     "metadata": {},
     "output_type": "display_data"
    },
    {
     "data": {
      "text/html": [
       "Successfully finished last run (ID:qywio7bg). Initializing new run:<br/>"
      ],
      "text/plain": [
       "<IPython.core.display.HTML object>"
      ]
     },
     "metadata": {},
     "output_type": "display_data"
    },
    {
     "data": {
      "application/vnd.jupyter.widget-view+json": {
       "model_id": "5b06400886e742b3af5a7508eac5d1a0",
       "version_major": 2,
       "version_minor": 0
      },
      "text/plain": [
       "VBox(children=(Label(value='Waiting for wandb.init()...\\r'), FloatProgress(value=0.016834847916652507, max=1.0…"
      ]
     },
     "metadata": {},
     "output_type": "display_data"
    },
    {
     "data": {
      "text/html": [
       "Tracking run with wandb version 0.13.9"
      ],
      "text/plain": [
       "<IPython.core.display.HTML object>"
      ]
     },
     "metadata": {},
     "output_type": "display_data"
    },
    {
     "data": {
      "text/html": [
       "Run data is saved locally in <code>/Users/simon/new-orleans/notebooks/exploratory/wandb/run-20230202_235940-6099cz8v</code>"
      ],
      "text/plain": [
       "<IPython.core.display.HTML object>"
      ]
     },
     "metadata": {},
     "output_type": "display_data"
    },
    {
     "data": {
      "text/html": [
       "Syncing run <strong><a href=\"https://wandb.ai/sdat2/6D_individual/runs/6099cz8v\" target=\"_blank\">scintillating-rabbit-24</a></strong> to <a href=\"https://wandb.ai/sdat2/6D_individual\" target=\"_blank\">Weights & Biases</a> (<a href=\"https://wandb.me/run\" target=\"_blank\">docs</a>)<br/>"
      ],
      "text/plain": [
       "<IPython.core.display.HTML object>"
      ]
     },
     "metadata": {},
     "output_type": "display_data"
    },
    {
     "data": {
      "text/html": [
       " View project at <a href=\"https://wandb.ai/sdat2/6D_individual\" target=\"_blank\">https://wandb.ai/sdat2/6D_individual</a>"
      ],
      "text/plain": [
       "<IPython.core.display.HTML object>"
      ]
     },
     "metadata": {},
     "output_type": "display_data"
    },
    {
     "data": {
      "text/html": [
       " View run at <a href=\"https://wandb.ai/sdat2/6D_individual/runs/6099cz8v\" target=\"_blank\">https://wandb.ai/sdat2/6D_individual/runs/6099cz8v</a>"
      ],
      "text/plain": [
       "<IPython.core.display.HTML object>"
      ]
     },
     "metadata": {},
     "output_type": "display_data"
    },
    {
     "name": "stdout",
     "output_type": "stream",
     "text": [
      "<class 'list'>\n",
      "<xarray.Dataset>\n",
      "Dimensions:  (lat: 46, lon: 60, time: 1)\n",
      "Coordinates:\n",
      "  * lat      (lat) float64 28.6 28.65 28.7 28.75 28.8 ... 30.7 30.75 30.8 30.85\n",
      "  * lon      (lon) float64 -90.28 -90.23 -90.18 -90.13 ... -87.43 -87.38 -87.33\n",
      "  * time     (time) datetime64[ns] 2005-08-25\n",
      "Data variables:\n",
      "    U10      (time, lat, lon) float64 -0.0001152 -0.0001155 ... -0.0001387\n",
      "    V10      (time, lat, lon) float64 -0.0002522 -0.0002526 ... -0.0002658\n",
      "'prepare_run'  26.80416 s \n",
      "\n",
      "<class 'list'>\n",
      "<xarray.Dataset>\n",
      "Dimensions:  (lat: 100, lon: 100, time: 1)\n",
      "Coordinates:\n",
      "  * lat      (lat) float64 17.0 17.25 17.5 17.75 18.0 ... 41.0 41.25 41.5 41.75\n",
      "  * lon      (lon) float64 -99.0 -98.75 -98.5 -98.25 ... -74.75 -74.5 -74.25\n",
      "  * time     (time) datetime64[ns] 2005-08-25\n",
      "Data variables:\n",
      "    U10      (time, lat, lon) float64 -4.779e-05 -4.84e-05 ... -0.0002539\n",
      "    V10      (time, lat, lon) float64 -0.000213 -0.0002149 ... -0.0002697\n",
      "'prepare_run'  01 min 33 s \n",
      "\n",
      "<class 'list'>\n",
      "<xarray.Dataset>\n",
      "Dimensions:  (lat: 46, lon: 60, time: 1)\n",
      "Coordinates:\n",
      "  * lat      (lat) float64 25.75 25.9 26.05 26.2 26.35 ... 32.05 32.2 32.35 32.5\n",
      "  * lon      (lon) float64 -92.2 -92.05 -91.9 -91.75 ... -83.65 -83.5 -83.35\n",
      "  * time     (time) datetime64[ns] 2005-08-25\n",
      "Data variables:\n",
      "    U10      (time, lat, lon) float64 -9.771e-05 -9.846e-05 ... -0.0001721\n",
      "    V10      (time, lat, lon) float64 -0.0002473 -0.0002486 ... -0.0002895\n",
      "'prepare_run'  26.44453 s \n",
      "\n",
      "'create_inputs'  02 min 27 s \n",
      "\n"
     ]
    },
    {
     "name": "stderr",
     "output_type": "stream",
     "text": [
      "Sweep, dryrun=False:   9%|▉         | 22/250 [2:37:33<24:52:43, 392.82s/it]"
     ]
    },
    {
     "name": "stdout",
     "output_type": "stream",
     "text": [
      "'run_adcirc'  03 min 52 s \n",
      "\n",
      "height =   0.8794108083937376 m\n"
     ]
    },
    {
     "data": {
      "text/html": [
       "Finishing last run (ID:6099cz8v) before initializing another..."
      ],
      "text/plain": [
       "<IPython.core.display.HTML object>"
      ]
     },
     "metadata": {},
     "output_type": "display_data"
    },
    {
     "data": {
      "text/html": [
       "Waiting for W&B process to finish... <strong style=\"color:green\">(success).</strong>"
      ],
      "text/plain": [
       "<IPython.core.display.HTML object>"
      ]
     },
     "metadata": {},
     "output_type": "display_data"
    },
    {
     "data": {
      "application/vnd.jupyter.widget-view+json": {
       "model_id": "c200c002dcab4bb3af4a99256fbd09b4",
       "version_major": 2,
       "version_minor": 0
      },
      "text/plain": [
       "VBox(children=(Label(value='0.142 MB of 0.163 MB uploaded (0.000 MB deduped)\\r'), FloatProgress(value=0.869934…"
      ]
     },
     "metadata": {},
     "output_type": "display_data"
    },
    {
     "data": {
      "text/html": [
       "<style>\n",
       "    table.wandb td:nth-child(1) { padding: 0 10px; text-align: left ; width: auto;} td:nth-child(2) {text-align: left ; width: 100%}\n",
       "    .wandb-row { display: flex; flex-direction: row; flex-wrap: wrap; justify-content: flex-start; width: 100% }\n",
       "    .wandb-col { display: flex; flex-direction: column; flex-basis: 100%; flex: 1; padding: 10px; }\n",
       "    </style>\n",
       "<div class=\"wandb-row\"><div class=\"wandb-col\"><h3>Run history:</h3><br/><table class=\"wandb\"><tr><td>angle</td><td>▁</td></tr><tr><td>height</td><td>▁</td></tr><tr><td>pc</td><td>▁</td></tr><tr><td>point_east</td><td>▁</td></tr><tr><td>rmax</td><td>▁</td></tr><tr><td>speed</td><td>▁</td></tr><tr><td>vmax</td><td>▁</td></tr><tr><td>xn</td><td>▁</td></tr></table><br/></div><div class=\"wandb-col\"><h3>Run summary:</h3><br/><table class=\"wandb\"><tr><td>angle</td><td>-64.44</td></tr><tr><td>height</td><td>0.87941</td></tr><tr><td>pc</td><td>97280.00021</td></tr><tr><td>point_east</td><td>-0.438</td></tr><tr><td>rmax</td><td>37612.0013</td></tr><tr><td>speed</td><td>18.524</td></tr><tr><td>vmax</td><td>54.01667</td></tr><tr><td>xn</td><td>1.2068</td></tr></table><br/></div></div>"
      ],
      "text/plain": [
       "<IPython.core.display.HTML object>"
      ]
     },
     "metadata": {},
     "output_type": "display_data"
    },
    {
     "data": {
      "text/html": [
       " View run <strong style=\"color:#cdcd00\">scintillating-rabbit-24</strong> at: <a href=\"https://wandb.ai/sdat2/6D_individual/runs/6099cz8v\" target=\"_blank\">https://wandb.ai/sdat2/6D_individual/runs/6099cz8v</a><br/>Synced 7 W&B file(s), 0 media file(s), 0 artifact file(s) and 0 other file(s)"
      ],
      "text/plain": [
       "<IPython.core.display.HTML object>"
      ]
     },
     "metadata": {},
     "output_type": "display_data"
    },
    {
     "data": {
      "text/html": [
       "Find logs at: <code>./wandb/run-20230202_235940-6099cz8v/logs</code>"
      ],
      "text/plain": [
       "<IPython.core.display.HTML object>"
      ]
     },
     "metadata": {},
     "output_type": "display_data"
    },
    {
     "data": {
      "text/html": [
       "Successfully finished last run (ID:6099cz8v). Initializing new run:<br/>"
      ],
      "text/plain": [
       "<IPython.core.display.HTML object>"
      ]
     },
     "metadata": {},
     "output_type": "display_data"
    },
    {
     "data": {
      "application/vnd.jupyter.widget-view+json": {
       "model_id": "8d9e1887610844a3ad9494e5e7994020",
       "version_major": 2,
       "version_minor": 0
      },
      "text/plain": [
       "VBox(children=(Label(value='Waiting for wandb.init()...\\r'), FloatProgress(value=0.016723582633342934, max=1.0…"
      ]
     },
     "metadata": {},
     "output_type": "display_data"
    },
    {
     "data": {
      "text/html": [
       "Tracking run with wandb version 0.13.9"
      ],
      "text/plain": [
       "<IPython.core.display.HTML object>"
      ]
     },
     "metadata": {},
     "output_type": "display_data"
    },
    {
     "data": {
      "text/html": [
       "Run data is saved locally in <code>/Users/simon/new-orleans/notebooks/exploratory/wandb/run-20230203_000612-rijleyj8</code>"
      ],
      "text/plain": [
       "<IPython.core.display.HTML object>"
      ]
     },
     "metadata": {},
     "output_type": "display_data"
    },
    {
     "data": {
      "text/html": [
       "Syncing run <strong><a href=\"https://wandb.ai/sdat2/6D_individual/runs/rijleyj8\" target=\"_blank\">lucky-monkey-25</a></strong> to <a href=\"https://wandb.ai/sdat2/6D_individual\" target=\"_blank\">Weights & Biases</a> (<a href=\"https://wandb.me/run\" target=\"_blank\">docs</a>)<br/>"
      ],
      "text/plain": [
       "<IPython.core.display.HTML object>"
      ]
     },
     "metadata": {},
     "output_type": "display_data"
    },
    {
     "data": {
      "text/html": [
       " View project at <a href=\"https://wandb.ai/sdat2/6D_individual\" target=\"_blank\">https://wandb.ai/sdat2/6D_individual</a>"
      ],
      "text/plain": [
       "<IPython.core.display.HTML object>"
      ]
     },
     "metadata": {},
     "output_type": "display_data"
    },
    {
     "data": {
      "text/html": [
       " View run at <a href=\"https://wandb.ai/sdat2/6D_individual/runs/rijleyj8\" target=\"_blank\">https://wandb.ai/sdat2/6D_individual/runs/rijleyj8</a>"
      ],
      "text/plain": [
       "<IPython.core.display.HTML object>"
      ]
     },
     "metadata": {},
     "output_type": "display_data"
    },
    {
     "name": "stdout",
     "output_type": "stream",
     "text": [
      "<class 'list'>\n",
      "<xarray.Dataset>\n",
      "Dimensions:  (lat: 46, lon: 60, time: 1)\n",
      "Coordinates:\n",
      "  * lat      (lat) float64 28.6 28.65 28.7 28.75 28.8 ... 30.7 30.75 30.8 30.85\n",
      "  * lon      (lon) float64 -90.28 -90.23 -90.18 -90.13 ... -87.43 -87.38 -87.33\n",
      "  * time     (time) datetime64[ns] 2005-08-25\n",
      "Data variables:\n",
      "    U10      (time, lat, lon) float64 -0.001406 -0.001416 ... -0.002968\n",
      "    V10      (time, lat, lon) float64 -0.006189 -0.006216 ... -0.007195\n",
      "'prepare_run'  26.47081 s \n",
      "\n",
      "<class 'list'>\n",
      "<xarray.Dataset>\n",
      "Dimensions:  (lat: 100, lon: 100, time: 1)\n",
      "Coordinates:\n",
      "  * lat      (lat) float64 17.0 17.25 17.5 17.75 18.0 ... 41.0 41.25 41.5 41.75\n",
      "  * lon      (lon) float64 -99.0 -98.75 -98.5 -98.25 ... -74.75 -74.5 -74.25\n",
      "  * time     (time) datetime64[ns] 2005-08-25\n",
      "Data variables:\n",
      "    U10      (time, lat, lon) float64 0.0007602 0.0007782 ... -0.006091\n",
      "    V10      (time, lat, lon) float64 -0.002836 -0.002877 ... -0.0009367\n",
      "'prepare_run'  01 min 33 s \n",
      "\n",
      "<class 'list'>\n",
      "<xarray.Dataset>\n",
      "Dimensions:  (lat: 46, lon: 60, time: 1)\n",
      "Coordinates:\n",
      "  * lat      (lat) float64 25.75 25.9 26.05 26.2 26.35 ... 32.05 32.2 32.35 32.5\n",
      "  * lon      (lon) float64 -92.2 -92.05 -91.9 -91.75 ... -83.65 -83.5 -83.35\n",
      "  * time     (time) datetime64[ns] 2005-08-25\n",
      "Data variables:\n",
      "    U10      (time, lat, lon) float64 -0.0003715 -0.000379 ... -0.005839\n",
      "    V10      (time, lat, lon) float64 -0.005479 -0.00555 ... -0.008355 -0.008437\n",
      "'prepare_run'  26.28357 s \n",
      "\n",
      "'create_inputs'  02 min 26 s \n",
      "\n"
     ]
    },
    {
     "name": "stderr",
     "output_type": "stream",
     "text": [
      "Sweep, dryrun=False:   9%|▉         | 23/250 [2:44:03<24:43:07, 392.02s/it]"
     ]
    },
    {
     "name": "stdout",
     "output_type": "stream",
     "text": [
      "'run_adcirc'  03 min 51 s \n",
      "\n",
      "height =   0.6919688140961189 m\n"
     ]
    },
    {
     "data": {
      "text/html": [
       "Finishing last run (ID:rijleyj8) before initializing another..."
      ],
      "text/plain": [
       "<IPython.core.display.HTML object>"
      ]
     },
     "metadata": {},
     "output_type": "display_data"
    },
    {
     "data": {
      "text/html": [
       "Waiting for W&B process to finish... <strong style=\"color:green\">(success).</strong>"
      ],
      "text/plain": [
       "<IPython.core.display.HTML object>"
      ]
     },
     "metadata": {},
     "output_type": "display_data"
    },
    {
     "data": {
      "application/vnd.jupyter.widget-view+json": {
       "model_id": "e6a43e0adbda417dbde202049df84083",
       "version_major": 2,
       "version_minor": 0
      },
      "text/plain": [
       "VBox(children=(Label(value='0.150 MB of 0.150 MB uploaded (0.000 MB deduped)\\r'), FloatProgress(value=1.0, max…"
      ]
     },
     "metadata": {},
     "output_type": "display_data"
    },
    {
     "data": {
      "text/html": [
       "<style>\n",
       "    table.wandb td:nth-child(1) { padding: 0 10px; text-align: left ; width: auto;} td:nth-child(2) {text-align: left ; width: 100%}\n",
       "    .wandb-row { display: flex; flex-direction: row; flex-wrap: wrap; justify-content: flex-start; width: 100% }\n",
       "    .wandb-col { display: flex; flex-direction: column; flex-basis: 100%; flex: 1; padding: 10px; }\n",
       "    </style>\n",
       "<div class=\"wandb-row\"><div class=\"wandb-col\"><h3>Run history:</h3><br/><table class=\"wandb\"><tr><td>angle</td><td>▁</td></tr><tr><td>height</td><td>▁</td></tr><tr><td>pc</td><td>▁</td></tr><tr><td>point_east</td><td>▁</td></tr><tr><td>rmax</td><td>▁</td></tr><tr><td>speed</td><td>▁</td></tr><tr><td>vmax</td><td>▁</td></tr><tr><td>xn</td><td>▁</td></tr></table><br/></div><div class=\"wandb-col\"><h3>Run summary:</h3><br/><table class=\"wandb\"><tr><td>angle</td><td>-72.36</td></tr><tr><td>height</td><td>0.69197</td></tr><tr><td>pc</td><td>94783.99992</td></tr><tr><td>point_east</td><td>0.8868</td></tr><tr><td>rmax</td><td>5363.9999</td></tr><tr><td>speed</td><td>5.276</td></tr><tr><td>vmax</td><td>54.01667</td></tr><tr><td>xn</td><td>1.3916</td></tr></table><br/></div></div>"
      ],
      "text/plain": [
       "<IPython.core.display.HTML object>"
      ]
     },
     "metadata": {},
     "output_type": "display_data"
    },
    {
     "data": {
      "text/html": [
       " View run <strong style=\"color:#cdcd00\">lucky-monkey-25</strong> at: <a href=\"https://wandb.ai/sdat2/6D_individual/runs/rijleyj8\" target=\"_blank\">https://wandb.ai/sdat2/6D_individual/runs/rijleyj8</a><br/>Synced 7 W&B file(s), 0 media file(s), 0 artifact file(s) and 1 other file(s)"
      ],
      "text/plain": [
       "<IPython.core.display.HTML object>"
      ]
     },
     "metadata": {},
     "output_type": "display_data"
    },
    {
     "data": {
      "text/html": [
       "Find logs at: <code>./wandb/run-20230203_000612-rijleyj8/logs</code>"
      ],
      "text/plain": [
       "<IPython.core.display.HTML object>"
      ]
     },
     "metadata": {},
     "output_type": "display_data"
    },
    {
     "data": {
      "text/html": [
       "Successfully finished last run (ID:rijleyj8). Initializing new run:<br/>"
      ],
      "text/plain": [
       "<IPython.core.display.HTML object>"
      ]
     },
     "metadata": {},
     "output_type": "display_data"
    },
    {
     "data": {
      "application/vnd.jupyter.widget-view+json": {
       "model_id": "63ae5868f1924b58adb64569481df9b5",
       "version_major": 2,
       "version_minor": 0
      },
      "text/plain": [
       "VBox(children=(Label(value='Waiting for wandb.init()...\\r'), FloatProgress(value=0.016834615283338888, max=1.0…"
      ]
     },
     "metadata": {},
     "output_type": "display_data"
    },
    {
     "data": {
      "text/html": [
       "Tracking run with wandb version 0.13.9"
      ],
      "text/plain": [
       "<IPython.core.display.HTML object>"
      ]
     },
     "metadata": {},
     "output_type": "display_data"
    },
    {
     "data": {
      "text/html": [
       "Run data is saved locally in <code>/Users/simon/new-orleans/notebooks/exploratory/wandb/run-20230203_001243-f660fr37</code>"
      ],
      "text/plain": [
       "<IPython.core.display.HTML object>"
      ]
     },
     "metadata": {},
     "output_type": "display_data"
    },
    {
     "data": {
      "text/html": [
       "Syncing run <strong><a href=\"https://wandb.ai/sdat2/6D_individual/runs/f660fr37\" target=\"_blank\">sparkling-paper-26</a></strong> to <a href=\"https://wandb.ai/sdat2/6D_individual\" target=\"_blank\">Weights & Biases</a> (<a href=\"https://wandb.me/run\" target=\"_blank\">docs</a>)<br/>"
      ],
      "text/plain": [
       "<IPython.core.display.HTML object>"
      ]
     },
     "metadata": {},
     "output_type": "display_data"
    },
    {
     "data": {
      "text/html": [
       " View project at <a href=\"https://wandb.ai/sdat2/6D_individual\" target=\"_blank\">https://wandb.ai/sdat2/6D_individual</a>"
      ],
      "text/plain": [
       "<IPython.core.display.HTML object>"
      ]
     },
     "metadata": {},
     "output_type": "display_data"
    },
    {
     "data": {
      "text/html": [
       " View run at <a href=\"https://wandb.ai/sdat2/6D_individual/runs/f660fr37\" target=\"_blank\">https://wandb.ai/sdat2/6D_individual/runs/f660fr37</a>"
      ],
      "text/plain": [
       "<IPython.core.display.HTML object>"
      ]
     },
     "metadata": {},
     "output_type": "display_data"
    },
    {
     "name": "stdout",
     "output_type": "stream",
     "text": [
      "<class 'list'>\n",
      "<xarray.Dataset>\n",
      "Dimensions:  (lat: 46, lon: 60, time: 1)\n",
      "Coordinates:\n",
      "  * lat      (lat) float64 28.6 28.65 28.7 28.75 28.8 ... 30.7 30.75 30.8 30.85\n",
      "  * lon      (lon) float64 -90.28 -90.23 -90.18 -90.13 ... -87.43 -87.38 -87.33\n",
      "  * time     (time) datetime64[ns] 2005-08-25\n",
      "Data variables:\n",
      "    U10      (time, lat, lon) float64 -0.01029 -0.01031 ... -0.05627 -0.05635\n",
      "    V10      (time, lat, lon) float64 -1.121 -1.122 -1.123 ... -1.178 -1.178\n",
      "'prepare_run'  26.19722 s \n",
      "\n",
      "<class 'list'>\n",
      "<xarray.Dataset>\n",
      "Dimensions:  (lat: 100, lon: 100, time: 1)\n",
      "Coordinates:\n",
      "  * lat      (lat) float64 17.0 17.25 17.5 17.75 18.0 ... 41.0 41.25 41.5 41.75\n",
      "  * lon      (lon) float64 -99.0 -98.75 -98.5 -98.25 ... -74.75 -74.5 -74.25\n",
      "  * time     (time) datetime64[ns] 2005-08-25\n",
      "Data variables:\n",
      "    U10      (time, lat, lon) float64 0.1462 0.1471 0.1481 ... -0.4176 -0.4214\n",
      "    V10      (time, lat, lon) float64 -0.9353 -0.938 -0.9407 ... -1.403 -1.408\n",
      "'prepare_run'  01 min 33 s \n",
      "\n",
      "<class 'list'>\n",
      "<xarray.Dataset>\n",
      "Dimensions:  (lat: 46, lon: 60, time: 1)\n",
      "Coordinates:\n",
      "  * lat      (lat) float64 25.75 25.9 26.05 26.2 26.35 ... 32.05 32.2 32.35 32.5\n",
      "  * lon      (lon) float64 -92.2 -92.05 -91.9 -91.75 ... -83.65 -83.5 -83.35\n",
      "  * time     (time) datetime64[ns] 2005-08-25\n",
      "Data variables:\n",
      "    U10      (time, lat, lon) float64 0.03856 0.03872 ... -0.1015 -0.1021\n",
      "    V10      (time, lat, lon) float64 -1.078 -1.08 -1.082 ... -1.252 -1.255\n",
      "'prepare_run'  26.87658 s \n",
      "\n",
      "'create_inputs'  02 min 26 s \n",
      "\n"
     ]
    },
    {
     "name": "stderr",
     "output_type": "stream",
     "text": [
      "Sweep, dryrun=False:  10%|▉         | 24/250 [2:50:39<24:40:18, 393.00s/it]"
     ]
    },
    {
     "name": "stdout",
     "output_type": "stream",
     "text": [
      "'run_adcirc'  03 min 54 s \n",
      "\n",
      "height =   2.1913645072209103 m\n"
     ]
    },
    {
     "data": {
      "text/html": [
       "Finishing last run (ID:f660fr37) before initializing another..."
      ],
      "text/plain": [
       "<IPython.core.display.HTML object>"
      ]
     },
     "metadata": {},
     "output_type": "display_data"
    },
    {
     "data": {
      "text/html": [
       "Waiting for W&B process to finish... <strong style=\"color:green\">(success).</strong>"
      ],
      "text/plain": [
       "<IPython.core.display.HTML object>"
      ]
     },
     "metadata": {},
     "output_type": "display_data"
    },
    {
     "data": {
      "text/html": [
       "<style>\n",
       "    table.wandb td:nth-child(1) { padding: 0 10px; text-align: left ; width: auto;} td:nth-child(2) {text-align: left ; width: 100%}\n",
       "    .wandb-row { display: flex; flex-direction: row; flex-wrap: wrap; justify-content: flex-start; width: 100% }\n",
       "    .wandb-col { display: flex; flex-direction: column; flex-basis: 100%; flex: 1; padding: 10px; }\n",
       "    </style>\n",
       "<div class=\"wandb-row\"><div class=\"wandb-col\"><h3>Run history:</h3><br/><table class=\"wandb\"><tr><td>angle</td><td>▁</td></tr><tr><td>height</td><td>▁</td></tr><tr><td>pc</td><td>▁</td></tr><tr><td>point_east</td><td>▁</td></tr><tr><td>rmax</td><td>▁</td></tr><tr><td>speed</td><td>▁</td></tr><tr><td>vmax</td><td>▁</td></tr><tr><td>xn</td><td>▁</td></tr></table><br/></div><div class=\"wandb-col\"><h3>Run summary:</h3><br/><table class=\"wandb\"><tr><td>angle</td><td>-88.2</td></tr><tr><td>height</td><td>2.19136</td></tr><tr><td>pc</td><td>91776.00002</td></tr><tr><td>point_east</td><td>0.5988</td></tr><tr><td>rmax</td><td>23460.00028</td></tr><tr><td>speed</td><td>17.444</td></tr><tr><td>vmax</td><td>54.01667</td></tr><tr><td>xn</td><td>1.0268</td></tr></table><br/></div></div>"
      ],
      "text/plain": [
       "<IPython.core.display.HTML object>"
      ]
     },
     "metadata": {},
     "output_type": "display_data"
    },
    {
     "data": {
      "text/html": [
       " View run <strong style=\"color:#cdcd00\">sparkling-paper-26</strong> at: <a href=\"https://wandb.ai/sdat2/6D_individual/runs/f660fr37\" target=\"_blank\">https://wandb.ai/sdat2/6D_individual/runs/f660fr37</a><br/>Synced 7 W&B file(s), 0 media file(s), 0 artifact file(s) and 0 other file(s)"
      ],
      "text/plain": [
       "<IPython.core.display.HTML object>"
      ]
     },
     "metadata": {},
     "output_type": "display_data"
    },
    {
     "data": {
      "text/html": [
       "Find logs at: <code>./wandb/run-20230203_001243-f660fr37/logs</code>"
      ],
      "text/plain": [
       "<IPython.core.display.HTML object>"
      ]
     },
     "metadata": {},
     "output_type": "display_data"
    },
    {
     "data": {
      "text/html": [
       "Successfully finished last run (ID:f660fr37). Initializing new run:<br/>"
      ],
      "text/plain": [
       "<IPython.core.display.HTML object>"
      ]
     },
     "metadata": {},
     "output_type": "display_data"
    },
    {
     "data": {
      "application/vnd.jupyter.widget-view+json": {
       "model_id": "439381b6cdf647e6992467e49de82c4a",
       "version_major": 2,
       "version_minor": 0
      },
      "text/plain": [
       "VBox(children=(Label(value='Waiting for wandb.init()...\\r'), FloatProgress(value=0.016827897233330683, max=1.0…"
      ]
     },
     "metadata": {},
     "output_type": "display_data"
    },
    {
     "data": {
      "text/html": [
       "Tracking run with wandb version 0.13.9"
      ],
      "text/plain": [
       "<IPython.core.display.HTML object>"
      ]
     },
     "metadata": {},
     "output_type": "display_data"
    },
    {
     "data": {
      "text/html": [
       "Run data is saved locally in <code>/Users/simon/new-orleans/notebooks/exploratory/wandb/run-20230203_001918-98gggbug</code>"
      ],
      "text/plain": [
       "<IPython.core.display.HTML object>"
      ]
     },
     "metadata": {},
     "output_type": "display_data"
    },
    {
     "data": {
      "text/html": [
       "Syncing run <strong><a href=\"https://wandb.ai/sdat2/6D_individual/runs/98gggbug\" target=\"_blank\">vivid-peony-27</a></strong> to <a href=\"https://wandb.ai/sdat2/6D_individual\" target=\"_blank\">Weights & Biases</a> (<a href=\"https://wandb.me/run\" target=\"_blank\">docs</a>)<br/>"
      ],
      "text/plain": [
       "<IPython.core.display.HTML object>"
      ]
     },
     "metadata": {},
     "output_type": "display_data"
    },
    {
     "data": {
      "text/html": [
       " View project at <a href=\"https://wandb.ai/sdat2/6D_individual\" target=\"_blank\">https://wandb.ai/sdat2/6D_individual</a>"
      ],
      "text/plain": [
       "<IPython.core.display.HTML object>"
      ]
     },
     "metadata": {},
     "output_type": "display_data"
    },
    {
     "data": {
      "text/html": [
       " View run at <a href=\"https://wandb.ai/sdat2/6D_individual/runs/98gggbug\" target=\"_blank\">https://wandb.ai/sdat2/6D_individual/runs/98gggbug</a>"
      ],
      "text/plain": [
       "<IPython.core.display.HTML object>"
      ]
     },
     "metadata": {},
     "output_type": "display_data"
    },
    {
     "name": "stdout",
     "output_type": "stream",
     "text": [
      "<class 'list'>\n",
      "<xarray.Dataset>\n",
      "Dimensions:  (lat: 46, lon: 60, time: 1)\n",
      "Coordinates:\n",
      "  * lat      (lat) float64 28.6 28.65 28.7 28.75 28.8 ... 30.7 30.75 30.8 30.85\n",
      "  * lon      (lon) float64 -90.28 -90.23 -90.18 -90.13 ... -87.43 -87.38 -87.33\n",
      "  * time     (time) datetime64[ns] 2005-08-25\n",
      "Data variables:\n",
      "    U10      (time, lat, lon) float64 -0.6165 -0.6152 ... -0.6241 -0.6229\n",
      "    V10      (time, lat, lon) float64 1.847 1.845 1.844 ... 1.72 1.718 1.717\n",
      "'prepare_run'  26.91839 s \n",
      "\n",
      "<class 'list'>\n",
      "<xarray.Dataset>\n",
      "Dimensions:  (lat: 100, lon: 100, time: 1)\n",
      "Coordinates:\n",
      "  * lat      (lat) float64 17.0 17.25 17.5 17.75 18.0 ... 41.0 41.25 41.5 41.75\n",
      "  * lon      (lon) float64 -99.0 -98.75 -98.5 -98.25 ... -74.75 -74.5 -74.25\n",
      "  * time     (time) datetime64[ns] 2005-08-25\n",
      "Data variables:\n",
      "    U10      (time, lat, lon) float64 -0.1543 -0.1521 ... -0.6232 -0.6191\n",
      "    V10      (time, lat, lon) float64 2.45 2.433 2.417 2.4 ... 1.32 1.317 1.314\n",
      "'prepare_run'  01 min 34 s \n",
      "\n",
      "<class 'list'>\n",
      "<xarray.Dataset>\n",
      "Dimensions:  (lat: 46, lon: 60, time: 1)\n",
      "Coordinates:\n",
      "  * lat      (lat) float64 25.75 25.9 26.05 26.2 26.35 ... 32.05 32.2 32.35 32.5\n",
      "  * lon      (lon) float64 -92.2 -92.05 -91.9 -91.75 ... -83.65 -83.5 -83.35\n",
      "  * time     (time) datetime64[ns] 2005-08-25\n",
      "Data variables:\n",
      "    U10      (time, lat, lon) float64 -0.5463 -0.5427 ... -0.5883 -0.5853\n",
      "    V10      (time, lat, lon) float64 1.972 1.967 1.961 ... 1.601 1.598 1.595\n",
      "'prepare_run'  26.48266 s \n",
      "\n",
      "'create_inputs'  02 min 27 s \n",
      "\n"
     ]
    },
    {
     "name": "stderr",
     "output_type": "stream",
     "text": [
      "Sweep, dryrun=False:  10%|█         | 25/250 [2:57:13<24:34:47, 393.28s/it]"
     ]
    },
    {
     "name": "stdout",
     "output_type": "stream",
     "text": [
      "'run_adcirc'  03 min 50 s \n",
      "\n",
      "height =   3.5764088027356187 m\n"
     ]
    },
    {
     "data": {
      "text/html": [
       "Finishing last run (ID:98gggbug) before initializing another..."
      ],
      "text/plain": [
       "<IPython.core.display.HTML object>"
      ]
     },
     "metadata": {},
     "output_type": "display_data"
    },
    {
     "data": {
      "text/html": [
       "Waiting for W&B process to finish... <strong style=\"color:green\">(success).</strong>"
      ],
      "text/plain": [
       "<IPython.core.display.HTML object>"
      ]
     },
     "metadata": {},
     "output_type": "display_data"
    },
    {
     "data": {
      "application/vnd.jupyter.widget-view+json": {
       "model_id": "441005536d434e2c9709a462691411ac",
       "version_major": 2,
       "version_minor": 0
      },
      "text/plain": [
       "VBox(children=(Label(value='0.165 MB of 0.165 MB uploaded (0.000 MB deduped)\\r'), FloatProgress(value=1.0, max…"
      ]
     },
     "metadata": {},
     "output_type": "display_data"
    },
    {
     "data": {
      "text/html": [
       "<style>\n",
       "    table.wandb td:nth-child(1) { padding: 0 10px; text-align: left ; width: auto;} td:nth-child(2) {text-align: left ; width: 100%}\n",
       "    .wandb-row { display: flex; flex-direction: row; flex-wrap: wrap; justify-content: flex-start; width: 100% }\n",
       "    .wandb-col { display: flex; flex-direction: column; flex-basis: 100%; flex: 1; padding: 10px; }\n",
       "    </style>\n",
       "<div class=\"wandb-row\"><div class=\"wandb-col\"><h3>Run history:</h3><br/><table class=\"wandb\"><tr><td>angle</td><td>▁</td></tr><tr><td>height</td><td>▁</td></tr><tr><td>pc</td><td>▁</td></tr><tr><td>point_east</td><td>▁</td></tr><tr><td>rmax</td><td>▁</td></tr><tr><td>speed</td><td>▁</td></tr><tr><td>vmax</td><td>▁</td></tr><tr><td>xn</td><td>▁</td></tr></table><br/></div><div class=\"wandb-col\"><h3>Run summary:</h3><br/><table class=\"wandb\"><tr><td>angle</td><td>70.2</td></tr><tr><td>height</td><td>3.57641</td></tr><tr><td>pc</td><td>93216.00008</td></tr><tr><td>point_east</td><td>0.5772</td></tr><tr><td>rmax</td><td>42252.00033</td></tr><tr><td>speed</td><td>12.62</td></tr><tr><td>vmax</td><td>54.01667</td></tr><tr><td>xn</td><td>0.8852</td></tr></table><br/></div></div>"
      ],
      "text/plain": [
       "<IPython.core.display.HTML object>"
      ]
     },
     "metadata": {},
     "output_type": "display_data"
    },
    {
     "data": {
      "text/html": [
       " View run <strong style=\"color:#cdcd00\">vivid-peony-27</strong> at: <a href=\"https://wandb.ai/sdat2/6D_individual/runs/98gggbug\" target=\"_blank\">https://wandb.ai/sdat2/6D_individual/runs/98gggbug</a><br/>Synced 7 W&B file(s), 0 media file(s), 0 artifact file(s) and 1 other file(s)"
      ],
      "text/plain": [
       "<IPython.core.display.HTML object>"
      ]
     },
     "metadata": {},
     "output_type": "display_data"
    },
    {
     "data": {
      "text/html": [
       "Find logs at: <code>./wandb/run-20230203_001918-98gggbug/logs</code>"
      ],
      "text/plain": [
       "<IPython.core.display.HTML object>"
      ]
     },
     "metadata": {},
     "output_type": "display_data"
    },
    {
     "data": {
      "text/html": [
       "Successfully finished last run (ID:98gggbug). Initializing new run:<br/>"
      ],
      "text/plain": [
       "<IPython.core.display.HTML object>"
      ]
     },
     "metadata": {},
     "output_type": "display_data"
    },
    {
     "data": {
      "application/vnd.jupyter.widget-view+json": {
       "model_id": "f778fdcc5e484465a7e6744012711eb5",
       "version_major": 2,
       "version_minor": 0
      },
      "text/plain": [
       "VBox(children=(Label(value='Waiting for wandb.init()...\\r'), FloatProgress(value=0.01671438333332844, max=1.0)…"
      ]
     },
     "metadata": {},
     "output_type": "display_data"
    },
    {
     "data": {
      "text/html": [
       "Tracking run with wandb version 0.13.9"
      ],
      "text/plain": [
       "<IPython.core.display.HTML object>"
      ]
     },
     "metadata": {},
     "output_type": "display_data"
    },
    {
     "data": {
      "text/html": [
       "Run data is saved locally in <code>/Users/simon/new-orleans/notebooks/exploratory/wandb/run-20230203_002552-vtlwqpl8</code>"
      ],
      "text/plain": [
       "<IPython.core.display.HTML object>"
      ]
     },
     "metadata": {},
     "output_type": "display_data"
    },
    {
     "data": {
      "text/html": [
       "Syncing run <strong><a href=\"https://wandb.ai/sdat2/6D_individual/runs/vtlwqpl8\" target=\"_blank\">luminous-mandu-28</a></strong> to <a href=\"https://wandb.ai/sdat2/6D_individual\" target=\"_blank\">Weights & Biases</a> (<a href=\"https://wandb.me/run\" target=\"_blank\">docs</a>)<br/>"
      ],
      "text/plain": [
       "<IPython.core.display.HTML object>"
      ]
     },
     "metadata": {},
     "output_type": "display_data"
    },
    {
     "data": {
      "text/html": [
       " View project at <a href=\"https://wandb.ai/sdat2/6D_individual\" target=\"_blank\">https://wandb.ai/sdat2/6D_individual</a>"
      ],
      "text/plain": [
       "<IPython.core.display.HTML object>"
      ]
     },
     "metadata": {},
     "output_type": "display_data"
    },
    {
     "data": {
      "text/html": [
       " View run at <a href=\"https://wandb.ai/sdat2/6D_individual/runs/vtlwqpl8\" target=\"_blank\">https://wandb.ai/sdat2/6D_individual/runs/vtlwqpl8</a>"
      ],
      "text/plain": [
       "<IPython.core.display.HTML object>"
      ]
     },
     "metadata": {},
     "output_type": "display_data"
    },
    {
     "name": "stderr",
     "output_type": "stream",
     "text": [
      "Sweep, dryrun=False:  10%|█         | 25/250 [2:57:26<26:36:54, 425.84s/it]\n"
     ]
    },
    {
     "ename": "OSError",
     "evalue": "[Errno 28] No space left on device: '/Users/simon/adcirc-swan/adcirc-testsuite/adcirc/adcirc_katrina-2d/fort.73.nc' -> '/Users/simon/new-orleans/data/6D_Small_Holdout/25/fort.73.nc'",
     "output_type": "error",
     "traceback": [
      "\u001b[0;31m---------------------------------------------------------------------------\u001b[0m",
      "\u001b[0;31mOSError\u001b[0m                                   Traceback (most recent call last)",
      "\u001b[1;32m/Users/simon/new-orleans/notebooks/exploratory/new_2d_emulation.ipynb Cell 4\u001b[0m in \u001b[0;36m<cell line: 2>\u001b[0;34m()\u001b[0m\n\u001b[1;32m      <a href='vscode-notebook-cell:/Users/simon/new-orleans/notebooks/exploratory/new_2d_emulation.ipynb#W5sZmlsZQ%3D%3D?line=0'>1</a>\u001b[0m realholdout \u001b[39m=\u001b[39m SixDOFSearch(seed\u001b[39m=\u001b[39m\u001b[39m0\u001b[39m, dryrun\u001b[39m=\u001b[39m\u001b[39mFalse\u001b[39;00m, path\u001b[39m=\u001b[39m\u001b[39m\"\u001b[39m\u001b[39m6D_Small_Holdout\u001b[39m\u001b[39m\"\u001b[39m, test_data_path\u001b[39m=\u001b[39m\u001b[39m\"\u001b[39m\u001b[39m6DFake\u001b[39m\u001b[39m\"\u001b[39m)\n\u001b[0;32m----> <a href='vscode-notebook-cell:/Users/simon/new-orleans/notebooks/exploratory/new_2d_emulation.ipynb#W5sZmlsZQ%3D%3D?line=1'>2</a>\u001b[0m realholdout\u001b[39m.\u001b[39;49mrun_initial(samples\u001b[39m=\u001b[39;49m\u001b[39m250\u001b[39;49m)\n\u001b[1;32m      <a href='vscode-notebook-cell:/Users/simon/new-orleans/notebooks/exploratory/new_2d_emulation.ipynb#W5sZmlsZQ%3D%3D?line=2'>3</a>\u001b[0m realholdout\u001b[39m.\u001b[39msetup_active()\n\u001b[1;32m      <a href='vscode-notebook-cell:/Users/simon/new-orleans/notebooks/exploratory/new_2d_emulation.ipynb#W5sZmlsZQ%3D%3D?line=3'>4</a>\u001b[0m realholdout\u001b[39m.\u001b[39msave_initial_data()\n",
      "File \u001b[0;32m~/new-orleans/src/models/emu6d.py:338\u001b[0m, in \u001b[0;36mSixDOFSearch.run_initial\u001b[0;34m(self, samples, kernel_class)\u001b[0m\n\u001b[1;32m    335\u001b[0m \u001b[39mdef\u001b[39;00m \u001b[39mrun_initial\u001b[39m(\n\u001b[1;32m    336\u001b[0m     \u001b[39mself\u001b[39m, samples: \u001b[39mint\u001b[39m \u001b[39m=\u001b[39m \u001b[39m500\u001b[39m, kernel_class: Union[Kern, Stationary] \u001b[39m=\u001b[39m Matern32\n\u001b[1;32m    337\u001b[0m ) \u001b[39m-\u001b[39m\u001b[39m>\u001b[39m \u001b[39mNone\u001b[39;00m:\n\u001b[0;32m--> 338\u001b[0m     \u001b[39mself\u001b[39;49m\u001b[39m.\u001b[39;49mget_initial(samples\u001b[39m=\u001b[39;49msamples)\n\u001b[1;32m    339\u001b[0m     \u001b[39mself\u001b[39m\u001b[39m.\u001b[39m_fit_initial(kernel_class\u001b[39m=\u001b[39mkernel_class)\n",
      "File \u001b[0;32m~/new-orleans/src/models/emu6d.py:324\u001b[0m, in \u001b[0;36mSixDOFSearch.get_initial\u001b[0;34m(self, samples)\u001b[0m\n\u001b[1;32m    321\u001b[0m \u001b[39mdef\u001b[39;00m \u001b[39mget_initial\u001b[39m(\u001b[39mself\u001b[39m, samples: \u001b[39mint\u001b[39m \u001b[39m=\u001b[39m \u001b[39m500\u001b[39m) \u001b[39m-\u001b[39m\u001b[39m>\u001b[39m \u001b[39mNone\u001b[39;00m:\n\u001b[1;32m    322\u001b[0m     \u001b[39m# call func some number of times\u001b[39;00m\n\u001b[1;32m    323\u001b[0m     \u001b[39mself\u001b[39m\u001b[39m.\u001b[39minit_x_data \u001b[39m=\u001b[39m \u001b[39mself\u001b[39m\u001b[39m.\u001b[39mnormalized_samples(samples)\n\u001b[0;32m--> 324\u001b[0m     \u001b[39mself\u001b[39m\u001b[39m.\u001b[39minit_y_data \u001b[39m=\u001b[39m \u001b[39mself\u001b[39;49m\u001b[39m.\u001b[39;49mfunc(\u001b[39mself\u001b[39;49m\u001b[39m.\u001b[39;49minit_x_data)\n",
      "File \u001b[0;32m~/new-orleans/src/models/emu6d.py:316\u001b[0m, in \u001b[0;36mSixDOFSearch.func\u001b[0;34m(self, x_data)\u001b[0m\n\u001b[1;32m    313\u001b[0m         output_list\u001b[39m.\u001b[39mappend(\u001b[39m-\u001b[39mfake_func(param, output_direc))\n\u001b[1;32m    314\u001b[0m     \u001b[39melse\u001b[39;00m:\n\u001b[1;32m    315\u001b[0m         \u001b[39m# take the negative for minimization.\u001b[39;00m\n\u001b[0;32m--> 316\u001b[0m         output_list\u001b[39m.\u001b[39mappend(\u001b[39m-\u001b[39mreal_func(param, output_direc))\n\u001b[1;32m    317\u001b[0m     \u001b[39mself\u001b[39m\u001b[39m.\u001b[39mcall_number \u001b[39m+\u001b[39m\u001b[39m=\u001b[39m \u001b[39m1\u001b[39m\n\u001b[1;32m    319\u001b[0m \u001b[39mreturn\u001b[39;00m np\u001b[39m.\u001b[39marray(output_list)\u001b[39m.\u001b[39mreshape(\u001b[39mlen\u001b[39m(output_list), \u001b[39m1\u001b[39m)\n",
      "File \u001b[0;32m~/new-orleans/src/models/emu6d.py:124\u001b[0m, in \u001b[0;36mreal_func\u001b[0;34m(param, output_direc)\u001b[0m\n\u001b[1;32m    122\u001b[0m \u001b[39mif\u001b[39;00m os\u001b[39m.\u001b[39mpath\u001b[39m.\u001b[39mexists(output_direc):\n\u001b[1;32m    123\u001b[0m     shutil\u001b[39m.\u001b[39mrmtree(output_direc)\n\u001b[0;32m--> 124\u001b[0m ImpactSymmetricTC(\n\u001b[1;32m    125\u001b[0m     point\u001b[39m=\u001b[39;49mpoint,\n\u001b[1;32m    126\u001b[0m     output_direc\u001b[39m=\u001b[39;49moutput_direc,\n\u001b[1;32m    127\u001b[0m     symetric_model\u001b[39m=\u001b[39;49mHolland08(\n\u001b[1;32m    128\u001b[0m         param[\u001b[39m\"\u001b[39;49m\u001b[39mpc\u001b[39;49m\u001b[39m\"\u001b[39;49m], param[\u001b[39m\"\u001b[39;49m\u001b[39mrmax\u001b[39;49m\u001b[39m\"\u001b[39;49m], param[\u001b[39m\"\u001b[39;49m\u001b[39mvmax\u001b[39;49m\u001b[39m\"\u001b[39;49m], param[\u001b[39m\"\u001b[39;49m\u001b[39mxn\u001b[39;49m\u001b[39m\"\u001b[39;49m]\n\u001b[1;32m    129\u001b[0m     ),\n\u001b[1;32m    130\u001b[0m     angle\u001b[39m=\u001b[39;49mparam[\u001b[39m\"\u001b[39;49m\u001b[39mangle\u001b[39;49m\u001b[39m\"\u001b[39;49m],\n\u001b[1;32m    131\u001b[0m     trans_speed\u001b[39m=\u001b[39;49mparam[\u001b[39m\"\u001b[39;49m\u001b[39mspeed\u001b[39;49m\u001b[39m\"\u001b[39;49m],\n\u001b[1;32m    132\u001b[0m )\u001b[39m.\u001b[39;49mrun_impact()\n\u001b[1;32m    133\u001b[0m path \u001b[39m=\u001b[39m os\u001b[39m.\u001b[39mpath\u001b[39m.\u001b[39mjoin(output_direc, \u001b[39m\"\u001b[39m\u001b[39mmaxele.63.nc\u001b[39m\u001b[39m\"\u001b[39m)\n\u001b[1;32m    134\u001b[0m maxele \u001b[39m=\u001b[39m Maxele(path, crs\u001b[39m=\u001b[39m\u001b[39m\"\u001b[39m\u001b[39mEPSG:4326\u001b[39m\u001b[39m\"\u001b[39m)\n",
      "File \u001b[0;32m~/new-orleans/src/models/generation.py:557\u001b[0m, in \u001b[0;36mImpactSymmetricTC.run_impact\u001b[0;34m(self)\u001b[0m\n\u001b[1;32m    554\u001b[0m     command \u001b[39m=\u001b[39m \u001b[39mf\u001b[39m\u001b[39m\"\u001b[39m\u001b[39mcd \u001b[39m\u001b[39m{\u001b[39;00m\u001b[39mself\u001b[39m\u001b[39m.\u001b[39moutput_direc\u001b[39m}\u001b[39;00m\u001b[39m \u001b[39m\u001b[39m\\n\u001b[39;00m\u001b[39m \u001b[39m\u001b[39m{\u001b[39;00madcirc_exe\u001b[39m}\u001b[39;00m\u001b[39m > adcirc_log.txt\u001b[39m\u001b[39m\"\u001b[39m\n\u001b[1;32m    555\u001b[0m     \u001b[39mreturn\u001b[39;00m os\u001b[39m.\u001b[39msystem(command)\n\u001b[0;32m--> 557\u001b[0m create_inputs()\n\u001b[1;32m    558\u001b[0m \u001b[39massert\u001b[39;00m run_adcirc() \u001b[39m==\u001b[39m \u001b[39m0\u001b[39m\n",
      "File \u001b[0;32m~/sithom/sithom/time.py:136\u001b[0m, in \u001b[0;36mtimeit.<locals>.timed\u001b[0;34m(*args, **kw)\u001b[0m\n\u001b[1;32m    133\u001b[0m \u001b[39m@wraps\u001b[39m(method)\n\u001b[1;32m    134\u001b[0m \u001b[39mdef\u001b[39;00m \u001b[39mtimed\u001b[39m(\u001b[39m*\u001b[39margs, \u001b[39m*\u001b[39m\u001b[39m*\u001b[39mkw):\n\u001b[1;32m    135\u001b[0m     time_start \u001b[39m=\u001b[39m time\u001b[39m.\u001b[39mperf_counter()\n\u001b[0;32m--> 136\u001b[0m     result \u001b[39m=\u001b[39m method(\u001b[39m*\u001b[39;49margs, \u001b[39m*\u001b[39;49m\u001b[39m*\u001b[39;49mkw)\n\u001b[1;32m    137\u001b[0m     time_end \u001b[39m=\u001b[39m time\u001b[39m.\u001b[39mperf_counter()\n\u001b[1;32m    138\u001b[0m     \u001b[39m# time.gmtime()\u001b[39;00m\n",
      "File \u001b[0;32m~/new-orleans/src/models/generation.py:540\u001b[0m, in \u001b[0;36mImpactSymmetricTC.run_impact.<locals>.create_inputs\u001b[0;34m()\u001b[0m\n\u001b[1;32m    537\u001b[0m     os\u001b[39m.\u001b[39mmkdir(\u001b[39mself\u001b[39m\u001b[39m.\u001b[39moutput_direc)\n\u001b[1;32m    539\u001b[0m \u001b[39mfor\u001b[39;00m file \u001b[39min\u001b[39;00m invariant_inputs:\n\u001b[0;32m--> 540\u001b[0m     shutil\u001b[39m.\u001b[39;49mcopy(\n\u001b[1;32m    541\u001b[0m         os\u001b[39m.\u001b[39;49mpath\u001b[39m.\u001b[39;49mjoin(source_direc, file),\n\u001b[1;32m    542\u001b[0m         os\u001b[39m.\u001b[39;49mpath\u001b[39m.\u001b[39;49mjoin(\u001b[39mself\u001b[39;49m\u001b[39m.\u001b[39;49moutput_direc, file),\n\u001b[1;32m    543\u001b[0m     )\n\u001b[1;32m    545\u001b[0m \u001b[39mfor\u001b[39;00m forts \u001b[39min\u001b[39;00m [\n\u001b[1;32m    546\u001b[0m     (\u001b[39m\"\u001b[39m\u001b[39mfort.217\u001b[39m\u001b[39m\"\u001b[39m, \u001b[39m\"\u001b[39m\u001b[39mfort.218\u001b[39m\u001b[39m\"\u001b[39m),\n\u001b[1;32m    547\u001b[0m     (\u001b[39m\"\u001b[39m\u001b[39mfort.221\u001b[39m\u001b[39m\"\u001b[39m, \u001b[39m\"\u001b[39m\u001b[39mfort.222\u001b[39m\u001b[39m\"\u001b[39m),\n\u001b[1;32m    548\u001b[0m     (\u001b[39m\"\u001b[39m\u001b[39mfort.223\u001b[39m\u001b[39m\"\u001b[39m, \u001b[39m\"\u001b[39m\u001b[39mfort.224\u001b[39m\u001b[39m\"\u001b[39m),\n\u001b[1;32m    549\u001b[0m ]:\n\u001b[1;32m    550\u001b[0m     \u001b[39mself\u001b[39m\u001b[39m.\u001b[39mprepare_run(forts)\n",
      "File \u001b[0;32m~/new-orleans/env/lib/python3.8/shutil.py:418\u001b[0m, in \u001b[0;36mcopy\u001b[0;34m(src, dst, follow_symlinks)\u001b[0m\n\u001b[1;32m    416\u001b[0m \u001b[39mif\u001b[39;00m os\u001b[39m.\u001b[39mpath\u001b[39m.\u001b[39misdir(dst):\n\u001b[1;32m    417\u001b[0m     dst \u001b[39m=\u001b[39m os\u001b[39m.\u001b[39mpath\u001b[39m.\u001b[39mjoin(dst, os\u001b[39m.\u001b[39mpath\u001b[39m.\u001b[39mbasename(src))\n\u001b[0;32m--> 418\u001b[0m copyfile(src, dst, follow_symlinks\u001b[39m=\u001b[39;49mfollow_symlinks)\n\u001b[1;32m    419\u001b[0m copymode(src, dst, follow_symlinks\u001b[39m=\u001b[39mfollow_symlinks)\n\u001b[1;32m    420\u001b[0m \u001b[39mreturn\u001b[39;00m dst\n",
      "File \u001b[0;32m~/new-orleans/env/lib/python3.8/shutil.py:268\u001b[0m, in \u001b[0;36mcopyfile\u001b[0;34m(src, dst, follow_symlinks)\u001b[0m\n\u001b[1;32m    266\u001b[0m \u001b[39mif\u001b[39;00m _HAS_FCOPYFILE:\n\u001b[1;32m    267\u001b[0m     \u001b[39mtry\u001b[39;00m:\n\u001b[0;32m--> 268\u001b[0m         _fastcopy_fcopyfile(fsrc, fdst, posix\u001b[39m.\u001b[39;49m_COPYFILE_DATA)\n\u001b[1;32m    269\u001b[0m         \u001b[39mreturn\u001b[39;00m dst\n\u001b[1;32m    270\u001b[0m     \u001b[39mexcept\u001b[39;00m _GiveupOnFastCopy:\n",
      "File \u001b[0;32m~/new-orleans/env/lib/python3.8/shutil.py:112\u001b[0m, in \u001b[0;36m_fastcopy_fcopyfile\u001b[0;34m(fsrc, fdst, flags)\u001b[0m\n\u001b[1;32m    110\u001b[0m     \u001b[39mraise\u001b[39;00m _GiveupOnFastCopy(err)\n\u001b[1;32m    111\u001b[0m \u001b[39melse\u001b[39;00m:\n\u001b[0;32m--> 112\u001b[0m     \u001b[39mraise\u001b[39;00m err \u001b[39mfrom\u001b[39;00m \u001b[39mNone\u001b[39m\n",
      "File \u001b[0;32m~/new-orleans/env/lib/python3.8/shutil.py:105\u001b[0m, in \u001b[0;36m_fastcopy_fcopyfile\u001b[0;34m(fsrc, fdst, flags)\u001b[0m\n\u001b[1;32m    102\u001b[0m     \u001b[39mraise\u001b[39;00m _GiveupOnFastCopy(err)  \u001b[39m# not a regular file\u001b[39;00m\n\u001b[1;32m    104\u001b[0m \u001b[39mtry\u001b[39;00m:\n\u001b[0;32m--> 105\u001b[0m     posix\u001b[39m.\u001b[39;49m_fcopyfile(infd, outfd, flags)\n\u001b[1;32m    106\u001b[0m \u001b[39mexcept\u001b[39;00m \u001b[39mOSError\u001b[39;00m \u001b[39mas\u001b[39;00m err:\n\u001b[1;32m    107\u001b[0m     err\u001b[39m.\u001b[39mfilename \u001b[39m=\u001b[39m fsrc\u001b[39m.\u001b[39mname\n",
      "\u001b[0;31mOSError\u001b[0m: [Errno 28] No space left on device: '/Users/simon/adcirc-swan/adcirc-testsuite/adcirc/adcirc_katrina-2d/fort.73.nc' -> '/Users/simon/new-orleans/data/6D_Small_Holdout/25/fort.73.nc'"
     ]
    },
    {
     "name": "stderr",
     "output_type": "stream",
     "text": [
      "--- Logging error ---\n",
      "Traceback (most recent call last):\n",
      "  File \"/Users/simon/new-orleans/env/lib/python3.8/logging/__init__.py\", line 1089, in emit\n",
      "    self.flush()\n",
      "  File \"/Users/simon/new-orleans/env/lib/python3.8/logging/__init__.py\", line 1069, in flush\n",
      "    self.stream.flush()\n",
      "OSError: [Errno 28] No space left on device\n",
      "Call stack:\n",
      "  File \"/Users/simon/new-orleans/env/lib/python3.8/threading.py\", line 890, in _bootstrap\n",
      "    self._bootstrap_inner()\n",
      "  File \"/Users/simon/new-orleans/env/lib/python3.8/threading.py\", line 932, in _bootstrap_inner\n",
      "    self.run()\n",
      "  File \"/Users/simon/new-orleans/env/lib/python3.8/site-packages/wandb/sdk/internal/internal_util.py\", line 49, in run\n",
      "    self._run()\n",
      "  File \"/Users/simon/new-orleans/env/lib/python3.8/site-packages/wandb/sdk/internal/internal_util.py\", line 100, in _run\n",
      "    self._process(record)\n",
      "  File \"/Users/simon/new-orleans/env/lib/python3.8/site-packages/wandb/sdk/internal/internal.py\", line 280, in _process\n",
      "    self._hm.handle(record)\n",
      "  File \"/Users/simon/new-orleans/env/lib/python3.8/site-packages/wandb/sdk/internal/handler.py\", line 136, in handle\n",
      "    handler(record)\n",
      "  File \"/Users/simon/new-orleans/env/lib/python3.8/site-packages/wandb/sdk/internal/handler.py\", line 144, in handle_request\n",
      "    logger.debug(f\"handle_request: {request_type}\")\n",
      "Message: 'handle_request: status_report'\n",
      "Arguments: ()\n",
      "--- Logging error ---\n",
      "Traceback (most recent call last):\n",
      "  File \"/Users/simon/new-orleans/env/lib/python3.8/site-packages/wandb/sdk/internal/sender.py\", line 1219, in send_output_raw\n",
      "    open(output_log_path, \"wb\")\n",
      "OSError: [Errno 28] No space left on device: '/Users/simon/new-orleans/notebooks/exploratory/wandb/run-20230203_002552-vtlwqpl8/files/output.log'\n",
      "\n",
      "During handling of the above exception, another exception occurred:\n",
      "\n",
      "Traceback (most recent call last):\n",
      "  File \"/Users/simon/new-orleans/env/lib/python3.8/logging/__init__.py\", line 1089, in emit\n",
      "    self.flush()\n",
      "  File \"/Users/simon/new-orleans/env/lib/python3.8/logging/__init__.py\", line 1069, in flush\n",
      "    self.stream.flush()\n",
      "OSError: [Errno 28] No space left on device\n",
      "Call stack:\n",
      "  File \"/Users/simon/new-orleans/env/lib/python3.8/threading.py\", line 890, in _bootstrap\n",
      "    self._bootstrap_inner()\n",
      "  File \"/Users/simon/new-orleans/env/lib/python3.8/threading.py\", line 932, in _bootstrap_inner\n",
      "    self.run()\n",
      "  File \"/Users/simon/new-orleans/env/lib/python3.8/site-packages/wandb/sdk/internal/internal_util.py\", line 49, in run\n",
      "    self._run()\n",
      "  File \"/Users/simon/new-orleans/env/lib/python3.8/site-packages/wandb/sdk/internal/internal_util.py\", line 100, in _run\n",
      "    self._process(record)\n",
      "  File \"/Users/simon/new-orleans/env/lib/python3.8/site-packages/wandb/sdk/internal/internal.py\", line 329, in _process\n",
      "    self._sm.send(record)\n",
      "  File \"/Users/simon/new-orleans/env/lib/python3.8/site-packages/wandb/sdk/internal/sender.py\", line 341, in send\n",
      "    send_handler(record)\n",
      "  File \"/Users/simon/new-orleans/env/lib/python3.8/site-packages/wandb/sdk/internal/sender.py\", line 1222, in send_output_raw\n",
      "    logger.warning(f\"could not open output_raw_file: {e}\")\n",
      "Message: \"could not open output_raw_file: [Errno 28] No space left on device: '/Users/simon/new-orleans/notebooks/exploratory/wandb/run-20230203_002552-vtlwqpl8/files/output.log'\"\n",
      "Arguments: ()\n",
      "--- Logging error ---\n",
      "Traceback (most recent call last):\n",
      "  File \"/Users/simon/new-orleans/env/lib/python3.8/logging/__init__.py\", line 1089, in emit\n",
      "    self.flush()\n",
      "  File \"/Users/simon/new-orleans/env/lib/python3.8/logging/__init__.py\", line 1069, in flush\n",
      "    self.stream.flush()\n",
      "OSError: [Errno 28] No space left on device\n",
      "Call stack:\n",
      "  File \"/Users/simon/new-orleans/env/lib/python3.8/threading.py\", line 890, in _bootstrap\n",
      "    self._bootstrap_inner()\n",
      "  File \"/Users/simon/new-orleans/env/lib/python3.8/threading.py\", line 932, in _bootstrap_inner\n",
      "    self.run()\n",
      "  File \"/Users/simon/new-orleans/env/lib/python3.8/site-packages/wandb/sdk/internal/internal_util.py\", line 49, in run\n",
      "    self._run()\n",
      "  File \"/Users/simon/new-orleans/env/lib/python3.8/site-packages/wandb/sdk/internal/internal_util.py\", line 100, in _run\n",
      "    self._process(record)\n",
      "  File \"/Users/simon/new-orleans/env/lib/python3.8/site-packages/wandb/sdk/internal/internal.py\", line 280, in _process\n",
      "    self._hm.handle(record)\n",
      "  File \"/Users/simon/new-orleans/env/lib/python3.8/site-packages/wandb/sdk/internal/handler.py\", line 136, in handle\n",
      "    handler(record)\n",
      "  File \"/Users/simon/new-orleans/env/lib/python3.8/site-packages/wandb/sdk/internal/handler.py\", line 144, in handle_request\n",
      "    logger.debug(f\"handle_request: {request_type}\")\n",
      "Message: 'handle_request: keepalive'\n",
      "Arguments: ()\n",
      "--- Logging error ---\n",
      "Traceback (most recent call last):\n",
      "  File \"/Users/simon/new-orleans/env/lib/python3.8/logging/__init__.py\", line 1089, in emit\n",
      "    self.flush()\n",
      "  File \"/Users/simon/new-orleans/env/lib/python3.8/logging/__init__.py\", line 1069, in flush\n",
      "    self.stream.flush()\n",
      "OSError: [Errno 28] No space left on device\n",
      "Call stack:\n",
      "  File \"/Users/simon/new-orleans/env/lib/python3.8/threading.py\", line 890, in _bootstrap\n",
      "    self._bootstrap_inner()\n",
      "  File \"/Users/simon/new-orleans/env/lib/python3.8/threading.py\", line 932, in _bootstrap_inner\n",
      "    self.run()\n",
      "  File \"/Users/simon/new-orleans/env/lib/python3.8/site-packages/wandb/sdk/internal/internal_util.py\", line 49, in run\n",
      "    self._run()\n",
      "  File \"/Users/simon/new-orleans/env/lib/python3.8/site-packages/wandb/sdk/internal/internal_util.py\", line 101, in _run\n",
      "    self._finish()\n",
      "  File \"/Users/simon/new-orleans/env/lib/python3.8/site-packages/wandb/sdk/internal/internal.py\", line 283, in _finish\n",
      "    self._hm.finish()\n",
      "  File \"/Users/simon/new-orleans/env/lib/python3.8/site-packages/wandb/sdk/internal/handler.py\", line 841, in finish\n",
      "    logger.info(\"shutting down handler\")\n",
      "Message: 'shutting down handler'\n",
      "Arguments: ()\n",
      "--- Logging error ---\n",
      "Traceback (most recent call last):\n",
      "  File \"/Users/simon/new-orleans/env/lib/python3.8/logging/__init__.py\", line 1089, in emit\n",
      "    self.flush()\n",
      "  File \"/Users/simon/new-orleans/env/lib/python3.8/logging/__init__.py\", line 1069, in flush\n",
      "    self.stream.flush()\n",
      "OSError: [Errno 28] No space left on device\n",
      "Call stack:\n",
      "  File \"/Users/simon/new-orleans/env/lib/python3.8/threading.py\", line 890, in _bootstrap\n",
      "    self._bootstrap_inner()\n",
      "  File \"/Users/simon/new-orleans/env/lib/python3.8/threading.py\", line 932, in _bootstrap_inner\n",
      "    self.run()\n",
      "  File \"/Users/simon/new-orleans/env/lib/python3.8/site-packages/wandb/sdk/internal/internal_util.py\", line 49, in run\n",
      "    self._run()\n",
      "  File \"/Users/simon/new-orleans/env/lib/python3.8/site-packages/wandb/sdk/internal/internal_util.py\", line 101, in _run\n",
      "    self._finish()\n",
      "  File \"/Users/simon/new-orleans/env/lib/python3.8/site-packages/wandb/sdk/internal/internal.py\", line 332, in _finish\n",
      "    self._sm.finish()\n",
      "  File \"/Users/simon/new-orleans/env/lib/python3.8/site-packages/wandb/sdk/internal/sender.py\", line 1491, in finish\n",
      "    logger.info(\"shutting down sender\")\n",
      "Message: 'shutting down sender'\n",
      "Arguments: ()\n",
      "--- Logging error ---\n",
      "Traceback (most recent call last):\n",
      "  File \"/Users/simon/new-orleans/env/lib/python3.8/logging/__init__.py\", line 1089, in emit\n",
      "    self.flush()\n",
      "  File \"/Users/simon/new-orleans/env/lib/python3.8/logging/__init__.py\", line 1069, in flush\n",
      "    self.stream.flush()\n",
      "OSError: [Errno 28] No space left on device\n",
      "Call stack:\n",
      "  File \"/Users/simon/new-orleans/env/lib/python3.8/threading.py\", line 890, in _bootstrap\n",
      "    self._bootstrap_inner()\n",
      "  File \"/Users/simon/new-orleans/env/lib/python3.8/threading.py\", line 932, in _bootstrap_inner\n",
      "    self.run()\n",
      "  File \"/Users/simon/new-orleans/env/lib/python3.8/site-packages/wandb/sdk/internal/internal_util.py\", line 49, in run\n",
      "    self._run()\n",
      "  File \"/Users/simon/new-orleans/env/lib/python3.8/site-packages/wandb/sdk/internal/internal_util.py\", line 101, in _run\n",
      "    self._finish()\n",
      "  File \"/Users/simon/new-orleans/env/lib/python3.8/site-packages/wandb/sdk/internal/internal.py\", line 332, in _finish\n",
      "    self._sm.finish()\n",
      "  File \"/Users/simon/new-orleans/env/lib/python3.8/site-packages/wandb/sdk/internal/sender.py\", line 1496, in finish\n",
      "    self._dir_watcher.finish()\n",
      "  File \"/Users/simon/new-orleans/env/lib/python3.8/site-packages/wandb/filesync/dir_watcher.py\", line 362, in finish\n",
      "    logger.info(\"shutting down directory watcher\")\n",
      "Message: 'shutting down directory watcher'\n",
      "Arguments: ()\n",
      "--- Logging error ---\n",
      "Traceback (most recent call last):\n",
      "  File \"/Users/simon/new-orleans/env/lib/python3.8/logging/__init__.py\", line 1089, in emit\n",
      "    self.flush()\n",
      "  File \"/Users/simon/new-orleans/env/lib/python3.8/logging/__init__.py\", line 1069, in flush\n",
      "    self.stream.flush()\n",
      "OSError: [Errno 28] No space left on device\n",
      "Call stack:\n",
      "  File \"/Users/simon/new-orleans/env/lib/python3.8/threading.py\", line 890, in _bootstrap\n",
      "    self._bootstrap_inner()\n",
      "  File \"/Users/simon/new-orleans/env/lib/python3.8/threading.py\", line 932, in _bootstrap_inner\n",
      "    self.run()\n",
      "  File \"/Users/simon/new-orleans/env/lib/python3.8/site-packages/wandb/sdk/internal/internal_util.py\", line 49, in run\n",
      "    self._run()\n",
      "  File \"/Users/simon/new-orleans/env/lib/python3.8/site-packages/wandb/sdk/internal/internal_util.py\", line 101, in _run\n",
      "    self._finish()\n",
      "  File \"/Users/simon/new-orleans/env/lib/python3.8/site-packages/wandb/sdk/internal/internal.py\", line 332, in _finish\n",
      "    self._sm.finish()\n",
      "  File \"/Users/simon/new-orleans/env/lib/python3.8/site-packages/wandb/sdk/internal/sender.py\", line 1496, in finish\n",
      "    self._dir_watcher.finish()\n",
      "  File \"/Users/simon/new-orleans/env/lib/python3.8/site-packages/wandb/filesync/dir_watcher.py\", line 392, in finish\n",
      "    logger.info(\"scan: %s\", self._dir)\n",
      "Message: 'scan: %s'\n",
      "Arguments: ('/Users/simon/new-orleans/notebooks/exploratory/wandb/run-20230203_002552-vtlwqpl8/files',)\n",
      "--- Logging error ---\n",
      "Traceback (most recent call last):\n",
      "  File \"/Users/simon/new-orleans/env/lib/python3.8/logging/__init__.py\", line 1089, in emit\n",
      "    self.flush()\n",
      "  File \"/Users/simon/new-orleans/env/lib/python3.8/logging/__init__.py\", line 1069, in flush\n",
      "    self.stream.flush()\n",
      "OSError: [Errno 28] No space left on device\n",
      "Call stack:\n",
      "  File \"/Users/simon/new-orleans/env/lib/python3.8/threading.py\", line 890, in _bootstrap\n",
      "    self._bootstrap_inner()\n",
      "  File \"/Users/simon/new-orleans/env/lib/python3.8/threading.py\", line 932, in _bootstrap_inner\n",
      "    self.run()\n",
      "  File \"/Users/simon/new-orleans/env/lib/python3.8/site-packages/wandb/sdk/internal/internal_util.py\", line 49, in run\n",
      "    self._run()\n",
      "  File \"/Users/simon/new-orleans/env/lib/python3.8/site-packages/wandb/sdk/internal/internal_util.py\", line 101, in _run\n",
      "    self._finish()\n",
      "  File \"/Users/simon/new-orleans/env/lib/python3.8/site-packages/wandb/sdk/internal/internal.py\", line 332, in _finish\n",
      "    self._sm.finish()\n",
      "  File \"/Users/simon/new-orleans/env/lib/python3.8/site-packages/wandb/sdk/internal/sender.py\", line 1496, in finish\n",
      "    self._dir_watcher.finish()\n",
      "  File \"/Users/simon/new-orleans/env/lib/python3.8/site-packages/wandb/filesync/dir_watcher.py\", line 406, in finish\n",
      "    logger.info(\"scan save: %s %s\", file_path, save_name)\n",
      "Message: 'scan save: %s %s'\n",
      "Arguments: ('/Users/simon/new-orleans/notebooks/exploratory/wandb/run-20230203_002552-vtlwqpl8/files/diff.patch', 'diff.patch')\n",
      "--- Logging error ---\n",
      "Traceback (most recent call last):\n",
      "  File \"/Users/simon/new-orleans/env/lib/python3.8/logging/__init__.py\", line 1089, in emit\n",
      "    self.flush()\n",
      "  File \"/Users/simon/new-orleans/env/lib/python3.8/logging/__init__.py\", line 1069, in flush\n",
      "    self.stream.flush()\n",
      "OSError: [Errno 28] No space left on device\n",
      "Call stack:\n",
      "  File \"/Users/simon/new-orleans/env/lib/python3.8/threading.py\", line 890, in _bootstrap\n",
      "    self._bootstrap_inner()\n",
      "  File \"/Users/simon/new-orleans/env/lib/python3.8/threading.py\", line 932, in _bootstrap_inner\n",
      "    self.run()\n",
      "  File \"/Users/simon/new-orleans/env/lib/python3.8/site-packages/wandb/sdk/internal/internal_util.py\", line 49, in run\n",
      "    self._run()\n",
      "  File \"/Users/simon/new-orleans/env/lib/python3.8/site-packages/wandb/sdk/internal/internal_util.py\", line 101, in _run\n",
      "    self._finish()\n",
      "  File \"/Users/simon/new-orleans/env/lib/python3.8/site-packages/wandb/sdk/internal/internal.py\", line 332, in _finish\n",
      "    self._sm.finish()\n",
      "  File \"/Users/simon/new-orleans/env/lib/python3.8/site-packages/wandb/sdk/internal/sender.py\", line 1496, in finish\n",
      "    self._dir_watcher.finish()\n",
      "  File \"/Users/simon/new-orleans/env/lib/python3.8/site-packages/wandb/filesync/dir_watcher.py\", line 406, in finish\n",
      "    logger.info(\"scan save: %s %s\", file_path, save_name)\n",
      "Message: 'scan save: %s %s'\n",
      "Arguments: ('/Users/simon/new-orleans/notebooks/exploratory/wandb/run-20230203_002552-vtlwqpl8/files/requirements.txt', 'requirements.txt')\n",
      "--- Logging error ---\n",
      "Traceback (most recent call last):\n",
      "  File \"/Users/simon/new-orleans/env/lib/python3.8/logging/__init__.py\", line 1089, in emit\n",
      "    self.flush()\n",
      "  File \"/Users/simon/new-orleans/env/lib/python3.8/logging/__init__.py\", line 1069, in flush\n",
      "    self.stream.flush()\n",
      "OSError: [Errno 28] No space left on device\n",
      "Call stack:\n",
      "  File \"/Users/simon/new-orleans/env/lib/python3.8/threading.py\", line 890, in _bootstrap\n",
      "    self._bootstrap_inner()\n",
      "  File \"/Users/simon/new-orleans/env/lib/python3.8/threading.py\", line 932, in _bootstrap_inner\n",
      "    self.run()\n",
      "  File \"/Users/simon/new-orleans/env/lib/python3.8/site-packages/wandb/sdk/internal/internal_util.py\", line 49, in run\n",
      "    self._run()\n",
      "  File \"/Users/simon/new-orleans/env/lib/python3.8/site-packages/wandb/sdk/internal/internal_util.py\", line 101, in _run\n",
      "    self._finish()\n",
      "  File \"/Users/simon/new-orleans/env/lib/python3.8/site-packages/wandb/sdk/internal/internal.py\", line 332, in _finish\n",
      "    self._sm.finish()\n",
      "  File \"/Users/simon/new-orleans/env/lib/python3.8/site-packages/wandb/sdk/internal/sender.py\", line 1496, in finish\n",
      "    self._dir_watcher.finish()\n",
      "  File \"/Users/simon/new-orleans/env/lib/python3.8/site-packages/wandb/filesync/dir_watcher.py\", line 406, in finish\n",
      "    logger.info(\"scan save: %s %s\", file_path, save_name)\n",
      "Message: 'scan save: %s %s'\n",
      "Arguments: ('/Users/simon/new-orleans/notebooks/exploratory/wandb/run-20230203_002552-vtlwqpl8/files/config.yaml', 'config.yaml')\n",
      "--- Logging error ---\n",
      "Traceback (most recent call last):\n",
      "  File \"/Users/simon/new-orleans/env/lib/python3.8/logging/__init__.py\", line 1089, in emit\n",
      "    self.flush()\n",
      "  File \"/Users/simon/new-orleans/env/lib/python3.8/logging/__init__.py\", line 1069, in flush\n",
      "    self.stream.flush()\n",
      "OSError: [Errno 28] No space left on device\n",
      "Call stack:\n",
      "  File \"/Users/simon/new-orleans/env/lib/python3.8/threading.py\", line 890, in _bootstrap\n",
      "    self._bootstrap_inner()\n",
      "  File \"/Users/simon/new-orleans/env/lib/python3.8/threading.py\", line 932, in _bootstrap_inner\n",
      "    self.run()\n",
      "  File \"/Users/simon/new-orleans/env/lib/python3.8/site-packages/wandb/sdk/internal/internal_util.py\", line 49, in run\n",
      "    self._run()\n",
      "  File \"/Users/simon/new-orleans/env/lib/python3.8/site-packages/wandb/sdk/internal/internal_util.py\", line 101, in _run\n",
      "    self._finish()\n",
      "  File \"/Users/simon/new-orleans/env/lib/python3.8/site-packages/wandb/sdk/internal/internal.py\", line 332, in _finish\n",
      "    self._sm.finish()\n",
      "  File \"/Users/simon/new-orleans/env/lib/python3.8/site-packages/wandb/sdk/internal/sender.py\", line 1496, in finish\n",
      "    self._dir_watcher.finish()\n",
      "  File \"/Users/simon/new-orleans/env/lib/python3.8/site-packages/wandb/filesync/dir_watcher.py\", line 406, in finish\n",
      "    logger.info(\"scan save: %s %s\", file_path, save_name)\n",
      "Message: 'scan save: %s %s'\n",
      "Arguments: ('/Users/simon/new-orleans/notebooks/exploratory/wandb/run-20230203_002552-vtlwqpl8/files/wandb-summary.json', 'wandb-summary.json')\n",
      "--- Logging error ---\n",
      "Traceback (most recent call last):\n",
      "  File \"/Users/simon/new-orleans/env/lib/python3.8/logging/__init__.py\", line 1089, in emit\n",
      "    self.flush()\n",
      "  File \"/Users/simon/new-orleans/env/lib/python3.8/logging/__init__.py\", line 1069, in flush\n",
      "    self.stream.flush()\n",
      "OSError: [Errno 28] No space left on device\n",
      "Call stack:\n",
      "  File \"/Users/simon/new-orleans/env/lib/python3.8/threading.py\", line 890, in _bootstrap\n",
      "    self._bootstrap_inner()\n",
      "  File \"/Users/simon/new-orleans/env/lib/python3.8/threading.py\", line 932, in _bootstrap_inner\n",
      "    self.run()\n",
      "  File \"/Users/simon/new-orleans/env/lib/python3.8/site-packages/wandb/sdk/internal/internal_util.py\", line 49, in run\n",
      "    self._run()\n",
      "  File \"/Users/simon/new-orleans/env/lib/python3.8/site-packages/wandb/sdk/internal/internal_util.py\", line 101, in _run\n",
      "    self._finish()\n",
      "  File \"/Users/simon/new-orleans/env/lib/python3.8/site-packages/wandb/sdk/internal/internal.py\", line 332, in _finish\n",
      "    self._sm.finish()\n",
      "  File \"/Users/simon/new-orleans/env/lib/python3.8/site-packages/wandb/sdk/internal/sender.py\", line 1496, in finish\n",
      "    self._dir_watcher.finish()\n",
      "  File \"/Users/simon/new-orleans/env/lib/python3.8/site-packages/wandb/filesync/dir_watcher.py\", line 406, in finish\n",
      "    logger.info(\"scan save: %s %s\", file_path, save_name)\n",
      "Message: 'scan save: %s %s'\n",
      "Arguments: ('/Users/simon/new-orleans/notebooks/exploratory/wandb/run-20230203_002552-vtlwqpl8/files/conda-environment.yaml', 'conda-environment.yaml')\n",
      "--- Logging error ---\n",
      "Traceback (most recent call last):\n",
      "  File \"/Users/simon/new-orleans/env/lib/python3.8/logging/__init__.py\", line 1089, in emit\n",
      "    self.flush()\n",
      "  File \"/Users/simon/new-orleans/env/lib/python3.8/logging/__init__.py\", line 1069, in flush\n",
      "    self.stream.flush()\n",
      "OSError: [Errno 28] No space left on device\n",
      "Call stack:\n",
      "  File \"/Users/simon/new-orleans/env/lib/python3.8/threading.py\", line 890, in _bootstrap\n",
      "    self._bootstrap_inner()\n",
      "  File \"/Users/simon/new-orleans/env/lib/python3.8/threading.py\", line 932, in _bootstrap_inner\n",
      "    self.run()\n",
      "  File \"/Users/simon/new-orleans/env/lib/python3.8/site-packages/wandb/sdk/internal/internal_util.py\", line 49, in run\n",
      "    self._run()\n",
      "  File \"/Users/simon/new-orleans/env/lib/python3.8/site-packages/wandb/sdk/internal/internal_util.py\", line 101, in _run\n",
      "    self._finish()\n",
      "  File \"/Users/simon/new-orleans/env/lib/python3.8/site-packages/wandb/sdk/internal/internal.py\", line 332, in _finish\n",
      "    self._sm.finish()\n",
      "  File \"/Users/simon/new-orleans/env/lib/python3.8/site-packages/wandb/sdk/internal/sender.py\", line 1496, in finish\n",
      "    self._dir_watcher.finish()\n",
      "  File \"/Users/simon/new-orleans/env/lib/python3.8/site-packages/wandb/filesync/dir_watcher.py\", line 406, in finish\n",
      "    logger.info(\"scan save: %s %s\", file_path, save_name)\n",
      "Message: 'scan save: %s %s'\n",
      "Arguments: ('/Users/simon/new-orleans/notebooks/exploratory/wandb/run-20230203_002552-vtlwqpl8/files/wandb-metadata.json', 'wandb-metadata.json')\n",
      "--- Logging error ---\n",
      "Traceback (most recent call last):\n",
      "  File \"/Users/simon/new-orleans/env/lib/python3.8/logging/__init__.py\", line 1089, in emit\n",
      "    self.flush()\n",
      "  File \"/Users/simon/new-orleans/env/lib/python3.8/logging/__init__.py\", line 1069, in flush\n",
      "    self.stream.flush()\n",
      "OSError: [Errno 28] No space left on device\n",
      "Call stack:\n",
      "  File \"/Users/simon/new-orleans/env/lib/python3.8/threading.py\", line 890, in _bootstrap\n",
      "    self._bootstrap_inner()\n",
      "  File \"/Users/simon/new-orleans/env/lib/python3.8/threading.py\", line 932, in _bootstrap_inner\n",
      "    self.run()\n",
      "  File \"/Users/simon/new-orleans/env/lib/python3.8/site-packages/wandb/sdk/internal/internal_util.py\", line 49, in run\n",
      "    self._run()\n",
      "  File \"/Users/simon/new-orleans/env/lib/python3.8/site-packages/wandb/sdk/internal/internal_util.py\", line 101, in _run\n",
      "    self._finish()\n",
      "  File \"/Users/simon/new-orleans/env/lib/python3.8/site-packages/wandb/sdk/internal/internal.py\", line 332, in _finish\n",
      "    self._sm.finish()\n",
      "  File \"/Users/simon/new-orleans/env/lib/python3.8/site-packages/wandb/sdk/internal/sender.py\", line 1499, in finish\n",
      "    self._pusher.finish()\n",
      "  File \"/Users/simon/new-orleans/env/lib/python3.8/site-packages/wandb/sdk/internal/file_pusher.py\", line 160, in finish\n",
      "    logger.info(\"shutting down file pusher\")\n",
      "Message: 'shutting down file pusher'\n",
      "Arguments: ()\n",
      "--- Logging error ---\n",
      "Traceback (most recent call last):\n",
      "  File \"/Users/simon/new-orleans/env/lib/python3.8/logging/__init__.py\", line 1089, in emit\n",
      "    self.flush()\n",
      "  File \"/Users/simon/new-orleans/env/lib/python3.8/logging/__init__.py\", line 1069, in flush\n",
      "    self.stream.flush()\n",
      "OSError: [Errno 28] No space left on device\n",
      "Call stack:\n",
      "  File \"/Users/simon/new-orleans/env/lib/python3.8/threading.py\", line 890, in _bootstrap\n",
      "    self._bootstrap_inner()\n",
      "  File \"/Users/simon/new-orleans/env/lib/python3.8/threading.py\", line 932, in _bootstrap_inner\n",
      "    self.run()\n",
      "  File \"/Users/simon/new-orleans/env/lib/python3.8/site-packages/wandb/sdk/internal/internal_util.py\", line 49, in run\n",
      "    self._run()\n",
      "  File \"/Users/simon/new-orleans/env/lib/python3.8/site-packages/wandb/sdk/internal/internal_util.py\", line 101, in _run\n",
      "    self._finish()\n",
      "  File \"/Users/simon/new-orleans/env/lib/python3.8/site-packages/wandb/sdk/internal/internal.py\", line 332, in _finish\n",
      "    self._sm.finish()\n",
      "  File \"/Users/simon/new-orleans/env/lib/python3.8/site-packages/wandb/sdk/internal/sender.py\", line 1500, in finish\n",
      "    self._pusher.join()\n",
      "  File \"/Users/simon/new-orleans/env/lib/python3.8/site-packages/wandb/sdk/internal/file_pusher.py\", line 165, in join\n",
      "    logger.info(\"waiting for file pusher\")\n",
      "Message: 'waiting for file pusher'\n",
      "Arguments: ()\n",
      "--- Logging error ---\n",
      "Traceback (most recent call last):\n",
      "  File \"/Users/simon/new-orleans/env/lib/python3.8/logging/__init__.py\", line 1089, in emit\n",
      "    self.flush()\n",
      "  File \"/Users/simon/new-orleans/env/lib/python3.8/logging/__init__.py\", line 1069, in flush\n",
      "    self.stream.flush()\n",
      "OSError: [Errno 28] No space left on device\n",
      "Call stack:\n",
      "  File \"/Users/simon/new-orleans/env/lib/python3.8/threading.py\", line 890, in _bootstrap\n",
      "    self._bootstrap_inner()\n",
      "  File \"/Users/simon/new-orleans/env/lib/python3.8/threading.py\", line 932, in _bootstrap_inner\n",
      "    self.run()\n",
      "  File \"/Users/simon/new-orleans/env/lib/python3.8/site-packages/wandb/filesync/upload_job.py\", line 67, in run\n",
      "    success = self.push()\n",
      "  File \"/Users/simon/new-orleans/env/lib/python3.8/site-packages/wandb/filesync/upload_job.py\", line 143, in push\n",
      "    logger.info(\"Uploaded file %s\", self.save_path)\n",
      "Message: 'Uploaded file %s'\n",
      "Arguments: ('/Users/simon/new-orleans/notebooks/exploratory/wandb/run-20230203_002552-vtlwqpl8/files/requirements.txt',)\n",
      "--- Logging error ---\n",
      "Traceback (most recent call last):\n",
      "  File \"/Users/simon/new-orleans/env/lib/python3.8/logging/__init__.py\", line 1089, in emit\n",
      "    self.flush()\n",
      "  File \"/Users/simon/new-orleans/env/lib/python3.8/logging/__init__.py\", line 1069, in flush\n",
      "    self.stream.flush()\n",
      "OSError: [Errno 28] No space left on device\n",
      "Call stack:\n",
      "  File \"/Users/simon/new-orleans/env/lib/python3.8/threading.py\", line 890, in _bootstrap\n",
      "    self._bootstrap_inner()\n",
      "  File \"/Users/simon/new-orleans/env/lib/python3.8/threading.py\", line 932, in _bootstrap_inner\n",
      "    self.run()\n",
      "  File \"/Users/simon/new-orleans/env/lib/python3.8/site-packages/wandb/filesync/upload_job.py\", line 67, in run\n",
      "    success = self.push()\n",
      "  File \"/Users/simon/new-orleans/env/lib/python3.8/site-packages/wandb/filesync/upload_job.py\", line 143, in push\n",
      "    logger.info(\"Uploaded file %s\", self.save_path)\n",
      "Message: 'Uploaded file %s'\n",
      "Arguments: ('/Users/simon/new-orleans/notebooks/exploratory/wandb/run-20230203_002552-vtlwqpl8/files/config.yaml',)\n",
      "--- Logging error ---\n",
      "Traceback (most recent call last):\n",
      "  File \"/Users/simon/new-orleans/env/lib/python3.8/logging/__init__.py\", line 1089, in emit\n",
      "    self.flush()\n",
      "  File \"/Users/simon/new-orleans/env/lib/python3.8/logging/__init__.py\", line 1069, in flush\n",
      "    self.stream.flush()\n",
      "OSError: [Errno 28] No space left on device\n",
      "Call stack:\n",
      "  File \"/Users/simon/new-orleans/env/lib/python3.8/threading.py\", line 890, in _bootstrap\n",
      "    self._bootstrap_inner()\n",
      "  File \"/Users/simon/new-orleans/env/lib/python3.8/threading.py\", line 932, in _bootstrap_inner\n",
      "    self.run()\n",
      "  File \"/Users/simon/new-orleans/env/lib/python3.8/site-packages/wandb/filesync/upload_job.py\", line 67, in run\n",
      "    success = self.push()\n",
      "  File \"/Users/simon/new-orleans/env/lib/python3.8/site-packages/wandb/filesync/upload_job.py\", line 143, in push\n",
      "    logger.info(\"Uploaded file %s\", self.save_path)\n",
      "Message: 'Uploaded file %s'\n",
      "Arguments: ('/Users/simon/new-orleans/notebooks/exploratory/wandb/run-20230203_002552-vtlwqpl8/files/wandb-summary.json',)\n",
      "--- Logging error ---\n",
      "Traceback (most recent call last):\n",
      "  File \"/Users/simon/new-orleans/env/lib/python3.8/logging/__init__.py\", line 1089, in emit\n",
      "    self.flush()\n",
      "  File \"/Users/simon/new-orleans/env/lib/python3.8/logging/__init__.py\", line 1069, in flush\n",
      "    self.stream.flush()\n",
      "OSError: [Errno 28] No space left on device\n",
      "Call stack:\n",
      "  File \"/Users/simon/new-orleans/env/lib/python3.8/threading.py\", line 890, in _bootstrap\n",
      "    self._bootstrap_inner()\n",
      "  File \"/Users/simon/new-orleans/env/lib/python3.8/threading.py\", line 932, in _bootstrap_inner\n",
      "    self.run()\n",
      "  File \"/Users/simon/new-orleans/env/lib/python3.8/site-packages/wandb/filesync/upload_job.py\", line 67, in run\n",
      "    success = self.push()\n",
      "  File \"/Users/simon/new-orleans/env/lib/python3.8/site-packages/wandb/filesync/upload_job.py\", line 143, in push\n",
      "    logger.info(\"Uploaded file %s\", self.save_path)\n",
      "Message: 'Uploaded file %s'\n",
      "Arguments: ('/Users/simon/new-orleans/notebooks/exploratory/wandb/run-20230203_002552-vtlwqpl8/files/conda-environment.yaml',)\n",
      "--- Logging error ---\n",
      "Traceback (most recent call last):\n",
      "  File \"/Users/simon/new-orleans/env/lib/python3.8/logging/__init__.py\", line 1089, in emit\n",
      "    self.flush()\n",
      "  File \"/Users/simon/new-orleans/env/lib/python3.8/logging/__init__.py\", line 1069, in flush\n",
      "    self.stream.flush()\n",
      "OSError: [Errno 28] No space left on device\n",
      "Call stack:\n",
      "  File \"/Users/simon/new-orleans/env/lib/python3.8/threading.py\", line 890, in _bootstrap\n",
      "    self._bootstrap_inner()\n",
      "  File \"/Users/simon/new-orleans/env/lib/python3.8/threading.py\", line 932, in _bootstrap_inner\n",
      "    self.run()\n",
      "  File \"/Users/simon/new-orleans/env/lib/python3.8/site-packages/wandb/sdk/service/streams.py\", line 48, in run\n",
      "    self._target(**self._kwargs)\n",
      "  File \"/Users/simon/new-orleans/env/lib/python3.8/site-packages/wandb/sdk/internal/internal.py\", line 175, in wandb_internal\n",
      "    logger.error(f\"Thread {thread.name}:\", exc_info=exc_info)\n",
      "Message: 'Thread WriterThread:'\n",
      "Arguments: ()\n",
      "Thread WriterThread:\n",
      "Traceback (most recent call last):\n",
      "  File \"/Users/simon/new-orleans/env/lib/python3.8/site-packages/wandb/sdk/internal/internal_util.py\", line 49, in run\n",
      "    self._run()\n",
      "  File \"/Users/simon/new-orleans/env/lib/python3.8/site-packages/wandb/sdk/internal/internal_util.py\", line 100, in _run\n",
      "    self._process(record)\n",
      "  File \"/Users/simon/new-orleans/env/lib/python3.8/site-packages/wandb/sdk/internal/internal.py\", line 381, in _process\n",
      "    self._wm.write(record)\n",
      "  File \"/Users/simon/new-orleans/env/lib/python3.8/site-packages/wandb/sdk/internal/writer.py\", line 154, in write\n",
      "    write_handler(record)\n",
      "  File \"/Users/simon/new-orleans/env/lib/python3.8/site-packages/wandb/sdk/internal/writer.py\", line 135, in _write\n",
      "    self._write_record(record)\n",
      "  File \"/Users/simon/new-orleans/env/lib/python3.8/site-packages/wandb/sdk/internal/writer.py\", line 109, in _write_record\n",
      "    ret = self._ds.write(record)\n",
      "  File \"/Users/simon/new-orleans/env/lib/python3.8/site-packages/wandb/sdk/internal/datastore.py\", line 294, in write\n",
      "    ret = self._write_data(s)\n",
      "  File \"/Users/simon/new-orleans/env/lib/python3.8/site-packages/wandb/sdk/internal/datastore.py\", line 250, in _write_data\n",
      "    self._write_record(s)\n",
      "  File \"/Users/simon/new-orleans/env/lib/python3.8/site-packages/wandb/sdk/internal/datastore.py\", line 229, in _write_record\n",
      "    self._fp.write(s)\n",
      "OSError: [Errno 28] No space left on device\n",
      "wandb: ERROR Internal wandb error: file data was not synced\n",
      "/Users/simon/new-orleans/env/lib/python3.8/multiprocessing/resource_tracker.py:216: UserWarning: resource_tracker: There appear to be 5 leaked semaphore objects to clean up at shutdown\n",
      "  warnings.warn('resource_tracker: There appear to be %d '\n"
     ]
    }
   ],
   "source": [
    "realholdout = SixDOFSearch(seed=0, dryrun=False, path=\"6D_Small_Holdout\", test_data_path=\"6DFake\")\n",
    "realholdout.run_initial(samples=250)\n",
    "realholdout.setup_active()\n",
    "realholdout.save_initial_data()"
   ]
  },
  {
   "cell_type": "code",
   "execution_count": null,
   "id": "e9c35ecd",
   "metadata": {},
   "outputs": [],
   "source": []
  }
 ],
 "metadata": {
  "hide_input": false,
  "kernelspec": {
   "display_name": "Python 3",
   "language": "python",
   "name": "python3"
  },
  "language_info": {
   "codemirror_mode": {
    "name": "ipython",
    "version": 3
   },
   "file_extension": ".py",
   "mimetype": "text/x-python",
   "name": "python",
   "nbconvert_exporter": "python",
   "pygments_lexer": "ipython3",
   "version": "3.8.13"
  },
  "varInspector": {
   "cols": {
    "lenName": 16,
    "lenType": 16,
    "lenVar": 40
   },
   "kernels_config": {
    "python": {
     "delete_cmd_postfix": "",
     "delete_cmd_prefix": "del ",
     "library": "var_list.py",
     "varRefreshCmd": "print(var_dic_list())"
    },
    "r": {
     "delete_cmd_postfix": ") ",
     "delete_cmd_prefix": "rm(",
     "library": "var_list.r",
     "varRefreshCmd": "cat(var_dic_list()) "
    }
   },
   "types_to_exclude": [
    "module",
    "function",
    "builtin_function_or_method",
    "instance",
    "_Feature"
   ],
   "window_display": false
  },
  "vscode": {
   "interpreter": {
    "hash": "cc96bf7d8208413cd08557877d9613ec72d8d2764ab17cd449b5bb9202b6bcff"
   }
  }
 },
 "nbformat": 4,
 "nbformat_minor": 5
}
