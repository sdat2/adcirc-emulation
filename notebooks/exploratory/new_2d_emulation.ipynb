{
 "cells": [
  {
   "cell_type": "markdown",
   "id": "d643fdf6",
   "metadata": {
    "ExecuteTime": {
     "end_time": "2023-01-20T12:37:30.456385Z",
     "start_time": "2023-01-20T12:37:30.445710Z"
    }
   },
   "source": [
    "# 2D emulation plots -- improvements"
   ]
  },
  {
   "cell_type": "code",
   "execution_count": 2,
   "id": "d9450d4e",
   "metadata": {
    "ExecuteTime": {
     "end_time": "2023-01-20T15:36:44.551416Z",
     "start_time": "2023-01-20T15:36:44.506193Z"
    }
   },
   "outputs": [],
   "source": [
    "# Convenient jupyter setup\n",
    "%load_ext autoreload\n",
    "%autoreload 2\n",
    "%config IPCompleter.greedy=True"
   ]
  },
  {
   "cell_type": "code",
   "execution_count": 2,
   "id": "ee251e7a",
   "metadata": {},
   "outputs": [
    {
     "name": "stderr",
     "output_type": "stream",
     "text": [
      "/Users/simon/new-orleans/env/lib/python3.8/site-packages/xarray/backends/cfgrib_.py:29: UserWarning: Failed to load cfgrib - most likely there is a problem accessing the ecCodes library. Try `import cfgrib` to get the full error message\n",
      "  warnings.warn(\n",
      " /Users/simon/new-orleans/env/lib/python3.8/site-packages/geopandas/_compat.py:112: UserWarning:The Shapely GEOS version (3.10.2-CAPI-1.16.0) is incompatible with the GEOS version PyGEOS was compiled with (3.10.3-CAPI-1.16.1). Conversions between both will be slow.\n"
     ]
    }
   ],
   "source": [
    "from src.models.emu6d import SixDOFSearch"
   ]
  },
  {
   "cell_type": "code",
   "execution_count": 3,
   "id": "b446fc22",
   "metadata": {},
   "outputs": [
    {
     "name": "stderr",
     "output_type": "stream",
     "text": [
      "Sweep, dryrun=False:   0%|          | 0/250 [00:00<?, ?it/s]\u001b[34m\u001b[1mwandb\u001b[0m: Currently logged in as: \u001b[33msdat2\u001b[0m. Use \u001b[1m`wandb login --relogin`\u001b[0m to force relogin\n"
     ]
    },
    {
     "data": {
      "text/html": [
       "Tracking run with wandb version 0.13.9"
      ],
      "text/plain": [
       "<IPython.core.display.HTML object>"
      ]
     },
     "metadata": {},
     "output_type": "display_data"
    },
    {
     "data": {
      "text/html": [
       "Run data is saved locally in <code>/Users/simon/new-orleans/notebooks/exploratory/wandb/run-20230202_212840-v0bj0bo3</code>"
      ],
      "text/plain": [
       "<IPython.core.display.HTML object>"
      ]
     },
     "metadata": {},
     "output_type": "display_data"
    },
    {
     "data": {
      "text/html": [
       "Syncing run <strong><a href=\"https://wandb.ai/sdat2/6D_individual/runs/v0bj0bo3\" target=\"_blank\">cheerful-noodles-2</a></strong> to <a href=\"https://wandb.ai/sdat2/6D_individual\" target=\"_blank\">Weights & Biases</a> (<a href=\"https://wandb.me/run\" target=\"_blank\">docs</a>)<br/>"
      ],
      "text/plain": [
       "<IPython.core.display.HTML object>"
      ]
     },
     "metadata": {},
     "output_type": "display_data"
    },
    {
     "data": {
      "text/html": [
       " View project at <a href=\"https://wandb.ai/sdat2/6D_individual\" target=\"_blank\">https://wandb.ai/sdat2/6D_individual</a>"
      ],
      "text/plain": [
       "<IPython.core.display.HTML object>"
      ]
     },
     "metadata": {},
     "output_type": "display_data"
    },
    {
     "data": {
      "text/html": [
       " View run at <a href=\"https://wandb.ai/sdat2/6D_individual/runs/v0bj0bo3\" target=\"_blank\">https://wandb.ai/sdat2/6D_individual/runs/v0bj0bo3</a>"
      ],
      "text/plain": [
       "<IPython.core.display.HTML object>"
      ]
     },
     "metadata": {},
     "output_type": "display_data"
    },
    {
     "name": "stdout",
     "output_type": "stream",
     "text": [
      "<class 'list'>\n",
      "<xarray.Dataset>\n",
      "Dimensions:  (lat: 46, lon: 60, time: 1)\n",
      "Coordinates:\n",
      "  * lat      (lat) float64 28.6 28.65 28.7 28.75 28.8 ... 30.7 30.75 30.8 30.85\n",
      "  * lon      (lon) float64 -90.28 -90.23 -90.18 -90.13 ... -87.43 -87.38 -87.33\n",
      "  * time     (time) datetime64[ns] 2005-08-25\n",
      "Data variables:\n",
      "    U10      (time, lat, lon) float64 -0.0002917 -0.0002901 ... -0.0002321\n",
      "    V10      (time, lat, lon) float64 0.0006243 0.0006222 ... 0.0004675\n",
      "'prepare_run'  33.85771 s \n",
      "\n",
      "<class 'list'>\n",
      "<xarray.Dataset>\n",
      "Dimensions:  (lat: 100, lon: 100, time: 1)\n",
      "Coordinates:\n",
      "  * lat      (lat) float64 17.0 17.25 17.5 17.75 18.0 ... 41.0 41.25 41.5 41.75\n",
      "  * lon      (lon) float64 -99.0 -98.75 -98.5 -98.25 ... -74.75 -74.5 -74.25\n",
      "  * time     (time) datetime64[ns] 2005-08-25\n",
      "Data variables:\n",
      "    U10      (time, lat, lon) float64 -0.0001144 -0.000109 ... -0.0001049\n",
      "    V10      (time, lat, lon) float64 0.002245 0.002169 ... 0.0001764 0.000175\n",
      "'prepare_run'  02 min 00 s \n",
      "\n",
      "<class 'list'>\n",
      "<xarray.Dataset>\n",
      "Dimensions:  (lat: 46, lon: 60, time: 1)\n",
      "Coordinates:\n",
      "  * lat      (lat) float64 25.75 25.9 26.05 26.2 26.35 ... 32.05 32.2 32.35 32.5\n",
      "  * lon      (lon) float64 -92.2 -92.05 -91.9 -91.75 ... -83.65 -83.5 -83.35\n",
      "  * time     (time) datetime64[ns] 2005-08-25\n",
      "Data variables:\n",
      "    U10      (time, lat, lon) float64 -0.0003192 -0.0003135 ... -0.0001709\n",
      "    V10      (time, lat, lon) float64 0.0008214 0.0008114 ... 0.0003538 0.000351\n",
      "'prepare_run'  33.72176 s \n",
      "\n",
      "'create_inputs'  03 min 08 s \n",
      "\n"
     ]
    },
    {
     "name": "stderr",
     "output_type": "stream",
     "text": [
      "Sweep, dryrun=False:   0%|          | 1/250 [08:18<34:27:41, 498.24s/it]"
     ]
    },
    {
     "name": "stdout",
     "output_type": "stream",
     "text": [
      "'run_adcirc'  04 min 59 s \n",
      "\n",
      "height =   0.913799947524752 m\n"
     ]
    },
    {
     "data": {
      "text/html": [
       "Finishing last run (ID:v0bj0bo3) before initializing another..."
      ],
      "text/plain": [
       "<IPython.core.display.HTML object>"
      ]
     },
     "metadata": {},
     "output_type": "display_data"
    },
    {
     "data": {
      "text/html": [
       "Waiting for W&B process to finish... <strong style=\"color:green\">(success).</strong>"
      ],
      "text/plain": [
       "<IPython.core.display.HTML object>"
      ]
     },
     "metadata": {},
     "output_type": "display_data"
    },
    {
     "data": {
      "application/vnd.jupyter.widget-view+json": {
       "model_id": "d1c2e8c2d3ba4e6a83db180bd25d4720",
       "version_major": 2,
       "version_minor": 0
      },
      "text/plain": [
       "VBox(children=(Label(value='0.124 MB of 0.124 MB uploaded (0.000 MB deduped)\\r'), FloatProgress(value=1.0, max…"
      ]
     },
     "metadata": {},
     "output_type": "display_data"
    },
    {
     "data": {
      "text/html": [
       "<style>\n",
       "    table.wandb td:nth-child(1) { padding: 0 10px; text-align: left ; width: auto;} td:nth-child(2) {text-align: left ; width: 100%}\n",
       "    .wandb-row { display: flex; flex-direction: row; flex-wrap: wrap; justify-content: flex-start; width: 100% }\n",
       "    .wandb-col { display: flex; flex-direction: column; flex-basis: 100%; flex: 1; padding: 10px; }\n",
       "    </style>\n",
       "<div class=\"wandb-row\"><div class=\"wandb-col\"><h3>Run history:</h3><br/><table class=\"wandb\"><tr><td>angle</td><td>▁</td></tr><tr><td>height</td><td>▁</td></tr><tr><td>pc</td><td>▁</td></tr><tr><td>point_east</td><td>▁</td></tr><tr><td>rmax</td><td>▁</td></tr><tr><td>speed</td><td>▁</td></tr><tr><td>vmax</td><td>▁</td></tr><tr><td>xn</td><td>▁</td></tr></table><br/></div><div class=\"wandb-col\"><h3>Run summary:</h3><br/><table class=\"wandb\"><tr><td>angle</td><td>63.72</td></tr><tr><td>height</td><td>0.9138</td></tr><tr><td>pc</td><td>97440.00006</td></tr><tr><td>point_east</td><td>1.0812</td></tr><tr><td>rmax</td><td>22995.99934</td></tr><tr><td>speed</td><td>8.948</td></tr><tr><td>vmax</td><td>54.01667</td></tr><tr><td>xn</td><td>1.1372</td></tr></table><br/></div></div>"
      ],
      "text/plain": [
       "<IPython.core.display.HTML object>"
      ]
     },
     "metadata": {},
     "output_type": "display_data"
    },
    {
     "data": {
      "text/html": [
       " View run <strong style=\"color:#cdcd00\">cheerful-noodles-2</strong> at: <a href=\"https://wandb.ai/sdat2/6D_individual/runs/v0bj0bo3\" target=\"_blank\">https://wandb.ai/sdat2/6D_individual/runs/v0bj0bo3</a><br/>Synced 7 W&B file(s), 0 media file(s), 0 artifact file(s) and 1 other file(s)"
      ],
      "text/plain": [
       "<IPython.core.display.HTML object>"
      ]
     },
     "metadata": {},
     "output_type": "display_data"
    },
    {
     "data": {
      "text/html": [
       "Find logs at: <code>./wandb/run-20230202_212840-v0bj0bo3/logs</code>"
      ],
      "text/plain": [
       "<IPython.core.display.HTML object>"
      ]
     },
     "metadata": {},
     "output_type": "display_data"
    },
    {
     "data": {
      "text/html": [
       "Successfully finished last run (ID:v0bj0bo3). Initializing new run:<br/>"
      ],
      "text/plain": [
       "<IPython.core.display.HTML object>"
      ]
     },
     "metadata": {},
     "output_type": "display_data"
    },
    {
     "data": {
      "application/vnd.jupyter.widget-view+json": {
       "model_id": "1c6b6cdfc98e4623b78d522f99af80b4",
       "version_major": 2,
       "version_minor": 0
      },
      "text/plain": [
       "VBox(children=(Label(value='Waiting for wandb.init()...\\r'), FloatProgress(value=0.01673887778333286, max=1.0)…"
      ]
     },
     "metadata": {},
     "output_type": "display_data"
    },
    {
     "data": {
      "text/html": [
       "Tracking run with wandb version 0.13.9"
      ],
      "text/plain": [
       "<IPython.core.display.HTML object>"
      ]
     },
     "metadata": {},
     "output_type": "display_data"
    },
    {
     "data": {
      "text/html": [
       "Run data is saved locally in <code>/Users/simon/new-orleans/notebooks/exploratory/wandb/run-20230202_213657-ka5c5hdp</code>"
      ],
      "text/plain": [
       "<IPython.core.display.HTML object>"
      ]
     },
     "metadata": {},
     "output_type": "display_data"
    },
    {
     "data": {
      "text/html": [
       "Syncing run <strong><a href=\"https://wandb.ai/sdat2/6D_individual/runs/ka5c5hdp\" target=\"_blank\">alight-goat-3</a></strong> to <a href=\"https://wandb.ai/sdat2/6D_individual\" target=\"_blank\">Weights & Biases</a> (<a href=\"https://wandb.me/run\" target=\"_blank\">docs</a>)<br/>"
      ],
      "text/plain": [
       "<IPython.core.display.HTML object>"
      ]
     },
     "metadata": {},
     "output_type": "display_data"
    },
    {
     "data": {
      "text/html": [
       " View project at <a href=\"https://wandb.ai/sdat2/6D_individual\" target=\"_blank\">https://wandb.ai/sdat2/6D_individual</a>"
      ],
      "text/plain": [
       "<IPython.core.display.HTML object>"
      ]
     },
     "metadata": {},
     "output_type": "display_data"
    },
    {
     "data": {
      "text/html": [
       " View run at <a href=\"https://wandb.ai/sdat2/6D_individual/runs/ka5c5hdp\" target=\"_blank\">https://wandb.ai/sdat2/6D_individual/runs/ka5c5hdp</a>"
      ],
      "text/plain": [
       "<IPython.core.display.HTML object>"
      ]
     },
     "metadata": {},
     "output_type": "display_data"
    },
    {
     "name": "stdout",
     "output_type": "stream",
     "text": [
      "<class 'list'>\n",
      "<xarray.Dataset>\n",
      "Dimensions:  (lat: 46, lon: 60, time: 1)\n",
      "Coordinates:\n",
      "  * lat      (lat) float64 28.6 28.65 28.7 28.75 28.8 ... 30.7 30.75 30.8 30.85\n",
      "  * lon      (lon) float64 -90.28 -90.23 -90.18 -90.13 ... -87.43 -87.38 -87.33\n",
      "  * time     (time) datetime64[ns] 2005-08-25\n",
      "Data variables:\n",
      "    U10      (time, lat, lon) float64 -0.05697 -0.05666 ... -0.04824 -0.04802\n",
      "    V10      (time, lat, lon) float64 0.1234 0.1231 0.1227 ... 0.09568 0.09547\n",
      "'prepare_run'  34.46535 s \n",
      "\n",
      "<class 'list'>\n",
      "<xarray.Dataset>\n",
      "Dimensions:  (lat: 100, lon: 100, time: 1)\n",
      "Coordinates:\n",
      "  * lat      (lat) float64 17.0 17.25 17.5 17.75 18.0 ... 41.0 41.25 41.5 41.75\n",
      "  * lon      (lon) float64 -99.0 -98.75 -98.5 -98.25 ... -74.75 -74.5 -74.25\n",
      "  * time     (time) datetime64[ns] 2005-08-25\n",
      "Data variables:\n",
      "    U10      (time, lat, lon) float64 0.1101 0.1039 ... -0.02712 -0.02679\n",
      "    V10      (time, lat, lon) float64 0.3506 0.3395 0.3289 ... 0.04285 0.04264\n",
      "'prepare_run'  02 min 00 s \n",
      "\n",
      "<class 'list'>\n",
      "<xarray.Dataset>\n",
      "Dimensions:  (lat: 46, lon: 60, time: 1)\n",
      "Coordinates:\n",
      "  * lat      (lat) float64 25.75 25.9 26.05 26.2 26.35 ... 32.05 32.2 32.35 32.5\n",
      "  * lon      (lon) float64 -92.2 -92.05 -91.9 -91.75 ... -83.65 -83.5 -83.35\n",
      "  * time     (time) datetime64[ns] 2005-08-25\n",
      "Data variables:\n",
      "    U10      (time, lat, lon) float64 -0.05511 -0.05402 ... -0.03744 -0.03701\n",
      "    V10      (time, lat, lon) float64 0.1606 0.1589 0.1572 ... 0.07608 0.07565\n",
      "'prepare_run'  33.88113 s \n",
      "\n",
      "'create_inputs'  03 min 08 s \n",
      "\n"
     ]
    },
    {
     "name": "stderr",
     "output_type": "stream",
     "text": [
      "Sweep, dryrun=False:   1%|          | 2/250 [16:39<34:26:56, 500.07s/it]"
     ]
    },
    {
     "name": "stdout",
     "output_type": "stream",
     "text": [
      "'run_adcirc'  04 min 56 s \n",
      "\n",
      "height =   1.5530767323537717 m\n"
     ]
    },
    {
     "data": {
      "text/html": [
       "Finishing last run (ID:ka5c5hdp) before initializing another..."
      ],
      "text/plain": [
       "<IPython.core.display.HTML object>"
      ]
     },
     "metadata": {},
     "output_type": "display_data"
    },
    {
     "data": {
      "text/html": [
       "Waiting for W&B process to finish... <strong style=\"color:green\">(success).</strong>"
      ],
      "text/plain": [
       "<IPython.core.display.HTML object>"
      ]
     },
     "metadata": {},
     "output_type": "display_data"
    },
    {
     "data": {
      "application/vnd.jupyter.widget-view+json": {
       "model_id": "597ca1a828b64cd68f48183b1b1a0ac0",
       "version_major": 2,
       "version_minor": 0
      },
      "text/plain": [
       "VBox(children=(Label(value='0.124 MB of 0.124 MB uploaded (0.000 MB deduped)\\r'), FloatProgress(value=1.0, max…"
      ]
     },
     "metadata": {},
     "output_type": "display_data"
    },
    {
     "data": {
      "text/html": [
       "<style>\n",
       "    table.wandb td:nth-child(1) { padding: 0 10px; text-align: left ; width: auto;} td:nth-child(2) {text-align: left ; width: 100%}\n",
       "    .wandb-row { display: flex; flex-direction: row; flex-wrap: wrap; justify-content: flex-start; width: 100% }\n",
       "    .wandb-col { display: flex; flex-direction: column; flex-basis: 100%; flex: 1; padding: 10px; }\n",
       "    </style>\n",
       "<div class=\"wandb-row\"><div class=\"wandb-col\"><h3>Run history:</h3><br/><table class=\"wandb\"><tr><td>angle</td><td>▁</td></tr><tr><td>height</td><td>▁</td></tr><tr><td>pc</td><td>▁</td></tr><tr><td>point_east</td><td>▁</td></tr><tr><td>rmax</td><td>▁</td></tr><tr><td>speed</td><td>▁</td></tr><tr><td>vmax</td><td>▁</td></tr><tr><td>xn</td><td>▁</td></tr></table><br/></div><div class=\"wandb-col\"><h3>Run summary:</h3><br/><table class=\"wandb\"><tr><td>angle</td><td>62.28</td></tr><tr><td>height</td><td>1.55308</td></tr><tr><td>pc</td><td>93888.00001</td></tr><tr><td>point_east</td><td>0.1164</td></tr><tr><td>rmax</td><td>16732.00047</td></tr><tr><td>speed</td><td>6.068</td></tr><tr><td>vmax</td><td>54.01667</td></tr><tr><td>xn</td><td>1.3628</td></tr></table><br/></div></div>"
      ],
      "text/plain": [
       "<IPython.core.display.HTML object>"
      ]
     },
     "metadata": {},
     "output_type": "display_data"
    },
    {
     "data": {
      "text/html": [
       " View run <strong style=\"color:#cdcd00\">alight-goat-3</strong> at: <a href=\"https://wandb.ai/sdat2/6D_individual/runs/ka5c5hdp\" target=\"_blank\">https://wandb.ai/sdat2/6D_individual/runs/ka5c5hdp</a><br/>Synced 7 W&B file(s), 0 media file(s), 0 artifact file(s) and 0 other file(s)"
      ],
      "text/plain": [
       "<IPython.core.display.HTML object>"
      ]
     },
     "metadata": {},
     "output_type": "display_data"
    },
    {
     "data": {
      "text/html": [
       "Find logs at: <code>./wandb/run-20230202_213657-ka5c5hdp/logs</code>"
      ],
      "text/plain": [
       "<IPython.core.display.HTML object>"
      ]
     },
     "metadata": {},
     "output_type": "display_data"
    },
    {
     "data": {
      "text/html": [
       "Successfully finished last run (ID:ka5c5hdp). Initializing new run:<br/>"
      ],
      "text/plain": [
       "<IPython.core.display.HTML object>"
      ]
     },
     "metadata": {},
     "output_type": "display_data"
    },
    {
     "data": {
      "application/vnd.jupyter.widget-view+json": {
       "model_id": "79ea989b850e41c4b9cbe3b26f856a99",
       "version_major": 2,
       "version_minor": 0
      },
      "text/plain": [
       "VBox(children=(Label(value='Waiting for wandb.init()...\\r'), FloatProgress(value=0.01675143333333343, max=1.0)…"
      ]
     },
     "metadata": {},
     "output_type": "display_data"
    },
    {
     "data": {
      "text/html": [
       "Tracking run with wandb version 0.13.9"
      ],
      "text/plain": [
       "<IPython.core.display.HTML object>"
      ]
     },
     "metadata": {},
     "output_type": "display_data"
    },
    {
     "data": {
      "text/html": [
       "Run data is saved locally in <code>/Users/simon/new-orleans/notebooks/exploratory/wandb/run-20230202_214518-v7xhegve</code>"
      ],
      "text/plain": [
       "<IPython.core.display.HTML object>"
      ]
     },
     "metadata": {},
     "output_type": "display_data"
    },
    {
     "data": {
      "text/html": [
       "Syncing run <strong><a href=\"https://wandb.ai/sdat2/6D_individual/runs/v7xhegve\" target=\"_blank\">bright-cake-4</a></strong> to <a href=\"https://wandb.ai/sdat2/6D_individual\" target=\"_blank\">Weights & Biases</a> (<a href=\"https://wandb.me/run\" target=\"_blank\">docs</a>)<br/>"
      ],
      "text/plain": [
       "<IPython.core.display.HTML object>"
      ]
     },
     "metadata": {},
     "output_type": "display_data"
    },
    {
     "data": {
      "text/html": [
       " View project at <a href=\"https://wandb.ai/sdat2/6D_individual\" target=\"_blank\">https://wandb.ai/sdat2/6D_individual</a>"
      ],
      "text/plain": [
       "<IPython.core.display.HTML object>"
      ]
     },
     "metadata": {},
     "output_type": "display_data"
    },
    {
     "data": {
      "text/html": [
       " View run at <a href=\"https://wandb.ai/sdat2/6D_individual/runs/v7xhegve\" target=\"_blank\">https://wandb.ai/sdat2/6D_individual/runs/v7xhegve</a>"
      ],
      "text/plain": [
       "<IPython.core.display.HTML object>"
      ]
     },
     "metadata": {},
     "output_type": "display_data"
    },
    {
     "name": "stdout",
     "output_type": "stream",
     "text": [
      "<class 'list'>\n",
      "<xarray.Dataset>\n",
      "Dimensions:  (lat: 46, lon: 60, time: 1)\n",
      "Coordinates:\n",
      "  * lat      (lat) float64 28.6 28.65 28.7 28.75 28.8 ... 30.7 30.75 30.8 30.85\n",
      "  * lon      (lon) float64 -90.28 -90.23 -90.18 -90.13 ... -87.43 -87.38 -87.33\n",
      "  * time     (time) datetime64[ns] 2005-08-25\n",
      "Data variables:\n",
      "    U10      (time, lat, lon) float64 -1.186 -1.185 -1.183 ... -0.6224 -0.6195\n",
      "    V10      (time, lat, lon) float64 0.0586 0.06809 0.07755 ... 0.2361 0.2386\n",
      "'prepare_run'  34.31560 s \n",
      "\n",
      "<class 'list'>\n",
      "<xarray.Dataset>\n",
      "Dimensions:  (lat: 100, lon: 100, time: 1)\n",
      "Coordinates:\n",
      "  * lat      (lat) float64 17.0 17.25 17.5 17.75 18.0 ... 41.0 41.25 41.5 41.75\n",
      "  * lon      (lon) float64 -99.0 -98.75 -98.5 -98.25 ... -74.75 -74.5 -74.25\n",
      "  * time     (time) datetime64[ns] 2005-08-25\n",
      "Data variables:\n",
      "    U10      (time, lat, lon) float64 0.3208 0.3386 0.3575 ... -0.107 -0.1055\n",
      "    V10      (time, lat, lon) float64 -0.5003 -0.5124 ... 0.08895 0.08903\n",
      "'prepare_run'  02 min 01 s \n",
      "\n",
      "<class 'list'>\n",
      "<xarray.Dataset>\n",
      "Dimensions:  (lat: 46, lon: 60, time: 1)\n",
      "Coordinates:\n",
      "  * lat      (lat) float64 25.75 25.9 26.05 26.2 26.35 ... 32.05 32.2 32.35 32.5\n",
      "  * lon      (lon) float64 -92.2 -92.05 -91.9 -91.75 ... -83.65 -83.5 -83.35\n",
      "  * time     (time) datetime64[ns] 2005-08-25\n",
      "Data variables:\n",
      "    U10      (time, lat, lon) float64 -2.457 -2.557 -2.652 ... -0.3438 -0.3381\n",
      "    V10      (time, lat, lon) float64 -1.182 -1.116 -1.039 ... 0.2411 0.2422\n",
      "'prepare_run'  34.10699 s \n",
      "\n",
      "'create_inputs'  03 min 09 s \n",
      "\n"
     ]
    }
   ],
   "source": [
    "realholdout = SixDOFSearch(seed=0, dryrun=False, path=\"6D_Small_Holdout\", test_data_path=\"6DFake\")\n",
    "realholdout.run_initial(samples=250)\n",
    "realholdout.setup_active()\n",
    "realholdout.save_initial_data()"
   ]
  },
  {
   "cell_type": "code",
   "execution_count": null,
   "id": "e9c35ecd",
   "metadata": {},
   "outputs": [],
   "source": []
  }
 ],
 "metadata": {
  "hide_input": false,
  "kernelspec": {
   "display_name": "Python 3",
   "language": "python",
   "name": "python3"
  },
  "language_info": {
   "codemirror_mode": {
    "name": "ipython",
    "version": 3
   },
   "file_extension": ".py",
   "mimetype": "text/x-python",
   "name": "python",
   "nbconvert_exporter": "python",
   "pygments_lexer": "ipython3",
   "version": "3.8.13"
  },
  "varInspector": {
   "cols": {
    "lenName": 16,
    "lenType": 16,
    "lenVar": 40
   },
   "kernels_config": {
    "python": {
     "delete_cmd_postfix": "",
     "delete_cmd_prefix": "del ",
     "library": "var_list.py",
     "varRefreshCmd": "print(var_dic_list())"
    },
    "r": {
     "delete_cmd_postfix": ") ",
     "delete_cmd_prefix": "rm(",
     "library": "var_list.r",
     "varRefreshCmd": "cat(var_dic_list()) "
    }
   },
   "types_to_exclude": [
    "module",
    "function",
    "builtin_function_or_method",
    "instance",
    "_Feature"
   ],
   "window_display": false
  },
  "vscode": {
   "interpreter": {
    "hash": "cc96bf7d8208413cd08557877d9613ec72d8d2764ab17cd449b5bb9202b6bcff"
   }
  }
 },
 "nbformat": 4,
 "nbformat_minor": 5
}
