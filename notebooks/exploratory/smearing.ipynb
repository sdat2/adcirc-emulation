{
 "cells": [
  {
   "cell_type": "markdown",
   "id": "72401e86",
   "metadata": {},
   "source": [
    "# Smearing"
   ]
  },
  {
   "cell_type": "code",
   "execution_count": 4,
   "id": "9e86fbad",
   "metadata": {
    "ExecuteTime": {
     "end_time": "2022-11-22T18:01:18.984066Z",
     "start_time": "2022-11-22T18:01:18.972070Z"
    }
   },
   "outputs": [],
   "source": [
    "import os\n",
    "from src.data_loading.adcirc import read_pressures\n",
    "from src.constants import KAT_EX_PATH"
   ]
  },
  {
   "cell_type": "code",
   "execution_count": 6,
   "id": "07f2d147",
   "metadata": {
    "ExecuteTime": {
     "end_time": "2022-11-22T18:01:26.656594Z",
     "start_time": "2022-11-22T18:01:26.298049Z"
    }
   },
   "outputs": [],
   "source": [
    "da = read_pressures(os.path.join(KAT_EX_PATH, \"fort.221\"))\n"
   ]
  },
  {
   "cell_type": "code",
   "execution_count": 14,
   "id": "a9eca493",
   "metadata": {
    "ExecuteTime": {
     "end_time": "2022-11-22T18:03:29.947051Z",
     "start_time": "2022-11-22T18:03:29.926774Z"
    }
   },
   "outputs": [
    {
     "data": {
      "text/plain": [
       "array(['2005-08-25T03:00:00.000000000', '2005-08-25T06:00:00.000000000',\n",
       "       '2005-08-25T09:00:00.000000000', '2005-08-25T12:00:00.000000000',\n",
       "       '2005-08-25T15:00:00.000000000', '2005-08-25T18:00:00.000000000',\n",
       "       '2005-08-25T21:00:00.000000000', '2005-08-26T00:00:00.000000000',\n",
       "       '2005-08-26T03:00:00.000000000', '2005-08-26T06:00:00.000000000',\n",
       "       '2005-08-26T09:00:00.000000000', '2005-08-26T12:00:00.000000000',\n",
       "       '2005-08-26T15:00:00.000000000', '2005-08-26T18:00:00.000000000',\n",
       "       '2005-08-26T21:00:00.000000000', '2005-08-27T00:00:00.000000000',\n",
       "       '2005-08-27T03:00:00.000000000', '2005-08-27T06:00:00.000000000',\n",
       "       '2005-08-27T09:00:00.000000000', '2005-08-27T12:00:00.000000000',\n",
       "       '2005-08-27T15:00:00.000000000', '2005-08-27T18:00:00.000000000',\n",
       "       '2005-08-27T21:00:00.000000000', '2005-08-28T00:00:00.000000000',\n",
       "       '2005-08-28T03:00:00.000000000', '2005-08-28T06:00:00.000000000',\n",
       "       '2005-08-28T09:00:00.000000000', '2005-08-28T12:00:00.000000000',\n",
       "       '2005-08-28T15:00:00.000000000', '2005-08-28T18:00:00.000000000',\n",
       "       '2005-08-28T21:00:00.000000000', '2005-08-29T00:00:00.000000000',\n",
       "       '2005-08-29T03:00:00.000000000', '2005-08-29T06:00:00.000000000',\n",
       "       '2005-08-29T09:00:00.000000000', '2005-08-29T12:00:00.000000000',\n",
       "       '2005-08-29T15:00:00.000000000', '2005-08-29T18:00:00.000000000',\n",
       "       '2005-08-29T21:00:00.000000000', '2005-08-30T00:00:00.000000000',\n",
       "       '2005-08-30T03:00:00.000000000', '2005-08-30T06:00:00.000000000',\n",
       "       '2005-08-30T09:00:00.000000000', '2005-08-30T12:00:00.000000000',\n",
       "       '2005-08-30T15:00:00.000000000', '2005-08-30T18:00:00.000000000',\n",
       "       '2005-08-30T21:00:00.000000000', '2005-08-31T00:00:00.000000000',\n",
       "       '2005-08-31T03:00:00.000000000', '2005-08-31T06:00:00.000000000',\n",
       "       '2005-08-31T09:00:00.000000000', '2005-08-31T12:00:00.000000000',\n",
       "       '2005-08-31T15:00:00.000000000', '2005-08-31T18:00:00.000000000',\n",
       "       '2005-08-31T21:00:00.000000000', '2005-09-01T00:00:00.000000000'],\n",
       "      dtype='datetime64[ns]')"
      ]
     },
     "execution_count": 14,
     "metadata": {},
     "output_type": "execute_result"
    }
   ],
   "source": [
    "da.time.values + (da.time.values[:-1] - da.time.values[1:]).mean()\n",
    "da.time.values - (da.time.values[:-1] - da.time.values[1:]).mean()"
   ]
  },
  {
   "cell_type": "code",
   "execution_count": 13,
   "id": "2901a60d",
   "metadata": {
    "ExecuteTime": {
     "end_time": "2022-11-22T18:03:11.111263Z",
     "start_time": "2022-11-22T18:03:11.097488Z"
    }
   },
   "outputs": [
    {
     "data": {
      "text/plain": [
       "numpy.timedelta64(-10800000000000,'ns')"
      ]
     },
     "execution_count": 13,
     "metadata": {},
     "output_type": "execute_result"
    }
   ],
   "source": [
    "(da.time.values[:-1] - da.time.values[1:]).mean()"
   ]
  },
  {
   "cell_type": "code",
   "execution_count": null,
   "id": "ec722d3d",
   "metadata": {},
   "outputs": [],
   "source": []
  }
 ],
 "metadata": {
  "hide_input": false,
  "kernelspec": {
   "display_name": "Python 3 (ipykernel)",
   "language": "python",
   "name": "python3"
  },
  "language_info": {
   "codemirror_mode": {
    "name": "ipython",
    "version": 3
   },
   "file_extension": ".py",
   "mimetype": "text/x-python",
   "name": "python",
   "nbconvert_exporter": "python",
   "pygments_lexer": "ipython3",
   "version": "3.8.13"
  },
  "varInspector": {
   "cols": {
    "lenName": 16,
    "lenType": 16,
    "lenVar": 40
   },
   "kernels_config": {
    "python": {
     "delete_cmd_postfix": "",
     "delete_cmd_prefix": "del ",
     "library": "var_list.py",
     "varRefreshCmd": "print(var_dic_list())"
    },
    "r": {
     "delete_cmd_postfix": ") ",
     "delete_cmd_prefix": "rm(",
     "library": "var_list.r",
     "varRefreshCmd": "cat(var_dic_list()) "
    }
   },
   "types_to_exclude": [
    "module",
    "function",
    "builtin_function_or_method",
    "instance",
    "_Feature"
   ],
   "window_display": false
  }
 },
 "nbformat": 4,
 "nbformat_minor": 5
}
